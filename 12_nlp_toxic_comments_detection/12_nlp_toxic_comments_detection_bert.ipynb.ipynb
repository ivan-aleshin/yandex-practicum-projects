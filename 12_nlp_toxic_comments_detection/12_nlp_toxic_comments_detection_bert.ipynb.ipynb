{
 "cells": [
  {
   "cell_type": "markdown",
   "metadata": {
    "id": "YVbVEM4YFkuu"
   },
   "source": [
    "# Toxic Comments Detection"
   ]
  },
  {
   "cell_type": "markdown",
   "metadata": {},
   "source": [
    "**This is second part of work with pretrained Bert model implementation.**"
   ]
  },
  {
   "cell_type": "markdown",
   "metadata": {},
   "source": [
    "Online store \"Wikishop\" launches a new service. Now users can edit and supplement product descriptions, just like in wiki communities. That is, clients propose their edits and comment on the changes of others. The store needs a tool that will look for toxic comments and submit them for moderation.\n",
    "\n",
    "The purpose of this work is to build a machine learning iomodel that will detect toxic comments. We have marked data with the text of comments and the target attribute toxic. It is necessary to build a model with the F1 metric value not less than 0.75."
   ]
  },
  {
   "cell_type": "markdown",
   "metadata": {
    "id": "o_-QcJpEFkuv"
   },
   "source": [
    "## Prepairing"
   ]
  },
  {
   "cell_type": "markdown",
   "metadata": {
    "id": "G5iqAHtRvbkv"
   },
   "source": [
    "Installing required libraries"
   ]
  },
  {
   "cell_type": "code",
   "execution_count": 1,
   "metadata": {
    "colab": {
     "base_uri": "https://localhost:8080/"
    },
    "id": "ZUjMDlSHJR7L",
    "outputId": "e4f9a916-c1b4-46df-afe5-70ee8f411e05"
   },
   "outputs": [
    {
     "name": "stdout",
     "output_type": "stream",
     "text": [
      "Looking in indexes: https://pypi.org/simple, https://us-python.pkg.dev/colab-wheels/public/simple/\n",
      "Requirement already satisfied: transformers in /usr/local/lib/python3.10/dist-packages (4.29.2)\n",
      "Requirement already satisfied: filelock in /usr/local/lib/python3.10/dist-packages (from transformers) (3.12.0)\n",
      "Requirement already satisfied: huggingface-hub<1.0,>=0.14.1 in /usr/local/lib/python3.10/dist-packages (from transformers) (0.15.1)\n",
      "Requirement already satisfied: numpy>=1.17 in /usr/local/lib/python3.10/dist-packages (from transformers) (1.22.4)\n",
      "Requirement already satisfied: packaging>=20.0 in /usr/local/lib/python3.10/dist-packages (from transformers) (23.1)\n",
      "Requirement already satisfied: pyyaml>=5.1 in /usr/local/lib/python3.10/dist-packages (from transformers) (6.0)\n",
      "Requirement already satisfied: regex!=2019.12.17 in /usr/local/lib/python3.10/dist-packages (from transformers) (2022.10.31)\n",
      "Requirement already satisfied: requests in /usr/local/lib/python3.10/dist-packages (from transformers) (2.27.1)\n",
      "Requirement already satisfied: tokenizers!=0.11.3,<0.14,>=0.11.1 in /usr/local/lib/python3.10/dist-packages (from transformers) (0.13.3)\n",
      "Requirement already satisfied: tqdm>=4.27 in /usr/local/lib/python3.10/dist-packages (from transformers) (4.65.0)\n",
      "Requirement already satisfied: fsspec in /usr/local/lib/python3.10/dist-packages (from huggingface-hub<1.0,>=0.14.1->transformers) (2023.4.0)\n",
      "Requirement already satisfied: typing-extensions>=3.7.4.3 in /usr/local/lib/python3.10/dist-packages (from huggingface-hub<1.0,>=0.14.1->transformers) (4.5.0)\n",
      "Requirement already satisfied: urllib3<1.27,>=1.21.1 in /usr/local/lib/python3.10/dist-packages (from requests->transformers) (1.26.15)\n",
      "Requirement already satisfied: certifi>=2017.4.17 in /usr/local/lib/python3.10/dist-packages (from requests->transformers) (2022.12.7)\n",
      "Requirement already satisfied: charset-normalizer~=2.0.0 in /usr/local/lib/python3.10/dist-packages (from requests->transformers) (2.0.12)\n",
      "Requirement already satisfied: idna<4,>=2.5 in /usr/local/lib/python3.10/dist-packages (from requests->transformers) (3.4)\n"
     ]
    }
   ],
   "source": [
    "!pip install transformers"
   ]
  },
  {
   "cell_type": "markdown",
   "metadata": {
    "id": "_3d1--crvjBv"
   },
   "source": [
    "Importing libraries and modules"
   ]
  },
  {
   "cell_type": "code",
   "execution_count": 2,
   "metadata": {
    "colab": {
     "base_uri": "https://localhost:8080/",
     "height": 36
    },
    "id": "kdB8jiQNGN4v",
    "outputId": "15879618-6734-4346-9d4c-699479013ddc"
   },
   "outputs": [
    {
     "data": {
      "application/vnd.google.colaboratory.intrinsic+json": {
       "type": "string"
      },
      "text/plain": [
       "'/device:GPU:0'"
      ]
     },
     "execution_count": 2,
     "metadata": {},
     "output_type": "execute_result"
    }
   ],
   "source": [
    "import pandas as pd\n",
    "import numpy as np\n",
    "import tensorflow as tf\n",
    "import torch\n",
    "import transformers as ppb\n",
    "import seaborn as sns\n",
    "from sklearn.metrics import confusion_matrix\n",
    "from sklearn.model_selection import train_test_split\n",
    "from tqdm import notebook\n",
    "from sklearn.linear_model import LogisticRegression\n",
    "from sklearn.model_selection import GridSearchCV\n",
    "from sklearn.preprocessing import StandardScaler\n",
    "from sklearn.metrics import f1_score\n",
    "\n",
    "tf.test.gpu_device_name()"
   ]
  },
  {
   "cell_type": "markdown",
   "metadata": {
    "id": "gPREYeXhA7ej"
   },
   "source": [
    "Setting random state"
   ]
  },
  {
   "cell_type": "code",
   "execution_count": 3,
   "metadata": {
    "id": "ssFgcO5DA4uy"
   },
   "outputs": [],
   "source": [
    "RS = 23"
   ]
  },
  {
   "cell_type": "markdown",
   "metadata": {
    "id": "ManTycjSv5WX"
   },
   "source": [
    "Downloading the data"
   ]
  },
  {
   "cell_type": "markdown",
   "metadata": {},
   "source": [
    "*Due to course rules it is not allowed to share the data.*"
   ]
  },
  {
   "cell_type": "code",
   "execution_count": null,
   "metadata": {
    "colab": {
     "base_uri": "https://localhost:8080/"
    },
    "id": "AndqmEUeLuxz",
    "outputId": "c01c598b-9b93-47b1-974a-a261508599cb"
   },
   "outputs": [],
   "source": [
    "# not allowed to show the source of data"
   ]
  },
  {
   "cell_type": "markdown",
   "metadata": {
    "id": "fEPBGL62uWbJ"
   },
   "source": [
    "Reading the data"
   ]
  },
  {
   "cell_type": "code",
   "execution_count": 5,
   "metadata": {
    "id": "1mzHmvYAFkuw"
   },
   "outputs": [],
   "source": [
    "data = pd.read_csv('/content/toxic_comments.csv', index_col=0)"
   ]
  },
  {
   "cell_type": "markdown",
   "metadata": {
    "id": "vwuXTZTp_XVL"
   },
   "source": [
    "## Data Exploration"
   ]
  },
  {
   "cell_type": "code",
   "execution_count": 6,
   "metadata": {
    "colab": {
     "base_uri": "https://localhost:8080/",
     "height": 206
    },
    "id": "1QpD5QNyMkVl",
    "outputId": "9afd73e4-2412-4968-da3a-3a0a6defa59b"
   },
   "outputs": [
    {
     "data": {
      "text/html": [
       "\n",
       "  <div id=\"df-83196347-46c8-4192-9c46-9ee63c47de25\">\n",
       "    <div class=\"colab-df-container\">\n",
       "      <div>\n",
       "<style scoped>\n",
       "    .dataframe tbody tr th:only-of-type {\n",
       "        vertical-align: middle;\n",
       "    }\n",
       "\n",
       "    .dataframe tbody tr th {\n",
       "        vertical-align: top;\n",
       "    }\n",
       "\n",
       "    .dataframe thead th {\n",
       "        text-align: right;\n",
       "    }\n",
       "</style>\n",
       "<table border=\"1\" class=\"dataframe\">\n",
       "  <thead>\n",
       "    <tr style=\"text-align: right;\">\n",
       "      <th></th>\n",
       "      <th>text</th>\n",
       "      <th>toxic</th>\n",
       "    </tr>\n",
       "  </thead>\n",
       "  <tbody>\n",
       "    <tr>\n",
       "      <th>133339</th>\n",
       "      <td>Protected? \\n\\nWhy is this nation in particula...</td>\n",
       "      <td>0</td>\n",
       "    </tr>\n",
       "    <tr>\n",
       "      <th>27782</th>\n",
       "      <td>Its cool man... \\n\\nSo I was a little ticked a...</td>\n",
       "      <td>0</td>\n",
       "    </tr>\n",
       "    <tr>\n",
       "      <th>73945</th>\n",
       "      <td>Potsworth &amp; Co. artical \\n\\nThis may seem to b...</td>\n",
       "      <td>0</td>\n",
       "    </tr>\n",
       "    <tr>\n",
       "      <th>12392</th>\n",
       "      <td>42, 23 December 2007 (UTC)  12:</td>\n",
       "      <td>0</td>\n",
       "    </tr>\n",
       "    <tr>\n",
       "      <th>81574</th>\n",
       "      <td>This message is regarding the page Hautes Fagn...</td>\n",
       "      <td>0</td>\n",
       "    </tr>\n",
       "  </tbody>\n",
       "</table>\n",
       "</div>\n",
       "      <button class=\"colab-df-convert\" onclick=\"convertToInteractive('df-83196347-46c8-4192-9c46-9ee63c47de25')\"\n",
       "              title=\"Convert this dataframe to an interactive table.\"\n",
       "              style=\"display:none;\">\n",
       "        \n",
       "  <svg xmlns=\"http://www.w3.org/2000/svg\" height=\"24px\"viewBox=\"0 0 24 24\"\n",
       "       width=\"24px\">\n",
       "    <path d=\"M0 0h24v24H0V0z\" fill=\"none\"/>\n",
       "    <path d=\"M18.56 5.44l.94 2.06.94-2.06 2.06-.94-2.06-.94-.94-2.06-.94 2.06-2.06.94zm-11 1L8.5 8.5l.94-2.06 2.06-.94-2.06-.94L8.5 2.5l-.94 2.06-2.06.94zm10 10l.94 2.06.94-2.06 2.06-.94-2.06-.94-.94-2.06-.94 2.06-2.06.94z\"/><path d=\"M17.41 7.96l-1.37-1.37c-.4-.4-.92-.59-1.43-.59-.52 0-1.04.2-1.43.59L10.3 9.45l-7.72 7.72c-.78.78-.78 2.05 0 2.83L4 21.41c.39.39.9.59 1.41.59.51 0 1.02-.2 1.41-.59l7.78-7.78 2.81-2.81c.8-.78.8-2.07 0-2.86zM5.41 20L4 18.59l7.72-7.72 1.47 1.35L5.41 20z\"/>\n",
       "  </svg>\n",
       "      </button>\n",
       "      \n",
       "  <style>\n",
       "    .colab-df-container {\n",
       "      display:flex;\n",
       "      flex-wrap:wrap;\n",
       "      gap: 12px;\n",
       "    }\n",
       "\n",
       "    .colab-df-convert {\n",
       "      background-color: #E8F0FE;\n",
       "      border: none;\n",
       "      border-radius: 50%;\n",
       "      cursor: pointer;\n",
       "      display: none;\n",
       "      fill: #1967D2;\n",
       "      height: 32px;\n",
       "      padding: 0 0 0 0;\n",
       "      width: 32px;\n",
       "    }\n",
       "\n",
       "    .colab-df-convert:hover {\n",
       "      background-color: #E2EBFA;\n",
       "      box-shadow: 0px 1px 2px rgba(60, 64, 67, 0.3), 0px 1px 3px 1px rgba(60, 64, 67, 0.15);\n",
       "      fill: #174EA6;\n",
       "    }\n",
       "\n",
       "    [theme=dark] .colab-df-convert {\n",
       "      background-color: #3B4455;\n",
       "      fill: #D2E3FC;\n",
       "    }\n",
       "\n",
       "    [theme=dark] .colab-df-convert:hover {\n",
       "      background-color: #434B5C;\n",
       "      box-shadow: 0px 1px 3px 1px rgba(0, 0, 0, 0.15);\n",
       "      filter: drop-shadow(0px 1px 2px rgba(0, 0, 0, 0.3));\n",
       "      fill: #FFFFFF;\n",
       "    }\n",
       "  </style>\n",
       "\n",
       "      <script>\n",
       "        const buttonEl =\n",
       "          document.querySelector('#df-83196347-46c8-4192-9c46-9ee63c47de25 button.colab-df-convert');\n",
       "        buttonEl.style.display =\n",
       "          google.colab.kernel.accessAllowed ? 'block' : 'none';\n",
       "\n",
       "        async function convertToInteractive(key) {\n",
       "          const element = document.querySelector('#df-83196347-46c8-4192-9c46-9ee63c47de25');\n",
       "          const dataTable =\n",
       "            await google.colab.kernel.invokeFunction('convertToInteractive',\n",
       "                                                     [key], {});\n",
       "          if (!dataTable) return;\n",
       "\n",
       "          const docLinkHtml = 'Like what you see? Visit the ' +\n",
       "            '<a target=\"_blank\" href=https://colab.research.google.com/notebooks/data_table.ipynb>data table notebook</a>'\n",
       "            + ' to learn more about interactive tables.';\n",
       "          element.innerHTML = '';\n",
       "          dataTable['output_type'] = 'display_data';\n",
       "          await google.colab.output.renderOutput(dataTable, element);\n",
       "          const docLink = document.createElement('div');\n",
       "          docLink.innerHTML = docLinkHtml;\n",
       "          element.appendChild(docLink);\n",
       "        }\n",
       "      </script>\n",
       "    </div>\n",
       "  </div>\n",
       "  "
      ],
      "text/plain": [
       "                                                     text  toxic\n",
       "133339  Protected? \\n\\nWhy is this nation in particula...      0\n",
       "27782   Its cool man... \\n\\nSo I was a little ticked a...      0\n",
       "73945   Potsworth & Co. artical \\n\\nThis may seem to b...      0\n",
       "12392                     42, 23 December 2007 (UTC)  12:      0\n",
       "81574   This message is regarding the page Hautes Fagn...      0"
      ]
     },
     "execution_count": 6,
     "metadata": {},
     "output_type": "execute_result"
    }
   ],
   "source": [
    "data.sample(5)"
   ]
  },
  {
   "cell_type": "markdown",
   "metadata": {
    "id": "BpF1qHfZ-vt0"
   },
   "source": [
    "Exploring the distribution of comments length to see how many comments exceed length of 512 words."
   ]
  },
  {
   "cell_type": "code",
   "execution_count": 7,
   "metadata": {
    "colab": {
     "base_uri": "https://localhost:8080/",
     "height": 611
    },
    "id": "j_a1qUv_rLLY",
    "outputId": "67c7a718-c332-40f9-8dba-8599ae682f90"
   },
   "outputs": [
    {
     "data": {
      "text/plain": [
       "<Axes: >"
      ]
     },
     "execution_count": 7,
     "metadata": {},
     "output_type": "execute_result"
    },
    {
     "data": {
      "image/png": "[encoded data removed]",
      "text/plain": [
       "<Figure size 1500x800 with 1 Axes>"
      ]
     },
     "metadata": {},
     "output_type": "display_data"
    }
   ],
   "source": [
    "data['text'].apply(lambda x: len(x.split())).hist(figsize=(15, 8), bins=50)"
   ]
  },
  {
   "cell_type": "code",
   "execution_count": 8,
   "metadata": {
    "colab": {
     "base_uri": "https://localhost:8080/"
    },
    "id": "5lhS_uIbfv6B",
    "outputId": "619f9520-735c-48dd-e1dc-8e80006e8fa8"
   },
   "outputs": [
    {
     "data": {
      "text/plain": [
       "0.012360947191321598"
      ]
     },
     "execution_count": 8,
     "metadata": {},
     "output_type": "execute_result"
    }
   ],
   "source": [
    "(data['text'].apply(lambda x: len(x.split())) > 512).sum() / data.shape[0]"
   ]
  },
  {
   "cell_type": "markdown",
   "metadata": {
    "id": "c3AJ0_sg-6U8"
   },
   "source": [
    "Not so many. Only about 1% of coments won't fit in model completely. We can also suppose that it will be possible to detect toxic text only by a part of text."
   ]
  },
  {
   "cell_type": "markdown",
   "metadata": {
    "id": "Ya1MkEGt_-fr"
   },
   "source": [
    "In order to optimize the computational complexity, we will take not the entire dataset, but only a part of the data."
   ]
  },
  {
   "cell_type": "code",
   "execution_count": 9,
   "metadata": {
    "id": "TkUxFoI5rNse"
   },
   "outputs": [],
   "source": [
    "data = data.sample(40000, random_state=RS)"
   ]
  },
  {
   "cell_type": "code",
   "execution_count": 10,
   "metadata": {
    "colab": {
     "base_uri": "https://localhost:8080/"
    },
    "id": "epvxX1x5qp9O",
    "outputId": "033abb2b-9899-4996-fd69-b33c037942ea"
   },
   "outputs": [
    {
     "data": {
      "text/plain": [
       "(40000, 2)"
      ]
     },
     "execution_count": 10,
     "metadata": {},
     "output_type": "execute_result"
    }
   ],
   "source": [
    "data.shape"
   ]
  },
  {
   "cell_type": "markdown",
   "metadata": {
    "id": "X2tYarGGul3Q"
   },
   "source": [
    "## Tokenization"
   ]
  },
  {
   "cell_type": "markdown",
   "metadata": {
    "id": "0UyXtEV2_0Ar"
   },
   "source": [
    "Tokenizing texts of comments"
   ]
  },
  {
   "cell_type": "code",
   "execution_count": 11,
   "metadata": {
    "id": "MQImm55ck7HP"
   },
   "outputs": [],
   "source": [
    "tokenizer = ppb.AutoTokenizer.from_pretrained(\"unitary/toxic-bert\")"
   ]
  },
  {
   "cell_type": "code",
   "execution_count": 12,
   "metadata": {
    "colab": {
     "base_uri": "https://localhost:8080/"
    },
    "id": "TGSXjL47lGaH",
    "outputId": "8df320f2-3c10-484b-d327-a83d61fbb1b8"
   },
   "outputs": [
    {
     "name": "stdout",
     "output_type": "stream",
     "text": [
      "Tokenized (padded) data dimensions: (40000, 512)\n",
      "Attention mask dimensions: (40000, 512)\n"
     ]
    }
   ],
   "source": [
    "MAX_LENGTH = 512\n",
    "# Tokenizing data\n",
    "data_tokenized = data[\"text\"].apply(\n",
    "    lambda x: tokenizer.encode(\n",
    "        x,\n",
    "        add_special_tokens=True,\n",
    "        max_length=MAX_LENGTH,\n",
    "        truncation=True,\n",
    "        padding=\"max_length\",\n",
    "    )\n",
    ")\n",
    "\n",
    "# Type conversion\n",
    "data_padded = np.array([i for i in data_tokenized.values])\n",
    "\n",
    "# Creating attention mask\n",
    "attention_mask = np.where(data_padded != 0, 1, 0)\n",
    "\n",
    "print(f\"Tokenized (padded) data dimensions: {data_padded.shape}\")\n",
    "print(f\"Attention mask dimensions: {attention_mask.shape}\")"
   ]
  },
  {
   "cell_type": "code",
   "execution_count": 13,
   "metadata": {
    "colab": {
     "base_uri": "https://localhost:8080/"
    },
    "id": "FJJzHAqPlq2H",
    "outputId": "8ac857d0-c600-49fb-ae85-4f67728fffb9"
   },
   "outputs": [
    {
     "name": "stdout",
     "output_type": "stream",
     "text": [
      "Using device: cuda:0\n",
      "Device name: Tesla T4\n",
      "Memory allocated: 0.0 GB\n",
      "Memory cached: 0.0 GB\n"
     ]
    }
   ],
   "source": [
    "device = torch.device(\"cuda:0\" if torch.cuda.is_available() else \"cpu\")\n",
    "print(\"Using device: {}\".format(device))\n",
    "\n",
    "# Printing details of GPU device\n",
    "if device.type == \"cuda\":\n",
    "    gpu_device_name = torch.cuda.get_device_name(0)\n",
    "    gpu_memory_alloc_GB = torch.cuda.memory_allocated(0) / 1024**3\n",
    "    gpu_memory_cached_GB = torch.cuda.memory_reserved(0) / 1024**3\n",
    "\n",
    "    print(f\"Device name: {gpu_device_name}\")\n",
    "    print(f\"Memory allocated: {np.round(gpu_memory_alloc_GB, 1)} GB\")\n",
    "    print(f\"Memory cached: {np.round(gpu_memory_cached_GB, 1)} GB\")"
   ]
  },
  {
   "cell_type": "markdown",
   "metadata": {
    "id": "76n_WY_UuykO"
   },
   "source": [
    "## Embeddings"
   ]
  },
  {
   "cell_type": "markdown",
   "metadata": {},
   "source": [
    "Creating the embeddings."
   ]
  },
  {
   "cell_type": "code",
   "execution_count": 14,
   "metadata": {
    "colab": {
     "base_uri": "https://localhost:8080/"
    },
    "id": "2yY9Bk7klGi2",
    "outputId": "d7de84cf-c352-4fe5-9c9c-dec701895b26"
   },
   "outputs": [
    {
     "name": "stderr",
     "output_type": "stream",
     "text": [
      "Some weights of the model checkpoint at unitary/toxic-bert were not used when initializing BertModel: ['classifier.weight', 'classifier.bias']\n",
      "- This IS expected if you are initializing BertModel from the checkpoint of a model trained on another task or with another architecture (e.g. initializing a BertForSequenceClassification model from a BertForPreTraining model).\n",
      "- This IS NOT expected if you are initializing BertModel from the checkpoint of a model that you expect to be exactly identical (initializing a BertForSequenceClassification model from a BertForSequenceClassification model).\n"
     ]
    }
   ],
   "source": [
    "model = ppb.AutoModel.from_pretrained(\"unitary/toxic-bert\").to(device)"
   ]
  },
  {
   "cell_type": "code",
   "execution_count": 15,
   "metadata": {
    "colab": {
     "base_uri": "https://localhost:8080/",
     "height": 49,
     "referenced_widgets": [
      "1bd6fde96a6f48639b3cc1ab788a5575",
      "f05e46ffedef4ac7aa251c0581c06f70",
      "a0ba1045890b4c35949ddcd079e6d1ed",
      "482f5080d79d448184829023f772c7ad",
      "23a76921d26149b3a61a6763fb642271",
      "f8a18b78066d4eb0a5801cb49d3a1613",
      "e022d58f3b804546b1b5e22694845140",
      "f231e80f74e042bc804ad7067c3030de",
      "28ab174eb6ec433eb62b8fd559868b5a",
      "87e212915b674900a1c60d1820585ac5",
      "a1b3ec5a47be43ea8a6161472c13779b"
     ]
    },
    "id": "9RMbEZK8lGo-",
    "outputId": "4afdd52d-70d0-4566-8886-4feaa6cdd24b"
   },
   "outputs": [
    {
     "data": {
      "application/vnd.jupyter.widget-view+json": {
       "model_id": "1bd6fde96a6f48639b3cc1ab788a5575",
       "version_major": 2,
       "version_minor": 0
      },
      "text/plain": [
       "  0%|          | 0/400 [00:00<?, ?it/s]"
      ]
     },
     "metadata": {},
     "output_type": "display_data"
    }
   ],
   "source": [
    "batch_size = 100\n",
    "embeddings = []\n",
    "for i in notebook.tqdm(range(data_padded.shape[0] // batch_size)):\n",
    "    batch = torch.LongTensor(data_padded[batch_size * i : batch_size * (i + 1)]).to(device)\n",
    "    attention_mask_batch = torch.LongTensor(\n",
    "        attention_mask[batch_size * i : batch_size * (i + 1)]\n",
    "    ).to(device)\n",
    "\n",
    "    with torch.no_grad():\n",
    "        batch_embeddings = model(batch, attention_mask=attention_mask_batch)\n",
    "\n",
    "    embeddings.append(batch_embeddings[0][:, 0, :].cpu().numpy().astype('float16'))"
   ]
  },
  {
   "cell_type": "code",
   "execution_count": 16,
   "metadata": {
    "colab": {
     "base_uri": "https://localhost:8080/"
    },
    "id": "Y2pOaeBBOu8x",
    "outputId": "61db0029-ec70-4326-ca41-1dde7ac8f3b3"
   },
   "outputs": [
    {
     "name": "stdout",
     "output_type": "stream",
     "text": [
      "(40000, 768)\n",
      "(40000,)\n"
     ]
    }
   ],
   "source": [
    "X = np.concatenate(embeddings)\n",
    "y = data['toxic']\n",
    "print(X.shape)\n",
    "print(y.shape)"
   ]
  },
  {
   "cell_type": "markdown",
   "metadata": {
    "id": "noh7L2nNvFjn"
   },
   "source": [
    "## Data splitting"
   ]
  },
  {
   "cell_type": "markdown",
   "metadata": {},
   "source": [
    "Splitting the data in a ratio of 1 to 3"
   ]
  },
  {
   "cell_type": "code",
   "execution_count": 17,
   "metadata": {
    "id": "dFuVKVrcHSfJ"
   },
   "outputs": [],
   "source": [
    "X_train, X_test, y_train, y_test = train_test_split(X, y, test_size=0.25, random_state=RS, stratify=y)"
   ]
  },
  {
   "cell_type": "markdown",
   "metadata": {
    "id": "gHG6xed0vLZ_"
   },
   "source": [
    "## Training the model"
   ]
  },
  {
   "cell_type": "markdown",
   "metadata": {},
   "source": [
    "Now training the model with hyperparameter tuning on gridsearch with cross validation."
   ]
  },
  {
   "cell_type": "code",
   "execution_count": 18,
   "metadata": {
    "id": "Vrj94S6ldGW_"
   },
   "outputs": [],
   "source": [
    "params = {'C': [0.001, 0.01, 0.1, 1, 10]}"
   ]
  },
  {
   "cell_type": "code",
   "execution_count": 19,
   "metadata": {
    "id": "Ca-CnWSJM3IC"
   },
   "outputs": [],
   "source": [
    "gs = GridSearchCV(LogisticRegression(max_iter=5000), params, cv=5, scoring='f1')"
   ]
  },
  {
   "cell_type": "code",
   "execution_count": 20,
   "metadata": {
    "colab": {
     "base_uri": "https://localhost:8080/",
     "height": 117
    },
    "id": "quX0zYd8M2-H",
    "outputId": "0d7e8115-8dd5-410d-dcfd-4e8e15300132"
   },
   "outputs": [
    {
     "data": {
      "text/html": [
       "<style>#sk-container-id-1 {color: black;background-color: white;}#sk-container-id-1 pre{padding: 0;}#sk-container-id-1 div.sk-toggleable {background-color: white;}#sk-container-id-1 label.sk-toggleable__label {cursor: pointer;display: block;width: 100%;margin-bottom: 0;padding: 0.3em;box-sizing: border-box;text-align: center;}#sk-container-id-1 label.sk-toggleable__label-arrow:before {content: \"▸\";float: left;margin-right: 0.25em;color: #696969;}#sk-container-id-1 label.sk-toggleable__label-arrow:hover:before {color: black;}#sk-container-id-1 div.sk-estimator:hover label.sk-toggleable__label-arrow:before {color: black;}#sk-container-id-1 div.sk-toggleable__content {max-height: 0;max-width: 0;overflow: hidden;text-align: left;background-color: #f0f8ff;}#sk-container-id-1 div.sk-toggleable__content pre {margin: 0.2em;color: black;border-radius: 0.25em;background-color: #f0f8ff;}#sk-container-id-1 input.sk-toggleable__control:checked~div.sk-toggleable__content {max-height: 200px;max-width: 100%;overflow: auto;}#sk-container-id-1 input.sk-toggleable__control:checked~label.sk-toggleable__label-arrow:before {content: \"▾\";}#sk-container-id-1 div.sk-estimator input.sk-toggleable__control:checked~label.sk-toggleable__label {background-color: #d4ebff;}#sk-container-id-1 div.sk-label input.sk-toggleable__control:checked~label.sk-toggleable__label {background-color: #d4ebff;}#sk-container-id-1 input.sk-hidden--visually {border: 0;clip: rect(1px 1px 1px 1px);clip: rect(1px, 1px, 1px, 1px);height: 1px;margin: -1px;overflow: hidden;padding: 0;position: absolute;width: 1px;}#sk-container-id-1 div.sk-estimator {font-family: monospace;background-color: #f0f8ff;border: 1px dotted black;border-radius: 0.25em;box-sizing: border-box;margin-bottom: 0.5em;}#sk-container-id-1 div.sk-estimator:hover {background-color: #d4ebff;}#sk-container-id-1 div.sk-parallel-item::after {content: \"\";width: 100%;border-bottom: 1px solid gray;flex-grow: 1;}#sk-container-id-1 div.sk-label:hover label.sk-toggleable__label {background-color: #d4ebff;}#sk-container-id-1 div.sk-serial::before {content: \"\";position: absolute;border-left: 1px solid gray;box-sizing: border-box;top: 0;bottom: 0;left: 50%;z-index: 0;}#sk-container-id-1 div.sk-serial {display: flex;flex-direction: column;align-items: center;background-color: white;padding-right: 0.2em;padding-left: 0.2em;position: relative;}#sk-container-id-1 div.sk-item {position: relative;z-index: 1;}#sk-container-id-1 div.sk-parallel {display: flex;align-items: stretch;justify-content: center;background-color: white;position: relative;}#sk-container-id-1 div.sk-item::before, #sk-container-id-1 div.sk-parallel-item::before {content: \"\";position: absolute;border-left: 1px solid gray;box-sizing: border-box;top: 0;bottom: 0;left: 50%;z-index: -1;}#sk-container-id-1 div.sk-parallel-item {display: flex;flex-direction: column;z-index: 1;position: relative;background-color: white;}#sk-container-id-1 div.sk-parallel-item:first-child::after {align-self: flex-end;width: 50%;}#sk-container-id-1 div.sk-parallel-item:last-child::after {align-self: flex-start;width: 50%;}#sk-container-id-1 div.sk-parallel-item:only-child::after {width: 0;}#sk-container-id-1 div.sk-dashed-wrapped {border: 1px dashed gray;margin: 0 0.4em 0.5em 0.4em;box-sizing: border-box;padding-bottom: 0.4em;background-color: white;}#sk-container-id-1 div.sk-label label {font-family: monospace;font-weight: bold;display: inline-block;line-height: 1.2em;}#sk-container-id-1 div.sk-label-container {text-align: center;}#sk-container-id-1 div.sk-container {/* jupyter's `normalize.less` sets `[hidden] { display: none; }` but bootstrap.min.css set `[hidden] { display: none !important; }` so we also need the `!important` here to be able to override the default hidden behavior on the sphinx rendered scikit-learn.org. See: https://github.com/scikit-learn/scikit-learn/issues/21755 */display: inline-block !important;position: relative;}#sk-container-id-1 div.sk-text-repr-fallback {display: none;}</style><div id=\"sk-container-id-1\" class=\"sk-top-container\"><div class=\"sk-text-repr-fallback\"><pre>GridSearchCV(cv=5, estimator=LogisticRegression(max_iter=5000),\n",
       "             param_grid={&#x27;C&#x27;: [0.001, 0.01, 0.1, 1, 10]}, scoring=&#x27;f1&#x27;)</pre><b>In a Jupyter environment, please rerun this cell to show the HTML representation or trust the notebook. <br />On GitHub, the HTML representation is unable to render, please try loading this page with nbviewer.org.</b></div><div class=\"sk-container\" hidden><div class=\"sk-item sk-dashed-wrapped\"><div class=\"sk-label-container\"><div class=\"sk-label sk-toggleable\"><input class=\"sk-toggleable__control sk-hidden--visually\" id=\"sk-estimator-id-1\" type=\"checkbox\" ><label for=\"sk-estimator-id-1\" class=\"sk-toggleable__label sk-toggleable__label-arrow\">GridSearchCV</label><div class=\"sk-toggleable__content\"><pre>GridSearchCV(cv=5, estimator=LogisticRegression(max_iter=5000),\n",
       "             param_grid={&#x27;C&#x27;: [0.001, 0.01, 0.1, 1, 10]}, scoring=&#x27;f1&#x27;)</pre></div></div></div><div class=\"sk-parallel\"><div class=\"sk-parallel-item\"><div class=\"sk-item\"><div class=\"sk-label-container\"><div class=\"sk-label sk-toggleable\"><input class=\"sk-toggleable__control sk-hidden--visually\" id=\"sk-estimator-id-2\" type=\"checkbox\" ><label for=\"sk-estimator-id-2\" class=\"sk-toggleable__label sk-toggleable__label-arrow\">estimator: LogisticRegression</label><div class=\"sk-toggleable__content\"><pre>LogisticRegression(max_iter=5000)</pre></div></div></div><div class=\"sk-serial\"><div class=\"sk-item\"><div class=\"sk-estimator sk-toggleable\"><input class=\"sk-toggleable__control sk-hidden--visually\" id=\"sk-estimator-id-3\" type=\"checkbox\" ><label for=\"sk-estimator-id-3\" class=\"sk-toggleable__label sk-toggleable__label-arrow\">LogisticRegression</label><div class=\"sk-toggleable__content\"><pre>LogisticRegression(max_iter=5000)</pre></div></div></div></div></div></div></div></div></div></div>"
      ],
      "text/plain": [
       "GridSearchCV(cv=5, estimator=LogisticRegression(max_iter=5000),\n",
       "             param_grid={'C': [0.001, 0.01, 0.1, 1, 10]}, scoring='f1')"
      ]
     },
     "execution_count": 20,
     "metadata": {},
     "output_type": "execute_result"
    }
   ],
   "source": [
    "gs.fit(X_train, y_train)"
   ]
  },
  {
   "cell_type": "code",
   "execution_count": 21,
   "metadata": {
    "colab": {
     "base_uri": "https://localhost:8080/"
    },
    "id": "q10GQTGiSSP4",
    "outputId": "03cfc065-fdc4-49bf-c15f-c72fc9b7580f"
   },
   "outputs": [
    {
     "data": {
      "text/plain": [
       "{'C': 1}"
      ]
     },
     "execution_count": 21,
     "metadata": {},
     "output_type": "execute_result"
    }
   ],
   "source": [
    "gs.best_params_"
   ]
  },
  {
   "cell_type": "code",
   "execution_count": 22,
   "metadata": {
    "colab": {
     "base_uri": "https://localhost:8080/"
    },
    "id": "kI37Btpe1pKa",
    "outputId": "09040bd8-5d7d-4ee4-98bc-4e365c0ba012"
   },
   "outputs": [
    {
     "data": {
      "text/plain": [
       "0.947493963968846"
      ]
     },
     "execution_count": 22,
     "metadata": {},
     "output_type": "execute_result"
    }
   ],
   "source": [
    "gs.best_score_"
   ]
  },
  {
   "cell_type": "markdown",
   "metadata": {},
   "source": [
    "Pretty good score."
   ]
  },
  {
   "cell_type": "markdown",
   "metadata": {
    "id": "C_BBLqI4vPzv"
   },
   "source": [
    "## Testing the model"
   ]
  },
  {
   "cell_type": "code",
   "execution_count": 23,
   "metadata": {
    "id": "G-yXY9njCBeL"
   },
   "outputs": [],
   "source": [
    "preds = gs.best_estimator_.predict(X_test)"
   ]
  },
  {
   "cell_type": "code",
   "execution_count": 24,
   "metadata": {
    "colab": {
     "base_uri": "https://localhost:8080/"
    },
    "id": "dRfY3TfeMgNw",
    "outputId": "952b7d85-4d0f-48ae-a1a6-8ec65da50275",
    "scrolled": true
   },
   "outputs": [
    {
     "data": {
      "text/plain": [
       "0.9393191909225456"
      ]
     },
     "execution_count": 24,
     "metadata": {},
     "output_type": "execute_result"
    }
   ],
   "source": [
    "f1_score(y_test, preds)"
   ]
  },
  {
   "cell_type": "markdown",
   "metadata": {},
   "source": [
    "The result on test split is slightly lower"
   ]
  },
  {
   "cell_type": "markdown",
   "metadata": {
    "id": "JSANeBrCvTNP"
   },
   "source": [
    "## Exploration"
   ]
  },
  {
   "cell_type": "code",
   "execution_count": 25,
   "metadata": {
    "colab": {
     "base_uri": "https://localhost:8080/",
     "height": 430
    },
    "id": "0QS1KF_2iQoM",
    "outputId": "f0b63206-45fe-4a3e-871b-550893ac246b"
   },
   "outputs": [
    {
     "data": {
      "image/png": "[encoded data removed]",
      "text/plain": [
       "<Figure size 640x480 with 2 Axes>"
      ]
     },
     "metadata": {},
     "output_type": "display_data"
    }
   ],
   "source": [
    "sns.heatmap(confusion_matrix(y_test, preds), annot=True, cmap=\"crest\");"
   ]
  },
  {
   "cell_type": "markdown",
   "metadata": {
    "id": "hAI0XNpQ_DjA"
   },
   "source": [
    "The results are good. Out of 10,000 comments, only 65 of them marked as toxic were misinterpreted as non-toxic and 58 marked as non-toxic were classified as toxic. Now let's look at the text of those comments in which the model made mistakes."
   ]
  },
  {
   "cell_type": "code",
   "execution_count": 26,
   "metadata": {
    "id": "4QoSgs2lydC2"
   },
   "outputs": [],
   "source": [
    "result = pd.concat([y_test, pd.Series(preds, index=y_test.index)], axis=1)\n",
    "result.columns = ['true', 'preds']\n",
    "errors = result[result['true'] != result['preds']].index"
   ]
  },
  {
   "cell_type": "markdown",
   "metadata": {
    "id": "qbog-VZmAS7X"
   },
   "source": [
    "Showing the text of first 20 comments"
   ]
  },
  {
   "cell_type": "code",
   "execution_count": 27,
   "metadata": {
    "colab": {
     "base_uri": "https://localhost:8080/"
    },
    "id": "gK6xVn5PzZOV",
    "outputId": "c194620a-5f16-4b2f-b2b3-52b77e219fce"
   },
   "outputs": [
    {
     "name": "stdout",
     "output_type": "stream",
     "text": [
      "What makes you think that I care about anything such an obviously unhinged person has to say about ducks or expressos or anything else? Step away from the computer, stop masturbating, and get some help. 193.109.199.35\n",
      "NON TOXIC\n",
      "--------------------\n",
      "A classic BWilkins block, with all the familiar traits to experienced observers - brevity, arrogance and ultimately, ineffectiveness. In true BWilkins style though, someone else has to take his nonsense blocks to their inevitable conclusion . So take your bow Reaper Eternal, there's a good lad.\n",
      "\n",
      "So here goes, BWilkins presumably blocked me because he thought I was about to OUT someone, yet in his incompetence failed to lock this page, so.....drum roll......User:Mo ainm used to be User:BigDunc, the account that 'retired' and never went back to editting the same articles, pulling the same stunts, or so the public record would have you believe.\n",
      "\n",
      "Yes, that's the super secret information that the esteemed *arbitrator* Elen of the Roads thinks should be permanently stricken from the record, even though he's now the very conspicuous last man standing of a clique of Irish Republican editors who have been skewing Wikipedia articles for YEARS using the same despicable tactics, and are only now starting to be noticed by the sloths who work AE and be dealt with as appropriate (or 'retire' as they see the wriitng on the wall for their hard won 'reputations' as editors in 'good standing' who never got noticed by the dumbshits who are supposed to monitor editors for compliance with all policies, not just the easy ones).\n",
      "\n",
      "Mo survives due in no small part to the fact that none of his mates ever had the good fortune of getting away with a mid-life secret change of identity, as well as the general cowardice of people like BWilkins, who usually run a mile rather than deal with something complex like GAMEing on Irish republican related articles. Nope, that's far too much like work for that lazy prick.\n",
      "\n",
      "This change of identity is being covered up by Elen on the grounds of OUTing. Yes, that's right, Elen wants to stake her reputation on a patently ridiculous claim that knowing that Mo ainm is really a bloke called Duncan who lives in Ireland, is a violation of WP:OUTING, just to cover up the fact that she never bothered to verify whether this was 100% grade A bullshit before she started blocking people for calling it as such, those who were there at the beginning and know just exactly how this lucky cunt came to have this excuse land in his lap and save him from a complete FAIL in understanding what is and is not a CLEANSTART.\n",
      "\n",
      "So here we are, with sponge brained morons like Reaper and detestible assholes like BWilkins continuing the farce with blocks and censures like this. So well done guys. Assuming neither of you has the backbone to do the necessary and end this farce once and for all by calling Elen out on her lies, one of you has to now ensure this post gets oversighted so she can continue this OUTing bullshit story of hers to cover her own incompetent deceitful ass. (ab)use of oversight is logged, so it's at least good to have more names added to the list of people who've enabled this bullshit for so long anyway, it was starting to look like a one woman crusade.\n",
      "\n",
      "So....to be continued, as soon as I can register another account (ie in 5 seconds or so).\n",
      "TOXIC\n",
      "--------------------\n",
      "Let me help you out here \n",
      "\n",
      "I'm a sock puppet too! 70.3.5.246\n",
      "TOXIC\n",
      "--------------------\n",
      "what you are leaving on the Halloween page is a lie \n",
      "\n",
      "it is because people like you that the world has problems. You know there is a line that drops a pawn but you wish to possess all the chess pages. You allow sources that you yourself deem reliable which are equally webpages and you seem to have too much time on your hands that you are this compulsive about changing the material. Regardless of weather you found some other fool to agree with you. My material is already known I was only trying to correct a blunder. You know its a blunder and you lie and list it as a refutation because you are stubborn. You will live with yourself and liars like you will control pages this is why the content of so many things in life are low(not just chess). Because everyone can only keep up with the lowest common denominator such as yourself. So ban me. But don't ever forget these words. The world can not move at a pace faster than the lowest common denominator and the lowest common denominator lies. When you allow the truth, the world will be a better place. You will not say something is refuted when its not. You should really look at my analysis. Its very beautiful. I have worked on it all my life. You can allow a lie on any page but the one thing you can never change in this world is the truth. I will not be reading your response so don't bother. Just take it and realize you are the lowest common denominator. That you allow sources at your discretion because you do not like me. I will not be back to respond. Have fun with your page, it does not make you a better player but its all you have got. Until you stop lying. 166.137.88.42\n",
      "NON TOXIC\n",
      "--------------------\n",
      "What makes you think that I care about anything such an obviously unhinged person has to say about ducks or expressos or socks or anything else? Leave me alone. 193.109.199.35\n",
      "TOXIC\n",
      "--------------------\n",
      "Do you think placing a win cork up one's ass is an effective way of dealing with Crohns? Fascinating yet bizarre\n",
      "NON TOXIC\n",
      "--------------------\n",
      "Why do you delete my comments? It's a good freaking idea, people like to see tits 131.151.66.248\n",
      "NON TOXIC\n",
      "--------------------\n",
      "And no one knows more about stalking and wasting time than Nellie the Cunt\n",
      "NON TOXIC\n",
      "--------------------\n",
      "\"\n",
      "\n",
      " re: msg \n",
      "\n",
      "you must understand that the sentence in question was originally added as a joke (by me, and i regret that), but later was restructured and even supported with a botched up \"\"evidence\"\" by someone with a vested interest of laundering the effects of msg. there is no evidence of the effects on humans being different from that on rats. the \"\"supporting study\"\" that i keep deleting is a non-scientific SURVEY. GIMME A BREAK! some freakin SURVEY is used to PROVE that msg does not cause obesity in people???\n",
      "\n",
      "just flip a few weeks back in the history and you will see how the original subsection appeared.\"\n",
      "TOXIC\n",
      "--------------------\n",
      "Chuckle Chuckle \n",
      "\n",
      "I think that I am going to sue you for being mean to me. I'll get my llawer, and you can get yours! lets see who wins in that fight. Ha!\n",
      "\n",
      "Love Ya - xxxx\n",
      "TOXIC\n",
      "--------------------\n",
      "\"\n",
      "\n",
      "The inclusion below....\n",
      "\n",
      "\n",
      "Quote: To avoid being blocked, instead of reverting please consider using the article's talk page to work toward making a version that represents consensus among editors. \n",
      "\n",
      "!!!!THAT IS WHAT I AM DOING!!!!\n",
      "\n",
      "REFRAIN FROM DELETING THE TALK PAGE CONTRIBUTION WITHOUT PROVIDING A VALID REASON OR BETTER TIPS FOR IMPROVEMENT. AFTER ALL THIS IS ONLY THE TALK PAGE\n",
      "\n",
      "sources for the below mentioned contribution:\n",
      "\n",
      " http://au.businessinsider.com/embarrassing-and-damaging-zuckerberg-ims-confirmed-by-zuckerberg-the-new-yorker-2010-9\n",
      "\n",
      "Other sections on Wikipedia where Controversial Remarks is valid: \n",
      "\n",
      " Bryant Gumbel (section Controversial remarks)\n",
      " Mel Gibson (section Controversial remarks)\n",
      " Sherrod Brown (section Controversial remarks)\n",
      " Kent Hovind (section Controversial remarks)\n",
      " Venkaiah Naidu (section Controversial Remarks)\n",
      " Greg Gutfeld (section Controversial remarks)\n",
      " Lawrence Cannon (section Controversial remarks)\n",
      " Daniel Bernard (diplomat) (section Controversial remark)\n",
      " James R. Flynn (section Controversial remarks)\n",
      "\n",
      "and many many more\n",
      "\n",
      "start.\n",
      "\n",
      " \n",
      "Zuck: Yeah so if you ever need info about anyone at Harvard\n",
      "\n",
      "Zuck: Just ask.\n",
      "\n",
      "Zuck: I have over 4,000 emails, pictures, addresses, SNS\n",
      "\n",
      "[Redacted Friend's Name]: What? How'd you manage that one?\n",
      "\n",
      "Zuck: People just submitted it.\n",
      "\n",
      "Zuck: I don't know why.\n",
      "\n",
      "Zuck: They \"\"trust me\"\"\n",
      "\n",
      "Zuck: Dumb fucks.\n",
      "\n",
      "In another instant message (IM)\n",
      "\n",
      "FRIEND: so have you decided what you are going to do about the websites?\n",
      "\n",
      "ZUCK: yea i’m going to fuck them\n",
      "\n",
      "ZUCK: probably in the year\n",
      "\n",
      "ZUCK: *ear\n",
      "\n",
      "end.\n",
      "\n",
      "\"\n",
      "NON TOXIC\n",
      "--------------------\n",
      "Thanks===\n",
      "So what the Hell is problem===  you cant just go around and fix stuff that you know nothing about.  look at the facts before you think you know it all I have looked and some of the changes you have done, and you know nothing about anthing,  If I had my way I would have yo ubanned.........\n",
      "NON TOXIC\n",
      "--------------------\n",
      "Terminall\n",
      "\n",
      "I liked your personal story. Don't worry about making mistakes here at Wikipedia. As long as you aren't a dick like IMP (spewage)\n",
      "TOXIC\n",
      "--------------------\n",
      "wikipedia.org for my fans i leave for one second and Wikipedia has blocked my published content for racist organizations who spam and/or advertize in the search engines under wikipedia.org name. would you like me to should you the links or the world the links? I am sick of the racism on wikipedia.org. stop blocking my publishing that is in fact not spam and not advertizing anything. It is my life, a real american, in america.\n",
      "TOXIC\n",
      "--------------------\n",
      "\", 21 April 2008 (UTC)\n",
      "\n",
      "Hey Merzul, glad you have a sense of humor too.  There is actually a policy that admins are supposed to follow when a block might be controversial.  Obviosuly the admin in question and I have not seen eye to eye on the talk page of an extreemly controversial subject.  According to that policy he should have mentioned his intent to block me the admin notification board to let the other admins know prior top blocking me.  He did not do that.  He also is obligated to provide me with some specifics which he did not do.  And \"\"Final warning\"\" suggests a previous warning had been given.  I would not be shocked if all my comments here get deleted and he uses WP:Soapbox as an excuse.  Oh well, what are you gonna do.  The only thing that bothers me is I cannot post anything on any of the admin boards to get a question or two answered and I cannot post on NCDave's talk page (he would appreciate the irony here I think).  He also deleted my comments on the talk page yet he leaves dozens of actual viscous attacks done by others there, I attacked no one so this selective enforcement makes me smile too.   I suspect the \"\"batman\"\" comment sent him over the top (I'm Batman).  But we have one guy claiming he's a nuclear scientists and therefore evolution is wrong, another guy (who this Night dude is demonstrably sympathetic too) who claims he's a doctor and has proven evolution to be false, so I figured letting the cat out of the bag and admitting I'm batman was just as relevant (shhh mum's the word, my wife would kill me if she knew I was a crime fighter).  The talk page is obviously not a place for people to claim they can/have proven evolution to be wrong nor is it a good place to appeal to one's own authority.  But, in Nightguy's eyes I guess you can claim you're a nuclear scientist but claiming to be batman somehow violates some policy. \n",
      "\n",
      "To be clear, I'm seeing this as idiotically funny and not ranting against admins or Wikipedia.  Anyhow, here's to appreciating the occassional absurdity in life!  19:15\"\n",
      "TOXIC\n",
      "--------------------\n",
      "Ah come on. Not even jokes are tolerated? On an anonymus user page.\n",
      "\n",
      "Fine. Mr. Lilithborne doesn't molest goats.\n",
      "\n",
      "But perhaps Rams...\n",
      "TOXIC\n",
      "--------------------\n",
      "I dont care. I have at least one proof link. You are so stupid that you dont know how to translate my link. And of couse you dont have any argument or link. Additionaly you must read discussion page. And again. T-72 dont have any ammo in turret.\n",
      "NON TOXIC\n",
      "--------------------\n",
      "\"\n",
      "\n",
      "Your polices are nothing but lies. Also... WTF is an \"\"ip\"\"? Do you mean IP? I suggest you get people to teach your editors basic English.\n",
      "And as a matter of fact, I have an account. And I will edit and spam all I like, good day, cunt. -)\"\n",
      "NON TOXIC\n",
      "--------------------\n",
      "\"\n",
      "Your quite welcome you deserve it dog\"\n",
      "TOXIC\n",
      "--------------------\n",
      "Feel free to ban me another week for that one, you lazy superficial jurists.:-)\n",
      "TOXIC\n",
      "--------------------\n"
     ]
    }
   ],
   "source": [
    "for line in errors[:20]:\n",
    "    print(data.loc[line]['text'])\n",
    "    print('TOXIC' if data.loc[line]['toxic'] else 'NON TOXIC')\n",
    "    print('-' * 20)"
   ]
  },
  {
   "cell_type": "markdown",
   "metadata": {},
   "source": [
    "If we look carefully at the texts of the comments, we can notice in most cases there were markup errors. Or the toxicity of a particular comment is difficult to assess out of context."
   ]
  },
  {
   "cell_type": "markdown",
   "metadata": {
    "id": "aNXgPtuxFku9"
   },
   "source": [
    "## Conclusion"
   ]
  },
  {
   "cell_type": "markdown",
   "metadata": {},
   "source": [
    "The data contains 159292 lines of text messages. The ratio of classes in the data is approximately 1:9. No gaps or duplicates found. In order to optimize computing resources for the study of the pre-trained model based on Bert, it was decided to use only a part of the data (40'000 lines).\n",
    "About 1% of all data was longer than the number of tokens that the model can accept as input. This is a small amount. In addition, we assume that the toxicity of most texts can probably be determined by the first 5 hundred tokens.\n",
    "\n",
    "The pretrained 'unitary/toxic-bert' model was used.\n",
    "First, the texts were tokenized by the tokenizer built into the model, then they were converted into embeddings, that is, a vector representation. After that, for classification, we used the usual linear regression on the obtained embeddings.\n",
    "\n",
    "Further, the data were divided into training and test sets. We carried out the selection of hyperparameters on Gridsearch with cross-validation. We got a result on the F1 score of almost 0.95. Next, the model was tested on a test set. On it, the model showed the result F1 Score 0.94.\n",
    "\n",
    "Out of 10000 comments, the model was wrong by about 100. When reviewing these comments, it turned out that many of them had markup errors. As well as difficulties in classifying in the absence of context."
   ]
  },
  {
   "cell_type": "code",
   "execution_count": 27,
   "metadata": {
    "id": "ZW8PySpTFku9"
   },
   "outputs": [],
   "source": []
  }
 ],
 "metadata": {
  "ExecuteTimeLog": [
   {
    "duration": 391,
    "start_time": "2023-02-07T08:02:23.664Z"
   },
   {
    "duration": 3516,
    "start_time": "2023-02-07T08:02:37.468Z"
   },
   {
    "duration": 13,
    "start_time": "2023-02-07T08:02:45.163Z"
   },
   {
    "duration": 4,
    "start_time": "2023-02-07T08:02:55.721Z"
   },
   {
    "duration": 32,
    "start_time": "2023-02-07T08:02:59.793Z"
   },
   {
    "duration": 27,
    "start_time": "2023-02-07T08:03:15.913Z"
   },
   {
    "duration": 12,
    "start_time": "2023-02-07T08:04:01.346Z"
   },
   {
    "duration": 67,
    "start_time": "2023-02-07T08:04:08.653Z"
   },
   {
    "duration": 14,
    "start_time": "2023-02-07T08:04:22.048Z"
   },
   {
    "duration": 5,
    "start_time": "2023-02-07T08:05:18.852Z"
   },
   {
    "duration": 13,
    "start_time": "2023-02-07T08:05:51.929Z"
   },
   {
    "duration": 21,
    "start_time": "2023-02-07T08:08:09.278Z"
   },
   {
    "duration": 6,
    "start_time": "2023-02-07T08:08:38.394Z"
   },
   {
    "duration": 10,
    "start_time": "2023-02-07T08:09:13.127Z"
   },
   {
    "duration": 13,
    "start_time": "2023-02-07T08:10:17.761Z"
   },
   {
    "duration": 3,
    "start_time": "2023-02-07T08:10:57.765Z"
   },
   {
    "duration": 8,
    "start_time": "2023-02-07T08:11:22.188Z"
   },
   {
    "duration": 9,
    "start_time": "2023-02-07T08:12:18.205Z"
   },
   {
    "duration": 13,
    "start_time": "2023-02-07T08:12:52.586Z"
   },
   {
    "duration": 20,
    "start_time": "2023-02-07T08:13:16.271Z"
   }
  ],
  "accelerator": "GPU",
  "colab": {
   "gpuType": "T4",
   "provenance": []
  },
  "kernelspec": {
   "display_name": "Python 3 (ipykernel)",
   "language": "python",
   "name": "python3"
  },
  "language_info": {
   "codemirror_mode": {
    "name": "ipython",
    "version": 3
   },
   "file_extension": ".py",
   "mimetype": "text/x-python",
   "name": "python",
   "nbconvert_exporter": "python",
   "pygments_lexer": "ipython3",
   "version": "3.9.12"
  },
  "toc": {
   "base_numbering": 1,
   "nav_menu": {},
   "number_sections": true,
   "sideBar": true,
   "skip_h1_title": true,
   "title_cell": "Содержание",
   "title_sidebar": "Contents",
   "toc_cell": true,
   "toc_position": {
    "height": "calc(100% - 180px)",
    "left": "10px",
    "top": "150px",
    "width": "302.391px"
   },
   "toc_section_display": true,
   "toc_window_display": false
  },
  "widgets": {
   "application/vnd.jupyter.widget-state+json": {
    "1bd6fde96a6f48639b3cc1ab788a5575": {
     "model_module": "@jupyter-widgets/controls",
     "model_module_version": "1.5.0",
     "model_name": "HBoxModel",
     "state": {
      "_dom_classes": [],
      "_model_module": "@jupyter-widgets/controls",
      "_model_module_version": "1.5.0",
      "_model_name": "HBoxModel",
      "_view_count": null,
      "_view_module": "@jupyter-widgets/controls",
      "_view_module_version": "1.5.0",
      "_view_name": "HBoxView",
      "box_style": "",
      "children": [
       "IPY_MODEL_f05e46ffedef4ac7aa251c0581c06f70",
       "IPY_MODEL_a0ba1045890b4c35949ddcd079e6d1ed",
       "IPY_MODEL_482f5080d79d448184829023f772c7ad"
      ],
      "layout": "IPY_MODEL_23a76921d26149b3a61a6763fb642271"
     }
    },
    "23a76921d26149b3a61a6763fb642271": {
     "model_module": "@jupyter-widgets/base",
     "model_module_version": "1.2.0",
     "model_name": "LayoutModel",
     "state": {
      "_model_module": "@jupyter-widgets/base",
      "_model_module_version": "1.2.0",
      "_model_name": "LayoutModel",
      "_view_count": null,
      "_view_module": "@jupyter-widgets/base",
      "_view_module_version": "1.2.0",
      "_view_name": "LayoutView",
      "align_content": null,
      "align_items": null,
      "align_self": null,
      "border": null,
      "bottom": null,
      "display": null,
      "flex": null,
      "flex_flow": null,
      "grid_area": null,
      "grid_auto_columns": null,
      "grid_auto_flow": null,
      "grid_auto_rows": null,
      "grid_column": null,
      "grid_gap": null,
      "grid_row": null,
      "grid_template_areas": null,
      "grid_template_columns": null,
      "grid_template_rows": null,
      "height": null,
      "justify_content": null,
      "justify_items": null,
      "left": null,
      "margin": null,
      "max_height": null,
      "max_width": null,
      "min_height": null,
      "min_width": null,
      "object_fit": null,
      "object_position": null,
      "order": null,
      "overflow": null,
      "overflow_x": null,
      "overflow_y": null,
      "padding": null,
      "right": null,
      "top": null,
      "visibility": null,
      "width": null
     }
    },
    "28ab174eb6ec433eb62b8fd559868b5a": {
     "model_module": "@jupyter-widgets/controls",
     "model_module_version": "1.5.0",
     "model_name": "ProgressStyleModel",
     "state": {
      "_model_module": "@jupyter-widgets/controls",
      "_model_module_version": "1.5.0",
      "_model_name": "ProgressStyleModel",
      "_view_count": null,
      "_view_module": "@jupyter-widgets/base",
      "_view_module_version": "1.2.0",
      "_view_name": "StyleView",
      "bar_color": null,
      "description_width": ""
     }
    },
    "482f5080d79d448184829023f772c7ad": {
     "model_module": "@jupyter-widgets/controls",
     "model_module_version": "1.5.0",
     "model_name": "HTMLModel",
     "state": {
      "_dom_classes": [],
      "_model_module": "@jupyter-widgets/controls",
      "_model_module_version": "1.5.0",
      "_model_name": "HTMLModel",
      "_view_count": null,
      "_view_module": "@jupyter-widgets/controls",
      "_view_module_version": "1.5.0",
      "_view_name": "HTMLView",
      "description": "",
      "description_tooltip": null,
      "layout": "IPY_MODEL_87e212915b674900a1c60d1820585ac5",
      "placeholder": "​",
      "style": "IPY_MODEL_a1b3ec5a47be43ea8a6161472c13779b",
      "value": " 400/400 [20:42&lt;00:00,  3.13s/it]"
     }
    },
    "87e212915b674900a1c60d1820585ac5": {
     "model_module": "@jupyter-widgets/base",
     "model_module_version": "1.2.0",
     "model_name": "LayoutModel",
     "state": {
      "_model_module": "@jupyter-widgets/base",
      "_model_module_version": "1.2.0",
      "_model_name": "LayoutModel",
      "_view_count": null,
      "_view_module": "@jupyter-widgets/base",
      "_view_module_version": "1.2.0",
      "_view_name": "LayoutView",
      "align_content": null,
      "align_items": null,
      "align_self": null,
      "border": null,
      "bottom": null,
      "display": null,
      "flex": null,
      "flex_flow": null,
      "grid_area": null,
      "grid_auto_columns": null,
      "grid_auto_flow": null,
      "grid_auto_rows": null,
      "grid_column": null,
      "grid_gap": null,
      "grid_row": null,
      "grid_template_areas": null,
      "grid_template_columns": null,
      "grid_template_rows": null,
      "height": null,
      "justify_content": null,
      "justify_items": null,
      "left": null,
      "margin": null,
      "max_height": null,
      "max_width": null,
      "min_height": null,
      "min_width": null,
      "object_fit": null,
      "object_position": null,
      "order": null,
      "overflow": null,
      "overflow_x": null,
      "overflow_y": null,
      "padding": null,
      "right": null,
      "top": null,
      "visibility": null,
      "width": null
     }
    },
    "a0ba1045890b4c35949ddcd079e6d1ed": {
     "model_module": "@jupyter-widgets/controls",
     "model_module_version": "1.5.0",
     "model_name": "FloatProgressModel",
     "state": {
      "_dom_classes": [],
      "_model_module": "@jupyter-widgets/controls",
      "_model_module_version": "1.5.0",
      "_model_name": "FloatProgressModel",
      "_view_count": null,
      "_view_module": "@jupyter-widgets/controls",
      "_view_module_version": "1.5.0",
      "_view_name": "ProgressView",
      "bar_style": "success",
      "description": "",
      "description_tooltip": null,
      "layout": "IPY_MODEL_f231e80f74e042bc804ad7067c3030de",
      "max": 400,
      "min": 0,
      "orientation": "horizontal",
      "style": "IPY_MODEL_28ab174eb6ec433eb62b8fd559868b5a",
      "value": 400
     }
    },
    "a1b3ec5a47be43ea8a6161472c13779b": {
     "model_module": "@jupyter-widgets/controls",
     "model_module_version": "1.5.0",
     "model_name": "DescriptionStyleModel",
     "state": {
      "_model_module": "@jupyter-widgets/controls",
      "_model_module_version": "1.5.0",
      "_model_name": "DescriptionStyleModel",
      "_view_count": null,
      "_view_module": "@jupyter-widgets/base",
      "_view_module_version": "1.2.0",
      "_view_name": "StyleView",
      "description_width": ""
     }
    },
    "e022d58f3b804546b1b5e22694845140": {
     "model_module": "@jupyter-widgets/controls",
     "model_module_version": "1.5.0",
     "model_name": "DescriptionStyleModel",
     "state": {
      "_model_module": "@jupyter-widgets/controls",
      "_model_module_version": "1.5.0",
      "_model_name": "DescriptionStyleModel",
      "_view_count": null,
      "_view_module": "@jupyter-widgets/base",
      "_view_module_version": "1.2.0",
      "_view_name": "StyleView",
      "description_width": ""
     }
    },
    "f05e46ffedef4ac7aa251c0581c06f70": {
     "model_module": "@jupyter-widgets/controls",
     "model_module_version": "1.5.0",
     "model_name": "HTMLModel",
     "state": {
      "_dom_classes": [],
      "_model_module": "@jupyter-widgets/controls",
      "_model_module_version": "1.5.0",
      "_model_name": "HTMLModel",
      "_view_count": null,
      "_view_module": "@jupyter-widgets/controls",
      "_view_module_version": "1.5.0",
      "_view_name": "HTMLView",
      "description": "",
      "description_tooltip": null,
      "layout": "IPY_MODEL_f8a18b78066d4eb0a5801cb49d3a1613",
      "placeholder": "​",
      "style": "IPY_MODEL_e022d58f3b804546b1b5e22694845140",
      "value": "100%"
     }
    },
    "f231e80f74e042bc804ad7067c3030de": {
     "model_module": "@jupyter-widgets/base",
     "model_module_version": "1.2.0",
     "model_name": "LayoutModel",
     "state": {
      "_model_module": "@jupyter-widgets/base",
      "_model_module_version": "1.2.0",
      "_model_name": "LayoutModel",
      "_view_count": null,
      "_view_module": "@jupyter-widgets/base",
      "_view_module_version": "1.2.0",
      "_view_name": "LayoutView",
      "align_content": null,
      "align_items": null,
      "align_self": null,
      "border": null,
      "bottom": null,
      "display": null,
      "flex": null,
      "flex_flow": null,
      "grid_area": null,
      "grid_auto_columns": null,
      "grid_auto_flow": null,
      "grid_auto_rows": null,
      "grid_column": null,
      "grid_gap": null,
      "grid_row": null,
      "grid_template_areas": null,
      "grid_template_columns": null,
      "grid_template_rows": null,
      "height": null,
      "justify_content": null,
      "justify_items": null,
      "left": null,
      "margin": null,
      "max_height": null,
      "max_width": null,
      "min_height": null,
      "min_width": null,
      "object_fit": null,
      "object_position": null,
      "order": null,
      "overflow": null,
      "overflow_x": null,
      "overflow_y": null,
      "padding": null,
      "right": null,
      "top": null,
      "visibility": null,
      "width": null
     }
    },
    "f8a18b78066d4eb0a5801cb49d3a1613": {
     "model_module": "@jupyter-widgets/base",
     "model_module_version": "1.2.0",
     "model_name": "LayoutModel",
     "state": {
      "_model_module": "@jupyter-widgets/base",
      "_model_module_version": "1.2.0",
      "_model_name": "LayoutModel",
      "_view_count": null,
      "_view_module": "@jupyter-widgets/base",
      "_view_module_version": "1.2.0",
      "_view_name": "LayoutView",
      "align_content": null,
      "align_items": null,
      "align_self": null,
      "border": null,
      "bottom": null,
      "display": null,
      "flex": null,
      "flex_flow": null,
      "grid_area": null,
      "grid_auto_columns": null,
      "grid_auto_flow": null,
      "grid_auto_rows": null,
      "grid_column": null,
      "grid_gap": null,
      "grid_row": null,
      "grid_template_areas": null,
      "grid_template_columns": null,
      "grid_template_rows": null,
      "height": null,
      "justify_content": null,
      "justify_items": null,
      "left": null,
      "margin": null,
      "max_height": null,
      "max_width": null,
      "min_height": null,
      "min_width": null,
      "object_fit": null,
      "object_position": null,
      "order": null,
      "overflow": null,
      "overflow_x": null,
      "overflow_y": null,
      "padding": null,
      "right": null,
      "top": null,
      "visibility": null,
      "width": null
     }
    }
   }
  }
 },
 "nbformat": 4,
 "nbformat_minor": 1
}
