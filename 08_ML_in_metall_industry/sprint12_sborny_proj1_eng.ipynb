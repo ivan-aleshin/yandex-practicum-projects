{
 "cells": [
  {
   "cell_type": "markdown",
   "metadata": {},
   "source": [
    "# Prediction of Enrichment Efficiency in the Recovery of Gold from Ore"
   ]
  },
  {
   "cell_type": "markdown",
   "metadata": {},
   "source": [
    "The purpose of this work is to prepare a prototype of a ML model for predicting the efficiency of enrichment of rough and final concentrates during the recovery of gold from gold ore.  \n",
    "The work will be carried out in three stages:  \n",
    "1. Data preparation  \n",
    "2. Exploratory analysis  \n",
    "3. Train the model  \n"
   ]
  },
  {
   "cell_type": "markdown",
   "metadata": {},
   "source": [
    "## Data Preparation"
   ]
  },
  {
   "cell_type": "code",
   "execution_count": 1,
   "metadata": {},
   "outputs": [],
   "source": [
    "# Importing required libraries and modules\n",
    "import pandas as pd\n",
    "import numpy as np\n",
    "import seaborn as sns\n",
    "from matplotlib import pyplot as plt\n",
    "import warnings\n",
    "\n",
    "from sklearn.pipeline import make_pipeline, Pipeline\n",
    "from sklearn.preprocessing import StandardScaler\n",
    "from sklearn.impute import KNNImputer\n",
    "from sklearn.metrics import mean_absolute_error, make_scorer\n",
    "from sklearn.model_selection import cross_val_score, RandomizedSearchCV\n",
    "from sklearn.multioutput import MultiOutputRegressor\n",
    "from sklearn.linear_model import Ridge\n",
    "from sklearn.svm import LinearSVR\n",
    "from sklearn.ensemble import ExtraTreesRegressor, GradientBoostingRegressor, RandomForestRegressor\n",
    "from sklearn.dummy import DummyRegressor\n",
    "\n",
    "warnings.filterwarnings('ignore')\n",
    "sns.set(rc={'figure.figsize':(14, 8)}, palette='Set2', font_scale=1.25)\n",
    "np.random.seed(23)"
   ]
  },
  {
   "cell_type": "code",
   "execution_count": 2,
   "metadata": {},
   "outputs": [],
   "source": [
    "# Set random state\n",
    "RS = 23"
   ]
  },
  {
   "cell_type": "code",
   "execution_count": 3,
   "metadata": {},
   "outputs": [],
   "source": [
    "# Data Loading\n",
    "data_train = pd.read_csv('gold_recovery_train_new.csv')\n",
    "data_test = pd.read_csv('gold_recovery_test_new.csv')\n",
    "data_full = pd.read_csv('gold_recovery_full_new.csv')"
   ]
  },
  {
   "cell_type": "markdown",
   "metadata": {},
   "source": [
    "### Data description\n",
    "The data is stored in three files:  \n",
    "- gold_recovery_train.csv — training dataset download\n",
    "- gold_recovery_test.csv — test dataset download\n",
    "- gold_recovery_full.csv — source dataset download  \n",
    "\n",
    "Data is indexed with the date and time of acquisition. Parameters that are next to each other in terms of time are often similar. Some parameters are not available because they were measured and/or calculated much later. That's why, some of the features that are present in the training set may be absent from the test set. The test set also doesn't contain targets.  \n",
    "The source dataset contains the training and test sets with all the features.  \n",
    "We have raw data which was only downloaded from the warehouse. Before building the model, we should check the correctness of the data.\n",
    "\n",
    "**Technological process**  \n",
    "- Rougher feed — raw material  \n",
    "- Rougher additions — flotation reagents: Xanthate, Sulphate, Depressant  \n",
    "  - Xanthate — promoter or flotation activator  \n",
    "  - Sulphate — sodium sulphide for this particular process  \n",
    "  - Depressant — sodium silicate  \n",
    "- Rougher process — flotation  \n",
    "- Rougher tails — product residues  \n",
    "- Float banks — flotation unit  \n",
    "- Cleaner process — purification  \n",
    "- Rougher Au — rougher gold concentrate  \n",
    "- Final Au — final gold concentrate  "
   ]
  },
  {
   "cell_type": "markdown",
   "metadata": {},
   "source": [
    "### Parameters of stages  \n",
    "- air amount — volume of air  \n",
    "- fluid levels — levels of fluid  \n",
    "- feed size — feed particle size  \n",
    "- feed rate — feed rate  "
   ]
  },
  {
   "cell_type": "markdown",
   "metadata": {},
   "source": [
    "### Feature naming  \n",
    "**Scheme:**  \n",
    "[stage].[parameter_type].[parameter_name]  \n",
    "\n",
    "**Example:**  \n",
    "rougher.input.feed_ag\n",
    "\n",
    "Possible values for [stage]:  \n",
    "- rougher — flotation  \n",
    "- primary_cleaner — primary purification  \n",
    "- secondary_cleaner — secondary purification  \n",
    "- final — final characteristics  \n",
    "\n",
    "Possible values for [parameter_type]:  \n",
    "- input — raw material parameters  \n",
    "- output — product parameters  \n",
    "- state — parameters characterizing the current state of the stage  \n",
    "- calculation — calculated characteristics  "
   ]
  },
  {
   "cell_type": "markdown",
   "metadata": {},
   "source": [
    "Let's take a look at the available data."
   ]
  },
  {
   "cell_type": "code",
   "execution_count": 4,
   "metadata": {},
   "outputs": [
    {
     "data": {
      "text/html": [
       "<div>\n",
       "<style scoped>\n",
       "    .dataframe tbody tr th:only-of-type {\n",
       "        vertical-align: middle;\n",
       "    }\n",
       "\n",
       "    .dataframe tbody tr th {\n",
       "        vertical-align: top;\n",
       "    }\n",
       "\n",
       "    .dataframe thead th {\n",
       "        text-align: right;\n",
       "    }\n",
       "</style>\n",
       "<table border=\"1\" class=\"dataframe\">\n",
       "  <thead>\n",
       "    <tr style=\"text-align: right;\">\n",
       "      <th></th>\n",
       "      <th>date</th>\n",
       "      <th>final.output.concentrate_ag</th>\n",
       "      <th>final.output.concentrate_pb</th>\n",
       "      <th>final.output.concentrate_sol</th>\n",
       "      <th>final.output.concentrate_au</th>\n",
       "      <th>final.output.recovery</th>\n",
       "      <th>final.output.tail_ag</th>\n",
       "      <th>final.output.tail_pb</th>\n",
       "      <th>final.output.tail_sol</th>\n",
       "      <th>final.output.tail_au</th>\n",
       "      <th>...</th>\n",
       "      <th>secondary_cleaner.state.floatbank4_a_air</th>\n",
       "      <th>secondary_cleaner.state.floatbank4_a_level</th>\n",
       "      <th>secondary_cleaner.state.floatbank4_b_air</th>\n",
       "      <th>secondary_cleaner.state.floatbank4_b_level</th>\n",
       "      <th>secondary_cleaner.state.floatbank5_a_air</th>\n",
       "      <th>secondary_cleaner.state.floatbank5_a_level</th>\n",
       "      <th>secondary_cleaner.state.floatbank5_b_air</th>\n",
       "      <th>secondary_cleaner.state.floatbank5_b_level</th>\n",
       "      <th>secondary_cleaner.state.floatbank6_a_air</th>\n",
       "      <th>secondary_cleaner.state.floatbank6_a_level</th>\n",
       "    </tr>\n",
       "  </thead>\n",
       "  <tbody>\n",
       "    <tr>\n",
       "      <th>0</th>\n",
       "      <td>2016-01-15 00:00:00</td>\n",
       "      <td>6.055403</td>\n",
       "      <td>9.889648</td>\n",
       "      <td>5.507324</td>\n",
       "      <td>42.192020</td>\n",
       "      <td>70.541216</td>\n",
       "      <td>10.411962</td>\n",
       "      <td>0.895447</td>\n",
       "      <td>16.904297</td>\n",
       "      <td>2.143149</td>\n",
       "      <td>...</td>\n",
       "      <td>14.016835</td>\n",
       "      <td>-502.488007</td>\n",
       "      <td>12.099931</td>\n",
       "      <td>-504.715942</td>\n",
       "      <td>9.925633</td>\n",
       "      <td>-498.310211</td>\n",
       "      <td>8.079666</td>\n",
       "      <td>-500.470978</td>\n",
       "      <td>14.151341</td>\n",
       "      <td>-605.841980</td>\n",
       "    </tr>\n",
       "    <tr>\n",
       "      <th>1</th>\n",
       "      <td>2016-01-15 01:00:00</td>\n",
       "      <td>6.029369</td>\n",
       "      <td>9.968944</td>\n",
       "      <td>5.257781</td>\n",
       "      <td>42.701629</td>\n",
       "      <td>69.266198</td>\n",
       "      <td>10.462676</td>\n",
       "      <td>0.927452</td>\n",
       "      <td>16.634514</td>\n",
       "      <td>2.224930</td>\n",
       "      <td>...</td>\n",
       "      <td>13.992281</td>\n",
       "      <td>-505.503262</td>\n",
       "      <td>11.950531</td>\n",
       "      <td>-501.331529</td>\n",
       "      <td>10.039245</td>\n",
       "      <td>-500.169983</td>\n",
       "      <td>7.984757</td>\n",
       "      <td>-500.582168</td>\n",
       "      <td>13.998353</td>\n",
       "      <td>-599.787184</td>\n",
       "    </tr>\n",
       "    <tr>\n",
       "      <th>2</th>\n",
       "      <td>2016-01-15 02:00:00</td>\n",
       "      <td>6.055926</td>\n",
       "      <td>10.213995</td>\n",
       "      <td>5.383759</td>\n",
       "      <td>42.657501</td>\n",
       "      <td>68.116445</td>\n",
       "      <td>10.507046</td>\n",
       "      <td>0.953716</td>\n",
       "      <td>16.208849</td>\n",
       "      <td>2.257889</td>\n",
       "      <td>...</td>\n",
       "      <td>14.015015</td>\n",
       "      <td>-502.520901</td>\n",
       "      <td>11.912783</td>\n",
       "      <td>-501.133383</td>\n",
       "      <td>10.070913</td>\n",
       "      <td>-500.129135</td>\n",
       "      <td>8.013877</td>\n",
       "      <td>-500.517572</td>\n",
       "      <td>14.028663</td>\n",
       "      <td>-601.427363</td>\n",
       "    </tr>\n",
       "    <tr>\n",
       "      <th>3</th>\n",
       "      <td>2016-01-15 03:00:00</td>\n",
       "      <td>6.047977</td>\n",
       "      <td>9.977019</td>\n",
       "      <td>4.858634</td>\n",
       "      <td>42.689819</td>\n",
       "      <td>68.347543</td>\n",
       "      <td>10.422762</td>\n",
       "      <td>0.883763</td>\n",
       "      <td>16.532835</td>\n",
       "      <td>2.146849</td>\n",
       "      <td>...</td>\n",
       "      <td>14.036510</td>\n",
       "      <td>-500.857308</td>\n",
       "      <td>11.999550</td>\n",
       "      <td>-501.193686</td>\n",
       "      <td>9.970366</td>\n",
       "      <td>-499.201640</td>\n",
       "      <td>7.977324</td>\n",
       "      <td>-500.255908</td>\n",
       "      <td>14.005551</td>\n",
       "      <td>-599.996129</td>\n",
       "    </tr>\n",
       "    <tr>\n",
       "      <th>4</th>\n",
       "      <td>2016-01-15 04:00:00</td>\n",
       "      <td>6.148599</td>\n",
       "      <td>10.142511</td>\n",
       "      <td>4.939416</td>\n",
       "      <td>42.774141</td>\n",
       "      <td>66.927016</td>\n",
       "      <td>10.360302</td>\n",
       "      <td>0.792826</td>\n",
       "      <td>16.525686</td>\n",
       "      <td>2.055292</td>\n",
       "      <td>...</td>\n",
       "      <td>14.027298</td>\n",
       "      <td>-499.838632</td>\n",
       "      <td>11.953070</td>\n",
       "      <td>-501.053894</td>\n",
       "      <td>9.925709</td>\n",
       "      <td>-501.686727</td>\n",
       "      <td>7.894242</td>\n",
       "      <td>-500.356035</td>\n",
       "      <td>13.996647</td>\n",
       "      <td>-601.496691</td>\n",
       "    </tr>\n",
       "  </tbody>\n",
       "</table>\n",
       "<p>5 rows × 87 columns</p>\n",
       "</div>"
      ],
      "text/plain": [
       "                  date  final.output.concentrate_ag  \\\n",
       "0  2016-01-15 00:00:00                     6.055403   \n",
       "1  2016-01-15 01:00:00                     6.029369   \n",
       "2  2016-01-15 02:00:00                     6.055926   \n",
       "3  2016-01-15 03:00:00                     6.047977   \n",
       "4  2016-01-15 04:00:00                     6.148599   \n",
       "\n",
       "   final.output.concentrate_pb  final.output.concentrate_sol  \\\n",
       "0                     9.889648                      5.507324   \n",
       "1                     9.968944                      5.257781   \n",
       "2                    10.213995                      5.383759   \n",
       "3                     9.977019                      4.858634   \n",
       "4                    10.142511                      4.939416   \n",
       "\n",
       "   final.output.concentrate_au  final.output.recovery  final.output.tail_ag  \\\n",
       "0                    42.192020              70.541216             10.411962   \n",
       "1                    42.701629              69.266198             10.462676   \n",
       "2                    42.657501              68.116445             10.507046   \n",
       "3                    42.689819              68.347543             10.422762   \n",
       "4                    42.774141              66.927016             10.360302   \n",
       "\n",
       "   final.output.tail_pb  final.output.tail_sol  final.output.tail_au  ...  \\\n",
       "0              0.895447              16.904297              2.143149  ...   \n",
       "1              0.927452              16.634514              2.224930  ...   \n",
       "2              0.953716              16.208849              2.257889  ...   \n",
       "3              0.883763              16.532835              2.146849  ...   \n",
       "4              0.792826              16.525686              2.055292  ...   \n",
       "\n",
       "   secondary_cleaner.state.floatbank4_a_air  \\\n",
       "0                                 14.016835   \n",
       "1                                 13.992281   \n",
       "2                                 14.015015   \n",
       "3                                 14.036510   \n",
       "4                                 14.027298   \n",
       "\n",
       "   secondary_cleaner.state.floatbank4_a_level  \\\n",
       "0                                 -502.488007   \n",
       "1                                 -505.503262   \n",
       "2                                 -502.520901   \n",
       "3                                 -500.857308   \n",
       "4                                 -499.838632   \n",
       "\n",
       "   secondary_cleaner.state.floatbank4_b_air  \\\n",
       "0                                 12.099931   \n",
       "1                                 11.950531   \n",
       "2                                 11.912783   \n",
       "3                                 11.999550   \n",
       "4                                 11.953070   \n",
       "\n",
       "   secondary_cleaner.state.floatbank4_b_level  \\\n",
       "0                                 -504.715942   \n",
       "1                                 -501.331529   \n",
       "2                                 -501.133383   \n",
       "3                                 -501.193686   \n",
       "4                                 -501.053894   \n",
       "\n",
       "   secondary_cleaner.state.floatbank5_a_air  \\\n",
       "0                                  9.925633   \n",
       "1                                 10.039245   \n",
       "2                                 10.070913   \n",
       "3                                  9.970366   \n",
       "4                                  9.925709   \n",
       "\n",
       "   secondary_cleaner.state.floatbank5_a_level  \\\n",
       "0                                 -498.310211   \n",
       "1                                 -500.169983   \n",
       "2                                 -500.129135   \n",
       "3                                 -499.201640   \n",
       "4                                 -501.686727   \n",
       "\n",
       "   secondary_cleaner.state.floatbank5_b_air  \\\n",
       "0                                  8.079666   \n",
       "1                                  7.984757   \n",
       "2                                  8.013877   \n",
       "3                                  7.977324   \n",
       "4                                  7.894242   \n",
       "\n",
       "   secondary_cleaner.state.floatbank5_b_level  \\\n",
       "0                                 -500.470978   \n",
       "1                                 -500.582168   \n",
       "2                                 -500.517572   \n",
       "3                                 -500.255908   \n",
       "4                                 -500.356035   \n",
       "\n",
       "   secondary_cleaner.state.floatbank6_a_air  \\\n",
       "0                                 14.151341   \n",
       "1                                 13.998353   \n",
       "2                                 14.028663   \n",
       "3                                 14.005551   \n",
       "4                                 13.996647   \n",
       "\n",
       "   secondary_cleaner.state.floatbank6_a_level  \n",
       "0                                 -605.841980  \n",
       "1                                 -599.787184  \n",
       "2                                 -601.427363  \n",
       "3                                 -599.996129  \n",
       "4                                 -601.496691  \n",
       "\n",
       "[5 rows x 87 columns]"
      ]
     },
     "execution_count": 4,
     "metadata": {},
     "output_type": "execute_result"
    }
   ],
   "source": [
    "data_train.head()"
   ]
  },
  {
   "cell_type": "code",
   "execution_count": 5,
   "metadata": {
    "scrolled": true
   },
   "outputs": [
    {
     "name": "stdout",
     "output_type": "stream",
     "text": [
      "<class 'pandas.core.frame.DataFrame'>\n",
      "RangeIndex: 14149 entries, 0 to 14148\n",
      "Data columns (total 87 columns):\n",
      " #   Column                                              Non-Null Count  Dtype  \n",
      "---  ------                                              --------------  -----  \n",
      " 0   date                                                14149 non-null  object \n",
      " 1   final.output.concentrate_ag                         14148 non-null  float64\n",
      " 2   final.output.concentrate_pb                         14148 non-null  float64\n",
      " 3   final.output.concentrate_sol                        13938 non-null  float64\n",
      " 4   final.output.concentrate_au                         14149 non-null  float64\n",
      " 5   final.output.recovery                               14149 non-null  float64\n",
      " 6   final.output.tail_ag                                14149 non-null  float64\n",
      " 7   final.output.tail_pb                                14049 non-null  float64\n",
      " 8   final.output.tail_sol                               14144 non-null  float64\n",
      " 9   final.output.tail_au                                14149 non-null  float64\n",
      " 10  primary_cleaner.input.sulfate                       14129 non-null  float64\n",
      " 11  primary_cleaner.input.depressant                    14117 non-null  float64\n",
      " 12  primary_cleaner.input.feed_size                     14149 non-null  float64\n",
      " 13  primary_cleaner.input.xanthate                      14049 non-null  float64\n",
      " 14  primary_cleaner.output.concentrate_ag               14149 non-null  float64\n",
      " 15  primary_cleaner.output.concentrate_pb               14063 non-null  float64\n",
      " 16  primary_cleaner.output.concentrate_sol              13863 non-null  float64\n",
      " 17  primary_cleaner.output.concentrate_au               14149 non-null  float64\n",
      " 18  primary_cleaner.output.tail_ag                      14148 non-null  float64\n",
      " 19  primary_cleaner.output.tail_pb                      14134 non-null  float64\n",
      " 20  primary_cleaner.output.tail_sol                     14103 non-null  float64\n",
      " 21  primary_cleaner.output.tail_au                      14149 non-null  float64\n",
      " 22  primary_cleaner.state.floatbank8_a_air              14145 non-null  float64\n",
      " 23  primary_cleaner.state.floatbank8_a_level            14148 non-null  float64\n",
      " 24  primary_cleaner.state.floatbank8_b_air              14145 non-null  float64\n",
      " 25  primary_cleaner.state.floatbank8_b_level            14148 non-null  float64\n",
      " 26  primary_cleaner.state.floatbank8_c_air              14147 non-null  float64\n",
      " 27  primary_cleaner.state.floatbank8_c_level            14148 non-null  float64\n",
      " 28  primary_cleaner.state.floatbank8_d_air              14146 non-null  float64\n",
      " 29  primary_cleaner.state.floatbank8_d_level            14148 non-null  float64\n",
      " 30  rougher.calculation.sulfate_to_au_concentrate       14148 non-null  float64\n",
      " 31  rougher.calculation.floatbank10_sulfate_to_au_feed  14148 non-null  float64\n",
      " 32  rougher.calculation.floatbank11_sulfate_to_au_feed  14148 non-null  float64\n",
      " 33  rougher.calculation.au_pb_ratio                     14149 non-null  float64\n",
      " 34  rougher.input.feed_ag                               14149 non-null  float64\n",
      " 35  rougher.input.feed_pb                               14049 non-null  float64\n",
      " 36  rougher.input.feed_rate                             14141 non-null  float64\n",
      " 37  rougher.input.feed_size                             14005 non-null  float64\n",
      " 38  rougher.input.feed_sol                              14071 non-null  float64\n",
      " 39  rougher.input.feed_au                               14149 non-null  float64\n",
      " 40  rougher.input.floatbank10_sulfate                   14120 non-null  float64\n",
      " 41  rougher.input.floatbank10_xanthate                  14141 non-null  float64\n",
      " 42  rougher.input.floatbank11_sulfate                   14113 non-null  float64\n",
      " 43  rougher.input.floatbank11_xanthate                  13721 non-null  float64\n",
      " 44  rougher.output.concentrate_ag                       14149 non-null  float64\n",
      " 45  rougher.output.concentrate_pb                       14149 non-null  float64\n",
      " 46  rougher.output.concentrate_sol                      14127 non-null  float64\n",
      " 47  rougher.output.concentrate_au                       14149 non-null  float64\n",
      " 48  rougher.output.recovery                             14149 non-null  float64\n",
      " 49  rougher.output.tail_ag                              14148 non-null  float64\n",
      " 50  rougher.output.tail_pb                              14149 non-null  float64\n",
      " 51  rougher.output.tail_sol                             14149 non-null  float64\n",
      " 52  rougher.output.tail_au                              14149 non-null  float64\n",
      " 53  rougher.state.floatbank10_a_air                     14148 non-null  float64\n",
      " 54  rougher.state.floatbank10_a_level                   14148 non-null  float64\n",
      " 55  rougher.state.floatbank10_b_air                     14148 non-null  float64\n",
      " 56  rougher.state.floatbank10_b_level                   14148 non-null  float64\n",
      " 57  rougher.state.floatbank10_c_air                     14148 non-null  float64\n",
      " 58  rougher.state.floatbank10_c_level                   14148 non-null  float64\n",
      " 59  rougher.state.floatbank10_d_air                     14149 non-null  float64\n",
      " 60  rougher.state.floatbank10_d_level                   14149 non-null  float64\n",
      " 61  rougher.state.floatbank10_e_air                     13713 non-null  float64\n",
      " 62  rougher.state.floatbank10_e_level                   14149 non-null  float64\n",
      " 63  rougher.state.floatbank10_f_air                     14149 non-null  float64\n",
      " 64  rougher.state.floatbank10_f_level                   14149 non-null  float64\n",
      " 65  secondary_cleaner.output.tail_ag                    14147 non-null  float64\n",
      " 66  secondary_cleaner.output.tail_pb                    14139 non-null  float64\n",
      " 67  secondary_cleaner.output.tail_sol                   12544 non-null  float64\n",
      " 68  secondary_cleaner.output.tail_au                    14149 non-null  float64\n",
      " 69  secondary_cleaner.state.floatbank2_a_air            13932 non-null  float64\n",
      " 70  secondary_cleaner.state.floatbank2_a_level          14148 non-null  float64\n",
      " 71  secondary_cleaner.state.floatbank2_b_air            14128 non-null  float64\n",
      " 72  secondary_cleaner.state.floatbank2_b_level          14148 non-null  float64\n",
      " 73  secondary_cleaner.state.floatbank3_a_air            14145 non-null  float64\n",
      " 74  secondary_cleaner.state.floatbank3_a_level          14148 non-null  float64\n",
      " 75  secondary_cleaner.state.floatbank3_b_air            14148 non-null  float64\n",
      " 76  secondary_cleaner.state.floatbank3_b_level          14148 non-null  float64\n",
      " 77  secondary_cleaner.state.floatbank4_a_air            14143 non-null  float64\n",
      " 78  secondary_cleaner.state.floatbank4_a_level          14148 non-null  float64\n",
      " 79  secondary_cleaner.state.floatbank4_b_air            14148 non-null  float64\n",
      " 80  secondary_cleaner.state.floatbank4_b_level          14148 non-null  float64\n",
      " 81  secondary_cleaner.state.floatbank5_a_air            14148 non-null  float64\n",
      " 82  secondary_cleaner.state.floatbank5_a_level          14148 non-null  float64\n",
      " 83  secondary_cleaner.state.floatbank5_b_air            14148 non-null  float64\n",
      " 84  secondary_cleaner.state.floatbank5_b_level          14148 non-null  float64\n",
      " 85  secondary_cleaner.state.floatbank6_a_air            14147 non-null  float64\n",
      " 86  secondary_cleaner.state.floatbank6_a_level          14148 non-null  float64\n",
      "dtypes: float64(86), object(1)\n",
      "memory usage: 9.4+ MB\n"
     ]
    }
   ],
   "source": [
    "data_train.info()"
   ]
  },
  {
   "cell_type": "code",
   "execution_count": 6,
   "metadata": {},
   "outputs": [
    {
     "data": {
      "text/plain": [
       "3132"
      ]
     },
     "execution_count": 6,
     "metadata": {},
     "output_type": "execute_result"
    }
   ],
   "source": [
    "len(data_train[data_train.isna().any(axis=1)])"
   ]
  },
  {
   "cell_type": "markdown",
   "metadata": {},
   "source": [
    "The dataset size is 14149 rows and 87 columns. Most of the columns have missing data. A total of 3132 rows with missing data."
   ]
  },
  {
   "cell_type": "code",
   "execution_count": 7,
   "metadata": {},
   "outputs": [
    {
     "data": {
      "text/html": [
       "<div>\n",
       "<style scoped>\n",
       "    .dataframe tbody tr th:only-of-type {\n",
       "        vertical-align: middle;\n",
       "    }\n",
       "\n",
       "    .dataframe tbody tr th {\n",
       "        vertical-align: top;\n",
       "    }\n",
       "\n",
       "    .dataframe thead th {\n",
       "        text-align: right;\n",
       "    }\n",
       "</style>\n",
       "<table border=\"1\" class=\"dataframe\">\n",
       "  <thead>\n",
       "    <tr style=\"text-align: right;\">\n",
       "      <th></th>\n",
       "      <th>date</th>\n",
       "      <th>primary_cleaner.input.sulfate</th>\n",
       "      <th>primary_cleaner.input.depressant</th>\n",
       "      <th>primary_cleaner.input.feed_size</th>\n",
       "      <th>primary_cleaner.input.xanthate</th>\n",
       "      <th>primary_cleaner.state.floatbank8_a_air</th>\n",
       "      <th>primary_cleaner.state.floatbank8_a_level</th>\n",
       "      <th>primary_cleaner.state.floatbank8_b_air</th>\n",
       "      <th>primary_cleaner.state.floatbank8_b_level</th>\n",
       "      <th>primary_cleaner.state.floatbank8_c_air</th>\n",
       "      <th>...</th>\n",
       "      <th>secondary_cleaner.state.floatbank4_a_air</th>\n",
       "      <th>secondary_cleaner.state.floatbank4_a_level</th>\n",
       "      <th>secondary_cleaner.state.floatbank4_b_air</th>\n",
       "      <th>secondary_cleaner.state.floatbank4_b_level</th>\n",
       "      <th>secondary_cleaner.state.floatbank5_a_air</th>\n",
       "      <th>secondary_cleaner.state.floatbank5_a_level</th>\n",
       "      <th>secondary_cleaner.state.floatbank5_b_air</th>\n",
       "      <th>secondary_cleaner.state.floatbank5_b_level</th>\n",
       "      <th>secondary_cleaner.state.floatbank6_a_air</th>\n",
       "      <th>secondary_cleaner.state.floatbank6_a_level</th>\n",
       "    </tr>\n",
       "  </thead>\n",
       "  <tbody>\n",
       "    <tr>\n",
       "      <th>0</th>\n",
       "      <td>2016-09-01 00:59:59</td>\n",
       "      <td>210.800909</td>\n",
       "      <td>14.993118</td>\n",
       "      <td>8.080000</td>\n",
       "      <td>1.005021</td>\n",
       "      <td>1398.981301</td>\n",
       "      <td>-500.225577</td>\n",
       "      <td>1399.144926</td>\n",
       "      <td>-499.919735</td>\n",
       "      <td>1400.102998</td>\n",
       "      <td>...</td>\n",
       "      <td>12.023554</td>\n",
       "      <td>-497.795834</td>\n",
       "      <td>8.016656</td>\n",
       "      <td>-501.289139</td>\n",
       "      <td>7.946562</td>\n",
       "      <td>-432.317850</td>\n",
       "      <td>4.872511</td>\n",
       "      <td>-500.037437</td>\n",
       "      <td>26.705889</td>\n",
       "      <td>-499.709414</td>\n",
       "    </tr>\n",
       "    <tr>\n",
       "      <th>1</th>\n",
       "      <td>2016-09-01 01:59:59</td>\n",
       "      <td>215.392455</td>\n",
       "      <td>14.987471</td>\n",
       "      <td>8.080000</td>\n",
       "      <td>0.990469</td>\n",
       "      <td>1398.777912</td>\n",
       "      <td>-500.057435</td>\n",
       "      <td>1398.055362</td>\n",
       "      <td>-499.778182</td>\n",
       "      <td>1396.151033</td>\n",
       "      <td>...</td>\n",
       "      <td>12.058140</td>\n",
       "      <td>-498.695773</td>\n",
       "      <td>8.130979</td>\n",
       "      <td>-499.634209</td>\n",
       "      <td>7.958270</td>\n",
       "      <td>-525.839648</td>\n",
       "      <td>4.878850</td>\n",
       "      <td>-500.162375</td>\n",
       "      <td>25.019940</td>\n",
       "      <td>-499.819438</td>\n",
       "    </tr>\n",
       "    <tr>\n",
       "      <th>2</th>\n",
       "      <td>2016-09-01 02:59:59</td>\n",
       "      <td>215.259946</td>\n",
       "      <td>12.884934</td>\n",
       "      <td>7.786667</td>\n",
       "      <td>0.996043</td>\n",
       "      <td>1398.493666</td>\n",
       "      <td>-500.868360</td>\n",
       "      <td>1398.860436</td>\n",
       "      <td>-499.764529</td>\n",
       "      <td>1398.075709</td>\n",
       "      <td>...</td>\n",
       "      <td>11.962366</td>\n",
       "      <td>-498.767484</td>\n",
       "      <td>8.096893</td>\n",
       "      <td>-500.827423</td>\n",
       "      <td>8.071056</td>\n",
       "      <td>-500.801673</td>\n",
       "      <td>4.905125</td>\n",
       "      <td>-499.828510</td>\n",
       "      <td>24.994862</td>\n",
       "      <td>-500.622559</td>\n",
       "    </tr>\n",
       "    <tr>\n",
       "      <th>3</th>\n",
       "      <td>2016-09-01 03:59:59</td>\n",
       "      <td>215.336236</td>\n",
       "      <td>12.006805</td>\n",
       "      <td>7.640000</td>\n",
       "      <td>0.863514</td>\n",
       "      <td>1399.618111</td>\n",
       "      <td>-498.863574</td>\n",
       "      <td>1397.440120</td>\n",
       "      <td>-499.211024</td>\n",
       "      <td>1400.129303</td>\n",
       "      <td>...</td>\n",
       "      <td>12.033091</td>\n",
       "      <td>-498.350935</td>\n",
       "      <td>8.074946</td>\n",
       "      <td>-499.474407</td>\n",
       "      <td>7.897085</td>\n",
       "      <td>-500.868509</td>\n",
       "      <td>4.931400</td>\n",
       "      <td>-499.963623</td>\n",
       "      <td>24.948919</td>\n",
       "      <td>-498.709987</td>\n",
       "    </tr>\n",
       "    <tr>\n",
       "      <th>4</th>\n",
       "      <td>2016-09-01 04:59:59</td>\n",
       "      <td>199.099327</td>\n",
       "      <td>10.682530</td>\n",
       "      <td>7.530000</td>\n",
       "      <td>0.805575</td>\n",
       "      <td>1401.268123</td>\n",
       "      <td>-500.808305</td>\n",
       "      <td>1398.128818</td>\n",
       "      <td>-499.504543</td>\n",
       "      <td>1402.172226</td>\n",
       "      <td>...</td>\n",
       "      <td>12.025367</td>\n",
       "      <td>-500.786497</td>\n",
       "      <td>8.054678</td>\n",
       "      <td>-500.397500</td>\n",
       "      <td>8.107890</td>\n",
       "      <td>-509.526725</td>\n",
       "      <td>4.957674</td>\n",
       "      <td>-500.360026</td>\n",
       "      <td>25.003331</td>\n",
       "      <td>-500.856333</td>\n",
       "    </tr>\n",
       "  </tbody>\n",
       "</table>\n",
       "<p>5 rows × 53 columns</p>\n",
       "</div>"
      ],
      "text/plain": [
       "                  date  primary_cleaner.input.sulfate  \\\n",
       "0  2016-09-01 00:59:59                     210.800909   \n",
       "1  2016-09-01 01:59:59                     215.392455   \n",
       "2  2016-09-01 02:59:59                     215.259946   \n",
       "3  2016-09-01 03:59:59                     215.336236   \n",
       "4  2016-09-01 04:59:59                     199.099327   \n",
       "\n",
       "   primary_cleaner.input.depressant  primary_cleaner.input.feed_size  \\\n",
       "0                         14.993118                         8.080000   \n",
       "1                         14.987471                         8.080000   \n",
       "2                         12.884934                         7.786667   \n",
       "3                         12.006805                         7.640000   \n",
       "4                         10.682530                         7.530000   \n",
       "\n",
       "   primary_cleaner.input.xanthate  primary_cleaner.state.floatbank8_a_air  \\\n",
       "0                        1.005021                             1398.981301   \n",
       "1                        0.990469                             1398.777912   \n",
       "2                        0.996043                             1398.493666   \n",
       "3                        0.863514                             1399.618111   \n",
       "4                        0.805575                             1401.268123   \n",
       "\n",
       "   primary_cleaner.state.floatbank8_a_level  \\\n",
       "0                               -500.225577   \n",
       "1                               -500.057435   \n",
       "2                               -500.868360   \n",
       "3                               -498.863574   \n",
       "4                               -500.808305   \n",
       "\n",
       "   primary_cleaner.state.floatbank8_b_air  \\\n",
       "0                             1399.144926   \n",
       "1                             1398.055362   \n",
       "2                             1398.860436   \n",
       "3                             1397.440120   \n",
       "4                             1398.128818   \n",
       "\n",
       "   primary_cleaner.state.floatbank8_b_level  \\\n",
       "0                               -499.919735   \n",
       "1                               -499.778182   \n",
       "2                               -499.764529   \n",
       "3                               -499.211024   \n",
       "4                               -499.504543   \n",
       "\n",
       "   primary_cleaner.state.floatbank8_c_air  ...  \\\n",
       "0                             1400.102998  ...   \n",
       "1                             1396.151033  ...   \n",
       "2                             1398.075709  ...   \n",
       "3                             1400.129303  ...   \n",
       "4                             1402.172226  ...   \n",
       "\n",
       "   secondary_cleaner.state.floatbank4_a_air  \\\n",
       "0                                 12.023554   \n",
       "1                                 12.058140   \n",
       "2                                 11.962366   \n",
       "3                                 12.033091   \n",
       "4                                 12.025367   \n",
       "\n",
       "   secondary_cleaner.state.floatbank4_a_level  \\\n",
       "0                                 -497.795834   \n",
       "1                                 -498.695773   \n",
       "2                                 -498.767484   \n",
       "3                                 -498.350935   \n",
       "4                                 -500.786497   \n",
       "\n",
       "   secondary_cleaner.state.floatbank4_b_air  \\\n",
       "0                                  8.016656   \n",
       "1                                  8.130979   \n",
       "2                                  8.096893   \n",
       "3                                  8.074946   \n",
       "4                                  8.054678   \n",
       "\n",
       "   secondary_cleaner.state.floatbank4_b_level  \\\n",
       "0                                 -501.289139   \n",
       "1                                 -499.634209   \n",
       "2                                 -500.827423   \n",
       "3                                 -499.474407   \n",
       "4                                 -500.397500   \n",
       "\n",
       "   secondary_cleaner.state.floatbank5_a_air  \\\n",
       "0                                  7.946562   \n",
       "1                                  7.958270   \n",
       "2                                  8.071056   \n",
       "3                                  7.897085   \n",
       "4                                  8.107890   \n",
       "\n",
       "   secondary_cleaner.state.floatbank5_a_level  \\\n",
       "0                                 -432.317850   \n",
       "1                                 -525.839648   \n",
       "2                                 -500.801673   \n",
       "3                                 -500.868509   \n",
       "4                                 -509.526725   \n",
       "\n",
       "   secondary_cleaner.state.floatbank5_b_air  \\\n",
       "0                                  4.872511   \n",
       "1                                  4.878850   \n",
       "2                                  4.905125   \n",
       "3                                  4.931400   \n",
       "4                                  4.957674   \n",
       "\n",
       "   secondary_cleaner.state.floatbank5_b_level  \\\n",
       "0                                 -500.037437   \n",
       "1                                 -500.162375   \n",
       "2                                 -499.828510   \n",
       "3                                 -499.963623   \n",
       "4                                 -500.360026   \n",
       "\n",
       "   secondary_cleaner.state.floatbank6_a_air  \\\n",
       "0                                 26.705889   \n",
       "1                                 25.019940   \n",
       "2                                 24.994862   \n",
       "3                                 24.948919   \n",
       "4                                 25.003331   \n",
       "\n",
       "   secondary_cleaner.state.floatbank6_a_level  \n",
       "0                                 -499.709414  \n",
       "1                                 -499.819438  \n",
       "2                                 -500.622559  \n",
       "3                                 -498.709987  \n",
       "4                                 -500.856333  \n",
       "\n",
       "[5 rows x 53 columns]"
      ]
     },
     "execution_count": 7,
     "metadata": {},
     "output_type": "execute_result"
    }
   ],
   "source": [
    "data_test.head()"
   ]
  },
  {
   "cell_type": "code",
   "execution_count": 8,
   "metadata": {
    "scrolled": true
   },
   "outputs": [
    {
     "name": "stdout",
     "output_type": "stream",
     "text": [
      "<class 'pandas.core.frame.DataFrame'>\n",
      "RangeIndex: 5290 entries, 0 to 5289\n",
      "Data columns (total 53 columns):\n",
      " #   Column                                      Non-Null Count  Dtype  \n",
      "---  ------                                      --------------  -----  \n",
      " 0   date                                        5290 non-null   object \n",
      " 1   primary_cleaner.input.sulfate               5286 non-null   float64\n",
      " 2   primary_cleaner.input.depressant            5285 non-null   float64\n",
      " 3   primary_cleaner.input.feed_size             5290 non-null   float64\n",
      " 4   primary_cleaner.input.xanthate              5286 non-null   float64\n",
      " 5   primary_cleaner.state.floatbank8_a_air      5290 non-null   float64\n",
      " 6   primary_cleaner.state.floatbank8_a_level    5290 non-null   float64\n",
      " 7   primary_cleaner.state.floatbank8_b_air      5290 non-null   float64\n",
      " 8   primary_cleaner.state.floatbank8_b_level    5290 non-null   float64\n",
      " 9   primary_cleaner.state.floatbank8_c_air      5290 non-null   float64\n",
      " 10  primary_cleaner.state.floatbank8_c_level    5290 non-null   float64\n",
      " 11  primary_cleaner.state.floatbank8_d_air      5290 non-null   float64\n",
      " 12  primary_cleaner.state.floatbank8_d_level    5290 non-null   float64\n",
      " 13  rougher.input.feed_ag                       5290 non-null   float64\n",
      " 14  rougher.input.feed_pb                       5290 non-null   float64\n",
      " 15  rougher.input.feed_rate                     5287 non-null   float64\n",
      " 16  rougher.input.feed_size                     5289 non-null   float64\n",
      " 17  rougher.input.feed_sol                      5269 non-null   float64\n",
      " 18  rougher.input.feed_au                       5290 non-null   float64\n",
      " 19  rougher.input.floatbank10_sulfate           5285 non-null   float64\n",
      " 20  rougher.input.floatbank10_xanthate          5290 non-null   float64\n",
      " 21  rougher.input.floatbank11_sulfate           5282 non-null   float64\n",
      " 22  rougher.input.floatbank11_xanthate          5265 non-null   float64\n",
      " 23  rougher.state.floatbank10_a_air             5290 non-null   float64\n",
      " 24  rougher.state.floatbank10_a_level           5290 non-null   float64\n",
      " 25  rougher.state.floatbank10_b_air             5290 non-null   float64\n",
      " 26  rougher.state.floatbank10_b_level           5290 non-null   float64\n",
      " 27  rougher.state.floatbank10_c_air             5290 non-null   float64\n",
      " 28  rougher.state.floatbank10_c_level           5290 non-null   float64\n",
      " 29  rougher.state.floatbank10_d_air             5290 non-null   float64\n",
      " 30  rougher.state.floatbank10_d_level           5290 non-null   float64\n",
      " 31  rougher.state.floatbank10_e_air             5290 non-null   float64\n",
      " 32  rougher.state.floatbank10_e_level           5290 non-null   float64\n",
      " 33  rougher.state.floatbank10_f_air             5290 non-null   float64\n",
      " 34  rougher.state.floatbank10_f_level           5290 non-null   float64\n",
      " 35  secondary_cleaner.state.floatbank2_a_air    5287 non-null   float64\n",
      " 36  secondary_cleaner.state.floatbank2_a_level  5290 non-null   float64\n",
      " 37  secondary_cleaner.state.floatbank2_b_air    5288 non-null   float64\n",
      " 38  secondary_cleaner.state.floatbank2_b_level  5290 non-null   float64\n",
      " 39  secondary_cleaner.state.floatbank3_a_air    5281 non-null   float64\n",
      " 40  secondary_cleaner.state.floatbank3_a_level  5290 non-null   float64\n",
      " 41  secondary_cleaner.state.floatbank3_b_air    5290 non-null   float64\n",
      " 42  secondary_cleaner.state.floatbank3_b_level  5290 non-null   float64\n",
      " 43  secondary_cleaner.state.floatbank4_a_air    5290 non-null   float64\n",
      " 44  secondary_cleaner.state.floatbank4_a_level  5290 non-null   float64\n",
      " 45  secondary_cleaner.state.floatbank4_b_air    5290 non-null   float64\n",
      " 46  secondary_cleaner.state.floatbank4_b_level  5290 non-null   float64\n",
      " 47  secondary_cleaner.state.floatbank5_a_air    5290 non-null   float64\n",
      " 48  secondary_cleaner.state.floatbank5_a_level  5290 non-null   float64\n",
      " 49  secondary_cleaner.state.floatbank5_b_air    5290 non-null   float64\n",
      " 50  secondary_cleaner.state.floatbank5_b_level  5290 non-null   float64\n",
      " 51  secondary_cleaner.state.floatbank6_a_air    5290 non-null   float64\n",
      " 52  secondary_cleaner.state.floatbank6_a_level  5290 non-null   float64\n",
      "dtypes: float64(52), object(1)\n",
      "memory usage: 2.1+ MB\n"
     ]
    }
   ],
   "source": [
    "data_test.info()"
   ]
  },
  {
   "cell_type": "code",
   "execution_count": 9,
   "metadata": {},
   "outputs": [
    {
     "data": {
      "text/plain": [
       "61"
      ]
     },
     "execution_count": 9,
     "metadata": {},
     "output_type": "execute_result"
    }
   ],
   "source": [
    "len(data_test[data_test.isna().any(axis=1)])"
   ]
  },
  {
   "cell_type": "markdown",
   "metadata": {},
   "source": [
    "The dataset has 5290 rows and 53 columns. There are columns with missing data. There are 61 lines with missing data in total."
   ]
  },
  {
   "cell_type": "code",
   "execution_count": 10,
   "metadata": {},
   "outputs": [
    {
     "data": {
      "text/html": [
       "<div>\n",
       "<style scoped>\n",
       "    .dataframe tbody tr th:only-of-type {\n",
       "        vertical-align: middle;\n",
       "    }\n",
       "\n",
       "    .dataframe tbody tr th {\n",
       "        vertical-align: top;\n",
       "    }\n",
       "\n",
       "    .dataframe thead th {\n",
       "        text-align: right;\n",
       "    }\n",
       "</style>\n",
       "<table border=\"1\" class=\"dataframe\">\n",
       "  <thead>\n",
       "    <tr style=\"text-align: right;\">\n",
       "      <th></th>\n",
       "      <th>date</th>\n",
       "      <th>final.output.concentrate_ag</th>\n",
       "      <th>final.output.concentrate_pb</th>\n",
       "      <th>final.output.concentrate_sol</th>\n",
       "      <th>final.output.concentrate_au</th>\n",
       "      <th>final.output.recovery</th>\n",
       "      <th>final.output.tail_ag</th>\n",
       "      <th>final.output.tail_pb</th>\n",
       "      <th>final.output.tail_sol</th>\n",
       "      <th>final.output.tail_au</th>\n",
       "      <th>...</th>\n",
       "      <th>secondary_cleaner.state.floatbank4_a_air</th>\n",
       "      <th>secondary_cleaner.state.floatbank4_a_level</th>\n",
       "      <th>secondary_cleaner.state.floatbank4_b_air</th>\n",
       "      <th>secondary_cleaner.state.floatbank4_b_level</th>\n",
       "      <th>secondary_cleaner.state.floatbank5_a_air</th>\n",
       "      <th>secondary_cleaner.state.floatbank5_a_level</th>\n",
       "      <th>secondary_cleaner.state.floatbank5_b_air</th>\n",
       "      <th>secondary_cleaner.state.floatbank5_b_level</th>\n",
       "      <th>secondary_cleaner.state.floatbank6_a_air</th>\n",
       "      <th>secondary_cleaner.state.floatbank6_a_level</th>\n",
       "    </tr>\n",
       "  </thead>\n",
       "  <tbody>\n",
       "    <tr>\n",
       "      <th>0</th>\n",
       "      <td>2016-01-15 00:00:00</td>\n",
       "      <td>6.055403</td>\n",
       "      <td>9.889648</td>\n",
       "      <td>5.507324</td>\n",
       "      <td>42.192020</td>\n",
       "      <td>70.541216</td>\n",
       "      <td>10.411962</td>\n",
       "      <td>0.895447</td>\n",
       "      <td>16.904297</td>\n",
       "      <td>2.143149</td>\n",
       "      <td>...</td>\n",
       "      <td>14.016835</td>\n",
       "      <td>-502.488007</td>\n",
       "      <td>12.099931</td>\n",
       "      <td>-504.715942</td>\n",
       "      <td>9.925633</td>\n",
       "      <td>-498.310211</td>\n",
       "      <td>8.079666</td>\n",
       "      <td>-500.470978</td>\n",
       "      <td>14.151341</td>\n",
       "      <td>-605.841980</td>\n",
       "    </tr>\n",
       "    <tr>\n",
       "      <th>1</th>\n",
       "      <td>2016-01-15 01:00:00</td>\n",
       "      <td>6.029369</td>\n",
       "      <td>9.968944</td>\n",
       "      <td>5.257781</td>\n",
       "      <td>42.701629</td>\n",
       "      <td>69.266198</td>\n",
       "      <td>10.462676</td>\n",
       "      <td>0.927452</td>\n",
       "      <td>16.634514</td>\n",
       "      <td>2.224930</td>\n",
       "      <td>...</td>\n",
       "      <td>13.992281</td>\n",
       "      <td>-505.503262</td>\n",
       "      <td>11.950531</td>\n",
       "      <td>-501.331529</td>\n",
       "      <td>10.039245</td>\n",
       "      <td>-500.169983</td>\n",
       "      <td>7.984757</td>\n",
       "      <td>-500.582168</td>\n",
       "      <td>13.998353</td>\n",
       "      <td>-599.787184</td>\n",
       "    </tr>\n",
       "    <tr>\n",
       "      <th>2</th>\n",
       "      <td>2016-01-15 02:00:00</td>\n",
       "      <td>6.055926</td>\n",
       "      <td>10.213995</td>\n",
       "      <td>5.383759</td>\n",
       "      <td>42.657501</td>\n",
       "      <td>68.116445</td>\n",
       "      <td>10.507046</td>\n",
       "      <td>0.953716</td>\n",
       "      <td>16.208849</td>\n",
       "      <td>2.257889</td>\n",
       "      <td>...</td>\n",
       "      <td>14.015015</td>\n",
       "      <td>-502.520901</td>\n",
       "      <td>11.912783</td>\n",
       "      <td>-501.133383</td>\n",
       "      <td>10.070913</td>\n",
       "      <td>-500.129135</td>\n",
       "      <td>8.013877</td>\n",
       "      <td>-500.517572</td>\n",
       "      <td>14.028663</td>\n",
       "      <td>-601.427363</td>\n",
       "    </tr>\n",
       "    <tr>\n",
       "      <th>3</th>\n",
       "      <td>2016-01-15 03:00:00</td>\n",
       "      <td>6.047977</td>\n",
       "      <td>9.977019</td>\n",
       "      <td>4.858634</td>\n",
       "      <td>42.689819</td>\n",
       "      <td>68.347543</td>\n",
       "      <td>10.422762</td>\n",
       "      <td>0.883763</td>\n",
       "      <td>16.532835</td>\n",
       "      <td>2.146849</td>\n",
       "      <td>...</td>\n",
       "      <td>14.036510</td>\n",
       "      <td>-500.857308</td>\n",
       "      <td>11.999550</td>\n",
       "      <td>-501.193686</td>\n",
       "      <td>9.970366</td>\n",
       "      <td>-499.201640</td>\n",
       "      <td>7.977324</td>\n",
       "      <td>-500.255908</td>\n",
       "      <td>14.005551</td>\n",
       "      <td>-599.996129</td>\n",
       "    </tr>\n",
       "    <tr>\n",
       "      <th>4</th>\n",
       "      <td>2016-01-15 04:00:00</td>\n",
       "      <td>6.148599</td>\n",
       "      <td>10.142511</td>\n",
       "      <td>4.939416</td>\n",
       "      <td>42.774141</td>\n",
       "      <td>66.927016</td>\n",
       "      <td>10.360302</td>\n",
       "      <td>0.792826</td>\n",
       "      <td>16.525686</td>\n",
       "      <td>2.055292</td>\n",
       "      <td>...</td>\n",
       "      <td>14.027298</td>\n",
       "      <td>-499.838632</td>\n",
       "      <td>11.953070</td>\n",
       "      <td>-501.053894</td>\n",
       "      <td>9.925709</td>\n",
       "      <td>-501.686727</td>\n",
       "      <td>7.894242</td>\n",
       "      <td>-500.356035</td>\n",
       "      <td>13.996647</td>\n",
       "      <td>-601.496691</td>\n",
       "    </tr>\n",
       "  </tbody>\n",
       "</table>\n",
       "<p>5 rows × 87 columns</p>\n",
       "</div>"
      ],
      "text/plain": [
       "                  date  final.output.concentrate_ag  \\\n",
       "0  2016-01-15 00:00:00                     6.055403   \n",
       "1  2016-01-15 01:00:00                     6.029369   \n",
       "2  2016-01-15 02:00:00                     6.055926   \n",
       "3  2016-01-15 03:00:00                     6.047977   \n",
       "4  2016-01-15 04:00:00                     6.148599   \n",
       "\n",
       "   final.output.concentrate_pb  final.output.concentrate_sol  \\\n",
       "0                     9.889648                      5.507324   \n",
       "1                     9.968944                      5.257781   \n",
       "2                    10.213995                      5.383759   \n",
       "3                     9.977019                      4.858634   \n",
       "4                    10.142511                      4.939416   \n",
       "\n",
       "   final.output.concentrate_au  final.output.recovery  final.output.tail_ag  \\\n",
       "0                    42.192020              70.541216             10.411962   \n",
       "1                    42.701629              69.266198             10.462676   \n",
       "2                    42.657501              68.116445             10.507046   \n",
       "3                    42.689819              68.347543             10.422762   \n",
       "4                    42.774141              66.927016             10.360302   \n",
       "\n",
       "   final.output.tail_pb  final.output.tail_sol  final.output.tail_au  ...  \\\n",
       "0              0.895447              16.904297              2.143149  ...   \n",
       "1              0.927452              16.634514              2.224930  ...   \n",
       "2              0.953716              16.208849              2.257889  ...   \n",
       "3              0.883763              16.532835              2.146849  ...   \n",
       "4              0.792826              16.525686              2.055292  ...   \n",
       "\n",
       "   secondary_cleaner.state.floatbank4_a_air  \\\n",
       "0                                 14.016835   \n",
       "1                                 13.992281   \n",
       "2                                 14.015015   \n",
       "3                                 14.036510   \n",
       "4                                 14.027298   \n",
       "\n",
       "   secondary_cleaner.state.floatbank4_a_level  \\\n",
       "0                                 -502.488007   \n",
       "1                                 -505.503262   \n",
       "2                                 -502.520901   \n",
       "3                                 -500.857308   \n",
       "4                                 -499.838632   \n",
       "\n",
       "   secondary_cleaner.state.floatbank4_b_air  \\\n",
       "0                                 12.099931   \n",
       "1                                 11.950531   \n",
       "2                                 11.912783   \n",
       "3                                 11.999550   \n",
       "4                                 11.953070   \n",
       "\n",
       "   secondary_cleaner.state.floatbank4_b_level  \\\n",
       "0                                 -504.715942   \n",
       "1                                 -501.331529   \n",
       "2                                 -501.133383   \n",
       "3                                 -501.193686   \n",
       "4                                 -501.053894   \n",
       "\n",
       "   secondary_cleaner.state.floatbank5_a_air  \\\n",
       "0                                  9.925633   \n",
       "1                                 10.039245   \n",
       "2                                 10.070913   \n",
       "3                                  9.970366   \n",
       "4                                  9.925709   \n",
       "\n",
       "   secondary_cleaner.state.floatbank5_a_level  \\\n",
       "0                                 -498.310211   \n",
       "1                                 -500.169983   \n",
       "2                                 -500.129135   \n",
       "3                                 -499.201640   \n",
       "4                                 -501.686727   \n",
       "\n",
       "   secondary_cleaner.state.floatbank5_b_air  \\\n",
       "0                                  8.079666   \n",
       "1                                  7.984757   \n",
       "2                                  8.013877   \n",
       "3                                  7.977324   \n",
       "4                                  7.894242   \n",
       "\n",
       "   secondary_cleaner.state.floatbank5_b_level  \\\n",
       "0                                 -500.470978   \n",
       "1                                 -500.582168   \n",
       "2                                 -500.517572   \n",
       "3                                 -500.255908   \n",
       "4                                 -500.356035   \n",
       "\n",
       "   secondary_cleaner.state.floatbank6_a_air  \\\n",
       "0                                 14.151341   \n",
       "1                                 13.998353   \n",
       "2                                 14.028663   \n",
       "3                                 14.005551   \n",
       "4                                 13.996647   \n",
       "\n",
       "   secondary_cleaner.state.floatbank6_a_level  \n",
       "0                                 -605.841980  \n",
       "1                                 -599.787184  \n",
       "2                                 -601.427363  \n",
       "3                                 -599.996129  \n",
       "4                                 -601.496691  \n",
       "\n",
       "[5 rows x 87 columns]"
      ]
     },
     "execution_count": 10,
     "metadata": {},
     "output_type": "execute_result"
    }
   ],
   "source": [
    "data_full.head()"
   ]
  },
  {
   "cell_type": "code",
   "execution_count": 11,
   "metadata": {
    "scrolled": true
   },
   "outputs": [
    {
     "name": "stdout",
     "output_type": "stream",
     "text": [
      "<class 'pandas.core.frame.DataFrame'>\n",
      "RangeIndex: 19439 entries, 0 to 19438\n",
      "Data columns (total 87 columns):\n",
      " #   Column                                              Non-Null Count  Dtype  \n",
      "---  ------                                              --------------  -----  \n",
      " 0   date                                                19439 non-null  object \n",
      " 1   final.output.concentrate_ag                         19438 non-null  float64\n",
      " 2   final.output.concentrate_pb                         19438 non-null  float64\n",
      " 3   final.output.concentrate_sol                        19228 non-null  float64\n",
      " 4   final.output.concentrate_au                         19439 non-null  float64\n",
      " 5   final.output.recovery                               19439 non-null  float64\n",
      " 6   final.output.tail_ag                                19438 non-null  float64\n",
      " 7   final.output.tail_pb                                19338 non-null  float64\n",
      " 8   final.output.tail_sol                               19433 non-null  float64\n",
      " 9   final.output.tail_au                                19439 non-null  float64\n",
      " 10  primary_cleaner.input.sulfate                       19415 non-null  float64\n",
      " 11  primary_cleaner.input.depressant                    19402 non-null  float64\n",
      " 12  primary_cleaner.input.feed_size                     19439 non-null  float64\n",
      " 13  primary_cleaner.input.xanthate                      19335 non-null  float64\n",
      " 14  primary_cleaner.output.concentrate_ag               19439 non-null  float64\n",
      " 15  primary_cleaner.output.concentrate_pb               19323 non-null  float64\n",
      " 16  primary_cleaner.output.concentrate_sol              19069 non-null  float64\n",
      " 17  primary_cleaner.output.concentrate_au               19439 non-null  float64\n",
      " 18  primary_cleaner.output.tail_ag                      19435 non-null  float64\n",
      " 19  primary_cleaner.output.tail_pb                      19418 non-null  float64\n",
      " 20  primary_cleaner.output.tail_sol                     19377 non-null  float64\n",
      " 21  primary_cleaner.output.tail_au                      19439 non-null  float64\n",
      " 22  primary_cleaner.state.floatbank8_a_air              19435 non-null  float64\n",
      " 23  primary_cleaner.state.floatbank8_a_level            19438 non-null  float64\n",
      " 24  primary_cleaner.state.floatbank8_b_air              19435 non-null  float64\n",
      " 25  primary_cleaner.state.floatbank8_b_level            19438 non-null  float64\n",
      " 26  primary_cleaner.state.floatbank8_c_air              19437 non-null  float64\n",
      " 27  primary_cleaner.state.floatbank8_c_level            19438 non-null  float64\n",
      " 28  primary_cleaner.state.floatbank8_d_air              19436 non-null  float64\n",
      " 29  primary_cleaner.state.floatbank8_d_level            19438 non-null  float64\n",
      " 30  rougher.calculation.sulfate_to_au_concentrate       19437 non-null  float64\n",
      " 31  rougher.calculation.floatbank10_sulfate_to_au_feed  19437 non-null  float64\n",
      " 32  rougher.calculation.floatbank11_sulfate_to_au_feed  19437 non-null  float64\n",
      " 33  rougher.calculation.au_pb_ratio                     19439 non-null  float64\n",
      " 34  rougher.input.feed_ag                               19439 non-null  float64\n",
      " 35  rougher.input.feed_pb                               19339 non-null  float64\n",
      " 36  rougher.input.feed_rate                             19428 non-null  float64\n",
      " 37  rougher.input.feed_size                             19294 non-null  float64\n",
      " 38  rougher.input.feed_sol                              19340 non-null  float64\n",
      " 39  rougher.input.feed_au                               19439 non-null  float64\n",
      " 40  rougher.input.floatbank10_sulfate                   19405 non-null  float64\n",
      " 41  rougher.input.floatbank10_xanthate                  19431 non-null  float64\n",
      " 42  rougher.input.floatbank11_sulfate                   19395 non-null  float64\n",
      " 43  rougher.input.floatbank11_xanthate                  18986 non-null  float64\n",
      " 44  rougher.output.concentrate_ag                       19439 non-null  float64\n",
      " 45  rougher.output.concentrate_pb                       19439 non-null  float64\n",
      " 46  rougher.output.concentrate_sol                      19416 non-null  float64\n",
      " 47  rougher.output.concentrate_au                       19439 non-null  float64\n",
      " 48  rougher.output.recovery                             19439 non-null  float64\n",
      " 49  rougher.output.tail_ag                              19438 non-null  float64\n",
      " 50  rougher.output.tail_pb                              19439 non-null  float64\n",
      " 51  rougher.output.tail_sol                             19439 non-null  float64\n",
      " 52  rougher.output.tail_au                              19439 non-null  float64\n",
      " 53  rougher.state.floatbank10_a_air                     19438 non-null  float64\n",
      " 54  rougher.state.floatbank10_a_level                   19438 non-null  float64\n",
      " 55  rougher.state.floatbank10_b_air                     19438 non-null  float64\n",
      " 56  rougher.state.floatbank10_b_level                   19438 non-null  float64\n",
      " 57  rougher.state.floatbank10_c_air                     19438 non-null  float64\n",
      " 58  rougher.state.floatbank10_c_level                   19438 non-null  float64\n",
      " 59  rougher.state.floatbank10_d_air                     19439 non-null  float64\n",
      " 60  rougher.state.floatbank10_d_level                   19439 non-null  float64\n",
      " 61  rougher.state.floatbank10_e_air                     19003 non-null  float64\n",
      " 62  rougher.state.floatbank10_e_level                   19439 non-null  float64\n",
      " 63  rougher.state.floatbank10_f_air                     19439 non-null  float64\n",
      " 64  rougher.state.floatbank10_f_level                   19439 non-null  float64\n",
      " 65  secondary_cleaner.output.tail_ag                    19437 non-null  float64\n",
      " 66  secondary_cleaner.output.tail_pb                    19427 non-null  float64\n",
      " 67  secondary_cleaner.output.tail_sol                   17691 non-null  float64\n",
      " 68  secondary_cleaner.output.tail_au                    19439 non-null  float64\n",
      " 69  secondary_cleaner.state.floatbank2_a_air            19219 non-null  float64\n",
      " 70  secondary_cleaner.state.floatbank2_a_level          19438 non-null  float64\n",
      " 71  secondary_cleaner.state.floatbank2_b_air            19416 non-null  float64\n",
      " 72  secondary_cleaner.state.floatbank2_b_level          19438 non-null  float64\n",
      " 73  secondary_cleaner.state.floatbank3_a_air            19426 non-null  float64\n",
      " 74  secondary_cleaner.state.floatbank3_a_level          19438 non-null  float64\n",
      " 75  secondary_cleaner.state.floatbank3_b_air            19438 non-null  float64\n",
      " 76  secondary_cleaner.state.floatbank3_b_level          19438 non-null  float64\n",
      " 77  secondary_cleaner.state.floatbank4_a_air            19433 non-null  float64\n",
      " 78  secondary_cleaner.state.floatbank4_a_level          19438 non-null  float64\n",
      " 79  secondary_cleaner.state.floatbank4_b_air            19438 non-null  float64\n",
      " 80  secondary_cleaner.state.floatbank4_b_level          19438 non-null  float64\n",
      " 81  secondary_cleaner.state.floatbank5_a_air            19438 non-null  float64\n",
      " 82  secondary_cleaner.state.floatbank5_a_level          19438 non-null  float64\n",
      " 83  secondary_cleaner.state.floatbank5_b_air            19438 non-null  float64\n",
      " 84  secondary_cleaner.state.floatbank5_b_level          19438 non-null  float64\n",
      " 85  secondary_cleaner.state.floatbank6_a_air            19437 non-null  float64\n",
      " 86  secondary_cleaner.state.floatbank6_a_level          19438 non-null  float64\n",
      "dtypes: float64(86), object(1)\n",
      "memory usage: 12.9+ MB\n"
     ]
    }
   ],
   "source": [
    "data_full.info()"
   ]
  },
  {
   "cell_type": "code",
   "execution_count": 12,
   "metadata": {},
   "outputs": [
    {
     "data": {
      "text/plain": [
       "3345"
      ]
     },
     "execution_count": 12,
     "metadata": {},
     "output_type": "execute_result"
    }
   ],
   "source": [
    "len(data_full[data_full.isna().any(axis=1)])"
   ]
  },
  {
   "cell_type": "markdown",
   "metadata": {},
   "source": [
    "The dataset has 19439 rows and 87 columns. There are columns with missing data. A total of 3345 rows with missing data."
   ]
  },
  {
   "cell_type": "code",
   "execution_count": 13,
   "metadata": {},
   "outputs": [
    {
     "data": {
      "text/plain": [
       "Index(['date', 'final.output.concentrate_ag', 'final.output.concentrate_pb',\n",
       "       'final.output.concentrate_sol', 'final.output.concentrate_au',\n",
       "       'final.output.recovery', 'final.output.tail_ag', 'final.output.tail_pb',\n",
       "       'final.output.tail_sol', 'final.output.tail_au',\n",
       "       'primary_cleaner.input.sulfate', 'primary_cleaner.input.depressant',\n",
       "       'primary_cleaner.input.feed_size', 'primary_cleaner.input.xanthate',\n",
       "       'primary_cleaner.output.concentrate_ag',\n",
       "       'primary_cleaner.output.concentrate_pb',\n",
       "       'primary_cleaner.output.concentrate_sol',\n",
       "       'primary_cleaner.output.concentrate_au',\n",
       "       'primary_cleaner.output.tail_ag', 'primary_cleaner.output.tail_pb',\n",
       "       'primary_cleaner.output.tail_sol', 'primary_cleaner.output.tail_au',\n",
       "       'primary_cleaner.state.floatbank8_a_air',\n",
       "       'primary_cleaner.state.floatbank8_a_level',\n",
       "       'primary_cleaner.state.floatbank8_b_air',\n",
       "       'primary_cleaner.state.floatbank8_b_level',\n",
       "       'primary_cleaner.state.floatbank8_c_air',\n",
       "       'primary_cleaner.state.floatbank8_c_level',\n",
       "       'primary_cleaner.state.floatbank8_d_air',\n",
       "       'primary_cleaner.state.floatbank8_d_level',\n",
       "       'rougher.calculation.sulfate_to_au_concentrate',\n",
       "       'rougher.calculation.floatbank10_sulfate_to_au_feed',\n",
       "       'rougher.calculation.floatbank11_sulfate_to_au_feed',\n",
       "       'rougher.calculation.au_pb_ratio', 'rougher.input.feed_ag',\n",
       "       'rougher.input.feed_pb', 'rougher.input.feed_rate',\n",
       "       'rougher.input.feed_size', 'rougher.input.feed_sol',\n",
       "       'rougher.input.feed_au', 'rougher.input.floatbank10_sulfate',\n",
       "       'rougher.input.floatbank10_xanthate',\n",
       "       'rougher.input.floatbank11_sulfate',\n",
       "       'rougher.input.floatbank11_xanthate', 'rougher.output.concentrate_ag',\n",
       "       'rougher.output.concentrate_pb', 'rougher.output.concentrate_sol',\n",
       "       'rougher.output.concentrate_au', 'rougher.output.recovery',\n",
       "       'rougher.output.tail_ag', 'rougher.output.tail_pb',\n",
       "       'rougher.output.tail_sol', 'rougher.output.tail_au',\n",
       "       'rougher.state.floatbank10_a_air', 'rougher.state.floatbank10_a_level',\n",
       "       'rougher.state.floatbank10_b_air', 'rougher.state.floatbank10_b_level',\n",
       "       'rougher.state.floatbank10_c_air', 'rougher.state.floatbank10_c_level',\n",
       "       'rougher.state.floatbank10_d_air', 'rougher.state.floatbank10_d_level',\n",
       "       'rougher.state.floatbank10_e_air', 'rougher.state.floatbank10_e_level',\n",
       "       'rougher.state.floatbank10_f_air', 'rougher.state.floatbank10_f_level',\n",
       "       'secondary_cleaner.output.tail_ag', 'secondary_cleaner.output.tail_pb',\n",
       "       'secondary_cleaner.output.tail_sol', 'secondary_cleaner.output.tail_au',\n",
       "       'secondary_cleaner.state.floatbank2_a_air',\n",
       "       'secondary_cleaner.state.floatbank2_a_level',\n",
       "       'secondary_cleaner.state.floatbank2_b_air',\n",
       "       'secondary_cleaner.state.floatbank2_b_level',\n",
       "       'secondary_cleaner.state.floatbank3_a_air',\n",
       "       'secondary_cleaner.state.floatbank3_a_level',\n",
       "       'secondary_cleaner.state.floatbank3_b_air',\n",
       "       'secondary_cleaner.state.floatbank3_b_level',\n",
       "       'secondary_cleaner.state.floatbank4_a_air',\n",
       "       'secondary_cleaner.state.floatbank4_a_level',\n",
       "       'secondary_cleaner.state.floatbank4_b_air',\n",
       "       'secondary_cleaner.state.floatbank4_b_level',\n",
       "       'secondary_cleaner.state.floatbank5_a_air',\n",
       "       'secondary_cleaner.state.floatbank5_a_level',\n",
       "       'secondary_cleaner.state.floatbank5_b_air',\n",
       "       'secondary_cleaner.state.floatbank5_b_level',\n",
       "       'secondary_cleaner.state.floatbank6_a_air',\n",
       "       'secondary_cleaner.state.floatbank6_a_level'],\n",
       "      dtype='object')"
      ]
     },
     "execution_count": 13,
     "metadata": {},
     "output_type": "execute_result"
    }
   ],
   "source": [
    "data_full.columns"
   ]
  },
  {
   "cell_type": "markdown",
   "metadata": {},
   "source": [
    "###  Calculation MAE of the enrichment efficiency"
   ]
  },
  {
   "cell_type": "markdown",
   "metadata": {},
   "source": [
    "Let's check that the enrichment efficiency is calculated correctly. Calculate it on the training sample for the feature rougher.output.recovery. Then find the MAE between our calculations and the feature value."
   ]
  },
  {
   "cell_type": "code",
   "execution_count": 14,
   "metadata": {},
   "outputs": [],
   "source": [
    "# share of gold in concentrate after flotation/refining\n",
    "c_rough = data_train['rougher.output.concentrate_au']\n",
    "# share of gold in raw material/concentrate before flotation/refining\n",
    "f_rough = data_train['rougher.input.feed_au']\n",
    "# proportion of gold in waste tailings after flotation/refining\n",
    "t_rough = data_train['rougher.output.tail_au']"
   ]
  },
  {
   "cell_type": "code",
   "execution_count": 15,
   "metadata": {},
   "outputs": [],
   "source": [
    "def recovery_calc(c, f, t):\n",
    "    return 100 * (c * (f - t)) / (f * (c - t))"
   ]
  },
  {
   "cell_type": "code",
   "execution_count": 16,
   "metadata": {},
   "outputs": [],
   "source": [
    "# We calculate the enrichment efficiency\n",
    "data_train['rougher.output.recovery_calc'] = recovery_calc(c_rough, f_rough, t_rough)"
   ]
  },
  {
   "cell_type": "code",
   "execution_count": 17,
   "metadata": {},
   "outputs": [],
   "source": [
    "recovery_calc = data_train['rougher.output.recovery_calc']"
   ]
  },
  {
   "cell_type": "code",
   "execution_count": 18,
   "metadata": {},
   "outputs": [],
   "source": [
    "recovery_true = data_train['rougher.output.recovery']"
   ]
  },
  {
   "cell_type": "code",
   "execution_count": 19,
   "metadata": {},
   "outputs": [],
   "source": [
    "# MAE calculation\n",
    "rough_out_recovery_mae = mean_absolute_error(recovery_true, recovery_calc)"
   ]
  },
  {
   "cell_type": "code",
   "execution_count": 20,
   "metadata": {},
   "outputs": [
    {
     "data": {
      "text/plain": [
       "'MAE: 1.1131451184435918e-14'"
      ]
     },
     "execution_count": 20,
     "metadata": {},
     "output_type": "execute_result"
    }
   ],
   "source": [
    "f'MAE: {rough_out_recovery_mae}'"
   ]
  },
  {
   "cell_type": "markdown",
   "metadata": {},
   "source": [
    "The MAE value is exceptionally small. We can safely assume that the data is calculated correctly."
   ]
  },
  {
   "cell_type": "markdown",
   "metadata": {},
   "source": [
    "### Analysis of features missing in the test sample"
   ]
  },
  {
   "cell_type": "markdown",
   "metadata": {},
   "source": [
    "Let's create a list of such features."
   ]
  },
  {
   "cell_type": "code",
   "execution_count": 21,
   "metadata": {},
   "outputs": [],
   "source": [
    "data_test_missing = [col for col in data_full.columns if col not in data_test.columns]"
   ]
  },
  {
   "cell_type": "code",
   "execution_count": 22,
   "metadata": {},
   "outputs": [
    {
     "data": {
      "text/plain": [
       "['final.output.concentrate_ag',\n",
       " 'final.output.concentrate_pb',\n",
       " 'final.output.concentrate_sol',\n",
       " 'final.output.concentrate_au',\n",
       " 'final.output.recovery',\n",
       " 'final.output.tail_ag',\n",
       " 'final.output.tail_pb',\n",
       " 'final.output.tail_sol',\n",
       " 'final.output.tail_au',\n",
       " 'primary_cleaner.output.concentrate_ag',\n",
       " 'primary_cleaner.output.concentrate_pb',\n",
       " 'primary_cleaner.output.concentrate_sol',\n",
       " 'primary_cleaner.output.concentrate_au',\n",
       " 'primary_cleaner.output.tail_ag',\n",
       " 'primary_cleaner.output.tail_pb',\n",
       " 'primary_cleaner.output.tail_sol',\n",
       " 'primary_cleaner.output.tail_au',\n",
       " 'rougher.calculation.sulfate_to_au_concentrate',\n",
       " 'rougher.calculation.floatbank10_sulfate_to_au_feed',\n",
       " 'rougher.calculation.floatbank11_sulfate_to_au_feed',\n",
       " 'rougher.calculation.au_pb_ratio',\n",
       " 'rougher.output.concentrate_ag',\n",
       " 'rougher.output.concentrate_pb',\n",
       " 'rougher.output.concentrate_sol',\n",
       " 'rougher.output.concentrate_au',\n",
       " 'rougher.output.recovery',\n",
       " 'rougher.output.tail_ag',\n",
       " 'rougher.output.tail_pb',\n",
       " 'rougher.output.tail_sol',\n",
       " 'rougher.output.tail_au',\n",
       " 'secondary_cleaner.output.tail_ag',\n",
       " 'secondary_cleaner.output.tail_pb',\n",
       " 'secondary_cleaner.output.tail_sol',\n",
       " 'secondary_cleaner.output.tail_au']"
      ]
     },
     "execution_count": 22,
     "metadata": {},
     "output_type": "execute_result"
    }
   ],
   "source": [
    "data_test_missing"
   ]
  },
  {
   "cell_type": "code",
   "execution_count": 23,
   "metadata": {},
   "outputs": [
    {
     "data": {
      "text/plain": [
       "34"
      ]
     },
     "execution_count": 23,
     "metadata": {},
     "output_type": "execute_result"
    }
   ],
   "source": [
    "len(data_test_missing)"
   ]
  },
  {
   "cell_type": "markdown",
   "metadata": {},
   "source": [
    "There are 34 features missing in the test sample. Looking at the list of features, we can conclude that these features contain information about the content of gold and associated elements at subsequent stages. These signs contain the calculated and output characteristics of the process that cannot be obtained or measured during the execution of the technological process."
   ]
  },
  {
   "cell_type": "code",
   "execution_count": 24,
   "metadata": {},
   "outputs": [
    {
     "data": {
      "text/plain": [
       "Index(['date', 'primary_cleaner.input.sulfate',\n",
       "       'primary_cleaner.input.depressant', 'primary_cleaner.input.feed_size',\n",
       "       'primary_cleaner.input.xanthate',\n",
       "       'primary_cleaner.state.floatbank8_a_air',\n",
       "       'primary_cleaner.state.floatbank8_a_level',\n",
       "       'primary_cleaner.state.floatbank8_b_air',\n",
       "       'primary_cleaner.state.floatbank8_b_level',\n",
       "       'primary_cleaner.state.floatbank8_c_air',\n",
       "       'primary_cleaner.state.floatbank8_c_level',\n",
       "       'primary_cleaner.state.floatbank8_d_air',\n",
       "       'primary_cleaner.state.floatbank8_d_level', 'rougher.input.feed_ag',\n",
       "       'rougher.input.feed_pb', 'rougher.input.feed_rate',\n",
       "       'rougher.input.feed_size', 'rougher.input.feed_sol',\n",
       "       'rougher.input.feed_au', 'rougher.input.floatbank10_sulfate',\n",
       "       'rougher.input.floatbank10_xanthate',\n",
       "       'rougher.input.floatbank11_sulfate',\n",
       "       'rougher.input.floatbank11_xanthate', 'rougher.state.floatbank10_a_air',\n",
       "       'rougher.state.floatbank10_a_level', 'rougher.state.floatbank10_b_air',\n",
       "       'rougher.state.floatbank10_b_level', 'rougher.state.floatbank10_c_air',\n",
       "       'rougher.state.floatbank10_c_level', 'rougher.state.floatbank10_d_air',\n",
       "       'rougher.state.floatbank10_d_level', 'rougher.state.floatbank10_e_air',\n",
       "       'rougher.state.floatbank10_e_level', 'rougher.state.floatbank10_f_air',\n",
       "       'rougher.state.floatbank10_f_level',\n",
       "       'secondary_cleaner.state.floatbank2_a_air',\n",
       "       'secondary_cleaner.state.floatbank2_a_level',\n",
       "       'secondary_cleaner.state.floatbank2_b_air',\n",
       "       'secondary_cleaner.state.floatbank2_b_level',\n",
       "       'secondary_cleaner.state.floatbank3_a_air',\n",
       "       'secondary_cleaner.state.floatbank3_a_level',\n",
       "       'secondary_cleaner.state.floatbank3_b_air',\n",
       "       'secondary_cleaner.state.floatbank3_b_level',\n",
       "       'secondary_cleaner.state.floatbank4_a_air',\n",
       "       'secondary_cleaner.state.floatbank4_a_level',\n",
       "       'secondary_cleaner.state.floatbank4_b_air',\n",
       "       'secondary_cleaner.state.floatbank4_b_level',\n",
       "       'secondary_cleaner.state.floatbank5_a_air',\n",
       "       'secondary_cleaner.state.floatbank5_a_level',\n",
       "       'secondary_cleaner.state.floatbank5_b_air',\n",
       "       'secondary_cleaner.state.floatbank5_b_level',\n",
       "       'secondary_cleaner.state.floatbank6_a_air',\n",
       "       'secondary_cleaner.state.floatbank6_a_level'],\n",
       "      dtype='object')"
      ]
     },
     "execution_count": 24,
     "metadata": {},
     "output_type": "execute_result"
    }
   ],
   "source": [
    "data_test.columns"
   ]
  },
  {
   "cell_type": "markdown",
   "metadata": {},
   "source": [
    "###  Data Preprocessing"
   ]
  },
  {
   "cell_type": "markdown",
   "metadata": {},
   "source": [
    "Transforming the data into a time series - set the values of the 'date' column as indexes. Thus, we will simultaneously get rid of the column with string values in features and link data from different datasets."
   ]
  },
  {
   "cell_type": "code",
   "execution_count": 25,
   "metadata": {},
   "outputs": [],
   "source": [
    "data_train = data_train.set_index('date')\n",
    "data_test = data_test.set_index('date')\n",
    "data_full = data_full.set_index('date')"
   ]
  },
  {
   "cell_type": "markdown",
   "metadata": {},
   "source": [
    "#### Data Missings Filling in"
   ]
  },
  {
   "cell_type": "markdown",
   "metadata": {},
   "source": [
    "There are a small number missings in the data, but these missings affect a large number of rows. Therefore, we will fill in the gaps according to the method for neighboring values."
   ]
  },
  {
   "cell_type": "code",
   "execution_count": 26,
   "metadata": {},
   "outputs": [],
   "source": [
    "data_test = data_test.fillna(method='ffill', axis=1)\n",
    "data_test = data_test.fillna(method='bfill', axis=1)"
   ]
  },
  {
   "cell_type": "code",
   "execution_count": 27,
   "metadata": {},
   "outputs": [
    {
     "data": {
      "text/html": [
       "<div>\n",
       "<style scoped>\n",
       "    .dataframe tbody tr th:only-of-type {\n",
       "        vertical-align: middle;\n",
       "    }\n",
       "\n",
       "    .dataframe tbody tr th {\n",
       "        vertical-align: top;\n",
       "    }\n",
       "\n",
       "    .dataframe thead th {\n",
       "        text-align: right;\n",
       "    }\n",
       "</style>\n",
       "<table border=\"1\" class=\"dataframe\">\n",
       "  <thead>\n",
       "    <tr style=\"text-align: right;\">\n",
       "      <th></th>\n",
       "      <th>primary_cleaner.input.sulfate</th>\n",
       "      <th>primary_cleaner.input.depressant</th>\n",
       "      <th>primary_cleaner.input.feed_size</th>\n",
       "      <th>primary_cleaner.input.xanthate</th>\n",
       "      <th>primary_cleaner.state.floatbank8_a_air</th>\n",
       "      <th>primary_cleaner.state.floatbank8_a_level</th>\n",
       "      <th>primary_cleaner.state.floatbank8_b_air</th>\n",
       "      <th>primary_cleaner.state.floatbank8_b_level</th>\n",
       "      <th>primary_cleaner.state.floatbank8_c_air</th>\n",
       "      <th>primary_cleaner.state.floatbank8_c_level</th>\n",
       "      <th>...</th>\n",
       "      <th>secondary_cleaner.state.floatbank4_a_air</th>\n",
       "      <th>secondary_cleaner.state.floatbank4_a_level</th>\n",
       "      <th>secondary_cleaner.state.floatbank4_b_air</th>\n",
       "      <th>secondary_cleaner.state.floatbank4_b_level</th>\n",
       "      <th>secondary_cleaner.state.floatbank5_a_air</th>\n",
       "      <th>secondary_cleaner.state.floatbank5_a_level</th>\n",
       "      <th>secondary_cleaner.state.floatbank5_b_air</th>\n",
       "      <th>secondary_cleaner.state.floatbank5_b_level</th>\n",
       "      <th>secondary_cleaner.state.floatbank6_a_air</th>\n",
       "      <th>secondary_cleaner.state.floatbank6_a_level</th>\n",
       "    </tr>\n",
       "    <tr>\n",
       "      <th>date</th>\n",
       "      <th></th>\n",
       "      <th></th>\n",
       "      <th></th>\n",
       "      <th></th>\n",
       "      <th></th>\n",
       "      <th></th>\n",
       "      <th></th>\n",
       "      <th></th>\n",
       "      <th></th>\n",
       "      <th></th>\n",
       "      <th></th>\n",
       "      <th></th>\n",
       "      <th></th>\n",
       "      <th></th>\n",
       "      <th></th>\n",
       "      <th></th>\n",
       "      <th></th>\n",
       "      <th></th>\n",
       "      <th></th>\n",
       "      <th></th>\n",
       "      <th></th>\n",
       "    </tr>\n",
       "  </thead>\n",
       "  <tbody>\n",
       "  </tbody>\n",
       "</table>\n",
       "<p>0 rows × 52 columns</p>\n",
       "</div>"
      ],
      "text/plain": [
       "Empty DataFrame\n",
       "Columns: [primary_cleaner.input.sulfate, primary_cleaner.input.depressant, primary_cleaner.input.feed_size, primary_cleaner.input.xanthate, primary_cleaner.state.floatbank8_a_air, primary_cleaner.state.floatbank8_a_level, primary_cleaner.state.floatbank8_b_air, primary_cleaner.state.floatbank8_b_level, primary_cleaner.state.floatbank8_c_air, primary_cleaner.state.floatbank8_c_level, primary_cleaner.state.floatbank8_d_air, primary_cleaner.state.floatbank8_d_level, rougher.input.feed_ag, rougher.input.feed_pb, rougher.input.feed_rate, rougher.input.feed_size, rougher.input.feed_sol, rougher.input.feed_au, rougher.input.floatbank10_sulfate, rougher.input.floatbank10_xanthate, rougher.input.floatbank11_sulfate, rougher.input.floatbank11_xanthate, rougher.state.floatbank10_a_air, rougher.state.floatbank10_a_level, rougher.state.floatbank10_b_air, rougher.state.floatbank10_b_level, rougher.state.floatbank10_c_air, rougher.state.floatbank10_c_level, rougher.state.floatbank10_d_air, rougher.state.floatbank10_d_level, rougher.state.floatbank10_e_air, rougher.state.floatbank10_e_level, rougher.state.floatbank10_f_air, rougher.state.floatbank10_f_level, secondary_cleaner.state.floatbank2_a_air, secondary_cleaner.state.floatbank2_a_level, secondary_cleaner.state.floatbank2_b_air, secondary_cleaner.state.floatbank2_b_level, secondary_cleaner.state.floatbank3_a_air, secondary_cleaner.state.floatbank3_a_level, secondary_cleaner.state.floatbank3_b_air, secondary_cleaner.state.floatbank3_b_level, secondary_cleaner.state.floatbank4_a_air, secondary_cleaner.state.floatbank4_a_level, secondary_cleaner.state.floatbank4_b_air, secondary_cleaner.state.floatbank4_b_level, secondary_cleaner.state.floatbank5_a_air, secondary_cleaner.state.floatbank5_a_level, secondary_cleaner.state.floatbank5_b_air, secondary_cleaner.state.floatbank5_b_level, secondary_cleaner.state.floatbank6_a_air, secondary_cleaner.state.floatbank6_a_level]\n",
       "Index: []\n",
       "\n",
       "[0 rows x 52 columns]"
      ]
     },
     "execution_count": 27,
     "metadata": {},
     "output_type": "execute_result"
    }
   ],
   "source": [
    "data_test[data_test.isna().any(axis=1)]"
   ]
  },
  {
   "cell_type": "code",
   "execution_count": 28,
   "metadata": {},
   "outputs": [],
   "source": [
    "data_train = data_train.fillna(method='ffill', axis=1)\n",
    "data_test = data_test.fillna(method='bfill', axis=1)"
   ]
  },
  {
   "cell_type": "code",
   "execution_count": 29,
   "metadata": {},
   "outputs": [
    {
     "data": {
      "text/html": [
       "<div>\n",
       "<style scoped>\n",
       "    .dataframe tbody tr th:only-of-type {\n",
       "        vertical-align: middle;\n",
       "    }\n",
       "\n",
       "    .dataframe tbody tr th {\n",
       "        vertical-align: top;\n",
       "    }\n",
       "\n",
       "    .dataframe thead th {\n",
       "        text-align: right;\n",
       "    }\n",
       "</style>\n",
       "<table border=\"1\" class=\"dataframe\">\n",
       "  <thead>\n",
       "    <tr style=\"text-align: right;\">\n",
       "      <th></th>\n",
       "      <th>final.output.concentrate_ag</th>\n",
       "      <th>final.output.concentrate_pb</th>\n",
       "      <th>final.output.concentrate_sol</th>\n",
       "      <th>final.output.concentrate_au</th>\n",
       "      <th>final.output.recovery</th>\n",
       "      <th>final.output.tail_ag</th>\n",
       "      <th>final.output.tail_pb</th>\n",
       "      <th>final.output.tail_sol</th>\n",
       "      <th>final.output.tail_au</th>\n",
       "      <th>primary_cleaner.input.sulfate</th>\n",
       "      <th>...</th>\n",
       "      <th>secondary_cleaner.state.floatbank4_a_level</th>\n",
       "      <th>secondary_cleaner.state.floatbank4_b_air</th>\n",
       "      <th>secondary_cleaner.state.floatbank4_b_level</th>\n",
       "      <th>secondary_cleaner.state.floatbank5_a_air</th>\n",
       "      <th>secondary_cleaner.state.floatbank5_a_level</th>\n",
       "      <th>secondary_cleaner.state.floatbank5_b_air</th>\n",
       "      <th>secondary_cleaner.state.floatbank5_b_level</th>\n",
       "      <th>secondary_cleaner.state.floatbank6_a_air</th>\n",
       "      <th>secondary_cleaner.state.floatbank6_a_level</th>\n",
       "      <th>rougher.output.recovery_calc</th>\n",
       "    </tr>\n",
       "    <tr>\n",
       "      <th>date</th>\n",
       "      <th></th>\n",
       "      <th></th>\n",
       "      <th></th>\n",
       "      <th></th>\n",
       "      <th></th>\n",
       "      <th></th>\n",
       "      <th></th>\n",
       "      <th></th>\n",
       "      <th></th>\n",
       "      <th></th>\n",
       "      <th></th>\n",
       "      <th></th>\n",
       "      <th></th>\n",
       "      <th></th>\n",
       "      <th></th>\n",
       "      <th></th>\n",
       "      <th></th>\n",
       "      <th></th>\n",
       "      <th></th>\n",
       "      <th></th>\n",
       "      <th></th>\n",
       "    </tr>\n",
       "  </thead>\n",
       "  <tbody>\n",
       "    <tr>\n",
       "      <th>2016-06-08 17:59:59</th>\n",
       "      <td>NaN</td>\n",
       "      <td>NaN</td>\n",
       "      <td>10.188231</td>\n",
       "      <td>29.020814</td>\n",
       "      <td>63.725335</td>\n",
       "      <td>7.387115</td>\n",
       "      <td>2.072266</td>\n",
       "      <td>16.982505</td>\n",
       "      <td>2.908215</td>\n",
       "      <td>83.915221</td>\n",
       "      <td>...</td>\n",
       "      <td>-548.815307</td>\n",
       "      <td>7.011665</td>\n",
       "      <td>-537.231749</td>\n",
       "      <td>8.031238</td>\n",
       "      <td>-550.028193</td>\n",
       "      <td>5.984399</td>\n",
       "      <td>-549.63625</td>\n",
       "      <td>18.01224</td>\n",
       "      <td>-551.325271</td>\n",
       "      <td>84.616723</td>\n",
       "    </tr>\n",
       "  </tbody>\n",
       "</table>\n",
       "<p>1 rows × 87 columns</p>\n",
       "</div>"
      ],
      "text/plain": [
       "                     final.output.concentrate_ag  final.output.concentrate_pb  \\\n",
       "date                                                                            \n",
       "2016-06-08 17:59:59                          NaN                          NaN   \n",
       "\n",
       "                     final.output.concentrate_sol  \\\n",
       "date                                                \n",
       "2016-06-08 17:59:59                     10.188231   \n",
       "\n",
       "                     final.output.concentrate_au  final.output.recovery  \\\n",
       "date                                                                      \n",
       "2016-06-08 17:59:59                    29.020814              63.725335   \n",
       "\n",
       "                     final.output.tail_ag  final.output.tail_pb  \\\n",
       "date                                                              \n",
       "2016-06-08 17:59:59              7.387115              2.072266   \n",
       "\n",
       "                     final.output.tail_sol  final.output.tail_au  \\\n",
       "date                                                               \n",
       "2016-06-08 17:59:59              16.982505              2.908215   \n",
       "\n",
       "                     primary_cleaner.input.sulfate  ...  \\\n",
       "date                                                ...   \n",
       "2016-06-08 17:59:59                      83.915221  ...   \n",
       "\n",
       "                     secondary_cleaner.state.floatbank4_a_level  \\\n",
       "date                                                              \n",
       "2016-06-08 17:59:59                                 -548.815307   \n",
       "\n",
       "                     secondary_cleaner.state.floatbank4_b_air  \\\n",
       "date                                                            \n",
       "2016-06-08 17:59:59                                  7.011665   \n",
       "\n",
       "                     secondary_cleaner.state.floatbank4_b_level  \\\n",
       "date                                                              \n",
       "2016-06-08 17:59:59                                 -537.231749   \n",
       "\n",
       "                     secondary_cleaner.state.floatbank5_a_air  \\\n",
       "date                                                            \n",
       "2016-06-08 17:59:59                                  8.031238   \n",
       "\n",
       "                     secondary_cleaner.state.floatbank5_a_level  \\\n",
       "date                                                              \n",
       "2016-06-08 17:59:59                                 -550.028193   \n",
       "\n",
       "                     secondary_cleaner.state.floatbank5_b_air  \\\n",
       "date                                                            \n",
       "2016-06-08 17:59:59                                  5.984399   \n",
       "\n",
       "                     secondary_cleaner.state.floatbank5_b_level  \\\n",
       "date                                                              \n",
       "2016-06-08 17:59:59                                  -549.63625   \n",
       "\n",
       "                     secondary_cleaner.state.floatbank6_a_air  \\\n",
       "date                                                            \n",
       "2016-06-08 17:59:59                                  18.01224   \n",
       "\n",
       "                     secondary_cleaner.state.floatbank6_a_level  \\\n",
       "date                                                              \n",
       "2016-06-08 17:59:59                                 -551.325271   \n",
       "\n",
       "                     rougher.output.recovery_calc  \n",
       "date                                               \n",
       "2016-06-08 17:59:59                     84.616723  \n",
       "\n",
       "[1 rows x 87 columns]"
      ]
     },
     "execution_count": 29,
     "metadata": {},
     "output_type": "execute_result"
    }
   ],
   "source": [
    "data_train[data_train.isna().any(axis=1)]"
   ]
  },
  {
   "cell_type": "markdown",
   "metadata": {},
   "source": [
    "## Data Analysis"
   ]
  },
  {
   "cell_type": "markdown",
   "metadata": {},
   "source": [
    "### Study of the dynamics of changes in the concentration of metals"
   ]
  },
  {
   "cell_type": "markdown",
   "metadata": {},
   "source": [
    "The attribute 'secondary_cleaner.output.tail' can be observed in data for each of the metals, but according to the technological scheme of the process, this parameter duplicates 'final.output.tail'. After the second cleaning stage, we get the final concentrates and tails, but the 'secondary_cleaner.output.concetrate' column is not found in our data. Apparently this is a bug in data preparation, so let's not use the 'secondary_cleaner.output.tail' columns and remove them from the data."
   ]
  },
  {
   "cell_type": "code",
   "execution_count": 30,
   "metadata": {},
   "outputs": [],
   "source": [
    "data_train = data_train.drop(['secondary_cleaner.output.tail_ag', \n",
    "                              'secondary_cleaner.output.tail_pb', \n",
    "                              'secondary_cleaner.output.tail_au'], axis=1)"
   ]
  },
  {
   "cell_type": "markdown",
   "metadata": {},
   "source": [
    "Let's see how the concentration of metals Au, Ag, Pb changes at different stages of purification. To do this, we first create a list of columns in which we have the concentration of metals at various stages."
   ]
  },
  {
   "cell_type": "code",
   "execution_count": 31,
   "metadata": {},
   "outputs": [],
   "source": [
    "me_columns = []\n",
    "for col in data_train.columns:\n",
    "    if any(('ag' in col, 'au' in col, 'pb' in col)) and 'calculation' not in col:\n",
    "        me_columns.append(col)"
   ]
  },
  {
   "cell_type": "code",
   "execution_count": 32,
   "metadata": {},
   "outputs": [
    {
     "data": {
      "text/plain": [
       "['final.output.concentrate_ag',\n",
       " 'final.output.concentrate_pb',\n",
       " 'final.output.concentrate_au',\n",
       " 'final.output.tail_ag',\n",
       " 'final.output.tail_pb',\n",
       " 'final.output.tail_au',\n",
       " 'primary_cleaner.output.concentrate_ag',\n",
       " 'primary_cleaner.output.concentrate_pb',\n",
       " 'primary_cleaner.output.concentrate_au',\n",
       " 'primary_cleaner.output.tail_ag',\n",
       " 'primary_cleaner.output.tail_pb',\n",
       " 'primary_cleaner.output.tail_au',\n",
       " 'rougher.input.feed_ag',\n",
       " 'rougher.input.feed_pb',\n",
       " 'rougher.input.feed_au',\n",
       " 'rougher.output.concentrate_ag',\n",
       " 'rougher.output.concentrate_pb',\n",
       " 'rougher.output.concentrate_au',\n",
       " 'rougher.output.tail_ag',\n",
       " 'rougher.output.tail_pb',\n",
       " 'rougher.output.tail_au']"
      ]
     },
     "execution_count": 32,
     "metadata": {},
     "output_type": "execute_result"
    }
   ],
   "source": [
    "me_columns"
   ]
  },
  {
   "cell_type": "markdown",
   "metadata": {},
   "source": [
    "Then creating a dataframe with average concentrations of metals"
   ]
  },
  {
   "cell_type": "code",
   "execution_count": 33,
   "metadata": {},
   "outputs": [],
   "source": [
    "me_data = data_full[me_columns].T.reset_index()"
   ]
  },
  {
   "cell_type": "code",
   "execution_count": 34,
   "metadata": {},
   "outputs": [],
   "source": [
    "# Creating an additional column in the dataframe, where the metal will be indicated\n",
    "me_data['metall'] = me_data['index'].apply(lambda x: x[-2:].capitalize())\n",
    "# At index column placing just the name of stage\n",
    "me_data['index'] = me_data['index'].apply(lambda x: x[:-3])\n",
    "# Renaming the columns\n",
    "me_data.rename(columns={'index': 'stage', 0: 'values'}, inplace=True)\n",
    "# Melting the data forming categorical features 'metall' и 'stage'\n",
    "me_data_long = me_data.melt(id_vars=['metall', 'stage']).drop('date', axis=1)\n",
    "# Adding new column with type of process\n",
    "me_data_long['stage_type'] = me_data_long['stage'].apply(lambda x: x.split('.')[-1])"
   ]
  },
  {
   "cell_type": "markdown",
   "metadata": {},
   "source": [
    "A helper function for specifying stage numbers and specify the stage numbers in the dataframe."
   ]
  },
  {
   "cell_type": "code",
   "execution_count": 35,
   "metadata": {},
   "outputs": [],
   "source": [
    "def stage_number(stage):\n",
    "    if 'feed' in stage:\n",
    "        return 0\n",
    "    if 'rougher.output' in stage:\n",
    "        return 1\n",
    "    if 'primary_cleaner.output' in stage:\n",
    "        return 2\n",
    "    if 'final.output' in stage:\n",
    "        return 3"
   ]
  },
  {
   "cell_type": "code",
   "execution_count": 36,
   "metadata": {},
   "outputs": [],
   "source": [
    "# Applying the function to the 'stage' column\n",
    "me_data_long['stage_number'] = me_data_long['stage'].apply(stage_number)"
   ]
  },
  {
   "cell_type": "markdown",
   "metadata": {},
   "source": [
    "Then plot graphs of metal concentrations depending on the stage of the process."
   ]
  },
  {
   "cell_type": "markdown",
   "metadata": {},
   "source": [
    "#### Concentrate"
   ]
  },
  {
   "cell_type": "code",
   "execution_count": 37,
   "metadata": {
    "scrolled": false
   },
   "outputs": [
    {
     "data": {
      "image/png": "[encoded data removed]",
      "text/plain": [
       "<Figure size 1008x576 with 1 Axes>"
      ]
     },
     "metadata": {},
     "output_type": "display_data"
    }
   ],
   "source": [
    "sns.lineplot(data=me_data_long[me_data_long['stage_type'] != 'tail'], \n",
    "             x='stage_number', \n",
    "             y='value', \n",
    "             hue='metall', \n",
    "             ci='sd');"
   ]
  },
  {
   "cell_type": "code",
   "execution_count": 38,
   "metadata": {},
   "outputs": [
    {
     "data": {
      "image/png": "[encoded data removed]",
      "text/plain": [
       "<Figure size 1008x576 with 1 Axes>"
      ]
     },
     "metadata": {},
     "output_type": "display_data"
    }
   ],
   "source": [
    "sns.histplot(data=me_data_long[(me_data_long['stage_type'] != 'tail') & \n",
    "                               (me_data_long['stage_number'] == 0)], \n",
    "             x='value', \n",
    "             hue='metall', \n",
    "             bins=100);"
   ]
  },
  {
   "cell_type": "code",
   "execution_count": 39,
   "metadata": {},
   "outputs": [
    {
     "data": {
      "image/png": "[encoded data removed]",
      "text/plain": [
       "<Figure size 1008x576 with 1 Axes>"
      ]
     },
     "metadata": {},
     "output_type": "display_data"
    }
   ],
   "source": [
    "sns.histplot(data=me_data_long[(me_data_long['stage_type'] != 'tail') & \n",
    "                               (me_data_long['stage_number'] == 1)], \n",
    "             x='value', \n",
    "             hue='metall', \n",
    "             bins=100);"
   ]
  },
  {
   "cell_type": "code",
   "execution_count": 40,
   "metadata": {},
   "outputs": [
    {
     "data": {
      "image/png": "[encoded data removed]",
      "text/plain": [
       "<Figure size 1008x576 with 1 Axes>"
      ]
     },
     "metadata": {},
     "output_type": "display_data"
    }
   ],
   "source": [
    "sns.histplot(data=me_data_long[(me_data_long['stage_type'] != 'tail') & \n",
    "                               (me_data_long['stage_number'] == 2)], \n",
    "             x='value', \n",
    "             hue='metall', \n",
    "             bins=100);"
   ]
  },
  {
   "cell_type": "code",
   "execution_count": 41,
   "metadata": {},
   "outputs": [
    {
     "data": {
      "image/png": "[encoded data removed]",
      "text/plain": [
       "<Figure size 1008x576 with 1 Axes>"
      ]
     },
     "metadata": {},
     "output_type": "display_data"
    }
   ],
   "source": [
    "sns.histplot(data=me_data_long[(me_data_long['stage_type'] != 'tail') & \n",
    "                               (me_data_long['stage_number'] == 3)], \n",
    "             x='value', \n",
    "             hue='metall', \n",
    "             bins=100);"
   ]
  },
  {
   "cell_type": "code",
   "execution_count": 42,
   "metadata": {},
   "outputs": [
    {
     "data": {
      "text/html": [
       "<div>\n",
       "<style scoped>\n",
       "    .dataframe tbody tr th:only-of-type {\n",
       "        vertical-align: middle;\n",
       "    }\n",
       "\n",
       "    .dataframe tbody tr th {\n",
       "        vertical-align: top;\n",
       "    }\n",
       "\n",
       "    .dataframe thead th {\n",
       "        text-align: right;\n",
       "    }\n",
       "</style>\n",
       "<table border=\"1\" class=\"dataframe\">\n",
       "  <thead>\n",
       "    <tr style=\"text-align: right;\">\n",
       "      <th></th>\n",
       "      <th></th>\n",
       "      <th></th>\n",
       "      <th>value</th>\n",
       "    </tr>\n",
       "    <tr>\n",
       "      <th>stage</th>\n",
       "      <th>metall</th>\n",
       "      <th>stage_number</th>\n",
       "      <th></th>\n",
       "    </tr>\n",
       "  </thead>\n",
       "  <tbody>\n",
       "    <tr>\n",
       "      <th rowspan=\"3\" valign=\"top\">rougher.input.feed</th>\n",
       "      <th>Ag</th>\n",
       "      <th>0</th>\n",
       "      <td>8.794927</td>\n",
       "    </tr>\n",
       "    <tr>\n",
       "      <th>Au</th>\n",
       "      <th>0</th>\n",
       "      <td>8.266097</td>\n",
       "    </tr>\n",
       "    <tr>\n",
       "      <th>Pb</th>\n",
       "      <th>0</th>\n",
       "      <td>3.598085</td>\n",
       "    </tr>\n",
       "    <tr>\n",
       "      <th rowspan=\"3\" valign=\"top\">rougher.output.concentrate</th>\n",
       "      <th>Ag</th>\n",
       "      <th>1</th>\n",
       "      <td>11.994759</td>\n",
       "    </tr>\n",
       "    <tr>\n",
       "      <th>Au</th>\n",
       "      <th>1</th>\n",
       "      <td>19.772000</td>\n",
       "    </tr>\n",
       "    <tr>\n",
       "      <th>Pb</th>\n",
       "      <th>1</th>\n",
       "      <td>7.606272</td>\n",
       "    </tr>\n",
       "    <tr>\n",
       "      <th rowspan=\"3\" valign=\"top\">primary_cleaner.output.concentrate</th>\n",
       "      <th>Ag</th>\n",
       "      <th>2</th>\n",
       "      <td>8.442408</td>\n",
       "    </tr>\n",
       "    <tr>\n",
       "      <th>Au</th>\n",
       "      <th>2</th>\n",
       "      <td>32.119400</td>\n",
       "    </tr>\n",
       "    <tr>\n",
       "      <th>Pb</th>\n",
       "      <th>2</th>\n",
       "      <td>9.829530</td>\n",
       "    </tr>\n",
       "    <tr>\n",
       "      <th rowspan=\"3\" valign=\"top\">final.output.concentrate</th>\n",
       "      <th>Ag</th>\n",
       "      <th>3</th>\n",
       "      <td>5.168470</td>\n",
       "    </tr>\n",
       "    <tr>\n",
       "      <th>Au</th>\n",
       "      <th>3</th>\n",
       "      <td>44.076513</td>\n",
       "    </tr>\n",
       "    <tr>\n",
       "      <th>Pb</th>\n",
       "      <th>3</th>\n",
       "      <td>9.978895</td>\n",
       "    </tr>\n",
       "  </tbody>\n",
       "</table>\n",
       "</div>"
      ],
      "text/plain": [
       "                                                            value\n",
       "stage                              metall stage_number           \n",
       "rougher.input.feed                 Ag     0              8.794927\n",
       "                                   Au     0              8.266097\n",
       "                                   Pb     0              3.598085\n",
       "rougher.output.concentrate         Ag     1             11.994759\n",
       "                                   Au     1             19.772000\n",
       "                                   Pb     1              7.606272\n",
       "primary_cleaner.output.concentrate Ag     2              8.442408\n",
       "                                   Au     2             32.119400\n",
       "                                   Pb     2              9.829530\n",
       "final.output.concentrate           Ag     3              5.168470\n",
       "                                   Au     3             44.076513\n",
       "                                   Pb     3              9.978895"
      ]
     },
     "execution_count": 42,
     "metadata": {},
     "output_type": "execute_result"
    }
   ],
   "source": [
    "me_data_long[me_data_long['stage_type'] != 'tail'].pivot_table(\n",
    "    index=['stage', 'metall', 'stage_number'], \n",
    "    values='value').sort_values(by='stage_number')"
   ]
  },
  {
   "cell_type": "markdown",
   "metadata": {},
   "source": [
    "#### Waste tailings"
   ]
  },
  {
   "cell_type": "code",
   "execution_count": 43,
   "metadata": {
    "scrolled": false
   },
   "outputs": [
    {
     "data": {
      "image/png": "[encoded data removed]",
      "text/plain": [
       "<Figure size 1008x576 with 1 Axes>"
      ]
     },
     "metadata": {},
     "output_type": "display_data"
    }
   ],
   "source": [
    "sns.lineplot(data=me_data_long[me_data_long['stage_type'] != 'concentrate'], \n",
    "             x='stage_number', \n",
    "             y='value', \n",
    "             hue='metall', \n",
    "             ci='sd');"
   ]
  },
  {
   "cell_type": "code",
   "execution_count": 44,
   "metadata": {
    "scrolled": false
   },
   "outputs": [
    {
     "data": {
      "image/png": "[encoded data removed]",
      "text/plain": [
       "<Figure size 1008x576 with 1 Axes>"
      ]
     },
     "metadata": {},
     "output_type": "display_data"
    }
   ],
   "source": [
    "sns.histplot(data=me_data_long[(me_data_long['stage_type'] != 'concentrate') & \n",
    "                               (me_data_long['stage_number'] == 0)], \n",
    "             x='value', \n",
    "             hue='metall', \n",
    "             bins=100);"
   ]
  },
  {
   "cell_type": "code",
   "execution_count": 45,
   "metadata": {},
   "outputs": [
    {
     "data": {
      "image/png": "[encoded data removed]",
      "text/plain": [
       "<Figure size 1008x576 with 1 Axes>"
      ]
     },
     "metadata": {},
     "output_type": "display_data"
    }
   ],
   "source": [
    "sns.histplot(data=me_data_long[(me_data_long['stage_type'] != 'concentrate') & \n",
    "                               (me_data_long['stage_number'] == 1)], \n",
    "             x='value', \n",
    "             hue='metall', \n",
    "             bins=100);"
   ]
  },
  {
   "cell_type": "code",
   "execution_count": 46,
   "metadata": {},
   "outputs": [
    {
     "data": {
      "image/png": "[encoded data removed]",
      "text/plain": [
       "<Figure size 1008x576 with 1 Axes>"
      ]
     },
     "metadata": {},
     "output_type": "display_data"
    }
   ],
   "source": [
    "sns.histplot(data=me_data_long[(me_data_long['stage_type'] != 'concentrate') & \n",
    "                               (me_data_long['stage_number'] == 2)], \n",
    "             x='value', \n",
    "             hue='metall', \n",
    "             bins=100);"
   ]
  },
  {
   "cell_type": "code",
   "execution_count": 47,
   "metadata": {},
   "outputs": [
    {
     "data": {
      "image/png": "[encoded data removed]",
      "text/plain": [
       "<Figure size 1008x576 with 1 Axes>"
      ]
     },
     "metadata": {},
     "output_type": "display_data"
    }
   ],
   "source": [
    "sns.histplot(data=me_data_long[(me_data_long['stage_type'] != 'concentrate') & \n",
    "                               (me_data_long['stage_number'] == 3)], \n",
    "             x='value', \n",
    "             hue='metall', \n",
    "             bins=100);"
   ]
  },
  {
   "cell_type": "code",
   "execution_count": 48,
   "metadata": {},
   "outputs": [
    {
     "data": {
      "text/html": [
       "<div>\n",
       "<style scoped>\n",
       "    .dataframe tbody tr th:only-of-type {\n",
       "        vertical-align: middle;\n",
       "    }\n",
       "\n",
       "    .dataframe tbody tr th {\n",
       "        vertical-align: top;\n",
       "    }\n",
       "\n",
       "    .dataframe thead th {\n",
       "        text-align: right;\n",
       "    }\n",
       "</style>\n",
       "<table border=\"1\" class=\"dataframe\">\n",
       "  <thead>\n",
       "    <tr style=\"text-align: right;\">\n",
       "      <th></th>\n",
       "      <th></th>\n",
       "      <th></th>\n",
       "      <th>value</th>\n",
       "    </tr>\n",
       "    <tr>\n",
       "      <th>stage</th>\n",
       "      <th>metall</th>\n",
       "      <th>stage_number</th>\n",
       "      <th></th>\n",
       "    </tr>\n",
       "  </thead>\n",
       "  <tbody>\n",
       "    <tr>\n",
       "      <th rowspan=\"3\" valign=\"top\">rougher.input.feed</th>\n",
       "      <th>Ag</th>\n",
       "      <th>0</th>\n",
       "      <td>8.794927</td>\n",
       "    </tr>\n",
       "    <tr>\n",
       "      <th>Au</th>\n",
       "      <th>0</th>\n",
       "      <td>8.266097</td>\n",
       "    </tr>\n",
       "    <tr>\n",
       "      <th>Pb</th>\n",
       "      <th>0</th>\n",
       "      <td>3.598085</td>\n",
       "    </tr>\n",
       "    <tr>\n",
       "      <th rowspan=\"3\" valign=\"top\">rougher.output.tail</th>\n",
       "      <th>Ag</th>\n",
       "      <th>1</th>\n",
       "      <td>5.588982</td>\n",
       "    </tr>\n",
       "    <tr>\n",
       "      <th>Au</th>\n",
       "      <th>1</th>\n",
       "      <td>1.816391</td>\n",
       "    </tr>\n",
       "    <tr>\n",
       "      <th>Pb</th>\n",
       "      <th>1</th>\n",
       "      <td>0.645782</td>\n",
       "    </tr>\n",
       "    <tr>\n",
       "      <th rowspan=\"3\" valign=\"top\">primary_cleaner.output.tail</th>\n",
       "      <th>Ag</th>\n",
       "      <th>2</th>\n",
       "      <td>16.145826</td>\n",
       "    </tr>\n",
       "    <tr>\n",
       "      <th>Au</th>\n",
       "      <th>2</th>\n",
       "      <td>3.914179</td>\n",
       "    </tr>\n",
       "    <tr>\n",
       "      <th>Pb</th>\n",
       "      <th>2</th>\n",
       "      <td>3.435656</td>\n",
       "    </tr>\n",
       "    <tr>\n",
       "      <th rowspan=\"3\" valign=\"top\">final.output.tail</th>\n",
       "      <th>Ag</th>\n",
       "      <th>3</th>\n",
       "      <td>9.688589</td>\n",
       "    </tr>\n",
       "    <tr>\n",
       "      <th>Au</th>\n",
       "      <th>3</th>\n",
       "      <td>3.042467</td>\n",
       "    </tr>\n",
       "    <tr>\n",
       "      <th>Pb</th>\n",
       "      <th>3</th>\n",
       "      <td>2.705795</td>\n",
       "    </tr>\n",
       "  </tbody>\n",
       "</table>\n",
       "</div>"
      ],
      "text/plain": [
       "                                                     value\n",
       "stage                       metall stage_number           \n",
       "rougher.input.feed          Ag     0              8.794927\n",
       "                            Au     0              8.266097\n",
       "                            Pb     0              3.598085\n",
       "rougher.output.tail         Ag     1              5.588982\n",
       "                            Au     1              1.816391\n",
       "                            Pb     1              0.645782\n",
       "primary_cleaner.output.tail Ag     2             16.145826\n",
       "                            Au     2              3.914179\n",
       "                            Pb     2              3.435656\n",
       "final.output.tail           Ag     3              9.688589\n",
       "                            Au     3              3.042467\n",
       "                            Pb     3              2.705795"
      ]
     },
     "execution_count": 48,
     "metadata": {},
     "output_type": "execute_result"
    }
   ],
   "source": [
    "me_data_long[me_data_long['stage_type'] != 'concentrate'].pivot_table(\n",
    "    index=['stage', 'metall', 'stage_number'], \n",
    "    values='value').sort_values(by='stage_number')"
   ]
  },
  {
   "cell_type": "markdown",
   "metadata": {},
   "source": [
    "#### Conclusion"
   ]
  },
  {
   "cell_type": "markdown",
   "metadata": {},
   "source": [
    "Gold concentration target in concentrate increases linearly with each successive stage. The concentrations of other metals remain approximately at the same levels.  \n",
    "In tailings, the concentration of gold and lead has a downward trend. The silver concentration ranges from 5.6 to 16%."
   ]
  },
  {
   "cell_type": "markdown",
   "metadata": {},
   "source": [
    "### Comparison of the distribution of granules on the test and training samples"
   ]
  },
  {
   "cell_type": "markdown",
   "metadata": {},
   "source": [
    "To compare, let's create a dataframe and add the values ​​of the granule size of both samples to it."
   ]
  },
  {
   "cell_type": "code",
   "execution_count": 49,
   "metadata": {},
   "outputs": [],
   "source": [
    "# Creating new sets for train and test splits\n",
    "input_feed_test = pd.DataFrame(data_test['rougher.input.feed_size'])\n",
    "input_feed_train = pd.DataFrame(data_train['rougher.input.feed_size'])"
   ]
  },
  {
   "cell_type": "code",
   "execution_count": 50,
   "metadata": {},
   "outputs": [],
   "source": [
    "# Adding 'test' and 'train' labels to 'set' column\n",
    "input_feed_test['set'] = 'test'\n",
    "input_feed_train['set'] = 'train'"
   ]
  },
  {
   "cell_type": "code",
   "execution_count": 51,
   "metadata": {},
   "outputs": [],
   "source": [
    "# Concatenating two dataframes\n",
    "feed_size = pd.concat((input_feed_test, input_feed_train), join='outer', axis=0)"
   ]
  },
  {
   "cell_type": "code",
   "execution_count": 52,
   "metadata": {},
   "outputs": [],
   "source": [
    "# Melting dataframe forming set column (set type)\n",
    "feed_size = feed_size.melt(id_vars='set').drop('variable', axis=1).rename(columns={'value': 'feed_size'})"
   ]
  },
  {
   "cell_type": "markdown",
   "metadata": {},
   "source": [
    "Let's plot box plots and histograms of distributions."
   ]
  },
  {
   "cell_type": "code",
   "execution_count": 53,
   "metadata": {},
   "outputs": [],
   "source": [
    "def double_dist_plot(data, column1, column2, title, limit=None):\n",
    "    fig, (ax_box, ax_hist) = plt.subplots(2, \n",
    "                                          sharex=True, \n",
    "                                          gridspec_kw={\"height_ratios\": (.25, .75)})\n",
    "    if limit is not None:\n",
    "        plt.xlim(limit)\n",
    "    sns.boxplot(data=data, \n",
    "                x=column1, \n",
    "                y=column2, \n",
    "                ax=ax_box)\n",
    "    sns.histplot(data=data, \n",
    "                 x=column1, \n",
    "                 hue=column2, \n",
    "                 ax=ax_hist,\n",
    "                 bins=100, \n",
    "                 element=\"bars\", \n",
    "                 stat=\"density\", \n",
    "                 common_norm=False)\n",
    "    ax_box.set(xlabel='')\n",
    "\n",
    "    fig.suptitle(title)\n",
    "\n",
    "    plt.show();"
   ]
  },
  {
   "cell_type": "code",
   "execution_count": 54,
   "metadata": {},
   "outputs": [
    {
     "data": {
      "image/png": "[encoded data removed]",
      "text/plain": [
       "<Figure size 1008x576 with 2 Axes>"
      ]
     },
     "metadata": {},
     "output_type": "display_data"
    }
   ],
   "source": [
    "double_dist_plot(feed_size, \n",
    "                 'feed_size', \n",
    "                 'set', \n",
    "                 'Feed Size Distribution in train and test sets')"
   ]
  },
  {
   "cell_type": "code",
   "execution_count": 55,
   "metadata": {},
   "outputs": [
    {
     "data": {
      "image/png": "[encoded data removed]",
      "text/plain": [
       "<Figure size 1008x576 with 2 Axes>"
      ]
     },
     "metadata": {},
     "output_type": "display_data"
    }
   ],
   "source": [
    "double_dist_plot(feed_size, \n",
    "                 'feed_size', \n",
    "                 'set', \n",
    "                 'Feed Size Distribution in train and test sets',\n",
    "                 limit=(20, 120))"
   ]
  },
  {
   "cell_type": "markdown",
   "metadata": {},
   "source": [
    "#### Conclusion"
   ]
  },
  {
   "cell_type": "markdown",
   "metadata": {},
   "source": [
    "According to the graphs, we can state that in general the distributions are similar. Therefore, we can build a machine learning model and check it on a test set."
   ]
  },
  {
   "cell_type": "markdown",
   "metadata": {},
   "source": [
    "### Study of the total concentration of substances at various stages"
   ]
  },
  {
   "cell_type": "markdown",
   "metadata": {},
   "source": [
    "Let's calculate the total concentrations of substances at different stages."
   ]
  },
  {
   "cell_type": "code",
   "execution_count": 56,
   "metadata": {},
   "outputs": [],
   "source": [
    "data_full['rougher.input.calculation.feed_sum'] = (data_full['rougher.input.feed_ag'] + \n",
    "                                     data_full['rougher.input.feed_pb'] + \n",
    "                                     data_full['rougher.input.feed_sol'] + \n",
    "                                     data_full['rougher.input.feed_au'])"
   ]
  },
  {
   "cell_type": "code",
   "execution_count": 57,
   "metadata": {},
   "outputs": [],
   "source": [
    "data_full['rougher.output.calculation.concentrate_sum'] = (data_full['rougher.output.concentrate_ag'] +\n",
    "                                                           data_full['rougher.output.concentrate_pb'] + \n",
    "                                                           data_full['rougher.output.concentrate_sol'] + \n",
    "                                                           data_full['rougher.output.concentrate_au'])"
   ]
  },
  {
   "cell_type": "code",
   "execution_count": 58,
   "metadata": {},
   "outputs": [],
   "source": [
    "data_full['primary_cleaner.output.calculation.concentrate_sum'] = (data_full['primary_cleaner.output.concentrate_ag'] + \n",
    "                                                                   data_full['primary_cleaner.output.concentrate_pb'] + \n",
    "                                                                   data_full['primary_cleaner.output.concentrate_sol'] + \n",
    "                                                                   data_full['primary_cleaner.output.concentrate_au'])"
   ]
  },
  {
   "cell_type": "code",
   "execution_count": 59,
   "metadata": {},
   "outputs": [],
   "source": [
    "data_full['final.output.calculation.concentrate_sum'] = (data_full['final.output.concentrate_ag'] + \n",
    "                                                         data_full['final.output.concentrate_pb'] + \n",
    "                                                         data_full['final.output.concentrate_sol'] + \n",
    "                                                         data_full['final.output.concentrate_au'])"
   ]
  },
  {
   "cell_type": "markdown",
   "metadata": {},
   "source": [
    "Separating this information into different dataframes and then assemble a single dataframe from them."
   ]
  },
  {
   "cell_type": "code",
   "execution_count": 60,
   "metadata": {},
   "outputs": [],
   "source": [
    "data_sum_0 = pd.DataFrame(data_full['rougher.input.calculation.feed_sum']).reset_index(\n",
    "    drop=True).rename(columns={'rougher.input.calculation.feed_sum':'value'})\n",
    "\n",
    "data_sum_1 = pd.DataFrame(data_full['rougher.output.calculation.concentrate_sum']).reset_index(\n",
    "    drop=True).rename(columns={'rougher.output.calculation.concentrate_sum':'value'})\n",
    "\n",
    "data_sum_2 = pd.DataFrame(data_full['primary_cleaner.output.calculation.concentrate_sum']).reset_index(\n",
    "    drop=True).rename(columns={'primary_cleaner.output.calculation.concentrate_sum':'value'})\n",
    "\n",
    "data_sum_3 = pd.DataFrame(data_full['final.output.calculation.concentrate_sum']).reset_index(\n",
    "    drop=True).rename(columns={'final.output.calculation.concentrate_sum':'value'})"
   ]
  },
  {
   "cell_type": "code",
   "execution_count": 61,
   "metadata": {},
   "outputs": [],
   "source": [
    "data_sum_0['stage'] = 'rougher.input'\n",
    "data_sum_1['stage'] = 'rougher.output'\n",
    "data_sum_2['stage'] = 'primary_cleaner.output'\n",
    "data_sum_3['stage'] = 'final.output'"
   ]
  },
  {
   "cell_type": "code",
   "execution_count": 62,
   "metadata": {},
   "outputs": [],
   "source": [
    "data_sum_stages = pd.concat([data_sum_0, \n",
    "                             data_sum_1, \n",
    "                             data_sum_2, \n",
    "                             data_sum_3], axis=0).reset_index(drop=True)"
   ]
  },
  {
   "cell_type": "code",
   "execution_count": 63,
   "metadata": {},
   "outputs": [
    {
     "data": {
      "image/png": "[encoded data removed]",
      "text/plain": [
       "<Figure size 1080x576 with 1 Axes>"
      ]
     },
     "metadata": {},
     "output_type": "display_data"
    }
   ],
   "source": [
    "# Distribution of cpmcentraions by process stages\n",
    "fig, ax = plt.subplots(figsize=(15, 8))\n",
    "sns.histplot(data=data_sum_stages, x='value', hue='stage', bins=30,\n",
    "             alpha=0.5, shrink=0.8, multiple='dodge', ax=ax);"
   ]
  },
  {
   "cell_type": "markdown",
   "metadata": {},
   "source": [
    "There are anomaly values can be noticed ad histograms - zero total concentrations. In these cases, there could be errors in determining the concentrations of substances. Or just an accidental waste ore. Zero values of concentrations should be removed from the dataset."
   ]
  },
  {
   "cell_type": "code",
   "execution_count": 64,
   "metadata": {},
   "outputs": [],
   "source": [
    "train_null = set()"
   ]
  },
  {
   "cell_type": "code",
   "execution_count": 65,
   "metadata": {
    "scrolled": true
   },
   "outputs": [],
   "source": [
    "for col in ['rougher.input.calculation.feed_sum', \n",
    "            'rougher.output.calculation.concentrate_sum', \n",
    "            'primary_cleaner.output.calculation.concentrate_sum', \n",
    "            'final.output.calculation.concentrate_sum']:\n",
    "    train_null = train_null.union(set(data_full[data_full[col]==0].index))"
   ]
  },
  {
   "cell_type": "code",
   "execution_count": 66,
   "metadata": {},
   "outputs": [],
   "source": [
    "data_train = data_train.loc[~data_train.index.isin(train_null)]"
   ]
  },
  {
   "cell_type": "code",
   "execution_count": 67,
   "metadata": {},
   "outputs": [
    {
     "data": {
      "text/plain": [
       "Index(['final.output.concentrate_ag', 'final.output.concentrate_pb',\n",
       "       'final.output.concentrate_sol', 'final.output.concentrate_au',\n",
       "       'final.output.recovery', 'final.output.tail_ag', 'final.output.tail_pb',\n",
       "       'final.output.tail_sol', 'final.output.tail_au',\n",
       "       'primary_cleaner.input.sulfate', 'primary_cleaner.input.depressant',\n",
       "       'primary_cleaner.input.feed_size', 'primary_cleaner.input.xanthate',\n",
       "       'primary_cleaner.output.concentrate_ag',\n",
       "       'primary_cleaner.output.concentrate_pb',\n",
       "       'primary_cleaner.output.concentrate_sol',\n",
       "       'primary_cleaner.output.concentrate_au',\n",
       "       'primary_cleaner.output.tail_ag', 'primary_cleaner.output.tail_pb',\n",
       "       'primary_cleaner.output.tail_sol', 'primary_cleaner.output.tail_au',\n",
       "       'primary_cleaner.state.floatbank8_a_air',\n",
       "       'primary_cleaner.state.floatbank8_a_level',\n",
       "       'primary_cleaner.state.floatbank8_b_air',\n",
       "       'primary_cleaner.state.floatbank8_b_level',\n",
       "       'primary_cleaner.state.floatbank8_c_air',\n",
       "       'primary_cleaner.state.floatbank8_c_level',\n",
       "       'primary_cleaner.state.floatbank8_d_air',\n",
       "       'primary_cleaner.state.floatbank8_d_level',\n",
       "       'rougher.calculation.sulfate_to_au_concentrate',\n",
       "       'rougher.calculation.floatbank10_sulfate_to_au_feed',\n",
       "       'rougher.calculation.floatbank11_sulfate_to_au_feed',\n",
       "       'rougher.calculation.au_pb_ratio', 'rougher.input.feed_ag',\n",
       "       'rougher.input.feed_pb', 'rougher.input.feed_rate',\n",
       "       'rougher.input.feed_size', 'rougher.input.feed_sol',\n",
       "       'rougher.input.feed_au', 'rougher.input.floatbank10_sulfate',\n",
       "       'rougher.input.floatbank10_xanthate',\n",
       "       'rougher.input.floatbank11_sulfate',\n",
       "       'rougher.input.floatbank11_xanthate', 'rougher.output.concentrate_ag',\n",
       "       'rougher.output.concentrate_pb', 'rougher.output.concentrate_sol',\n",
       "       'rougher.output.concentrate_au', 'rougher.output.recovery',\n",
       "       'rougher.output.tail_ag', 'rougher.output.tail_pb',\n",
       "       'rougher.output.tail_sol', 'rougher.output.tail_au',\n",
       "       'rougher.state.floatbank10_a_air', 'rougher.state.floatbank10_a_level',\n",
       "       'rougher.state.floatbank10_b_air', 'rougher.state.floatbank10_b_level',\n",
       "       'rougher.state.floatbank10_c_air', 'rougher.state.floatbank10_c_level',\n",
       "       'rougher.state.floatbank10_d_air', 'rougher.state.floatbank10_d_level',\n",
       "       'rougher.state.floatbank10_e_air', 'rougher.state.floatbank10_e_level',\n",
       "       'rougher.state.floatbank10_f_air', 'rougher.state.floatbank10_f_level',\n",
       "       'secondary_cleaner.output.tail_sol',\n",
       "       'secondary_cleaner.state.floatbank2_a_air',\n",
       "       'secondary_cleaner.state.floatbank2_a_level',\n",
       "       'secondary_cleaner.state.floatbank2_b_air',\n",
       "       'secondary_cleaner.state.floatbank2_b_level',\n",
       "       'secondary_cleaner.state.floatbank3_a_air',\n",
       "       'secondary_cleaner.state.floatbank3_a_level',\n",
       "       'secondary_cleaner.state.floatbank3_b_air',\n",
       "       'secondary_cleaner.state.floatbank3_b_level',\n",
       "       'secondary_cleaner.state.floatbank4_a_air',\n",
       "       'secondary_cleaner.state.floatbank4_a_level',\n",
       "       'secondary_cleaner.state.floatbank4_b_air',\n",
       "       'secondary_cleaner.state.floatbank4_b_level',\n",
       "       'secondary_cleaner.state.floatbank5_a_air',\n",
       "       'secondary_cleaner.state.floatbank5_a_level',\n",
       "       'secondary_cleaner.state.floatbank5_b_air',\n",
       "       'secondary_cleaner.state.floatbank5_b_level',\n",
       "       'secondary_cleaner.state.floatbank6_a_air',\n",
       "       'secondary_cleaner.state.floatbank6_a_level',\n",
       "       'rougher.output.recovery_calc'],\n",
       "      dtype='object')"
      ]
     },
     "execution_count": 67,
     "metadata": {},
     "output_type": "execute_result"
    }
   ],
   "source": [
    "data_train.columns"
   ]
  },
  {
   "cell_type": "code",
   "execution_count": 68,
   "metadata": {},
   "outputs": [
    {
     "data": {
      "text/plain": [
       "(13725, 84)"
      ]
     },
     "execution_count": 68,
     "metadata": {},
     "output_type": "execute_result"
    }
   ],
   "source": [
    "data_train.shape"
   ]
  },
  {
   "cell_type": "code",
   "execution_count": 69,
   "metadata": {},
   "outputs": [
    {
     "data": {
      "text/plain": [
       "(5290, 52)"
      ]
     },
     "execution_count": 69,
     "metadata": {},
     "output_type": "execute_result"
    }
   ],
   "source": [
    "data_test.shape"
   ]
  },
  {
   "cell_type": "markdown",
   "metadata": {},
   "source": [
    "#### Conclusion"
   ]
  },
  {
   "cell_type": "markdown",
   "metadata": {},
   "source": [
    "The analysis revealed anomalies - data with zero values of the total concentrations of substances. Probably there were errors in the measurements. Anomalous data were removed from the training set."
   ]
  },
  {
   "cell_type": "markdown",
   "metadata": {},
   "source": [
    "## ML Models training"
   ]
  },
  {
   "cell_type": "markdown",
   "metadata": {},
   "source": [
    "### Preparation for training"
   ]
  },
  {
   "cell_type": "markdown",
   "metadata": {},
   "source": [
    "#### Features and Target Extraction"
   ]
  },
  {
   "cell_type": "markdown",
   "metadata": {},
   "source": [
    "Creating a dataset for training models. To do this, we take a training sample and leave only those features that are in the test sample."
   ]
  },
  {
   "cell_type": "code",
   "execution_count": 70,
   "metadata": {},
   "outputs": [],
   "source": [
    "X_train = data_train[data_test.columns]"
   ]
  },
  {
   "cell_type": "code",
   "execution_count": 71,
   "metadata": {},
   "outputs": [],
   "source": [
    "y_train = data_train[['rougher.output.recovery', \n",
    "                      'final.output.recovery']].reset_index(drop=True)"
   ]
  },
  {
   "cell_type": "markdown",
   "metadata": {},
   "source": [
    "Test set"
   ]
  },
  {
   "cell_type": "code",
   "execution_count": 72,
   "metadata": {},
   "outputs": [],
   "source": [
    "X_test = data_test.copy()"
   ]
  },
  {
   "cell_type": "code",
   "execution_count": 73,
   "metadata": {},
   "outputs": [],
   "source": [
    "y_test = data_full.loc[X_test.index, ['rougher.output.recovery', \n",
    "                                      'final.output.recovery']].reset_index(drop=True)"
   ]
  },
  {
   "cell_type": "markdown",
   "metadata": {},
   "source": [
    "#### final quality metric function sMAPE"
   ]
  },
  {
   "cell_type": "code",
   "execution_count": 74,
   "metadata": {},
   "outputs": [],
   "source": [
    "def smape(target, predictions):\n",
    "    target = np.array(target)\n",
    "    predictions = np.array(predictions)\n",
    "    rougher = (100 * ((abs(target[:, 0] - predictions[:, 0])) / ((abs(target[:, 0]) + abs(predictions[:, 0]))/2)).mean())\n",
    "    final = (100 * ((abs(target[:, 1] - predictions[:, 1])) / ((abs(target[:, 1]) + abs(predictions[:, 1]))/2)).mean())\n",
    "    return 0.25 * rougher + 0.75 * final"
   ]
  },
  {
   "cell_type": "markdown",
   "metadata": {},
   "source": [
    "Transforming the function to use it in cross-validation."
   ]
  },
  {
   "cell_type": "code",
   "execution_count": 75,
   "metadata": {},
   "outputs": [],
   "source": [
    "smape_scorer = make_scorer(smape, greater_is_better=False)"
   ]
  },
  {
   "cell_type": "markdown",
   "metadata": {},
   "source": [
    "### Models Training"
   ]
  },
  {
   "cell_type": "markdown",
   "metadata": {},
   "source": [
    "In our case, we have a task to predict two targets, so we will use a multioutput regressor."
   ]
  },
  {
   "cell_type": "markdown",
   "metadata": {},
   "source": [
    "####  Hyperparameters Tuning"
   ]
  },
  {
   "cell_type": "code",
   "execution_count": 76,
   "metadata": {},
   "outputs": [],
   "source": [
    "def hp_tuning(estimator, params, features, target):\n",
    "    \"\"\"\n",
    "    Function for selecting hyperparameters and training models.\n",
    "    Taking in estimator, iterating parameters, features, target\n",
    "    Returning back best estimator and best score\n",
    "    \"\"\"\n",
    "    pipe = Pipeline([('scl', StandardScaler()),\n",
    "                     ('reg', MultiOutputRegressor(estimator))])\n",
    "    rand_search = (RandomizedSearchCV(estimator=pipe,\n",
    "                                      param_distributions=params,\n",
    "                                      cv=5,\n",
    "                                      scoring = smape_scorer,\n",
    "                                      n_iter=20,\n",
    "                                      random_state=RS,\n",
    "                                      n_jobs = -1))\n",
    "    rs = rand_search.fit(features, target)\n",
    "    return rs.best_estimator_, -rs.best_score_"
   ]
  },
  {
   "cell_type": "markdown",
   "metadata": {},
   "source": [
    "#### Ridge Regression Model"
   ]
  },
  {
   "cell_type": "code",
   "execution_count": 77,
   "metadata": {},
   "outputs": [],
   "source": [
    "params_ridge = {'reg__estimator__alpha': (0.0001, 0.001, 0.01, 0.1, 1, 10, 100, 1000)}"
   ]
  },
  {
   "cell_type": "code",
   "execution_count": 78,
   "metadata": {},
   "outputs": [],
   "source": [
    "model_ridge, score_ridge = hp_tuning(Ridge(random_state=RS), params_ridge, X_train, y_train)"
   ]
  },
  {
   "cell_type": "code",
   "execution_count": 79,
   "metadata": {},
   "outputs": [
    {
     "data": {
      "text/plain": [
       "9.122520416129522"
      ]
     },
     "execution_count": 79,
     "metadata": {},
     "output_type": "execute_result"
    }
   ],
   "source": [
    "score_ridge"
   ]
  },
  {
   "cell_type": "markdown",
   "metadata": {},
   "source": [
    "#### Linear Support Vector Regression Model"
   ]
  },
  {
   "cell_type": "code",
   "execution_count": 80,
   "metadata": {},
   "outputs": [],
   "source": [
    "params_svr = {'reg__estimator__C': (0.0001, 0.001, 0.01, 0.1, 1, 10, 100, 1000)}"
   ]
  },
  {
   "cell_type": "code",
   "execution_count": 81,
   "metadata": {},
   "outputs": [],
   "source": [
    "model_svr, score_svr = hp_tuning(LinearSVR(random_state=RS), \n",
    "                                 params_svr, \n",
    "                                 X_train, \n",
    "                                 y_train)"
   ]
  },
  {
   "cell_type": "code",
   "execution_count": 82,
   "metadata": {},
   "outputs": [
    {
     "data": {
      "text/plain": [
       "9.80541339212775"
      ]
     },
     "execution_count": 82,
     "metadata": {},
     "output_type": "execute_result"
    }
   ],
   "source": [
    "score_svr"
   ]
  },
  {
   "cell_type": "markdown",
   "metadata": {},
   "source": [
    "#### Random Forest Model"
   ]
  },
  {
   "cell_type": "code",
   "execution_count": 83,
   "metadata": {},
   "outputs": [],
   "source": [
    "params_rf = {'reg__estimator__max_depth': range(1, 11, 2),\n",
    "             'reg__estimator__n_estimators': range(50, 351, 50),\n",
    "             'reg__estimator__min_samples_leaf': range(1, 51, 5)}"
   ]
  },
  {
   "cell_type": "code",
   "execution_count": 84,
   "metadata": {},
   "outputs": [],
   "source": [
    "model_rf, score_rf = hp_tuning(RandomForestRegressor(random_state=RS), \n",
    "                               params_rf, \n",
    "                               X_train, \n",
    "                               y_train)"
   ]
  },
  {
   "cell_type": "code",
   "execution_count": 85,
   "metadata": {},
   "outputs": [
    {
     "data": {
      "text/plain": [
       "8.437895691449276"
      ]
     },
     "execution_count": 85,
     "metadata": {},
     "output_type": "execute_result"
    }
   ],
   "source": [
    "score_rf"
   ]
  },
  {
   "cell_type": "markdown",
   "metadata": {},
   "source": [
    "####  Extra Trees Model"
   ]
  },
  {
   "cell_type": "code",
   "execution_count": 86,
   "metadata": {},
   "outputs": [],
   "source": [
    "params_et = {'reg__estimator__max_depth': range(1, 11, 2),\n",
    "             'reg__estimator__n_estimators': range(50, 351, 50),\n",
    "             'reg__estimator__min_samples_leaf': range(1, 51, 5)}"
   ]
  },
  {
   "cell_type": "code",
   "execution_count": 87,
   "metadata": {},
   "outputs": [],
   "source": [
    "model_et, score_et = hp_tuning(ExtraTreesRegressor(random_state=RS), \n",
    "                               params_et, \n",
    "                               X_train, \n",
    "                               y_train)"
   ]
  },
  {
   "cell_type": "code",
   "execution_count": 88,
   "metadata": {},
   "outputs": [
    {
     "data": {
      "text/plain": [
       "8.402765863521639"
      ]
     },
     "execution_count": 88,
     "metadata": {},
     "output_type": "execute_result"
    }
   ],
   "source": [
    "score_et"
   ]
  },
  {
   "cell_type": "markdown",
   "metadata": {},
   "source": [
    "####  Gradient Boosting"
   ]
  },
  {
   "cell_type": "code",
   "execution_count": 89,
   "metadata": {},
   "outputs": [],
   "source": [
    "params_gb = {'reg__estimator__learning_rate': np.arange(0.001, 0.1, 0.005),\n",
    "             'reg__estimator__min_samples_leaf': range(1, 51, 5),\n",
    "             'reg__estimator__n_estimators': range(50, 351, 50)}"
   ]
  },
  {
   "cell_type": "code",
   "execution_count": 90,
   "metadata": {},
   "outputs": [],
   "source": [
    "model_gb, score_gb = hp_tuning(GradientBoostingRegressor(random_state=RS), \n",
    "                               params_gb, \n",
    "                               X_train, \n",
    "                               y_train)"
   ]
  },
  {
   "cell_type": "code",
   "execution_count": 91,
   "metadata": {},
   "outputs": [
    {
     "data": {
      "text/html": [
       "<style>#sk-container-id-1 {color: black;background-color: white;}#sk-container-id-1 pre{padding: 0;}#sk-container-id-1 div.sk-toggleable {background-color: white;}#sk-container-id-1 label.sk-toggleable__label {cursor: pointer;display: block;width: 100%;margin-bottom: 0;padding: 0.3em;box-sizing: border-box;text-align: center;}#sk-container-id-1 label.sk-toggleable__label-arrow:before {content: \"▸\";float: left;margin-right: 0.25em;color: #696969;}#sk-container-id-1 label.sk-toggleable__label-arrow:hover:before {color: black;}#sk-container-id-1 div.sk-estimator:hover label.sk-toggleable__label-arrow:before {color: black;}#sk-container-id-1 div.sk-toggleable__content {max-height: 0;max-width: 0;overflow: hidden;text-align: left;background-color: #f0f8ff;}#sk-container-id-1 div.sk-toggleable__content pre {margin: 0.2em;color: black;border-radius: 0.25em;background-color: #f0f8ff;}#sk-container-id-1 input.sk-toggleable__control:checked~div.sk-toggleable__content {max-height: 200px;max-width: 100%;overflow: auto;}#sk-container-id-1 input.sk-toggleable__control:checked~label.sk-toggleable__label-arrow:before {content: \"▾\";}#sk-container-id-1 div.sk-estimator input.sk-toggleable__control:checked~label.sk-toggleable__label {background-color: #d4ebff;}#sk-container-id-1 div.sk-label input.sk-toggleable__control:checked~label.sk-toggleable__label {background-color: #d4ebff;}#sk-container-id-1 input.sk-hidden--visually {border: 0;clip: rect(1px 1px 1px 1px);clip: rect(1px, 1px, 1px, 1px);height: 1px;margin: -1px;overflow: hidden;padding: 0;position: absolute;width: 1px;}#sk-container-id-1 div.sk-estimator {font-family: monospace;background-color: #f0f8ff;border: 1px dotted black;border-radius: 0.25em;box-sizing: border-box;margin-bottom: 0.5em;}#sk-container-id-1 div.sk-estimator:hover {background-color: #d4ebff;}#sk-container-id-1 div.sk-parallel-item::after {content: \"\";width: 100%;border-bottom: 1px solid gray;flex-grow: 1;}#sk-container-id-1 div.sk-label:hover label.sk-toggleable__label {background-color: #d4ebff;}#sk-container-id-1 div.sk-serial::before {content: \"\";position: absolute;border-left: 1px solid gray;box-sizing: border-box;top: 0;bottom: 0;left: 50%;z-index: 0;}#sk-container-id-1 div.sk-serial {display: flex;flex-direction: column;align-items: center;background-color: white;padding-right: 0.2em;padding-left: 0.2em;position: relative;}#sk-container-id-1 div.sk-item {position: relative;z-index: 1;}#sk-container-id-1 div.sk-parallel {display: flex;align-items: stretch;justify-content: center;background-color: white;position: relative;}#sk-container-id-1 div.sk-item::before, #sk-container-id-1 div.sk-parallel-item::before {content: \"\";position: absolute;border-left: 1px solid gray;box-sizing: border-box;top: 0;bottom: 0;left: 50%;z-index: -1;}#sk-container-id-1 div.sk-parallel-item {display: flex;flex-direction: column;z-index: 1;position: relative;background-color: white;}#sk-container-id-1 div.sk-parallel-item:first-child::after {align-self: flex-end;width: 50%;}#sk-container-id-1 div.sk-parallel-item:last-child::after {align-self: flex-start;width: 50%;}#sk-container-id-1 div.sk-parallel-item:only-child::after {width: 0;}#sk-container-id-1 div.sk-dashed-wrapped {border: 1px dashed gray;margin: 0 0.4em 0.5em 0.4em;box-sizing: border-box;padding-bottom: 0.4em;background-color: white;}#sk-container-id-1 div.sk-label label {font-family: monospace;font-weight: bold;display: inline-block;line-height: 1.2em;}#sk-container-id-1 div.sk-label-container {text-align: center;}#sk-container-id-1 div.sk-container {/* jupyter's `normalize.less` sets `[hidden] { display: none; }` but bootstrap.min.css set `[hidden] { display: none !important; }` so we also need the `!important` here to be able to override the default hidden behavior on the sphinx rendered scikit-learn.org. See: https://github.com/scikit-learn/scikit-learn/issues/21755 */display: inline-block !important;position: relative;}#sk-container-id-1 div.sk-text-repr-fallback {display: none;}</style><div id=\"sk-container-id-1\" class=\"sk-top-container\"><div class=\"sk-text-repr-fallback\"><pre>GradientBoostingRegressor(learning_rate=0.011, min_samples_leaf=16,\n",
       "                          n_estimators=200, random_state=23)</pre><b>In a Jupyter environment, please rerun this cell to show the HTML representation or trust the notebook. <br />On GitHub, the HTML representation is unable to render, please try loading this page with nbviewer.org.</b></div><div class=\"sk-container\" hidden><div class=\"sk-item\"><div class=\"sk-estimator sk-toggleable\"><input class=\"sk-toggleable__control sk-hidden--visually\" id=\"sk-estimator-id-1\" type=\"checkbox\" checked><label for=\"sk-estimator-id-1\" class=\"sk-toggleable__label sk-toggleable__label-arrow\">GradientBoostingRegressor</label><div class=\"sk-toggleable__content\"><pre>GradientBoostingRegressor(learning_rate=0.011, min_samples_leaf=16,\n",
       "                          n_estimators=200, random_state=23)</pre></div></div></div></div></div>"
      ],
      "text/plain": [
       "GradientBoostingRegressor(learning_rate=0.011, min_samples_leaf=16,\n",
       "                          n_estimators=200, random_state=23)"
      ]
     },
     "execution_count": 91,
     "metadata": {},
     "output_type": "execute_result"
    }
   ],
   "source": [
    "model_gb[-1].estimators_[0]"
   ]
  },
  {
   "cell_type": "code",
   "execution_count": 92,
   "metadata": {},
   "outputs": [
    {
     "data": {
      "text/plain": [
       "8.241520589998611"
      ]
     },
     "execution_count": 92,
     "metadata": {},
     "output_type": "execute_result"
    }
   ],
   "source": [
    "score_gb"
   ]
  },
  {
   "cell_type": "markdown",
   "metadata": {},
   "source": [
    "#### Conclusion"
   ]
  },
  {
   "cell_type": "code",
   "execution_count": 93,
   "metadata": {},
   "outputs": [
    {
     "data": {
      "text/plain": [
       "'The gradient boosting model showed the best result for the sMAPE metric: 8.241520589998611%'"
      ]
     },
     "execution_count": 93,
     "metadata": {},
     "output_type": "execute_result"
    }
   ],
   "source": [
    "f'The gradient boosting model showed the best result for the sMAPE metric: {score_gb}%'"
   ]
  },
  {
   "cell_type": "markdown",
   "metadata": {},
   "source": [
    "### Model Test"
   ]
  },
  {
   "cell_type": "code",
   "execution_count": 94,
   "metadata": {},
   "outputs": [],
   "source": [
    "def test_model(model, features, target):\n",
    "    predictions = model.predict(features)\n",
    "    return smape(target, predictions)"
   ]
  },
  {
   "cell_type": "markdown",
   "metadata": {},
   "source": [
    "#### Random Forest Model"
   ]
  },
  {
   "cell_type": "code",
   "execution_count": 95,
   "metadata": {},
   "outputs": [
    {
     "data": {
      "text/plain": [
       "8.76924310556463"
      ]
     },
     "execution_count": 95,
     "metadata": {},
     "output_type": "execute_result"
    }
   ],
   "source": [
    "test_model(model_et, X_test, y_test)"
   ]
  },
  {
   "cell_type": "markdown",
   "metadata": {},
   "source": [
    "#### Gradient Boosting Model"
   ]
  },
  {
   "cell_type": "code",
   "execution_count": 96,
   "metadata": {},
   "outputs": [
    {
     "data": {
      "text/plain": [
       "8.657730292179625"
      ]
     },
     "execution_count": 96,
     "metadata": {},
     "output_type": "execute_result"
    }
   ],
   "source": [
    "test_model(model_gb, X_test, y_test)"
   ]
  },
  {
   "cell_type": "markdown",
   "metadata": {},
   "source": [
    "#### Constant Model"
   ]
  },
  {
   "cell_type": "markdown",
   "metadata": {},
   "source": [
    "In order to check the model for adequacy, as well as for an additional comparison benchmark, we calculate the predictions of the constant model."
   ]
  },
  {
   "cell_type": "code",
   "execution_count": 97,
   "metadata": {},
   "outputs": [
    {
     "data": {
      "text/html": [
       "<style>#sk-container-id-2 {color: black;background-color: white;}#sk-container-id-2 pre{padding: 0;}#sk-container-id-2 div.sk-toggleable {background-color: white;}#sk-container-id-2 label.sk-toggleable__label {cursor: pointer;display: block;width: 100%;margin-bottom: 0;padding: 0.3em;box-sizing: border-box;text-align: center;}#sk-container-id-2 label.sk-toggleable__label-arrow:before {content: \"▸\";float: left;margin-right: 0.25em;color: #696969;}#sk-container-id-2 label.sk-toggleable__label-arrow:hover:before {color: black;}#sk-container-id-2 div.sk-estimator:hover label.sk-toggleable__label-arrow:before {color: black;}#sk-container-id-2 div.sk-toggleable__content {max-height: 0;max-width: 0;overflow: hidden;text-align: left;background-color: #f0f8ff;}#sk-container-id-2 div.sk-toggleable__content pre {margin: 0.2em;color: black;border-radius: 0.25em;background-color: #f0f8ff;}#sk-container-id-2 input.sk-toggleable__control:checked~div.sk-toggleable__content {max-height: 200px;max-width: 100%;overflow: auto;}#sk-container-id-2 input.sk-toggleable__control:checked~label.sk-toggleable__label-arrow:before {content: \"▾\";}#sk-container-id-2 div.sk-estimator input.sk-toggleable__control:checked~label.sk-toggleable__label {background-color: #d4ebff;}#sk-container-id-2 div.sk-label input.sk-toggleable__control:checked~label.sk-toggleable__label {background-color: #d4ebff;}#sk-container-id-2 input.sk-hidden--visually {border: 0;clip: rect(1px 1px 1px 1px);clip: rect(1px, 1px, 1px, 1px);height: 1px;margin: -1px;overflow: hidden;padding: 0;position: absolute;width: 1px;}#sk-container-id-2 div.sk-estimator {font-family: monospace;background-color: #f0f8ff;border: 1px dotted black;border-radius: 0.25em;box-sizing: border-box;margin-bottom: 0.5em;}#sk-container-id-2 div.sk-estimator:hover {background-color: #d4ebff;}#sk-container-id-2 div.sk-parallel-item::after {content: \"\";width: 100%;border-bottom: 1px solid gray;flex-grow: 1;}#sk-container-id-2 div.sk-label:hover label.sk-toggleable__label {background-color: #d4ebff;}#sk-container-id-2 div.sk-serial::before {content: \"\";position: absolute;border-left: 1px solid gray;box-sizing: border-box;top: 0;bottom: 0;left: 50%;z-index: 0;}#sk-container-id-2 div.sk-serial {display: flex;flex-direction: column;align-items: center;background-color: white;padding-right: 0.2em;padding-left: 0.2em;position: relative;}#sk-container-id-2 div.sk-item {position: relative;z-index: 1;}#sk-container-id-2 div.sk-parallel {display: flex;align-items: stretch;justify-content: center;background-color: white;position: relative;}#sk-container-id-2 div.sk-item::before, #sk-container-id-2 div.sk-parallel-item::before {content: \"\";position: absolute;border-left: 1px solid gray;box-sizing: border-box;top: 0;bottom: 0;left: 50%;z-index: -1;}#sk-container-id-2 div.sk-parallel-item {display: flex;flex-direction: column;z-index: 1;position: relative;background-color: white;}#sk-container-id-2 div.sk-parallel-item:first-child::after {align-self: flex-end;width: 50%;}#sk-container-id-2 div.sk-parallel-item:last-child::after {align-self: flex-start;width: 50%;}#sk-container-id-2 div.sk-parallel-item:only-child::after {width: 0;}#sk-container-id-2 div.sk-dashed-wrapped {border: 1px dashed gray;margin: 0 0.4em 0.5em 0.4em;box-sizing: border-box;padding-bottom: 0.4em;background-color: white;}#sk-container-id-2 div.sk-label label {font-family: monospace;font-weight: bold;display: inline-block;line-height: 1.2em;}#sk-container-id-2 div.sk-label-container {text-align: center;}#sk-container-id-2 div.sk-container {/* jupyter's `normalize.less` sets `[hidden] { display: none; }` but bootstrap.min.css set `[hidden] { display: none !important; }` so we also need the `!important` here to be able to override the default hidden behavior on the sphinx rendered scikit-learn.org. See: https://github.com/scikit-learn/scikit-learn/issues/21755 */display: inline-block !important;position: relative;}#sk-container-id-2 div.sk-text-repr-fallback {display: none;}</style><div id=\"sk-container-id-2\" class=\"sk-top-container\"><div class=\"sk-text-repr-fallback\"><pre>DummyRegressor()</pre><b>In a Jupyter environment, please rerun this cell to show the HTML representation or trust the notebook. <br />On GitHub, the HTML representation is unable to render, please try loading this page with nbviewer.org.</b></div><div class=\"sk-container\" hidden><div class=\"sk-item\"><div class=\"sk-estimator sk-toggleable\"><input class=\"sk-toggleable__control sk-hidden--visually\" id=\"sk-estimator-id-2\" type=\"checkbox\" checked><label for=\"sk-estimator-id-2\" class=\"sk-toggleable__label sk-toggleable__label-arrow\">DummyRegressor</label><div class=\"sk-toggleable__content\"><pre>DummyRegressor()</pre></div></div></div></div></div>"
      ],
      "text/plain": [
       "DummyRegressor()"
      ]
     },
     "execution_count": 97,
     "metadata": {},
     "output_type": "execute_result"
    }
   ],
   "source": [
    "dummy = DummyRegressor()\n",
    "dummy.fit(X_train, y_train)"
   ]
  },
  {
   "cell_type": "code",
   "execution_count": 98,
   "metadata": {},
   "outputs": [
    {
     "data": {
      "text/plain": [
       "9.831066377059802"
      ]
     },
     "execution_count": 98,
     "metadata": {},
     "output_type": "execute_result"
    }
   ],
   "source": [
    "test_model(dummy, X_test, y_test)"
   ]
  },
  {
   "cell_type": "markdown",
   "metadata": {},
   "source": [
    "The model passed the test. Also, the result of both models turned out to be better than the result of the constant model."
   ]
  },
  {
   "cell_type": "markdown",
   "metadata": {},
   "source": [
    "###  Conclusion"
   ]
  },
  {
   "cell_type": "markdown",
   "metadata": {},
   "source": [
    "During the study, five different machine learning models were trained: linear regression, support vector machines, random forest, super-random forest, and gradient boosting. The best result was shown by the gradient boosting model with an average result on the training set and on the test set."
   ]
  },
  {
   "cell_type": "markdown",
   "metadata": {},
   "source": [
    "##  Summary"
   ]
  },
  {
   "cell_type": "markdown",
   "metadata": {},
   "source": [
    "1. Data preparation  \n",
    "- The available data have been examined. There are three datasets - training, test and full. Missing values were found in all datasets.  \n",
    "- MAE efficiency of the enrichment of the crude concentrate was calculated. The obtained value was compared with the one in the table. The difference in data is not any significant.\n",
    "- We analysed the features that were absent in the test sample. There are 34 features missing in the test sample. These features contain information about the content of gold and associated elements in subsequent stages.\n",
    "- Missing values were filled in using the nearest values.\n",
    "\n",
    "2. Data analysis.\n",
    "- The dynamics of changes in the concentration of metals was studied. In concentrate, the gold concentration target increases linearly with each successive stage. The concentrations of other metals remain approximately at the same levels. In tailings, the concentration of gold and lead has a downward trend. The silver concentration ranges from 5.6 to 16%.\n",
    "- We compared the distribution of granules in test and training samples. It was concluded that the samples can be considered similar.\n",
    "- Then total concentration of substances was analysed. There were some anomalies identified - data with zero values of the total concentrations of substances. Probably there were errors in the measurements. The anomalous data has been removed.\n",
    "\n",
    "3. Models training.  \n",
    "- During the study, five different ML models were trained: linear regression, support vector regression, random forest, extra-trees and gradient boosting. The best result was shown by the gradient boosting model with an average result on the training set: 7.7% and 6.7% on the test set."
   ]
  },
  {
   "cell_type": "code",
   "execution_count": null,
   "metadata": {},
   "outputs": [],
   "source": []
  }
 ],
 "metadata": {
  "ExecuteTimeLog": [
   {
    "duration": 394,
    "start_time": "2022-12-12T06:57:24.596Z"
   },
   {
    "duration": 1353,
    "start_time": "2022-12-12T06:57:26.817Z"
   },
   {
    "duration": 892,
    "start_time": "2022-12-12T06:58:20.434Z"
   },
   {
    "duration": 35,
    "start_time": "2022-12-12T06:58:23.769Z"
   },
   {
    "duration": 29,
    "start_time": "2022-12-12T06:58:29.276Z"
   },
   {
    "duration": 28,
    "start_time": "2022-12-12T06:58:32.240Z"
   },
   {
    "duration": 687,
    "start_time": "2022-12-12T07:00:29.845Z"
   },
   {
    "duration": 21,
    "start_time": "2022-12-12T07:00:41.396Z"
   },
   {
    "duration": 18,
    "start_time": "2022-12-12T07:00:52.142Z"
   },
   {
    "duration": 20,
    "start_time": "2022-12-12T07:00:58.708Z"
   },
   {
    "duration": 5,
    "start_time": "2022-12-12T07:33:51.580Z"
   },
   {
    "duration": 4,
    "start_time": "2022-12-12T07:39:12.416Z"
   },
   {
    "duration": 3,
    "start_time": "2022-12-12T07:39:58.178Z"
   },
   {
    "duration": 4,
    "start_time": "2022-12-12T07:40:04.782Z"
   },
   {
    "duration": 41,
    "start_time": "2022-12-12T07:58:20.383Z"
   },
   {
    "duration": 63,
    "start_time": "2022-12-12T07:58:56.914Z"
   },
   {
    "duration": 14,
    "start_time": "2022-12-12T07:59:23.058Z"
   },
   {
    "duration": 15,
    "start_time": "2022-12-12T09:47:27.493Z"
   },
   {
    "duration": 30,
    "start_time": "2022-12-12T09:48:00.975Z"
   },
   {
    "duration": 13,
    "start_time": "2022-12-12T09:48:43.905Z"
   },
   {
    "duration": 20,
    "start_time": "2022-12-12T09:48:50.073Z"
   },
   {
    "duration": 96,
    "start_time": "2022-12-12T09:49:42.994Z"
   },
   {
    "duration": 64,
    "start_time": "2022-12-14T11:01:07.718Z"
   },
   {
    "duration": 1456,
    "start_time": "2022-12-14T11:01:10.235Z"
   },
   {
    "duration": 0,
    "start_time": "2022-12-14T11:01:11.693Z"
   },
   {
    "duration": 291,
    "start_time": "2022-12-14T11:01:19.059Z"
   },
   {
    "duration": 81,
    "start_time": "2022-12-14T11:01:20.122Z"
   },
   {
    "duration": 3679,
    "start_time": "2022-12-14T11:01:43.834Z"
   },
   {
    "duration": 1786,
    "start_time": "2022-12-16T02:06:44.346Z"
   },
   {
    "duration": 156,
    "start_time": "2022-12-16T02:07:32.469Z"
   },
   {
    "duration": 77,
    "start_time": "2022-12-16T02:07:45.094Z"
   },
   {
    "duration": 55,
    "start_time": "2022-12-16T02:08:01.414Z"
   },
   {
    "duration": 2152,
    "start_time": "2022-12-16T02:08:46.938Z"
   },
   {
    "duration": 27,
    "start_time": "2022-12-16T02:11:22.304Z"
   },
   {
    "duration": 22,
    "start_time": "2022-12-16T02:11:22.628Z"
   },
   {
    "duration": 10,
    "start_time": "2022-12-16T02:11:22.892Z"
   },
   {
    "duration": 23,
    "start_time": "2022-12-16T02:11:28.948Z"
   },
   {
    "duration": 14,
    "start_time": "2022-12-16T02:11:29.235Z"
   },
   {
    "duration": 6,
    "start_time": "2022-12-16T02:11:29.495Z"
   },
   {
    "duration": 23,
    "start_time": "2022-12-16T02:11:32.121Z"
   },
   {
    "duration": 19,
    "start_time": "2022-12-16T02:11:32.392Z"
   },
   {
    "duration": 11,
    "start_time": "2022-12-16T02:11:32.723Z"
   },
   {
    "duration": 5,
    "start_time": "2022-12-16T02:12:24.179Z"
   },
   {
    "duration": 7,
    "start_time": "2022-12-16T02:12:56.789Z"
   },
   {
    "duration": 3,
    "start_time": "2022-12-16T02:12:57.046Z"
   },
   {
    "duration": 2,
    "start_time": "2022-12-16T02:12:57.271Z"
   },
   {
    "duration": 4,
    "start_time": "2022-12-16T02:12:57.568Z"
   },
   {
    "duration": 4,
    "start_time": "2022-12-16T02:12:57.901Z"
   },
   {
    "duration": 3,
    "start_time": "2022-12-16T02:13:39.491Z"
   },
   {
    "duration": 4,
    "start_time": "2022-12-16T02:13:46.289Z"
   },
   {
    "duration": 4,
    "start_time": "2022-12-16T02:13:59.237Z"
   },
   {
    "duration": 3,
    "start_time": "2022-12-16T02:14:29.897Z"
   },
   {
    "duration": 19,
    "start_time": "2022-12-16T02:14:50.965Z"
   },
   {
    "duration": 2,
    "start_time": "2022-12-16T02:15:22.666Z"
   },
   {
    "duration": 17538,
    "start_time": "2022-12-16T02:15:33.484Z"
   },
   {
    "duration": 13,
    "start_time": "2022-12-16T02:16:00.928Z"
   },
   {
    "duration": 6,
    "start_time": "2022-12-16T02:16:54.742Z"
   },
   {
    "duration": 5,
    "start_time": "2022-12-16T02:16:55.113Z"
   },
   {
    "duration": 4,
    "start_time": "2022-12-16T02:16:55.446Z"
   },
   {
    "duration": 6,
    "start_time": "2022-12-16T02:17:40.980Z"
   },
   {
    "duration": 3,
    "start_time": "2022-12-16T02:17:59.355Z"
   },
   {
    "duration": 5,
    "start_time": "2022-12-16T02:18:11.179Z"
   },
   {
    "duration": 9,
    "start_time": "2022-12-16T02:18:29.326Z"
   },
   {
    "duration": 11,
    "start_time": "2022-12-16T02:22:15.074Z"
   },
   {
    "duration": 3,
    "start_time": "2022-12-16T02:22:26.720Z"
   },
   {
    "duration": 4,
    "start_time": "2022-12-16T02:23:20.117Z"
   },
   {
    "duration": 12,
    "start_time": "2022-12-16T02:23:20.527Z"
   },
   {
    "duration": 4,
    "start_time": "2022-12-16T02:27:24.689Z"
   },
   {
    "duration": 271,
    "start_time": "2022-12-16T02:27:33.815Z"
   },
   {
    "duration": 14,
    "start_time": "2022-12-16T02:27:46.292Z"
   },
   {
    "duration": 275,
    "start_time": "2022-12-16T02:28:26.345Z"
   },
   {
    "duration": 12,
    "start_time": "2022-12-16T02:28:36.783Z"
   },
   {
    "duration": 11,
    "start_time": "2022-12-16T02:28:48.988Z"
   },
   {
    "duration": 9,
    "start_time": "2022-12-16T02:30:44.777Z"
   },
   {
    "duration": 4,
    "start_time": "2022-12-16T02:30:50.232Z"
   },
   {
    "duration": 4,
    "start_time": "2022-12-16T02:30:50.532Z"
   },
   {
    "duration": 5,
    "start_time": "2022-12-16T02:30:50.790Z"
   },
   {
    "duration": 4,
    "start_time": "2022-12-16T02:30:51.049Z"
   },
   {
    "duration": 6,
    "start_time": "2022-12-16T02:30:51.329Z"
   },
   {
    "duration": 10,
    "start_time": "2022-12-16T02:30:51.611Z"
   },
   {
    "duration": 12,
    "start_time": "2022-12-16T02:30:52.021Z"
   },
   {
    "duration": 4,
    "start_time": "2022-12-16T02:49:57.944Z"
   },
   {
    "duration": 5,
    "start_time": "2022-12-16T02:49:58.609Z"
   },
   {
    "duration": 5,
    "start_time": "2022-12-16T02:49:59.479Z"
   },
   {
    "duration": 11,
    "start_time": "2022-12-16T02:49:59.818Z"
   },
   {
    "duration": 10,
    "start_time": "2022-12-16T02:50:04.248Z"
   },
   {
    "duration": 17,
    "start_time": "2022-12-16T02:51:42.409Z"
   },
   {
    "duration": 1548,
    "start_time": "2022-12-16T02:51:55.460Z"
   },
   {
    "duration": 230,
    "start_time": "2022-12-16T02:52:10.652Z"
   },
   {
    "duration": 215,
    "start_time": "2022-12-16T02:52:29.761Z"
   },
   {
    "duration": 5,
    "start_time": "2022-12-16T02:55:03.067Z"
   },
   {
    "duration": 5,
    "start_time": "2022-12-16T02:55:03.563Z"
   },
   {
    "duration": 5,
    "start_time": "2022-12-16T02:55:03.933Z"
   },
   {
    "duration": 3,
    "start_time": "2022-12-16T02:55:11.001Z"
   },
   {
    "duration": 5,
    "start_time": "2022-12-16T02:55:17.440Z"
   },
   {
    "duration": 348,
    "start_time": "2022-12-16T02:55:23.772Z"
   },
   {
    "duration": 54,
    "start_time": "2022-12-16T07:20:20.688Z"
   },
   {
    "duration": 1823,
    "start_time": "2022-12-16T07:20:31.651Z"
   },
   {
    "duration": 3236,
    "start_time": "2022-12-16T07:20:33.476Z"
   },
   {
    "duration": 43,
    "start_time": "2022-12-16T07:20:36.715Z"
   },
   {
    "duration": 31,
    "start_time": "2022-12-16T07:20:36.762Z"
   },
   {
    "duration": 13,
    "start_time": "2022-12-16T07:20:36.796Z"
   },
   {
    "duration": 50,
    "start_time": "2022-12-16T07:20:36.811Z"
   },
   {
    "duration": 16,
    "start_time": "2022-12-16T07:20:36.863Z"
   },
   {
    "duration": 13,
    "start_time": "2022-12-16T07:20:36.881Z"
   },
   {
    "duration": 26,
    "start_time": "2022-12-16T07:20:36.896Z"
   },
   {
    "duration": 57,
    "start_time": "2022-12-16T07:20:36.926Z"
   },
   {
    "duration": 11,
    "start_time": "2022-12-16T07:20:36.986Z"
   },
   {
    "duration": 20,
    "start_time": "2022-12-16T07:20:36.999Z"
   },
   {
    "duration": 12,
    "start_time": "2022-12-16T07:20:37.021Z"
   },
   {
    "duration": 4,
    "start_time": "2022-12-16T07:20:37.035Z"
   },
   {
    "duration": 17,
    "start_time": "2022-12-16T07:20:37.041Z"
   },
   {
    "duration": 12,
    "start_time": "2022-12-16T07:20:37.059Z"
   },
   {
    "duration": 20,
    "start_time": "2022-12-16T07:20:37.073Z"
   },
   {
    "duration": 10,
    "start_time": "2022-12-16T07:20:37.095Z"
   },
   {
    "duration": 19,
    "start_time": "2022-12-16T07:20:37.107Z"
   },
   {
    "duration": 26,
    "start_time": "2022-12-16T07:20:37.128Z"
   },
   {
    "duration": 32,
    "start_time": "2022-12-16T07:20:37.157Z"
   },
   {
    "duration": 5,
    "start_time": "2022-12-16T07:20:37.193Z"
   },
   {
    "duration": 26615,
    "start_time": "2022-12-16T07:20:37.200Z"
   },
   {
    "duration": 13,
    "start_time": "2022-12-16T07:21:03.817Z"
   },
   {
    "duration": 5,
    "start_time": "2022-12-16T07:21:03.832Z"
   },
   {
    "duration": 17,
    "start_time": "2022-12-16T07:21:03.839Z"
   },
   {
    "duration": 24,
    "start_time": "2022-12-16T07:21:03.858Z"
   },
   {
    "duration": 14,
    "start_time": "2022-12-16T07:21:03.887Z"
   },
   {
    "duration": 6,
    "start_time": "2022-12-16T07:21:03.903Z"
   },
   {
    "duration": 12,
    "start_time": "2022-12-16T07:21:03.911Z"
   },
   {
    "duration": 12,
    "start_time": "2022-12-16T07:21:03.924Z"
   },
   {
    "duration": 26,
    "start_time": "2022-12-16T07:21:03.938Z"
   },
   {
    "duration": 14,
    "start_time": "2022-12-16T07:21:03.966Z"
   },
   {
    "duration": 12,
    "start_time": "2022-12-16T07:21:03.983Z"
   },
   {
    "duration": 18,
    "start_time": "2022-12-16T07:21:03.997Z"
   },
   {
    "duration": 11,
    "start_time": "2022-12-16T07:21:04.016Z"
   },
   {
    "duration": 318,
    "start_time": "2022-12-16T07:21:04.028Z"
   },
   {
    "duration": 14,
    "start_time": "2022-12-16T07:21:04.348Z"
   },
   {
    "duration": 381,
    "start_time": "2022-12-16T07:21:04.365Z"
   },
   {
    "duration": 20,
    "start_time": "2022-12-16T07:21:04.748Z"
   },
   {
    "duration": 19,
    "start_time": "2022-12-16T07:21:04.770Z"
   },
   {
    "duration": 15,
    "start_time": "2022-12-16T07:21:04.791Z"
   },
   {
    "duration": 19,
    "start_time": "2022-12-16T07:21:04.808Z"
   },
   {
    "duration": 14,
    "start_time": "2022-12-16T07:21:04.830Z"
   },
   {
    "duration": 1719,
    "start_time": "2022-12-16T07:21:04.846Z"
   },
   {
    "duration": 240,
    "start_time": "2022-12-16T07:21:06.568Z"
   },
   {
    "duration": 232,
    "start_time": "2022-12-16T07:21:06.810Z"
   },
   {
    "duration": 12,
    "start_time": "2022-12-16T07:21:07.045Z"
   },
   {
    "duration": 17,
    "start_time": "2022-12-16T07:21:07.059Z"
   },
   {
    "duration": 16,
    "start_time": "2022-12-16T07:21:07.079Z"
   },
   {
    "duration": 13,
    "start_time": "2022-12-16T07:21:07.097Z"
   },
   {
    "duration": 14,
    "start_time": "2022-12-16T07:21:07.112Z"
   },
   {
    "duration": 369,
    "start_time": "2022-12-16T07:21:07.127Z"
   },
   {
    "duration": 5,
    "start_time": "2022-12-16T07:21:07.498Z"
   },
   {
    "duration": 11,
    "start_time": "2022-12-16T07:21:07.505Z"
   },
   {
    "duration": 11,
    "start_time": "2022-12-16T07:21:07.518Z"
   },
   {
    "duration": 16,
    "start_time": "2022-12-16T07:21:07.531Z"
   },
   {
    "duration": 8,
    "start_time": "2022-12-16T07:22:42.534Z"
   },
   {
    "duration": 3,
    "start_time": "2022-12-16T07:23:25.549Z"
   },
   {
    "duration": 53,
    "start_time": "2022-12-16T07:26:10.663Z"
   },
   {
    "duration": 1732,
    "start_time": "2022-12-16T07:30:14.923Z"
   },
   {
    "duration": 802,
    "start_time": "2022-12-16T07:30:16.658Z"
   },
   {
    "duration": 34,
    "start_time": "2022-12-16T07:30:17.462Z"
   },
   {
    "duration": 21,
    "start_time": "2022-12-16T07:30:17.499Z"
   },
   {
    "duration": 33,
    "start_time": "2022-12-16T07:30:17.523Z"
   },
   {
    "duration": 31,
    "start_time": "2022-12-16T07:30:17.559Z"
   },
   {
    "duration": 19,
    "start_time": "2022-12-16T07:30:17.592Z"
   },
   {
    "duration": 8,
    "start_time": "2022-12-16T07:30:17.613Z"
   },
   {
    "duration": 62,
    "start_time": "2022-12-16T07:30:17.623Z"
   },
   {
    "duration": 27,
    "start_time": "2022-12-16T07:30:17.687Z"
   },
   {
    "duration": 11,
    "start_time": "2022-12-16T07:30:17.716Z"
   },
   {
    "duration": 4,
    "start_time": "2022-12-16T07:30:17.729Z"
   },
   {
    "duration": 8,
    "start_time": "2022-12-16T07:30:17.755Z"
   },
   {
    "duration": 4,
    "start_time": "2022-12-16T07:30:17.769Z"
   },
   {
    "duration": 14,
    "start_time": "2022-12-16T07:30:17.775Z"
   },
   {
    "duration": 7,
    "start_time": "2022-12-16T07:30:17.792Z"
   },
   {
    "duration": 14,
    "start_time": "2022-12-16T07:30:17.801Z"
   },
   {
    "duration": 9,
    "start_time": "2022-12-16T07:30:17.817Z"
   },
   {
    "duration": 30,
    "start_time": "2022-12-16T07:30:17.827Z"
   },
   {
    "duration": 10,
    "start_time": "2022-12-16T07:30:17.860Z"
   },
   {
    "duration": 27,
    "start_time": "2022-12-16T07:30:17.871Z"
   },
   {
    "duration": 3,
    "start_time": "2022-12-16T07:30:17.901Z"
   },
   {
    "duration": 28563,
    "start_time": "2022-12-16T07:30:17.906Z"
   },
   {
    "duration": 17,
    "start_time": "2022-12-16T07:30:46.471Z"
   },
   {
    "duration": 13,
    "start_time": "2022-12-16T07:30:46.490Z"
   },
   {
    "duration": 24,
    "start_time": "2022-12-16T07:30:46.505Z"
   },
   {
    "duration": 13,
    "start_time": "2022-12-16T07:30:46.531Z"
   },
   {
    "duration": 16,
    "start_time": "2022-12-16T07:30:46.546Z"
   },
   {
    "duration": 15,
    "start_time": "2022-12-16T07:30:46.565Z"
   },
   {
    "duration": 25,
    "start_time": "2022-12-16T07:30:46.583Z"
   },
   {
    "duration": 17,
    "start_time": "2022-12-16T07:30:46.611Z"
   },
   {
    "duration": 21,
    "start_time": "2022-12-16T07:30:46.630Z"
   },
   {
    "duration": 30,
    "start_time": "2022-12-16T07:30:46.652Z"
   },
   {
    "duration": 19,
    "start_time": "2022-12-16T07:30:46.684Z"
   },
   {
    "duration": 26,
    "start_time": "2022-12-16T07:30:46.705Z"
   },
   {
    "duration": 19,
    "start_time": "2022-12-16T07:30:46.733Z"
   },
   {
    "duration": 330,
    "start_time": "2022-12-16T07:30:46.754Z"
   },
   {
    "duration": 17,
    "start_time": "2022-12-16T07:30:47.088Z"
   },
   {
    "duration": 317,
    "start_time": "2022-12-16T07:30:47.107Z"
   },
   {
    "duration": 14,
    "start_time": "2022-12-16T07:30:47.426Z"
   },
   {
    "duration": 7,
    "start_time": "2022-12-16T07:30:47.458Z"
   },
   {
    "duration": 12,
    "start_time": "2022-12-16T07:30:47.467Z"
   },
   {
    "duration": 35,
    "start_time": "2022-12-16T07:30:47.482Z"
   },
   {
    "duration": 16,
    "start_time": "2022-12-16T07:30:47.519Z"
   },
   {
    "duration": 1805,
    "start_time": "2022-12-16T07:30:47.538Z"
   },
   {
    "duration": 225,
    "start_time": "2022-12-16T07:30:49.345Z"
   },
   {
    "duration": 241,
    "start_time": "2022-12-16T07:30:49.572Z"
   },
   {
    "duration": 7,
    "start_time": "2022-12-16T07:30:49.815Z"
   },
   {
    "duration": 6,
    "start_time": "2022-12-16T07:30:49.826Z"
   },
   {
    "duration": 23,
    "start_time": "2022-12-16T07:30:49.834Z"
   },
   {
    "duration": 10,
    "start_time": "2022-12-16T07:30:49.860Z"
   },
   {
    "duration": 16,
    "start_time": "2022-12-16T07:30:49.872Z"
   },
   {
    "duration": 407,
    "start_time": "2022-12-16T07:30:49.890Z"
   },
   {
    "duration": 7,
    "start_time": "2022-12-16T07:30:50.299Z"
   },
   {
    "duration": 13,
    "start_time": "2022-12-16T07:30:50.309Z"
   },
   {
    "duration": 20,
    "start_time": "2022-12-16T07:30:50.325Z"
   },
   {
    "duration": 27,
    "start_time": "2022-12-16T07:30:50.348Z"
   },
   {
    "duration": 31,
    "start_time": "2022-12-16T07:30:50.377Z"
   },
   {
    "duration": 25,
    "start_time": "2022-12-16T07:30:50.410Z"
   },
   {
    "duration": 12,
    "start_time": "2022-12-16T07:30:50.437Z"
   },
   {
    "duration": 155,
    "start_time": "2022-12-16T07:30:50.451Z"
   },
   {
    "duration": 0,
    "start_time": "2022-12-16T07:30:50.608Z"
   },
   {
    "duration": 0,
    "start_time": "2022-12-16T07:30:50.610Z"
   },
   {
    "duration": 0,
    "start_time": "2022-12-16T07:30:50.612Z"
   },
   {
    "duration": 0,
    "start_time": "2022-12-16T07:30:50.613Z"
   },
   {
    "duration": 0,
    "start_time": "2022-12-16T07:30:50.614Z"
   },
   {
    "duration": 0,
    "start_time": "2022-12-16T07:30:50.616Z"
   },
   {
    "duration": 0,
    "start_time": "2022-12-16T07:30:50.617Z"
   },
   {
    "duration": 0,
    "start_time": "2022-12-16T07:30:50.618Z"
   },
   {
    "duration": 0,
    "start_time": "2022-12-16T07:30:50.620Z"
   },
   {
    "duration": 0,
    "start_time": "2022-12-16T07:30:50.621Z"
   },
   {
    "duration": 11,
    "start_time": "2022-12-16T07:31:16.447Z"
   },
   {
    "duration": 5664,
    "start_time": "2022-12-16T07:31:17.297Z"
   },
   {
    "duration": 15,
    "start_time": "2022-12-16T07:31:22.964Z"
   },
   {
    "duration": 6,
    "start_time": "2022-12-16T07:32:34.283Z"
   },
   {
    "duration": 49312,
    "start_time": "2022-12-16T07:32:48.187Z"
   },
   {
    "duration": 72,
    "start_time": "2022-12-16T07:33:37.502Z"
   },
   {
    "duration": 1644,
    "start_time": "2022-12-16T07:50:44.978Z"
   },
   {
    "duration": 815,
    "start_time": "2022-12-16T07:50:46.624Z"
   },
   {
    "duration": 40,
    "start_time": "2022-12-16T07:50:47.440Z"
   },
   {
    "duration": 24,
    "start_time": "2022-12-16T07:50:47.482Z"
   },
   {
    "duration": 8,
    "start_time": "2022-12-16T07:50:47.507Z"
   },
   {
    "duration": 50,
    "start_time": "2022-12-16T07:50:47.517Z"
   },
   {
    "duration": 15,
    "start_time": "2022-12-16T07:50:47.569Z"
   },
   {
    "duration": 11,
    "start_time": "2022-12-16T07:50:47.587Z"
   },
   {
    "duration": 22,
    "start_time": "2022-12-16T07:50:47.600Z"
   },
   {
    "duration": 46,
    "start_time": "2022-12-16T07:50:47.625Z"
   },
   {
    "duration": 15,
    "start_time": "2022-12-16T07:50:47.673Z"
   },
   {
    "duration": 4,
    "start_time": "2022-12-16T07:50:47.690Z"
   },
   {
    "duration": 9,
    "start_time": "2022-12-16T07:50:47.697Z"
   },
   {
    "duration": 4,
    "start_time": "2022-12-16T07:50:47.707Z"
   },
   {
    "duration": 6,
    "start_time": "2022-12-16T07:50:47.713Z"
   },
   {
    "duration": 6,
    "start_time": "2022-12-16T07:50:47.720Z"
   },
   {
    "duration": 35,
    "start_time": "2022-12-16T07:50:47.728Z"
   },
   {
    "duration": 18,
    "start_time": "2022-12-16T07:50:47.765Z"
   },
   {
    "duration": 26,
    "start_time": "2022-12-16T07:50:47.785Z"
   },
   {
    "duration": 12,
    "start_time": "2022-12-16T07:50:47.813Z"
   },
   {
    "duration": 28,
    "start_time": "2022-12-16T07:50:47.828Z"
   },
   {
    "duration": 3,
    "start_time": "2022-12-16T07:50:47.858Z"
   },
   {
    "duration": 24580,
    "start_time": "2022-12-16T07:50:47.863Z"
   },
   {
    "duration": 15,
    "start_time": "2022-12-16T07:51:12.445Z"
   },
   {
    "duration": 6,
    "start_time": "2022-12-16T07:51:12.461Z"
   },
   {
    "duration": 6,
    "start_time": "2022-12-16T07:51:12.468Z"
   },
   {
    "duration": 22,
    "start_time": "2022-12-16T07:51:12.476Z"
   },
   {
    "duration": 11,
    "start_time": "2022-12-16T07:51:12.504Z"
   },
   {
    "duration": 7,
    "start_time": "2022-12-16T07:51:12.518Z"
   },
   {
    "duration": 6,
    "start_time": "2022-12-16T07:51:12.527Z"
   },
   {
    "duration": 23,
    "start_time": "2022-12-16T07:51:12.535Z"
   },
   {
    "duration": 12,
    "start_time": "2022-12-16T07:51:12.560Z"
   },
   {
    "duration": 13,
    "start_time": "2022-12-16T07:51:12.574Z"
   },
   {
    "duration": 13,
    "start_time": "2022-12-16T07:51:12.588Z"
   },
   {
    "duration": 16,
    "start_time": "2022-12-16T07:51:12.603Z"
   },
   {
    "duration": 7,
    "start_time": "2022-12-16T07:51:12.621Z"
   },
   {
    "duration": 354,
    "start_time": "2022-12-16T07:51:12.630Z"
   },
   {
    "duration": 20,
    "start_time": "2022-12-16T07:51:12.987Z"
   },
   {
    "duration": 334,
    "start_time": "2022-12-16T07:51:13.009Z"
   },
   {
    "duration": 20,
    "start_time": "2022-12-16T07:51:13.344Z"
   },
   {
    "duration": 10,
    "start_time": "2022-12-16T07:51:13.366Z"
   },
   {
    "duration": 15,
    "start_time": "2022-12-16T07:51:13.378Z"
   },
   {
    "duration": 15,
    "start_time": "2022-12-16T07:51:13.396Z"
   },
   {
    "duration": 13,
    "start_time": "2022-12-16T07:51:13.413Z"
   },
   {
    "duration": 1924,
    "start_time": "2022-12-16T07:51:13.428Z"
   },
   {
    "duration": 235,
    "start_time": "2022-12-16T07:51:15.354Z"
   },
   {
    "duration": 225,
    "start_time": "2022-12-16T07:51:15.591Z"
   },
   {
    "duration": 5,
    "start_time": "2022-12-16T07:51:15.818Z"
   },
   {
    "duration": 15,
    "start_time": "2022-12-16T07:51:15.825Z"
   },
   {
    "duration": 29,
    "start_time": "2022-12-16T07:51:15.841Z"
   },
   {
    "duration": 16,
    "start_time": "2022-12-16T07:51:15.872Z"
   },
   {
    "duration": 21,
    "start_time": "2022-12-16T07:51:15.891Z"
   },
   {
    "duration": 394,
    "start_time": "2022-12-16T07:51:15.914Z"
   },
   {
    "duration": 5,
    "start_time": "2022-12-16T07:51:16.310Z"
   },
   {
    "duration": 17,
    "start_time": "2022-12-16T07:51:16.317Z"
   },
   {
    "duration": 10,
    "start_time": "2022-12-16T07:51:16.336Z"
   },
   {
    "duration": 31,
    "start_time": "2022-12-16T07:51:16.348Z"
   },
   {
    "duration": 21,
    "start_time": "2022-12-16T07:51:16.383Z"
   },
   {
    "duration": 21,
    "start_time": "2022-12-16T07:51:16.406Z"
   },
   {
    "duration": 27,
    "start_time": "2022-12-16T07:51:16.429Z"
   },
   {
    "duration": 5499,
    "start_time": "2022-12-16T07:51:16.459Z"
   },
   {
    "duration": 93,
    "start_time": "2022-12-16T07:51:21.962Z"
   },
   {
    "duration": 45609,
    "start_time": "2022-12-16T07:51:22.058Z"
   },
   {
    "duration": 85,
    "start_time": "2022-12-16T07:52:07.670Z"
   },
   {
    "duration": 836830,
    "start_time": "2022-12-16T07:52:07.761Z"
   },
   {
    "duration": 5,
    "start_time": "2022-12-16T08:06:04.595Z"
   },
   {
    "duration": 164742,
    "start_time": "2022-12-16T08:06:04.604Z"
   },
   {
    "duration": 10,
    "start_time": "2022-12-16T08:08:49.348Z"
   },
   {
    "duration": 250079,
    "start_time": "2022-12-16T08:08:49.360Z"
   },
   {
    "duration": 4,
    "start_time": "2022-12-16T08:12:59.441Z"
   },
   {
    "duration": 23,
    "start_time": "2022-12-16T08:12:59.455Z"
   },
   {
    "duration": 4,
    "start_time": "2022-12-16T08:12:59.479Z"
   },
   {
    "duration": 4,
    "start_time": "2022-12-16T08:13:19.868Z"
   },
   {
    "duration": 1511,
    "start_time": "2022-12-16T10:47:32.278Z"
   },
   {
    "duration": 3,
    "start_time": "2022-12-16T11:02:06.333Z"
   },
   {
    "duration": 1318,
    "start_time": "2022-12-16T11:02:12.324Z"
   },
   {
    "duration": 2060,
    "start_time": "2022-12-16T11:02:13.643Z"
   },
   {
    "duration": 25,
    "start_time": "2022-12-16T11:02:15.705Z"
   },
   {
    "duration": 17,
    "start_time": "2022-12-16T11:02:15.731Z"
   },
   {
    "duration": 7,
    "start_time": "2022-12-16T11:02:15.750Z"
   },
   {
    "duration": 29,
    "start_time": "2022-12-16T11:02:15.759Z"
   },
   {
    "duration": 14,
    "start_time": "2022-12-16T11:02:15.789Z"
   },
   {
    "duration": 5,
    "start_time": "2022-12-16T11:02:15.805Z"
   },
   {
    "duration": 22,
    "start_time": "2022-12-16T11:02:15.811Z"
   },
   {
    "duration": 18,
    "start_time": "2022-12-16T11:02:15.836Z"
   },
   {
    "duration": 29,
    "start_time": "2022-12-16T11:02:15.856Z"
   },
   {
    "duration": 3,
    "start_time": "2022-12-16T11:02:15.887Z"
   },
   {
    "duration": 9,
    "start_time": "2022-12-16T11:02:15.891Z"
   },
   {
    "duration": 3,
    "start_time": "2022-12-16T11:02:15.901Z"
   },
   {
    "duration": 9,
    "start_time": "2022-12-16T11:02:15.905Z"
   },
   {
    "duration": 17,
    "start_time": "2022-12-16T11:02:15.916Z"
   },
   {
    "duration": 7,
    "start_time": "2022-12-16T11:02:15.935Z"
   },
   {
    "duration": 18,
    "start_time": "2022-12-16T11:02:15.943Z"
   },
   {
    "duration": 7,
    "start_time": "2022-12-16T11:02:15.962Z"
   },
   {
    "duration": 30,
    "start_time": "2022-12-16T11:02:15.971Z"
   },
   {
    "duration": 34,
    "start_time": "2022-12-16T11:02:16.003Z"
   },
   {
    "duration": 3,
    "start_time": "2022-12-16T11:02:16.038Z"
   },
   {
    "duration": 10936,
    "start_time": "2022-12-16T11:02:16.043Z"
   },
   {
    "duration": 12,
    "start_time": "2022-12-16T11:02:26.980Z"
   },
   {
    "duration": 5,
    "start_time": "2022-12-16T11:02:26.994Z"
   },
   {
    "duration": 6,
    "start_time": "2022-12-16T11:02:27.000Z"
   },
   {
    "duration": 7,
    "start_time": "2022-12-16T11:02:27.007Z"
   },
   {
    "duration": 10,
    "start_time": "2022-12-16T11:02:27.019Z"
   },
   {
    "duration": 77,
    "start_time": "2022-12-16T11:02:27.031Z"
   },
   {
    "duration": 9,
    "start_time": "2022-12-16T11:02:27.109Z"
   },
   {
    "duration": 10,
    "start_time": "2022-12-16T11:02:27.120Z"
   },
   {
    "duration": 10,
    "start_time": "2022-12-16T11:02:27.132Z"
   },
   {
    "duration": 6,
    "start_time": "2022-12-16T11:02:27.143Z"
   },
   {
    "duration": 6,
    "start_time": "2022-12-16T11:02:27.150Z"
   },
   {
    "duration": 12,
    "start_time": "2022-12-16T11:02:27.157Z"
   },
   {
    "duration": 7,
    "start_time": "2022-12-16T11:02:27.170Z"
   },
   {
    "duration": 262,
    "start_time": "2022-12-16T11:02:27.178Z"
   },
   {
    "duration": 10,
    "start_time": "2022-12-16T11:02:27.442Z"
   },
   {
    "duration": 259,
    "start_time": "2022-12-16T11:02:27.454Z"
   },
   {
    "duration": 10,
    "start_time": "2022-12-16T11:02:27.714Z"
   },
   {
    "duration": 6,
    "start_time": "2022-12-16T11:02:27.725Z"
   },
   {
    "duration": 28,
    "start_time": "2022-12-16T11:02:27.733Z"
   },
   {
    "duration": 162,
    "start_time": "2022-12-16T11:02:27.762Z"
   },
   {
    "duration": 10,
    "start_time": "2022-12-16T11:02:27.926Z"
   },
   {
    "duration": 1298,
    "start_time": "2022-12-16T11:02:27.937Z"
   },
   {
    "duration": 163,
    "start_time": "2022-12-16T11:02:29.237Z"
   },
   {
    "duration": 170,
    "start_time": "2022-12-16T11:02:29.401Z"
   },
   {
    "duration": 7,
    "start_time": "2022-12-16T11:02:29.573Z"
   },
   {
    "duration": 8,
    "start_time": "2022-12-16T11:02:29.581Z"
   },
   {
    "duration": 6,
    "start_time": "2022-12-16T11:02:29.590Z"
   },
   {
    "duration": 5,
    "start_time": "2022-12-16T11:02:29.597Z"
   },
   {
    "duration": 7,
    "start_time": "2022-12-16T11:02:29.603Z"
   },
   {
    "duration": 300,
    "start_time": "2022-12-16T11:02:29.611Z"
   },
   {
    "duration": 5,
    "start_time": "2022-12-16T11:02:29.912Z"
   },
   {
    "duration": 10,
    "start_time": "2022-12-16T11:02:29.918Z"
   },
   {
    "duration": 7,
    "start_time": "2022-12-16T11:02:29.929Z"
   },
   {
    "duration": 12,
    "start_time": "2022-12-16T11:02:29.937Z"
   },
   {
    "duration": 10,
    "start_time": "2022-12-16T11:02:29.951Z"
   },
   {
    "duration": 7,
    "start_time": "2022-12-16T11:02:29.962Z"
   },
   {
    "duration": 8,
    "start_time": "2022-12-16T11:02:29.970Z"
   },
   {
    "duration": 2100,
    "start_time": "2022-12-16T11:02:29.979Z"
   },
   {
    "duration": 96,
    "start_time": "2022-12-16T11:02:32.082Z"
   },
   {
    "duration": 24618,
    "start_time": "2022-12-16T11:02:32.180Z"
   },
   {
    "duration": 77,
    "start_time": "2022-12-16T11:02:56.800Z"
   },
   {
    "duration": 525354,
    "start_time": "2022-12-16T11:02:56.880Z"
   },
   {
    "duration": 4,
    "start_time": "2022-12-16T11:11:42.235Z"
   },
   {
    "duration": 107361,
    "start_time": "2022-12-16T11:11:42.240Z"
   },
   {
    "duration": 5,
    "start_time": "2022-12-16T11:13:29.603Z"
   },
   {
    "duration": 171111,
    "start_time": "2022-12-16T11:13:29.609Z"
   },
   {
    "duration": 4,
    "start_time": "2022-12-16T11:16:20.721Z"
   },
   {
    "duration": 115,
    "start_time": "2022-12-16T11:16:20.727Z"
   },
   {
    "duration": 0,
    "start_time": "2022-12-16T11:16:20.843Z"
   },
   {
    "duration": 0,
    "start_time": "2022-12-16T11:16:20.845Z"
   },
   {
    "duration": 1374,
    "start_time": "2022-12-16T11:25:38.468Z"
   },
   {
    "duration": 687,
    "start_time": "2022-12-16T11:25:39.844Z"
   },
   {
    "duration": 24,
    "start_time": "2022-12-16T11:25:40.533Z"
   },
   {
    "duration": 32,
    "start_time": "2022-12-16T11:25:40.558Z"
   },
   {
    "duration": 8,
    "start_time": "2022-12-16T11:25:40.591Z"
   },
   {
    "duration": 20,
    "start_time": "2022-12-16T11:25:40.601Z"
   },
   {
    "duration": 15,
    "start_time": "2022-12-16T11:25:40.622Z"
   },
   {
    "duration": 16,
    "start_time": "2022-12-16T11:25:40.638Z"
   },
   {
    "duration": 41,
    "start_time": "2022-12-16T11:25:40.656Z"
   },
   {
    "duration": 18,
    "start_time": "2022-12-16T11:25:40.700Z"
   },
   {
    "duration": 11,
    "start_time": "2022-12-16T11:25:40.720Z"
   },
   {
    "duration": 3,
    "start_time": "2022-12-16T11:25:40.733Z"
   },
   {
    "duration": 14,
    "start_time": "2022-12-16T11:25:40.738Z"
   },
   {
    "duration": 34,
    "start_time": "2022-12-16T11:25:40.754Z"
   },
   {
    "duration": 11,
    "start_time": "2022-12-16T11:25:40.791Z"
   },
   {
    "duration": 6,
    "start_time": "2022-12-16T11:25:40.804Z"
   },
   {
    "duration": 7,
    "start_time": "2022-12-16T11:25:40.811Z"
   },
   {
    "duration": 10,
    "start_time": "2022-12-16T11:25:40.819Z"
   },
   {
    "duration": 14,
    "start_time": "2022-12-16T11:25:40.831Z"
   },
   {
    "duration": 20,
    "start_time": "2022-12-16T11:25:40.846Z"
   },
   {
    "duration": 23,
    "start_time": "2022-12-16T11:25:40.867Z"
   },
   {
    "duration": 5,
    "start_time": "2022-12-16T11:25:40.892Z"
   },
   {
    "duration": 11644,
    "start_time": "2022-12-16T11:25:40.899Z"
   },
   {
    "duration": 12,
    "start_time": "2022-12-16T11:25:52.544Z"
   },
   {
    "duration": 5,
    "start_time": "2022-12-16T11:25:52.557Z"
   },
   {
    "duration": 27,
    "start_time": "2022-12-16T11:25:52.563Z"
   },
   {
    "duration": 6,
    "start_time": "2022-12-16T11:25:52.591Z"
   },
   {
    "duration": 8,
    "start_time": "2022-12-16T11:25:52.600Z"
   },
   {
    "duration": 6,
    "start_time": "2022-12-16T11:25:52.609Z"
   },
   {
    "duration": 10,
    "start_time": "2022-12-16T11:25:52.616Z"
   },
   {
    "duration": 11,
    "start_time": "2022-12-16T11:25:52.627Z"
   },
   {
    "duration": 9,
    "start_time": "2022-12-16T11:25:52.640Z"
   },
   {
    "duration": 6,
    "start_time": "2022-12-16T11:25:52.651Z"
   },
   {
    "duration": 9,
    "start_time": "2022-12-16T11:25:52.658Z"
   },
   {
    "duration": 23,
    "start_time": "2022-12-16T11:25:52.669Z"
   },
   {
    "duration": 11,
    "start_time": "2022-12-16T11:25:52.693Z"
   },
   {
    "duration": 312,
    "start_time": "2022-12-16T11:25:52.706Z"
   },
   {
    "duration": 12,
    "start_time": "2022-12-16T11:25:53.020Z"
   },
   {
    "duration": 280,
    "start_time": "2022-12-16T11:25:53.034Z"
   },
   {
    "duration": 11,
    "start_time": "2022-12-16T11:25:53.315Z"
   },
   {
    "duration": 7,
    "start_time": "2022-12-16T11:25:53.327Z"
   },
   {
    "duration": 11,
    "start_time": "2022-12-16T11:25:53.336Z"
   },
   {
    "duration": 7,
    "start_time": "2022-12-16T11:25:53.348Z"
   },
   {
    "duration": 9,
    "start_time": "2022-12-16T11:25:53.356Z"
   },
   {
    "duration": 1487,
    "start_time": "2022-12-16T11:25:53.366Z"
   },
   {
    "duration": 178,
    "start_time": "2022-12-16T11:25:54.855Z"
   },
   {
    "duration": 181,
    "start_time": "2022-12-16T11:25:55.035Z"
   },
   {
    "duration": 5,
    "start_time": "2022-12-16T11:25:55.218Z"
   },
   {
    "duration": 6,
    "start_time": "2022-12-16T11:25:55.224Z"
   },
   {
    "duration": 6,
    "start_time": "2022-12-16T11:25:55.231Z"
   },
   {
    "duration": 6,
    "start_time": "2022-12-16T11:25:55.238Z"
   },
   {
    "duration": 10,
    "start_time": "2022-12-16T11:25:55.245Z"
   },
   {
    "duration": 306,
    "start_time": "2022-12-16T11:25:55.256Z"
   },
   {
    "duration": 5,
    "start_time": "2022-12-16T11:25:55.564Z"
   },
   {
    "duration": 14,
    "start_time": "2022-12-16T11:25:55.577Z"
   },
   {
    "duration": 9,
    "start_time": "2022-12-16T11:25:55.592Z"
   },
   {
    "duration": 13,
    "start_time": "2022-12-16T11:25:55.602Z"
   },
   {
    "duration": 12,
    "start_time": "2022-12-16T11:25:55.616Z"
   },
   {
    "duration": 5,
    "start_time": "2022-12-16T11:25:55.629Z"
   },
   {
    "duration": 9,
    "start_time": "2022-12-16T11:25:55.636Z"
   },
   {
    "duration": 4135,
    "start_time": "2022-12-16T11:25:55.646Z"
   },
   {
    "duration": 9,
    "start_time": "2022-12-16T11:25:59.783Z"
   },
   {
    "duration": 30053,
    "start_time": "2022-12-16T11:25:59.877Z"
   },
   {
    "duration": 52,
    "start_time": "2022-12-16T11:26:29.933Z"
   },
   {
    "duration": 1527,
    "start_time": "2022-12-16T11:37:53.864Z"
   },
   {
    "duration": 685,
    "start_time": "2022-12-16T11:37:55.393Z"
   },
   {
    "duration": 24,
    "start_time": "2022-12-16T11:37:56.080Z"
   },
   {
    "duration": 22,
    "start_time": "2022-12-16T11:37:56.106Z"
   },
   {
    "duration": 14,
    "start_time": "2022-12-16T11:37:56.130Z"
   },
   {
    "duration": 21,
    "start_time": "2022-12-16T11:37:56.145Z"
   },
   {
    "duration": 31,
    "start_time": "2022-12-16T11:37:56.168Z"
   },
   {
    "duration": 15,
    "start_time": "2022-12-16T11:37:56.200Z"
   },
   {
    "duration": 40,
    "start_time": "2022-12-16T11:37:56.217Z"
   },
   {
    "duration": 28,
    "start_time": "2022-12-16T11:37:56.260Z"
   },
   {
    "duration": 11,
    "start_time": "2022-12-16T11:37:56.289Z"
   },
   {
    "duration": 6,
    "start_time": "2022-12-16T11:37:56.301Z"
   },
   {
    "duration": 33,
    "start_time": "2022-12-16T11:37:56.309Z"
   },
   {
    "duration": 17,
    "start_time": "2022-12-16T11:37:56.343Z"
   },
   {
    "duration": 21,
    "start_time": "2022-12-16T11:37:56.362Z"
   },
   {
    "duration": 30,
    "start_time": "2022-12-16T11:37:56.384Z"
   },
   {
    "duration": 24,
    "start_time": "2022-12-16T11:37:56.415Z"
   },
   {
    "duration": 23,
    "start_time": "2022-12-16T11:37:56.440Z"
   },
   {
    "duration": 18,
    "start_time": "2022-12-16T11:37:56.465Z"
   },
   {
    "duration": 20,
    "start_time": "2022-12-16T11:37:56.485Z"
   },
   {
    "duration": 30,
    "start_time": "2022-12-16T11:37:56.507Z"
   },
   {
    "duration": 3,
    "start_time": "2022-12-16T11:37:56.539Z"
   },
   {
    "duration": 11328,
    "start_time": "2022-12-16T11:37:56.543Z"
   },
   {
    "duration": 12,
    "start_time": "2022-12-16T11:38:07.873Z"
   },
   {
    "duration": 13,
    "start_time": "2022-12-16T11:38:07.887Z"
   },
   {
    "duration": 14,
    "start_time": "2022-12-16T11:38:07.902Z"
   },
   {
    "duration": 30,
    "start_time": "2022-12-16T11:38:07.917Z"
   },
   {
    "duration": 27,
    "start_time": "2022-12-16T11:38:07.950Z"
   },
   {
    "duration": 27,
    "start_time": "2022-12-16T11:38:07.978Z"
   },
   {
    "duration": 30,
    "start_time": "2022-12-16T11:38:08.007Z"
   },
   {
    "duration": 31,
    "start_time": "2022-12-16T11:38:08.038Z"
   },
   {
    "duration": 28,
    "start_time": "2022-12-16T11:38:08.070Z"
   },
   {
    "duration": 48,
    "start_time": "2022-12-16T11:38:08.100Z"
   },
   {
    "duration": 58,
    "start_time": "2022-12-16T11:38:08.149Z"
   },
   {
    "duration": 34,
    "start_time": "2022-12-16T11:38:08.209Z"
   },
   {
    "duration": 30,
    "start_time": "2022-12-16T11:38:08.244Z"
   },
   {
    "duration": 250,
    "start_time": "2022-12-16T11:38:08.275Z"
   },
   {
    "duration": 11,
    "start_time": "2022-12-16T11:38:08.527Z"
   },
   {
    "duration": 268,
    "start_time": "2022-12-16T11:38:08.540Z"
   },
   {
    "duration": 11,
    "start_time": "2022-12-16T11:38:08.810Z"
   },
   {
    "duration": 34,
    "start_time": "2022-12-16T11:38:08.822Z"
   },
   {
    "duration": 24,
    "start_time": "2022-12-16T11:38:08.858Z"
   },
   {
    "duration": 55,
    "start_time": "2022-12-16T11:38:08.884Z"
   },
   {
    "duration": 26,
    "start_time": "2022-12-16T11:38:08.941Z"
   },
   {
    "duration": 1351,
    "start_time": "2022-12-16T11:38:08.969Z"
   },
   {
    "duration": 175,
    "start_time": "2022-12-16T11:38:10.321Z"
   },
   {
    "duration": 170,
    "start_time": "2022-12-16T11:38:10.497Z"
   },
   {
    "duration": 15,
    "start_time": "2022-12-16T11:38:10.669Z"
   },
   {
    "duration": 28,
    "start_time": "2022-12-16T11:38:10.685Z"
   },
   {
    "duration": 20,
    "start_time": "2022-12-16T11:38:10.714Z"
   },
   {
    "duration": 17,
    "start_time": "2022-12-16T11:38:10.735Z"
   },
   {
    "duration": 13,
    "start_time": "2022-12-16T11:38:10.754Z"
   },
   {
    "duration": 334,
    "start_time": "2022-12-16T11:38:10.769Z"
   },
   {
    "duration": 5,
    "start_time": "2022-12-16T11:38:11.104Z"
   },
   {
    "duration": 12,
    "start_time": "2022-12-16T11:38:11.111Z"
   },
   {
    "duration": 15,
    "start_time": "2022-12-16T11:38:11.124Z"
   },
   {
    "duration": 20,
    "start_time": "2022-12-16T11:38:11.140Z"
   },
   {
    "duration": 14,
    "start_time": "2022-12-16T11:38:11.162Z"
   },
   {
    "duration": 24,
    "start_time": "2022-12-16T11:38:11.177Z"
   },
   {
    "duration": 11,
    "start_time": "2022-12-16T11:38:11.203Z"
   },
   {
    "duration": 4072,
    "start_time": "2022-12-16T11:38:11.215Z"
   },
   {
    "duration": 91,
    "start_time": "2022-12-16T11:38:15.289Z"
   },
   {
    "duration": 30321,
    "start_time": "2022-12-16T11:38:15.382Z"
   },
   {
    "duration": 75,
    "start_time": "2022-12-16T11:38:45.705Z"
   },
   {
    "duration": 1383,
    "start_time": "2022-12-16T11:39:58.587Z"
   },
   {
    "duration": 719,
    "start_time": "2022-12-16T11:39:59.971Z"
   },
   {
    "duration": 26,
    "start_time": "2022-12-16T11:40:00.692Z"
   },
   {
    "duration": 23,
    "start_time": "2022-12-16T11:40:00.720Z"
   },
   {
    "duration": 20,
    "start_time": "2022-12-16T11:40:00.745Z"
   },
   {
    "duration": 45,
    "start_time": "2022-12-16T11:40:00.766Z"
   },
   {
    "duration": 32,
    "start_time": "2022-12-16T11:40:00.813Z"
   },
   {
    "duration": 30,
    "start_time": "2022-12-16T11:40:00.846Z"
   },
   {
    "duration": 59,
    "start_time": "2022-12-16T11:40:00.878Z"
   },
   {
    "duration": 31,
    "start_time": "2022-12-16T11:40:00.940Z"
   },
   {
    "duration": 31,
    "start_time": "2022-12-16T11:40:00.973Z"
   },
   {
    "duration": 11,
    "start_time": "2022-12-16T11:40:01.005Z"
   },
   {
    "duration": 24,
    "start_time": "2022-12-16T11:40:01.017Z"
   },
   {
    "duration": 8,
    "start_time": "2022-12-16T11:40:01.044Z"
   },
   {
    "duration": 13,
    "start_time": "2022-12-16T11:40:01.053Z"
   },
   {
    "duration": 12,
    "start_time": "2022-12-16T11:40:01.067Z"
   },
   {
    "duration": 17,
    "start_time": "2022-12-16T11:40:01.089Z"
   },
   {
    "duration": 17,
    "start_time": "2022-12-16T11:40:01.107Z"
   },
   {
    "duration": 32,
    "start_time": "2022-12-16T11:40:01.126Z"
   },
   {
    "duration": 37,
    "start_time": "2022-12-16T11:40:01.160Z"
   },
   {
    "duration": 36,
    "start_time": "2022-12-16T11:40:01.199Z"
   },
   {
    "duration": 40,
    "start_time": "2022-12-16T11:40:01.236Z"
   },
   {
    "duration": 10528,
    "start_time": "2022-12-16T11:40:01.278Z"
   },
   {
    "duration": 12,
    "start_time": "2022-12-16T11:40:11.807Z"
   },
   {
    "duration": 11,
    "start_time": "2022-12-16T11:40:11.821Z"
   },
   {
    "duration": 15,
    "start_time": "2022-12-16T11:40:11.834Z"
   },
   {
    "duration": 28,
    "start_time": "2022-12-16T11:40:11.851Z"
   },
   {
    "duration": 24,
    "start_time": "2022-12-16T11:40:11.887Z"
   },
   {
    "duration": 12,
    "start_time": "2022-12-16T11:40:11.913Z"
   },
   {
    "duration": 15,
    "start_time": "2022-12-16T11:40:11.927Z"
   },
   {
    "duration": 11,
    "start_time": "2022-12-16T11:40:11.944Z"
   },
   {
    "duration": 27,
    "start_time": "2022-12-16T11:40:11.957Z"
   },
   {
    "duration": 26,
    "start_time": "2022-12-16T11:40:11.986Z"
   },
   {
    "duration": 10,
    "start_time": "2022-12-16T11:40:12.014Z"
   },
   {
    "duration": 20,
    "start_time": "2022-12-16T11:40:12.026Z"
   },
   {
    "duration": 7,
    "start_time": "2022-12-16T11:40:12.047Z"
   },
   {
    "duration": 293,
    "start_time": "2022-12-16T11:40:12.055Z"
   },
   {
    "duration": 11,
    "start_time": "2022-12-16T11:40:12.349Z"
   },
   {
    "duration": 292,
    "start_time": "2022-12-16T11:40:12.361Z"
   },
   {
    "duration": 12,
    "start_time": "2022-12-16T11:40:12.654Z"
   },
   {
    "duration": 43,
    "start_time": "2022-12-16T11:40:12.668Z"
   },
   {
    "duration": 32,
    "start_time": "2022-12-16T11:40:12.713Z"
   },
   {
    "duration": 10,
    "start_time": "2022-12-16T11:40:12.746Z"
   },
   {
    "duration": 27,
    "start_time": "2022-12-16T11:40:12.757Z"
   },
   {
    "duration": 1607,
    "start_time": "2022-12-16T11:40:12.785Z"
   },
   {
    "duration": 193,
    "start_time": "2022-12-16T11:40:14.394Z"
   },
   {
    "duration": 190,
    "start_time": "2022-12-16T11:40:14.588Z"
   },
   {
    "duration": 6,
    "start_time": "2022-12-16T11:40:14.779Z"
   },
   {
    "duration": 49,
    "start_time": "2022-12-16T11:40:14.787Z"
   },
   {
    "duration": 32,
    "start_time": "2022-12-16T11:40:14.838Z"
   },
   {
    "duration": 43,
    "start_time": "2022-12-16T11:40:14.872Z"
   },
   {
    "duration": 33,
    "start_time": "2022-12-16T11:40:14.918Z"
   },
   {
    "duration": 354,
    "start_time": "2022-12-16T11:40:14.953Z"
   },
   {
    "duration": 5,
    "start_time": "2022-12-16T11:40:15.308Z"
   },
   {
    "duration": 18,
    "start_time": "2022-12-16T11:40:15.315Z"
   },
   {
    "duration": 15,
    "start_time": "2022-12-16T11:40:15.334Z"
   },
   {
    "duration": 34,
    "start_time": "2022-12-16T11:40:15.352Z"
   },
   {
    "duration": 28,
    "start_time": "2022-12-16T11:40:15.388Z"
   },
   {
    "duration": 29,
    "start_time": "2022-12-16T11:40:15.418Z"
   },
   {
    "duration": 23,
    "start_time": "2022-12-16T11:40:15.449Z"
   },
   {
    "duration": 6829,
    "start_time": "2022-12-16T11:40:15.474Z"
   },
   {
    "duration": 8,
    "start_time": "2022-12-16T11:40:22.387Z"
   },
   {
    "duration": 33956,
    "start_time": "2022-12-16T11:40:22.397Z"
   },
   {
    "duration": 5,
    "start_time": "2022-12-16T11:40:56.355Z"
   },
   {
    "duration": 724052,
    "start_time": "2022-12-16T11:40:56.361Z"
   },
   {
    "duration": 4,
    "start_time": "2022-12-16T11:53:00.415Z"
   },
   {
    "duration": 146879,
    "start_time": "2022-12-16T11:53:00.422Z"
   },
   {
    "duration": 5,
    "start_time": "2022-12-16T11:55:27.302Z"
   },
   {
    "duration": 227569,
    "start_time": "2022-12-16T11:55:27.308Z"
   },
   {
    "duration": 5,
    "start_time": "2022-12-16T11:59:14.879Z"
   },
   {
    "duration": 46,
    "start_time": "2022-12-16T11:59:14.886Z"
   },
   {
    "duration": 3,
    "start_time": "2022-12-16T11:59:14.933Z"
   },
   {
    "duration": 11,
    "start_time": "2022-12-16T11:59:14.938Z"
   },
   {
    "duration": 1611,
    "start_time": "2022-12-16T12:06:19.827Z"
   },
   {
    "duration": 854,
    "start_time": "2022-12-16T12:06:21.440Z"
   },
   {
    "duration": 32,
    "start_time": "2022-12-16T12:06:22.296Z"
   },
   {
    "duration": 16,
    "start_time": "2022-12-16T12:06:22.330Z"
   },
   {
    "duration": 9,
    "start_time": "2022-12-16T12:06:22.348Z"
   },
   {
    "duration": 37,
    "start_time": "2022-12-16T12:06:22.384Z"
   },
   {
    "duration": 13,
    "start_time": "2022-12-16T12:06:22.423Z"
   },
   {
    "duration": 6,
    "start_time": "2022-12-16T12:06:22.437Z"
   },
   {
    "duration": 41,
    "start_time": "2022-12-16T12:06:22.445Z"
   },
   {
    "duration": 63,
    "start_time": "2022-12-16T12:06:22.488Z"
   },
   {
    "duration": 25,
    "start_time": "2022-12-16T12:06:22.552Z"
   },
   {
    "duration": 42,
    "start_time": "2022-12-16T12:06:22.579Z"
   },
   {
    "duration": 21,
    "start_time": "2022-12-16T12:06:22.624Z"
   },
   {
    "duration": 56,
    "start_time": "2022-12-16T12:06:22.648Z"
   },
   {
    "duration": 10,
    "start_time": "2022-12-16T12:06:22.706Z"
   },
   {
    "duration": 16,
    "start_time": "2022-12-16T12:06:22.717Z"
   },
   {
    "duration": 18,
    "start_time": "2022-12-16T12:06:22.735Z"
   },
   {
    "duration": 12,
    "start_time": "2022-12-16T12:06:22.754Z"
   },
   {
    "duration": 41,
    "start_time": "2022-12-16T12:06:22.768Z"
   },
   {
    "duration": 11,
    "start_time": "2022-12-16T12:06:22.811Z"
   },
   {
    "duration": 30,
    "start_time": "2022-12-16T12:06:22.824Z"
   },
   {
    "duration": 4,
    "start_time": "2022-12-16T12:06:22.856Z"
   },
   {
    "duration": 14349,
    "start_time": "2022-12-16T12:06:22.861Z"
   },
   {
    "duration": 73,
    "start_time": "2022-12-16T12:06:37.212Z"
   },
   {
    "duration": 10,
    "start_time": "2022-12-16T12:06:37.286Z"
   },
   {
    "duration": 30,
    "start_time": "2022-12-16T12:06:37.298Z"
   },
   {
    "duration": 19,
    "start_time": "2022-12-16T12:06:37.330Z"
   },
   {
    "duration": 41,
    "start_time": "2022-12-16T12:06:37.351Z"
   },
   {
    "duration": 31,
    "start_time": "2022-12-16T12:06:37.394Z"
   },
   {
    "duration": 54,
    "start_time": "2022-12-16T12:06:37.426Z"
   },
   {
    "duration": 67,
    "start_time": "2022-12-16T12:06:37.482Z"
   },
   {
    "duration": 42,
    "start_time": "2022-12-16T12:06:37.551Z"
   },
   {
    "duration": 39,
    "start_time": "2022-12-16T12:06:37.596Z"
   },
   {
    "duration": 21,
    "start_time": "2022-12-16T12:06:37.638Z"
   },
   {
    "duration": 19,
    "start_time": "2022-12-16T12:06:37.661Z"
   },
   {
    "duration": 36,
    "start_time": "2022-12-16T12:06:37.687Z"
   },
   {
    "duration": 309,
    "start_time": "2022-12-16T12:06:37.725Z"
   },
   {
    "duration": 10,
    "start_time": "2022-12-16T12:06:38.036Z"
   },
   {
    "duration": 306,
    "start_time": "2022-12-16T12:06:38.048Z"
   },
   {
    "duration": 11,
    "start_time": "2022-12-16T12:06:38.356Z"
   },
   {
    "duration": 9,
    "start_time": "2022-12-16T12:06:38.379Z"
   },
   {
    "duration": 25,
    "start_time": "2022-12-16T12:06:38.390Z"
   },
   {
    "duration": 11,
    "start_time": "2022-12-16T12:06:38.416Z"
   },
   {
    "duration": 10,
    "start_time": "2022-12-16T12:06:38.429Z"
   },
   {
    "duration": 1568,
    "start_time": "2022-12-16T12:06:38.440Z"
   },
   {
    "duration": 189,
    "start_time": "2022-12-16T12:06:40.010Z"
   },
   {
    "duration": 189,
    "start_time": "2022-12-16T12:06:40.201Z"
   },
   {
    "duration": 5,
    "start_time": "2022-12-16T12:06:40.393Z"
   },
   {
    "duration": 21,
    "start_time": "2022-12-16T12:06:40.400Z"
   },
   {
    "duration": 11,
    "start_time": "2022-12-16T12:06:40.422Z"
   },
   {
    "duration": 8,
    "start_time": "2022-12-16T12:06:40.435Z"
   },
   {
    "duration": 8,
    "start_time": "2022-12-16T12:06:40.445Z"
   },
   {
    "duration": 390,
    "start_time": "2022-12-16T12:06:40.454Z"
   },
   {
    "duration": 5,
    "start_time": "2022-12-16T12:06:40.845Z"
   },
   {
    "duration": 13,
    "start_time": "2022-12-16T12:06:40.852Z"
   },
   {
    "duration": 22,
    "start_time": "2022-12-16T12:06:40.867Z"
   },
   {
    "duration": 34,
    "start_time": "2022-12-16T12:06:40.891Z"
   },
   {
    "duration": 11,
    "start_time": "2022-12-16T12:06:40.927Z"
   },
   {
    "duration": 18,
    "start_time": "2022-12-16T12:06:40.939Z"
   },
   {
    "duration": 68,
    "start_time": "2022-12-16T12:06:40.959Z"
   },
   {
    "duration": 4249,
    "start_time": "2022-12-16T12:06:41.032Z"
   },
   {
    "duration": 12,
    "start_time": "2022-12-16T12:06:45.283Z"
   },
   {
    "duration": 36620,
    "start_time": "2022-12-16T12:06:45.303Z"
   },
   {
    "duration": 4,
    "start_time": "2022-12-16T12:07:21.925Z"
   },
   {
    "duration": 709435,
    "start_time": "2022-12-16T12:07:21.931Z"
   },
   {
    "duration": 4,
    "start_time": "2022-12-16T12:19:11.368Z"
   },
   {
    "duration": 145646,
    "start_time": "2022-12-16T12:19:11.379Z"
   },
   {
    "duration": 4,
    "start_time": "2022-12-16T12:21:37.026Z"
   },
   {
    "duration": 226063,
    "start_time": "2022-12-16T12:21:37.031Z"
   },
   {
    "duration": 4,
    "start_time": "2022-12-16T12:25:23.096Z"
   },
   {
    "duration": 25,
    "start_time": "2022-12-16T12:25:23.101Z"
   },
   {
    "duration": 2,
    "start_time": "2022-12-16T12:25:23.128Z"
   },
   {
    "duration": 10,
    "start_time": "2022-12-16T12:25:23.132Z"
   },
   {
    "duration": 4,
    "start_time": "2022-12-16T12:26:19.708Z"
   },
   {
    "duration": 13,
    "start_time": "2022-12-16T17:30:21.749Z"
   },
   {
    "duration": 10,
    "start_time": "2022-12-16T17:30:42.837Z"
   },
   {
    "duration": 4,
    "start_time": "2022-12-16T17:30:59.569Z"
   },
   {
    "duration": 3562,
    "start_time": "2022-12-19T14:33:49.988Z"
   },
   {
    "duration": 3268,
    "start_time": "2022-12-19T14:33:53.552Z"
   },
   {
    "duration": 24,
    "start_time": "2022-12-19T14:33:56.822Z"
   },
   {
    "duration": 17,
    "start_time": "2022-12-19T14:33:56.848Z"
   },
   {
    "duration": 7,
    "start_time": "2022-12-19T14:33:56.866Z"
   },
   {
    "duration": 39,
    "start_time": "2022-12-19T14:33:56.875Z"
   },
   {
    "duration": 11,
    "start_time": "2022-12-19T14:33:56.917Z"
   },
   {
    "duration": 5,
    "start_time": "2022-12-19T14:33:56.930Z"
   },
   {
    "duration": 21,
    "start_time": "2022-12-19T14:33:56.936Z"
   },
   {
    "duration": 44,
    "start_time": "2022-12-19T14:33:56.978Z"
   },
   {
    "duration": 11,
    "start_time": "2022-12-19T14:33:57.024Z"
   },
   {
    "duration": 3,
    "start_time": "2022-12-19T14:33:57.037Z"
   },
   {
    "duration": 7,
    "start_time": "2022-12-19T14:33:57.042Z"
   },
   {
    "duration": 9,
    "start_time": "2022-12-19T14:33:57.051Z"
   },
   {
    "duration": 4,
    "start_time": "2022-12-19T14:33:57.061Z"
   },
   {
    "duration": 4,
    "start_time": "2022-12-19T14:33:57.097Z"
   },
   {
    "duration": 29,
    "start_time": "2022-12-19T14:33:57.103Z"
   },
   {
    "duration": 7,
    "start_time": "2022-12-19T14:33:57.134Z"
   },
   {
    "duration": 8,
    "start_time": "2022-12-19T14:33:57.143Z"
   },
   {
    "duration": 7,
    "start_time": "2022-12-19T14:33:57.153Z"
   },
   {
    "duration": 13,
    "start_time": "2022-12-19T14:33:57.161Z"
   },
   {
    "duration": 29,
    "start_time": "2022-12-19T14:33:57.176Z"
   },
   {
    "duration": 15,
    "start_time": "2022-12-19T14:33:57.207Z"
   },
   {
    "duration": 11,
    "start_time": "2022-12-19T14:33:57.224Z"
   },
   {
    "duration": 18,
    "start_time": "2022-12-19T14:33:57.237Z"
   },
   {
    "duration": 8,
    "start_time": "2022-12-19T14:33:57.257Z"
   },
   {
    "duration": 19,
    "start_time": "2022-12-19T14:33:57.267Z"
   },
   {
    "duration": 22,
    "start_time": "2022-12-19T14:33:57.290Z"
   },
   {
    "duration": 214,
    "start_time": "2022-12-19T14:33:57.314Z"
   },
   {
    "duration": 4,
    "start_time": "2022-12-19T14:33:57.530Z"
   },
   {
    "duration": 152,
    "start_time": "2022-12-19T14:33:57.536Z"
   },
   {
    "duration": 3,
    "start_time": "2022-12-19T14:33:57.689Z"
   },
   {
    "duration": 596,
    "start_time": "2022-12-19T14:33:57.694Z"
   },
   {
    "duration": 845,
    "start_time": "2022-12-19T14:33:58.292Z"
   },
   {
    "duration": 815,
    "start_time": "2022-12-19T14:33:59.139Z"
   },
   {
    "duration": 977,
    "start_time": "2022-12-19T14:33:59.956Z"
   },
   {
    "duration": 822,
    "start_time": "2022-12-19T14:34:00.935Z"
   },
   {
    "duration": 107,
    "start_time": "2022-12-19T14:34:01.759Z"
   },
   {
    "duration": 600,
    "start_time": "2022-12-19T14:34:01.868Z"
   },
   {
    "duration": 984,
    "start_time": "2022-12-19T14:34:02.470Z"
   },
   {
    "duration": 805,
    "start_time": "2022-12-19T14:34:03.456Z"
   },
   {
    "duration": 789,
    "start_time": "2022-12-19T14:34:04.263Z"
   },
   {
    "duration": 973,
    "start_time": "2022-12-19T14:34:05.054Z"
   },
   {
    "duration": 105,
    "start_time": "2022-12-19T14:34:06.030Z"
   },
   {
    "duration": 5,
    "start_time": "2022-12-19T14:34:06.136Z"
   },
   {
    "duration": 9,
    "start_time": "2022-12-19T14:34:06.142Z"
   },
   {
    "duration": 8,
    "start_time": "2022-12-19T14:34:06.152Z"
   },
   {
    "duration": 10,
    "start_time": "2022-12-19T14:34:06.161Z"
   },
   {
    "duration": 1597,
    "start_time": "2022-12-19T14:34:06.173Z"
   },
   {
    "duration": 228,
    "start_time": "2022-12-19T14:34:07.772Z"
   },
   {
    "duration": 177,
    "start_time": "2022-12-19T14:34:08.002Z"
   },
   {
    "duration": 16,
    "start_time": "2022-12-19T14:34:08.181Z"
   },
   {
    "duration": 17,
    "start_time": "2022-12-19T14:34:08.199Z"
   },
   {
    "duration": 19,
    "start_time": "2022-12-19T14:34:08.218Z"
   },
   {
    "duration": 6,
    "start_time": "2022-12-19T14:34:08.239Z"
   },
   {
    "duration": 20,
    "start_time": "2022-12-19T14:34:08.247Z"
   },
   {
    "duration": 11,
    "start_time": "2022-12-19T14:34:08.269Z"
   },
   {
    "duration": 12,
    "start_time": "2022-12-19T14:34:08.281Z"
   },
   {
    "duration": 11,
    "start_time": "2022-12-19T14:34:08.294Z"
   },
   {
    "duration": 12,
    "start_time": "2022-12-19T14:34:08.307Z"
   },
   {
    "duration": 8,
    "start_time": "2022-12-19T14:34:08.320Z"
   },
   {
    "duration": 10,
    "start_time": "2022-12-19T14:34:08.329Z"
   },
   {
    "duration": 6,
    "start_time": "2022-12-19T14:34:08.340Z"
   },
   {
    "duration": 15,
    "start_time": "2022-12-19T14:34:08.347Z"
   },
   {
    "duration": 511,
    "start_time": "2022-12-19T14:34:08.364Z"
   },
   {
    "duration": 49,
    "start_time": "2022-12-19T14:34:08.876Z"
   },
   {
    "duration": 13,
    "start_time": "2022-12-19T14:34:08.927Z"
   },
   {
    "duration": 20,
    "start_time": "2022-12-19T14:34:08.942Z"
   },
   {
    "duration": 23,
    "start_time": "2022-12-19T14:34:08.963Z"
   },
   {
    "duration": 6,
    "start_time": "2022-12-19T14:34:08.988Z"
   },
   {
    "duration": 14,
    "start_time": "2022-12-19T14:34:08.995Z"
   },
   {
    "duration": 15,
    "start_time": "2022-12-19T14:34:09.010Z"
   },
   {
    "duration": 6,
    "start_time": "2022-12-19T14:38:36.057Z"
   },
   {
    "duration": 5,
    "start_time": "2022-12-19T14:38:36.483Z"
   },
   {
    "duration": 3,
    "start_time": "2022-12-19T14:38:37.196Z"
   },
   {
    "duration": 7,
    "start_time": "2022-12-19T14:38:37.600Z"
   },
   {
    "duration": 5,
    "start_time": "2022-12-19T14:38:41.303Z"
   },
   {
    "duration": 3,
    "start_time": "2022-12-19T14:38:42.512Z"
   },
   {
    "duration": 3,
    "start_time": "2022-12-19T14:38:44.296Z"
   },
   {
    "duration": 18993,
    "start_time": "2022-12-19T14:38:45.804Z"
   },
   {
    "duration": 93,
    "start_time": "2022-12-19T14:39:04.805Z"
   },
   {
    "duration": 19496,
    "start_time": "2022-12-19T14:39:04.900Z"
   },
   {
    "duration": 4,
    "start_time": "2022-12-19T14:39:24.398Z"
   },
   {
    "duration": 4,
    "start_time": "2022-12-19T14:40:07.872Z"
   },
   {
    "duration": 41038,
    "start_time": "2022-12-19T14:40:14.231Z"
   },
   {
    "duration": 0,
    "start_time": "2022-12-19T14:40:55.271Z"
   },
   {
    "duration": 9,
    "start_time": "2022-12-19T14:41:12.916Z"
   },
   {
    "duration": 3,
    "start_time": "2022-12-19T14:41:23.600Z"
   },
   {
    "duration": 9,
    "start_time": "2022-12-19T14:41:25.265Z"
   },
   {
    "duration": 8,
    "start_time": "2022-12-19T14:41:34.487Z"
   },
   {
    "duration": 7,
    "start_time": "2022-12-19T14:41:34.980Z"
   }
  ],
  "kernelspec": {
   "display_name": "Python 3 (ipykernel)",
   "language": "python",
   "name": "python3"
  },
  "language_info": {
   "codemirror_mode": {
    "name": "ipython",
    "version": 3
   },
   "file_extension": ".py",
   "mimetype": "text/x-python",
   "name": "python",
   "nbconvert_exporter": "python",
   "pygments_lexer": "ipython3",
   "version": "3.9.12"
  },
  "toc": {
   "base_numbering": 1,
   "nav_menu": {},
   "number_sections": true,
   "sideBar": true,
   "skip_h1_title": true,
   "title_cell": "Содержание",
   "title_sidebar": "Contents",
   "toc_cell": true,
   "toc_position": {
    "height": "calc(100% - 180px)",
    "left": "10px",
    "top": "150px",
    "width": "202.594px"
   },
   "toc_section_display": true,
   "toc_window_display": true
  }
 },
 "nbformat": 4,
 "nbformat_minor": 2
}
