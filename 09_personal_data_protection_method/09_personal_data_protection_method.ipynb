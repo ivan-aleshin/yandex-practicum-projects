{
 "cells": [
  {
   "cell_type": "markdown",
   "metadata": {},
   "source": [
    "# Personal Data Protection Method Development"
   ]
  },
  {
   "cell_type": "markdown",
   "metadata": {},
   "source": [
    "The purpose of this work is to develop a method (algorithm) for converting clients personal data for the insurance company Slash-and-Burn in such a way that it would be difficult to restore personal information.  \n",
    "At the same time, it is necessary to protect personal data in such a way to not affect the quality of ML models after data conversion."
   ]
  },
  {
   "cell_type": "markdown",
   "metadata": {},
   "source": [
    "## Exploring the Data"
   ]
  },
  {
   "cell_type": "code",
   "execution_count": 1,
   "metadata": {},
   "outputs": [],
   "source": [
    "import random\n",
    "import pandas as pd\n",
    "import numpy as np\n",
    "import seaborn as sns\n",
    "from sklearn.linear_model import LinearRegression\n",
    "from sklearn.preprocessing import StandardScaler\n",
    "from sklearn.model_selection import cross_val_score\n",
    "from sklearn.metrics import r2_score\n",
    "from sklearn.pipeline import make_pipeline\n",
    "from matplotlib import pyplot as plt\n",
    "\n",
    "sns.set(rc={'figure.figsize':(14, 8)}, palette='Set2', font_scale=1.25)"
   ]
  },
  {
   "cell_type": "markdown",
   "metadata": {},
   "source": [
    "### Data description"
   ]
  },
  {
   "cell_type": "markdown",
   "metadata": {},
   "source": [
    "**sex** - client's gender  \n",
    "**age** - client's age  \n",
    "**salary** - salary  \n",
    "**family_members** - number of family members  \n",
    "**insurance_claim** - number of insured events  "
   ]
  },
  {
   "cell_type": "markdown",
   "metadata": {},
   "source": [
    "### Data Loading and Exploring"
   ]
  },
  {
   "cell_type": "code",
   "execution_count": 2,
   "metadata": {},
   "outputs": [],
   "source": [
    "data = pd.read_csv('datasets/insurance.csv')"
   ]
  },
  {
   "cell_type": "code",
   "execution_count": 3,
   "metadata": {
    "scrolled": true
   },
   "outputs": [
    {
     "data": {
      "text/html": [
       "<div>\n",
       "<style scoped>\n",
       "    .dataframe tbody tr th:only-of-type {\n",
       "        vertical-align: middle;\n",
       "    }\n",
       "\n",
       "    .dataframe tbody tr th {\n",
       "        vertical-align: top;\n",
       "    }\n",
       "\n",
       "    .dataframe thead th {\n",
       "        text-align: right;\n",
       "    }\n",
       "</style>\n",
       "<table border=\"1\" class=\"dataframe\">\n",
       "  <thead>\n",
       "    <tr style=\"text-align: right;\">\n",
       "      <th></th>\n",
       "      <th>sex</th>\n",
       "      <th>age</th>\n",
       "      <th>salary</th>\n",
       "      <th>family_members</th>\n",
       "      <th>insurance_claim</th>\n",
       "    </tr>\n",
       "  </thead>\n",
       "  <tbody>\n",
       "    <tr>\n",
       "      <th>0</th>\n",
       "      <td>1</td>\n",
       "      <td>41.0</td>\n",
       "      <td>49600.0</td>\n",
       "      <td>1</td>\n",
       "      <td>0</td>\n",
       "    </tr>\n",
       "    <tr>\n",
       "      <th>1</th>\n",
       "      <td>0</td>\n",
       "      <td>46.0</td>\n",
       "      <td>38000.0</td>\n",
       "      <td>1</td>\n",
       "      <td>1</td>\n",
       "    </tr>\n",
       "    <tr>\n",
       "      <th>2</th>\n",
       "      <td>0</td>\n",
       "      <td>29.0</td>\n",
       "      <td>21000.0</td>\n",
       "      <td>0</td>\n",
       "      <td>0</td>\n",
       "    </tr>\n",
       "    <tr>\n",
       "      <th>3</th>\n",
       "      <td>0</td>\n",
       "      <td>21.0</td>\n",
       "      <td>41700.0</td>\n",
       "      <td>2</td>\n",
       "      <td>0</td>\n",
       "    </tr>\n",
       "    <tr>\n",
       "      <th>4</th>\n",
       "      <td>1</td>\n",
       "      <td>28.0</td>\n",
       "      <td>26100.0</td>\n",
       "      <td>0</td>\n",
       "      <td>0</td>\n",
       "    </tr>\n",
       "  </tbody>\n",
       "</table>\n",
       "</div>"
      ],
      "text/plain": [
       "   sex   age   salary  family_members  insurance_claim\n",
       "0    1  41.0  49600.0               1                0\n",
       "1    0  46.0  38000.0               1                1\n",
       "2    0  29.0  21000.0               0                0\n",
       "3    0  21.0  41700.0               2                0\n",
       "4    1  28.0  26100.0               0                0"
      ]
     },
     "execution_count": 3,
     "metadata": {},
     "output_type": "execute_result"
    }
   ],
   "source": [
    "data.head()"
   ]
  },
  {
   "cell_type": "code",
   "execution_count": 4,
   "metadata": {},
   "outputs": [
    {
     "name": "stdout",
     "output_type": "stream",
     "text": [
      "<class 'pandas.core.frame.DataFrame'>\n",
      "RangeIndex: 5000 entries, 0 to 4999\n",
      "Data columns (total 5 columns):\n",
      " #   Column           Non-Null Count  Dtype  \n",
      "---  ------           --------------  -----  \n",
      " 0   sex              5000 non-null   int64  \n",
      " 1   age              5000 non-null   float64\n",
      " 2   salary           5000 non-null   float64\n",
      " 3   family_members   5000 non-null   int64  \n",
      " 4   insurance_claim  5000 non-null   int64  \n",
      "dtypes: float64(2), int64(3)\n",
      "memory usage: 195.4 KB\n"
     ]
    }
   ],
   "source": [
    "data.info()"
   ]
  },
  {
   "cell_type": "code",
   "execution_count": 5,
   "metadata": {},
   "outputs": [
    {
     "data": {
      "text/html": [
       "<div>\n",
       "<style scoped>\n",
       "    .dataframe tbody tr th:only-of-type {\n",
       "        vertical-align: middle;\n",
       "    }\n",
       "\n",
       "    .dataframe tbody tr th {\n",
       "        vertical-align: top;\n",
       "    }\n",
       "\n",
       "    .dataframe thead th {\n",
       "        text-align: right;\n",
       "    }\n",
       "</style>\n",
       "<table border=\"1\" class=\"dataframe\">\n",
       "  <thead>\n",
       "    <tr style=\"text-align: right;\">\n",
       "      <th></th>\n",
       "      <th>sex</th>\n",
       "      <th>age</th>\n",
       "      <th>salary</th>\n",
       "      <th>family_members</th>\n",
       "      <th>insurance_claim</th>\n",
       "    </tr>\n",
       "  </thead>\n",
       "  <tbody>\n",
       "    <tr>\n",
       "      <th>count</th>\n",
       "      <td>5000.000000</td>\n",
       "      <td>5000.000000</td>\n",
       "      <td>5000.000000</td>\n",
       "      <td>5000.000000</td>\n",
       "      <td>5000.000000</td>\n",
       "    </tr>\n",
       "    <tr>\n",
       "      <th>mean</th>\n",
       "      <td>0.499000</td>\n",
       "      <td>30.952800</td>\n",
       "      <td>39916.360000</td>\n",
       "      <td>1.194200</td>\n",
       "      <td>0.148000</td>\n",
       "    </tr>\n",
       "    <tr>\n",
       "      <th>std</th>\n",
       "      <td>0.500049</td>\n",
       "      <td>8.440807</td>\n",
       "      <td>9900.083569</td>\n",
       "      <td>1.091387</td>\n",
       "      <td>0.463183</td>\n",
       "    </tr>\n",
       "    <tr>\n",
       "      <th>min</th>\n",
       "      <td>0.000000</td>\n",
       "      <td>18.000000</td>\n",
       "      <td>5300.000000</td>\n",
       "      <td>0.000000</td>\n",
       "      <td>0.000000</td>\n",
       "    </tr>\n",
       "    <tr>\n",
       "      <th>25%</th>\n",
       "      <td>0.000000</td>\n",
       "      <td>24.000000</td>\n",
       "      <td>33300.000000</td>\n",
       "      <td>0.000000</td>\n",
       "      <td>0.000000</td>\n",
       "    </tr>\n",
       "    <tr>\n",
       "      <th>50%</th>\n",
       "      <td>0.000000</td>\n",
       "      <td>30.000000</td>\n",
       "      <td>40200.000000</td>\n",
       "      <td>1.000000</td>\n",
       "      <td>0.000000</td>\n",
       "    </tr>\n",
       "    <tr>\n",
       "      <th>75%</th>\n",
       "      <td>1.000000</td>\n",
       "      <td>37.000000</td>\n",
       "      <td>46600.000000</td>\n",
       "      <td>2.000000</td>\n",
       "      <td>0.000000</td>\n",
       "    </tr>\n",
       "    <tr>\n",
       "      <th>max</th>\n",
       "      <td>1.000000</td>\n",
       "      <td>65.000000</td>\n",
       "      <td>79000.000000</td>\n",
       "      <td>6.000000</td>\n",
       "      <td>5.000000</td>\n",
       "    </tr>\n",
       "  </tbody>\n",
       "</table>\n",
       "</div>"
      ],
      "text/plain": [
       "               sex          age        salary  family_members  insurance_claim\n",
       "count  5000.000000  5000.000000   5000.000000     5000.000000      5000.000000\n",
       "mean      0.499000    30.952800  39916.360000        1.194200         0.148000\n",
       "std       0.500049     8.440807   9900.083569        1.091387         0.463183\n",
       "min       0.000000    18.000000   5300.000000        0.000000         0.000000\n",
       "25%       0.000000    24.000000  33300.000000        0.000000         0.000000\n",
       "50%       0.000000    30.000000  40200.000000        1.000000         0.000000\n",
       "75%       1.000000    37.000000  46600.000000        2.000000         0.000000\n",
       "max       1.000000    65.000000  79000.000000        6.000000         5.000000"
      ]
     },
     "execution_count": 5,
     "metadata": {},
     "output_type": "execute_result"
    }
   ],
   "source": [
    "data.describe()"
   ]
  },
  {
   "cell_type": "code",
   "execution_count": 6,
   "metadata": {},
   "outputs": [
    {
     "data": {
      "image/png": "[encoded data removed]",
      "text/plain": [
       "<Figure size 720x1800 with 5 Axes>"
      ]
     },
     "metadata": {},
     "output_type": "display_data"
    }
   ],
   "source": [
    "fig, axes = plt.subplots(5, 1)\n",
    "\n",
    "for ax, column in zip(axes, data.columns):\n",
    "    ax.hist(data[column], bins=15)\n",
    "    ax.title.set_text(column.capitalize().replace('_', ' '))\n",
    "fig.set_figheight(25)\n",
    "fig.set_figwidth(10)\n",
    "\n",
    "plt.show();"
   ]
  },
  {
   "cell_type": "code",
   "execution_count": 7,
   "metadata": {
    "scrolled": false
   },
   "outputs": [
    {
     "data": {
      "image/png": "[encoded data removed]",
      "text/plain": [
       "<Figure size 720x576 with 2 Axes>"
      ]
     },
     "metadata": {},
     "output_type": "display_data"
    }
   ],
   "source": [
    "plt.subplots(figsize=(10, 8))\n",
    "sns.heatmap(data.corr(), annot=True, fmt='.2f', cmap=\"crest\", linewidth=.5);"
   ]
  },
  {
   "cell_type": "markdown",
   "metadata": {},
   "source": [
    "There is a correlation between age and insurance payments (target attribute). There is no multicollinarity between characters."
   ]
  },
  {
   "cell_type": "markdown",
   "metadata": {},
   "source": [
    "**Conclusion**\n",
    "The table has 5000 rows and 5 columns. There is no missing data. The data types are set correctly. Significant correlations between the signs are not observed. Data preprocessing is not required."
   ]
  },
  {
   "cell_type": "markdown",
   "metadata": {},
   "source": [
    "## Matrix multiplication"
   ]
  },
  {
   "cell_type": "markdown",
   "metadata": {},
   "source": [
    "In our project we are using a linear regression model for predictions. We need to find out whether the multiplication of a feature matrix and an invertible matrix of the appropriate size will affect the quality of the model's predictions."
   ]
  },
  {
   "cell_type": "markdown",
   "metadata": {},
   "source": [
    "**Answer:** Multiplying the feature matrix by the reversible matrix will not affect the quality of the model prediction.\n",
    "\n",
    "**Proof:**\n",
    "\n",
    "\n",
    "Model Prediction:\n",
    "\n",
    "$a = X\\cdot w$ \n",
    "\n",
    "The minimum MSE value is obtained when the weights are equal:\n",
    "\n",
    "$w = (X^T \\cdot X)^{-1}\\cdot X^T\\cdot Y$\n",
    "    \n",
    "Model prediction with feature multiplication by an invertible matrix:\n",
    "\n",
    "$a' = X\\cdot P\\cdot w'$ \n",
    " \n",
    "\n",
    "Next, we express $a'$ in terms of $w'$:\n",
    "    \n",
    "$\n",
    "w' = ((X\\cdot P)^T \\cdot (X\\cdot P))^{-1}\\cdot (X\\cdot P)^T\\cdot Y \n",
    "$     \n",
    "\n",
    "We obtain:\n",
    "\n",
    "$a' = X\\cdot P\\cdot ((X\\cdot P)^T \\cdot (X\\cdot P))^{-1}\\cdot (X\\cdot P)^T\\cdot Y$\n",
    "\n",
    "Using the following property of inverse matrices:\n",
    "\n",
    "$(A\\cdot B)^{-1} = B^{-1}\\cdot A^{-1}$,\n",
    "\n",
    "Then make a transformation:\n",
    "\n",
    "$a' = X\\cdot P\\cdot P^{-1}\\cdot((X\\cdot P)^{T}\\cdot X)^{-1} (X\\cdot P)^T\\cdot Y$\n",
    "\n",
    "Since the transposed product of matrices is equal to the product of the transposed matrices taken in reverse order, and the product of a matrix and its inverse matrix results in the identity matrix, then:\n",
    "\n",
    "$a' = X\\cdot E\\cdot((X\\cdot P)^{T}\\cdot X)^{-1} P^T\\cdot X^T\\cdot Y$ \n",
    "\n",
    "We can reduce the identity matrix, because multiplying a matrix by the identity matrix does not change it. At the same time, we will perform one more transformation based on the property of transonic matrix multiplication:\n",
    "\n",
    "$a' = X\\cdot (P^T\\cdot X^T\\cdot X)^{-1} P^T\\cdot X^T\\cdot Y$\n",
    "\n",
    "Let's apply again the property of inverse matrix multiplication:\n",
    "\n",
    "$a' = X\\cdot (X^T\\cdot X)^{-1}\\cdot (P^T)^{-1}\\cdot P^T\\cdot X^T\\cdot Y$\n",
    "\n",
    "Multiplying $(P^T)^{-1}\\cdot P^T$ we get the identity matrix:\n",
    "\n",
    "$a' = X\\cdot (X^T\\cdot X)^{-1}\\cdot E\\cdot X^T\\cdot Y$\n",
    "\n",
    "$a' = X\\cdot (X^T\\cdot X)^{-1}\\cdot X^T\\cdot Y$\n",
    "\n",
    "Since $w = (X^T\\cdot X)^{-1}\\cdot X^T\\cdot Y$, then:\n",
    "\n",
    "$a' = X\\cdot w$, that is:\n",
    "\n",
    "$a' = a$, \n",
    "\n",
    "This means that the predictions are equal in both cases, which was required to be proved.\n",
    "\n",
    "Thus:\n",
    "\n",
    "$X\\cdot P\\cdot w' = X\\cdot w$,\n",
    "\n",
    "$w = P\\cdot w'$"
   ]
  },
  {
   "cell_type": "markdown",
   "metadata": {},
   "source": [
    "## Conversion algorithm"
   ]
  },
  {
   "cell_type": "markdown",
   "metadata": {},
   "source": [
    "**Algorithm**  \n",
    "\n",
    "The proposed data transformation algorithm includes three transformation stages:\n",
    "1. Multiplication of the training dataset by an invertible matrix.\n",
    "2. Standardization of features.\n",
    "3. Shuffling array columns in a predetermined order."
   ]
  },
  {
   "cell_type": "markdown",
   "metadata": {},
   "source": [
    "**Explanation**\n",
    "\n",
    "1. Since the multiplication of the training dataset by a size-compatible square matrix does not affect the quality of the predictions of the linear regression model, we can take multiplication by an invertible matrix as the basis for the data transformation algorithm.\n",
    "2. After the multiplication operation, we can also standardize the features. Thus, all signs will have approximately the same range of values, and it will be even more problematic to restore personal data from such a table.\n",
    "3. After that, we can also shuffle the feature columns of the dataset in a certain order, because when training the model, the initial order of the features is not important, the main thing is that this order is the same for the training sample and the data set for prediction."
   ]
  },
  {
   "cell_type": "markdown",
   "metadata": {},
   "source": [
    "**Algorithm implementation**\n",
    "\n",
    "We implement the algorithm through the PersonalDataProcessing class."
   ]
  },
  {
   "cell_type": "code",
   "execution_count": 8,
   "metadata": {},
   "outputs": [],
   "source": [
    "class PersonalDataProcessing:\n",
    "    \n",
    "    def __init__(self):\n",
    "        \"\"\"\n",
    "        Object initialization.\n",
    "        We declare an object of the StandardScaler class \n",
    "        to carry out the standardization of features.\n",
    "        \"\"\"\n",
    "        self.scaler = StandardScaler()  \n",
    "    \n",
    "    \n",
    "    def fit(self, features):\n",
    "        \"\"\"\n",
    "        The fit method function. Takes the features of the training sample as input\n",
    "        \"\"\"\n",
    "        # Remember the width of the matrix  \n",
    "        matrix_size = features.shape[1]  \n",
    "        # Create a list of column indices of the features array, \n",
    "        # and then shuffle it in random order\n",
    "        self.permutation = list(range(matrix_size))  \n",
    "        random.shuffle(self.permutation)\n",
    "        \n",
    "        # Creating a matrix and checking it for negotiability \n",
    "        self.rev_matrix = np.random.normal(size=(matrix_size, matrix_size))\n",
    "        while np.linalg.det(self.rev_matrix) == 0:  \n",
    "            self.rev_matrix = np.random.normal(size=(matrix_size, matrix_size))  \n",
    "\n",
    "        self.scaler.fit(features.values)  # fitting the scaler\n",
    "        \n",
    "        return None\n",
    "    \n",
    "    \n",
    "    def transform(self, features, *args):\n",
    "        \"\"\"\n",
    "        The transform method function. Takes an array of features as input, \n",
    "        returns an array of converted values\n",
    "        Chain of transformations: multiplication of an array of features \n",
    "        by an invertible matrix, standardization,\n",
    "        shuffling array columns in a predetermined order\n",
    "        \"\"\"\n",
    "        features = features.dot(self.rev_matrix)\n",
    "        features = self.scaler.transform(features.values)\n",
    "        features = features[:, self.permutation]\n",
    "        \n",
    "        return features\n",
    "    \n",
    "    \n",
    "    def fit_transform(self, features, *args):  \n",
    "        \"\"\"\n",
    "        fit_transform method function. Accepts features as input, \n",
    "        returns converted features.\n",
    "        Combines fit and trasform methods.\n",
    "        Implemented so that the class can be used in Pipeline.\n",
    "        \"\"\"\n",
    "        self.fit(features)\n",
    "        return self.transform(features, *args)\n",
    "        "
   ]
  },
  {
   "cell_type": "markdown",
   "metadata": {},
   "source": [
    "## Algorithm test"
   ]
  },
  {
   "cell_type": "code",
   "execution_count": 9,
   "metadata": {},
   "outputs": [],
   "source": [
    "# Extracting features and target from Data\n",
    "X = data.drop('insurance_claim', axis=1)\n",
    "y = data['insurance_claim']"
   ]
  },
  {
   "cell_type": "markdown",
   "metadata": {},
   "source": [
    "Since the algorithm uses standardization, and when checking we will use cross-validation, it should be carried out using a pipeline.\n",
    "\n",
    "Let's get the results of the R2 metric when training the model on the initial data."
   ]
  },
  {
   "cell_type": "code",
   "execution_count": 10,
   "metadata": {},
   "outputs": [],
   "source": [
    "model = LinearRegression()\n",
    "scores_0 = cross_val_score(model, X, y, scoring='r2')"
   ]
  },
  {
   "cell_type": "code",
   "execution_count": 11,
   "metadata": {
    "scrolled": true
   },
   "outputs": [
    {
     "data": {
      "text/plain": [
       "0.42311376915907745"
      ]
     },
     "execution_count": 11,
     "metadata": {},
     "output_type": "execute_result"
    }
   ],
   "source": [
    "scores_0.mean()"
   ]
  },
  {
   "cell_type": "markdown",
   "metadata": {},
   "source": [
    "Now we will get the R2 metric of the model using the data transformation algorithm."
   ]
  },
  {
   "cell_type": "code",
   "execution_count": 12,
   "metadata": {},
   "outputs": [],
   "source": [
    "model = LinearRegression()\n",
    "pdp = PersonalDataProcessing()\n",
    "pipe = make_pipeline(pdp, model)\n",
    "scores_1 = cross_val_score(pipe, X, y, scoring='r2')"
   ]
  },
  {
   "cell_type": "code",
   "execution_count": 13,
   "metadata": {
    "scrolled": false
   },
   "outputs": [
    {
     "data": {
      "text/plain": [
       "0.42311376915449106"
      ]
     },
     "execution_count": 13,
     "metadata": {},
     "output_type": "execute_result"
    }
   ],
   "source": [
    "scores_1.mean()"
   ]
  },
  {
   "cell_type": "code",
   "execution_count": 14,
   "metadata": {},
   "outputs": [
    {
     "data": {
      "text/plain": [
       "'R2 metric on initial data: 0.42311376915907745'"
      ]
     },
     "execution_count": 14,
     "metadata": {},
     "output_type": "execute_result"
    }
   ],
   "source": [
    "f'R2 metric on initial data: {scores_0.mean()}'"
   ]
  },
  {
   "cell_type": "code",
   "execution_count": 15,
   "metadata": {},
   "outputs": [
    {
     "data": {
      "text/plain": [
       "'R2 metric on processed data: 0.42311376915449106'"
      ]
     },
     "execution_count": 15,
     "metadata": {},
     "output_type": "execute_result"
    }
   ],
   "source": [
    "f'R2 metric on processed data: {scores_1.mean()}'"
   ]
  },
  {
   "cell_type": "markdown",
   "metadata": {},
   "source": [
    "Let's see what the converted data looks like."
   ]
  },
  {
   "cell_type": "code",
   "execution_count": 16,
   "metadata": {},
   "outputs": [],
   "source": [
    "pdp = PersonalDataProcessing()\n",
    "X_processed = pdp.fit_transform(X)"
   ]
  },
  {
   "cell_type": "code",
   "execution_count": 17,
   "metadata": {},
   "outputs": [
    {
     "data": {
      "text/html": [
       "<div>\n",
       "<style scoped>\n",
       "    .dataframe tbody tr th:only-of-type {\n",
       "        vertical-align: middle;\n",
       "    }\n",
       "\n",
       "    .dataframe tbody tr th {\n",
       "        vertical-align: top;\n",
       "    }\n",
       "\n",
       "    .dataframe thead th {\n",
       "        text-align: right;\n",
       "    }\n",
       "</style>\n",
       "<table border=\"1\" class=\"dataframe\">\n",
       "  <thead>\n",
       "    <tr style=\"text-align: right;\">\n",
       "      <th></th>\n",
       "      <th>0</th>\n",
       "      <th>1</th>\n",
       "      <th>2</th>\n",
       "      <th>3</th>\n",
       "    </tr>\n",
       "  </thead>\n",
       "  <tbody>\n",
       "    <tr>\n",
       "      <th>0</th>\n",
       "      <td>134948.555006</td>\n",
       "      <td>2991.929660</td>\n",
       "      <td>21728.663143</td>\n",
       "      <td>6.021468</td>\n",
       "    </tr>\n",
       "    <tr>\n",
       "      <th>1</th>\n",
       "      <td>103386.539304</td>\n",
       "      <td>2289.416552</td>\n",
       "      <td>16660.513218</td>\n",
       "      <td>3.669955</td>\n",
       "    </tr>\n",
       "    <tr>\n",
       "      <th>2</th>\n",
       "      <td>57134.550187</td>\n",
       "      <td>1263.154183</td>\n",
       "      <td>9208.492151</td>\n",
       "      <td>0.224108</td>\n",
       "    </tr>\n",
       "    <tr>\n",
       "      <th>3</th>\n",
       "      <td>113452.447246</td>\n",
       "      <td>2516.512385</td>\n",
       "      <td>18259.251955</td>\n",
       "      <td>4.420260</td>\n",
       "    </tr>\n",
       "    <tr>\n",
       "      <th>4</th>\n",
       "      <td>71011.881829</td>\n",
       "      <td>1571.824207</td>\n",
       "      <td>11437.335870</td>\n",
       "      <td>1.258045</td>\n",
       "    </tr>\n",
       "    <tr>\n",
       "      <th>...</th>\n",
       "      <td>...</td>\n",
       "      <td>...</td>\n",
       "      <td>...</td>\n",
       "      <td>...</td>\n",
       "    </tr>\n",
       "    <tr>\n",
       "      <th>4995</th>\n",
       "      <td>97128.156248</td>\n",
       "      <td>2152.523521</td>\n",
       "      <td>15641.229266</td>\n",
       "      <td>3.204007</td>\n",
       "    </tr>\n",
       "    <tr>\n",
       "      <th>4996</th>\n",
       "      <td>142564.885224</td>\n",
       "      <td>3162.349279</td>\n",
       "      <td>22947.940268</td>\n",
       "      <td>6.588920</td>\n",
       "    </tr>\n",
       "    <tr>\n",
       "      <th>4997</th>\n",
       "      <td>92230.768950</td>\n",
       "      <td>2044.674680</td>\n",
       "      <td>14847.042623</td>\n",
       "      <td>2.839216</td>\n",
       "    </tr>\n",
       "    <tr>\n",
       "      <th>4998</th>\n",
       "      <td>88967.018584</td>\n",
       "      <td>1971.612790</td>\n",
       "      <td>14325.452345</td>\n",
       "      <td>2.596233</td>\n",
       "    </tr>\n",
       "    <tr>\n",
       "      <th>4999</th>\n",
       "      <td>110461.885839</td>\n",
       "      <td>2449.082376</td>\n",
       "      <td>17781.200777</td>\n",
       "      <td>4.197287</td>\n",
       "    </tr>\n",
       "  </tbody>\n",
       "</table>\n",
       "<p>5000 rows × 4 columns</p>\n",
       "</div>"
      ],
      "text/plain": [
       "                  0            1             2         3\n",
       "0     134948.555006  2991.929660  21728.663143  6.021468\n",
       "1     103386.539304  2289.416552  16660.513218  3.669955\n",
       "2      57134.550187  1263.154183   9208.492151  0.224108\n",
       "3     113452.447246  2516.512385  18259.251955  4.420260\n",
       "4      71011.881829  1571.824207  11437.335870  1.258045\n",
       "...             ...          ...           ...       ...\n",
       "4995   97128.156248  2152.523521  15641.229266  3.204007\n",
       "4996  142564.885224  3162.349279  22947.940268  6.588920\n",
       "4997   92230.768950  2044.674680  14847.042623  2.839216\n",
       "4998   88967.018584  1971.612790  14325.452345  2.596233\n",
       "4999  110461.885839  2449.082376  17781.200777  4.197287\n",
       "\n",
       "[5000 rows x 4 columns]"
      ]
     },
     "execution_count": 17,
     "metadata": {},
     "output_type": "execute_result"
    }
   ],
   "source": [
    "pd.DataFrame(X_processed)"
   ]
  },
  {
   "cell_type": "markdown",
   "metadata": {},
   "source": [
    "**Conclusion**\n",
    "\n",
    "Based on the results of the check, we can conclude that the implemented algorithm performs its function of changing personal data, making it difficult to restore them. At the same time, the algorithm does not reduce the quality of machine learning on the transformed data. The quality of training on the original and transformed data differs in the level of error in working with float numbers in Python."
   ]
  },
  {
   "cell_type": "markdown",
   "metadata": {},
   "source": [
    "## Summary"
   ]
  },
  {
   "cell_type": "markdown",
   "metadata": {},
   "source": [
    "The following steps were taken during the project:\n",
    "\n",
    "- Data analysis. No problems were found in the data.\n",
    "- Mathematically proved the thesis that the multiplication of the feature matrix by the reversible matrix does not affect the quality of the model prediction. The relationship between the weights of the model trained on the original and transformed features is established.\n",
    "- A three-stage algorithm for the transformation of personal data has been proposed and implemented:\n",
    "    1. Multiplication of an array of features by an invertible matrix\n",
    "    2. Standardization of feature values\n",
    "    3. Shuffling feature array columns in a predetermined order\n",
    "- The algorithm has been tested. As a result, according to the R2 metric, the difference between the model trained on the original and transformed features is within the computational error."
   ]
  },
  {
   "cell_type": "code",
   "execution_count": null,
   "metadata": {},
   "outputs": [],
   "source": []
  }
 ],
 "metadata": {
  "ExecuteTimeLog": [
   {
    "duration": 418,
    "start_time": "2022-12-27T03:35:51.388Z"
   },
   {
    "duration": 67,
    "start_time": "2022-12-27T03:36:07.110Z"
   },
   {
    "duration": 81,
    "start_time": "2022-12-27T03:36:18.997Z"
   },
   {
    "duration": 19,
    "start_time": "2022-12-27T03:36:22.682Z"
   },
   {
    "duration": 13,
    "start_time": "2022-12-27T03:36:48.003Z"
   },
   {
    "duration": 716,
    "start_time": "2022-12-27T03:40:20.393Z"
   },
   {
    "duration": 34,
    "start_time": "2022-12-27T03:41:17.472Z"
   },
   {
    "duration": 7,
    "start_time": "2022-12-27T03:41:58.413Z"
   },
   {
    "duration": 3,
    "start_time": "2022-12-27T03:43:10.763Z"
   },
   {
    "duration": 4,
    "start_time": "2022-12-27T03:43:53.432Z"
   },
   {
    "duration": 4,
    "start_time": "2022-12-27T03:43:59.251Z"
   },
   {
    "duration": 5,
    "start_time": "2022-12-27T03:44:07.801Z"
   },
   {
    "duration": 5,
    "start_time": "2022-12-27T03:45:17.653Z"
   },
   {
    "duration": 3,
    "start_time": "2022-12-27T03:45:36.350Z"
   },
   {
    "duration": 4,
    "start_time": "2022-12-27T03:46:16.380Z"
   },
   {
    "duration": 44,
    "start_time": "2022-12-27T03:47:53.183Z"
   },
   {
    "duration": 12,
    "start_time": "2022-12-27T03:48:24.788Z"
   },
   {
    "duration": 8,
    "start_time": "2022-12-27T03:48:29.104Z"
   },
   {
    "duration": 9,
    "start_time": "2022-12-27T03:48:36.179Z"
   },
   {
    "duration": 2,
    "start_time": "2022-12-27T03:48:52.854Z"
   },
   {
    "duration": 8,
    "start_time": "2022-12-27T03:48:53.556Z"
   },
   {
    "duration": 4,
    "start_time": "2022-12-27T03:49:00.154Z"
   },
   {
    "duration": 71,
    "start_time": "2022-12-27T03:51:04.122Z"
   },
   {
    "duration": 3,
    "start_time": "2022-12-27T03:51:26.916Z"
   },
   {
    "duration": 80,
    "start_time": "2022-12-27T03:51:39.980Z"
   },
   {
    "duration": 66,
    "start_time": "2022-12-27T03:52:24.369Z"
   },
   {
    "duration": 2,
    "start_time": "2022-12-27T03:52:38.233Z"
   },
   {
    "duration": 4,
    "start_time": "2022-12-27T04:55:47.478Z"
   },
   {
    "duration": 34,
    "start_time": "2022-12-27T04:56:17.175Z"
   },
   {
    "duration": 33,
    "start_time": "2022-12-27T04:57:45.357Z"
   },
   {
    "duration": 31,
    "start_time": "2022-12-27T04:57:59.751Z"
   },
   {
    "duration": 4,
    "start_time": "2022-12-27T04:58:32.730Z"
   },
   {
    "duration": 2,
    "start_time": "2022-12-27T04:58:44.617Z"
   },
   {
    "duration": 35,
    "start_time": "2022-12-27T04:58:45.762Z"
   },
   {
    "duration": 10,
    "start_time": "2022-12-27T05:03:06.513Z"
   },
   {
    "duration": 13,
    "start_time": "2022-12-27T05:03:12.019Z"
   },
   {
    "duration": 6,
    "start_time": "2022-12-27T05:03:15.092Z"
   },
   {
    "duration": 11,
    "start_time": "2022-12-27T05:03:50.931Z"
   },
   {
    "duration": 15,
    "start_time": "2022-12-27T05:03:56.642Z"
   },
   {
    "duration": 5,
    "start_time": "2022-12-27T05:04:09.332Z"
   },
   {
    "duration": 9,
    "start_time": "2022-12-27T05:04:31.464Z"
   },
   {
    "duration": 5,
    "start_time": "2022-12-27T05:04:42.814Z"
   },
   {
    "duration": 5,
    "start_time": "2022-12-27T05:04:58.245Z"
   },
   {
    "duration": 5,
    "start_time": "2022-12-27T05:05:03.922Z"
   },
   {
    "duration": 6,
    "start_time": "2022-12-27T05:06:17.544Z"
   },
   {
    "duration": 7,
    "start_time": "2022-12-27T05:06:25.651Z"
   },
   {
    "duration": 14,
    "start_time": "2022-12-27T05:06:31.441Z"
   },
   {
    "duration": 6,
    "start_time": "2022-12-27T05:06:41.601Z"
   },
   {
    "duration": 5,
    "start_time": "2022-12-27T05:06:45.153Z"
   },
   {
    "duration": 5,
    "start_time": "2022-12-27T05:07:03.681Z"
   },
   {
    "duration": 6,
    "start_time": "2022-12-27T05:07:08.163Z"
   },
   {
    "duration": 16,
    "start_time": "2022-12-27T05:07:18.011Z"
   },
   {
    "duration": 8,
    "start_time": "2022-12-27T05:07:42.380Z"
   },
   {
    "duration": 4,
    "start_time": "2022-12-27T05:08:01.337Z"
   },
   {
    "duration": 24,
    "start_time": "2022-12-27T05:08:11.413Z"
   },
   {
    "duration": 3,
    "start_time": "2022-12-27T05:10:24.483Z"
   },
   {
    "duration": 26,
    "start_time": "2022-12-27T05:10:25.181Z"
   },
   {
    "duration": 13,
    "start_time": "2022-12-27T05:17:18.303Z"
   },
   {
    "duration": 7,
    "start_time": "2022-12-27T05:17:22.399Z"
   },
   {
    "duration": 3,
    "start_time": "2022-12-27T05:18:03.760Z"
   },
   {
    "duration": 8,
    "start_time": "2022-12-27T05:18:04.387Z"
   },
   {
    "duration": 13,
    "start_time": "2022-12-27T05:18:07.362Z"
   },
   {
    "duration": 18,
    "start_time": "2022-12-27T05:18:14.947Z"
   },
   {
    "duration": 8,
    "start_time": "2022-12-27T05:24:57.721Z"
   },
   {
    "duration": 4,
    "start_time": "2022-12-27T05:25:00.979Z"
   },
   {
    "duration": 12,
    "start_time": "2022-12-27T05:25:05.262Z"
   },
   {
    "duration": 207,
    "start_time": "2022-12-27T05:26:35.953Z"
   },
   {
    "duration": 5,
    "start_time": "2022-12-27T05:26:41.318Z"
   },
   {
    "duration": 53,
    "start_time": "2022-12-27T05:26:49.306Z"
   },
   {
    "duration": 6,
    "start_time": "2022-12-27T05:26:52.403Z"
   },
   {
    "duration": 5,
    "start_time": "2022-12-27T05:26:55.768Z"
   },
   {
    "duration": 8,
    "start_time": "2022-12-27T05:27:00.117Z"
   },
   {
    "duration": 5,
    "start_time": "2022-12-27T05:27:06.806Z"
   },
   {
    "duration": 5,
    "start_time": "2022-12-27T05:30:54.045Z"
   },
   {
    "duration": 4,
    "start_time": "2022-12-27T05:31:12.423Z"
   },
   {
    "duration": 11,
    "start_time": "2022-12-27T05:31:14.532Z"
   },
   {
    "duration": 4,
    "start_time": "2022-12-27T05:32:06.815Z"
   },
   {
    "duration": 6,
    "start_time": "2022-12-27T05:32:08.983Z"
   },
   {
    "duration": 14,
    "start_time": "2022-12-27T05:32:09.837Z"
   },
   {
    "duration": 4,
    "start_time": "2022-12-27T05:32:52.633Z"
   },
   {
    "duration": 4,
    "start_time": "2022-12-27T05:32:53.395Z"
   },
   {
    "duration": 14,
    "start_time": "2022-12-27T05:32:54.329Z"
   },
   {
    "duration": 4,
    "start_time": "2022-12-27T05:33:33.054Z"
   },
   {
    "duration": 5,
    "start_time": "2022-12-27T05:33:33.800Z"
   },
   {
    "duration": 13,
    "start_time": "2022-12-27T05:33:34.569Z"
   },
   {
    "duration": 4,
    "start_time": "2022-12-27T05:33:48.382Z"
   },
   {
    "duration": 14,
    "start_time": "2022-12-27T05:33:49.109Z"
   },
   {
    "duration": 11,
    "start_time": "2022-12-27T05:33:49.580Z"
   },
   {
    "duration": 4,
    "start_time": "2022-12-27T05:33:54.832Z"
   },
   {
    "duration": 5,
    "start_time": "2022-12-27T05:33:55.196Z"
   },
   {
    "duration": 11,
    "start_time": "2022-12-27T05:33:56.964Z"
   },
   {
    "duration": 4,
    "start_time": "2022-12-27T05:34:05.129Z"
   },
   {
    "duration": 5,
    "start_time": "2022-12-27T05:34:05.908Z"
   },
   {
    "duration": 11,
    "start_time": "2022-12-27T05:34:06.574Z"
   },
   {
    "duration": 13,
    "start_time": "2022-12-27T05:34:28.431Z"
   },
   {
    "duration": 11,
    "start_time": "2022-12-27T05:34:31.668Z"
   },
   {
    "duration": 3,
    "start_time": "2022-12-27T05:35:10.155Z"
   },
   {
    "duration": 5,
    "start_time": "2022-12-27T05:35:11.061Z"
   },
   {
    "duration": 13,
    "start_time": "2022-12-27T05:35:11.824Z"
   },
   {
    "duration": 3,
    "start_time": "2022-12-27T05:39:44.612Z"
   },
   {
    "duration": 4,
    "start_time": "2022-12-27T05:41:02.870Z"
   },
   {
    "duration": 6,
    "start_time": "2022-12-27T05:41:05.525Z"
   },
   {
    "duration": 14,
    "start_time": "2022-12-27T05:41:06.595Z"
   },
   {
    "duration": 5,
    "start_time": "2022-12-27T05:41:49.269Z"
   },
   {
    "duration": 12,
    "start_time": "2022-12-27T05:41:50.895Z"
   },
   {
    "duration": 13,
    "start_time": "2022-12-27T05:41:51.510Z"
   },
   {
    "duration": 23,
    "start_time": "2022-12-27T05:50:17.998Z"
   },
   {
    "duration": 5,
    "start_time": "2022-12-27T05:50:21.310Z"
   },
   {
    "duration": 8,
    "start_time": "2022-12-27T05:50:21.901Z"
   },
   {
    "duration": 10,
    "start_time": "2022-12-27T05:51:07.527Z"
   },
   {
    "duration": 67,
    "start_time": "2022-12-27T05:51:56.818Z"
   },
   {
    "duration": 5,
    "start_time": "2022-12-27T05:52:01.277Z"
   },
   {
    "duration": 16,
    "start_time": "2022-12-27T05:52:03.985Z"
   },
   {
    "duration": 16,
    "start_time": "2022-12-27T05:52:20.042Z"
   },
   {
    "duration": 5,
    "start_time": "2022-12-27T09:00:46.865Z"
   },
   {
    "duration": 3,
    "start_time": "2022-12-27T09:00:49.978Z"
   },
   {
    "duration": 40,
    "start_time": "2022-12-27T09:00:52.707Z"
   },
   {
    "duration": 3,
    "start_time": "2022-12-27T09:01:21.959Z"
   },
   {
    "duration": 2,
    "start_time": "2022-12-27T09:01:26.179Z"
   },
   {
    "duration": 42,
    "start_time": "2022-12-27T09:01:26.906Z"
   },
   {
    "duration": 19,
    "start_time": "2022-12-27T09:04:52.526Z"
   },
   {
    "duration": 822,
    "start_time": "2022-12-27T09:04:58.532Z"
   },
   {
    "duration": 8,
    "start_time": "2022-12-27T09:05:05.519Z"
   },
   {
    "duration": 5,
    "start_time": "2022-12-27T09:05:21.404Z"
   },
   {
    "duration": 3,
    "start_time": "2022-12-27T09:05:28.080Z"
   },
   {
    "duration": 4,
    "start_time": "2022-12-27T09:05:38.304Z"
   },
   {
    "duration": 4,
    "start_time": "2022-12-27T09:05:41.856Z"
   },
   {
    "duration": 4,
    "start_time": "2022-12-27T09:05:48.810Z"
   },
   {
    "duration": 5,
    "start_time": "2022-12-27T09:06:08.989Z"
   },
   {
    "duration": 4,
    "start_time": "2022-12-27T09:06:47.358Z"
   },
   {
    "duration": 6,
    "start_time": "2022-12-27T09:06:52.021Z"
   },
   {
    "duration": 6,
    "start_time": "2022-12-27T09:07:22.290Z"
   },
   {
    "duration": 4,
    "start_time": "2022-12-27T09:07:25.429Z"
   },
   {
    "duration": 3,
    "start_time": "2022-12-27T09:11:05.042Z"
   },
   {
    "duration": 12,
    "start_time": "2022-12-27T09:11:08.654Z"
   },
   {
    "duration": 6,
    "start_time": "2022-12-27T09:11:11.687Z"
   },
   {
    "duration": 4,
    "start_time": "2022-12-27T09:11:21.037Z"
   },
   {
    "duration": 4,
    "start_time": "2022-12-27T09:11:21.363Z"
   },
   {
    "duration": 9,
    "start_time": "2022-12-27T09:11:34.481Z"
   },
   {
    "duration": 5,
    "start_time": "2022-12-27T09:11:46.981Z"
   },
   {
    "duration": 14,
    "start_time": "2022-12-27T09:12:16.134Z"
   },
   {
    "duration": 16,
    "start_time": "2022-12-27T09:12:42.522Z"
   },
   {
    "duration": 1176,
    "start_time": "2022-12-27T12:14:37.051Z"
   },
   {
    "duration": 74,
    "start_time": "2022-12-27T12:14:38.229Z"
   },
   {
    "duration": 20,
    "start_time": "2022-12-27T12:14:38.305Z"
   },
   {
    "duration": 24,
    "start_time": "2022-12-27T12:14:38.327Z"
   },
   {
    "duration": 39,
    "start_time": "2022-12-27T12:14:38.353Z"
   },
   {
    "duration": 12,
    "start_time": "2022-12-27T12:14:38.393Z"
   },
   {
    "duration": 15,
    "start_time": "2022-12-27T12:14:38.407Z"
   },
   {
    "duration": 56,
    "start_time": "2022-12-27T12:14:38.424Z"
   },
   {
    "duration": 3,
    "start_time": "2022-12-27T12:14:38.482Z"
   },
   {
    "duration": 16,
    "start_time": "2022-12-27T12:14:38.487Z"
   },
   {
    "duration": 20,
    "start_time": "2022-12-27T12:14:38.505Z"
   },
   {
    "duration": 26,
    "start_time": "2022-12-27T12:14:38.527Z"
   },
   {
    "duration": 44,
    "start_time": "2022-12-27T12:14:38.554Z"
   },
   {
    "duration": 11,
    "start_time": "2022-12-27T12:14:38.601Z"
   },
   {
    "duration": 36,
    "start_time": "2022-12-27T12:14:38.613Z"
   },
   {
    "duration": 9,
    "start_time": "2022-12-27T12:14:38.651Z"
   },
   {
    "duration": 13,
    "start_time": "2022-12-27T12:14:38.661Z"
   },
   {
    "duration": 13,
    "start_time": "2022-12-27T12:14:38.676Z"
   },
   {
    "duration": 24,
    "start_time": "2022-12-27T12:14:38.691Z"
   },
   {
    "duration": 10,
    "start_time": "2022-12-27T12:14:38.717Z"
   },
   {
    "duration": 28,
    "start_time": "2022-12-27T12:14:38.729Z"
   },
   {
    "duration": 16,
    "start_time": "2022-12-27T12:14:38.759Z"
   },
   {
    "duration": 25,
    "start_time": "2022-12-27T12:14:38.777Z"
   },
   {
    "duration": 51,
    "start_time": "2022-12-27T12:14:38.804Z"
   },
   {
    "duration": 98,
    "start_time": "2022-12-27T12:14:38.857Z"
   },
   {
    "duration": 10,
    "start_time": "2022-12-27T12:24:09.911Z"
   },
   {
    "duration": 948,
    "start_time": "2022-12-27T12:26:45.762Z"
   },
   {
    "duration": 696,
    "start_time": "2022-12-27T12:26:57.210Z"
   },
   {
    "duration": 4,
    "start_time": "2022-12-27T12:36:08.713Z"
   },
   {
    "duration": 9,
    "start_time": "2022-12-27T12:36:11.132Z"
   },
   {
    "duration": 9,
    "start_time": "2022-12-27T12:36:11.763Z"
   },
   {
    "duration": 3,
    "start_time": "2022-12-27T12:36:12.476Z"
   },
   {
    "duration": 232,
    "start_time": "2022-12-27T12:36:13.620Z"
   },
   {
    "duration": 3,
    "start_time": "2022-12-27T12:36:18.030Z"
   },
   {
    "duration": 4,
    "start_time": "2022-12-27T12:36:18.772Z"
   },
   {
    "duration": 9,
    "start_time": "2022-12-27T12:36:19.217Z"
   },
   {
    "duration": 2,
    "start_time": "2022-12-27T12:36:19.663Z"
   },
   {
    "duration": 32,
    "start_time": "2022-12-27T12:36:20.220Z"
   },
   {
    "duration": 4,
    "start_time": "2022-12-27T12:36:25.288Z"
   },
   {
    "duration": 6,
    "start_time": "2022-12-27T12:36:25.733Z"
   },
   {
    "duration": 8,
    "start_time": "2022-12-27T12:36:26.106Z"
   },
   {
    "duration": 2,
    "start_time": "2022-12-27T12:36:26.520Z"
   },
   {
    "duration": 30,
    "start_time": "2022-12-27T12:36:26.996Z"
   },
   {
    "duration": 151,
    "start_time": "2022-12-27T12:50:17.633Z"
   },
   {
    "duration": 4,
    "start_time": "2022-12-27T12:50:21.728Z"
   },
   {
    "duration": 13,
    "start_time": "2022-12-27T12:50:32.805Z"
   },
   {
    "duration": 131,
    "start_time": "2022-12-27T12:53:17.276Z"
   },
   {
    "duration": 13,
    "start_time": "2022-12-27T12:53:39.721Z"
   },
   {
    "duration": 33,
    "start_time": "2022-12-27T12:54:00.979Z"
   },
   {
    "duration": 5,
    "start_time": "2022-12-27T12:54:05.265Z"
   },
   {
    "duration": 80,
    "start_time": "2022-12-27T12:54:06.658Z"
   },
   {
    "duration": 139,
    "start_time": "2022-12-27T12:54:17.222Z"
   },
   {
    "duration": 5,
    "start_time": "2022-12-27T12:54:19.314Z"
   },
   {
    "duration": 5,
    "start_time": "2022-12-27T12:54:20.581Z"
   },
   {
    "duration": 10,
    "start_time": "2022-12-27T12:58:26.155Z"
   },
   {
    "duration": 1044,
    "start_time": "2022-12-28T01:31:38.216Z"
   },
   {
    "duration": 76,
    "start_time": "2022-12-28T01:31:39.262Z"
   },
   {
    "duration": 14,
    "start_time": "2022-12-28T01:31:39.340Z"
   },
   {
    "duration": 10,
    "start_time": "2022-12-28T01:31:39.355Z"
   },
   {
    "duration": 21,
    "start_time": "2022-12-28T01:31:39.367Z"
   },
   {
    "duration": 918,
    "start_time": "2022-12-28T01:31:39.389Z"
   },
   {
    "duration": 4,
    "start_time": "2022-12-28T01:31:40.309Z"
   },
   {
    "duration": 5,
    "start_time": "2022-12-28T01:31:40.315Z"
   },
   {
    "duration": 201,
    "start_time": "2022-12-28T01:31:40.321Z"
   },
   {
    "duration": 4,
    "start_time": "2022-12-28T01:31:40.524Z"
   },
   {
    "duration": 136,
    "start_time": "2022-12-28T01:31:40.529Z"
   },
   {
    "duration": 3,
    "start_time": "2022-12-28T01:31:40.667Z"
   },
   {
    "duration": 6,
    "start_time": "2022-12-28T01:31:40.672Z"
   },
   {
    "duration": 9,
    "start_time": "2022-12-28T01:31:40.680Z"
   },
   {
    "duration": 4,
    "start_time": "2022-12-28T01:31:40.691Z"
   },
   {
    "duration": 20,
    "start_time": "2022-12-28T01:31:40.696Z"
   },
   {
    "duration": 6,
    "start_time": "2022-12-28T01:31:40.718Z"
   },
   {
    "duration": 5,
    "start_time": "2022-12-28T01:31:40.725Z"
   },
   {
    "duration": 201,
    "start_time": "2022-12-28T01:31:40.732Z"
   },
   {
    "duration": 14,
    "start_time": "2022-12-28T01:31:40.934Z"
   },
   {
    "duration": 2,
    "start_time": "2022-12-28T01:46:43.271Z"
   },
   {
    "duration": 5,
    "start_time": "2022-12-28T01:47:28.779Z"
   },
   {
    "duration": 5,
    "start_time": "2022-12-28T01:48:59.724Z"
   },
   {
    "duration": 3,
    "start_time": "2022-12-28T01:52:39.193Z"
   },
   {
    "duration": 7,
    "start_time": "2022-12-28T01:52:57.411Z"
   },
   {
    "duration": 11,
    "start_time": "2022-12-28T01:53:31.701Z"
   },
   {
    "duration": 3,
    "start_time": "2022-12-28T01:53:40.713Z"
   },
   {
    "duration": 6,
    "start_time": "2022-12-28T01:53:56.896Z"
   },
   {
    "duration": 109,
    "start_time": "2022-12-28T02:17:11.252Z"
   },
   {
    "duration": 5,
    "start_time": "2022-12-28T02:17:46.915Z"
   },
   {
    "duration": 2,
    "start_time": "2022-12-28T02:18:12.592Z"
   },
   {
    "duration": 13,
    "start_time": "2022-12-28T02:18:34.272Z"
   },
   {
    "duration": 5,
    "start_time": "2022-12-28T02:18:51.662Z"
   },
   {
    "duration": 5,
    "start_time": "2022-12-28T02:19:02.206Z"
   },
   {
    "duration": 16,
    "start_time": "2022-12-28T02:19:18.482Z"
   },
   {
    "duration": 16,
    "start_time": "2022-12-28T02:20:20.525Z"
   },
   {
    "duration": 5,
    "start_time": "2022-12-28T02:21:56.676Z"
   },
   {
    "duration": 2,
    "start_time": "2022-12-28T02:21:59.232Z"
   },
   {
    "duration": 13,
    "start_time": "2022-12-28T02:22:03.193Z"
   },
   {
    "duration": 5,
    "start_time": "2022-12-28T02:23:18.952Z"
   },
   {
    "duration": 2,
    "start_time": "2022-12-28T02:23:20.059Z"
   },
   {
    "duration": 5,
    "start_time": "2022-12-28T02:23:21.319Z"
   },
   {
    "duration": 3,
    "start_time": "2022-12-28T02:23:25.834Z"
   },
   {
    "duration": 17,
    "start_time": "2022-12-28T02:23:31.976Z"
   },
   {
    "duration": 5,
    "start_time": "2022-12-28T02:26:51.138Z"
   },
   {
    "duration": 17,
    "start_time": "2022-12-28T02:26:52.968Z"
   },
   {
    "duration": 5,
    "start_time": "2022-12-28T02:27:19.514Z"
   },
   {
    "duration": 3,
    "start_time": "2022-12-28T02:27:28.657Z"
   },
   {
    "duration": 7,
    "start_time": "2022-12-28T02:27:33.622Z"
   },
   {
    "duration": 4,
    "start_time": "2022-12-28T02:27:39.499Z"
   },
   {
    "duration": 3,
    "start_time": "2022-12-28T02:27:53.305Z"
   },
   {
    "duration": 7,
    "start_time": "2022-12-28T02:27:54.095Z"
   },
   {
    "duration": 7,
    "start_time": "2022-12-28T02:28:00.604Z"
   },
   {
    "duration": 5,
    "start_time": "2022-12-28T02:28:02.212Z"
   },
   {
    "duration": 4,
    "start_time": "2022-12-28T02:28:04.136Z"
   },
   {
    "duration": 7,
    "start_time": "2022-12-28T02:28:21.431Z"
   },
   {
    "duration": 5,
    "start_time": "2022-12-28T02:28:22.492Z"
   },
   {
    "duration": 6,
    "start_time": "2022-12-28T02:28:28.798Z"
   },
   {
    "duration": 9,
    "start_time": "2022-12-28T02:28:42.127Z"
   },
   {
    "duration": 4,
    "start_time": "2022-12-28T02:28:45.528Z"
   },
   {
    "duration": 6,
    "start_time": "2022-12-28T02:28:57.050Z"
   },
   {
    "duration": 7,
    "start_time": "2022-12-28T02:35:29.880Z"
   },
   {
    "duration": 2,
    "start_time": "2022-12-28T02:35:32.693Z"
   },
   {
    "duration": 13,
    "start_time": "2022-12-28T02:35:33.846Z"
   },
   {
    "duration": 3,
    "start_time": "2022-12-28T02:35:39.707Z"
   },
   {
    "duration": 3,
    "start_time": "2022-12-28T02:35:53.564Z"
   },
   {
    "duration": 20,
    "start_time": "2022-12-28T02:35:54.230Z"
   },
   {
    "duration": 52,
    "start_time": "2022-12-28T02:36:06.613Z"
   },
   {
    "duration": 5,
    "start_time": "2022-12-28T02:37:09.640Z"
   },
   {
    "duration": 3,
    "start_time": "2022-12-28T02:37:12.093Z"
   },
   {
    "duration": 5,
    "start_time": "2022-12-28T02:37:13.070Z"
   },
   {
    "duration": 14,
    "start_time": "2022-12-28T02:37:20.404Z"
   },
   {
    "duration": 5,
    "start_time": "2022-12-28T02:37:46.096Z"
   },
   {
    "duration": 3,
    "start_time": "2022-12-28T02:37:48.157Z"
   },
   {
    "duration": 5,
    "start_time": "2022-12-28T02:37:49.292Z"
   },
   {
    "duration": 8,
    "start_time": "2022-12-28T02:37:51.439Z"
   },
   {
    "duration": 7,
    "start_time": "2022-12-28T02:37:53.213Z"
   },
   {
    "duration": 5,
    "start_time": "2022-12-28T02:40:34.975Z"
   },
   {
    "duration": 3,
    "start_time": "2022-12-28T02:40:37.329Z"
   },
   {
    "duration": 5,
    "start_time": "2022-12-28T02:40:38.670Z"
   },
   {
    "duration": 7,
    "start_time": "2022-12-28T02:40:40.305Z"
   },
   {
    "duration": 4,
    "start_time": "2022-12-28T02:40:41.306Z"
   },
   {
    "duration": 5,
    "start_time": "2022-12-28T02:41:20.757Z"
   },
   {
    "duration": 3,
    "start_time": "2022-12-28T02:41:22.718Z"
   },
   {
    "duration": 5,
    "start_time": "2022-12-28T02:41:23.733Z"
   },
   {
    "duration": 6,
    "start_time": "2022-12-28T02:41:26.694Z"
   },
   {
    "duration": 2,
    "start_time": "2022-12-28T02:41:27.557Z"
   },
   {
    "duration": 3,
    "start_time": "2022-12-28T02:41:30.355Z"
   },
   {
    "duration": 6,
    "start_time": "2022-12-28T02:43:04.317Z"
   },
   {
    "duration": 3,
    "start_time": "2022-12-28T02:43:05.347Z"
   },
   {
    "duration": 5,
    "start_time": "2022-12-28T02:43:07.112Z"
   },
   {
    "duration": 7,
    "start_time": "2022-12-28T02:43:08.754Z"
   },
   {
    "duration": 3,
    "start_time": "2022-12-28T02:43:09.469Z"
   },
   {
    "duration": 6,
    "start_time": "2022-12-28T02:43:21.690Z"
   },
   {
    "duration": 2,
    "start_time": "2022-12-28T02:43:22.279Z"
   },
   {
    "duration": 4,
    "start_time": "2022-12-28T02:43:22.990Z"
   },
   {
    "duration": 7,
    "start_time": "2022-12-28T02:43:24.131Z"
   },
   {
    "duration": 4,
    "start_time": "2022-12-28T02:43:24.822Z"
   },
   {
    "duration": 5,
    "start_time": "2022-12-28T02:43:46.454Z"
   },
   {
    "duration": 3,
    "start_time": "2022-12-28T02:43:46.936Z"
   },
   {
    "duration": 5,
    "start_time": "2022-12-28T02:43:47.311Z"
   },
   {
    "duration": 8,
    "start_time": "2022-12-28T02:43:50.245Z"
   },
   {
    "duration": 4,
    "start_time": "2022-12-28T02:43:50.876Z"
   },
   {
    "duration": 2,
    "start_time": "2022-12-28T02:43:59.224Z"
   },
   {
    "duration": 8,
    "start_time": "2022-12-28T02:44:02.234Z"
   },
   {
    "duration": 4,
    "start_time": "2022-12-28T02:44:04.105Z"
   },
   {
    "duration": 7,
    "start_time": "2022-12-28T02:44:18.891Z"
   },
   {
    "duration": 5,
    "start_time": "2022-12-28T02:44:20.962Z"
   },
   {
    "duration": 7,
    "start_time": "2022-12-28T02:44:23.380Z"
   },
   {
    "duration": 5,
    "start_time": "2022-12-28T02:44:24.227Z"
   },
   {
    "duration": 8,
    "start_time": "2022-12-28T02:44:25.746Z"
   },
   {
    "duration": 7,
    "start_time": "2022-12-28T02:44:26.304Z"
   },
   {
    "duration": 7,
    "start_time": "2022-12-28T02:44:52.934Z"
   },
   {
    "duration": 7,
    "start_time": "2022-12-28T02:45:01.223Z"
   },
   {
    "duration": 6,
    "start_time": "2022-12-28T02:45:06.124Z"
   },
   {
    "duration": 4,
    "start_time": "2022-12-28T02:45:07.440Z"
   },
   {
    "duration": 9,
    "start_time": "2022-12-28T02:45:13.065Z"
   },
   {
    "duration": 4,
    "start_time": "2022-12-28T02:45:14.201Z"
   },
   {
    "duration": 7,
    "start_time": "2022-12-28T02:45:20.248Z"
   },
   {
    "duration": 4,
    "start_time": "2022-12-28T02:45:22.369Z"
   },
   {
    "duration": 7,
    "start_time": "2022-12-28T02:45:26.806Z"
   },
   {
    "duration": 4,
    "start_time": "2022-12-28T02:45:27.699Z"
   },
   {
    "duration": 9,
    "start_time": "2022-12-28T03:21:54.610Z"
   },
   {
    "duration": 53,
    "start_time": "2022-12-28T03:22:16.415Z"
   },
   {
    "duration": 4,
    "start_time": "2022-12-28T03:22:21.175Z"
   },
   {
    "duration": 22,
    "start_time": "2022-12-28T03:22:22.701Z"
   },
   {
    "duration": 7,
    "start_time": "2022-12-28T03:23:06.129Z"
   },
   {
    "duration": 14,
    "start_time": "2022-12-28T03:23:15.908Z"
   },
   {
    "duration": 5,
    "start_time": "2022-12-28T03:23:23.596Z"
   },
   {
    "duration": 12,
    "start_time": "2022-12-28T03:23:29.168Z"
   },
   {
    "duration": 17,
    "start_time": "2022-12-28T03:23:42.527Z"
   },
   {
    "duration": 13,
    "start_time": "2022-12-28T03:23:51.728Z"
   },
   {
    "duration": 66,
    "start_time": "2022-12-28T03:42:09.199Z"
   },
   {
    "duration": 8,
    "start_time": "2022-12-28T03:42:26.349Z"
   },
   {
    "duration": 48,
    "start_time": "2022-12-28T03:42:30.392Z"
   },
   {
    "duration": 4,
    "start_time": "2022-12-28T03:42:32.725Z"
   },
   {
    "duration": 4,
    "start_time": "2022-12-28T03:42:42.823Z"
   },
   {
    "duration": 3,
    "start_time": "2022-12-28T03:43:15.462Z"
   },
   {
    "duration": 25,
    "start_time": "2022-12-28T03:43:33.713Z"
   },
   {
    "duration": 4,
    "start_time": "2022-12-28T03:43:35.007Z"
   },
   {
    "duration": 5,
    "start_time": "2022-12-28T03:43:36.195Z"
   },
   {
    "duration": 48,
    "start_time": "2022-12-28T03:44:14.696Z"
   },
   {
    "duration": 4,
    "start_time": "2022-12-28T03:44:15.510Z"
   },
   {
    "duration": 4,
    "start_time": "2022-12-28T03:44:18.755Z"
   },
   {
    "duration": 25,
    "start_time": "2022-12-28T03:44:29.014Z"
   },
   {
    "duration": 5,
    "start_time": "2022-12-28T03:44:29.727Z"
   },
   {
    "duration": 4,
    "start_time": "2022-12-28T03:44:30.358Z"
   },
   {
    "duration": 4,
    "start_time": "2022-12-28T03:44:54.693Z"
   },
   {
    "duration": 4,
    "start_time": "2022-12-28T03:45:00.865Z"
   },
   {
    "duration": 1057,
    "start_time": "2022-12-28T03:51:48.993Z"
   },
   {
    "duration": 30,
    "start_time": "2022-12-28T03:51:50.052Z"
   },
   {
    "duration": 15,
    "start_time": "2022-12-28T03:51:50.083Z"
   },
   {
    "duration": 14,
    "start_time": "2022-12-28T03:51:50.100Z"
   },
   {
    "duration": 21,
    "start_time": "2022-12-28T03:51:50.116Z"
   },
   {
    "duration": 751,
    "start_time": "2022-12-28T03:51:50.138Z"
   },
   {
    "duration": 3,
    "start_time": "2022-12-28T03:51:50.891Z"
   },
   {
    "duration": 8,
    "start_time": "2022-12-28T03:51:50.896Z"
   },
   {
    "duration": 40,
    "start_time": "2022-12-28T03:51:50.905Z"
   },
   {
    "duration": 4,
    "start_time": "2022-12-28T03:51:50.946Z"
   },
   {
    "duration": 134,
    "start_time": "2022-12-28T03:51:50.952Z"
   },
   {
    "duration": 3,
    "start_time": "2022-12-28T03:51:51.088Z"
   },
   {
    "duration": 7,
    "start_time": "2022-12-28T03:51:51.093Z"
   },
   {
    "duration": 8,
    "start_time": "2022-12-28T03:51:51.115Z"
   },
   {
    "duration": 6,
    "start_time": "2022-12-28T03:51:51.124Z"
   },
   {
    "duration": 11,
    "start_time": "2022-12-28T03:51:51.131Z"
   },
   {
    "duration": 59,
    "start_time": "2022-12-28T03:51:51.143Z"
   },
   {
    "duration": 4,
    "start_time": "2022-12-28T03:51:51.203Z"
   },
   {
    "duration": 23,
    "start_time": "2022-12-28T03:51:51.209Z"
   },
   {
    "duration": 33,
    "start_time": "2022-12-28T03:51:51.234Z"
   },
   {
    "duration": 3,
    "start_time": "2022-12-28T03:51:51.269Z"
   },
   {
    "duration": 14,
    "start_time": "2022-12-28T03:51:51.274Z"
   },
   {
    "duration": 4,
    "start_time": "2022-12-28T03:51:51.290Z"
   },
   {
    "duration": 6,
    "start_time": "2022-12-28T03:51:51.296Z"
   },
   {
    "duration": 12,
    "start_time": "2022-12-28T03:51:51.304Z"
   },
   {
    "duration": 99,
    "start_time": "2022-12-28T03:51:51.317Z"
   },
   {
    "duration": 14,
    "start_time": "2022-12-28T03:51:51.417Z"
   },
   {
    "duration": 7,
    "start_time": "2022-12-28T03:55:49.764Z"
   },
   {
    "duration": 1049,
    "start_time": "2022-12-28T03:55:55.478Z"
   },
   {
    "duration": 30,
    "start_time": "2022-12-28T03:55:56.529Z"
   },
   {
    "duration": 19,
    "start_time": "2022-12-28T03:55:56.561Z"
   },
   {
    "duration": 10,
    "start_time": "2022-12-28T03:55:56.583Z"
   },
   {
    "duration": 22,
    "start_time": "2022-12-28T03:55:56.595Z"
   },
   {
    "duration": 780,
    "start_time": "2022-12-28T03:55:56.618Z"
   },
   {
    "duration": 4,
    "start_time": "2022-12-28T03:55:57.400Z"
   },
   {
    "duration": 6,
    "start_time": "2022-12-28T03:55:57.415Z"
   },
   {
    "duration": 37,
    "start_time": "2022-12-28T03:55:57.422Z"
   },
   {
    "duration": 3,
    "start_time": "2022-12-28T03:55:57.462Z"
   },
   {
    "duration": 137,
    "start_time": "2022-12-28T03:55:57.466Z"
   },
   {
    "duration": 3,
    "start_time": "2022-12-28T03:55:57.605Z"
   },
   {
    "duration": 7,
    "start_time": "2022-12-28T03:55:57.610Z"
   },
   {
    "duration": 9,
    "start_time": "2022-12-28T03:55:57.619Z"
   },
   {
    "duration": 6,
    "start_time": "2022-12-28T03:55:57.630Z"
   },
   {
    "duration": 10,
    "start_time": "2022-12-28T03:55:57.637Z"
   },
   {
    "duration": 45,
    "start_time": "2022-12-28T03:55:57.649Z"
   },
   {
    "duration": 21,
    "start_time": "2022-12-28T03:55:57.695Z"
   },
   {
    "duration": 6,
    "start_time": "2022-12-28T03:55:57.717Z"
   },
   {
    "duration": 28,
    "start_time": "2022-12-28T03:55:57.725Z"
   },
   {
    "duration": 4,
    "start_time": "2022-12-28T03:55:57.754Z"
   },
   {
    "duration": 5,
    "start_time": "2022-12-28T03:55:57.759Z"
   },
   {
    "duration": 4,
    "start_time": "2022-12-28T03:55:57.766Z"
   },
   {
    "duration": 7,
    "start_time": "2022-12-28T03:55:57.771Z"
   },
   {
    "duration": 37,
    "start_time": "2022-12-28T03:55:57.779Z"
   },
   {
    "duration": 13,
    "start_time": "2022-12-28T03:55:57.817Z"
   },
   {
    "duration": 86,
    "start_time": "2022-12-28T03:55:57.831Z"
   },
   {
    "duration": 76,
    "start_time": "2022-12-28T05:49:51.117Z"
   },
   {
    "duration": 76,
    "start_time": "2022-12-28T05:50:00.387Z"
   },
   {
    "duration": 69,
    "start_time": "2022-12-28T05:50:08.482Z"
   },
   {
    "duration": 54,
    "start_time": "2022-12-28T05:50:19.720Z"
   },
   {
    "duration": 6,
    "start_time": "2022-12-28T05:50:26.215Z"
   },
   {
    "duration": 7,
    "start_time": "2022-12-28T05:50:26.698Z"
   },
   {
    "duration": 1137,
    "start_time": "2022-12-28T05:50:31.161Z"
   },
   {
    "duration": 103,
    "start_time": "2022-12-28T05:50:32.300Z"
   },
   {
    "duration": 23,
    "start_time": "2022-12-28T05:50:32.405Z"
   },
   {
    "duration": 15,
    "start_time": "2022-12-28T05:50:32.430Z"
   },
   {
    "duration": 32,
    "start_time": "2022-12-28T05:50:32.447Z"
   },
   {
    "duration": 1031,
    "start_time": "2022-12-28T05:50:32.481Z"
   },
   {
    "duration": 4,
    "start_time": "2022-12-28T05:50:33.514Z"
   },
   {
    "duration": 8,
    "start_time": "2022-12-28T05:50:33.520Z"
   },
   {
    "duration": 232,
    "start_time": "2022-12-28T05:50:33.529Z"
   },
   {
    "duration": 4,
    "start_time": "2022-12-28T05:50:33.764Z"
   },
   {
    "duration": 153,
    "start_time": "2022-12-28T05:50:33.770Z"
   },
   {
    "duration": 3,
    "start_time": "2022-12-28T05:50:33.925Z"
   },
   {
    "duration": 14,
    "start_time": "2022-12-28T05:50:33.930Z"
   },
   {
    "duration": 13,
    "start_time": "2022-12-28T05:50:33.950Z"
   },
   {
    "duration": 21,
    "start_time": "2022-12-28T05:50:33.965Z"
   },
   {
    "duration": 11,
    "start_time": "2022-12-28T05:50:33.987Z"
   },
   {
    "duration": 48,
    "start_time": "2022-12-28T05:50:34.000Z"
   },
   {
    "duration": 6,
    "start_time": "2022-12-28T05:50:34.049Z"
   },
   {
    "duration": 74,
    "start_time": "2022-12-28T05:50:34.057Z"
   },
   {
    "duration": 3,
    "start_time": "2022-12-28T05:50:34.133Z"
   },
   {
    "duration": 17,
    "start_time": "2022-12-28T05:50:34.138Z"
   },
   {
    "duration": 80,
    "start_time": "2022-12-28T05:50:43.885Z"
   },
   {
    "duration": 88,
    "start_time": "2022-12-28T05:50:52.793Z"
   },
   {
    "duration": 4,
    "start_time": "2022-12-28T05:51:00.259Z"
   },
   {
    "duration": 92,
    "start_time": "2022-12-28T05:51:19.766Z"
   },
   {
    "duration": 73,
    "start_time": "2022-12-28T05:51:40.800Z"
   },
   {
    "duration": 5,
    "start_time": "2022-12-28T05:51:59.015Z"
   },
   {
    "duration": 5,
    "start_time": "2022-12-28T05:52:03.212Z"
   },
   {
    "duration": 4,
    "start_time": "2022-12-28T05:52:06.695Z"
   },
   {
    "duration": 4,
    "start_time": "2022-12-28T05:52:10.547Z"
   },
   {
    "duration": 69,
    "start_time": "2022-12-28T05:52:17.335Z"
   },
   {
    "duration": 462,
    "start_time": "2022-12-28T05:52:20.996Z"
   },
   {
    "duration": 107,
    "start_time": "2022-12-28T05:52:28.093Z"
   },
   {
    "duration": 4,
    "start_time": "2022-12-28T05:54:13.537Z"
   },
   {
    "duration": 4,
    "start_time": "2022-12-28T05:54:17.812Z"
   },
   {
    "duration": 9,
    "start_time": "2022-12-28T05:58:01.468Z"
   },
   {
    "duration": 4,
    "start_time": "2022-12-28T05:58:05.509Z"
   },
   {
    "duration": 1113,
    "start_time": "2022-12-28T06:12:45.503Z"
   },
   {
    "duration": 30,
    "start_time": "2022-12-28T06:12:46.618Z"
   },
   {
    "duration": 16,
    "start_time": "2022-12-28T06:12:46.650Z"
   },
   {
    "duration": 19,
    "start_time": "2022-12-28T06:12:46.668Z"
   },
   {
    "duration": 41,
    "start_time": "2022-12-28T06:12:46.689Z"
   },
   {
    "duration": 862,
    "start_time": "2022-12-28T06:12:46.732Z"
   },
   {
    "duration": 4,
    "start_time": "2022-12-28T06:12:47.596Z"
   },
   {
    "duration": 40,
    "start_time": "2022-12-28T06:12:47.601Z"
   },
   {
    "duration": 56,
    "start_time": "2022-12-28T06:12:47.643Z"
   },
   {
    "duration": 14,
    "start_time": "2022-12-28T06:12:47.701Z"
   },
   {
    "duration": 157,
    "start_time": "2022-12-28T06:12:47.717Z"
   },
   {
    "duration": 4,
    "start_time": "2022-12-28T06:12:47.876Z"
   },
   {
    "duration": 42,
    "start_time": "2022-12-28T06:12:47.881Z"
   },
   {
    "duration": 34,
    "start_time": "2022-12-28T06:12:47.927Z"
   },
   {
    "duration": 23,
    "start_time": "2022-12-28T06:12:47.963Z"
   },
   {
    "duration": 59,
    "start_time": "2022-12-28T06:12:47.988Z"
   },
   {
    "duration": 14,
    "start_time": "2022-12-28T06:12:48.049Z"
   },
   {
    "duration": 66,
    "start_time": "2022-12-28T06:12:48.065Z"
   },
   {
    "duration": 4,
    "start_time": "2022-12-28T06:12:48.133Z"
   },
   {
    "duration": 32,
    "start_time": "2022-12-28T06:12:48.138Z"
   },
   {
    "duration": 16,
    "start_time": "2022-12-28T06:12:48.172Z"
   },
   {
    "duration": 36,
    "start_time": "2022-12-28T06:12:48.190Z"
   },
   {
    "duration": 12,
    "start_time": "2022-12-28T06:12:48.228Z"
   },
   {
    "duration": 1863,
    "start_time": "2022-12-28T07:14:53.895Z"
   },
   {
    "duration": 29,
    "start_time": "2022-12-28T07:14:55.759Z"
   },
   {
    "duration": 25,
    "start_time": "2022-12-28T07:14:55.790Z"
   },
   {
    "duration": 39,
    "start_time": "2022-12-28T07:14:55.817Z"
   },
   {
    "duration": 32,
    "start_time": "2022-12-28T07:14:55.858Z"
   },
   {
    "duration": 810,
    "start_time": "2022-12-28T07:14:55.891Z"
   },
   {
    "duration": 10,
    "start_time": "2022-12-28T07:14:56.703Z"
   },
   {
    "duration": 39,
    "start_time": "2022-12-28T07:14:56.715Z"
   },
   {
    "duration": 48,
    "start_time": "2022-12-28T07:14:56.755Z"
   },
   {
    "duration": 28,
    "start_time": "2022-12-28T07:14:56.806Z"
   },
   {
    "duration": 162,
    "start_time": "2022-12-28T07:14:56.836Z"
   },
   {
    "duration": 4,
    "start_time": "2022-12-28T07:14:56.999Z"
   },
   {
    "duration": 42,
    "start_time": "2022-12-28T07:14:57.005Z"
   },
   {
    "duration": 41,
    "start_time": "2022-12-28T07:14:57.050Z"
   },
   {
    "duration": 44,
    "start_time": "2022-12-28T07:14:57.093Z"
   },
   {
    "duration": 73,
    "start_time": "2022-12-28T07:14:57.139Z"
   },
   {
    "duration": 4,
    "start_time": "2022-12-28T07:14:57.214Z"
   },
   {
    "duration": 64,
    "start_time": "2022-12-28T07:14:57.219Z"
   },
   {
    "duration": 4,
    "start_time": "2022-12-28T07:14:57.285Z"
   },
   {
    "duration": 53,
    "start_time": "2022-12-28T07:14:57.290Z"
   },
   {
    "duration": 25,
    "start_time": "2022-12-28T07:14:57.345Z"
   },
   {
    "duration": 40,
    "start_time": "2022-12-28T07:14:57.372Z"
   },
   {
    "duration": 23,
    "start_time": "2022-12-28T07:14:57.414Z"
   },
   {
    "duration": 49,
    "start_time": "2022-12-28T07:44:26.841Z"
   },
   {
    "duration": 1095,
    "start_time": "2022-12-28T07:44:32.471Z"
   },
   {
    "duration": 76,
    "start_time": "2022-12-28T07:44:33.568Z"
   },
   {
    "duration": 15,
    "start_time": "2022-12-28T07:44:33.646Z"
   },
   {
    "duration": 11,
    "start_time": "2022-12-28T07:44:33.663Z"
   },
   {
    "duration": 25,
    "start_time": "2022-12-28T07:44:33.676Z"
   },
   {
    "duration": 1067,
    "start_time": "2022-12-28T07:44:33.703Z"
   },
   {
    "duration": 25,
    "start_time": "2022-12-28T07:44:34.773Z"
   },
   {
    "duration": 4,
    "start_time": "2022-12-28T07:44:34.800Z"
   },
   {
    "duration": 6,
    "start_time": "2022-12-28T07:44:34.806Z"
   },
   {
    "duration": 192,
    "start_time": "2022-12-28T07:44:34.815Z"
   },
   {
    "duration": 4,
    "start_time": "2022-12-28T07:44:35.009Z"
   },
   {
    "duration": 159,
    "start_time": "2022-12-28T07:44:35.015Z"
   },
   {
    "duration": 3,
    "start_time": "2022-12-28T07:44:35.176Z"
   },
   {
    "duration": 16,
    "start_time": "2022-12-28T07:44:35.181Z"
   },
   {
    "duration": 16,
    "start_time": "2022-12-28T07:44:35.199Z"
   },
   {
    "duration": 9,
    "start_time": "2022-12-28T07:44:35.217Z"
   },
   {
    "duration": 62,
    "start_time": "2022-12-28T07:44:35.228Z"
   },
   {
    "duration": 4,
    "start_time": "2022-12-28T07:44:35.291Z"
   },
   {
    "duration": 45,
    "start_time": "2022-12-28T07:44:35.297Z"
   },
   {
    "duration": 3,
    "start_time": "2022-12-28T07:44:35.344Z"
   },
   {
    "duration": 7,
    "start_time": "2022-12-28T07:44:35.348Z"
   },
   {
    "duration": 5,
    "start_time": "2022-12-28T07:44:35.357Z"
   },
   {
    "duration": 12,
    "start_time": "2022-12-28T07:44:35.364Z"
   },
   {
    "duration": 22,
    "start_time": "2022-12-28T07:44:35.377Z"
   },
   {
    "duration": 112,
    "start_time": "2022-12-28T07:45:20.564Z"
   },
   {
    "duration": 132,
    "start_time": "2022-12-28T07:45:22.872Z"
   },
   {
    "duration": 0,
    "start_time": "2022-12-28T07:46:41.473Z"
   },
   {
    "duration": 508,
    "start_time": "2022-12-28T07:46:46.543Z"
   },
   {
    "duration": 13,
    "start_time": "2022-12-28T07:47:05.317Z"
   },
   {
    "duration": 329,
    "start_time": "2022-12-28T07:47:29.677Z"
   },
   {
    "duration": 389,
    "start_time": "2022-12-28T07:48:28.200Z"
   },
   {
    "duration": 385,
    "start_time": "2022-12-28T07:49:09.883Z"
   },
   {
    "duration": 344,
    "start_time": "2022-12-28T07:49:14.825Z"
   },
   {
    "duration": 390,
    "start_time": "2022-12-28T07:49:45.274Z"
   },
   {
    "duration": 354,
    "start_time": "2022-12-28T07:50:10.414Z"
   },
   {
    "duration": 55,
    "start_time": "2022-12-28T09:55:27.400Z"
   },
   {
    "duration": 1644,
    "start_time": "2022-12-28T09:55:38.652Z"
   },
   {
    "duration": 91,
    "start_time": "2022-12-28T09:55:40.299Z"
   },
   {
    "duration": 14,
    "start_time": "2022-12-28T09:55:40.392Z"
   },
   {
    "duration": 12,
    "start_time": "2022-12-28T09:55:40.408Z"
   },
   {
    "duration": 27,
    "start_time": "2022-12-28T09:55:40.421Z"
   },
   {
    "duration": 597,
    "start_time": "2022-12-28T09:55:40.450Z"
   },
   {
    "duration": 418,
    "start_time": "2022-12-28T09:55:41.051Z"
   },
   {
    "duration": 4,
    "start_time": "2022-12-28T09:55:41.471Z"
   },
   {
    "duration": 8,
    "start_time": "2022-12-28T09:55:41.477Z"
   },
   {
    "duration": 168,
    "start_time": "2022-12-28T09:55:41.488Z"
   },
   {
    "duration": 4,
    "start_time": "2022-12-28T09:55:41.658Z"
   },
   {
    "duration": 152,
    "start_time": "2022-12-28T09:55:41.664Z"
   },
   {
    "duration": 5,
    "start_time": "2022-12-28T09:55:41.818Z"
   },
   {
    "duration": 8,
    "start_time": "2022-12-28T09:55:41.824Z"
   },
   {
    "duration": 27,
    "start_time": "2022-12-28T09:55:41.833Z"
   },
   {
    "duration": 12,
    "start_time": "2022-12-28T09:55:41.862Z"
   },
   {
    "duration": 39,
    "start_time": "2022-12-28T09:55:41.876Z"
   },
   {
    "duration": 4,
    "start_time": "2022-12-28T09:55:41.917Z"
   },
   {
    "duration": 52,
    "start_time": "2022-12-28T09:55:41.922Z"
   },
   {
    "duration": 4,
    "start_time": "2022-12-28T09:55:41.976Z"
   },
   {
    "duration": 8,
    "start_time": "2022-12-28T09:55:41.981Z"
   },
   {
    "duration": 12,
    "start_time": "2022-12-28T09:55:41.991Z"
   },
   {
    "duration": 14,
    "start_time": "2022-12-28T09:55:42.004Z"
   },
   {
    "duration": 5,
    "start_time": "2022-12-28T09:55:42.019Z"
   },
   {
    "duration": 1541,
    "start_time": "2022-12-29T01:57:12.791Z"
   },
   {
    "duration": 75,
    "start_time": "2022-12-29T01:57:14.335Z"
   },
   {
    "duration": 14,
    "start_time": "2022-12-29T01:57:14.411Z"
   },
   {
    "duration": 12,
    "start_time": "2022-12-29T01:57:14.427Z"
   },
   {
    "duration": 25,
    "start_time": "2022-12-29T01:57:14.441Z"
   },
   {
    "duration": 562,
    "start_time": "2022-12-29T01:57:14.468Z"
   },
   {
    "duration": 386,
    "start_time": "2022-12-29T01:57:15.031Z"
   },
   {
    "duration": 4,
    "start_time": "2022-12-29T01:57:15.419Z"
   },
   {
    "duration": 10,
    "start_time": "2022-12-29T01:57:15.425Z"
   },
   {
    "duration": 188,
    "start_time": "2022-12-29T01:57:15.437Z"
   },
   {
    "duration": 4,
    "start_time": "2022-12-29T01:57:15.627Z"
   },
   {
    "duration": 135,
    "start_time": "2022-12-29T01:57:15.633Z"
   },
   {
    "duration": 4,
    "start_time": "2022-12-29T01:57:15.770Z"
   },
   {
    "duration": 5,
    "start_time": "2022-12-29T01:57:15.778Z"
   },
   {
    "duration": 13,
    "start_time": "2022-12-29T01:57:15.784Z"
   },
   {
    "duration": 24,
    "start_time": "2022-12-29T01:57:15.799Z"
   },
   {
    "duration": 29,
    "start_time": "2022-12-29T01:57:15.824Z"
   },
   {
    "duration": 4,
    "start_time": "2022-12-29T01:57:15.855Z"
   },
   {
    "duration": 59,
    "start_time": "2022-12-29T01:57:15.860Z"
   },
   {
    "duration": 5,
    "start_time": "2022-12-29T01:57:15.920Z"
   },
   {
    "duration": 6,
    "start_time": "2022-12-29T01:57:15.926Z"
   },
   {
    "duration": 7,
    "start_time": "2022-12-29T01:57:15.934Z"
   },
   {
    "duration": 10,
    "start_time": "2022-12-29T01:57:15.943Z"
   },
   {
    "duration": 4,
    "start_time": "2022-12-29T01:57:15.954Z"
   },
   {
    "duration": 1597,
    "start_time": "2022-12-29T05:50:58.416Z"
   },
   {
    "duration": 30,
    "start_time": "2022-12-29T05:51:00.017Z"
   },
   {
    "duration": 19,
    "start_time": "2022-12-29T05:51:00.049Z"
   },
   {
    "duration": 27,
    "start_time": "2022-12-29T05:51:00.073Z"
   },
   {
    "duration": 50,
    "start_time": "2022-12-29T05:51:00.103Z"
   },
   {
    "duration": 618,
    "start_time": "2022-12-29T05:51:00.154Z"
   },
   {
    "duration": 432,
    "start_time": "2022-12-29T05:51:00.776Z"
   },
   {
    "duration": 9,
    "start_time": "2022-12-29T05:51:01.215Z"
   },
   {
    "duration": 30,
    "start_time": "2022-12-29T05:51:01.226Z"
   },
   {
    "duration": 69,
    "start_time": "2022-12-29T05:51:01.261Z"
   },
   {
    "duration": 7,
    "start_time": "2022-12-29T05:51:01.333Z"
   },
   {
    "duration": 77,
    "start_time": "2022-12-29T05:51:01.342Z"
   },
   {
    "duration": 5,
    "start_time": "2022-12-29T05:51:01.421Z"
   },
   {
    "duration": 39,
    "start_time": "2022-12-29T05:51:01.428Z"
   },
   {
    "duration": 43,
    "start_time": "2022-12-29T05:51:01.470Z"
   },
   {
    "duration": 35,
    "start_time": "2022-12-29T05:51:01.515Z"
   },
   {
    "duration": 16,
    "start_time": "2022-12-29T05:51:01.552Z"
   },
   {
    "duration": 46,
    "start_time": "2023-01-21T16:18:29.456Z"
   },
   {
    "duration": 1534,
    "start_time": "2023-01-21T16:18:38.584Z"
   },
   {
    "duration": 2986,
    "start_time": "2023-01-21T16:18:43.769Z"
   }
  ],
  "kernelspec": {
   "display_name": "Python 3 (ipykernel)",
   "language": "python",
   "name": "python3"
  },
  "language_info": {
   "codemirror_mode": {
    "name": "ipython",
    "version": 3
   },
   "file_extension": ".py",
   "mimetype": "text/x-python",
   "name": "python",
   "nbconvert_exporter": "python",
   "pygments_lexer": "ipython3",
   "version": "3.9.12"
  },
  "toc": {
   "base_numbering": 1,
   "nav_menu": {},
   "number_sections": true,
   "sideBar": true,
   "skip_h1_title": true,
   "title_cell": "Содержание",
   "title_sidebar": "Contents",
   "toc_cell": true,
   "toc_position": {
    "height": "calc(100% - 180px)",
    "left": "10px",
    "top": "150px",
    "width": "263.075px"
   },
   "toc_section_display": true,
   "toc_window_display": false
  }
 },
 "nbformat": 4,
 "nbformat_minor": 2
}
