{
 "cells": [
  {
   "cell_type": "markdown",
   "metadata": {},
   "source": [
    "# Exploration of New Oil Fields Regions Using ML Models"
   ]
  },
  {
   "cell_type": "markdown",
   "metadata": {},
   "source": [
    "The purpose of this study is to find the optimal solution for determining the most profitable field with the least probability of loss.\n",
    "\n",
    "We have data from 100,000 oil samples in three regions, where various characteristics and reserves have been measured. We need to build a machine learning model that will help determine the region where mining will bring the greatest profit. We will analyze the possible profit and risks using the Bootstrap technique.\n",
    "\n",
    "**Conditions for choosing the region of the oil field**\n",
    "\n",
    "When exploring a region, we examine 500 points, from which, using machine learning, we select the best 200 for development. The budget for the development of wells in the region is 10 billion rubles. At current prices, one barrel of raw materials brings 450 rubles of income. Highest loss probability 2.5%"
   ]
  },
  {
   "cell_type": "markdown",
   "metadata": {},
   "source": [
    "## Loading and Preparing Data"
   ]
  },
  {
   "cell_type": "code",
   "execution_count": 1,
   "metadata": {},
   "outputs": [],
   "source": [
    "import matplotlib.pyplot as plt\n",
    "import numpy as np\n",
    "import pandas as pd\n",
    "import seaborn as sns\n",
    "import warnings\n",
    "from scipy import stats as st\n",
    "from sklearn.model_selection import train_test_split\n",
    "from sklearn.preprocessing import StandardScaler\n",
    "from sklearn.linear_model import LinearRegression\n",
    "from sklearn.metrics import mean_squared_error\n",
    "\n",
    "sns.set(rc={'figure.figsize':(12, 8)}, palette='Set2', font_scale=1.25)\n",
    "warnings.filterwarnings('ignore')"
   ]
  },
  {
   "cell_type": "markdown",
   "metadata": {},
   "source": [
    "###  Filling in the constant variables"
   ]
  },
  {
   "cell_type": "markdown",
   "metadata": {},
   "source": [
    "The cost of one thousand barrels of oil (thousand rubles)."
   ]
  },
  {
   "cell_type": "code",
   "execution_count": 2,
   "metadata": {},
   "outputs": [],
   "source": [
    "PRICE_PER_BARREL = 450"
   ]
  },
  {
   "cell_type": "markdown",
   "metadata": {},
   "source": [
    "The budget for the development of the field is 10 billion rubles. Let's convert to thousands. rubles."
   ]
  },
  {
   "cell_type": "code",
   "execution_count": 3,
   "metadata": {},
   "outputs": [],
   "source": [
    "BUDGET = 10_000_000"
   ]
  },
  {
   "cell_type": "markdown",
   "metadata": {},
   "source": [
    "The maximum allowable loss probability: 2.5% for the convenience of calculations, we will immediately indicate in shares."
   ]
  },
  {
   "cell_type": "code",
   "execution_count": 4,
   "metadata": {},
   "outputs": [],
   "source": [
    "MAX_LOSS = 0.025"
   ]
  },
  {
   "cell_type": "markdown",
   "metadata": {},
   "source": [
    "Number of investigated wells."
   ]
  },
  {
   "cell_type": "code",
   "execution_count": 5,
   "metadata": {},
   "outputs": [],
   "source": [
    "RESEARCH_WELLS_NUM = 500"
   ]
  },
  {
   "cell_type": "markdown",
   "metadata": {},
   "source": [
    "Number of wells selected for production."
   ]
  },
  {
   "cell_type": "code",
   "execution_count": 6,
   "metadata": {},
   "outputs": [],
   "source": [
    "BEST_WELLS_NUM = 200"
   ]
  },
  {
   "cell_type": "markdown",
   "metadata": {},
   "source": [
    "Random State"
   ]
  },
  {
   "cell_type": "code",
   "execution_count": 7,
   "metadata": {},
   "outputs": [],
   "source": [
    "RS = 23"
   ]
  },
  {
   "cell_type": "markdown",
   "metadata": {},
   "source": [
    "### Data loading"
   ]
  },
  {
   "cell_type": "code",
   "execution_count": 8,
   "metadata": {},
   "outputs": [],
   "source": [
    "# Loading data for all 3 regions\n",
    "data_reg0 = pd.read_csv('datasets/geo_data_0.csv')\n",
    "data_reg1 = pd.read_csv('datasets/geo_data_1.csv')\n",
    "data_reg2 = pd.read_csv('datasets/geo_data_2.csv')"
   ]
  },
  {
   "cell_type": "markdown",
   "metadata": {},
   "source": [
    "###  EDA"
   ]
  },
  {
   "cell_type": "markdown",
   "metadata": {},
   "source": [
    "Consider the tables for all three regions"
   ]
  },
  {
   "cell_type": "code",
   "execution_count": 9,
   "metadata": {
    "scrolled": false
   },
   "outputs": [
    {
     "name": "stdout",
     "output_type": "stream",
     "text": [
      "<class 'pandas.core.frame.DataFrame'>\n",
      "RangeIndex: 100000 entries, 0 to 99999\n",
      "Data columns (total 5 columns):\n",
      " #   Column   Non-Null Count   Dtype  \n",
      "---  ------   --------------   -----  \n",
      " 0   id       100000 non-null  object \n",
      " 1   f0       100000 non-null  float64\n",
      " 2   f1       100000 non-null  float64\n",
      " 3   f2       100000 non-null  float64\n",
      " 4   product  100000 non-null  float64\n",
      "dtypes: float64(4), object(1)\n",
      "memory usage: 3.8+ MB\n"
     ]
    }
   ],
   "source": [
    "data_reg0.info()"
   ]
  },
  {
   "cell_type": "code",
   "execution_count": 10,
   "metadata": {
    "scrolled": false
   },
   "outputs": [
    {
     "name": "stdout",
     "output_type": "stream",
     "text": [
      "<class 'pandas.core.frame.DataFrame'>\n",
      "RangeIndex: 100000 entries, 0 to 99999\n",
      "Data columns (total 5 columns):\n",
      " #   Column   Non-Null Count   Dtype  \n",
      "---  ------   --------------   -----  \n",
      " 0   id       100000 non-null  object \n",
      " 1   f0       100000 non-null  float64\n",
      " 2   f1       100000 non-null  float64\n",
      " 3   f2       100000 non-null  float64\n",
      " 4   product  100000 non-null  float64\n",
      "dtypes: float64(4), object(1)\n",
      "memory usage: 3.8+ MB\n"
     ]
    }
   ],
   "source": [
    "data_reg1.info()"
   ]
  },
  {
   "cell_type": "code",
   "execution_count": 11,
   "metadata": {
    "scrolled": false
   },
   "outputs": [
    {
     "name": "stdout",
     "output_type": "stream",
     "text": [
      "<class 'pandas.core.frame.DataFrame'>\n",
      "RangeIndex: 100000 entries, 0 to 99999\n",
      "Data columns (total 5 columns):\n",
      " #   Column   Non-Null Count   Dtype  \n",
      "---  ------   --------------   -----  \n",
      " 0   id       100000 non-null  object \n",
      " 1   f0       100000 non-null  float64\n",
      " 2   f1       100000 non-null  float64\n",
      " 3   f2       100000 non-null  float64\n",
      " 4   product  100000 non-null  float64\n",
      "dtypes: float64(4), object(1)\n",
      "memory usage: 3.8+ MB\n"
     ]
    }
   ],
   "source": [
    "data_reg1.info()"
   ]
  },
  {
   "cell_type": "markdown",
   "metadata": {},
   "source": [
    "All three regions have the same amount of data. No missing values were found in the data."
   ]
  },
  {
   "cell_type": "code",
   "execution_count": 12,
   "metadata": {
    "scrolled": true
   },
   "outputs": [
    {
     "data": {
      "text/html": [
       "<div>\n",
       "<style scoped>\n",
       "    .dataframe tbody tr th:only-of-type {\n",
       "        vertical-align: middle;\n",
       "    }\n",
       "\n",
       "    .dataframe tbody tr th {\n",
       "        vertical-align: top;\n",
       "    }\n",
       "\n",
       "    .dataframe thead th {\n",
       "        text-align: right;\n",
       "    }\n",
       "</style>\n",
       "<table border=\"1\" class=\"dataframe\">\n",
       "  <thead>\n",
       "    <tr style=\"text-align: right;\">\n",
       "      <th></th>\n",
       "      <th>f0</th>\n",
       "      <th>f1</th>\n",
       "      <th>f2</th>\n",
       "      <th>product</th>\n",
       "    </tr>\n",
       "  </thead>\n",
       "  <tbody>\n",
       "    <tr>\n",
       "      <th>count</th>\n",
       "      <td>100000.000000</td>\n",
       "      <td>100000.000000</td>\n",
       "      <td>100000.000000</td>\n",
       "      <td>100000.000000</td>\n",
       "    </tr>\n",
       "    <tr>\n",
       "      <th>mean</th>\n",
       "      <td>0.500419</td>\n",
       "      <td>0.250143</td>\n",
       "      <td>2.502647</td>\n",
       "      <td>92.500000</td>\n",
       "    </tr>\n",
       "    <tr>\n",
       "      <th>std</th>\n",
       "      <td>0.871832</td>\n",
       "      <td>0.504433</td>\n",
       "      <td>3.248248</td>\n",
       "      <td>44.288691</td>\n",
       "    </tr>\n",
       "    <tr>\n",
       "      <th>min</th>\n",
       "      <td>-1.408605</td>\n",
       "      <td>-0.848218</td>\n",
       "      <td>-12.088328</td>\n",
       "      <td>0.000000</td>\n",
       "    </tr>\n",
       "    <tr>\n",
       "      <th>25%</th>\n",
       "      <td>-0.072580</td>\n",
       "      <td>-0.200881</td>\n",
       "      <td>0.287748</td>\n",
       "      <td>56.497507</td>\n",
       "    </tr>\n",
       "    <tr>\n",
       "      <th>50%</th>\n",
       "      <td>0.502360</td>\n",
       "      <td>0.250252</td>\n",
       "      <td>2.515969</td>\n",
       "      <td>91.849972</td>\n",
       "    </tr>\n",
       "    <tr>\n",
       "      <th>75%</th>\n",
       "      <td>1.073581</td>\n",
       "      <td>0.700646</td>\n",
       "      <td>4.715088</td>\n",
       "      <td>128.564089</td>\n",
       "    </tr>\n",
       "    <tr>\n",
       "      <th>max</th>\n",
       "      <td>2.362331</td>\n",
       "      <td>1.343769</td>\n",
       "      <td>16.003790</td>\n",
       "      <td>185.364347</td>\n",
       "    </tr>\n",
       "  </tbody>\n",
       "</table>\n",
       "</div>"
      ],
      "text/plain": [
       "                  f0             f1             f2        product\n",
       "count  100000.000000  100000.000000  100000.000000  100000.000000\n",
       "mean        0.500419       0.250143       2.502647      92.500000\n",
       "std         0.871832       0.504433       3.248248      44.288691\n",
       "min        -1.408605      -0.848218     -12.088328       0.000000\n",
       "25%        -0.072580      -0.200881       0.287748      56.497507\n",
       "50%         0.502360       0.250252       2.515969      91.849972\n",
       "75%         1.073581       0.700646       4.715088     128.564089\n",
       "max         2.362331       1.343769      16.003790     185.364347"
      ]
     },
     "execution_count": 12,
     "metadata": {},
     "output_type": "execute_result"
    }
   ],
   "source": [
    "data_reg0.describe()"
   ]
  },
  {
   "cell_type": "code",
   "execution_count": 13,
   "metadata": {
    "scrolled": true
   },
   "outputs": [
    {
     "data": {
      "text/html": [
       "<div>\n",
       "<style scoped>\n",
       "    .dataframe tbody tr th:only-of-type {\n",
       "        vertical-align: middle;\n",
       "    }\n",
       "\n",
       "    .dataframe tbody tr th {\n",
       "        vertical-align: top;\n",
       "    }\n",
       "\n",
       "    .dataframe thead th {\n",
       "        text-align: right;\n",
       "    }\n",
       "</style>\n",
       "<table border=\"1\" class=\"dataframe\">\n",
       "  <thead>\n",
       "    <tr style=\"text-align: right;\">\n",
       "      <th></th>\n",
       "      <th>f0</th>\n",
       "      <th>f1</th>\n",
       "      <th>f2</th>\n",
       "      <th>product</th>\n",
       "    </tr>\n",
       "  </thead>\n",
       "  <tbody>\n",
       "    <tr>\n",
       "      <th>count</th>\n",
       "      <td>100000.000000</td>\n",
       "      <td>100000.000000</td>\n",
       "      <td>100000.000000</td>\n",
       "      <td>100000.000000</td>\n",
       "    </tr>\n",
       "    <tr>\n",
       "      <th>mean</th>\n",
       "      <td>1.141296</td>\n",
       "      <td>-4.796579</td>\n",
       "      <td>2.494541</td>\n",
       "      <td>68.825000</td>\n",
       "    </tr>\n",
       "    <tr>\n",
       "      <th>std</th>\n",
       "      <td>8.965932</td>\n",
       "      <td>5.119872</td>\n",
       "      <td>1.703572</td>\n",
       "      <td>45.944423</td>\n",
       "    </tr>\n",
       "    <tr>\n",
       "      <th>min</th>\n",
       "      <td>-31.609576</td>\n",
       "      <td>-26.358598</td>\n",
       "      <td>-0.018144</td>\n",
       "      <td>0.000000</td>\n",
       "    </tr>\n",
       "    <tr>\n",
       "      <th>25%</th>\n",
       "      <td>-6.298551</td>\n",
       "      <td>-8.267985</td>\n",
       "      <td>1.000021</td>\n",
       "      <td>26.953261</td>\n",
       "    </tr>\n",
       "    <tr>\n",
       "      <th>50%</th>\n",
       "      <td>1.153055</td>\n",
       "      <td>-4.813172</td>\n",
       "      <td>2.011479</td>\n",
       "      <td>57.085625</td>\n",
       "    </tr>\n",
       "    <tr>\n",
       "      <th>75%</th>\n",
       "      <td>8.621015</td>\n",
       "      <td>-1.332816</td>\n",
       "      <td>3.999904</td>\n",
       "      <td>107.813044</td>\n",
       "    </tr>\n",
       "    <tr>\n",
       "      <th>max</th>\n",
       "      <td>29.421755</td>\n",
       "      <td>18.734063</td>\n",
       "      <td>5.019721</td>\n",
       "      <td>137.945408</td>\n",
       "    </tr>\n",
       "  </tbody>\n",
       "</table>\n",
       "</div>"
      ],
      "text/plain": [
       "                  f0             f1             f2        product\n",
       "count  100000.000000  100000.000000  100000.000000  100000.000000\n",
       "mean        1.141296      -4.796579       2.494541      68.825000\n",
       "std         8.965932       5.119872       1.703572      45.944423\n",
       "min       -31.609576     -26.358598      -0.018144       0.000000\n",
       "25%        -6.298551      -8.267985       1.000021      26.953261\n",
       "50%         1.153055      -4.813172       2.011479      57.085625\n",
       "75%         8.621015      -1.332816       3.999904     107.813044\n",
       "max        29.421755      18.734063       5.019721     137.945408"
      ]
     },
     "execution_count": 13,
     "metadata": {},
     "output_type": "execute_result"
    }
   ],
   "source": [
    "data_reg1.describe()"
   ]
  },
  {
   "cell_type": "code",
   "execution_count": 14,
   "metadata": {
    "scrolled": true
   },
   "outputs": [
    {
     "data": {
      "text/html": [
       "<div>\n",
       "<style scoped>\n",
       "    .dataframe tbody tr th:only-of-type {\n",
       "        vertical-align: middle;\n",
       "    }\n",
       "\n",
       "    .dataframe tbody tr th {\n",
       "        vertical-align: top;\n",
       "    }\n",
       "\n",
       "    .dataframe thead th {\n",
       "        text-align: right;\n",
       "    }\n",
       "</style>\n",
       "<table border=\"1\" class=\"dataframe\">\n",
       "  <thead>\n",
       "    <tr style=\"text-align: right;\">\n",
       "      <th></th>\n",
       "      <th>f0</th>\n",
       "      <th>f1</th>\n",
       "      <th>f2</th>\n",
       "      <th>product</th>\n",
       "    </tr>\n",
       "  </thead>\n",
       "  <tbody>\n",
       "    <tr>\n",
       "      <th>count</th>\n",
       "      <td>100000.000000</td>\n",
       "      <td>100000.000000</td>\n",
       "      <td>100000.000000</td>\n",
       "      <td>100000.000000</td>\n",
       "    </tr>\n",
       "    <tr>\n",
       "      <th>mean</th>\n",
       "      <td>0.002023</td>\n",
       "      <td>-0.002081</td>\n",
       "      <td>2.495128</td>\n",
       "      <td>95.000000</td>\n",
       "    </tr>\n",
       "    <tr>\n",
       "      <th>std</th>\n",
       "      <td>1.732045</td>\n",
       "      <td>1.730417</td>\n",
       "      <td>3.473445</td>\n",
       "      <td>44.749921</td>\n",
       "    </tr>\n",
       "    <tr>\n",
       "      <th>min</th>\n",
       "      <td>-8.760004</td>\n",
       "      <td>-7.084020</td>\n",
       "      <td>-11.970335</td>\n",
       "      <td>0.000000</td>\n",
       "    </tr>\n",
       "    <tr>\n",
       "      <th>25%</th>\n",
       "      <td>-1.162288</td>\n",
       "      <td>-1.174820</td>\n",
       "      <td>0.130359</td>\n",
       "      <td>59.450441</td>\n",
       "    </tr>\n",
       "    <tr>\n",
       "      <th>50%</th>\n",
       "      <td>0.009424</td>\n",
       "      <td>-0.009482</td>\n",
       "      <td>2.484236</td>\n",
       "      <td>94.925613</td>\n",
       "    </tr>\n",
       "    <tr>\n",
       "      <th>75%</th>\n",
       "      <td>1.158535</td>\n",
       "      <td>1.163678</td>\n",
       "      <td>4.858794</td>\n",
       "      <td>130.595027</td>\n",
       "    </tr>\n",
       "    <tr>\n",
       "      <th>max</th>\n",
       "      <td>7.238262</td>\n",
       "      <td>7.844801</td>\n",
       "      <td>16.739402</td>\n",
       "      <td>190.029838</td>\n",
       "    </tr>\n",
       "  </tbody>\n",
       "</table>\n",
       "</div>"
      ],
      "text/plain": [
       "                  f0             f1             f2        product\n",
       "count  100000.000000  100000.000000  100000.000000  100000.000000\n",
       "mean        0.002023      -0.002081       2.495128      95.000000\n",
       "std         1.732045       1.730417       3.473445      44.749921\n",
       "min        -8.760004      -7.084020     -11.970335       0.000000\n",
       "25%        -1.162288      -1.174820       0.130359      59.450441\n",
       "50%         0.009424      -0.009482       2.484236      94.925613\n",
       "75%         1.158535       1.163678       4.858794     130.595027\n",
       "max         7.238262       7.844801      16.739402     190.029838"
      ]
     },
     "execution_count": 14,
     "metadata": {},
     "output_type": "execute_result"
    }
   ],
   "source": [
    "data_reg2.describe()"
   ]
  },
  {
   "cell_type": "markdown",
   "metadata": {},
   "source": [
    "The data distributions are noticeably different. We construct distribution graphs for all features."
   ]
  },
  {
   "cell_type": "code",
   "execution_count": 15,
   "metadata": {},
   "outputs": [
    {
     "data": {
      "image/png": "[encoded data removed]",
      "text/plain": [
       "<Figure size 864x576 with 9 Axes>"
      ]
     },
     "metadata": {},
     "output_type": "display_data"
    }
   ],
   "source": [
    "fig = plt.figure(constrained_layout=True, figsize=(12, 8))\n",
    "subfigs = fig.subfigures(1, 3)\n",
    "data = [data_reg0, data_reg1, data_reg2]\n",
    "\n",
    "for outerind, (subfig, data_reg) in enumerate(zip(subfigs.flat, data), start=0):\n",
    "    subfig.suptitle(f'Region {outerind}')\n",
    "    axs = subfig.subplots(3, 1)\n",
    "    for ax, col in zip(axs.flat, data_reg.columns[1:-1]):\n",
    "        ax.hist(data_reg[col], bins=30)\n",
    "        ax.set_title(f'column {col}', fontsize=16)\n",
    "        ax.set_xticks([])\n",
    "        ax.set_yticks([])\n",
    "\n",
    "plt.show();"
   ]
  },
  {
   "cell_type": "markdown",
   "metadata": {},
   "source": [
    "And for product"
   ]
  },
  {
   "cell_type": "code",
   "execution_count": 16,
   "metadata": {},
   "outputs": [
    {
     "data": {
      "image/png": "[encoded data removed]",
      "text/plain": [
       "<Figure size 864x360 with 6 Axes>"
      ]
     },
     "metadata": {},
     "output_type": "display_data"
    }
   ],
   "source": [
    "fig = plt.figure(constrained_layout=True, figsize=(12, 5))\n",
    "subfigs = fig.subfigures(1, 3)\n",
    "data = [data_reg0, data_reg1, data_reg2]\n",
    "\n",
    "for outerind, (subfig, data_reg) in enumerate(zip(subfigs, data), start=0):\n",
    "    subfig.suptitle(f'Region {outerind}')\n",
    "    (ax_box, ax_hist) = subfig.subplots(2, sharex=True, gridspec_kw={\"height_ratios\": (.15, .85)})\n",
    "    sns.boxplot(data_reg['product'], ax=ax_box)\n",
    "    sns.histplot(data=data_reg, x='product', ax=ax_hist, bins=50)\n",
    "    ax_box.set(xlabel='')\n",
    "\n",
    "fig.suptitle('Product Distributions by Regions')\n",
    "plt.show();"
   ]
  },
  {
   "cell_type": "markdown",
   "metadata": {},
   "source": [
    "The average value for the product in region 0 and region 2 is similar, in region 1 it is much lower. Now lets explore the correlation of features."
   ]
  },
  {
   "cell_type": "code",
   "execution_count": 17,
   "metadata": {
    "scrolled": true
   },
   "outputs": [
    {
     "data": {
      "image/png": "[encoded data removed]",
      "text/plain": [
       "<Figure size 1080x288 with 6 Axes>"
      ]
     },
     "metadata": {},
     "output_type": "display_data"
    }
   ],
   "source": [
    "fig, ax = plt.subplots(1, 3, figsize=(15, 4))\n",
    "for i, data_reg in enumerate(data, start=0):\n",
    "    sns.heatmap(data_reg.corr(), vmin = -1, vmax = +1, annot = True, cmap = 'coolwarm', ax=ax[i], fmt='.2f')\n",
    "    ax[i].set_title(f'Region {i}')"
   ]
  },
  {
   "cell_type": "markdown",
   "metadata": {},
   "source": [
    "In the data for region 0, we can observe a significant correlation between features f0 and f1. The trait f2 correlates with the target trait in all three regions. The strongest correlation of the feature f2 and the target feature in the data for region 1."
   ]
  },
  {
   "cell_type": "markdown",
   "metadata": {},
   "source": [
    "#### Check for duplicates"
   ]
  },
  {
   "cell_type": "markdown",
   "metadata": {},
   "source": [
    "Let's check if all the data has a unique id."
   ]
  },
  {
   "cell_type": "markdown",
   "metadata": {},
   "source": [
    "**Region 0**"
   ]
  },
  {
   "cell_type": "code",
   "execution_count": 18,
   "metadata": {
    "scrolled": false
   },
   "outputs": [
    {
     "data": {
      "text/plain": [
       "10"
      ]
     },
     "execution_count": 18,
     "metadata": {},
     "output_type": "execute_result"
    }
   ],
   "source": [
    "data_reg0['id'].duplicated().sum()"
   ]
  },
  {
   "cell_type": "markdown",
   "metadata": {},
   "source": [
    "Found 10 records with duplicate id. Let's consider this data further."
   ]
  },
  {
   "cell_type": "code",
   "execution_count": 19,
   "metadata": {},
   "outputs": [],
   "source": [
    "duplicated_ids = list(data_reg0.query('id.duplicated()')['id'])"
   ]
  },
  {
   "cell_type": "code",
   "execution_count": 20,
   "metadata": {},
   "outputs": [
    {
     "data": {
      "text/html": [
       "<div>\n",
       "<style scoped>\n",
       "    .dataframe tbody tr th:only-of-type {\n",
       "        vertical-align: middle;\n",
       "    }\n",
       "\n",
       "    .dataframe tbody tr th {\n",
       "        vertical-align: top;\n",
       "    }\n",
       "\n",
       "    .dataframe thead th {\n",
       "        text-align: right;\n",
       "    }\n",
       "</style>\n",
       "<table border=\"1\" class=\"dataframe\">\n",
       "  <thead>\n",
       "    <tr style=\"text-align: right;\">\n",
       "      <th></th>\n",
       "      <th>id</th>\n",
       "      <th>f0</th>\n",
       "      <th>f1</th>\n",
       "      <th>f2</th>\n",
       "      <th>product</th>\n",
       "    </tr>\n",
       "  </thead>\n",
       "  <tbody>\n",
       "    <tr>\n",
       "      <th>66136</th>\n",
       "      <td>74z30</td>\n",
       "      <td>1.084962</td>\n",
       "      <td>-0.312358</td>\n",
       "      <td>6.990771</td>\n",
       "      <td>127.643327</td>\n",
       "    </tr>\n",
       "    <tr>\n",
       "      <th>64022</th>\n",
       "      <td>74z30</td>\n",
       "      <td>0.741456</td>\n",
       "      <td>0.459229</td>\n",
       "      <td>5.153109</td>\n",
       "      <td>140.771492</td>\n",
       "    </tr>\n",
       "    <tr>\n",
       "      <th>51970</th>\n",
       "      <td>A5aEY</td>\n",
       "      <td>-0.180335</td>\n",
       "      <td>0.935548</td>\n",
       "      <td>-2.094773</td>\n",
       "      <td>33.020205</td>\n",
       "    </tr>\n",
       "    <tr>\n",
       "      <th>3389</th>\n",
       "      <td>A5aEY</td>\n",
       "      <td>-0.039949</td>\n",
       "      <td>0.156872</td>\n",
       "      <td>0.209861</td>\n",
       "      <td>89.249364</td>\n",
       "    </tr>\n",
       "    <tr>\n",
       "      <th>69163</th>\n",
       "      <td>AGS9W</td>\n",
       "      <td>-0.933795</td>\n",
       "      <td>0.116194</td>\n",
       "      <td>-3.655896</td>\n",
       "      <td>19.230453</td>\n",
       "    </tr>\n",
       "    <tr>\n",
       "      <th>42529</th>\n",
       "      <td>AGS9W</td>\n",
       "      <td>1.454747</td>\n",
       "      <td>-0.479651</td>\n",
       "      <td>0.683380</td>\n",
       "      <td>126.370504</td>\n",
       "    </tr>\n",
       "    <tr>\n",
       "      <th>931</th>\n",
       "      <td>HZww2</td>\n",
       "      <td>0.755284</td>\n",
       "      <td>0.368511</td>\n",
       "      <td>1.863211</td>\n",
       "      <td>30.681774</td>\n",
       "    </tr>\n",
       "    <tr>\n",
       "      <th>7530</th>\n",
       "      <td>HZww2</td>\n",
       "      <td>1.061194</td>\n",
       "      <td>-0.373969</td>\n",
       "      <td>10.430210</td>\n",
       "      <td>158.828695</td>\n",
       "    </tr>\n",
       "    <tr>\n",
       "      <th>63593</th>\n",
       "      <td>QcMuo</td>\n",
       "      <td>0.635635</td>\n",
       "      <td>-0.473422</td>\n",
       "      <td>0.862670</td>\n",
       "      <td>64.578675</td>\n",
       "    </tr>\n",
       "    <tr>\n",
       "      <th>1949</th>\n",
       "      <td>QcMuo</td>\n",
       "      <td>0.506563</td>\n",
       "      <td>-0.323775</td>\n",
       "      <td>-2.215583</td>\n",
       "      <td>75.496502</td>\n",
       "    </tr>\n",
       "  </tbody>\n",
       "</table>\n",
       "</div>"
      ],
      "text/plain": [
       "          id        f0        f1         f2     product\n",
       "66136  74z30  1.084962 -0.312358   6.990771  127.643327\n",
       "64022  74z30  0.741456  0.459229   5.153109  140.771492\n",
       "51970  A5aEY -0.180335  0.935548  -2.094773   33.020205\n",
       "3389   A5aEY -0.039949  0.156872   0.209861   89.249364\n",
       "69163  AGS9W -0.933795  0.116194  -3.655896   19.230453\n",
       "42529  AGS9W  1.454747 -0.479651   0.683380  126.370504\n",
       "931    HZww2  0.755284  0.368511   1.863211   30.681774\n",
       "7530   HZww2  1.061194 -0.373969  10.430210  158.828695\n",
       "63593  QcMuo  0.635635 -0.473422   0.862670   64.578675\n",
       "1949   QcMuo  0.506563 -0.323775  -2.215583   75.496502"
      ]
     },
     "execution_count": 20,
     "metadata": {},
     "output_type": "execute_result"
    }
   ],
   "source": [
    "data_reg0.query('id == @duplicated_ids').sort_values(by='id').head(10)"
   ]
  },
  {
   "cell_type": "markdown",
   "metadata": {},
   "source": [
    "**Region 1**"
   ]
  },
  {
   "cell_type": "markdown",
   "metadata": {},
   "source": [
    "Let's check if all the data has a unique id."
   ]
  },
  {
   "cell_type": "code",
   "execution_count": 21,
   "metadata": {
    "scrolled": false
   },
   "outputs": [
    {
     "data": {
      "text/plain": [
       "4"
      ]
     },
     "execution_count": 21,
     "metadata": {},
     "output_type": "execute_result"
    }
   ],
   "source": [
    "data_reg1['id'].duplicated().sum()"
   ]
  },
  {
   "cell_type": "markdown",
   "metadata": {},
   "source": [
    "Found 4 records id in which duplicated. Let's consider this data further."
   ]
  },
  {
   "cell_type": "code",
   "execution_count": 22,
   "metadata": {},
   "outputs": [],
   "source": [
    "duplicated_ids = list(data_reg1.query('id.duplicated()')['id'])"
   ]
  },
  {
   "cell_type": "code",
   "execution_count": 23,
   "metadata": {},
   "outputs": [
    {
     "data": {
      "text/html": [
       "<div>\n",
       "<style scoped>\n",
       "    .dataframe tbody tr th:only-of-type {\n",
       "        vertical-align: middle;\n",
       "    }\n",
       "\n",
       "    .dataframe tbody tr th {\n",
       "        vertical-align: top;\n",
       "    }\n",
       "\n",
       "    .dataframe thead th {\n",
       "        text-align: right;\n",
       "    }\n",
       "</style>\n",
       "<table border=\"1\" class=\"dataframe\">\n",
       "  <thead>\n",
       "    <tr style=\"text-align: right;\">\n",
       "      <th></th>\n",
       "      <th>id</th>\n",
       "      <th>f0</th>\n",
       "      <th>f1</th>\n",
       "      <th>f2</th>\n",
       "      <th>product</th>\n",
       "    </tr>\n",
       "  </thead>\n",
       "  <tbody>\n",
       "    <tr>\n",
       "      <th>5849</th>\n",
       "      <td>5ltQ6</td>\n",
       "      <td>-3.435401</td>\n",
       "      <td>-12.296043</td>\n",
       "      <td>1.999796</td>\n",
       "      <td>57.085625</td>\n",
       "    </tr>\n",
       "    <tr>\n",
       "      <th>84461</th>\n",
       "      <td>5ltQ6</td>\n",
       "      <td>18.213839</td>\n",
       "      <td>2.191999</td>\n",
       "      <td>3.993869</td>\n",
       "      <td>107.813044</td>\n",
       "    </tr>\n",
       "    <tr>\n",
       "      <th>1305</th>\n",
       "      <td>LHZR0</td>\n",
       "      <td>11.170835</td>\n",
       "      <td>-1.945066</td>\n",
       "      <td>3.002872</td>\n",
       "      <td>80.859783</td>\n",
       "    </tr>\n",
       "    <tr>\n",
       "      <th>41906</th>\n",
       "      <td>LHZR0</td>\n",
       "      <td>-8.989672</td>\n",
       "      <td>-4.286607</td>\n",
       "      <td>2.009139</td>\n",
       "      <td>57.085625</td>\n",
       "    </tr>\n",
       "    <tr>\n",
       "      <th>2721</th>\n",
       "      <td>bfPNe</td>\n",
       "      <td>-9.494442</td>\n",
       "      <td>-5.463692</td>\n",
       "      <td>4.006042</td>\n",
       "      <td>110.992147</td>\n",
       "    </tr>\n",
       "    <tr>\n",
       "      <th>82178</th>\n",
       "      <td>bfPNe</td>\n",
       "      <td>-6.202799</td>\n",
       "      <td>-4.820045</td>\n",
       "      <td>2.995107</td>\n",
       "      <td>84.038886</td>\n",
       "    </tr>\n",
       "    <tr>\n",
       "      <th>47591</th>\n",
       "      <td>wt4Uk</td>\n",
       "      <td>-9.091098</td>\n",
       "      <td>-8.109279</td>\n",
       "      <td>-0.002314</td>\n",
       "      <td>3.179103</td>\n",
       "    </tr>\n",
       "    <tr>\n",
       "      <th>82873</th>\n",
       "      <td>wt4Uk</td>\n",
       "      <td>10.259972</td>\n",
       "      <td>-9.376355</td>\n",
       "      <td>4.994297</td>\n",
       "      <td>134.766305</td>\n",
       "    </tr>\n",
       "  </tbody>\n",
       "</table>\n",
       "</div>"
      ],
      "text/plain": [
       "          id         f0         f1        f2     product\n",
       "5849   5ltQ6  -3.435401 -12.296043  1.999796   57.085625\n",
       "84461  5ltQ6  18.213839   2.191999  3.993869  107.813044\n",
       "1305   LHZR0  11.170835  -1.945066  3.002872   80.859783\n",
       "41906  LHZR0  -8.989672  -4.286607  2.009139   57.085625\n",
       "2721   bfPNe  -9.494442  -5.463692  4.006042  110.992147\n",
       "82178  bfPNe  -6.202799  -4.820045  2.995107   84.038886\n",
       "47591  wt4Uk  -9.091098  -8.109279 -0.002314    3.179103\n",
       "82873  wt4Uk  10.259972  -9.376355  4.994297  134.766305"
      ]
     },
     "execution_count": 23,
     "metadata": {},
     "output_type": "execute_result"
    }
   ],
   "source": [
    "data_reg1.query('id == @duplicated_ids').sort_values(by='id')"
   ]
  },
  {
   "cell_type": "markdown",
   "metadata": {},
   "source": [
    "**Region 2**"
   ]
  },
  {
   "cell_type": "code",
   "execution_count": 24,
   "metadata": {
    "scrolled": true
   },
   "outputs": [
    {
     "data": {
      "text/plain": [
       "4"
      ]
     },
     "execution_count": 24,
     "metadata": {},
     "output_type": "execute_result"
    }
   ],
   "source": [
    "data_reg2['id'].duplicated().sum()"
   ]
  },
  {
   "cell_type": "markdown",
   "metadata": {},
   "source": [
    "Let's check if all the data has a unique id."
   ]
  },
  {
   "cell_type": "code",
   "execution_count": 25,
   "metadata": {},
   "outputs": [],
   "source": [
    "duplicated_ids = list(data_reg2.query('id.duplicated()')['id'])"
   ]
  },
  {
   "cell_type": "code",
   "execution_count": 26,
   "metadata": {
    "scrolled": true
   },
   "outputs": [
    {
     "data": {
      "text/html": [
       "<div>\n",
       "<style scoped>\n",
       "    .dataframe tbody tr th:only-of-type {\n",
       "        vertical-align: middle;\n",
       "    }\n",
       "\n",
       "    .dataframe tbody tr th {\n",
       "        vertical-align: top;\n",
       "    }\n",
       "\n",
       "    .dataframe thead th {\n",
       "        text-align: right;\n",
       "    }\n",
       "</style>\n",
       "<table border=\"1\" class=\"dataframe\">\n",
       "  <thead>\n",
       "    <tr style=\"text-align: right;\">\n",
       "      <th></th>\n",
       "      <th>id</th>\n",
       "      <th>f0</th>\n",
       "      <th>f1</th>\n",
       "      <th>f2</th>\n",
       "      <th>product</th>\n",
       "    </tr>\n",
       "  </thead>\n",
       "  <tbody>\n",
       "    <tr>\n",
       "      <th>45404</th>\n",
       "      <td>KUPhW</td>\n",
       "      <td>0.231846</td>\n",
       "      <td>-1.698941</td>\n",
       "      <td>4.990775</td>\n",
       "      <td>11.716299</td>\n",
       "    </tr>\n",
       "    <tr>\n",
       "      <th>55967</th>\n",
       "      <td>KUPhW</td>\n",
       "      <td>1.211150</td>\n",
       "      <td>3.176408</td>\n",
       "      <td>5.543540</td>\n",
       "      <td>132.831802</td>\n",
       "    </tr>\n",
       "    <tr>\n",
       "      <th>11449</th>\n",
       "      <td>VF7Jo</td>\n",
       "      <td>2.122656</td>\n",
       "      <td>-0.858275</td>\n",
       "      <td>5.746001</td>\n",
       "      <td>181.716817</td>\n",
       "    </tr>\n",
       "    <tr>\n",
       "      <th>49564</th>\n",
       "      <td>VF7Jo</td>\n",
       "      <td>-0.883115</td>\n",
       "      <td>0.560537</td>\n",
       "      <td>0.723601</td>\n",
       "      <td>136.233420</td>\n",
       "    </tr>\n",
       "    <tr>\n",
       "      <th>44378</th>\n",
       "      <td>Vcm5J</td>\n",
       "      <td>-1.229484</td>\n",
       "      <td>-2.439204</td>\n",
       "      <td>1.222909</td>\n",
       "      <td>137.968290</td>\n",
       "    </tr>\n",
       "    <tr>\n",
       "      <th>95090</th>\n",
       "      <td>Vcm5J</td>\n",
       "      <td>2.587702</td>\n",
       "      <td>1.986875</td>\n",
       "      <td>2.482245</td>\n",
       "      <td>92.327572</td>\n",
       "    </tr>\n",
       "    <tr>\n",
       "      <th>28039</th>\n",
       "      <td>xCHr8</td>\n",
       "      <td>1.633027</td>\n",
       "      <td>0.368135</td>\n",
       "      <td>-2.378367</td>\n",
       "      <td>6.120525</td>\n",
       "    </tr>\n",
       "    <tr>\n",
       "      <th>43233</th>\n",
       "      <td>xCHr8</td>\n",
       "      <td>-0.847066</td>\n",
       "      <td>2.101796</td>\n",
       "      <td>5.597130</td>\n",
       "      <td>184.388641</td>\n",
       "    </tr>\n",
       "  </tbody>\n",
       "</table>\n",
       "</div>"
      ],
      "text/plain": [
       "          id        f0        f1        f2     product\n",
       "45404  KUPhW  0.231846 -1.698941  4.990775   11.716299\n",
       "55967  KUPhW  1.211150  3.176408  5.543540  132.831802\n",
       "11449  VF7Jo  2.122656 -0.858275  5.746001  181.716817\n",
       "49564  VF7Jo -0.883115  0.560537  0.723601  136.233420\n",
       "44378  Vcm5J -1.229484 -2.439204  1.222909  137.968290\n",
       "95090  Vcm5J  2.587702  1.986875  2.482245   92.327572\n",
       "28039  xCHr8  1.633027  0.368135 -2.378367    6.120525\n",
       "43233  xCHr8 -0.847066  2.101796  5.597130  184.388641"
      ]
     },
     "execution_count": 26,
     "metadata": {},
     "output_type": "execute_result"
    }
   ],
   "source": [
    "data_reg2.query('id == @duplicated_ids').sort_values(by='id')"
   ]
  },
  {
   "cell_type": "markdown",
   "metadata": {},
   "source": [
    "From the data we can see that for the same wells there are different values of signs and volumes of the reserve. Probably, the features and volumes were refined later at different times. We believe that we can leave this data as it is."
   ]
  },
  {
   "cell_type": "markdown",
   "metadata": {},
   "source": [
    "Let's remove the non-informative attribute 'id' in all tables."
   ]
  },
  {
   "cell_type": "code",
   "execution_count": 27,
   "metadata": {},
   "outputs": [],
   "source": [
    "data_reg0 = data_reg0.drop('id', axis=1)\n",
    "data_reg1 = data_reg1.drop('id', axis=1)\n",
    "data_reg2 = data_reg2.drop('id', axis=1)"
   ]
  },
  {
   "cell_type": "markdown",
   "metadata": {},
   "source": [
    "### Conclusion"
   ]
  },
  {
   "cell_type": "markdown",
   "metadata": {},
   "source": [
    "Pronounced multicollinearity among the features is not observed. There are no significant outliers in the data. There are no missing data also. All data types are displayed correctly. Non-informative features were removed."
   ]
  },
  {
   "cell_type": "markdown",
   "metadata": {},
   "source": [
    "## Train and Validate the ML Model"
   ]
  },
  {
   "cell_type": "markdown",
   "metadata": {},
   "source": [
    "###  Region 0"
   ]
  },
  {
   "cell_type": "markdown",
   "metadata": {},
   "source": [
    "#### Functions for training models and displaying results"
   ]
  },
  {
   "cell_type": "code",
   "execution_count": 28,
   "metadata": {},
   "outputs": [],
   "source": [
    "def get_ml_results(data):\n",
    "    def data_split(data):\n",
    "        \"\"\"\n",
    "        The function divides the data into training and validation splits.\n",
    "        Then it extract target and feature values.\n",
    "        \"\"\"\n",
    "        data_train, data_valid = train_test_split(data, test_size=0.25, random_state=RS)\n",
    "        X_train = data_train.drop('product', axis=1)\n",
    "        X_valid = data_valid.drop('product', axis=1)\n",
    "        y_train = data_train['product']\n",
    "        y_valid = data_valid['product']\n",
    "        return X_train, y_train, X_valid, y_valid\n",
    "    \n",
    "    \n",
    "    def features_scaling(X_train, X_valid):\n",
    "        \"\"\"\n",
    "        The function produces feature scaling\n",
    "        \"\"\"\n",
    "        scaler = StandardScaler()\n",
    "        X_train[:] = scaler.fit_transform(X_train)\n",
    "        X_valid[:] = scaler.transform(X_valid)\n",
    "        return X_train, X_valid\n",
    "        \n",
    "        \n",
    "    def get_predictions(X_train, y_train, X_valid, y_valid):\n",
    "        \"\"\"\n",
    "        The function trains the model and produces value predictions.\n",
    "        Returns the average of the predicted values.\n",
    "        \"\"\"\n",
    "        model = LinearRegression()\n",
    "        model.fit(X_train, y_train)\n",
    "        predictions = model.predict(X_valid)\n",
    "        predictions = pd.Series(predictions, index=X_valid.index)\n",
    "        predictions_mean = predictions.mean()\n",
    "        return predictions, predictions_mean        \n",
    "    \n",
    "    \n",
    "    def ml_show_results(target, predictions):\n",
    "        \"\"\"\n",
    "        The function displays the value of the RMSE metric, \n",
    "        as well as the average of the predicted stock\n",
    "        and the average real volume of stocks.\n",
    "        The function does not return anything.\n",
    "        \"\"\"\n",
    "        rmse = mean_squared_error(target, predictions, squared=False).round(2)\n",
    "        target_mean = target.mean()\n",
    "        predictions_mean = predictions.mean()\n",
    "        dif = 100 * abs(target_mean - predictions_mean) / target_mean\n",
    "        print(f'RMSE: {rmse}',\n",
    "              f'Average predicted field reserve: {round(predictions_mean, 2)}',\n",
    "              f'Average real reserve: {round(target_mean, 2)}',\n",
    "              f'The difference between the predicted and actual average volume of reserves is: {round(dif, 2)}%')\n",
    "    \n",
    "    X_train, y_train, X_valid, y_valid = data_split(data)\n",
    "    X_train, X_valid = features_scaling(X_train, X_valid)\n",
    "    predictions, predictions_mean = get_predictions(X_train, y_train, X_valid, y_valid)\n",
    "    ml_show_results(y_valid, predictions)\n",
    "    \n",
    "    return y_valid, predictions"
   ]
  },
  {
   "cell_type": "markdown",
   "metadata": {},
   "source": [
    "def ml_results(X_train, y_train, X_valid, y_valid):\n",
    "    model = LinearRegression()\n",
    "    model.fit(X_train, y_train)\n",
    "    predictions = model.predict(X_valid)\n",
    "    predictions = pd.Series(predictions, index=X_valid.index)\n",
    "    predictions_mean = predictions.mean()\n",
    "    return predictions, predictions_mean"
   ]
  },
  {
   "cell_type": "markdown",
   "metadata": {},
   "source": [
    "def ml_show_results(target, predictions):\n",
    "    rmse = mean_squared_error(target, predictions, squared=False).round(2)\n",
    "    target_mean = target.mean()\n",
    "    predictions_mean = predictions.mean()\n",
    "    dif = 100 * abs(target_mean - predictions_mean) / target_mean\n",
    "    return (f'RMSE: {rmse}',\n",
    "            f'Average predicted field reserve: {round(predictions_mean, 2)}',\n",
    "            f'Average real reserve: {round(target_mean, 2)}',\n",
    "            f'The difference between the predicted and actual average volume of reserves is: {round(dif, 2)}%'\n",
    "           )"
   ]
  },
  {
   "cell_type": "markdown",
   "metadata": {},
   "source": [
    "#### Predictions of ML Model"
   ]
  },
  {
   "cell_type": "markdown",
   "metadata": {},
   "source": [
    "####  Region 0"
   ]
  },
  {
   "cell_type": "code",
   "execution_count": 29,
   "metadata": {},
   "outputs": [
    {
     "name": "stdout",
     "output_type": "stream",
     "text": [
      "RMSE: 37.92 Average predicted field reserve: 92.82 Average real reserve: 92.45 The difference between the predicted and actual average volume of reserves is: 0.4%\n"
     ]
    }
   ],
   "source": [
    "reg0_reserves_real, reg0_predictions = get_ml_results(data_reg0)"
   ]
  },
  {
   "cell_type": "markdown",
   "metadata": {},
   "source": [
    "The difference between predicted and actual average stocks in region 0 is less than 1%."
   ]
  },
  {
   "cell_type": "markdown",
   "metadata": {},
   "source": [
    "#### Регион 1"
   ]
  },
  {
   "cell_type": "code",
   "execution_count": 30,
   "metadata": {},
   "outputs": [
    {
     "name": "stdout",
     "output_type": "stream",
     "text": [
      "RMSE: 0.89 Average predicted field reserve: 68.92 Average real reserve: 68.93 The difference between the predicted and actual average volume of reserves is: 0.01%\n"
     ]
    }
   ],
   "source": [
    "reg1_reserves_real, reg1_predictions = get_ml_results(data_reg1)"
   ]
  },
  {
   "cell_type": "markdown",
   "metadata": {},
   "source": [
    "The difference between predicted and actual average stocks in region 1 is less than 1%."
   ]
  },
  {
   "cell_type": "markdown",
   "metadata": {},
   "source": [
    "#### Регион 2"
   ]
  },
  {
   "cell_type": "code",
   "execution_count": 31,
   "metadata": {},
   "outputs": [
    {
     "name": "stdout",
     "output_type": "stream",
     "text": [
      "RMSE: 40.21 Average predicted field reserve: 95.11 Average real reserve: 95.2 The difference between the predicted and actual average volume of reserves is: 0.1%\n"
     ]
    }
   ],
   "source": [
    "reg2_reserves_real, reg2_predictions = get_ml_results(data_reg2)"
   ]
  },
  {
   "cell_type": "markdown",
   "metadata": {},
   "source": [
    "The difference between predicted and actual average stocks in region 2 is less than 1%."
   ]
  },
  {
   "cell_type": "markdown",
   "metadata": {},
   "source": [
    "### Summary"
   ]
  },
  {
   "cell_type": "markdown",
   "metadata": {},
   "source": [
    "The models training is complete.\n",
    "\n",
    "**Region 0**  \n",
    "RMSE: 37.92  \n",
    "Average predicted field reserve: 92.82  \n",
    "Average real reserve: 92.45   \n",
    "The difference between the predicted and actual average volume of reserves is: 0.4%\n",
    "\n",
    "**Region 1**  \n",
    "RMSE: 0.89  \n",
    "Average predicted field reserve: 68.92  \n",
    "Average real reserve: 68.93  \n",
    "The difference between the predicted and actual average volume of reserves is: 0.01%\n",
    "\n",
    "**Region 2**  \n",
    "RMSE: 40.21  \n",
    "Average predicted field reserve: 95.11  \n",
    "Average real reserve: 95.2  \n",
    "The difference between the predicted and actual average volume of reserves is: 0.1%\n",
    "\n",
    "The most accurate predictions with the lowest RMSE value are made by the ML model for region 1."
   ]
  },
  {
   "cell_type": "markdown",
   "metadata": {},
   "source": [
    "## Preparing for Profit Evaluation"
   ]
  },
  {
   "cell_type": "markdown",
   "metadata": {},
   "source": [
    "### Break Even Point Calculation"
   ]
  },
  {
   "cell_type": "markdown",
   "metadata": {},
   "source": [
    "Let's calculate the sufficient volume of raw materials for the break-even development of a new well. In order to reach the break-even point, it is necessary to extract such an amount of resources, the sale of which will fully cover the costs of developing the field. The average volume can be calculated by dividing the field development budget by the product of the cost of one unit of product and the number of wells."
   ]
  },
  {
   "cell_type": "code",
   "execution_count": 32,
   "metadata": {},
   "outputs": [],
   "source": [
    "enough_volume = BUDGET / (PRICE_PER_BARREL * BEST_WELLS_NUM)"
   ]
  },
  {
   "cell_type": "code",
   "execution_count": 33,
   "metadata": {},
   "outputs": [
    {
     "data": {
      "text/plain": [
       "111.11111111111111"
      ]
     },
     "execution_count": 33,
     "metadata": {},
     "output_type": "execute_result"
    }
   ],
   "source": [
    "enough_volume"
   ]
  },
  {
   "cell_type": "markdown",
   "metadata": {},
   "source": [
    "So, the minimum average production volume is about 111,000 barrels. Let's compare with the average reserve of the deposit in each of the regions. To find out how many wells, on average, you need to develop to reach the breakeven point."
   ]
  },
  {
   "cell_type": "markdown",
   "metadata": {},
   "source": [
    "#### Region 0"
   ]
  },
  {
   "cell_type": "code",
   "execution_count": 34,
   "metadata": {},
   "outputs": [
    {
     "data": {
      "text/plain": [
       "'The average reserve of one well in region 0 is 83.25% of sufficient volume.'"
      ]
     },
     "execution_count": 34,
     "metadata": {},
     "output_type": "execute_result"
    }
   ],
   "source": [
    "f'The average reserve of one well in region 0 is {round((100 * data_reg0[\"product\"].mean() / enough_volume), 2)}% of sufficient volume.'"
   ]
  },
  {
   "cell_type": "markdown",
   "metadata": {},
   "source": [
    "#### Region 1"
   ]
  },
  {
   "cell_type": "code",
   "execution_count": 35,
   "metadata": {
    "scrolled": true
   },
   "outputs": [
    {
     "data": {
      "text/plain": [
       "'The average reserve of one well in region 1 is 61.94% of sufficient volume.'"
      ]
     },
     "execution_count": 35,
     "metadata": {},
     "output_type": "execute_result"
    }
   ],
   "source": [
    "f'The average reserve of one well in region 1 is {round((100 * data_reg1[\"product\"].mean() / enough_volume), 2)}% of sufficient volume.'"
   ]
  },
  {
   "cell_type": "markdown",
   "metadata": {},
   "source": [
    "#### Region 2"
   ]
  },
  {
   "cell_type": "code",
   "execution_count": 36,
   "metadata": {},
   "outputs": [
    {
     "data": {
      "text/plain": [
       "'The average reserve of one well in region 2 is 85.5% of sufficient volume.'"
      ]
     },
     "execution_count": 36,
     "metadata": {},
     "output_type": "execute_result"
    }
   ],
   "source": [
    "f'The average reserve of one well in region 2 is {round((100 * data_reg2[\"product\"].mean() / enough_volume), 2)}% of sufficient volume.'"
   ]
  },
  {
   "cell_type": "markdown",
   "metadata": {},
   "source": [
    "### Conclusion"
   ]
  },
  {
   "cell_type": "markdown",
   "metadata": {},
   "source": [
    "The average volume of reserves for wells in each of the three regions is less than the estimated sufficient volume and ranges from 85% to 62% of sufficient volume. Thus the average volume of raw materials is less than sufficient volume to break even. The smallest average stock is in region 1, the largest is in region 2.\n",
    "\n",
    "The average volume of the predicted raw material is calculated based on 25,000 points. 200 points must be selected as a result. As a result, among these wells there may be wells with sufficient and insufficient supply of raw materials.\n",
    "\n",
    "In order to at least ensure that there are no losses, only the most productive wells should be developed. The \"Bootstrap\" technique allows to assess the risk of loss in case of random selection of points. Selecting points randomly 1000 times, we consider what % of cases will bring losses."
   ]
  },
  {
   "cell_type": "markdown",
   "metadata": {},
   "source": [
    "## Risks and profit calculations"
   ]
  },
  {
   "cell_type": "code",
   "execution_count": 37,
   "metadata": {},
   "outputs": [],
   "source": [
    "def earnings_calc(wells_target, wells_predicted, budget, wells_num_total=500, wells_num_to_choose=200, price_per_barrel=450):\n",
    "    '''\n",
    "    Function for profit calculation. It takes the following parameters as input:\n",
    "    wells_target - data on the actual volume of reserves\n",
    "    wells_predicted - predicted stock volumes\n",
    "    budget - development budget\n",
    "    wells_num_total - number of wells among which the best selection is made (default value: 500)\n",
    "    wells_num_to_choose - number of budgeted wells (default value: 200)\n",
    "    price_per_barrel - price of a barrel of oil (default value: 450)\n",
    "    Returns the calculated highest profit for the specified number of best wells.\n",
    "    '''\n",
    "    chosen_wells = wells_predicted.sort_values(ascending=False)[:wells_num_to_choose]\n",
    "    revenue = wells_target.loc[chosen_wells.index].sum() * price_per_barrel\n",
    "    earnings = revenue - budget\n",
    "    return earnings"
   ]
  },
  {
   "cell_type": "code",
   "execution_count": 38,
   "metadata": {},
   "outputs": [],
   "source": [
    "state = np.random.RandomState(RS)"
   ]
  },
  {
   "cell_type": "code",
   "execution_count": 39,
   "metadata": {},
   "outputs": [],
   "source": [
    "def bootstrap_model(target, probabilities, budget, selections_num=1000, samples_num=500, wells_to_choose=200, price_per_barrel=450,random_state=None):\n",
    "    '''\n",
    "    Function for bootstrapping the model. It takes the following parameters as input:\n",
    "    target - data on actual stock volumes\n",
    "    probabilities - predicted reserves\n",
    "    budget - development budget\n",
    "    selections_num - number of selections (default: 1000)\n",
    "    samples_num number of wells among which the best selection is made (default: 500)\n",
    "    wells_to_choose - number of budgeted wells (default: 200)\n",
    "    price_per_barrel - price of a barrel of oil (default: 450)\n",
    "    random_state - value for the pseudo-random number generator (Default: None)\n",
    "    '''\n",
    "    earnings = []\n",
    "    for _ in range(selections_num):\n",
    "        target_sub = target.sample(n=samples_num, replace=True, random_state=random_state)\n",
    "        prob_sub = probabilities[target_sub.index]\n",
    "        selection_earnings = earnings_calc(target_sub, prob_sub, budget, samples_num, wells_to_choose, price_per_barrel)\n",
    "        earnings.append(selection_earnings)\n",
    "    return pd.Series(earnings)"
   ]
  },
  {
   "cell_type": "code",
   "execution_count": 40,
   "metadata": {},
   "outputs": [],
   "source": [
    "def mean_earnings_loss(earnings):\n",
    "    '''\n",
    "    Function for average profit calculation, probability of loss and confidence interval\n",
    "    '''\n",
    "    return (f'Average profit of the region: {round((earnings.mean()/1000), 2)} million rubles',\n",
    "           f'Loss probability in the region {100 * (earnings < 0).sum() / 1000}%',\n",
    "           f'95% Confidence Interval of Region Profit: from {earnings.quantile(q=0.025).round(2)} to {earnings.quantile(q=0.975).round(2)} million rubles'\n",
    "           )"
   ]
  },
  {
   "cell_type": "markdown",
   "metadata": {},
   "source": [
    "### Calculation of average profit and probability of loss"
   ]
  },
  {
   "cell_type": "markdown",
   "metadata": {},
   "source": [
    "#### Region 0"
   ]
  },
  {
   "cell_type": "code",
   "execution_count": 41,
   "metadata": {},
   "outputs": [],
   "source": [
    "earnings_reg0 = bootstrap_model(reg0_reserves_real, reg0_predictions, BUDGET, random_state=state)"
   ]
  },
  {
   "cell_type": "code",
   "execution_count": 42,
   "metadata": {},
   "outputs": [
    {
     "data": {
      "text/plain": [
       "('Average profit of the region: 608.24 млн. рублей',\n",
       " 'Loss probability in the region 2.0%',\n",
       " '95% Confidence Interval of Region Profit: from 49480.22 to 1253629.87 million rubles')"
      ]
     },
     "execution_count": 42,
     "metadata": {},
     "output_type": "execute_result"
    }
   ],
   "source": [
    "mean_earnings_loss(earnings_reg0)"
   ]
  },
  {
   "cell_type": "markdown",
   "metadata": {},
   "source": [
    "#### Region 1"
   ]
  },
  {
   "cell_type": "code",
   "execution_count": 43,
   "metadata": {},
   "outputs": [],
   "source": [
    "earnings_reg1 = bootstrap_model(reg1_reserves_real, reg1_predictions, BUDGET, random_state=state)"
   ]
  },
  {
   "cell_type": "code",
   "execution_count": 44,
   "metadata": {},
   "outputs": [
    {
     "data": {
      "text/plain": [
       "('Average profit of the region: 695.79 млн. рублей',\n",
       " 'Loss probability in the region 0.1%',\n",
       " '95% Confidence Interval of Region Profit: from 197272.34 to 1261850.48 million rubles')"
      ]
     },
     "execution_count": 44,
     "metadata": {},
     "output_type": "execute_result"
    }
   ],
   "source": [
    "mean_earnings_loss(earnings_reg1)"
   ]
  },
  {
   "cell_type": "markdown",
   "metadata": {},
   "source": [
    "#### Region 2"
   ]
  },
  {
   "cell_type": "code",
   "execution_count": 45,
   "metadata": {},
   "outputs": [],
   "source": [
    "earnings_reg2 = bootstrap_model(reg2_reserves_real, reg2_predictions, BUDGET, random_state=state)"
   ]
  },
  {
   "cell_type": "code",
   "execution_count": 46,
   "metadata": {},
   "outputs": [
    {
     "data": {
      "text/plain": [
       "('Average profit of the region: 581.05 млн. рублей',\n",
       " 'Loss probability in the region 4.1%',\n",
       " '95% Confidence Interval of Region Profit: from -56024.03 to 1204241.1 million rubles')"
      ]
     },
     "execution_count": 46,
     "metadata": {},
     "output_type": "execute_result"
    }
   ],
   "source": [
    "mean_earnings_loss(earnings_reg2)"
   ]
  },
  {
   "cell_type": "markdown",
   "metadata": {},
   "source": [
    "###  Conclusion"
   ]
  },
  {
   "cell_type": "markdown",
   "metadata": {},
   "source": [
    "Two regions are fit for the conditions of the task - 0 and 1. Region 2 is not suitable, because the probability of losses there  3%. The average profit of region 1 is greater than in region 0, so we choose region 1. The average profit of region 1 is 695.79 million rubles\n",
    "The probability of losses in the region is 0.1%.\n",
    "95% confidence interval of the region's profit: from 197272.34 to 1261850.48 million rubles"
   ]
  },
  {
   "cell_type": "markdown",
   "metadata": {},
   "source": [
    "## Summary"
   ]
  },
  {
   "cell_type": "markdown",
   "metadata": {},
   "source": [
    "1. During the exploring and preprocessing the data, it was found that there is no pronounced multicollinearity among the features. There are no significant outliers in the data. There are no missing data. All data types are displayed correctly.\n",
    "Non-informative features were removed.  \n",
    "\n",
    "\n",
    "2. The models were trained. The most accurate predictions with the lowest RMSE = 0.89 are made by the model for region 1.  \n",
    "\n",
    "\n",
    "3. The average volume of oil reserves in each of the three regions is less than the estimated sufficient volume and ranges from 85% to 62% of sufficient. The smallest average stock is in region 1, the largest is in region 2.\n",
    "From the average volume sufficiency data, it was concluded that in order to at least ensure no losses, only the most productive wells should be developed.  \n",
    "\n",
    "\n",
    "4. After the selection of the best wells and calculations of the average profit and loss probabilities, it was concluded that two regions, 0 and 1, fit the conditions of the problem. Region 2 is not suitable, because he has too high a probability of taking losses: 3%.\n",
    "The average profit of region 1 is greater than in region 0, so we choose region 1. The average profit of region 1 is 695.79 million rubles\n",
    "The probability of losses in the region is 0.3%.\n",
    "95% confidence interval of the region's profit: from 197272.34 to 1261850.48 million rubles.  \n",
    "\n",
    "\n",
    "Region 1 has the smallest average reserve per well, but since this region was the most accurate prediction, it was the most promising."
   ]
  },
  {
   "cell_type": "code",
   "execution_count": null,
   "metadata": {},
   "outputs": [],
   "source": []
  }
 ],
 "metadata": {
  "ExecuteTimeLog": [
   {
    "duration": 401,
    "start_time": "2022-11-29T03:46:21.257Z"
   },
   {
    "duration": 417,
    "start_time": "2022-11-29T03:46:49.689Z"
   },
   {
    "duration": 22,
    "start_time": "2022-11-29T03:46:53.728Z"
   },
   {
    "duration": 559,
    "start_time": "2022-11-29T03:47:36.436Z"
   },
   {
    "duration": 52,
    "start_time": "2022-11-29T07:33:01.668Z"
   },
   {
    "duration": 410,
    "start_time": "2022-11-29T07:33:04.875Z"
   },
   {
    "duration": 1699,
    "start_time": "2022-11-29T07:33:05.361Z"
   },
   {
    "duration": 18,
    "start_time": "2022-11-29T07:33:07.063Z"
   },
   {
    "duration": 15,
    "start_time": "2022-11-29T07:33:17.829Z"
   },
   {
    "duration": 16,
    "start_time": "2022-11-29T07:33:30.493Z"
   },
   {
    "duration": 25,
    "start_time": "2022-11-29T07:35:31.904Z"
   },
   {
    "duration": 82,
    "start_time": "2022-11-29T07:35:36.240Z"
   },
   {
    "duration": 6,
    "start_time": "2022-11-29T07:35:41.536Z"
   },
   {
    "duration": 6,
    "start_time": "2022-11-29T07:50:48.438Z"
   },
   {
    "duration": 3,
    "start_time": "2022-11-29T07:50:59.750Z"
   },
   {
    "duration": 372,
    "start_time": "2022-11-29T07:51:00.456Z"
   },
   {
    "duration": 58,
    "start_time": "2022-11-29T07:51:04.157Z"
   },
   {
    "duration": 41,
    "start_time": "2022-11-29T07:51:08.929Z"
   },
   {
    "duration": 43,
    "start_time": "2022-11-29T07:51:14.577Z"
   },
   {
    "duration": 41,
    "start_time": "2022-11-29T07:51:21.452Z"
   },
   {
    "duration": 1134,
    "start_time": "2022-11-29T07:52:10.538Z"
   },
   {
    "duration": 15,
    "start_time": "2022-11-29T07:52:19.013Z"
   },
   {
    "duration": 1126,
    "start_time": "2022-11-29T07:52:24.790Z"
   },
   {
    "duration": 23,
    "start_time": "2022-11-29T07:52:44.041Z"
   },
   {
    "duration": 16,
    "start_time": "2022-11-29T07:56:50.035Z"
   },
   {
    "duration": 9,
    "start_time": "2022-11-29T07:57:00.500Z"
   },
   {
    "duration": 19,
    "start_time": "2022-11-29T07:57:06.027Z"
   },
   {
    "duration": 3,
    "start_time": "2022-11-29T07:59:12.632Z"
   },
   {
    "duration": 14,
    "start_time": "2022-11-29T07:59:16.412Z"
   },
   {
    "duration": 21,
    "start_time": "2022-11-29T07:59:25.800Z"
   },
   {
    "duration": 26,
    "start_time": "2022-11-29T07:59:33.280Z"
   },
   {
    "duration": 33,
    "start_time": "2022-11-29T08:00:06.074Z"
   },
   {
    "duration": 21,
    "start_time": "2022-11-29T08:00:13.981Z"
   },
   {
    "duration": 26,
    "start_time": "2022-11-29T08:00:39.112Z"
   },
   {
    "duration": 17,
    "start_time": "2022-11-29T08:01:01.708Z"
   },
   {
    "duration": 16,
    "start_time": "2022-11-29T08:01:16.728Z"
   },
   {
    "duration": 25,
    "start_time": "2022-11-29T08:01:28.896Z"
   },
   {
    "duration": 12,
    "start_time": "2022-11-29T08:01:48.699Z"
   },
   {
    "duration": 17,
    "start_time": "2022-11-29T08:02:11.144Z"
   },
   {
    "duration": 29,
    "start_time": "2022-11-29T08:02:30.081Z"
   },
   {
    "duration": 16,
    "start_time": "2022-11-29T08:02:46.436Z"
   },
   {
    "duration": 33,
    "start_time": "2022-11-29T08:03:00.983Z"
   },
   {
    "duration": 17,
    "start_time": "2022-11-29T08:03:13.544Z"
   },
   {
    "duration": 13,
    "start_time": "2022-11-29T08:03:22.340Z"
   },
   {
    "duration": 18,
    "start_time": "2022-11-29T08:03:27.688Z"
   },
   {
    "duration": 20,
    "start_time": "2022-11-29T08:03:33.297Z"
   },
   {
    "duration": 17,
    "start_time": "2022-11-29T08:03:37.554Z"
   },
   {
    "duration": 28,
    "start_time": "2022-11-29T08:03:49.073Z"
   },
   {
    "duration": 18,
    "start_time": "2022-11-29T08:05:40.003Z"
   },
   {
    "duration": 21,
    "start_time": "2022-11-29T08:05:48.150Z"
   },
   {
    "duration": 26,
    "start_time": "2022-11-29T08:05:55.784Z"
   },
   {
    "duration": 27,
    "start_time": "2022-11-29T08:06:00.882Z"
   },
   {
    "duration": 18,
    "start_time": "2022-11-29T08:06:06.126Z"
   },
   {
    "duration": 16,
    "start_time": "2022-11-29T08:06:29.961Z"
   },
   {
    "duration": 30,
    "start_time": "2022-11-29T08:06:54.588Z"
   },
   {
    "duration": 21,
    "start_time": "2022-11-29T08:07:12.043Z"
   },
   {
    "duration": 17,
    "start_time": "2022-11-29T08:07:34.154Z"
   },
   {
    "duration": 21,
    "start_time": "2022-11-29T08:07:38.089Z"
   },
   {
    "duration": 14,
    "start_time": "2022-11-29T08:27:45.342Z"
   },
   {
    "duration": 18,
    "start_time": "2022-11-29T08:28:05.549Z"
   },
   {
    "duration": 39,
    "start_time": "2022-11-29T08:28:39.482Z"
   },
   {
    "duration": 5,
    "start_time": "2022-11-29T08:35:31.469Z"
   },
   {
    "duration": 15,
    "start_time": "2022-11-29T08:35:38.673Z"
   },
   {
    "duration": 780,
    "start_time": "2022-11-29T08:37:42.387Z"
   },
   {
    "duration": 20,
    "start_time": "2022-11-29T08:38:01.397Z"
   },
   {
    "duration": 15,
    "start_time": "2022-11-29T08:40:24.056Z"
   },
   {
    "duration": 3,
    "start_time": "2022-11-29T08:41:28.511Z"
   },
   {
    "duration": 16,
    "start_time": "2022-11-29T08:43:17.289Z"
   },
   {
    "duration": 6,
    "start_time": "2022-11-29T08:44:18.912Z"
   },
   {
    "duration": 6,
    "start_time": "2022-11-29T08:44:48.296Z"
   },
   {
    "duration": 6,
    "start_time": "2022-11-29T08:44:57.852Z"
   },
   {
    "duration": 4,
    "start_time": "2022-11-29T08:44:58.728Z"
   },
   {
    "duration": 3,
    "start_time": "2022-11-29T08:45:52.929Z"
   },
   {
    "duration": 11,
    "start_time": "2022-11-29T08:46:44.543Z"
   },
   {
    "duration": 8,
    "start_time": "2022-11-29T08:46:55.939Z"
   },
   {
    "duration": 8,
    "start_time": "2022-11-29T08:47:12.560Z"
   },
   {
    "duration": 13,
    "start_time": "2022-11-29T08:47:29.417Z"
   },
   {
    "duration": 12,
    "start_time": "2022-11-29T08:47:48.172Z"
   },
   {
    "duration": 4,
    "start_time": "2022-11-29T08:47:55.350Z"
   },
   {
    "duration": 7,
    "start_time": "2022-11-29T08:47:59.667Z"
   },
   {
    "duration": 10,
    "start_time": "2022-11-29T08:48:15.266Z"
   },
   {
    "duration": 5,
    "start_time": "2022-11-29T08:48:15.897Z"
   },
   {
    "duration": 4,
    "start_time": "2022-11-29T08:48:22.233Z"
   },
   {
    "duration": 4,
    "start_time": "2022-11-29T08:48:25.273Z"
   },
   {
    "duration": 10,
    "start_time": "2022-11-29T08:49:36.420Z"
   },
   {
    "duration": 6,
    "start_time": "2022-11-29T08:49:37.247Z"
   },
   {
    "duration": 11,
    "start_time": "2022-11-29T08:49:39.710Z"
   },
   {
    "duration": 9,
    "start_time": "2022-11-29T08:49:40.715Z"
   },
   {
    "duration": 9,
    "start_time": "2022-11-29T08:49:43.115Z"
   },
   {
    "duration": 21,
    "start_time": "2022-11-29T08:49:59.398Z"
   },
   {
    "duration": 11,
    "start_time": "2022-11-29T08:50:19.695Z"
   },
   {
    "duration": 7,
    "start_time": "2022-11-29T08:50:23.548Z"
   },
   {
    "duration": 8,
    "start_time": "2022-11-29T08:51:18.613Z"
   },
   {
    "duration": 32,
    "start_time": "2022-11-29T08:51:21.476Z"
   },
   {
    "duration": 15,
    "start_time": "2022-11-29T08:51:39.856Z"
   },
   {
    "duration": 3,
    "start_time": "2022-11-29T08:51:47.314Z"
   },
   {
    "duration": 19,
    "start_time": "2022-11-29T08:52:07.671Z"
   },
   {
    "duration": 6,
    "start_time": "2022-11-29T08:53:28.945Z"
   },
   {
    "duration": 8,
    "start_time": "2022-11-29T08:54:05.305Z"
   },
   {
    "duration": 9,
    "start_time": "2022-11-29T08:58:45.335Z"
   },
   {
    "duration": 2,
    "start_time": "2022-11-29T09:04:48.472Z"
   },
   {
    "duration": 11,
    "start_time": "2022-11-29T09:05:59.993Z"
   },
   {
    "duration": 8,
    "start_time": "2022-11-29T09:06:07.181Z"
   },
   {
    "duration": 5,
    "start_time": "2022-11-29T09:06:37.134Z"
   },
   {
    "duration": 5,
    "start_time": "2022-11-29T09:06:40.809Z"
   },
   {
    "duration": 14,
    "start_time": "2022-11-29T09:16:17.011Z"
   },
   {
    "duration": 8,
    "start_time": "2022-11-29T09:19:24.189Z"
   },
   {
    "duration": 18,
    "start_time": "2022-11-29T09:19:33.973Z"
   },
   {
    "duration": 6,
    "start_time": "2022-11-29T09:19:58.851Z"
   },
   {
    "duration": 4,
    "start_time": "2022-11-29T09:20:10.215Z"
   },
   {
    "duration": 9,
    "start_time": "2022-11-29T09:20:36.046Z"
   },
   {
    "duration": 11,
    "start_time": "2022-11-29T09:20:38.422Z"
   },
   {
    "duration": 8,
    "start_time": "2022-11-29T09:20:46.491Z"
   },
   {
    "duration": 11,
    "start_time": "2022-11-29T09:20:56.220Z"
   },
   {
    "duration": 6,
    "start_time": "2022-11-29T09:20:58.208Z"
   },
   {
    "duration": 5,
    "start_time": "2022-11-29T09:21:00.274Z"
   },
   {
    "duration": 18,
    "start_time": "2022-11-29T09:21:11.879Z"
   },
   {
    "duration": 7,
    "start_time": "2022-11-29T09:21:15.149Z"
   },
   {
    "duration": 9,
    "start_time": "2022-11-29T09:21:19.051Z"
   },
   {
    "duration": 4,
    "start_time": "2022-11-29T09:22:11.277Z"
   },
   {
    "duration": 10,
    "start_time": "2022-11-29T09:22:12.008Z"
   },
   {
    "duration": 7,
    "start_time": "2022-11-29T09:22:13.154Z"
   },
   {
    "duration": 17,
    "start_time": "2022-11-29T09:22:14.083Z"
   },
   {
    "duration": 3,
    "start_time": "2022-11-29T09:22:16.472Z"
   },
   {
    "duration": 6,
    "start_time": "2022-11-29T09:22:17.097Z"
   },
   {
    "duration": 9,
    "start_time": "2022-11-29T09:22:31.505Z"
   },
   {
    "duration": 18,
    "start_time": "2022-11-29T09:22:37.908Z"
   },
   {
    "duration": 12,
    "start_time": "2022-11-29T09:22:44.381Z"
   },
   {
    "duration": 1047,
    "start_time": "2022-11-29T12:34:13.383Z"
   },
   {
    "duration": 2506,
    "start_time": "2022-11-29T12:34:14.431Z"
   },
   {
    "duration": 16,
    "start_time": "2022-11-29T12:34:16.938Z"
   },
   {
    "duration": 24,
    "start_time": "2022-11-29T12:34:16.956Z"
   },
   {
    "duration": 22,
    "start_time": "2022-11-29T12:34:16.982Z"
   },
   {
    "duration": 19,
    "start_time": "2022-11-29T12:34:17.005Z"
   },
   {
    "duration": 36,
    "start_time": "2022-11-29T12:34:17.025Z"
   },
   {
    "duration": 13,
    "start_time": "2022-11-29T12:34:17.063Z"
   },
   {
    "duration": 36,
    "start_time": "2022-11-29T12:34:17.077Z"
   },
   {
    "duration": 7,
    "start_time": "2022-11-29T12:34:17.115Z"
   },
   {
    "duration": 34,
    "start_time": "2022-11-29T12:34:17.123Z"
   },
   {
    "duration": 6,
    "start_time": "2022-11-29T12:34:17.159Z"
   },
   {
    "duration": 9,
    "start_time": "2022-11-29T12:34:17.166Z"
   },
   {
    "duration": 18,
    "start_time": "2022-11-29T12:34:17.177Z"
   },
   {
    "duration": 8,
    "start_time": "2022-11-29T12:34:17.197Z"
   },
   {
    "duration": 13,
    "start_time": "2022-11-29T12:34:17.206Z"
   },
   {
    "duration": 11,
    "start_time": "2022-11-29T12:34:17.220Z"
   },
   {
    "duration": 28,
    "start_time": "2022-11-29T12:34:17.233Z"
   },
   {
    "duration": 6,
    "start_time": "2022-11-29T12:34:17.263Z"
   },
   {
    "duration": 8,
    "start_time": "2022-11-29T12:34:17.271Z"
   },
   {
    "duration": 16,
    "start_time": "2022-11-29T12:34:17.281Z"
   },
   {
    "duration": 8,
    "start_time": "2022-11-29T12:34:17.298Z"
   },
   {
    "duration": 13,
    "start_time": "2022-11-29T12:34:17.307Z"
   },
   {
    "duration": 32,
    "start_time": "2022-11-29T12:34:17.321Z"
   },
   {
    "duration": 15,
    "start_time": "2022-11-29T12:34:17.355Z"
   },
   {
    "duration": 25,
    "start_time": "2022-11-29T12:34:17.371Z"
   },
   {
    "duration": 120,
    "start_time": "2022-11-29T12:34:17.452Z"
   },
   {
    "duration": 78,
    "start_time": "2022-11-29T12:34:17.575Z"
   },
   {
    "duration": 105,
    "start_time": "2022-11-29T12:34:17.656Z"
   },
   {
    "duration": 9,
    "start_time": "2022-11-29T12:34:17.762Z"
   },
   {
    "duration": 16,
    "start_time": "2022-11-29T12:34:17.773Z"
   },
   {
    "duration": 7,
    "start_time": "2022-11-29T12:34:17.790Z"
   },
   {
    "duration": 105,
    "start_time": "2022-11-29T12:34:17.855Z"
   },
   {
    "duration": 92,
    "start_time": "2022-11-29T12:34:17.961Z"
   },
   {
    "duration": 110,
    "start_time": "2022-11-29T12:36:46.326Z"
   },
   {
    "duration": 18,
    "start_time": "2022-11-29T12:36:55.895Z"
   },
   {
    "duration": 25,
    "start_time": "2022-11-29T12:37:18.880Z"
   },
   {
    "duration": 9,
    "start_time": "2022-11-29T12:37:20.474Z"
   },
   {
    "duration": 6,
    "start_time": "2022-11-29T12:37:28.770Z"
   },
   {
    "duration": 5,
    "start_time": "2022-11-29T12:37:36.538Z"
   },
   {
    "duration": 29,
    "start_time": "2022-11-29T12:37:41.674Z"
   },
   {
    "duration": 43,
    "start_time": "2022-11-29T12:37:43.432Z"
   },
   {
    "duration": 7,
    "start_time": "2022-11-29T12:37:44.936Z"
   },
   {
    "duration": 9,
    "start_time": "2022-11-29T12:37:45.806Z"
   },
   {
    "duration": 5,
    "start_time": "2022-11-29T12:37:48.355Z"
   },
   {
    "duration": 58,
    "start_time": "2022-11-29T12:37:54.939Z"
   },
   {
    "duration": 221,
    "start_time": "2022-11-29T12:37:57.239Z"
   },
   {
    "duration": 6,
    "start_time": "2022-11-29T12:37:59.238Z"
   },
   {
    "duration": 2,
    "start_time": "2022-11-29T12:38:05.828Z"
   },
   {
    "duration": 44,
    "start_time": "2022-11-29T12:38:06.530Z"
   },
   {
    "duration": 367,
    "start_time": "2022-11-29T12:38:07.986Z"
   },
   {
    "duration": 4,
    "start_time": "2022-11-29T12:38:13.385Z"
   },
   {
    "duration": 6,
    "start_time": "2022-11-29T12:38:14.174Z"
   },
   {
    "duration": 5,
    "start_time": "2022-11-29T12:38:17.189Z"
   },
   {
    "duration": 2,
    "start_time": "2022-11-29T12:38:23.099Z"
   },
   {
    "duration": 27,
    "start_time": "2022-11-29T12:38:23.628Z"
   },
   {
    "duration": 39,
    "start_time": "2022-11-29T12:38:24.793Z"
   },
   {
    "duration": 3,
    "start_time": "2022-11-29T12:38:25.412Z"
   },
   {
    "duration": 6,
    "start_time": "2022-11-29T12:38:34.017Z"
   },
   {
    "duration": 5,
    "start_time": "2022-11-29T12:38:35.598Z"
   },
   {
    "duration": 9,
    "start_time": "2022-11-29T12:45:35.837Z"
   },
   {
    "duration": 3,
    "start_time": "2022-11-29T12:45:41.329Z"
   },
   {
    "duration": 3,
    "start_time": "2022-11-29T12:45:59.133Z"
   },
   {
    "duration": 26,
    "start_time": "2022-11-29T12:46:05.455Z"
   },
   {
    "duration": 23,
    "start_time": "2022-11-29T12:46:06.699Z"
   },
   {
    "duration": 7,
    "start_time": "2022-11-29T12:46:07.926Z"
   },
   {
    "duration": 8,
    "start_time": "2022-11-29T12:46:08.824Z"
   },
   {
    "duration": 4,
    "start_time": "2022-11-29T12:46:11.843Z"
   },
   {
    "duration": 3,
    "start_time": "2022-11-29T12:46:23.000Z"
   },
   {
    "duration": 25,
    "start_time": "2022-11-29T12:46:25.786Z"
   },
   {
    "duration": 18,
    "start_time": "2022-11-29T12:46:26.343Z"
   },
   {
    "duration": 3,
    "start_time": "2022-11-29T12:46:27.348Z"
   },
   {
    "duration": 9,
    "start_time": "2022-11-29T12:46:28.358Z"
   },
   {
    "duration": 6,
    "start_time": "2022-11-29T12:46:30.828Z"
   },
   {
    "duration": 9,
    "start_time": "2022-11-29T12:46:44.401Z"
   },
   {
    "duration": 2,
    "start_time": "2022-11-29T12:47:08.042Z"
   },
   {
    "duration": 8,
    "start_time": "2022-11-29T12:47:10.379Z"
   },
   {
    "duration": 8,
    "start_time": "2022-11-29T12:47:11.311Z"
   },
   {
    "duration": 7,
    "start_time": "2022-11-29T12:47:12.098Z"
   },
   {
    "duration": 6,
    "start_time": "2022-11-29T12:47:14.329Z"
   },
   {
    "duration": 3,
    "start_time": "2022-11-29T12:47:19.063Z"
   },
   {
    "duration": 9,
    "start_time": "2022-11-29T12:47:21.960Z"
   },
   {
    "duration": 4,
    "start_time": "2022-11-29T12:47:22.723Z"
   },
   {
    "duration": 7,
    "start_time": "2022-11-29T12:47:23.059Z"
   },
   {
    "duration": 5,
    "start_time": "2022-11-29T12:47:24.801Z"
   },
   {
    "duration": 3,
    "start_time": "2022-11-29T12:47:28.036Z"
   },
   {
    "duration": 9,
    "start_time": "2022-11-29T12:47:29.827Z"
   },
   {
    "duration": 5,
    "start_time": "2022-11-29T12:47:30.676Z"
   },
   {
    "duration": 7,
    "start_time": "2022-11-29T12:47:31.417Z"
   },
   {
    "duration": 4,
    "start_time": "2022-11-29T12:47:32.369Z"
   },
   {
    "duration": 5,
    "start_time": "2022-11-29T12:47:32.705Z"
   },
   {
    "duration": 2,
    "start_time": "2022-11-29T12:47:56.102Z"
   },
   {
    "duration": 8,
    "start_time": "2022-11-29T12:47:59.133Z"
   },
   {
    "duration": 13,
    "start_time": "2022-11-29T12:48:00.131Z"
   },
   {
    "duration": 7,
    "start_time": "2022-11-29T12:48:00.504Z"
   },
   {
    "duration": 5,
    "start_time": "2022-11-29T12:48:02.159Z"
   },
   {
    "duration": 3,
    "start_time": "2022-11-29T12:49:23.551Z"
   },
   {
    "duration": 3,
    "start_time": "2022-11-29T12:49:30.402Z"
   },
   {
    "duration": 14,
    "start_time": "2022-11-29T12:49:32.383Z"
   },
   {
    "duration": 4,
    "start_time": "2022-11-29T12:49:35.285Z"
   },
   {
    "duration": 7,
    "start_time": "2022-11-29T12:49:35.910Z"
   },
   {
    "duration": 5,
    "start_time": "2022-11-29T12:49:38.228Z"
   },
   {
    "duration": 2,
    "start_time": "2022-11-29T12:49:51.705Z"
   },
   {
    "duration": 14,
    "start_time": "2022-11-29T12:49:53.946Z"
   },
   {
    "duration": 3,
    "start_time": "2022-11-29T12:50:11.497Z"
   },
   {
    "duration": 11,
    "start_time": "2022-11-29T12:50:13.787Z"
   },
   {
    "duration": 5,
    "start_time": "2022-11-29T12:50:15.407Z"
   },
   {
    "duration": 7,
    "start_time": "2022-11-29T12:50:16.046Z"
   },
   {
    "duration": 5,
    "start_time": "2022-11-29T12:50:16.963Z"
   },
   {
    "duration": 10,
    "start_time": "2022-11-29T12:51:30.221Z"
   },
   {
    "duration": 3,
    "start_time": "2022-11-29T12:51:57.911Z"
   },
   {
    "duration": 3,
    "start_time": "2022-11-29T12:52:03.892Z"
   },
   {
    "duration": 8,
    "start_time": "2022-11-29T12:52:05.437Z"
   },
   {
    "duration": 6,
    "start_time": "2022-11-29T12:52:06.196Z"
   },
   {
    "duration": 10,
    "start_time": "2022-11-29T12:52:06.528Z"
   },
   {
    "duration": 5,
    "start_time": "2022-11-29T12:52:09.198Z"
   },
   {
    "duration": 3,
    "start_time": "2022-11-29T12:57:40.347Z"
   },
   {
    "duration": 97,
    "start_time": "2022-11-29T12:58:59.040Z"
   },
   {
    "duration": 411,
    "start_time": "2022-11-29T12:59:09.789Z"
   },
   {
    "duration": 171,
    "start_time": "2022-11-29T12:59:29.517Z"
   },
   {
    "duration": 1290,
    "start_time": "2022-11-29T13:02:21.747Z"
   },
   {
    "duration": 339,
    "start_time": "2022-11-29T13:02:23.039Z"
   },
   {
    "duration": 14,
    "start_time": "2022-11-29T13:02:23.380Z"
   },
   {
    "duration": 22,
    "start_time": "2022-11-29T13:02:23.396Z"
   },
   {
    "duration": 22,
    "start_time": "2022-11-29T13:02:23.422Z"
   },
   {
    "duration": 22,
    "start_time": "2022-11-29T13:02:23.446Z"
   },
   {
    "duration": 12,
    "start_time": "2022-11-29T13:02:23.469Z"
   },
   {
    "duration": 13,
    "start_time": "2022-11-29T13:02:23.483Z"
   },
   {
    "duration": 55,
    "start_time": "2022-11-29T13:02:23.498Z"
   },
   {
    "duration": 7,
    "start_time": "2022-11-29T13:02:23.554Z"
   },
   {
    "duration": 15,
    "start_time": "2022-11-29T13:02:23.563Z"
   },
   {
    "duration": 6,
    "start_time": "2022-11-29T13:02:23.580Z"
   },
   {
    "duration": 6,
    "start_time": "2022-11-29T13:02:23.588Z"
   },
   {
    "duration": 17,
    "start_time": "2022-11-29T13:02:23.597Z"
   },
   {
    "duration": 8,
    "start_time": "2022-11-29T13:02:23.616Z"
   },
   {
    "duration": 9,
    "start_time": "2022-11-29T13:02:23.652Z"
   },
   {
    "duration": 8,
    "start_time": "2022-11-29T13:02:23.662Z"
   },
   {
    "duration": 14,
    "start_time": "2022-11-29T13:02:23.672Z"
   },
   {
    "duration": 6,
    "start_time": "2022-11-29T13:02:23.688Z"
   },
   {
    "duration": 9,
    "start_time": "2022-11-29T13:02:23.695Z"
   },
   {
    "duration": 15,
    "start_time": "2022-11-29T13:02:23.705Z"
   },
   {
    "duration": 8,
    "start_time": "2022-11-29T13:02:23.721Z"
   },
   {
    "duration": 9,
    "start_time": "2022-11-29T13:02:23.754Z"
   },
   {
    "duration": 6,
    "start_time": "2022-11-29T13:02:23.765Z"
   },
   {
    "duration": 6,
    "start_time": "2022-11-29T13:02:23.773Z"
   },
   {
    "duration": 13,
    "start_time": "2022-11-29T13:02:23.780Z"
   },
   {
    "duration": 7,
    "start_time": "2022-11-29T13:02:23.795Z"
   },
   {
    "duration": 102,
    "start_time": "2022-11-29T13:02:23.851Z"
   },
   {
    "duration": 6,
    "start_time": "2022-11-29T13:02:23.955Z"
   },
   {
    "duration": 92,
    "start_time": "2022-11-29T13:02:23.962Z"
   },
   {
    "duration": 17,
    "start_time": "2022-11-29T13:02:24.055Z"
   },
   {
    "duration": 5,
    "start_time": "2022-11-29T13:02:24.073Z"
   },
   {
    "duration": 84,
    "start_time": "2022-11-29T13:02:24.080Z"
   },
   {
    "duration": 96,
    "start_time": "2022-11-29T13:02:24.257Z"
   },
   {
    "duration": 4,
    "start_time": "2022-11-29T13:02:24.355Z"
   },
   {
    "duration": 94,
    "start_time": "2022-11-29T13:09:05.065Z"
   },
   {
    "duration": 5,
    "start_time": "2022-11-29T13:09:09.594Z"
   },
   {
    "duration": 23,
    "start_time": "2022-11-29T13:09:14.166Z"
   },
   {
    "duration": 14,
    "start_time": "2022-11-29T13:09:59.709Z"
   },
   {
    "duration": 28,
    "start_time": "2022-11-29T13:10:11.443Z"
   },
   {
    "duration": 57,
    "start_time": "2022-11-29T13:10:40.578Z"
   },
   {
    "duration": 12,
    "start_time": "2022-11-29T13:13:08.583Z"
   },
   {
    "duration": 12,
    "start_time": "2022-11-29T13:13:16.392Z"
   },
   {
    "duration": 416,
    "start_time": "2022-11-29T13:13:29.539Z"
   },
   {
    "duration": 4,
    "start_time": "2022-11-29T13:13:35.184Z"
   },
   {
    "duration": 331,
    "start_time": "2022-11-29T13:18:03.624Z"
   },
   {
    "duration": 3,
    "start_time": "2022-11-29T13:18:05.615Z"
   },
   {
    "duration": 5,
    "start_time": "2022-11-29T13:18:22.957Z"
   },
   {
    "duration": 15,
    "start_time": "2022-11-29T13:18:39.819Z"
   },
   {
    "duration": 375,
    "start_time": "2022-11-29T13:19:25.479Z"
   },
   {
    "duration": 4,
    "start_time": "2022-11-29T13:19:41.072Z"
   },
   {
    "duration": 4,
    "start_time": "2022-11-29T13:34:24.897Z"
   },
   {
    "duration": 11,
    "start_time": "2022-11-29T13:34:29.896Z"
   },
   {
    "duration": 8,
    "start_time": "2022-11-29T13:34:31.472Z"
   },
   {
    "duration": 9,
    "start_time": "2022-11-29T13:34:32.252Z"
   },
   {
    "duration": 6,
    "start_time": "2022-11-29T13:34:33.631Z"
   },
   {
    "duration": 5,
    "start_time": "2022-11-29T13:34:52.498Z"
   },
   {
    "duration": 43,
    "start_time": "2022-11-29T14:01:52.524Z"
   },
   {
    "duration": 18,
    "start_time": "2022-11-29T14:02:10.312Z"
   },
   {
    "duration": 10,
    "start_time": "2022-11-29T14:02:29.246Z"
   },
   {
    "duration": 9,
    "start_time": "2022-11-29T14:02:44.149Z"
   },
   {
    "duration": 9,
    "start_time": "2022-11-29T14:02:50.458Z"
   },
   {
    "duration": 10,
    "start_time": "2022-11-29T14:03:31.042Z"
   },
   {
    "duration": 9,
    "start_time": "2022-11-29T14:03:33.180Z"
   },
   {
    "duration": 10,
    "start_time": "2022-11-29T14:03:54.067Z"
   },
   {
    "duration": 8,
    "start_time": "2022-11-29T14:03:54.848Z"
   },
   {
    "duration": 9,
    "start_time": "2022-11-29T14:06:21.683Z"
   },
   {
    "duration": 11,
    "start_time": "2022-11-29T14:06:24.166Z"
   },
   {
    "duration": 8,
    "start_time": "2022-11-29T14:09:04.661Z"
   },
   {
    "duration": 14,
    "start_time": "2022-11-29T14:09:21.927Z"
   },
   {
    "duration": 43,
    "start_time": "2022-11-30T02:38:32.946Z"
   },
   {
    "duration": 1419,
    "start_time": "2022-11-30T02:38:39.289Z"
   },
   {
    "duration": 707,
    "start_time": "2022-11-30T02:38:40.709Z"
   },
   {
    "duration": 16,
    "start_time": "2022-11-30T02:38:43.748Z"
   },
   {
    "duration": 296,
    "start_time": "2022-11-30T02:38:45.461Z"
   },
   {
    "duration": 345,
    "start_time": "2022-11-30T02:38:56.254Z"
   },
   {
    "duration": 475,
    "start_time": "2022-11-30T02:39:05.790Z"
   },
   {
    "duration": 445,
    "start_time": "2022-11-30T02:39:16.987Z"
   },
   {
    "duration": 513,
    "start_time": "2022-11-30T02:39:27.259Z"
   },
   {
    "duration": 632,
    "start_time": "2022-11-30T02:39:34.214Z"
   },
   {
    "duration": 15,
    "start_time": "2022-11-30T02:40:38.118Z"
   },
   {
    "duration": 14,
    "start_time": "2022-11-30T03:26:27.196Z"
   },
   {
    "duration": 758,
    "start_time": "2022-11-30T03:26:32.202Z"
   },
   {
    "duration": 14,
    "start_time": "2022-11-30T03:26:46.522Z"
   },
   {
    "duration": 16,
    "start_time": "2022-11-30T03:27:33.750Z"
   },
   {
    "duration": 16,
    "start_time": "2022-11-30T03:27:45.417Z"
   },
   {
    "duration": 15,
    "start_time": "2022-11-30T03:27:54.275Z"
   },
   {
    "duration": 14,
    "start_time": "2022-11-30T03:28:06.601Z"
   },
   {
    "duration": 6,
    "start_time": "2022-11-30T03:33:29.738Z"
   },
   {
    "duration": 10,
    "start_time": "2022-11-30T03:33:39.716Z"
   },
   {
    "duration": 6,
    "start_time": "2022-11-30T03:34:04.868Z"
   },
   {
    "duration": 5,
    "start_time": "2022-11-30T03:34:20.904Z"
   },
   {
    "duration": 13,
    "start_time": "2022-11-30T03:34:36.607Z"
   },
   {
    "duration": 3,
    "start_time": "2022-11-30T03:48:30.291Z"
   },
   {
    "duration": 1319,
    "start_time": "2022-11-30T03:48:59.641Z"
   },
   {
    "duration": 411,
    "start_time": "2022-11-30T03:49:00.961Z"
   },
   {
    "duration": 18,
    "start_time": "2022-11-30T03:49:01.374Z"
   },
   {
    "duration": 774,
    "start_time": "2022-11-30T03:49:01.394Z"
   },
   {
    "duration": 17,
    "start_time": "2022-11-30T03:49:02.170Z"
   },
   {
    "duration": 18,
    "start_time": "2022-11-30T03:49:02.189Z"
   },
   {
    "duration": 41,
    "start_time": "2022-11-30T03:49:02.222Z"
   },
   {
    "duration": 17,
    "start_time": "2022-11-30T03:49:02.265Z"
   },
   {
    "duration": 5,
    "start_time": "2022-11-30T03:49:02.284Z"
   },
   {
    "duration": 20,
    "start_time": "2022-11-30T03:49:02.291Z"
   },
   {
    "duration": 793,
    "start_time": "2022-11-30T03:49:02.312Z"
   },
   {
    "duration": 18,
    "start_time": "2022-11-30T03:49:03.108Z"
   },
   {
    "duration": 21,
    "start_time": "2022-11-30T03:49:03.129Z"
   },
   {
    "duration": 18,
    "start_time": "2022-11-30T03:49:03.153Z"
   },
   {
    "duration": 16,
    "start_time": "2022-11-30T03:49:03.172Z"
   },
   {
    "duration": 153,
    "start_time": "2022-11-30T03:49:03.190Z"
   },
   {
    "duration": 0,
    "start_time": "2022-11-30T03:49:03.345Z"
   },
   {
    "duration": 0,
    "start_time": "2022-11-30T03:49:03.347Z"
   },
   {
    "duration": 0,
    "start_time": "2022-11-30T03:49:03.347Z"
   },
   {
    "duration": 1,
    "start_time": "2022-11-30T03:49:03.348Z"
   },
   {
    "duration": 0,
    "start_time": "2022-11-30T03:49:03.349Z"
   },
   {
    "duration": 0,
    "start_time": "2022-11-30T03:49:03.350Z"
   },
   {
    "duration": 0,
    "start_time": "2022-11-30T03:49:03.351Z"
   },
   {
    "duration": 0,
    "start_time": "2022-11-30T03:49:03.352Z"
   },
   {
    "duration": 0,
    "start_time": "2022-11-30T03:49:03.353Z"
   },
   {
    "duration": 0,
    "start_time": "2022-11-30T03:49:03.354Z"
   },
   {
    "duration": 0,
    "start_time": "2022-11-30T03:49:03.355Z"
   },
   {
    "duration": 0,
    "start_time": "2022-11-30T03:49:03.356Z"
   },
   {
    "duration": 0,
    "start_time": "2022-11-30T03:49:03.358Z"
   },
   {
    "duration": 0,
    "start_time": "2022-11-30T03:49:03.359Z"
   },
   {
    "duration": 0,
    "start_time": "2022-11-30T03:49:03.360Z"
   },
   {
    "duration": 0,
    "start_time": "2022-11-30T03:49:03.361Z"
   },
   {
    "duration": 0,
    "start_time": "2022-11-30T03:49:03.363Z"
   },
   {
    "duration": 0,
    "start_time": "2022-11-30T03:49:03.364Z"
   },
   {
    "duration": 0,
    "start_time": "2022-11-30T03:49:03.366Z"
   },
   {
    "duration": 0,
    "start_time": "2022-11-30T03:49:03.368Z"
   },
   {
    "duration": 0,
    "start_time": "2022-11-30T03:49:03.370Z"
   },
   {
    "duration": 0,
    "start_time": "2022-11-30T03:49:03.371Z"
   },
   {
    "duration": 0,
    "start_time": "2022-11-30T03:49:03.372Z"
   },
   {
    "duration": 0,
    "start_time": "2022-11-30T03:49:03.420Z"
   },
   {
    "duration": 0,
    "start_time": "2022-11-30T03:49:03.422Z"
   },
   {
    "duration": 0,
    "start_time": "2022-11-30T03:49:03.424Z"
   },
   {
    "duration": 0,
    "start_time": "2022-11-30T03:49:03.425Z"
   },
   {
    "duration": 0,
    "start_time": "2022-11-30T03:49:03.427Z"
   },
   {
    "duration": 0,
    "start_time": "2022-11-30T03:49:03.428Z"
   },
   {
    "duration": 0,
    "start_time": "2022-11-30T03:49:03.429Z"
   },
   {
    "duration": 0,
    "start_time": "2022-11-30T03:49:03.431Z"
   },
   {
    "duration": 6,
    "start_time": "2022-11-30T03:49:36.241Z"
   },
   {
    "duration": 1302,
    "start_time": "2022-11-30T03:49:46.607Z"
   },
   {
    "duration": 392,
    "start_time": "2022-11-30T03:49:47.911Z"
   },
   {
    "duration": 17,
    "start_time": "2022-11-30T03:49:48.304Z"
   },
   {
    "duration": 755,
    "start_time": "2022-11-30T03:49:48.323Z"
   },
   {
    "duration": 18,
    "start_time": "2022-11-30T03:49:49.081Z"
   },
   {
    "duration": 34,
    "start_time": "2022-11-30T03:49:49.101Z"
   },
   {
    "duration": 24,
    "start_time": "2022-11-30T03:49:49.136Z"
   },
   {
    "duration": 17,
    "start_time": "2022-11-30T03:49:49.162Z"
   },
   {
    "duration": 11,
    "start_time": "2022-11-30T03:49:49.181Z"
   },
   {
    "duration": 31,
    "start_time": "2022-11-30T03:49:49.193Z"
   },
   {
    "duration": 766,
    "start_time": "2022-11-30T03:49:49.227Z"
   },
   {
    "duration": 13,
    "start_time": "2022-11-30T03:49:49.995Z"
   },
   {
    "duration": 32,
    "start_time": "2022-11-30T03:49:50.010Z"
   },
   {
    "duration": 30,
    "start_time": "2022-11-30T03:49:50.045Z"
   },
   {
    "duration": 15,
    "start_time": "2022-11-30T03:49:50.076Z"
   },
   {
    "duration": 13,
    "start_time": "2022-11-30T03:49:50.093Z"
   },
   {
    "duration": 34,
    "start_time": "2022-11-30T03:49:50.108Z"
   },
   {
    "duration": 7,
    "start_time": "2022-11-30T03:49:50.143Z"
   },
   {
    "duration": 19,
    "start_time": "2022-11-30T03:49:50.152Z"
   },
   {
    "duration": 22,
    "start_time": "2022-11-30T03:49:50.172Z"
   },
   {
    "duration": 14,
    "start_time": "2022-11-30T03:49:50.196Z"
   },
   {
    "duration": 6,
    "start_time": "2022-11-30T03:49:50.212Z"
   },
   {
    "duration": 28,
    "start_time": "2022-11-30T03:49:50.220Z"
   },
   {
    "duration": 14,
    "start_time": "2022-11-30T03:49:50.250Z"
   },
   {
    "duration": 8,
    "start_time": "2022-11-30T03:49:50.266Z"
   },
   {
    "duration": 20,
    "start_time": "2022-11-30T03:49:50.276Z"
   },
   {
    "duration": 11,
    "start_time": "2022-11-30T03:49:50.298Z"
   },
   {
    "duration": 11,
    "start_time": "2022-11-30T03:49:50.312Z"
   },
   {
    "duration": 30,
    "start_time": "2022-11-30T03:49:50.325Z"
   },
   {
    "duration": 9,
    "start_time": "2022-11-30T03:49:50.357Z"
   },
   {
    "duration": 6,
    "start_time": "2022-11-30T03:49:50.368Z"
   },
   {
    "duration": 17,
    "start_time": "2022-11-30T03:49:50.376Z"
   },
   {
    "duration": 2,
    "start_time": "2022-11-30T03:49:50.395Z"
   },
   {
    "duration": 8,
    "start_time": "2022-11-30T03:49:50.399Z"
   },
   {
    "duration": 15,
    "start_time": "2022-11-30T03:49:50.408Z"
   },
   {
    "duration": 22,
    "start_time": "2022-11-30T03:49:50.425Z"
   },
   {
    "duration": 181,
    "start_time": "2022-11-30T03:49:50.449Z"
   },
   {
    "duration": 93,
    "start_time": "2022-11-30T03:49:50.634Z"
   },
   {
    "duration": 94,
    "start_time": "2022-11-30T03:49:50.733Z"
   },
   {
    "duration": 66,
    "start_time": "2022-11-30T03:49:50.831Z"
   },
   {
    "duration": 0,
    "start_time": "2022-11-30T03:49:50.898Z"
   },
   {
    "duration": 0,
    "start_time": "2022-11-30T03:49:50.900Z"
   },
   {
    "duration": 0,
    "start_time": "2022-11-30T03:49:50.901Z"
   },
   {
    "duration": 0,
    "start_time": "2022-11-30T03:49:50.902Z"
   },
   {
    "duration": 0,
    "start_time": "2022-11-30T03:49:50.903Z"
   },
   {
    "duration": 0,
    "start_time": "2022-11-30T03:49:50.904Z"
   },
   {
    "duration": 0,
    "start_time": "2022-11-30T03:49:50.906Z"
   },
   {
    "duration": 1250,
    "start_time": "2022-11-30T03:51:13.613Z"
   },
   {
    "duration": 382,
    "start_time": "2022-11-30T03:51:14.864Z"
   },
   {
    "duration": 20,
    "start_time": "2022-11-30T03:51:15.248Z"
   },
   {
    "duration": 705,
    "start_time": "2022-11-30T03:51:15.271Z"
   },
   {
    "duration": 16,
    "start_time": "2022-11-30T03:51:15.978Z"
   },
   {
    "duration": 31,
    "start_time": "2022-11-30T03:51:15.996Z"
   },
   {
    "duration": 19,
    "start_time": "2022-11-30T03:51:16.029Z"
   },
   {
    "duration": 15,
    "start_time": "2022-11-30T03:51:16.050Z"
   },
   {
    "duration": 6,
    "start_time": "2022-11-30T03:51:16.067Z"
   },
   {
    "duration": 16,
    "start_time": "2022-11-30T03:51:16.075Z"
   },
   {
    "duration": 755,
    "start_time": "2022-11-30T03:51:16.093Z"
   },
   {
    "duration": 15,
    "start_time": "2022-11-30T03:51:16.849Z"
   },
   {
    "duration": 18,
    "start_time": "2022-11-30T03:51:16.865Z"
   },
   {
    "duration": 43,
    "start_time": "2022-11-30T03:51:16.884Z"
   },
   {
    "duration": 16,
    "start_time": "2022-11-30T03:51:16.928Z"
   },
   {
    "duration": 5,
    "start_time": "2022-11-30T03:51:16.946Z"
   },
   {
    "duration": 15,
    "start_time": "2022-11-30T03:51:16.953Z"
   },
   {
    "duration": 7,
    "start_time": "2022-11-30T03:51:16.970Z"
   },
   {
    "duration": 15,
    "start_time": "2022-11-30T03:51:16.978Z"
   },
   {
    "duration": 38,
    "start_time": "2022-11-30T03:51:16.994Z"
   },
   {
    "duration": 16,
    "start_time": "2022-11-30T03:51:17.034Z"
   },
   {
    "duration": 7,
    "start_time": "2022-11-30T03:51:17.052Z"
   },
   {
    "duration": 15,
    "start_time": "2022-11-30T03:51:17.060Z"
   },
   {
    "duration": 7,
    "start_time": "2022-11-30T03:51:17.076Z"
   },
   {
    "duration": 12,
    "start_time": "2022-11-30T03:51:17.084Z"
   },
   {
    "duration": 36,
    "start_time": "2022-11-30T03:51:17.098Z"
   },
   {
    "duration": 7,
    "start_time": "2022-11-30T03:51:17.136Z"
   },
   {
    "duration": 9,
    "start_time": "2022-11-30T03:51:17.146Z"
   },
   {
    "duration": 11,
    "start_time": "2022-11-30T03:51:17.157Z"
   },
   {
    "duration": 6,
    "start_time": "2022-11-30T03:51:17.170Z"
   },
   {
    "duration": 18,
    "start_time": "2022-11-30T03:51:17.177Z"
   },
   {
    "duration": 30,
    "start_time": "2022-11-30T03:51:17.197Z"
   },
   {
    "duration": 3,
    "start_time": "2022-11-30T03:51:17.229Z"
   },
   {
    "duration": 9,
    "start_time": "2022-11-30T03:51:17.233Z"
   },
   {
    "duration": 17,
    "start_time": "2022-11-30T03:51:17.243Z"
   },
   {
    "duration": 60,
    "start_time": "2022-11-30T03:51:17.262Z"
   },
   {
    "duration": 97,
    "start_time": "2022-11-30T03:51:17.324Z"
   },
   {
    "duration": 101,
    "start_time": "2022-11-30T03:51:17.424Z"
   },
   {
    "duration": 9,
    "start_time": "2022-11-30T03:51:17.526Z"
   },
   {
    "duration": 48,
    "start_time": "2022-11-30T03:51:17.537Z"
   },
   {
    "duration": 0,
    "start_time": "2022-11-30T03:51:17.586Z"
   },
   {
    "duration": 0,
    "start_time": "2022-11-30T03:51:17.587Z"
   },
   {
    "duration": 0,
    "start_time": "2022-11-30T03:51:17.589Z"
   },
   {
    "duration": 0,
    "start_time": "2022-11-30T03:51:17.590Z"
   },
   {
    "duration": 0,
    "start_time": "2022-11-30T03:51:17.591Z"
   },
   {
    "duration": 0,
    "start_time": "2022-11-30T03:51:17.592Z"
   },
   {
    "duration": 0,
    "start_time": "2022-11-30T03:51:17.593Z"
   },
   {
    "duration": 9,
    "start_time": "2022-11-30T03:55:09.857Z"
   },
   {
    "duration": 633,
    "start_time": "2022-11-30T03:55:14.282Z"
   },
   {
    "duration": 14,
    "start_time": "2022-11-30T03:55:39.079Z"
   },
   {
    "duration": 905,
    "start_time": "2022-11-30T03:56:19.465Z"
   },
   {
    "duration": 1183,
    "start_time": "2022-11-30T03:58:35.369Z"
   },
   {
    "duration": 341,
    "start_time": "2022-11-30T03:58:36.554Z"
   },
   {
    "duration": 14,
    "start_time": "2022-11-30T03:58:36.896Z"
   },
   {
    "duration": 643,
    "start_time": "2022-11-30T03:58:36.912Z"
   },
   {
    "duration": 16,
    "start_time": "2022-11-30T03:58:37.557Z"
   },
   {
    "duration": 16,
    "start_time": "2022-11-30T03:58:37.574Z"
   },
   {
    "duration": 32,
    "start_time": "2022-11-30T03:58:37.591Z"
   },
   {
    "duration": 15,
    "start_time": "2022-11-30T03:58:37.624Z"
   },
   {
    "duration": 6,
    "start_time": "2022-11-30T03:58:37.640Z"
   },
   {
    "duration": 15,
    "start_time": "2022-11-30T03:58:37.647Z"
   },
   {
    "duration": 694,
    "start_time": "2022-11-30T03:58:37.663Z"
   },
   {
    "duration": 14,
    "start_time": "2022-11-30T03:58:38.359Z"
   },
   {
    "duration": 15,
    "start_time": "2022-11-30T03:58:38.374Z"
   },
   {
    "duration": 37,
    "start_time": "2022-11-30T03:58:38.393Z"
   },
   {
    "duration": 14,
    "start_time": "2022-11-30T03:58:38.431Z"
   },
   {
    "duration": 6,
    "start_time": "2022-11-30T03:58:38.447Z"
   },
   {
    "duration": 20,
    "start_time": "2022-11-30T03:58:38.454Z"
   },
   {
    "duration": 648,
    "start_time": "2022-11-30T03:58:38.475Z"
   },
   {
    "duration": 14,
    "start_time": "2022-11-30T03:58:39.125Z"
   },
   {
    "duration": 16,
    "start_time": "2022-11-30T03:58:39.141Z"
   },
   {
    "duration": 18,
    "start_time": "2022-11-30T03:58:39.158Z"
   },
   {
    "duration": 14,
    "start_time": "2022-11-30T03:58:39.177Z"
   },
   {
    "duration": 28,
    "start_time": "2022-11-30T03:58:39.193Z"
   },
   {
    "duration": 9,
    "start_time": "2022-11-30T03:58:39.222Z"
   },
   {
    "duration": 7,
    "start_time": "2022-11-30T03:58:39.233Z"
   },
   {
    "duration": 7,
    "start_time": "2022-11-30T03:58:39.241Z"
   },
   {
    "duration": 16,
    "start_time": "2022-11-30T03:58:39.250Z"
   },
   {
    "duration": 2,
    "start_time": "2022-11-30T03:58:39.267Z"
   },
   {
    "duration": 20,
    "start_time": "2022-11-30T03:58:39.271Z"
   },
   {
    "duration": 12,
    "start_time": "2022-11-30T03:58:39.292Z"
   },
   {
    "duration": 16,
    "start_time": "2022-11-30T03:58:39.305Z"
   },
   {
    "duration": 6,
    "start_time": "2022-11-30T03:58:39.323Z"
   },
   {
    "duration": 94,
    "start_time": "2022-11-30T03:58:39.331Z"
   },
   {
    "duration": 96,
    "start_time": "2022-11-30T03:58:39.427Z"
   },
   {
    "duration": 47,
    "start_time": "2022-11-30T03:58:39.525Z"
   },
   {
    "duration": 0,
    "start_time": "2022-11-30T03:58:39.574Z"
   },
   {
    "duration": 0,
    "start_time": "2022-11-30T03:58:39.575Z"
   },
   {
    "duration": 0,
    "start_time": "2022-11-30T03:58:39.576Z"
   },
   {
    "duration": 0,
    "start_time": "2022-11-30T03:58:39.577Z"
   },
   {
    "duration": 0,
    "start_time": "2022-11-30T03:58:39.578Z"
   },
   {
    "duration": 0,
    "start_time": "2022-11-30T03:58:39.579Z"
   },
   {
    "duration": 0,
    "start_time": "2022-11-30T03:58:39.580Z"
   },
   {
    "duration": 0,
    "start_time": "2022-11-30T03:58:39.581Z"
   },
   {
    "duration": 0,
    "start_time": "2022-11-30T03:58:39.582Z"
   },
   {
    "duration": 0,
    "start_time": "2022-11-30T03:58:39.583Z"
   },
   {
    "duration": 0,
    "start_time": "2022-11-30T03:58:39.585Z"
   },
   {
    "duration": 0,
    "start_time": "2022-11-30T03:58:39.585Z"
   },
   {
    "duration": 0,
    "start_time": "2022-11-30T03:58:39.586Z"
   },
   {
    "duration": 0,
    "start_time": "2022-11-30T03:58:39.588Z"
   },
   {
    "duration": 0,
    "start_time": "2022-11-30T03:58:39.589Z"
   },
   {
    "duration": 0,
    "start_time": "2022-11-30T03:58:39.590Z"
   },
   {
    "duration": 0,
    "start_time": "2022-11-30T03:58:39.591Z"
   },
   {
    "duration": 0,
    "start_time": "2022-11-30T03:58:39.592Z"
   },
   {
    "duration": 48,
    "start_time": "2022-11-30T06:11:02.779Z"
   },
   {
    "duration": 1585,
    "start_time": "2022-11-30T06:11:09.448Z"
   },
   {
    "duration": 849,
    "start_time": "2022-11-30T06:11:11.035Z"
   },
   {
    "duration": 17,
    "start_time": "2022-11-30T06:11:11.885Z"
   },
   {
    "duration": 731,
    "start_time": "2022-11-30T06:11:11.904Z"
   },
   {
    "duration": 19,
    "start_time": "2022-11-30T06:11:12.637Z"
   },
   {
    "duration": 35,
    "start_time": "2022-11-30T06:11:12.658Z"
   },
   {
    "duration": 118,
    "start_time": "2022-11-30T06:11:12.695Z"
   },
   {
    "duration": 18,
    "start_time": "2022-11-30T06:11:12.814Z"
   },
   {
    "duration": 23,
    "start_time": "2022-11-30T06:11:12.833Z"
   },
   {
    "duration": 19,
    "start_time": "2022-11-30T06:11:12.858Z"
   },
   {
    "duration": 677,
    "start_time": "2022-11-30T06:11:12.879Z"
   },
   {
    "duration": 44,
    "start_time": "2022-11-30T06:11:13.558Z"
   },
   {
    "duration": 17,
    "start_time": "2022-11-30T06:11:13.603Z"
   },
   {
    "duration": 20,
    "start_time": "2022-11-30T06:11:13.622Z"
   },
   {
    "duration": 46,
    "start_time": "2022-11-30T06:11:13.643Z"
   },
   {
    "duration": 15,
    "start_time": "2022-11-30T06:11:13.691Z"
   },
   {
    "duration": 14,
    "start_time": "2022-11-30T06:11:13.708Z"
   },
   {
    "duration": 19,
    "start_time": "2022-11-30T06:11:13.724Z"
   },
   {
    "duration": 712,
    "start_time": "2022-11-30T06:11:13.745Z"
   },
   {
    "duration": 23,
    "start_time": "2022-11-30T06:11:14.458Z"
   },
   {
    "duration": 18,
    "start_time": "2022-11-30T06:11:14.483Z"
   },
   {
    "duration": 30,
    "start_time": "2022-11-30T06:11:14.503Z"
   },
   {
    "duration": 29,
    "start_time": "2022-11-30T06:11:14.535Z"
   },
   {
    "duration": 7,
    "start_time": "2022-11-30T06:11:14.566Z"
   },
   {
    "duration": 19,
    "start_time": "2022-11-30T06:11:14.574Z"
   },
   {
    "duration": 6,
    "start_time": "2022-11-30T06:11:14.595Z"
   },
   {
    "duration": 20,
    "start_time": "2022-11-30T06:11:14.603Z"
   },
   {
    "duration": 21,
    "start_time": "2022-11-30T06:11:14.626Z"
   },
   {
    "duration": 9,
    "start_time": "2022-11-30T06:11:14.649Z"
   },
   {
    "duration": 25,
    "start_time": "2022-11-30T06:11:14.659Z"
   },
   {
    "duration": 25,
    "start_time": "2022-11-30T06:11:14.685Z"
   },
   {
    "duration": 176,
    "start_time": "2022-11-30T06:11:14.713Z"
   },
   {
    "duration": 192,
    "start_time": "2022-11-30T06:11:14.891Z"
   },
   {
    "duration": 195,
    "start_time": "2022-11-30T06:11:15.085Z"
   },
   {
    "duration": 16,
    "start_time": "2022-11-30T06:11:15.282Z"
   },
   {
    "duration": 47,
    "start_time": "2022-11-30T06:11:15.300Z"
   },
   {
    "duration": 0,
    "start_time": "2022-11-30T06:11:15.349Z"
   },
   {
    "duration": 0,
    "start_time": "2022-11-30T06:11:15.350Z"
   },
   {
    "duration": 0,
    "start_time": "2022-11-30T06:11:15.351Z"
   },
   {
    "duration": 0,
    "start_time": "2022-11-30T06:11:15.352Z"
   },
   {
    "duration": 0,
    "start_time": "2022-11-30T06:11:15.354Z"
   },
   {
    "duration": 0,
    "start_time": "2022-11-30T06:11:15.355Z"
   },
   {
    "duration": 0,
    "start_time": "2022-11-30T06:11:15.356Z"
   },
   {
    "duration": 0,
    "start_time": "2022-11-30T06:11:15.357Z"
   },
   {
    "duration": 0,
    "start_time": "2022-11-30T06:11:15.358Z"
   },
   {
    "duration": 0,
    "start_time": "2022-11-30T06:11:15.359Z"
   },
   {
    "duration": 0,
    "start_time": "2022-11-30T06:11:15.360Z"
   },
   {
    "duration": 0,
    "start_time": "2022-11-30T06:11:15.361Z"
   },
   {
    "duration": 0,
    "start_time": "2022-11-30T06:11:15.361Z"
   },
   {
    "duration": 0,
    "start_time": "2022-11-30T06:11:15.362Z"
   },
   {
    "duration": 0,
    "start_time": "2022-11-30T06:11:15.364Z"
   },
   {
    "duration": 0,
    "start_time": "2022-11-30T06:11:15.364Z"
   },
   {
    "duration": 0,
    "start_time": "2022-11-30T06:11:15.365Z"
   },
   {
    "duration": 0,
    "start_time": "2022-11-30T06:11:15.366Z"
   },
   {
    "duration": 37,
    "start_time": "2022-11-30T06:13:17.329Z"
   },
   {
    "duration": 37,
    "start_time": "2022-11-30T06:13:43.707Z"
   },
   {
    "duration": 10,
    "start_time": "2022-11-30T06:19:57.995Z"
   },
   {
    "duration": 6,
    "start_time": "2022-11-30T06:19:58.370Z"
   },
   {
    "duration": 5,
    "start_time": "2022-11-30T06:19:58.926Z"
   },
   {
    "duration": 15,
    "start_time": "2022-11-30T06:20:03.175Z"
   },
   {
    "duration": 9,
    "start_time": "2022-11-30T06:20:14.534Z"
   },
   {
    "duration": 6,
    "start_time": "2022-11-30T06:20:14.833Z"
   },
   {
    "duration": 5,
    "start_time": "2022-11-30T06:20:15.202Z"
   },
   {
    "duration": 5,
    "start_time": "2022-11-30T07:16:14.442Z"
   },
   {
    "duration": 132,
    "start_time": "2022-11-30T07:19:31.445Z"
   },
   {
    "duration": 3,
    "start_time": "2022-11-30T07:19:40.389Z"
   },
   {
    "duration": 5,
    "start_time": "2022-11-30T07:20:58.039Z"
   },
   {
    "duration": 4,
    "start_time": "2022-11-30T07:21:01.719Z"
   },
   {
    "duration": 4,
    "start_time": "2022-11-30T07:21:17.154Z"
   },
   {
    "duration": 4,
    "start_time": "2022-11-30T07:21:52.931Z"
   },
   {
    "duration": 6,
    "start_time": "2022-11-30T07:22:04.820Z"
   },
   {
    "duration": 2,
    "start_time": "2022-11-30T07:31:41.018Z"
   },
   {
    "duration": 3,
    "start_time": "2022-11-30T07:33:49.010Z"
   },
   {
    "duration": 3,
    "start_time": "2022-11-30T07:38:01.693Z"
   },
   {
    "duration": 3,
    "start_time": "2022-11-30T07:44:33.169Z"
   },
   {
    "duration": 3,
    "start_time": "2022-11-30T07:45:30.785Z"
   },
   {
    "duration": 3,
    "start_time": "2022-11-30T07:45:40.972Z"
   },
   {
    "duration": 3,
    "start_time": "2022-11-30T07:46:16.456Z"
   },
   {
    "duration": 3,
    "start_time": "2022-11-30T07:46:19.528Z"
   },
   {
    "duration": 2,
    "start_time": "2022-11-30T07:46:47.188Z"
   },
   {
    "duration": 3,
    "start_time": "2022-11-30T07:53:49.017Z"
   },
   {
    "duration": 3,
    "start_time": "2022-11-30T07:54:01.197Z"
   },
   {
    "duration": 3,
    "start_time": "2022-11-30T08:25:13.403Z"
   },
   {
    "duration": 4,
    "start_time": "2022-11-30T08:25:15.601Z"
   },
   {
    "duration": 4,
    "start_time": "2022-11-30T08:25:24.007Z"
   },
   {
    "duration": 4,
    "start_time": "2022-11-30T09:30:52.237Z"
   },
   {
    "duration": 9,
    "start_time": "2022-11-30T09:31:01.781Z"
   },
   {
    "duration": 8,
    "start_time": "2022-11-30T09:31:26.715Z"
   },
   {
    "duration": 15,
    "start_time": "2022-11-30T09:31:48.716Z"
   },
   {
    "duration": 11,
    "start_time": "2022-11-30T09:32:00.216Z"
   },
   {
    "duration": 9,
    "start_time": "2022-11-30T09:32:16.627Z"
   },
   {
    "duration": 3,
    "start_time": "2022-11-30T09:32:29.072Z"
   },
   {
    "duration": 6,
    "start_time": "2022-11-30T09:32:37.430Z"
   },
   {
    "duration": 5,
    "start_time": "2022-11-30T09:33:00.254Z"
   },
   {
    "duration": 11,
    "start_time": "2022-11-30T09:34:26.000Z"
   },
   {
    "duration": 11,
    "start_time": "2022-11-30T09:35:35.322Z"
   },
   {
    "duration": 8,
    "start_time": "2022-11-30T09:35:43.929Z"
   },
   {
    "duration": 51,
    "start_time": "2022-11-30T09:37:52.043Z"
   },
   {
    "duration": 3,
    "start_time": "2022-11-30T09:38:07.167Z"
   },
   {
    "duration": 9,
    "start_time": "2022-11-30T09:39:18.132Z"
   },
   {
    "duration": 3,
    "start_time": "2022-11-30T09:39:43.514Z"
   },
   {
    "duration": 12,
    "start_time": "2022-11-30T09:39:57.330Z"
   },
   {
    "duration": 3,
    "start_time": "2022-11-30T09:40:13.992Z"
   },
   {
    "duration": 7,
    "start_time": "2022-11-30T09:40:14.844Z"
   },
   {
    "duration": 5,
    "start_time": "2022-11-30T09:40:51.623Z"
   },
   {
    "duration": 5,
    "start_time": "2022-11-30T09:41:05.989Z"
   },
   {
    "duration": 3,
    "start_time": "2022-11-30T09:43:59.765Z"
   },
   {
    "duration": 6,
    "start_time": "2022-11-30T09:44:01.122Z"
   },
   {
    "duration": 5,
    "start_time": "2022-11-30T09:44:14.642Z"
   },
   {
    "duration": 3,
    "start_time": "2022-11-30T11:03:15.098Z"
   },
   {
    "duration": 3,
    "start_time": "2022-11-30T11:04:12.938Z"
   },
   {
    "duration": 2,
    "start_time": "2022-11-30T11:04:18.654Z"
   },
   {
    "duration": 1425,
    "start_time": "2022-11-30T11:05:25.756Z"
   },
   {
    "duration": 10,
    "start_time": "2022-11-30T11:05:39.610Z"
   },
   {
    "duration": 8,
    "start_time": "2022-11-30T11:06:03.045Z"
   },
   {
    "duration": 74,
    "start_time": "2022-11-30T11:06:17.446Z"
   },
   {
    "duration": 1343,
    "start_time": "2022-11-30T11:06:23.035Z"
   },
   {
    "duration": 9,
    "start_time": "2022-11-30T11:06:24.380Z"
   },
   {
    "duration": 27,
    "start_time": "2022-11-30T11:07:27.551Z"
   },
   {
    "duration": 9,
    "start_time": "2022-11-30T11:07:34.048Z"
   },
   {
    "duration": 9,
    "start_time": "2022-11-30T11:09:02.537Z"
   },
   {
    "duration": 9,
    "start_time": "2022-11-30T11:09:05.910Z"
   },
   {
    "duration": 3,
    "start_time": "2022-11-30T11:09:18.003Z"
   },
   {
    "duration": 4,
    "start_time": "2022-11-30T11:13:10.688Z"
   },
   {
    "duration": 6,
    "start_time": "2022-11-30T11:13:17.225Z"
   },
   {
    "duration": 3,
    "start_time": "2022-11-30T11:13:26.080Z"
   },
   {
    "duration": 5,
    "start_time": "2022-11-30T11:13:27.161Z"
   },
   {
    "duration": 6,
    "start_time": "2022-11-30T11:13:45.820Z"
   },
   {
    "duration": 10,
    "start_time": "2022-11-30T11:13:55.954Z"
   },
   {
    "duration": 5,
    "start_time": "2022-11-30T11:14:03.549Z"
   },
   {
    "duration": 4,
    "start_time": "2022-11-30T11:14:17.738Z"
   },
   {
    "duration": 3,
    "start_time": "2022-11-30T11:14:22.955Z"
   },
   {
    "duration": 4,
    "start_time": "2022-11-30T11:22:35.896Z"
   },
   {
    "duration": 3,
    "start_time": "2022-11-30T11:26:14.344Z"
   },
   {
    "duration": 6,
    "start_time": "2022-11-30T11:26:43.256Z"
   },
   {
    "duration": 4,
    "start_time": "2022-11-30T11:26:44.652Z"
   },
   {
    "duration": 5,
    "start_time": "2022-11-30T11:27:03.960Z"
   },
   {
    "duration": 4,
    "start_time": "2022-11-30T11:27:05.528Z"
   },
   {
    "duration": 5,
    "start_time": "2022-11-30T11:27:37.374Z"
   },
   {
    "duration": 4,
    "start_time": "2022-11-30T11:27:42.815Z"
   },
   {
    "duration": 4,
    "start_time": "2022-11-30T11:27:45.223Z"
   },
   {
    "duration": 3,
    "start_time": "2022-11-30T11:28:50.904Z"
   },
   {
    "duration": 3,
    "start_time": "2022-11-30T11:28:53.273Z"
   },
   {
    "duration": 5,
    "start_time": "2022-11-30T11:28:53.910Z"
   },
   {
    "duration": 3,
    "start_time": "2022-11-30T11:29:09.368Z"
   },
   {
    "duration": 4,
    "start_time": "2022-11-30T11:29:09.891Z"
   },
   {
    "duration": 3,
    "start_time": "2022-11-30T11:29:10.262Z"
   },
   {
    "duration": 3,
    "start_time": "2022-11-30T11:30:04.061Z"
   },
   {
    "duration": 5,
    "start_time": "2022-11-30T11:30:07.222Z"
   },
   {
    "duration": 3,
    "start_time": "2022-11-30T11:30:07.816Z"
   },
   {
    "duration": 3,
    "start_time": "2022-11-30T11:30:14.055Z"
   },
   {
    "duration": 4,
    "start_time": "2022-11-30T11:30:14.310Z"
   },
   {
    "duration": 3,
    "start_time": "2022-11-30T11:30:14.604Z"
   },
   {
    "duration": 3,
    "start_time": "2022-11-30T11:31:05.830Z"
   },
   {
    "duration": 8,
    "start_time": "2022-11-30T11:32:03.062Z"
   },
   {
    "duration": 2,
    "start_time": "2022-11-30T11:32:27.038Z"
   },
   {
    "duration": 3,
    "start_time": "2022-11-30T11:46:44.485Z"
   },
   {
    "duration": 4,
    "start_time": "2022-11-30T11:47:01.142Z"
   },
   {
    "duration": 5,
    "start_time": "2022-11-30T11:47:01.594Z"
   },
   {
    "duration": 3,
    "start_time": "2022-11-30T11:50:57.486Z"
   },
   {
    "duration": 4,
    "start_time": "2022-11-30T11:52:11.534Z"
   },
   {
    "duration": 1345,
    "start_time": "2022-11-30T11:53:25.595Z"
   },
   {
    "duration": 1570,
    "start_time": "2022-11-30T11:53:43.721Z"
   },
   {
    "duration": 5,
    "start_time": "2022-11-30T11:54:02.978Z"
   },
   {
    "duration": 1472,
    "start_time": "2022-11-30T11:59:21.333Z"
   },
   {
    "duration": 3,
    "start_time": "2022-11-30T11:59:22.807Z"
   },
   {
    "duration": 1413,
    "start_time": "2022-11-30T11:59:31.365Z"
   },
   {
    "duration": 4,
    "start_time": "2022-11-30T11:59:34.193Z"
   },
   {
    "duration": 1502,
    "start_time": "2022-11-30T11:59:37.190Z"
   },
   {
    "duration": 4,
    "start_time": "2022-11-30T11:59:39.588Z"
   },
   {
    "duration": 6,
    "start_time": "2022-11-30T13:08:41.269Z"
   },
   {
    "duration": 6,
    "start_time": "2022-11-30T13:09:04.367Z"
   },
   {
    "duration": 1410,
    "start_time": "2022-11-30T13:10:05.136Z"
   },
   {
    "duration": 6,
    "start_time": "2022-11-30T13:10:08.411Z"
   },
   {
    "duration": 5,
    "start_time": "2022-11-30T13:10:32.192Z"
   },
   {
    "duration": 4,
    "start_time": "2022-11-30T13:10:33.697Z"
   },
   {
    "duration": 5,
    "start_time": "2022-11-30T13:12:50.280Z"
   },
   {
    "duration": 5,
    "start_time": "2022-11-30T13:12:54.454Z"
   },
   {
    "duration": 5,
    "start_time": "2022-11-30T13:13:00.985Z"
   },
   {
    "duration": 6,
    "start_time": "2022-11-30T13:13:10.813Z"
   },
   {
    "duration": 6,
    "start_time": "2022-11-30T13:13:13.594Z"
   },
   {
    "duration": 5,
    "start_time": "2022-11-30T13:13:15.843Z"
   },
   {
    "duration": 6,
    "start_time": "2022-11-30T13:13:18.774Z"
   },
   {
    "duration": 6,
    "start_time": "2022-11-30T13:13:23.280Z"
   },
   {
    "duration": 5,
    "start_time": "2022-11-30T13:13:26.254Z"
   },
   {
    "duration": 5,
    "start_time": "2022-11-30T13:13:28.361Z"
   },
   {
    "duration": 6,
    "start_time": "2022-11-30T13:13:30.710Z"
   },
   {
    "duration": 6,
    "start_time": "2022-11-30T13:13:34.808Z"
   },
   {
    "duration": 6,
    "start_time": "2022-11-30T13:13:37.674Z"
   },
   {
    "duration": 5,
    "start_time": "2022-11-30T13:13:40.613Z"
   },
   {
    "duration": 5,
    "start_time": "2022-11-30T13:13:43.815Z"
   },
   {
    "duration": 7,
    "start_time": "2022-11-30T13:14:23.234Z"
   },
   {
    "duration": 6,
    "start_time": "2022-11-30T13:16:59.527Z"
   },
   {
    "duration": 1444,
    "start_time": "2022-11-30T13:20:41.691Z"
   },
   {
    "duration": 482,
    "start_time": "2022-11-30T13:20:43.137Z"
   },
   {
    "duration": 25,
    "start_time": "2022-11-30T13:20:43.622Z"
   },
   {
    "duration": 807,
    "start_time": "2022-11-30T13:20:43.650Z"
   },
   {
    "duration": 52,
    "start_time": "2022-11-30T13:20:44.458Z"
   },
   {
    "duration": 17,
    "start_time": "2022-11-30T13:20:44.512Z"
   },
   {
    "duration": 19,
    "start_time": "2022-11-30T13:20:44.531Z"
   },
   {
    "duration": 19,
    "start_time": "2022-11-30T13:20:44.576Z"
   },
   {
    "duration": 20,
    "start_time": "2022-11-30T13:20:44.597Z"
   },
   {
    "duration": 12,
    "start_time": "2022-11-30T13:20:44.620Z"
   },
   {
    "duration": 27,
    "start_time": "2022-11-30T13:20:44.633Z"
   },
   {
    "duration": 1632,
    "start_time": "2022-11-30T13:20:44.677Z"
   },
   {
    "duration": 105,
    "start_time": "2022-11-30T13:20:46.311Z"
   },
   {
    "duration": 74,
    "start_time": "2022-11-30T13:20:46.418Z"
   },
   {
    "duration": 83,
    "start_time": "2022-11-30T13:20:46.495Z"
   },
   {
    "duration": 22,
    "start_time": "2022-11-30T13:20:46.580Z"
   },
   {
    "duration": 17,
    "start_time": "2022-11-30T13:20:46.604Z"
   },
   {
    "duration": 55,
    "start_time": "2022-11-30T13:20:46.622Z"
   },
   {
    "duration": 24,
    "start_time": "2022-11-30T13:20:46.679Z"
   },
   {
    "duration": 988,
    "start_time": "2022-11-30T13:20:46.705Z"
   },
   {
    "duration": 39,
    "start_time": "2022-11-30T13:20:47.695Z"
   },
   {
    "duration": 15,
    "start_time": "2022-11-30T13:20:47.736Z"
   },
   {
    "duration": 20,
    "start_time": "2022-11-30T13:20:47.777Z"
   },
   {
    "duration": 41,
    "start_time": "2022-11-30T13:20:47.799Z"
   },
   {
    "duration": 16,
    "start_time": "2022-11-30T13:20:47.842Z"
   },
   {
    "duration": 6,
    "start_time": "2022-11-30T13:20:47.860Z"
   },
   {
    "duration": 13,
    "start_time": "2022-11-30T13:20:47.867Z"
   },
   {
    "duration": 6,
    "start_time": "2022-11-30T13:20:47.885Z"
   },
   {
    "duration": 9,
    "start_time": "2022-11-30T13:20:47.893Z"
   },
   {
    "duration": 5,
    "start_time": "2022-11-30T13:20:47.904Z"
   },
   {
    "duration": 20,
    "start_time": "2022-11-30T13:20:47.910Z"
   },
   {
    "duration": 45,
    "start_time": "2022-11-30T13:20:47.932Z"
   },
   {
    "duration": 98,
    "start_time": "2022-11-30T13:20:47.979Z"
   },
   {
    "duration": 112,
    "start_time": "2022-11-30T13:20:48.078Z"
   },
   {
    "duration": 0,
    "start_time": "2022-11-30T13:20:48.192Z"
   },
   {
    "duration": 0,
    "start_time": "2022-11-30T13:20:48.193Z"
   },
   {
    "duration": 0,
    "start_time": "2022-11-30T13:20:48.194Z"
   },
   {
    "duration": 0,
    "start_time": "2022-11-30T13:20:48.195Z"
   },
   {
    "duration": 0,
    "start_time": "2022-11-30T13:20:48.197Z"
   },
   {
    "duration": 0,
    "start_time": "2022-11-30T13:20:48.198Z"
   },
   {
    "duration": 0,
    "start_time": "2022-11-30T13:20:48.199Z"
   },
   {
    "duration": 0,
    "start_time": "2022-11-30T13:20:48.200Z"
   },
   {
    "duration": 0,
    "start_time": "2022-11-30T13:20:48.202Z"
   },
   {
    "duration": 0,
    "start_time": "2022-11-30T13:20:48.203Z"
   },
   {
    "duration": 0,
    "start_time": "2022-11-30T13:20:48.204Z"
   },
   {
    "duration": 0,
    "start_time": "2022-11-30T13:20:48.204Z"
   },
   {
    "duration": 0,
    "start_time": "2022-11-30T13:20:48.205Z"
   },
   {
    "duration": 0,
    "start_time": "2022-11-30T13:20:48.206Z"
   },
   {
    "duration": 0,
    "start_time": "2022-11-30T13:20:48.207Z"
   },
   {
    "duration": 0,
    "start_time": "2022-11-30T13:20:48.208Z"
   },
   {
    "duration": 0,
    "start_time": "2022-11-30T13:20:48.209Z"
   },
   {
    "duration": 0,
    "start_time": "2022-11-30T13:20:48.210Z"
   },
   {
    "duration": 0,
    "start_time": "2022-11-30T13:20:48.212Z"
   },
   {
    "duration": 0,
    "start_time": "2022-11-30T13:20:48.213Z"
   },
   {
    "duration": 0,
    "start_time": "2022-11-30T13:20:48.214Z"
   },
   {
    "duration": 0,
    "start_time": "2022-11-30T13:20:48.215Z"
   },
   {
    "duration": 0,
    "start_time": "2022-11-30T13:20:48.216Z"
   },
   {
    "duration": 0,
    "start_time": "2022-11-30T13:20:48.218Z"
   },
   {
    "duration": 0,
    "start_time": "2022-11-30T13:20:48.219Z"
   },
   {
    "duration": 0,
    "start_time": "2022-11-30T13:20:48.220Z"
   },
   {
    "duration": 0,
    "start_time": "2022-11-30T13:20:48.222Z"
   },
   {
    "duration": 0,
    "start_time": "2022-11-30T13:20:48.223Z"
   },
   {
    "duration": 0,
    "start_time": "2022-11-30T13:20:48.224Z"
   },
   {
    "duration": 0,
    "start_time": "2022-11-30T13:20:48.225Z"
   },
   {
    "duration": 0,
    "start_time": "2022-11-30T13:20:48.278Z"
   },
   {
    "duration": 0,
    "start_time": "2022-11-30T13:20:48.279Z"
   },
   {
    "duration": 0,
    "start_time": "2022-11-30T13:20:48.280Z"
   },
   {
    "duration": 0,
    "start_time": "2022-11-30T13:20:48.281Z"
   },
   {
    "duration": 0,
    "start_time": "2022-11-30T13:20:48.282Z"
   },
   {
    "duration": 0,
    "start_time": "2022-11-30T13:20:48.283Z"
   },
   {
    "duration": 0,
    "start_time": "2022-11-30T13:20:48.284Z"
   },
   {
    "duration": 0,
    "start_time": "2022-11-30T13:20:48.285Z"
   },
   {
    "duration": 0,
    "start_time": "2022-11-30T13:20:48.287Z"
   },
   {
    "duration": 0,
    "start_time": "2022-11-30T13:20:48.288Z"
   },
   {
    "duration": 0,
    "start_time": "2022-11-30T13:20:48.289Z"
   },
   {
    "duration": 0,
    "start_time": "2022-11-30T13:20:48.289Z"
   },
   {
    "duration": 9,
    "start_time": "2022-11-30T13:21:18.646Z"
   },
   {
    "duration": 1470,
    "start_time": "2022-11-30T13:21:39.540Z"
   },
   {
    "duration": 416,
    "start_time": "2022-11-30T13:21:41.013Z"
   },
   {
    "duration": 18,
    "start_time": "2022-11-30T13:21:41.431Z"
   },
   {
    "duration": 806,
    "start_time": "2022-11-30T13:21:41.451Z"
   },
   {
    "duration": 49,
    "start_time": "2022-11-30T13:21:42.259Z"
   },
   {
    "duration": 15,
    "start_time": "2022-11-30T13:21:42.310Z"
   },
   {
    "duration": 20,
    "start_time": "2022-11-30T13:21:42.327Z"
   },
   {
    "duration": 42,
    "start_time": "2022-11-30T13:21:42.349Z"
   },
   {
    "duration": 20,
    "start_time": "2022-11-30T13:21:42.393Z"
   },
   {
    "duration": 19,
    "start_time": "2022-11-30T13:21:42.415Z"
   },
   {
    "duration": 22,
    "start_time": "2022-11-30T13:21:42.435Z"
   },
   {
    "duration": 873,
    "start_time": "2022-11-30T13:21:42.459Z"
   },
   {
    "duration": 53,
    "start_time": "2022-11-30T13:21:43.334Z"
   },
   {
    "duration": 17,
    "start_time": "2022-11-30T13:21:43.391Z"
   },
   {
    "duration": 22,
    "start_time": "2022-11-30T13:21:43.410Z"
   },
   {
    "duration": 51,
    "start_time": "2022-11-30T13:21:43.434Z"
   },
   {
    "duration": 18,
    "start_time": "2022-11-30T13:21:43.487Z"
   },
   {
    "duration": 11,
    "start_time": "2022-11-30T13:21:43.507Z"
   },
   {
    "duration": 24,
    "start_time": "2022-11-30T13:21:43.520Z"
   },
   {
    "duration": 827,
    "start_time": "2022-11-30T13:21:43.546Z"
   },
   {
    "duration": 56,
    "start_time": "2022-11-30T13:21:44.376Z"
   },
   {
    "duration": 43,
    "start_time": "2022-11-30T13:21:44.434Z"
   },
   {
    "duration": 31,
    "start_time": "2022-11-30T13:21:44.480Z"
   },
   {
    "duration": 27,
    "start_time": "2022-11-30T13:21:44.515Z"
   },
   {
    "duration": 36,
    "start_time": "2022-11-30T13:21:44.543Z"
   },
   {
    "duration": 7,
    "start_time": "2022-11-30T13:21:44.581Z"
   },
   {
    "duration": 24,
    "start_time": "2022-11-30T13:21:44.590Z"
   },
   {
    "duration": 19,
    "start_time": "2022-11-30T13:21:44.616Z"
   },
   {
    "duration": 11,
    "start_time": "2022-11-30T13:21:44.637Z"
   },
   {
    "duration": 8,
    "start_time": "2022-11-30T13:21:44.650Z"
   },
   {
    "duration": 28,
    "start_time": "2022-11-30T13:21:44.659Z"
   },
   {
    "duration": 16,
    "start_time": "2022-11-30T13:21:44.689Z"
   },
   {
    "duration": 104,
    "start_time": "2022-11-30T13:21:44.778Z"
   },
   {
    "duration": 26,
    "start_time": "2022-11-30T13:21:44.885Z"
   },
   {
    "duration": 15,
    "start_time": "2022-11-30T13:21:44.913Z"
   },
   {
    "duration": 15,
    "start_time": "2022-11-30T13:21:44.930Z"
   },
   {
    "duration": 49,
    "start_time": "2022-11-30T13:21:44.948Z"
   },
   {
    "duration": 45,
    "start_time": "2022-11-30T13:21:44.998Z"
   },
   {
    "duration": 21,
    "start_time": "2022-11-30T13:21:45.046Z"
   },
   {
    "duration": 27,
    "start_time": "2022-11-30T13:21:45.070Z"
   },
   {
    "duration": 81,
    "start_time": "2022-11-30T13:21:45.104Z"
   },
   {
    "duration": 1,
    "start_time": "2022-11-30T13:21:45.187Z"
   },
   {
    "duration": 0,
    "start_time": "2022-11-30T13:21:45.189Z"
   },
   {
    "duration": 0,
    "start_time": "2022-11-30T13:21:45.190Z"
   },
   {
    "duration": 0,
    "start_time": "2022-11-30T13:21:45.192Z"
   },
   {
    "duration": 0,
    "start_time": "2022-11-30T13:21:45.193Z"
   },
   {
    "duration": 0,
    "start_time": "2022-11-30T13:21:45.194Z"
   },
   {
    "duration": 0,
    "start_time": "2022-11-30T13:21:45.195Z"
   },
   {
    "duration": 0,
    "start_time": "2022-11-30T13:21:45.197Z"
   },
   {
    "duration": 0,
    "start_time": "2022-11-30T13:21:45.198Z"
   },
   {
    "duration": 0,
    "start_time": "2022-11-30T13:21:45.199Z"
   },
   {
    "duration": 0,
    "start_time": "2022-11-30T13:21:45.201Z"
   },
   {
    "duration": 0,
    "start_time": "2022-11-30T13:21:45.202Z"
   },
   {
    "duration": 0,
    "start_time": "2022-11-30T13:21:45.203Z"
   },
   {
    "duration": 0,
    "start_time": "2022-11-30T13:21:45.204Z"
   },
   {
    "duration": 0,
    "start_time": "2022-11-30T13:21:45.206Z"
   },
   {
    "duration": 0,
    "start_time": "2022-11-30T13:21:45.207Z"
   },
   {
    "duration": 0,
    "start_time": "2022-11-30T13:21:45.208Z"
   },
   {
    "duration": 0,
    "start_time": "2022-11-30T13:21:45.209Z"
   },
   {
    "duration": 0,
    "start_time": "2022-11-30T13:21:45.211Z"
   },
   {
    "duration": 0,
    "start_time": "2022-11-30T13:21:45.212Z"
   },
   {
    "duration": 0,
    "start_time": "2022-11-30T13:21:45.213Z"
   },
   {
    "duration": 0,
    "start_time": "2022-11-30T13:21:45.214Z"
   },
   {
    "duration": 0,
    "start_time": "2022-11-30T13:21:45.215Z"
   },
   {
    "duration": 0,
    "start_time": "2022-11-30T13:21:45.216Z"
   },
   {
    "duration": 0,
    "start_time": "2022-11-30T13:21:45.217Z"
   },
   {
    "duration": 0,
    "start_time": "2022-11-30T13:21:45.218Z"
   },
   {
    "duration": 1,
    "start_time": "2022-11-30T13:21:45.219Z"
   },
   {
    "duration": 0,
    "start_time": "2022-11-30T13:21:45.220Z"
   },
   {
    "duration": 0,
    "start_time": "2022-11-30T13:21:45.222Z"
   },
   {
    "duration": 0,
    "start_time": "2022-11-30T13:21:45.223Z"
   },
   {
    "duration": 0,
    "start_time": "2022-11-30T13:21:45.224Z"
   },
   {
    "duration": 0,
    "start_time": "2022-11-30T13:21:45.225Z"
   },
   {
    "duration": 0,
    "start_time": "2022-11-30T13:21:45.276Z"
   },
   {
    "duration": 0,
    "start_time": "2022-11-30T13:21:45.278Z"
   },
   {
    "duration": 4,
    "start_time": "2022-11-30T13:22:16.188Z"
   },
   {
    "duration": 1488,
    "start_time": "2022-11-30T13:23:07.134Z"
   },
   {
    "duration": 427,
    "start_time": "2022-11-30T13:23:08.624Z"
   },
   {
    "duration": 24,
    "start_time": "2022-11-30T13:23:09.052Z"
   },
   {
    "duration": 820,
    "start_time": "2022-11-30T13:23:09.079Z"
   },
   {
    "duration": 39,
    "start_time": "2022-11-30T13:23:09.901Z"
   },
   {
    "duration": 36,
    "start_time": "2022-11-30T13:23:09.942Z"
   },
   {
    "duration": 23,
    "start_time": "2022-11-30T13:23:09.979Z"
   },
   {
    "duration": 72,
    "start_time": "2022-11-30T13:23:10.004Z"
   },
   {
    "duration": 21,
    "start_time": "2022-11-30T13:23:10.078Z"
   },
   {
    "duration": 24,
    "start_time": "2022-11-30T13:23:10.102Z"
   },
   {
    "duration": 31,
    "start_time": "2022-11-30T13:23:10.129Z"
   },
   {
    "duration": 818,
    "start_time": "2022-11-30T13:23:10.162Z"
   },
   {
    "duration": 38,
    "start_time": "2022-11-30T13:23:10.982Z"
   },
   {
    "duration": 15,
    "start_time": "2022-11-30T13:23:11.022Z"
   },
   {
    "duration": 49,
    "start_time": "2022-11-30T13:23:11.040Z"
   },
   {
    "duration": 18,
    "start_time": "2022-11-30T13:23:11.091Z"
   },
   {
    "duration": 17,
    "start_time": "2022-11-30T13:23:11.111Z"
   },
   {
    "duration": 14,
    "start_time": "2022-11-30T13:23:11.130Z"
   },
   {
    "duration": 40,
    "start_time": "2022-11-30T13:23:11.145Z"
   },
   {
    "duration": 815,
    "start_time": "2022-11-30T13:23:11.187Z"
   },
   {
    "duration": 37,
    "start_time": "2022-11-30T13:23:12.004Z"
   },
   {
    "duration": 47,
    "start_time": "2022-11-30T13:23:12.042Z"
   },
   {
    "duration": 20,
    "start_time": "2022-11-30T13:23:12.091Z"
   },
   {
    "duration": 30,
    "start_time": "2022-11-30T13:23:12.113Z"
   },
   {
    "duration": 52,
    "start_time": "2022-11-30T13:23:12.145Z"
   },
   {
    "duration": 9,
    "start_time": "2022-11-30T13:23:12.199Z"
   },
   {
    "duration": 17,
    "start_time": "2022-11-30T13:23:12.209Z"
   },
   {
    "duration": 52,
    "start_time": "2022-11-30T13:23:12.230Z"
   },
   {
    "duration": 10,
    "start_time": "2022-11-30T13:23:12.284Z"
   },
   {
    "duration": 5,
    "start_time": "2022-11-30T13:23:12.296Z"
   },
   {
    "duration": 19,
    "start_time": "2022-11-30T13:23:12.302Z"
   },
   {
    "duration": 58,
    "start_time": "2022-11-30T13:23:12.323Z"
   },
   {
    "duration": 110,
    "start_time": "2022-11-30T13:23:12.383Z"
   },
   {
    "duration": 12,
    "start_time": "2022-11-30T13:23:12.495Z"
   },
   {
    "duration": 8,
    "start_time": "2022-11-30T13:23:12.508Z"
   },
   {
    "duration": 13,
    "start_time": "2022-11-30T13:23:12.518Z"
   },
   {
    "duration": 11,
    "start_time": "2022-11-30T13:23:12.532Z"
   },
   {
    "duration": 5,
    "start_time": "2022-11-30T13:23:12.545Z"
   },
   {
    "duration": 8,
    "start_time": "2022-11-30T13:23:12.551Z"
   },
   {
    "duration": 8,
    "start_time": "2022-11-30T13:23:12.561Z"
   },
   {
    "duration": 7,
    "start_time": "2022-11-30T13:23:12.571Z"
   },
   {
    "duration": 19,
    "start_time": "2022-11-30T13:23:12.579Z"
   },
   {
    "duration": 9,
    "start_time": "2022-11-30T13:23:12.599Z"
   },
   {
    "duration": 11,
    "start_time": "2022-11-30T13:23:12.610Z"
   },
   {
    "duration": 18,
    "start_time": "2022-11-30T13:23:12.623Z"
   },
   {
    "duration": 9,
    "start_time": "2022-11-30T13:23:12.643Z"
   },
   {
    "duration": 8,
    "start_time": "2022-11-30T13:23:12.654Z"
   },
   {
    "duration": 16,
    "start_time": "2022-11-30T13:23:12.664Z"
   },
   {
    "duration": 29,
    "start_time": "2022-11-30T13:23:12.681Z"
   },
   {
    "duration": 3,
    "start_time": "2022-11-30T13:23:12.713Z"
   },
   {
    "duration": 20,
    "start_time": "2022-11-30T13:23:12.718Z"
   },
   {
    "duration": 43,
    "start_time": "2022-11-30T13:23:12.740Z"
   },
   {
    "duration": 95,
    "start_time": "2022-11-30T13:23:12.785Z"
   },
   {
    "duration": 96,
    "start_time": "2022-11-30T13:23:12.882Z"
   },
   {
    "duration": 5,
    "start_time": "2022-11-30T13:23:12.979Z"
   },
   {
    "duration": 11,
    "start_time": "2022-11-30T13:23:12.986Z"
   },
   {
    "duration": 12,
    "start_time": "2022-11-30T13:23:12.998Z"
   },
   {
    "duration": 19,
    "start_time": "2022-11-30T13:23:13.012Z"
   },
   {
    "duration": 14,
    "start_time": "2022-11-30T13:23:13.033Z"
   },
   {
    "duration": 9,
    "start_time": "2022-11-30T13:23:13.049Z"
   },
   {
    "duration": 9,
    "start_time": "2022-11-30T13:23:13.060Z"
   },
   {
    "duration": 12,
    "start_time": "2022-11-30T13:23:13.070Z"
   },
   {
    "duration": 24,
    "start_time": "2022-11-30T13:23:13.084Z"
   },
   {
    "duration": 23,
    "start_time": "2022-11-30T13:23:13.110Z"
   },
   {
    "duration": 27,
    "start_time": "2022-11-30T13:23:13.135Z"
   },
   {
    "duration": 8,
    "start_time": "2022-11-30T13:23:13.164Z"
   },
   {
    "duration": 128,
    "start_time": "2022-11-30T13:23:13.175Z"
   },
   {
    "duration": 0,
    "start_time": "2022-11-30T13:23:13.304Z"
   },
   {
    "duration": 0,
    "start_time": "2022-11-30T13:23:13.306Z"
   },
   {
    "duration": 0,
    "start_time": "2022-11-30T13:23:13.307Z"
   },
   {
    "duration": 0,
    "start_time": "2022-11-30T13:23:13.309Z"
   },
   {
    "duration": 0,
    "start_time": "2022-11-30T13:23:13.310Z"
   },
   {
    "duration": 0,
    "start_time": "2022-11-30T13:23:13.310Z"
   },
   {
    "duration": 1448,
    "start_time": "2022-11-30T13:23:38.343Z"
   },
   {
    "duration": 395,
    "start_time": "2022-11-30T13:23:39.793Z"
   },
   {
    "duration": 18,
    "start_time": "2022-11-30T13:23:40.190Z"
   },
   {
    "duration": 804,
    "start_time": "2022-11-30T13:23:40.210Z"
   },
   {
    "duration": 43,
    "start_time": "2022-11-30T13:23:41.015Z"
   },
   {
    "duration": 29,
    "start_time": "2022-11-30T13:23:41.059Z"
   },
   {
    "duration": 19,
    "start_time": "2022-11-30T13:23:41.090Z"
   },
   {
    "duration": 21,
    "start_time": "2022-11-30T13:23:41.110Z"
   },
   {
    "duration": 53,
    "start_time": "2022-11-30T13:23:41.133Z"
   },
   {
    "duration": 6,
    "start_time": "2022-11-30T13:23:41.189Z"
   },
   {
    "duration": 17,
    "start_time": "2022-11-30T13:23:41.197Z"
   },
   {
    "duration": 862,
    "start_time": "2022-11-30T13:23:41.215Z"
   },
   {
    "duration": 38,
    "start_time": "2022-11-30T13:23:42.078Z"
   },
   {
    "duration": 16,
    "start_time": "2022-11-30T13:23:42.118Z"
   },
   {
    "duration": 43,
    "start_time": "2022-11-30T13:23:42.136Z"
   },
   {
    "duration": 18,
    "start_time": "2022-11-30T13:23:42.181Z"
   },
   {
    "duration": 17,
    "start_time": "2022-11-30T13:23:42.201Z"
   },
   {
    "duration": 6,
    "start_time": "2022-11-30T13:23:42.220Z"
   },
   {
    "duration": 56,
    "start_time": "2022-11-30T13:23:42.228Z"
   },
   {
    "duration": 768,
    "start_time": "2022-11-30T13:23:42.286Z"
   },
   {
    "duration": 50,
    "start_time": "2022-11-30T13:23:43.057Z"
   },
   {
    "duration": 17,
    "start_time": "2022-11-30T13:23:43.109Z"
   },
   {
    "duration": 21,
    "start_time": "2022-11-30T13:23:43.128Z"
   },
   {
    "duration": 39,
    "start_time": "2022-11-30T13:23:43.150Z"
   },
   {
    "duration": 18,
    "start_time": "2022-11-30T13:23:43.191Z"
   },
   {
    "duration": 7,
    "start_time": "2022-11-30T13:23:43.211Z"
   },
   {
    "duration": 16,
    "start_time": "2022-11-30T13:23:43.220Z"
   },
   {
    "duration": 10,
    "start_time": "2022-11-30T13:23:43.240Z"
   },
   {
    "duration": 26,
    "start_time": "2022-11-30T13:23:43.252Z"
   },
   {
    "duration": 9,
    "start_time": "2022-11-30T13:23:43.279Z"
   },
   {
    "duration": 19,
    "start_time": "2022-11-30T13:23:43.289Z"
   },
   {
    "duration": 71,
    "start_time": "2022-11-30T13:23:43.310Z"
   },
   {
    "duration": 100,
    "start_time": "2022-11-30T13:23:43.384Z"
   },
   {
    "duration": 7,
    "start_time": "2022-11-30T13:23:43.486Z"
   },
   {
    "duration": 13,
    "start_time": "2022-11-30T13:23:43.495Z"
   },
   {
    "duration": 15,
    "start_time": "2022-11-30T13:23:43.509Z"
   },
   {
    "duration": 13,
    "start_time": "2022-11-30T13:23:43.526Z"
   },
   {
    "duration": 6,
    "start_time": "2022-11-30T13:23:43.542Z"
   },
   {
    "duration": 9,
    "start_time": "2022-11-30T13:23:43.550Z"
   },
   {
    "duration": 17,
    "start_time": "2022-11-30T13:23:43.561Z"
   },
   {
    "duration": 5,
    "start_time": "2022-11-30T13:23:43.580Z"
   },
   {
    "duration": 15,
    "start_time": "2022-11-30T13:23:43.587Z"
   },
   {
    "duration": 7,
    "start_time": "2022-11-30T13:23:43.604Z"
   },
   {
    "duration": 12,
    "start_time": "2022-11-30T13:23:43.613Z"
   },
   {
    "duration": 19,
    "start_time": "2022-11-30T13:23:43.627Z"
   },
   {
    "duration": 31,
    "start_time": "2022-11-30T13:23:43.648Z"
   },
   {
    "duration": 8,
    "start_time": "2022-11-30T13:23:43.681Z"
   },
   {
    "duration": 8,
    "start_time": "2022-11-30T13:23:43.690Z"
   },
   {
    "duration": 21,
    "start_time": "2022-11-30T13:23:43.700Z"
   },
   {
    "duration": 3,
    "start_time": "2022-11-30T13:23:43.723Z"
   },
   {
    "duration": 27,
    "start_time": "2022-11-30T13:23:43.728Z"
   },
   {
    "duration": 119,
    "start_time": "2022-11-30T13:23:43.757Z"
   },
   {
    "duration": 109,
    "start_time": "2022-11-30T13:23:43.878Z"
   },
   {
    "duration": 101,
    "start_time": "2022-11-30T13:23:43.989Z"
   },
   {
    "duration": 6,
    "start_time": "2022-11-30T13:23:44.177Z"
   },
   {
    "duration": 6,
    "start_time": "2022-11-30T13:23:44.185Z"
   },
   {
    "duration": 6,
    "start_time": "2022-11-30T13:23:44.192Z"
   },
   {
    "duration": 7,
    "start_time": "2022-11-30T13:23:44.199Z"
   },
   {
    "duration": 5,
    "start_time": "2022-11-30T13:23:44.208Z"
   },
   {
    "duration": 8,
    "start_time": "2022-11-30T13:23:44.214Z"
   },
   {
    "duration": 9,
    "start_time": "2022-11-30T13:23:44.223Z"
   },
   {
    "duration": 12,
    "start_time": "2022-11-30T13:23:44.233Z"
   },
   {
    "duration": 6,
    "start_time": "2022-11-30T13:23:44.247Z"
   },
   {
    "duration": 24,
    "start_time": "2022-11-30T13:23:44.255Z"
   },
   {
    "duration": 7,
    "start_time": "2022-11-30T13:23:44.281Z"
   },
   {
    "duration": 24,
    "start_time": "2022-11-30T13:23:44.290Z"
   },
   {
    "duration": 7,
    "start_time": "2022-11-30T13:23:44.316Z"
   },
   {
    "duration": 8,
    "start_time": "2022-11-30T13:23:44.325Z"
   },
   {
    "duration": 1537,
    "start_time": "2022-11-30T13:23:44.334Z"
   },
   {
    "duration": 6,
    "start_time": "2022-11-30T13:23:45.875Z"
   },
   {
    "duration": 20,
    "start_time": "2022-11-30T13:23:45.883Z"
   },
   {
    "duration": 14,
    "start_time": "2022-11-30T13:23:45.905Z"
   },
   {
    "duration": 10,
    "start_time": "2022-11-30T13:23:45.921Z"
   },
   {
    "duration": 1569,
    "start_time": "2022-11-30T13:24:38.979Z"
   },
   {
    "duration": 470,
    "start_time": "2022-11-30T13:24:40.550Z"
   },
   {
    "duration": 21,
    "start_time": "2022-11-30T13:24:41.023Z"
   },
   {
    "duration": 970,
    "start_time": "2022-11-30T13:24:41.047Z"
   },
   {
    "duration": 63,
    "start_time": "2022-11-30T13:24:42.019Z"
   },
   {
    "duration": 17,
    "start_time": "2022-11-30T13:24:42.084Z"
   },
   {
    "duration": 20,
    "start_time": "2022-11-30T13:24:42.102Z"
   },
   {
    "duration": 32,
    "start_time": "2022-11-30T13:24:42.124Z"
   },
   {
    "duration": 37,
    "start_time": "2022-11-30T13:24:42.157Z"
   },
   {
    "duration": 16,
    "start_time": "2022-11-30T13:24:42.198Z"
   },
   {
    "duration": 50,
    "start_time": "2022-11-30T13:24:42.216Z"
   },
   {
    "duration": 898,
    "start_time": "2022-11-30T13:24:42.267Z"
   },
   {
    "duration": 50,
    "start_time": "2022-11-30T13:24:43.166Z"
   },
   {
    "duration": 20,
    "start_time": "2022-11-30T13:24:43.217Z"
   },
   {
    "duration": 48,
    "start_time": "2022-11-30T13:24:43.240Z"
   },
   {
    "duration": 26,
    "start_time": "2022-11-30T13:24:43.290Z"
   },
   {
    "duration": 19,
    "start_time": "2022-11-30T13:24:43.318Z"
   },
   {
    "duration": 7,
    "start_time": "2022-11-30T13:24:43.339Z"
   },
   {
    "duration": 38,
    "start_time": "2022-11-30T13:24:43.348Z"
   },
   {
    "duration": 843,
    "start_time": "2022-11-30T13:24:43.388Z"
   },
   {
    "duration": 49,
    "start_time": "2022-11-30T13:24:44.233Z"
   },
   {
    "duration": 16,
    "start_time": "2022-11-30T13:24:44.283Z"
   },
   {
    "duration": 22,
    "start_time": "2022-11-30T13:24:44.301Z"
   },
   {
    "duration": 24,
    "start_time": "2022-11-30T13:24:44.325Z"
   },
   {
    "duration": 44,
    "start_time": "2022-11-30T13:24:44.351Z"
   },
   {
    "duration": 8,
    "start_time": "2022-11-30T13:24:44.397Z"
   },
   {
    "duration": 12,
    "start_time": "2022-11-30T13:24:44.407Z"
   },
   {
    "duration": 6,
    "start_time": "2022-11-30T13:24:44.423Z"
   },
   {
    "duration": 8,
    "start_time": "2022-11-30T13:24:44.431Z"
   },
   {
    "duration": 5,
    "start_time": "2022-11-30T13:24:44.440Z"
   },
   {
    "duration": 16,
    "start_time": "2022-11-30T13:24:44.477Z"
   },
   {
    "duration": 82,
    "start_time": "2022-11-30T13:24:44.495Z"
   },
   {
    "duration": 102,
    "start_time": "2022-11-30T13:24:44.579Z"
   },
   {
    "duration": 32,
    "start_time": "2022-11-30T13:24:44.683Z"
   },
   {
    "duration": 90,
    "start_time": "2022-11-30T13:24:44.716Z"
   },
   {
    "duration": 23,
    "start_time": "2022-11-30T13:24:44.808Z"
   },
   {
    "duration": 18,
    "start_time": "2022-11-30T13:24:44.833Z"
   },
   {
    "duration": 13,
    "start_time": "2022-11-30T13:24:44.854Z"
   },
   {
    "duration": 17,
    "start_time": "2022-11-30T13:24:44.870Z"
   },
   {
    "duration": 18,
    "start_time": "2022-11-30T13:24:44.889Z"
   },
   {
    "duration": 36,
    "start_time": "2022-11-30T13:24:44.910Z"
   },
   {
    "duration": 42,
    "start_time": "2022-11-30T13:24:44.948Z"
   },
   {
    "duration": 33,
    "start_time": "2022-11-30T13:24:44.992Z"
   },
   {
    "duration": 30,
    "start_time": "2022-11-30T13:24:45.027Z"
   },
   {
    "duration": 31,
    "start_time": "2022-11-30T13:24:45.059Z"
   },
   {
    "duration": 10,
    "start_time": "2022-11-30T13:24:45.092Z"
   },
   {
    "duration": 7,
    "start_time": "2022-11-30T13:24:45.104Z"
   },
   {
    "duration": 10,
    "start_time": "2022-11-30T13:24:45.112Z"
   },
   {
    "duration": 21,
    "start_time": "2022-11-30T13:24:45.123Z"
   },
   {
    "duration": 3,
    "start_time": "2022-11-30T13:24:45.145Z"
   },
   {
    "duration": 33,
    "start_time": "2022-11-30T13:24:45.149Z"
   },
   {
    "duration": 6,
    "start_time": "2022-11-30T13:24:45.184Z"
   },
   {
    "duration": 91,
    "start_time": "2022-11-30T13:24:45.192Z"
   },
   {
    "duration": 104,
    "start_time": "2022-11-30T13:24:45.284Z"
   },
   {
    "duration": 95,
    "start_time": "2022-11-30T13:24:45.390Z"
   },
   {
    "duration": 9,
    "start_time": "2022-11-30T13:24:45.487Z"
   },
   {
    "duration": 10,
    "start_time": "2022-11-30T13:24:45.497Z"
   },
   {
    "duration": 7,
    "start_time": "2022-11-30T13:24:45.509Z"
   },
   {
    "duration": 9,
    "start_time": "2022-11-30T13:24:45.519Z"
   },
   {
    "duration": 6,
    "start_time": "2022-11-30T13:24:45.530Z"
   },
   {
    "duration": 17,
    "start_time": "2022-11-30T13:24:45.538Z"
   },
   {
    "duration": 10,
    "start_time": "2022-11-30T13:24:45.557Z"
   },
   {
    "duration": 10,
    "start_time": "2022-11-30T13:24:45.569Z"
   },
   {
    "duration": 12,
    "start_time": "2022-11-30T13:24:45.582Z"
   },
   {
    "duration": 131,
    "start_time": "2022-11-30T13:24:45.596Z"
   },
   {
    "duration": 0,
    "start_time": "2022-11-30T13:24:45.729Z"
   },
   {
    "duration": 0,
    "start_time": "2022-11-30T13:24:45.731Z"
   },
   {
    "duration": 0,
    "start_time": "2022-11-30T13:24:45.732Z"
   },
   {
    "duration": 0,
    "start_time": "2022-11-30T13:24:45.733Z"
   },
   {
    "duration": 0,
    "start_time": "2022-11-30T13:24:45.734Z"
   },
   {
    "duration": 0,
    "start_time": "2022-11-30T13:24:45.735Z"
   },
   {
    "duration": 0,
    "start_time": "2022-11-30T13:24:45.736Z"
   },
   {
    "duration": 0,
    "start_time": "2022-11-30T13:24:45.737Z"
   },
   {
    "duration": 1560,
    "start_time": "2022-11-30T13:25:14.271Z"
   },
   {
    "duration": 460,
    "start_time": "2022-11-30T13:25:15.833Z"
   },
   {
    "duration": 16,
    "start_time": "2022-11-30T13:25:16.294Z"
   },
   {
    "duration": 810,
    "start_time": "2022-11-30T13:25:16.312Z"
   },
   {
    "duration": 52,
    "start_time": "2022-11-30T13:25:17.124Z"
   },
   {
    "duration": 16,
    "start_time": "2022-11-30T13:25:17.178Z"
   },
   {
    "duration": 23,
    "start_time": "2022-11-30T13:25:17.195Z"
   },
   {
    "duration": 30,
    "start_time": "2022-11-30T13:25:17.220Z"
   },
   {
    "duration": 38,
    "start_time": "2022-11-30T13:25:17.252Z"
   },
   {
    "duration": 6,
    "start_time": "2022-11-30T13:25:17.292Z"
   },
   {
    "duration": 32,
    "start_time": "2022-11-30T13:25:17.300Z"
   },
   {
    "duration": 864,
    "start_time": "2022-11-30T13:25:17.334Z"
   },
   {
    "duration": 39,
    "start_time": "2022-11-30T13:25:18.199Z"
   },
   {
    "duration": 37,
    "start_time": "2022-11-30T13:25:18.241Z"
   },
   {
    "duration": 21,
    "start_time": "2022-11-30T13:25:18.280Z"
   },
   {
    "duration": 19,
    "start_time": "2022-11-30T13:25:18.303Z"
   },
   {
    "duration": 18,
    "start_time": "2022-11-30T13:25:18.324Z"
   },
   {
    "duration": 33,
    "start_time": "2022-11-30T13:25:18.344Z"
   },
   {
    "duration": 26,
    "start_time": "2022-11-30T13:25:18.379Z"
   },
   {
    "duration": 841,
    "start_time": "2022-11-30T13:25:18.407Z"
   },
   {
    "duration": 51,
    "start_time": "2022-11-30T13:25:19.250Z"
   },
   {
    "duration": 16,
    "start_time": "2022-11-30T13:25:19.303Z"
   },
   {
    "duration": 21,
    "start_time": "2022-11-30T13:25:19.321Z"
   },
   {
    "duration": 45,
    "start_time": "2022-11-30T13:25:19.344Z"
   },
   {
    "duration": 21,
    "start_time": "2022-11-30T13:25:19.392Z"
   },
   {
    "duration": 8,
    "start_time": "2022-11-30T13:25:19.415Z"
   },
   {
    "duration": 19,
    "start_time": "2022-11-30T13:25:19.425Z"
   },
   {
    "duration": 17,
    "start_time": "2022-11-30T13:25:19.446Z"
   },
   {
    "duration": 14,
    "start_time": "2022-11-30T13:25:19.465Z"
   },
   {
    "duration": 24,
    "start_time": "2022-11-30T13:25:19.481Z"
   },
   {
    "duration": 36,
    "start_time": "2022-11-30T13:25:19.507Z"
   },
   {
    "duration": 12,
    "start_time": "2022-11-30T13:25:19.545Z"
   },
   {
    "duration": 103,
    "start_time": "2022-11-30T13:25:19.577Z"
   },
   {
    "duration": 22,
    "start_time": "2022-11-30T13:25:19.682Z"
   },
   {
    "duration": 7,
    "start_time": "2022-11-30T13:25:19.706Z"
   },
   {
    "duration": 7,
    "start_time": "2022-11-30T13:25:19.714Z"
   },
   {
    "duration": 11,
    "start_time": "2022-11-30T13:25:19.722Z"
   },
   {
    "duration": 5,
    "start_time": "2022-11-30T13:25:19.735Z"
   },
   {
    "duration": 7,
    "start_time": "2022-11-30T13:25:19.742Z"
   },
   {
    "duration": 26,
    "start_time": "2022-11-30T13:25:19.751Z"
   },
   {
    "duration": 3,
    "start_time": "2022-11-30T13:25:19.785Z"
   },
   {
    "duration": 17,
    "start_time": "2022-11-30T13:25:19.790Z"
   },
   {
    "duration": 7,
    "start_time": "2022-11-30T13:25:19.809Z"
   },
   {
    "duration": 12,
    "start_time": "2022-11-30T13:25:19.818Z"
   },
   {
    "duration": 45,
    "start_time": "2022-11-30T13:25:19.832Z"
   },
   {
    "duration": 10,
    "start_time": "2022-11-30T13:25:19.879Z"
   },
   {
    "duration": 11,
    "start_time": "2022-11-30T13:25:19.891Z"
   },
   {
    "duration": 8,
    "start_time": "2022-11-30T13:25:19.904Z"
   },
   {
    "duration": 39,
    "start_time": "2022-11-30T13:25:19.914Z"
   },
   {
    "duration": 3,
    "start_time": "2022-11-30T13:25:19.955Z"
   },
   {
    "duration": 18,
    "start_time": "2022-11-30T13:25:19.960Z"
   },
   {
    "duration": 6,
    "start_time": "2022-11-30T13:25:19.980Z"
   },
   {
    "duration": 96,
    "start_time": "2022-11-30T13:25:19.989Z"
   },
   {
    "duration": 101,
    "start_time": "2022-11-30T13:25:20.088Z"
   },
   {
    "duration": 89,
    "start_time": "2022-11-30T13:25:20.191Z"
   },
   {
    "duration": 20,
    "start_time": "2022-11-30T13:25:20.281Z"
   },
   {
    "duration": 11,
    "start_time": "2022-11-30T13:25:20.303Z"
   },
   {
    "duration": 8,
    "start_time": "2022-11-30T13:25:20.316Z"
   },
   {
    "duration": 5,
    "start_time": "2022-11-30T13:25:20.325Z"
   },
   {
    "duration": 8,
    "start_time": "2022-11-30T13:25:20.332Z"
   },
   {
    "duration": 8,
    "start_time": "2022-11-30T13:25:20.341Z"
   },
   {
    "duration": 8,
    "start_time": "2022-11-30T13:25:20.351Z"
   },
   {
    "duration": 8,
    "start_time": "2022-11-30T13:25:20.360Z"
   },
   {
    "duration": 12,
    "start_time": "2022-11-30T13:25:20.369Z"
   },
   {
    "duration": 18,
    "start_time": "2022-11-30T13:25:20.383Z"
   },
   {
    "duration": 20,
    "start_time": "2022-11-30T13:25:20.402Z"
   },
   {
    "duration": 11,
    "start_time": "2022-11-30T13:25:20.424Z"
   },
   {
    "duration": 125,
    "start_time": "2022-11-30T13:25:20.437Z"
   },
   {
    "duration": 0,
    "start_time": "2022-11-30T13:25:20.563Z"
   },
   {
    "duration": 0,
    "start_time": "2022-11-30T13:25:20.565Z"
   },
   {
    "duration": 0,
    "start_time": "2022-11-30T13:25:20.566Z"
   },
   {
    "duration": 0,
    "start_time": "2022-11-30T13:25:20.567Z"
   },
   {
    "duration": 1548,
    "start_time": "2022-11-30T13:25:34.499Z"
   },
   {
    "duration": 9,
    "start_time": "2022-11-30T13:25:37.533Z"
   },
   {
    "duration": 5,
    "start_time": "2022-11-30T13:25:43.488Z"
   },
   {
    "duration": 6,
    "start_time": "2022-11-30T13:25:49.629Z"
   },
   {
    "duration": 7,
    "start_time": "2022-11-30T13:25:49.950Z"
   },
   {
    "duration": 1405,
    "start_time": "2022-11-30T13:28:33.399Z"
   },
   {
    "duration": 468,
    "start_time": "2022-11-30T13:28:34.806Z"
   },
   {
    "duration": 25,
    "start_time": "2022-11-30T13:28:35.275Z"
   },
   {
    "duration": 913,
    "start_time": "2022-11-30T13:28:35.302Z"
   },
   {
    "duration": 43,
    "start_time": "2022-11-30T13:28:36.217Z"
   },
   {
    "duration": 27,
    "start_time": "2022-11-30T13:28:36.262Z"
   },
   {
    "duration": 23,
    "start_time": "2022-11-30T13:28:36.291Z"
   },
   {
    "duration": 33,
    "start_time": "2022-11-30T13:28:36.316Z"
   },
   {
    "duration": 36,
    "start_time": "2022-11-30T13:28:36.351Z"
   },
   {
    "duration": 7,
    "start_time": "2022-11-30T13:28:36.389Z"
   },
   {
    "duration": 44,
    "start_time": "2022-11-30T13:28:36.398Z"
   },
   {
    "duration": 852,
    "start_time": "2022-11-30T13:28:36.444Z"
   },
   {
    "duration": 41,
    "start_time": "2022-11-30T13:28:37.298Z"
   },
   {
    "duration": 36,
    "start_time": "2022-11-30T13:28:37.343Z"
   },
   {
    "duration": 23,
    "start_time": "2022-11-30T13:28:37.381Z"
   },
   {
    "duration": 21,
    "start_time": "2022-11-30T13:28:37.406Z"
   },
   {
    "duration": 18,
    "start_time": "2022-11-30T13:28:37.428Z"
   },
   {
    "duration": 32,
    "start_time": "2022-11-30T13:28:37.449Z"
   },
   {
    "duration": 24,
    "start_time": "2022-11-30T13:28:37.483Z"
   },
   {
    "duration": 780,
    "start_time": "2022-11-30T13:28:37.509Z"
   },
   {
    "duration": 45,
    "start_time": "2022-11-30T13:28:38.291Z"
   },
   {
    "duration": 39,
    "start_time": "2022-11-30T13:28:38.338Z"
   },
   {
    "duration": 23,
    "start_time": "2022-11-30T13:28:38.379Z"
   },
   {
    "duration": 32,
    "start_time": "2022-11-30T13:28:38.404Z"
   },
   {
    "duration": 17,
    "start_time": "2022-11-30T13:28:38.438Z"
   },
   {
    "duration": 25,
    "start_time": "2022-11-30T13:28:38.456Z"
   },
   {
    "duration": 14,
    "start_time": "2022-11-30T13:28:38.484Z"
   },
   {
    "duration": 10,
    "start_time": "2022-11-30T13:28:38.499Z"
   },
   {
    "duration": 11,
    "start_time": "2022-11-30T13:28:38.510Z"
   },
   {
    "duration": 9,
    "start_time": "2022-11-30T13:28:38.522Z"
   },
   {
    "duration": 22,
    "start_time": "2022-11-30T13:28:38.532Z"
   },
   {
    "duration": 23,
    "start_time": "2022-11-30T13:28:38.555Z"
   },
   {
    "duration": 99,
    "start_time": "2022-11-30T13:28:38.580Z"
   },
   {
    "duration": 10,
    "start_time": "2022-11-30T13:28:38.681Z"
   },
   {
    "duration": 86,
    "start_time": "2022-11-30T13:28:38.693Z"
   },
   {
    "duration": 4,
    "start_time": "2022-11-30T13:28:38.781Z"
   },
   {
    "duration": 15,
    "start_time": "2022-11-30T13:28:38.786Z"
   },
   {
    "duration": 6,
    "start_time": "2022-11-30T13:28:38.803Z"
   },
   {
    "duration": 6,
    "start_time": "2022-11-30T13:28:38.811Z"
   },
   {
    "duration": 9,
    "start_time": "2022-11-30T13:28:38.819Z"
   },
   {
    "duration": 4,
    "start_time": "2022-11-30T13:28:38.833Z"
   },
   {
    "duration": 20,
    "start_time": "2022-11-30T13:28:38.839Z"
   },
   {
    "duration": 7,
    "start_time": "2022-11-30T13:28:38.878Z"
   },
   {
    "duration": 15,
    "start_time": "2022-11-30T13:28:38.887Z"
   },
   {
    "duration": 25,
    "start_time": "2022-11-30T13:28:38.904Z"
   },
   {
    "duration": 12,
    "start_time": "2022-11-30T13:28:38.931Z"
   },
   {
    "duration": 8,
    "start_time": "2022-11-30T13:28:38.945Z"
   },
   {
    "duration": 25,
    "start_time": "2022-11-30T13:28:38.955Z"
   },
   {
    "duration": 27,
    "start_time": "2022-11-30T13:28:38.982Z"
   },
   {
    "duration": 3,
    "start_time": "2022-11-30T13:28:39.012Z"
   },
   {
    "duration": 21,
    "start_time": "2022-11-30T13:28:39.017Z"
   },
   {
    "duration": 43,
    "start_time": "2022-11-30T13:28:39.040Z"
   },
   {
    "duration": 101,
    "start_time": "2022-11-30T13:28:39.085Z"
   },
   {
    "duration": 106,
    "start_time": "2022-11-30T13:28:39.277Z"
   },
   {
    "duration": 6,
    "start_time": "2022-11-30T13:28:39.385Z"
   },
   {
    "duration": 7,
    "start_time": "2022-11-30T13:28:39.393Z"
   },
   {
    "duration": 22,
    "start_time": "2022-11-30T13:28:39.402Z"
   },
   {
    "duration": 10,
    "start_time": "2022-11-30T13:28:39.426Z"
   },
   {
    "duration": 8,
    "start_time": "2022-11-30T13:28:39.439Z"
   },
   {
    "duration": 9,
    "start_time": "2022-11-30T13:28:39.449Z"
   },
   {
    "duration": 6,
    "start_time": "2022-11-30T13:28:39.459Z"
   },
   {
    "duration": 17,
    "start_time": "2022-11-30T13:28:39.467Z"
   },
   {
    "duration": 16,
    "start_time": "2022-11-30T13:28:39.486Z"
   },
   {
    "duration": 30,
    "start_time": "2022-11-30T13:28:39.505Z"
   },
   {
    "duration": 11,
    "start_time": "2022-11-30T13:28:39.537Z"
   },
   {
    "duration": 30,
    "start_time": "2022-11-30T13:28:39.550Z"
   },
   {
    "duration": 13,
    "start_time": "2022-11-30T13:28:39.582Z"
   },
   {
    "duration": 1441,
    "start_time": "2022-11-30T13:28:39.596Z"
   },
   {
    "duration": 6,
    "start_time": "2022-11-30T13:28:41.039Z"
   },
   {
    "duration": 9,
    "start_time": "2022-11-30T13:28:41.046Z"
   },
   {
    "duration": 22,
    "start_time": "2022-11-30T13:28:41.057Z"
   },
   {
    "duration": 7,
    "start_time": "2022-11-30T13:28:41.080Z"
   },
   {
    "duration": 7,
    "start_time": "2022-11-30T13:29:09.442Z"
   },
   {
    "duration": 1373,
    "start_time": "2022-11-30T13:40:05.801Z"
   },
   {
    "duration": 403,
    "start_time": "2022-11-30T13:40:07.177Z"
   },
   {
    "duration": 16,
    "start_time": "2022-11-30T13:40:07.582Z"
   },
   {
    "duration": 766,
    "start_time": "2022-11-30T13:40:07.600Z"
   },
   {
    "duration": 48,
    "start_time": "2022-11-30T13:40:08.369Z"
   },
   {
    "duration": 14,
    "start_time": "2022-11-30T13:40:08.419Z"
   },
   {
    "duration": 20,
    "start_time": "2022-11-30T13:40:08.435Z"
   },
   {
    "duration": 20,
    "start_time": "2022-11-30T13:40:08.477Z"
   },
   {
    "duration": 20,
    "start_time": "2022-11-30T13:40:08.498Z"
   },
   {
    "duration": 6,
    "start_time": "2022-11-30T13:40:08.520Z"
   },
   {
    "duration": 22,
    "start_time": "2022-11-30T13:40:08.527Z"
   },
   {
    "duration": 856,
    "start_time": "2022-11-30T13:40:08.550Z"
   },
   {
    "duration": 38,
    "start_time": "2022-11-30T13:40:09.408Z"
   },
   {
    "duration": 32,
    "start_time": "2022-11-30T13:40:09.449Z"
   },
   {
    "duration": 20,
    "start_time": "2022-11-30T13:40:09.482Z"
   },
   {
    "duration": 22,
    "start_time": "2022-11-30T13:40:09.503Z"
   },
   {
    "duration": 22,
    "start_time": "2022-11-30T13:40:09.527Z"
   },
   {
    "duration": 28,
    "start_time": "2022-11-30T13:40:09.551Z"
   },
   {
    "duration": 22,
    "start_time": "2022-11-30T13:40:09.581Z"
   },
   {
    "duration": 742,
    "start_time": "2022-11-30T13:40:09.605Z"
   },
   {
    "duration": 50,
    "start_time": "2022-11-30T13:40:10.349Z"
   },
   {
    "duration": 16,
    "start_time": "2022-11-30T13:40:10.401Z"
   },
   {
    "duration": 18,
    "start_time": "2022-11-30T13:40:10.419Z"
   },
   {
    "duration": 42,
    "start_time": "2022-11-30T13:40:10.439Z"
   },
   {
    "duration": 18,
    "start_time": "2022-11-30T13:40:10.483Z"
   },
   {
    "duration": 7,
    "start_time": "2022-11-30T13:40:10.502Z"
   },
   {
    "duration": 33,
    "start_time": "2022-11-30T13:40:10.511Z"
   },
   {
    "duration": 88,
    "start_time": "2022-11-30T13:40:10.546Z"
   },
   {
    "duration": 36,
    "start_time": "2022-11-30T13:40:10.636Z"
   },
   {
    "duration": 37,
    "start_time": "2022-11-30T13:40:10.674Z"
   },
   {
    "duration": 17,
    "start_time": "2022-11-30T13:40:10.713Z"
   },
   {
    "duration": 21,
    "start_time": "2022-11-30T13:40:10.732Z"
   },
   {
    "duration": 21,
    "start_time": "2022-11-30T13:40:10.756Z"
   },
   {
    "duration": 128,
    "start_time": "2022-11-30T13:40:10.779Z"
   },
   {
    "duration": 71,
    "start_time": "2022-11-30T13:40:10.909Z"
   },
   {
    "duration": 5,
    "start_time": "2022-11-30T13:40:10.981Z"
   },
   {
    "duration": 31,
    "start_time": "2022-11-30T13:40:10.988Z"
   },
   {
    "duration": 17,
    "start_time": "2022-11-30T13:40:11.022Z"
   },
   {
    "duration": 38,
    "start_time": "2022-11-30T13:40:11.041Z"
   },
   {
    "duration": 16,
    "start_time": "2022-11-30T13:40:11.081Z"
   },
   {
    "duration": 11,
    "start_time": "2022-11-30T13:40:11.104Z"
   },
   {
    "duration": 20,
    "start_time": "2022-11-30T13:40:11.118Z"
   },
   {
    "duration": 18,
    "start_time": "2022-11-30T13:40:11.140Z"
   },
   {
    "duration": 23,
    "start_time": "2022-11-30T13:40:11.159Z"
   },
   {
    "duration": 17,
    "start_time": "2022-11-30T13:40:11.184Z"
   },
   {
    "duration": 23,
    "start_time": "2022-11-30T13:40:11.203Z"
   },
   {
    "duration": 67,
    "start_time": "2022-11-30T13:40:11.228Z"
   },
   {
    "duration": 23,
    "start_time": "2022-11-30T13:40:11.297Z"
   },
   {
    "duration": 32,
    "start_time": "2022-11-30T13:40:11.322Z"
   },
   {
    "duration": 26,
    "start_time": "2022-11-30T13:40:11.355Z"
   },
   {
    "duration": 5,
    "start_time": "2022-11-30T13:40:11.382Z"
   },
   {
    "duration": 38,
    "start_time": "2022-11-30T13:40:11.389Z"
   },
   {
    "duration": 32,
    "start_time": "2022-11-30T13:40:11.429Z"
   },
   {
    "duration": 118,
    "start_time": "2022-11-30T13:40:11.463Z"
   },
   {
    "duration": 196,
    "start_time": "2022-11-30T13:40:11.584Z"
   },
   {
    "duration": 38,
    "start_time": "2022-11-30T13:40:11.781Z"
   },
   {
    "duration": 81,
    "start_time": "2022-11-30T13:40:11.821Z"
   },
   {
    "duration": 192,
    "start_time": "2022-11-30T13:40:11.904Z"
   },
   {
    "duration": 11,
    "start_time": "2022-11-30T13:40:12.097Z"
   },
   {
    "duration": 19,
    "start_time": "2022-11-30T13:40:12.110Z"
   },
   {
    "duration": 35,
    "start_time": "2022-11-30T13:40:12.131Z"
   },
   {
    "duration": 6,
    "start_time": "2022-11-30T13:40:12.168Z"
   },
   {
    "duration": 8,
    "start_time": "2022-11-30T13:40:12.176Z"
   },
   {
    "duration": 6,
    "start_time": "2022-11-30T13:40:12.186Z"
   },
   {
    "duration": 11,
    "start_time": "2022-11-30T13:40:12.193Z"
   },
   {
    "duration": 19,
    "start_time": "2022-11-30T13:40:12.206Z"
   },
   {
    "duration": 7,
    "start_time": "2022-11-30T13:40:12.226Z"
   },
   {
    "duration": 12,
    "start_time": "2022-11-30T13:40:12.235Z"
   },
   {
    "duration": 1364,
    "start_time": "2022-11-30T13:40:12.249Z"
   },
   {
    "duration": 6,
    "start_time": "2022-11-30T13:40:13.614Z"
   },
   {
    "duration": 13,
    "start_time": "2022-11-30T13:40:13.622Z"
   },
   {
    "duration": 12,
    "start_time": "2022-11-30T13:40:13.637Z"
   },
   {
    "duration": 24,
    "start_time": "2022-11-30T13:40:13.651Z"
   },
   {
    "duration": 5,
    "start_time": "2022-11-30T13:40:31.322Z"
   },
   {
    "duration": 7,
    "start_time": "2022-11-30T13:40:45.541Z"
   },
   {
    "duration": 1354,
    "start_time": "2022-11-30T13:41:47.059Z"
   },
   {
    "duration": 6,
    "start_time": "2022-11-30T13:41:49.153Z"
   },
   {
    "duration": 5,
    "start_time": "2022-11-30T13:41:52.377Z"
   },
   {
    "duration": 6,
    "start_time": "2022-11-30T13:42:03.033Z"
   },
   {
    "duration": 107,
    "start_time": "2022-11-30T13:43:48.437Z"
   },
   {
    "duration": 3,
    "start_time": "2022-11-30T13:44:28.590Z"
   },
   {
    "duration": 1488,
    "start_time": "2022-11-30T13:44:31.488Z"
   },
   {
    "duration": 1386,
    "start_time": "2022-11-30T13:44:39.084Z"
   },
   {
    "duration": 387,
    "start_time": "2022-11-30T13:44:40.472Z"
   },
   {
    "duration": 24,
    "start_time": "2022-11-30T13:44:40.861Z"
   },
   {
    "duration": 718,
    "start_time": "2022-11-30T13:44:40.888Z"
   },
   {
    "duration": 40,
    "start_time": "2022-11-30T13:44:41.608Z"
   },
   {
    "duration": 32,
    "start_time": "2022-11-30T13:44:41.650Z"
   },
   {
    "duration": 20,
    "start_time": "2022-11-30T13:44:41.684Z"
   },
   {
    "duration": 28,
    "start_time": "2022-11-30T13:44:41.705Z"
   },
   {
    "duration": 44,
    "start_time": "2022-11-30T13:44:41.734Z"
   },
   {
    "duration": 7,
    "start_time": "2022-11-30T13:44:41.780Z"
   },
   {
    "duration": 19,
    "start_time": "2022-11-30T13:44:41.789Z"
   },
   {
    "duration": 788,
    "start_time": "2022-11-30T13:44:41.810Z"
   },
   {
    "duration": 36,
    "start_time": "2022-11-30T13:44:42.600Z"
   },
   {
    "duration": 15,
    "start_time": "2022-11-30T13:44:42.637Z"
   },
   {
    "duration": 56,
    "start_time": "2022-11-30T13:44:42.653Z"
   },
   {
    "duration": 90,
    "start_time": "2022-11-30T13:44:42.711Z"
   },
   {
    "duration": 76,
    "start_time": "2022-11-30T13:44:42.803Z"
   },
   {
    "duration": 6,
    "start_time": "2022-11-30T13:44:42.881Z"
   },
   {
    "duration": 20,
    "start_time": "2022-11-30T13:44:42.889Z"
   },
   {
    "duration": 763,
    "start_time": "2022-11-30T13:44:42.911Z"
   },
   {
    "duration": 37,
    "start_time": "2022-11-30T13:44:43.675Z"
   },
   {
    "duration": 15,
    "start_time": "2022-11-30T13:44:43.714Z"
   },
   {
    "duration": 19,
    "start_time": "2022-11-30T13:44:43.731Z"
   },
   {
    "duration": 19,
    "start_time": "2022-11-30T13:44:43.776Z"
   },
   {
    "duration": 36,
    "start_time": "2022-11-30T13:44:43.796Z"
   },
   {
    "duration": 6,
    "start_time": "2022-11-30T13:44:43.834Z"
   },
   {
    "duration": 17,
    "start_time": "2022-11-30T13:44:43.842Z"
   },
   {
    "duration": 7,
    "start_time": "2022-11-30T13:44:43.863Z"
   },
   {
    "duration": 7,
    "start_time": "2022-11-30T13:44:43.872Z"
   },
   {
    "duration": 20,
    "start_time": "2022-11-30T13:44:43.880Z"
   },
   {
    "duration": 2,
    "start_time": "2022-11-30T13:44:43.902Z"
   },
   {
    "duration": 120,
    "start_time": "2022-11-30T13:44:43.906Z"
   },
   {
    "duration": 0,
    "start_time": "2022-11-30T13:44:44.028Z"
   },
   {
    "duration": 0,
    "start_time": "2022-11-30T13:44:44.029Z"
   },
   {
    "duration": 0,
    "start_time": "2022-11-30T13:44:44.031Z"
   },
   {
    "duration": 0,
    "start_time": "2022-11-30T13:44:44.031Z"
   },
   {
    "duration": 0,
    "start_time": "2022-11-30T13:44:44.033Z"
   },
   {
    "duration": 0,
    "start_time": "2022-11-30T13:44:44.034Z"
   },
   {
    "duration": 0,
    "start_time": "2022-11-30T13:44:44.035Z"
   },
   {
    "duration": 0,
    "start_time": "2022-11-30T13:44:44.036Z"
   },
   {
    "duration": 0,
    "start_time": "2022-11-30T13:44:44.037Z"
   },
   {
    "duration": 0,
    "start_time": "2022-11-30T13:44:44.038Z"
   },
   {
    "duration": 0,
    "start_time": "2022-11-30T13:44:44.039Z"
   },
   {
    "duration": 0,
    "start_time": "2022-11-30T13:44:44.040Z"
   },
   {
    "duration": 0,
    "start_time": "2022-11-30T13:44:44.041Z"
   },
   {
    "duration": 0,
    "start_time": "2022-11-30T13:44:44.043Z"
   },
   {
    "duration": 0,
    "start_time": "2022-11-30T13:44:44.044Z"
   },
   {
    "duration": 0,
    "start_time": "2022-11-30T13:44:44.045Z"
   },
   {
    "duration": 0,
    "start_time": "2022-11-30T13:44:44.046Z"
   },
   {
    "duration": 0,
    "start_time": "2022-11-30T13:44:44.047Z"
   },
   {
    "duration": 0,
    "start_time": "2022-11-30T13:44:44.048Z"
   },
   {
    "duration": 0,
    "start_time": "2022-11-30T13:44:44.077Z"
   },
   {
    "duration": 0,
    "start_time": "2022-11-30T13:44:44.078Z"
   },
   {
    "duration": 0,
    "start_time": "2022-11-30T13:44:44.079Z"
   },
   {
    "duration": 0,
    "start_time": "2022-11-30T13:44:44.080Z"
   },
   {
    "duration": 0,
    "start_time": "2022-11-30T13:44:44.081Z"
   },
   {
    "duration": 0,
    "start_time": "2022-11-30T13:44:44.082Z"
   },
   {
    "duration": 0,
    "start_time": "2022-11-30T13:44:44.084Z"
   },
   {
    "duration": 0,
    "start_time": "2022-11-30T13:44:44.084Z"
   },
   {
    "duration": 0,
    "start_time": "2022-11-30T13:44:44.085Z"
   },
   {
    "duration": 0,
    "start_time": "2022-11-30T13:44:44.086Z"
   },
   {
    "duration": 0,
    "start_time": "2022-11-30T13:44:44.087Z"
   },
   {
    "duration": 0,
    "start_time": "2022-11-30T13:44:44.088Z"
   },
   {
    "duration": 0,
    "start_time": "2022-11-30T13:44:44.089Z"
   },
   {
    "duration": 0,
    "start_time": "2022-11-30T13:44:44.090Z"
   },
   {
    "duration": 0,
    "start_time": "2022-11-30T13:44:44.091Z"
   },
   {
    "duration": 0,
    "start_time": "2022-11-30T13:44:44.091Z"
   },
   {
    "duration": 0,
    "start_time": "2022-11-30T13:44:44.093Z"
   },
   {
    "duration": 0,
    "start_time": "2022-11-30T13:44:44.093Z"
   },
   {
    "duration": 0,
    "start_time": "2022-11-30T13:44:44.095Z"
   },
   {
    "duration": 0,
    "start_time": "2022-11-30T13:44:44.096Z"
   },
   {
    "duration": 0,
    "start_time": "2022-11-30T13:44:44.097Z"
   },
   {
    "duration": 0,
    "start_time": "2022-11-30T13:44:44.098Z"
   },
   {
    "duration": 0,
    "start_time": "2022-11-30T13:44:44.099Z"
   },
   {
    "duration": 1338,
    "start_time": "2022-11-30T13:45:19.537Z"
   },
   {
    "duration": 389,
    "start_time": "2022-11-30T13:45:20.877Z"
   },
   {
    "duration": 20,
    "start_time": "2022-11-30T13:45:21.267Z"
   },
   {
    "duration": 791,
    "start_time": "2022-11-30T13:45:21.289Z"
   },
   {
    "duration": 41,
    "start_time": "2022-11-30T13:45:22.082Z"
   },
   {
    "duration": 17,
    "start_time": "2022-11-30T13:45:22.125Z"
   },
   {
    "duration": 48,
    "start_time": "2022-11-30T13:45:22.144Z"
   },
   {
    "duration": 27,
    "start_time": "2022-11-30T13:45:22.194Z"
   },
   {
    "duration": 24,
    "start_time": "2022-11-30T13:45:22.223Z"
   },
   {
    "duration": 7,
    "start_time": "2022-11-30T13:45:22.250Z"
   },
   {
    "duration": 25,
    "start_time": "2022-11-30T13:45:22.259Z"
   },
   {
    "duration": 789,
    "start_time": "2022-11-30T13:45:22.286Z"
   },
   {
    "duration": 36,
    "start_time": "2022-11-30T13:45:23.077Z"
   },
   {
    "duration": 16,
    "start_time": "2022-11-30T13:45:23.114Z"
   },
   {
    "duration": 21,
    "start_time": "2022-11-30T13:45:23.131Z"
   },
   {
    "duration": 18,
    "start_time": "2022-11-30T13:45:23.177Z"
   },
   {
    "duration": 21,
    "start_time": "2022-11-30T13:45:23.196Z"
   },
   {
    "duration": 6,
    "start_time": "2022-11-30T13:45:23.219Z"
   },
   {
    "duration": 19,
    "start_time": "2022-11-30T13:45:23.227Z"
   },
   {
    "duration": 781,
    "start_time": "2022-11-30T13:45:23.247Z"
   },
   {
    "duration": 36,
    "start_time": "2022-11-30T13:45:24.030Z"
   },
   {
    "duration": 15,
    "start_time": "2022-11-30T13:45:24.077Z"
   },
   {
    "duration": 19,
    "start_time": "2022-11-30T13:45:24.093Z"
   },
   {
    "duration": 28,
    "start_time": "2022-11-30T13:45:24.113Z"
   },
   {
    "duration": 14,
    "start_time": "2022-11-30T13:45:24.143Z"
   },
   {
    "duration": 21,
    "start_time": "2022-11-30T13:45:24.159Z"
   },
   {
    "duration": 15,
    "start_time": "2022-11-30T13:45:24.181Z"
   },
   {
    "duration": 10,
    "start_time": "2022-11-30T13:45:24.200Z"
   },
   {
    "duration": 13,
    "start_time": "2022-11-30T13:45:24.212Z"
   },
   {
    "duration": 16,
    "start_time": "2022-11-30T13:45:24.226Z"
   },
   {
    "duration": 2,
    "start_time": "2022-11-30T13:45:24.244Z"
   },
   {
    "duration": 26,
    "start_time": "2022-11-30T13:45:24.247Z"
   },
   {
    "duration": 1504,
    "start_time": "2022-11-30T13:45:24.274Z"
   },
   {
    "duration": 6,
    "start_time": "2022-11-30T13:45:25.781Z"
   },
   {
    "duration": 211,
    "start_time": "2022-11-30T13:45:25.790Z"
   },
   {
    "duration": 30,
    "start_time": "2022-11-30T13:45:26.002Z"
   },
   {
    "duration": 7,
    "start_time": "2022-11-30T13:45:26.034Z"
   },
   {
    "duration": 17,
    "start_time": "2022-11-30T13:45:26.043Z"
   },
   {
    "duration": 8,
    "start_time": "2022-11-30T13:45:26.061Z"
   },
   {
    "duration": 10,
    "start_time": "2022-11-30T13:45:26.071Z"
   },
   {
    "duration": 6,
    "start_time": "2022-11-30T13:45:26.083Z"
   },
   {
    "duration": 6,
    "start_time": "2022-11-30T13:45:26.091Z"
   },
   {
    "duration": 20,
    "start_time": "2022-11-30T13:45:26.099Z"
   },
   {
    "duration": 13,
    "start_time": "2022-11-30T13:45:26.120Z"
   },
   {
    "duration": 13,
    "start_time": "2022-11-30T13:45:26.135Z"
   },
   {
    "duration": 26,
    "start_time": "2022-11-30T13:45:26.150Z"
   },
   {
    "duration": 10,
    "start_time": "2022-11-30T13:45:26.177Z"
   },
   {
    "duration": 9,
    "start_time": "2022-11-30T13:45:26.188Z"
   },
   {
    "duration": 13,
    "start_time": "2022-11-30T13:45:26.198Z"
   },
   {
    "duration": 21,
    "start_time": "2022-11-30T13:45:26.212Z"
   },
   {
    "duration": 3,
    "start_time": "2022-11-30T13:45:26.234Z"
   },
   {
    "duration": 17,
    "start_time": "2022-11-30T13:45:26.239Z"
   },
   {
    "duration": 25,
    "start_time": "2022-11-30T13:45:26.258Z"
   },
   {
    "duration": 105,
    "start_time": "2022-11-30T13:45:26.376Z"
   },
   {
    "duration": 193,
    "start_time": "2022-11-30T13:45:26.483Z"
   },
   {
    "duration": 7,
    "start_time": "2022-11-30T13:45:26.678Z"
   },
   {
    "duration": 9,
    "start_time": "2022-11-30T13:45:26.686Z"
   },
   {
    "duration": 13,
    "start_time": "2022-11-30T13:45:26.697Z"
   },
   {
    "duration": 19,
    "start_time": "2022-11-30T13:45:26.712Z"
   },
   {
    "duration": 11,
    "start_time": "2022-11-30T13:45:26.733Z"
   },
   {
    "duration": 7,
    "start_time": "2022-11-30T13:45:26.746Z"
   },
   {
    "duration": 15,
    "start_time": "2022-11-30T13:45:26.755Z"
   },
   {
    "duration": 23,
    "start_time": "2022-11-30T13:45:26.771Z"
   },
   {
    "duration": 26,
    "start_time": "2022-11-30T13:45:26.796Z"
   },
   {
    "duration": 20,
    "start_time": "2022-11-30T13:45:26.824Z"
   },
   {
    "duration": 15,
    "start_time": "2022-11-30T13:45:26.846Z"
   },
   {
    "duration": 22,
    "start_time": "2022-11-30T13:45:26.863Z"
   },
   {
    "duration": 10,
    "start_time": "2022-11-30T13:45:26.886Z"
   },
   {
    "duration": 1365,
    "start_time": "2022-11-30T13:45:26.898Z"
   },
   {
    "duration": 6,
    "start_time": "2022-11-30T13:45:28.264Z"
   },
   {
    "duration": 4,
    "start_time": "2022-11-30T13:45:28.277Z"
   },
   {
    "duration": 10,
    "start_time": "2022-11-30T13:45:28.283Z"
   },
   {
    "duration": 10,
    "start_time": "2022-11-30T13:45:28.295Z"
   },
   {
    "duration": 37,
    "start_time": "2022-11-30T13:46:32.836Z"
   },
   {
    "duration": 105,
    "start_time": "2022-11-30T13:47:01.942Z"
   },
   {
    "duration": 4,
    "start_time": "2022-11-30T13:47:09.703Z"
   },
   {
    "duration": 2881,
    "start_time": "2022-11-30T13:47:11.897Z"
   },
   {
    "duration": 5,
    "start_time": "2022-11-30T13:47:17.917Z"
   },
   {
    "duration": 3,
    "start_time": "2022-11-30T13:47:25.030Z"
   },
   {
    "duration": 5,
    "start_time": "2022-11-30T13:47:25.885Z"
   },
   {
    "duration": 5,
    "start_time": "2022-11-30T13:47:28.656Z"
   },
   {
    "duration": 3,
    "start_time": "2022-11-30T13:49:33.563Z"
   },
   {
    "duration": 2980,
    "start_time": "2022-11-30T13:49:38.598Z"
   },
   {
    "duration": 5,
    "start_time": "2022-11-30T13:49:45.144Z"
   },
   {
    "duration": 3,
    "start_time": "2022-11-30T13:49:46.323Z"
   },
   {
    "duration": 6,
    "start_time": "2022-11-30T13:49:47.747Z"
   },
   {
    "duration": 5,
    "start_time": "2022-11-30T13:49:51.171Z"
   },
   {
    "duration": 3,
    "start_time": "2022-11-30T13:50:17.776Z"
   },
   {
    "duration": 2950,
    "start_time": "2022-11-30T13:50:18.728Z"
   },
   {
    "duration": 96,
    "start_time": "2022-11-30T13:50:21.681Z"
   },
   {
    "duration": 98,
    "start_time": "2022-11-30T13:50:21.780Z"
   },
   {
    "duration": 7,
    "start_time": "2022-11-30T13:50:21.880Z"
   },
   {
    "duration": 5,
    "start_time": "2022-11-30T13:50:25.983Z"
   },
   {
    "duration": 3,
    "start_time": "2022-11-30T13:51:12.429Z"
   },
   {
    "duration": 105,
    "start_time": "2022-11-30T13:51:43.344Z"
   },
   {
    "duration": 3,
    "start_time": "2022-11-30T13:51:51.464Z"
   },
   {
    "duration": 14,
    "start_time": "2022-11-30T13:51:53.586Z"
   },
   {
    "duration": 101,
    "start_time": "2022-11-30T13:52:20.746Z"
   },
   {
    "duration": 3,
    "start_time": "2022-11-30T13:53:04.191Z"
   },
   {
    "duration": 3064,
    "start_time": "2022-11-30T13:53:05.114Z"
   },
   {
    "duration": 5,
    "start_time": "2022-11-30T13:53:09.983Z"
   },
   {
    "duration": 3,
    "start_time": "2022-11-30T13:53:21.957Z"
   },
   {
    "duration": 6,
    "start_time": "2022-11-30T13:53:24.893Z"
   },
   {
    "duration": 5,
    "start_time": "2022-11-30T13:53:26.459Z"
   },
   {
    "duration": 5,
    "start_time": "2022-11-30T13:53:56.353Z"
   },
   {
    "duration": 4,
    "start_time": "2022-11-30T13:55:43.305Z"
   },
   {
    "duration": 10,
    "start_time": "2022-11-30T13:55:52.443Z"
   },
   {
    "duration": 8,
    "start_time": "2022-11-30T13:56:18.814Z"
   },
   {
    "duration": 4,
    "start_time": "2022-11-30T13:56:34.922Z"
   },
   {
    "duration": 3115,
    "start_time": "2022-11-30T13:56:35.569Z"
   },
   {
    "duration": 9,
    "start_time": "2022-11-30T13:56:39.725Z"
   },
   {
    "duration": 1375,
    "start_time": "2022-12-01T01:33:30.695Z"
   },
   {
    "duration": 579,
    "start_time": "2022-12-01T01:33:32.072Z"
   },
   {
    "duration": 14,
    "start_time": "2022-12-01T01:33:32.653Z"
   },
   {
    "duration": 638,
    "start_time": "2022-12-01T01:33:32.669Z"
   },
   {
    "duration": 41,
    "start_time": "2022-12-01T01:33:33.308Z"
   },
   {
    "duration": 12,
    "start_time": "2022-12-01T01:33:33.351Z"
   },
   {
    "duration": 16,
    "start_time": "2022-12-01T01:33:33.365Z"
   },
   {
    "duration": 19,
    "start_time": "2022-12-01T01:33:33.382Z"
   },
   {
    "duration": 33,
    "start_time": "2022-12-01T01:33:33.402Z"
   },
   {
    "duration": 6,
    "start_time": "2022-12-01T01:33:33.437Z"
   },
   {
    "duration": 16,
    "start_time": "2022-12-01T01:33:33.444Z"
   },
   {
    "duration": 686,
    "start_time": "2022-12-01T01:33:33.462Z"
   },
   {
    "duration": 32,
    "start_time": "2022-12-01T01:33:34.149Z"
   },
   {
    "duration": 13,
    "start_time": "2022-12-01T01:33:34.182Z"
   },
   {
    "duration": 34,
    "start_time": "2022-12-01T01:33:34.196Z"
   },
   {
    "duration": 14,
    "start_time": "2022-12-01T01:33:34.232Z"
   },
   {
    "duration": 15,
    "start_time": "2022-12-01T01:33:34.247Z"
   },
   {
    "duration": 8,
    "start_time": "2022-12-01T01:33:34.263Z"
   },
   {
    "duration": 18,
    "start_time": "2022-12-01T01:33:34.272Z"
   },
   {
    "duration": 642,
    "start_time": "2022-12-01T01:33:34.291Z"
   },
   {
    "duration": 32,
    "start_time": "2022-12-01T01:33:34.935Z"
   },
   {
    "duration": 13,
    "start_time": "2022-12-01T01:33:34.969Z"
   },
   {
    "duration": 16,
    "start_time": "2022-12-01T01:33:34.984Z"
   },
   {
    "duration": 16,
    "start_time": "2022-12-01T01:33:35.021Z"
   },
   {
    "duration": 17,
    "start_time": "2022-12-01T01:33:35.039Z"
   },
   {
    "duration": 6,
    "start_time": "2022-12-01T01:33:35.057Z"
   },
   {
    "duration": 23,
    "start_time": "2022-12-01T01:33:35.065Z"
   },
   {
    "duration": 5,
    "start_time": "2022-12-01T01:33:35.092Z"
   },
   {
    "duration": 8,
    "start_time": "2022-12-01T01:33:35.099Z"
   },
   {
    "duration": 17,
    "start_time": "2022-12-01T01:33:35.121Z"
   },
   {
    "duration": 2,
    "start_time": "2022-12-01T01:33:35.140Z"
   },
   {
    "duration": 16,
    "start_time": "2022-12-01T01:33:35.144Z"
   },
   {
    "duration": 2859,
    "start_time": "2022-12-01T01:33:35.164Z"
   },
   {
    "duration": 7,
    "start_time": "2022-12-01T01:33:38.025Z"
   },
   {
    "duration": 92,
    "start_time": "2022-12-01T01:33:38.033Z"
   },
   {
    "duration": 102,
    "start_time": "2022-12-01T01:33:38.128Z"
   },
   {
    "duration": 5,
    "start_time": "2022-12-01T01:33:38.322Z"
   },
   {
    "duration": 10,
    "start_time": "2022-12-01T01:33:38.328Z"
   },
   {
    "duration": 5,
    "start_time": "2022-12-01T01:33:38.339Z"
   },
   {
    "duration": 7,
    "start_time": "2022-12-01T01:33:38.346Z"
   },
   {
    "duration": 5,
    "start_time": "2022-12-01T01:33:38.355Z"
   },
   {
    "duration": 9,
    "start_time": "2022-12-01T01:33:38.361Z"
   },
   {
    "duration": 6,
    "start_time": "2022-12-01T01:33:38.371Z"
   },
   {
    "duration": 14,
    "start_time": "2022-12-01T01:33:38.379Z"
   },
   {
    "duration": 6,
    "start_time": "2022-12-01T01:33:38.395Z"
   },
   {
    "duration": 20,
    "start_time": "2022-12-01T01:33:38.403Z"
   },
   {
    "duration": 15,
    "start_time": "2022-12-01T01:33:38.425Z"
   },
   {
    "duration": 2886,
    "start_time": "2022-12-01T01:33:38.442Z"
   },
   {
    "duration": 96,
    "start_time": "2022-12-01T01:33:41.330Z"
   },
   {
    "duration": 98,
    "start_time": "2022-12-01T01:33:41.428Z"
   },
   {
    "duration": 103,
    "start_time": "2022-12-01T01:33:41.528Z"
   },
   {
    "duration": 95,
    "start_time": "2022-12-01T01:33:41.633Z"
   },
   {
    "duration": 8,
    "start_time": "2022-12-01T01:33:41.730Z"
   },
   {
    "duration": 15,
    "start_time": "2022-12-01T01:33:41.740Z"
   },
   {
    "duration": 7,
    "start_time": "2022-12-01T01:33:41.757Z"
   },
   {
    "duration": 17,
    "start_time": "2022-12-01T01:33:41.766Z"
   },
   {
    "duration": 9,
    "start_time": "2022-12-01T01:33:41.786Z"
   },
   {
    "duration": 26,
    "start_time": "2022-12-01T01:33:41.797Z"
   },
   {
    "duration": 21,
    "start_time": "2022-12-01T01:33:41.824Z"
   },
   {
    "duration": 2,
    "start_time": "2022-12-01T01:33:41.847Z"
   },
   {
    "duration": 19,
    "start_time": "2022-12-01T01:33:41.851Z"
   },
   {
    "duration": 151,
    "start_time": "2022-12-01T01:33:41.872Z"
   },
   {
    "duration": 9,
    "start_time": "2022-12-01T01:33:42.025Z"
   },
   {
    "duration": 187,
    "start_time": "2022-12-01T01:33:42.036Z"
   },
   {
    "duration": 5,
    "start_time": "2022-12-01T01:33:42.224Z"
   },
   {
    "duration": 15,
    "start_time": "2022-12-01T01:33:42.230Z"
   },
   {
    "duration": 7,
    "start_time": "2022-12-01T01:33:42.247Z"
   },
   {
    "duration": 12,
    "start_time": "2022-12-01T01:33:42.321Z"
   },
   {
    "duration": 99,
    "start_time": "2022-12-01T01:33:42.423Z"
   },
   {
    "duration": 9,
    "start_time": "2022-12-01T01:33:42.524Z"
   },
   {
    "duration": 13,
    "start_time": "2022-12-01T01:33:42.534Z"
   },
   {
    "duration": 9,
    "start_time": "2022-12-01T01:33:42.548Z"
   },
   {
    "duration": 9,
    "start_time": "2022-12-01T01:33:42.559Z"
   },
   {
    "duration": 6,
    "start_time": "2022-12-01T01:33:42.570Z"
   },
   {
    "duration": 4,
    "start_time": "2022-12-01T01:33:42.578Z"
   },
   {
    "duration": 5,
    "start_time": "2022-12-01T01:33:42.583Z"
   },
   {
    "duration": 5,
    "start_time": "2022-12-01T01:33:42.590Z"
   },
   {
    "duration": 9,
    "start_time": "2022-12-01T01:33:42.597Z"
   },
   {
    "duration": 12,
    "start_time": "2022-12-01T01:33:42.607Z"
   },
   {
    "duration": 5,
    "start_time": "2022-12-01T01:33:42.621Z"
   },
   {
    "duration": 5,
    "start_time": "2022-12-01T01:33:42.628Z"
   },
   {
    "duration": 13,
    "start_time": "2022-12-01T01:33:42.638Z"
   },
   {
    "duration": 14,
    "start_time": "2022-12-01T01:33:42.653Z"
   },
   {
    "duration": 5,
    "start_time": "2022-12-01T01:33:42.668Z"
   },
   {
    "duration": 11,
    "start_time": "2022-12-01T01:33:42.674Z"
   },
   {
    "duration": 6,
    "start_time": "2022-12-01T01:33:42.686Z"
   },
   {
    "duration": 1228,
    "start_time": "2022-12-01T01:33:42.693Z"
   },
   {
    "duration": 6,
    "start_time": "2022-12-01T01:33:43.923Z"
   },
   {
    "duration": 7,
    "start_time": "2022-12-01T01:33:43.931Z"
   },
   {
    "duration": 9,
    "start_time": "2022-12-01T01:33:43.940Z"
   },
   {
    "duration": 15,
    "start_time": "2022-12-01T01:33:43.951Z"
   },
   {
    "duration": 1244,
    "start_time": "2022-12-01T01:33:43.967Z"
   },
   {
    "duration": 11,
    "start_time": "2022-12-01T01:33:45.213Z"
   },
   {
    "duration": 16,
    "start_time": "2022-12-01T01:33:45.227Z"
   },
   {
    "duration": 16,
    "start_time": "2022-12-01T01:33:45.245Z"
   },
   {
    "duration": 12,
    "start_time": "2022-12-01T01:33:45.263Z"
   },
   {
    "duration": 1204,
    "start_time": "2022-12-01T01:33:45.277Z"
   },
   {
    "duration": 5,
    "start_time": "2022-12-01T01:33:46.483Z"
   },
   {
    "duration": 10,
    "start_time": "2022-12-01T01:33:46.490Z"
   },
   {
    "duration": 11,
    "start_time": "2022-12-01T01:33:46.501Z"
   },
   {
    "duration": 11,
    "start_time": "2022-12-01T01:33:46.513Z"
   },
   {
    "duration": 1257,
    "start_time": "2022-12-01T02:46:11.686Z"
   },
   {
    "duration": 345,
    "start_time": "2022-12-01T02:46:12.944Z"
   },
   {
    "duration": 14,
    "start_time": "2022-12-01T02:46:13.290Z"
   },
   {
    "duration": 652,
    "start_time": "2022-12-01T02:46:13.305Z"
   },
   {
    "duration": 34,
    "start_time": "2022-12-01T02:46:13.959Z"
   },
   {
    "duration": 28,
    "start_time": "2022-12-01T02:46:13.994Z"
   },
   {
    "duration": 16,
    "start_time": "2022-12-01T02:46:14.023Z"
   },
   {
    "duration": 20,
    "start_time": "2022-12-01T02:46:14.041Z"
   },
   {
    "duration": 16,
    "start_time": "2022-12-01T02:46:14.063Z"
   },
   {
    "duration": 5,
    "start_time": "2022-12-01T02:46:14.082Z"
   },
   {
    "duration": 36,
    "start_time": "2022-12-01T02:46:14.088Z"
   },
   {
    "duration": 717,
    "start_time": "2022-12-01T02:46:14.126Z"
   },
   {
    "duration": 31,
    "start_time": "2022-12-01T02:46:14.844Z"
   },
   {
    "duration": 13,
    "start_time": "2022-12-01T02:46:14.876Z"
   },
   {
    "duration": 34,
    "start_time": "2022-12-01T02:46:14.890Z"
   },
   {
    "duration": 18,
    "start_time": "2022-12-01T02:46:14.926Z"
   },
   {
    "duration": 15,
    "start_time": "2022-12-01T02:46:14.945Z"
   },
   {
    "duration": 6,
    "start_time": "2022-12-01T02:46:14.961Z"
   },
   {
    "duration": 15,
    "start_time": "2022-12-01T02:46:14.968Z"
   },
   {
    "duration": 712,
    "start_time": "2022-12-01T02:46:14.985Z"
   },
   {
    "duration": 37,
    "start_time": "2022-12-01T02:46:15.699Z"
   },
   {
    "duration": 12,
    "start_time": "2022-12-01T02:46:15.737Z"
   },
   {
    "duration": 15,
    "start_time": "2022-12-01T02:46:15.751Z"
   },
   {
    "duration": 16,
    "start_time": "2022-12-01T02:46:15.767Z"
   },
   {
    "duration": 13,
    "start_time": "2022-12-01T02:46:15.785Z"
   },
   {
    "duration": 24,
    "start_time": "2022-12-01T02:46:15.799Z"
   },
   {
    "duration": 15,
    "start_time": "2022-12-01T02:46:15.825Z"
   },
   {
    "duration": 5,
    "start_time": "2022-12-01T02:46:15.844Z"
   },
   {
    "duration": 12,
    "start_time": "2022-12-01T02:46:15.851Z"
   },
   {
    "duration": 14,
    "start_time": "2022-12-01T02:46:15.865Z"
   },
   {
    "duration": 5,
    "start_time": "2022-12-01T02:46:15.880Z"
   },
   {
    "duration": 6,
    "start_time": "2022-12-01T02:46:15.886Z"
   },
   {
    "duration": 2729,
    "start_time": "2022-12-01T02:46:15.893Z"
   },
   {
    "duration": 7,
    "start_time": "2022-12-01T02:46:18.624Z"
   },
   {
    "duration": 190,
    "start_time": "2022-12-01T02:46:18.633Z"
   },
   {
    "duration": 105,
    "start_time": "2022-12-01T02:46:18.825Z"
   },
   {
    "duration": 35,
    "start_time": "2022-12-01T02:46:18.932Z"
   },
   {
    "duration": 11,
    "start_time": "2022-12-01T02:46:18.969Z"
   },
   {
    "duration": 6,
    "start_time": "2022-12-01T02:46:18.982Z"
   },
   {
    "duration": 33,
    "start_time": "2022-12-01T02:46:18.990Z"
   },
   {
    "duration": 29,
    "start_time": "2022-12-01T02:46:19.025Z"
   },
   {
    "duration": 25,
    "start_time": "2022-12-01T02:46:19.055Z"
   },
   {
    "duration": 10,
    "start_time": "2022-12-01T02:46:19.082Z"
   },
   {
    "duration": 13,
    "start_time": "2022-12-01T02:46:19.095Z"
   },
   {
    "duration": 7,
    "start_time": "2022-12-01T02:46:19.109Z"
   },
   {
    "duration": 10,
    "start_time": "2022-12-01T02:46:19.117Z"
   },
   {
    "duration": 16,
    "start_time": "2022-12-01T02:46:19.129Z"
   },
   {
    "duration": 2075,
    "start_time": "2022-12-01T02:46:19.147Z"
   },
   {
    "duration": 9,
    "start_time": "2022-12-01T02:46:21.224Z"
   },
   {
    "duration": 198,
    "start_time": "2022-12-01T02:46:21.235Z"
   },
   {
    "duration": 182,
    "start_time": "2022-12-01T02:46:21.440Z"
   },
   {
    "duration": 12,
    "start_time": "2022-12-01T02:46:21.624Z"
   },
   {
    "duration": 4,
    "start_time": "2022-12-01T02:46:21.637Z"
   },
   {
    "duration": 5,
    "start_time": "2022-12-01T02:46:21.643Z"
   },
   {
    "duration": 6,
    "start_time": "2022-12-01T02:46:21.650Z"
   },
   {
    "duration": 11,
    "start_time": "2022-12-01T02:46:21.657Z"
   },
   {
    "duration": 6,
    "start_time": "2022-12-01T02:46:21.670Z"
   },
   {
    "duration": 6,
    "start_time": "2022-12-01T02:46:21.677Z"
   },
   {
    "duration": 39,
    "start_time": "2022-12-01T02:46:21.685Z"
   },
   {
    "duration": 3,
    "start_time": "2022-12-01T02:46:21.725Z"
   },
   {
    "duration": 12,
    "start_time": "2022-12-01T02:46:21.729Z"
   },
   {
    "duration": 4,
    "start_time": "2022-12-01T02:46:21.743Z"
   },
   {
    "duration": 113,
    "start_time": "2022-12-01T02:46:21.821Z"
   },
   {
    "duration": 86,
    "start_time": "2022-12-01T02:46:21.941Z"
   },
   {
    "duration": 92,
    "start_time": "2022-12-01T02:46:22.029Z"
   },
   {
    "duration": 12,
    "start_time": "2022-12-01T02:46:22.123Z"
   },
   {
    "duration": 10,
    "start_time": "2022-12-01T02:46:22.137Z"
   },
   {
    "duration": 73,
    "start_time": "2022-12-01T02:46:22.149Z"
   },
   {
    "duration": 6,
    "start_time": "2022-12-01T02:46:22.230Z"
   },
   {
    "duration": 101,
    "start_time": "2022-12-01T02:46:22.323Z"
   },
   {
    "duration": 14,
    "start_time": "2022-12-01T02:46:22.426Z"
   },
   {
    "duration": 5,
    "start_time": "2022-12-01T02:46:22.441Z"
   },
   {
    "duration": 7,
    "start_time": "2022-12-01T02:46:22.447Z"
   },
   {
    "duration": 5,
    "start_time": "2022-12-01T02:46:22.455Z"
   },
   {
    "duration": 6,
    "start_time": "2022-12-01T02:46:22.461Z"
   },
   {
    "duration": 6,
    "start_time": "2022-12-01T02:46:22.468Z"
   },
   {
    "duration": 8,
    "start_time": "2022-12-01T02:46:22.475Z"
   },
   {
    "duration": 5,
    "start_time": "2022-12-01T02:46:22.484Z"
   },
   {
    "duration": 8,
    "start_time": "2022-12-01T02:46:22.491Z"
   },
   {
    "duration": 11,
    "start_time": "2022-12-01T02:46:22.500Z"
   },
   {
    "duration": 11,
    "start_time": "2022-12-01T02:46:22.512Z"
   },
   {
    "duration": 9,
    "start_time": "2022-12-01T02:46:22.528Z"
   },
   {
    "duration": 11,
    "start_time": "2022-12-01T02:46:22.538Z"
   },
   {
    "duration": 3,
    "start_time": "2022-12-01T02:46:22.550Z"
   },
   {
    "duration": 6,
    "start_time": "2022-12-01T02:46:22.555Z"
   },
   {
    "duration": 5,
    "start_time": "2022-12-01T02:46:22.563Z"
   },
   {
    "duration": 1252,
    "start_time": "2022-12-01T02:46:22.570Z"
   },
   {
    "duration": 5,
    "start_time": "2022-12-01T02:46:23.824Z"
   },
   {
    "duration": 8,
    "start_time": "2022-12-01T02:46:23.830Z"
   },
   {
    "duration": 7,
    "start_time": "2022-12-01T02:46:23.839Z"
   },
   {
    "duration": 7,
    "start_time": "2022-12-01T02:46:23.848Z"
   },
   {
    "duration": 1268,
    "start_time": "2022-12-01T02:46:23.856Z"
   },
   {
    "duration": 5,
    "start_time": "2022-12-01T02:46:25.126Z"
   },
   {
    "duration": 88,
    "start_time": "2022-12-01T02:46:25.133Z"
   },
   {
    "duration": 14,
    "start_time": "2022-12-01T02:46:25.223Z"
   },
   {
    "duration": 26,
    "start_time": "2022-12-01T02:46:25.239Z"
   },
   {
    "duration": 1262,
    "start_time": "2022-12-01T02:46:25.267Z"
   },
   {
    "duration": 5,
    "start_time": "2022-12-01T02:46:26.531Z"
   },
   {
    "duration": 9,
    "start_time": "2022-12-01T02:46:26.537Z"
   },
   {
    "duration": 6,
    "start_time": "2022-12-01T02:46:26.547Z"
   },
   {
    "duration": 13,
    "start_time": "2022-12-01T02:46:26.555Z"
   },
   {
    "duration": 132,
    "start_time": "2022-12-01T03:01:01.403Z"
   },
   {
    "duration": 1021,
    "start_time": "2022-12-01T03:01:21.404Z"
   },
   {
    "duration": 12,
    "start_time": "2022-12-01T03:03:19.581Z"
   },
   {
    "duration": 9,
    "start_time": "2022-12-01T03:03:22.033Z"
   },
   {
    "duration": 5,
    "start_time": "2022-12-01T03:03:27.960Z"
   },
   {
    "duration": 3,
    "start_time": "2022-12-01T03:03:30.907Z"
   },
   {
    "duration": 6,
    "start_time": "2022-12-01T03:03:32.099Z"
   },
   {
    "duration": 4,
    "start_time": "2022-12-01T03:03:33.208Z"
   },
   {
    "duration": 3,
    "start_time": "2022-12-01T03:03:38.199Z"
   },
   {
    "duration": 3,
    "start_time": "2022-12-01T03:03:38.711Z"
   },
   {
    "duration": 1256,
    "start_time": "2022-12-01T03:05:33.107Z"
   },
   {
    "duration": 375,
    "start_time": "2022-12-01T03:05:34.366Z"
   },
   {
    "duration": 14,
    "start_time": "2022-12-01T03:05:34.743Z"
   },
   {
    "duration": 744,
    "start_time": "2022-12-01T03:05:34.758Z"
   },
   {
    "duration": 46,
    "start_time": "2022-12-01T03:05:35.504Z"
   },
   {
    "duration": 13,
    "start_time": "2022-12-01T03:05:35.551Z"
   },
   {
    "duration": 15,
    "start_time": "2022-12-01T03:05:35.565Z"
   },
   {
    "duration": 20,
    "start_time": "2022-12-01T03:05:35.581Z"
   },
   {
    "duration": 25,
    "start_time": "2022-12-01T03:05:35.603Z"
   },
   {
    "duration": 5,
    "start_time": "2022-12-01T03:05:35.630Z"
   },
   {
    "duration": 15,
    "start_time": "2022-12-01T03:05:35.637Z"
   },
   {
    "duration": 1410,
    "start_time": "2022-12-01T03:05:35.653Z"
   },
   {
    "duration": 85,
    "start_time": "2022-12-01T03:05:37.065Z"
   },
   {
    "duration": 13,
    "start_time": "2022-12-01T03:05:37.152Z"
   },
   {
    "duration": 67,
    "start_time": "2022-12-01T03:05:37.166Z"
   },
   {
    "duration": 15,
    "start_time": "2022-12-01T03:05:37.235Z"
   },
   {
    "duration": 15,
    "start_time": "2022-12-01T03:05:37.252Z"
   },
   {
    "duration": 5,
    "start_time": "2022-12-01T03:05:37.268Z"
   },
   {
    "duration": 15,
    "start_time": "2022-12-01T03:05:37.275Z"
   },
   {
    "duration": 661,
    "start_time": "2022-12-01T03:05:37.292Z"
   },
   {
    "duration": 33,
    "start_time": "2022-12-01T03:05:37.954Z"
   },
   {
    "duration": 13,
    "start_time": "2022-12-01T03:05:37.988Z"
   },
   {
    "duration": 31,
    "start_time": "2022-12-01T03:05:38.002Z"
   },
   {
    "duration": 15,
    "start_time": "2022-12-01T03:05:38.035Z"
   },
   {
    "duration": 15,
    "start_time": "2022-12-01T03:05:38.051Z"
   },
   {
    "duration": 5,
    "start_time": "2022-12-01T03:05:38.068Z"
   },
   {
    "duration": 10,
    "start_time": "2022-12-01T03:05:38.075Z"
   },
   {
    "duration": 5,
    "start_time": "2022-12-01T03:05:38.087Z"
   },
   {
    "duration": 29,
    "start_time": "2022-12-01T03:05:38.093Z"
   },
   {
    "duration": 13,
    "start_time": "2022-12-01T03:05:38.123Z"
   },
   {
    "duration": 2,
    "start_time": "2022-12-01T03:05:38.137Z"
   },
   {
    "duration": 5,
    "start_time": "2022-12-01T03:05:38.140Z"
   },
   {
    "duration": 2780,
    "start_time": "2022-12-01T03:05:38.146Z"
   },
   {
    "duration": 8,
    "start_time": "2022-12-01T03:05:40.927Z"
   },
   {
    "duration": 188,
    "start_time": "2022-12-01T03:05:40.936Z"
   },
   {
    "duration": 97,
    "start_time": "2022-12-01T03:05:41.126Z"
   },
   {
    "duration": 97,
    "start_time": "2022-12-01T03:05:41.227Z"
   },
   {
    "duration": 8,
    "start_time": "2022-12-01T03:05:41.326Z"
   },
   {
    "duration": 10,
    "start_time": "2022-12-01T03:05:41.336Z"
   },
   {
    "duration": 21,
    "start_time": "2022-12-01T03:05:41.347Z"
   },
   {
    "duration": 3,
    "start_time": "2022-12-01T03:05:41.372Z"
   },
   {
    "duration": 11,
    "start_time": "2022-12-01T03:05:41.376Z"
   },
   {
    "duration": 6,
    "start_time": "2022-12-01T03:05:41.388Z"
   },
   {
    "duration": 11,
    "start_time": "2022-12-01T03:05:41.396Z"
   },
   {
    "duration": 64,
    "start_time": "2022-12-01T03:05:41.408Z"
   },
   {
    "duration": 15,
    "start_time": "2022-12-01T03:05:41.473Z"
   },
   {
    "duration": 17,
    "start_time": "2022-12-01T03:05:41.489Z"
   },
   {
    "duration": 2822,
    "start_time": "2022-12-01T03:05:41.508Z"
   },
   {
    "duration": 8,
    "start_time": "2022-12-01T03:05:44.422Z"
   },
   {
    "duration": 192,
    "start_time": "2022-12-01T03:05:44.432Z"
   },
   {
    "duration": 197,
    "start_time": "2022-12-01T03:05:44.630Z"
   },
   {
    "duration": 14,
    "start_time": "2022-12-01T03:05:44.829Z"
   },
   {
    "duration": 5,
    "start_time": "2022-12-01T03:05:44.845Z"
   },
   {
    "duration": 5,
    "start_time": "2022-12-01T03:05:44.852Z"
   },
   {
    "duration": 5,
    "start_time": "2022-12-01T03:05:44.858Z"
   },
   {
    "duration": 16,
    "start_time": "2022-12-01T03:05:44.865Z"
   },
   {
    "duration": 10,
    "start_time": "2022-12-01T03:05:44.883Z"
   },
   {
    "duration": 13,
    "start_time": "2022-12-01T03:05:44.895Z"
   },
   {
    "duration": 23,
    "start_time": "2022-12-01T03:05:44.910Z"
   },
   {
    "duration": 6,
    "start_time": "2022-12-01T03:05:44.934Z"
   },
   {
    "duration": 14,
    "start_time": "2022-12-01T03:05:44.941Z"
   },
   {
    "duration": 67,
    "start_time": "2022-12-01T03:05:44.956Z"
   },
   {
    "duration": 101,
    "start_time": "2022-12-01T03:05:45.025Z"
   },
   {
    "duration": 131,
    "start_time": "2022-12-01T03:05:45.129Z"
   },
   {
    "duration": 40,
    "start_time": "2022-12-01T03:05:45.262Z"
   },
   {
    "duration": 33,
    "start_time": "2022-12-01T03:05:45.304Z"
   },
   {
    "duration": 30,
    "start_time": "2022-12-01T03:05:45.339Z"
   },
   {
    "duration": 55,
    "start_time": "2022-12-01T03:05:45.371Z"
   },
   {
    "duration": 196,
    "start_time": "2022-12-01T03:05:45.429Z"
   },
   {
    "duration": 18,
    "start_time": "2022-12-01T03:05:45.626Z"
   },
   {
    "duration": 10,
    "start_time": "2022-12-01T03:05:45.645Z"
   },
   {
    "duration": 9,
    "start_time": "2022-12-01T03:05:45.656Z"
   },
   {
    "duration": 8,
    "start_time": "2022-12-01T03:05:45.666Z"
   },
   {
    "duration": 5,
    "start_time": "2022-12-01T03:05:45.675Z"
   },
   {
    "duration": 10,
    "start_time": "2022-12-01T03:05:45.681Z"
   },
   {
    "duration": 111,
    "start_time": "2022-12-01T03:05:45.692Z"
   },
   {
    "duration": 26,
    "start_time": "2022-12-01T03:05:45.805Z"
   },
   {
    "duration": 8,
    "start_time": "2022-12-01T03:05:45.834Z"
   },
   {
    "duration": 8,
    "start_time": "2022-12-01T03:05:45.844Z"
   },
   {
    "duration": 6,
    "start_time": "2022-12-01T03:05:45.853Z"
   },
   {
    "duration": 8,
    "start_time": "2022-12-01T03:05:45.860Z"
   },
   {
    "duration": 5,
    "start_time": "2022-12-01T03:05:45.869Z"
   },
   {
    "duration": 10,
    "start_time": "2022-12-01T03:05:45.876Z"
   },
   {
    "duration": 5,
    "start_time": "2022-12-01T03:05:45.887Z"
   },
   {
    "duration": 7,
    "start_time": "2022-12-01T03:05:45.893Z"
   },
   {
    "duration": 4,
    "start_time": "2022-12-01T03:05:45.902Z"
   },
   {
    "duration": 1254,
    "start_time": "2022-12-01T03:05:45.908Z"
   },
   {
    "duration": 5,
    "start_time": "2022-12-01T03:05:47.164Z"
   },
   {
    "duration": 17,
    "start_time": "2022-12-01T03:05:47.170Z"
   },
   {
    "duration": 9,
    "start_time": "2022-12-01T03:05:47.189Z"
   },
   {
    "duration": 7,
    "start_time": "2022-12-01T03:05:47.199Z"
   },
   {
    "duration": 1206,
    "start_time": "2022-12-01T03:05:47.208Z"
   },
   {
    "duration": 6,
    "start_time": "2022-12-01T03:05:48.416Z"
   },
   {
    "duration": 7,
    "start_time": "2022-12-01T03:05:48.424Z"
   },
   {
    "duration": 12,
    "start_time": "2022-12-01T03:05:48.432Z"
   },
   {
    "duration": 16,
    "start_time": "2022-12-01T03:05:48.445Z"
   },
   {
    "duration": 1202,
    "start_time": "2022-12-01T03:05:48.463Z"
   },
   {
    "duration": 5,
    "start_time": "2022-12-01T03:05:49.666Z"
   },
   {
    "duration": 6,
    "start_time": "2022-12-01T03:05:49.672Z"
   },
   {
    "duration": 7,
    "start_time": "2022-12-01T03:05:49.679Z"
   },
   {
    "duration": 10,
    "start_time": "2022-12-01T03:05:49.687Z"
   },
   {
    "duration": 1261,
    "start_time": "2022-12-01T05:15:49.400Z"
   },
   {
    "duration": 354,
    "start_time": "2022-12-01T05:15:50.663Z"
   },
   {
    "duration": 14,
    "start_time": "2022-12-01T05:15:51.019Z"
   },
   {
    "duration": 674,
    "start_time": "2022-12-01T05:15:51.035Z"
   },
   {
    "duration": 40,
    "start_time": "2022-12-01T05:15:51.710Z"
   },
   {
    "duration": 12,
    "start_time": "2022-12-01T05:15:51.752Z"
   },
   {
    "duration": 16,
    "start_time": "2022-12-01T05:15:51.765Z"
   },
   {
    "duration": 19,
    "start_time": "2022-12-01T05:15:51.782Z"
   },
   {
    "duration": 34,
    "start_time": "2022-12-01T05:15:51.802Z"
   },
   {
    "duration": 6,
    "start_time": "2022-12-01T05:15:51.838Z"
   },
   {
    "duration": 21,
    "start_time": "2022-12-01T05:15:51.845Z"
   },
   {
    "duration": 718,
    "start_time": "2022-12-01T05:15:51.867Z"
   },
   {
    "duration": 39,
    "start_time": "2022-12-01T05:15:52.587Z"
   },
   {
    "duration": 13,
    "start_time": "2022-12-01T05:15:52.627Z"
   },
   {
    "duration": 15,
    "start_time": "2022-12-01T05:15:52.641Z"
   },
   {
    "duration": 36,
    "start_time": "2022-12-01T05:15:52.658Z"
   },
   {
    "duration": 14,
    "start_time": "2022-12-01T05:15:52.696Z"
   },
   {
    "duration": 13,
    "start_time": "2022-12-01T05:15:52.711Z"
   },
   {
    "duration": 18,
    "start_time": "2022-12-01T05:15:52.725Z"
   },
   {
    "duration": 649,
    "start_time": "2022-12-01T05:15:52.744Z"
   },
   {
    "duration": 40,
    "start_time": "2022-12-01T05:15:53.394Z"
   },
   {
    "duration": 14,
    "start_time": "2022-12-01T05:15:53.436Z"
   },
   {
    "duration": 17,
    "start_time": "2022-12-01T05:15:53.451Z"
   },
   {
    "duration": 16,
    "start_time": "2022-12-01T05:15:53.470Z"
   },
   {
    "duration": 37,
    "start_time": "2022-12-01T05:15:53.488Z"
   },
   {
    "duration": 6,
    "start_time": "2022-12-01T05:15:53.527Z"
   },
   {
    "duration": 13,
    "start_time": "2022-12-01T05:15:53.534Z"
   },
   {
    "duration": 6,
    "start_time": "2022-12-01T05:15:53.552Z"
   },
   {
    "duration": 8,
    "start_time": "2022-12-01T05:15:53.559Z"
   },
   {
    "duration": 16,
    "start_time": "2022-12-01T05:15:53.568Z"
   },
   {
    "duration": 3,
    "start_time": "2022-12-01T05:15:53.585Z"
   },
   {
    "duration": 5,
    "start_time": "2022-12-01T05:15:53.589Z"
   },
   {
    "duration": 3001,
    "start_time": "2022-12-01T05:15:53.622Z"
   },
   {
    "duration": 96,
    "start_time": "2022-12-01T05:15:56.625Z"
   },
   {
    "duration": 104,
    "start_time": "2022-12-01T05:15:56.724Z"
   },
   {
    "duration": 191,
    "start_time": "2022-12-01T05:15:56.831Z"
   },
   {
    "duration": 7,
    "start_time": "2022-12-01T05:15:57.023Z"
   },
   {
    "duration": 14,
    "start_time": "2022-12-01T05:15:57.032Z"
   },
   {
    "duration": 6,
    "start_time": "2022-12-01T05:15:57.048Z"
   },
   {
    "duration": 6,
    "start_time": "2022-12-01T05:15:57.055Z"
   },
   {
    "duration": 5,
    "start_time": "2022-12-01T05:15:57.063Z"
   },
   {
    "duration": 6,
    "start_time": "2022-12-01T05:15:57.069Z"
   },
   {
    "duration": 7,
    "start_time": "2022-12-01T05:15:57.076Z"
   },
   {
    "duration": 13,
    "start_time": "2022-12-01T05:15:57.084Z"
   },
   {
    "duration": 19,
    "start_time": "2022-12-01T05:15:57.098Z"
   },
   {
    "duration": 10,
    "start_time": "2022-12-01T05:15:57.119Z"
   },
   {
    "duration": 2992,
    "start_time": "2022-12-01T05:15:57.130Z"
   },
   {
    "duration": 8,
    "start_time": "2022-12-01T05:16:00.124Z"
   },
   {
    "duration": 191,
    "start_time": "2022-12-01T05:16:00.134Z"
   },
   {
    "duration": 211,
    "start_time": "2022-12-01T05:16:00.327Z"
   },
   {
    "duration": 46,
    "start_time": "2022-12-01T05:16:00.540Z"
   },
   {
    "duration": 58,
    "start_time": "2022-12-01T05:16:00.587Z"
   },
   {
    "duration": 22,
    "start_time": "2022-12-01T05:16:00.647Z"
   },
   {
    "duration": 52,
    "start_time": "2022-12-01T05:16:00.670Z"
   },
   {
    "duration": 34,
    "start_time": "2022-12-01T05:16:00.723Z"
   },
   {
    "duration": 66,
    "start_time": "2022-12-01T05:16:00.758Z"
   },
   {
    "duration": 47,
    "start_time": "2022-12-01T05:16:00.825Z"
   },
   {
    "duration": 55,
    "start_time": "2022-12-01T05:16:00.874Z"
   },
   {
    "duration": 2,
    "start_time": "2022-12-01T05:16:00.931Z"
   },
   {
    "duration": 88,
    "start_time": "2022-12-01T05:16:00.934Z"
   },
   {
    "duration": 18,
    "start_time": "2022-12-01T05:16:01.024Z"
   },
   {
    "duration": 200,
    "start_time": "2022-12-01T05:16:01.044Z"
   },
   {
    "duration": 177,
    "start_time": "2022-12-01T05:16:01.247Z"
   },
   {
    "duration": 16,
    "start_time": "2022-12-01T05:16:01.425Z"
   },
   {
    "duration": 78,
    "start_time": "2022-12-01T05:16:01.443Z"
   },
   {
    "duration": 9,
    "start_time": "2022-12-01T05:16:01.523Z"
   },
   {
    "duration": 190,
    "start_time": "2022-12-01T05:16:01.534Z"
   },
   {
    "duration": 205,
    "start_time": "2022-12-01T05:16:01.727Z"
   },
   {
    "duration": 63,
    "start_time": "2022-12-01T05:16:01.934Z"
   },
   {
    "duration": 38,
    "start_time": "2022-12-01T05:16:01.998Z"
   },
   {
    "duration": 37,
    "start_time": "2022-12-01T05:16:02.037Z"
   },
   {
    "duration": 102,
    "start_time": "2022-12-01T05:16:02.076Z"
   },
   {
    "duration": 10,
    "start_time": "2022-12-01T05:16:02.179Z"
   },
   {
    "duration": 11,
    "start_time": "2022-12-01T05:16:02.191Z"
   },
   {
    "duration": 8,
    "start_time": "2022-12-01T05:16:02.203Z"
   },
   {
    "duration": 8,
    "start_time": "2022-12-01T05:16:02.212Z"
   },
   {
    "duration": 8,
    "start_time": "2022-12-01T05:16:02.221Z"
   },
   {
    "duration": 7,
    "start_time": "2022-12-01T05:16:02.231Z"
   },
   {
    "duration": 9,
    "start_time": "2022-12-01T05:16:02.240Z"
   },
   {
    "duration": 8,
    "start_time": "2022-12-01T05:16:02.250Z"
   },
   {
    "duration": 9,
    "start_time": "2022-12-01T05:16:02.259Z"
   },
   {
    "duration": 4,
    "start_time": "2022-12-01T05:16:02.273Z"
   },
   {
    "duration": 9,
    "start_time": "2022-12-01T05:16:02.278Z"
   },
   {
    "duration": 7,
    "start_time": "2022-12-01T05:16:02.289Z"
   },
   {
    "duration": 5,
    "start_time": "2022-12-01T05:16:02.297Z"
   },
   {
    "duration": 1265,
    "start_time": "2022-12-01T05:16:02.304Z"
   },
   {
    "duration": 5,
    "start_time": "2022-12-01T05:16:03.571Z"
   },
   {
    "duration": 10,
    "start_time": "2022-12-01T05:16:03.578Z"
   },
   {
    "duration": 6,
    "start_time": "2022-12-01T05:16:03.590Z"
   },
   {
    "duration": 7,
    "start_time": "2022-12-01T05:16:03.597Z"
   },
   {
    "duration": 1221,
    "start_time": "2022-12-01T05:16:03.606Z"
   },
   {
    "duration": 5,
    "start_time": "2022-12-01T05:16:04.828Z"
   },
   {
    "duration": 9,
    "start_time": "2022-12-01T05:16:04.834Z"
   },
   {
    "duration": 8,
    "start_time": "2022-12-01T05:16:04.844Z"
   },
   {
    "duration": 13,
    "start_time": "2022-12-01T05:16:04.854Z"
   },
   {
    "duration": 1279,
    "start_time": "2022-12-01T05:16:04.869Z"
   },
   {
    "duration": 5,
    "start_time": "2022-12-01T05:16:06.149Z"
   },
   {
    "duration": 8,
    "start_time": "2022-12-01T05:16:06.155Z"
   },
   {
    "duration": 15,
    "start_time": "2022-12-01T05:16:06.164Z"
   },
   {
    "duration": 10,
    "start_time": "2022-12-01T05:16:06.181Z"
   },
   {
    "duration": 1223,
    "start_time": "2022-12-01T05:16:50.863Z"
   },
   {
    "duration": 359,
    "start_time": "2022-12-01T05:16:52.088Z"
   },
   {
    "duration": 14,
    "start_time": "2022-12-01T05:16:52.448Z"
   },
   {
    "duration": 683,
    "start_time": "2022-12-01T05:16:52.464Z"
   },
   {
    "duration": 36,
    "start_time": "2022-12-01T05:16:53.148Z"
   },
   {
    "duration": 37,
    "start_time": "2022-12-01T05:16:53.186Z"
   },
   {
    "duration": 18,
    "start_time": "2022-12-01T05:16:53.224Z"
   },
   {
    "duration": 18,
    "start_time": "2022-12-01T05:16:53.243Z"
   },
   {
    "duration": 17,
    "start_time": "2022-12-01T05:16:53.263Z"
   },
   {
    "duration": 7,
    "start_time": "2022-12-01T05:16:53.283Z"
   },
   {
    "duration": 38,
    "start_time": "2022-12-01T05:16:53.291Z"
   },
   {
    "duration": 711,
    "start_time": "2022-12-01T05:16:53.330Z"
   },
   {
    "duration": 35,
    "start_time": "2022-12-01T05:16:54.042Z"
   },
   {
    "duration": 14,
    "start_time": "2022-12-01T05:16:54.079Z"
   },
   {
    "duration": 37,
    "start_time": "2022-12-01T05:16:54.095Z"
   },
   {
    "duration": 17,
    "start_time": "2022-12-01T05:16:54.134Z"
   },
   {
    "duration": 15,
    "start_time": "2022-12-01T05:16:54.153Z"
   },
   {
    "duration": 5,
    "start_time": "2022-12-01T05:16:54.170Z"
   },
   {
    "duration": 17,
    "start_time": "2022-12-01T05:16:54.177Z"
   },
   {
    "duration": 641,
    "start_time": "2022-12-01T05:16:54.221Z"
   },
   {
    "duration": 33,
    "start_time": "2022-12-01T05:16:54.863Z"
   },
   {
    "duration": 28,
    "start_time": "2022-12-01T05:16:54.898Z"
   },
   {
    "duration": 18,
    "start_time": "2022-12-01T05:16:54.928Z"
   },
   {
    "duration": 18,
    "start_time": "2022-12-01T05:16:54.948Z"
   },
   {
    "duration": 14,
    "start_time": "2022-12-01T05:16:54.967Z"
   },
   {
    "duration": 5,
    "start_time": "2022-12-01T05:16:54.983Z"
   },
   {
    "duration": 37,
    "start_time": "2022-12-01T05:16:54.990Z"
   },
   {
    "duration": 6,
    "start_time": "2022-12-01T05:16:55.032Z"
   },
   {
    "duration": 7,
    "start_time": "2022-12-01T05:16:55.039Z"
   },
   {
    "duration": 18,
    "start_time": "2022-12-01T05:16:55.048Z"
   },
   {
    "duration": 5,
    "start_time": "2022-12-01T05:16:55.068Z"
   },
   {
    "duration": 5,
    "start_time": "2022-12-01T05:16:55.074Z"
   },
   {
    "duration": 2844,
    "start_time": "2022-12-01T05:16:55.080Z"
   },
   {
    "duration": 97,
    "start_time": "2022-12-01T05:16:57.926Z"
   },
   {
    "duration": 99,
    "start_time": "2022-12-01T05:16:58.025Z"
   },
   {
    "duration": 96,
    "start_time": "2022-12-01T05:16:58.126Z"
   },
   {
    "duration": 6,
    "start_time": "2022-12-01T05:16:58.224Z"
   },
   {
    "duration": 4,
    "start_time": "2022-12-01T05:16:58.322Z"
   },
   {
    "duration": 13,
    "start_time": "2022-12-01T05:16:58.327Z"
   },
   {
    "duration": 7,
    "start_time": "2022-12-01T05:16:58.342Z"
   },
   {
    "duration": 5,
    "start_time": "2022-12-01T05:16:58.350Z"
   },
   {
    "duration": 12,
    "start_time": "2022-12-01T05:16:58.356Z"
   },
   {
    "duration": 9,
    "start_time": "2022-12-01T05:16:58.369Z"
   },
   {
    "duration": 52,
    "start_time": "2022-12-01T05:16:58.379Z"
   },
   {
    "duration": 8,
    "start_time": "2022-12-01T05:16:58.432Z"
   },
   {
    "duration": 12,
    "start_time": "2022-12-01T05:16:58.441Z"
   },
   {
    "duration": 68,
    "start_time": "2022-12-01T05:16:58.454Z"
   },
   {
    "duration": 3,
    "start_time": "2022-12-01T05:16:58.523Z"
   },
   {
    "duration": 23,
    "start_time": "2022-12-01T05:16:58.527Z"
   },
   {
    "duration": 73,
    "start_time": "2022-12-01T05:16:58.552Z"
   },
   {
    "duration": 97,
    "start_time": "2022-12-01T05:16:58.627Z"
   },
   {
    "duration": 96,
    "start_time": "2022-12-01T05:16:58.727Z"
   },
   {
    "duration": 117,
    "start_time": "2022-12-01T05:16:58.825Z"
   },
   {
    "duration": 18,
    "start_time": "2022-12-01T05:16:58.943Z"
   },
   {
    "duration": 13,
    "start_time": "2022-12-01T05:16:58.962Z"
   },
   {
    "duration": 7,
    "start_time": "2022-12-01T05:16:58.977Z"
   },
   {
    "duration": 43,
    "start_time": "2022-12-01T05:16:58.985Z"
   },
   {
    "duration": 24,
    "start_time": "2022-12-01T05:16:59.029Z"
   },
   {
    "duration": 7,
    "start_time": "2022-12-01T05:16:59.054Z"
   },
   {
    "duration": 59,
    "start_time": "2022-12-01T05:16:59.062Z"
   },
   {
    "duration": 2,
    "start_time": "2022-12-01T05:16:59.123Z"
   },
   {
    "duration": 20,
    "start_time": "2022-12-01T05:16:59.127Z"
   },
   {
    "duration": 4,
    "start_time": "2022-12-01T05:16:59.149Z"
   },
   {
    "duration": 76,
    "start_time": "2022-12-01T05:16:59.155Z"
   },
   {
    "duration": 108,
    "start_time": "2022-12-01T05:16:59.323Z"
   },
   {
    "duration": 6,
    "start_time": "2022-12-01T05:16:59.433Z"
   },
   {
    "duration": 13,
    "start_time": "2022-12-01T05:16:59.440Z"
   },
   {
    "duration": 68,
    "start_time": "2022-12-01T05:16:59.455Z"
   },
   {
    "duration": 5,
    "start_time": "2022-12-01T05:16:59.525Z"
   },
   {
    "duration": 191,
    "start_time": "2022-12-01T05:16:59.531Z"
   },
   {
    "duration": 11,
    "start_time": "2022-12-01T05:16:59.724Z"
   },
   {
    "duration": 10,
    "start_time": "2022-12-01T05:16:59.736Z"
   },
   {
    "duration": 17,
    "start_time": "2022-12-01T05:16:59.747Z"
   },
   {
    "duration": 6,
    "start_time": "2022-12-01T05:16:59.765Z"
   },
   {
    "duration": 9,
    "start_time": "2022-12-01T05:16:59.773Z"
   },
   {
    "duration": 3,
    "start_time": "2022-12-01T05:16:59.822Z"
   },
   {
    "duration": 8,
    "start_time": "2022-12-01T05:16:59.827Z"
   },
   {
    "duration": 7,
    "start_time": "2022-12-01T05:16:59.836Z"
   },
   {
    "duration": 5,
    "start_time": "2022-12-01T05:16:59.845Z"
   },
   {
    "duration": 10,
    "start_time": "2022-12-01T05:16:59.851Z"
   },
   {
    "duration": 6,
    "start_time": "2022-12-01T05:16:59.863Z"
   },
   {
    "duration": 47,
    "start_time": "2022-12-01T05:16:59.874Z"
   },
   {
    "duration": 4,
    "start_time": "2022-12-01T05:16:59.923Z"
   },
   {
    "duration": 8,
    "start_time": "2022-12-01T05:16:59.929Z"
   },
   {
    "duration": 9,
    "start_time": "2022-12-01T05:16:59.939Z"
   },
   {
    "duration": 9,
    "start_time": "2022-12-01T05:16:59.950Z"
   },
   {
    "duration": 7,
    "start_time": "2022-12-01T05:16:59.961Z"
   },
   {
    "duration": 1771,
    "start_time": "2022-12-01T05:16:59.970Z"
   },
   {
    "duration": 5,
    "start_time": "2022-12-01T05:17:01.743Z"
   },
   {
    "duration": 29,
    "start_time": "2022-12-01T05:17:01.750Z"
   },
   {
    "duration": 125,
    "start_time": "2022-12-01T05:17:01.781Z"
   },
   {
    "duration": 22,
    "start_time": "2022-12-01T05:17:01.907Z"
   },
   {
    "duration": 1255,
    "start_time": "2022-12-01T05:17:01.931Z"
   },
   {
    "duration": 5,
    "start_time": "2022-12-01T05:17:03.188Z"
   },
   {
    "duration": 24,
    "start_time": "2022-12-01T05:17:03.195Z"
   },
   {
    "duration": 23,
    "start_time": "2022-12-01T05:17:03.220Z"
   },
   {
    "duration": 12,
    "start_time": "2022-12-01T05:17:03.245Z"
   },
   {
    "duration": 1240,
    "start_time": "2022-12-01T05:17:03.259Z"
   },
   {
    "duration": 7,
    "start_time": "2022-12-01T05:17:04.500Z"
   },
   {
    "duration": 12,
    "start_time": "2022-12-01T05:17:04.509Z"
   },
   {
    "duration": 5,
    "start_time": "2022-12-01T05:17:04.523Z"
   },
   {
    "duration": 11,
    "start_time": "2022-12-01T05:17:04.529Z"
   },
   {
    "duration": 95,
    "start_time": "2022-12-01T05:21:42.671Z"
   },
   {
    "duration": 10,
    "start_time": "2022-12-01T05:21:47.635Z"
   },
   {
    "duration": 9,
    "start_time": "2022-12-01T05:22:13.767Z"
   },
   {
    "duration": 13,
    "start_time": "2022-12-01T05:22:18.324Z"
   },
   {
    "duration": 9,
    "start_time": "2022-12-01T05:22:22.229Z"
   },
   {
    "duration": 8,
    "start_time": "2022-12-01T05:22:46.676Z"
   },
   {
    "duration": 8,
    "start_time": "2022-12-01T05:22:57.495Z"
   },
   {
    "duration": 12,
    "start_time": "2022-12-01T05:23:15.418Z"
   },
   {
    "duration": 8,
    "start_time": "2022-12-01T05:23:17.193Z"
   },
   {
    "duration": 3,
    "start_time": "2022-12-01T05:23:30.165Z"
   },
   {
    "duration": 8,
    "start_time": "2022-12-01T05:23:31.000Z"
   },
   {
    "duration": 4,
    "start_time": "2022-12-01T05:24:02.020Z"
   },
   {
    "duration": 8,
    "start_time": "2022-12-01T05:24:05.771Z"
   },
   {
    "duration": 3,
    "start_time": "2022-12-01T05:24:25.977Z"
   },
   {
    "duration": 5,
    "start_time": "2022-12-01T05:24:26.585Z"
   },
   {
    "duration": 8,
    "start_time": "2022-12-01T05:24:26.982Z"
   },
   {
    "duration": 10,
    "start_time": "2022-12-01T05:24:52.625Z"
   },
   {
    "duration": 6,
    "start_time": "2022-12-01T05:24:56.729Z"
   },
   {
    "duration": 5,
    "start_time": "2022-12-01T05:25:11.979Z"
   },
   {
    "duration": 3,
    "start_time": "2022-12-01T05:26:07.846Z"
   },
   {
    "duration": 3,
    "start_time": "2022-12-01T05:26:19.005Z"
   },
   {
    "duration": 6,
    "start_time": "2022-12-01T05:26:33.251Z"
   },
   {
    "duration": 10,
    "start_time": "2022-12-01T05:26:36.322Z"
   },
   {
    "duration": 5,
    "start_time": "2022-12-01T05:27:25.221Z"
   },
   {
    "duration": 14,
    "start_time": "2022-12-01T05:27:25.835Z"
   },
   {
    "duration": 702,
    "start_time": "2022-12-01T05:28:28.215Z"
   },
   {
    "duration": 5,
    "start_time": "2022-12-01T05:28:35.365Z"
   },
   {
    "duration": 4,
    "start_time": "2022-12-01T05:28:46.692Z"
   },
   {
    "duration": 4,
    "start_time": "2022-12-01T05:28:56.728Z"
   },
   {
    "duration": 5,
    "start_time": "2022-12-01T05:28:57.657Z"
   },
   {
    "duration": 6,
    "start_time": "2022-12-01T05:29:27.267Z"
   },
   {
    "duration": 5,
    "start_time": "2022-12-01T05:29:28.060Z"
   },
   {
    "duration": 4,
    "start_time": "2022-12-01T05:29:44.684Z"
   },
   {
    "duration": 5,
    "start_time": "2022-12-01T05:29:45.369Z"
   },
   {
    "duration": 140,
    "start_time": "2022-12-01T05:38:00.305Z"
   },
   {
    "duration": 157,
    "start_time": "2022-12-01T05:38:11.472Z"
   },
   {
    "duration": 153,
    "start_time": "2022-12-01T05:38:22.964Z"
   },
   {
    "duration": 244,
    "start_time": "2022-12-01T05:38:39.002Z"
   },
   {
    "duration": 3,
    "start_time": "2022-12-01T05:41:16.014Z"
   },
   {
    "duration": 7,
    "start_time": "2022-12-01T05:41:44.087Z"
   },
   {
    "duration": 4,
    "start_time": "2022-12-01T05:41:53.897Z"
   },
   {
    "duration": 5,
    "start_time": "2022-12-01T05:42:08.914Z"
   },
   {
    "duration": 4,
    "start_time": "2022-12-01T05:42:09.941Z"
   },
   {
    "duration": 7,
    "start_time": "2022-12-01T05:43:16.524Z"
   },
   {
    "duration": 4,
    "start_time": "2022-12-01T05:43:17.167Z"
   },
   {
    "duration": 6,
    "start_time": "2022-12-01T05:43:30.436Z"
   },
   {
    "duration": 4,
    "start_time": "2022-12-01T05:43:30.951Z"
   },
   {
    "duration": 7,
    "start_time": "2022-12-01T05:43:38.412Z"
   },
   {
    "duration": 4,
    "start_time": "2022-12-01T05:43:39.137Z"
   },
   {
    "duration": 9,
    "start_time": "2022-12-01T05:50:56.396Z"
   },
   {
    "duration": 3064,
    "start_time": "2022-12-01T05:51:05.095Z"
   },
   {
    "duration": 14,
    "start_time": "2022-12-01T05:51:12.357Z"
   },
   {
    "duration": 4265,
    "start_time": "2022-12-01T05:52:20.120Z"
   },
   {
    "duration": 4,
    "start_time": "2022-12-01T05:52:41.170Z"
   },
   {
    "duration": 4320,
    "start_time": "2022-12-01T05:53:04.216Z"
   },
   {
    "duration": 3927,
    "start_time": "2022-12-01T05:53:35.416Z"
   },
   {
    "duration": 4209,
    "start_time": "2022-12-01T05:55:44.384Z"
   },
   {
    "duration": 3450,
    "start_time": "2022-12-01T05:56:05.884Z"
   },
   {
    "duration": 4203,
    "start_time": "2022-12-01T05:56:26.909Z"
   },
   {
    "duration": 3557,
    "start_time": "2022-12-01T05:56:35.011Z"
   },
   {
    "duration": 54,
    "start_time": "2022-12-01T06:19:34.803Z"
   },
   {
    "duration": 5483,
    "start_time": "2022-12-01T06:19:51.211Z"
   },
   {
    "duration": 5928,
    "start_time": "2022-12-01T06:21:21.313Z"
   },
   {
    "duration": 6313,
    "start_time": "2022-12-01T06:23:57.356Z"
   },
   {
    "duration": 5621,
    "start_time": "2022-12-01T06:24:07.801Z"
   },
   {
    "duration": 11,
    "start_time": "2022-12-01T06:25:03.910Z"
   },
   {
    "duration": 254,
    "start_time": "2022-12-01T06:25:09.829Z"
   },
   {
    "duration": 262,
    "start_time": "2022-12-01T06:25:14.737Z"
   },
   {
    "duration": 227,
    "start_time": "2022-12-01T06:25:18.378Z"
   },
   {
    "duration": 306,
    "start_time": "2022-12-01T06:25:23.595Z"
   },
   {
    "duration": 12403,
    "start_time": "2022-12-01T06:25:56.583Z"
   },
   {
    "duration": 12661,
    "start_time": "2022-12-01T06:26:22.507Z"
   },
   {
    "duration": 771,
    "start_time": "2022-12-01T06:43:08.770Z"
   },
   {
    "duration": 295,
    "start_time": "2022-12-01T06:43:44.343Z"
   },
   {
    "duration": 292,
    "start_time": "2022-12-01T06:43:49.209Z"
   },
   {
    "duration": 279,
    "start_time": "2022-12-01T06:43:52.858Z"
   },
   {
    "duration": 37,
    "start_time": "2022-12-01T06:44:05.108Z"
   },
   {
    "duration": 269,
    "start_time": "2022-12-01T06:44:08.747Z"
   },
   {
    "duration": 1294,
    "start_time": "2022-12-01T06:48:00.797Z"
   },
   {
    "duration": 364,
    "start_time": "2022-12-01T06:48:02.093Z"
   },
   {
    "duration": 15,
    "start_time": "2022-12-01T06:48:02.458Z"
   },
   {
    "duration": 673,
    "start_time": "2022-12-01T06:48:02.475Z"
   },
   {
    "duration": 128,
    "start_time": "2022-12-01T06:48:03.150Z"
   },
   {
    "duration": 42,
    "start_time": "2022-12-01T06:48:03.280Z"
   },
   {
    "duration": 14,
    "start_time": "2022-12-01T06:48:03.323Z"
   },
   {
    "duration": 16,
    "start_time": "2022-12-01T06:48:03.339Z"
   },
   {
    "duration": 25,
    "start_time": "2022-12-01T06:48:03.357Z"
   },
   {
    "duration": 15,
    "start_time": "2022-12-01T06:48:03.384Z"
   },
   {
    "duration": 20,
    "start_time": "2022-12-01T06:48:03.401Z"
   },
   {
    "duration": 19,
    "start_time": "2022-12-01T06:48:03.423Z"
   },
   {
    "duration": 649,
    "start_time": "2022-12-01T06:48:03.443Z"
   },
   {
    "duration": 39,
    "start_time": "2022-12-01T06:48:04.095Z"
   },
   {
    "duration": 14,
    "start_time": "2022-12-01T06:48:04.135Z"
   },
   {
    "duration": 19,
    "start_time": "2022-12-01T06:48:04.150Z"
   },
   {
    "duration": 20,
    "start_time": "2022-12-01T06:48:04.170Z"
   },
   {
    "duration": 35,
    "start_time": "2022-12-01T06:48:04.192Z"
   },
   {
    "duration": 6,
    "start_time": "2022-12-01T06:48:04.229Z"
   },
   {
    "duration": 21,
    "start_time": "2022-12-01T06:48:04.236Z"
   },
   {
    "duration": 676,
    "start_time": "2022-12-01T06:48:04.259Z"
   },
   {
    "duration": 33,
    "start_time": "2022-12-01T06:48:04.937Z"
   },
   {
    "duration": 18,
    "start_time": "2022-12-01T06:48:04.972Z"
   },
   {
    "duration": 90,
    "start_time": "2022-12-01T06:48:04.991Z"
   },
   {
    "duration": 51,
    "start_time": "2022-12-01T06:48:05.083Z"
   },
   {
    "duration": 14,
    "start_time": "2022-12-01T06:48:05.135Z"
   },
   {
    "duration": 7,
    "start_time": "2022-12-01T06:48:05.150Z"
   },
   {
    "duration": 20,
    "start_time": "2022-12-01T06:48:05.159Z"
   },
   {
    "duration": 54,
    "start_time": "2022-12-01T06:48:05.181Z"
   },
   {
    "duration": 15,
    "start_time": "2022-12-01T06:48:05.237Z"
   },
   {
    "duration": 22,
    "start_time": "2022-12-01T06:48:05.253Z"
   },
   {
    "duration": 2,
    "start_time": "2022-12-01T06:48:05.276Z"
   },
   {
    "duration": 8,
    "start_time": "2022-12-01T06:48:05.280Z"
   },
   {
    "duration": 2736,
    "start_time": "2022-12-01T06:48:05.290Z"
   },
   {
    "duration": 8,
    "start_time": "2022-12-01T06:48:08.027Z"
   },
   {
    "duration": 101,
    "start_time": "2022-12-01T06:48:08.121Z"
   },
   {
    "duration": 106,
    "start_time": "2022-12-01T06:48:08.225Z"
   },
   {
    "duration": 14,
    "start_time": "2022-12-01T06:48:08.332Z"
   },
   {
    "duration": 14,
    "start_time": "2022-12-01T06:48:08.347Z"
   },
   {
    "duration": 9,
    "start_time": "2022-12-01T06:48:08.362Z"
   },
   {
    "duration": 6,
    "start_time": "2022-12-01T06:48:08.376Z"
   },
   {
    "duration": 11,
    "start_time": "2022-12-01T06:48:08.383Z"
   },
   {
    "duration": 17,
    "start_time": "2022-12-01T06:48:08.395Z"
   },
   {
    "duration": 8,
    "start_time": "2022-12-01T06:48:08.413Z"
   },
   {
    "duration": 11,
    "start_time": "2022-12-01T06:48:08.423Z"
   },
   {
    "duration": 7,
    "start_time": "2022-12-01T06:48:08.436Z"
   },
   {
    "duration": 9,
    "start_time": "2022-12-01T06:48:08.445Z"
   },
   {
    "duration": 18,
    "start_time": "2022-12-01T06:48:08.455Z"
   },
   {
    "duration": 3,
    "start_time": "2022-12-01T06:48:08.474Z"
   },
   {
    "duration": 24,
    "start_time": "2022-12-01T06:48:08.478Z"
   },
   {
    "duration": 21,
    "start_time": "2022-12-01T06:48:08.503Z"
   },
   {
    "duration": 199,
    "start_time": "2022-12-01T06:48:08.525Z"
   },
   {
    "duration": 198,
    "start_time": "2022-12-01T06:48:08.727Z"
   },
   {
    "duration": 10,
    "start_time": "2022-12-01T06:48:08.926Z"
   },
   {
    "duration": 10,
    "start_time": "2022-12-01T06:48:08.937Z"
   },
   {
    "duration": 10,
    "start_time": "2022-12-01T06:48:08.948Z"
   },
   {
    "duration": 10,
    "start_time": "2022-12-01T06:48:08.960Z"
   },
   {
    "duration": 14,
    "start_time": "2022-12-01T06:48:08.972Z"
   },
   {
    "duration": 9,
    "start_time": "2022-12-01T06:48:08.987Z"
   },
   {
    "duration": 12,
    "start_time": "2022-12-01T06:48:08.998Z"
   },
   {
    "duration": 17,
    "start_time": "2022-12-01T06:48:09.011Z"
   },
   {
    "duration": 2,
    "start_time": "2022-12-01T06:48:09.030Z"
   },
   {
    "duration": 13,
    "start_time": "2022-12-01T06:48:09.033Z"
   },
   {
    "duration": 4,
    "start_time": "2022-12-01T06:48:09.048Z"
   },
   {
    "duration": 170,
    "start_time": "2022-12-01T06:48:09.054Z"
   },
   {
    "duration": 99,
    "start_time": "2022-12-01T06:48:09.226Z"
   },
   {
    "duration": 7,
    "start_time": "2022-12-01T06:48:09.327Z"
   },
   {
    "duration": 17,
    "start_time": "2022-12-01T06:48:09.335Z"
   },
   {
    "duration": 7,
    "start_time": "2022-12-01T06:48:09.353Z"
   },
   {
    "duration": 61,
    "start_time": "2022-12-01T06:48:09.361Z"
   },
   {
    "duration": 197,
    "start_time": "2022-12-01T06:48:09.425Z"
   },
   {
    "duration": 9,
    "start_time": "2022-12-01T06:48:09.624Z"
   },
   {
    "duration": 9,
    "start_time": "2022-12-01T06:48:09.634Z"
   },
   {
    "duration": 6,
    "start_time": "2022-12-01T06:48:09.644Z"
   },
   {
    "duration": 18,
    "start_time": "2022-12-01T06:48:09.652Z"
   },
   {
    "duration": 8,
    "start_time": "2022-12-01T06:48:09.672Z"
   },
   {
    "duration": 8,
    "start_time": "2022-12-01T06:48:09.682Z"
   },
   {
    "duration": 2157,
    "start_time": "2022-12-01T06:48:09.692Z"
   },
   {
    "duration": 11,
    "start_time": "2022-12-01T06:48:11.851Z"
   },
   {
    "duration": 15930,
    "start_time": "2022-12-01T06:48:11.863Z"
   },
   {
    "duration": 2,
    "start_time": "2022-12-01T06:48:27.795Z"
   },
   {
    "duration": 18,
    "start_time": "2022-12-01T06:48:27.798Z"
   },
   {
    "duration": 12,
    "start_time": "2022-12-01T06:48:27.817Z"
   },
   {
    "duration": 7,
    "start_time": "2022-12-01T06:48:27.830Z"
   },
   {
    "duration": 5,
    "start_time": "2022-12-01T06:48:27.839Z"
   },
   {
    "duration": 5,
    "start_time": "2022-12-01T06:48:27.845Z"
   },
   {
    "duration": 8,
    "start_time": "2022-12-01T06:48:27.852Z"
   },
   {
    "duration": 18,
    "start_time": "2022-12-01T06:48:27.862Z"
   },
   {
    "duration": 8,
    "start_time": "2022-12-01T06:48:27.882Z"
   },
   {
    "duration": 8,
    "start_time": "2022-12-01T06:48:27.891Z"
   },
   {
    "duration": 4,
    "start_time": "2022-12-01T06:48:27.901Z"
   },
   {
    "duration": 18,
    "start_time": "2022-12-01T06:48:27.906Z"
   },
   {
    "duration": 5,
    "start_time": "2022-12-01T06:48:27.926Z"
   },
   {
    "duration": 1223,
    "start_time": "2022-12-01T06:48:27.932Z"
   },
   {
    "duration": 5,
    "start_time": "2022-12-01T06:48:29.157Z"
   },
   {
    "duration": 13,
    "start_time": "2022-12-01T06:48:29.164Z"
   },
   {
    "duration": 12,
    "start_time": "2022-12-01T06:48:29.178Z"
   },
   {
    "duration": 19,
    "start_time": "2022-12-01T06:48:29.192Z"
   },
   {
    "duration": 1215,
    "start_time": "2022-12-01T06:48:29.212Z"
   },
   {
    "duration": 7,
    "start_time": "2022-12-01T06:48:30.429Z"
   },
   {
    "duration": 53,
    "start_time": "2022-12-01T06:48:30.437Z"
   },
   {
    "duration": 27,
    "start_time": "2022-12-01T06:48:30.492Z"
   },
   {
    "duration": 19,
    "start_time": "2022-12-01T06:48:30.521Z"
   },
   {
    "duration": 1257,
    "start_time": "2022-12-01T06:48:30.541Z"
   },
   {
    "duration": 5,
    "start_time": "2022-12-01T06:48:31.799Z"
   },
   {
    "duration": 16,
    "start_time": "2022-12-01T06:48:31.805Z"
   },
   {
    "duration": 10,
    "start_time": "2022-12-01T06:48:31.823Z"
   },
   {
    "duration": 14,
    "start_time": "2022-12-01T06:48:31.834Z"
   },
   {
    "duration": 355,
    "start_time": "2022-12-01T07:00:40.083Z"
   },
   {
    "duration": 257,
    "start_time": "2022-12-01T07:00:46.398Z"
   },
   {
    "duration": 246,
    "start_time": "2022-12-01T07:00:53.384Z"
   },
   {
    "duration": 120,
    "start_time": "2022-12-01T07:01:08.001Z"
   },
   {
    "duration": 148,
    "start_time": "2022-12-01T07:01:15.344Z"
   },
   {
    "duration": 133,
    "start_time": "2022-12-01T07:01:21.089Z"
   },
   {
    "duration": 3,
    "start_time": "2022-12-01T07:40:46.686Z"
   },
   {
    "duration": 3,
    "start_time": "2022-12-01T08:02:36.494Z"
   },
   {
    "duration": 2,
    "start_time": "2022-12-01T08:04:01.588Z"
   },
   {
    "duration": 251,
    "start_time": "2022-12-01T08:04:23.820Z"
   },
   {
    "duration": 16,
    "start_time": "2022-12-01T08:05:12.204Z"
   },
   {
    "duration": 4,
    "start_time": "2022-12-01T08:05:23.081Z"
   },
   {
    "duration": 106,
    "start_time": "2022-12-01T08:05:44.145Z"
   },
   {
    "duration": 19,
    "start_time": "2022-12-01T08:05:52.141Z"
   },
   {
    "duration": 8,
    "start_time": "2022-12-01T08:05:53.235Z"
   },
   {
    "duration": 10,
    "start_time": "2022-12-01T08:06:11.157Z"
   },
   {
    "duration": 10,
    "start_time": "2022-12-01T08:06:30.080Z"
   },
   {
    "duration": 20,
    "start_time": "2022-12-01T08:07:07.713Z"
   },
   {
    "duration": 266,
    "start_time": "2022-12-01T08:07:08.376Z"
   },
   {
    "duration": 430,
    "start_time": "2022-12-01T08:07:19.128Z"
   },
   {
    "duration": 2750,
    "start_time": "2022-12-01T08:07:25.227Z"
   },
   {
    "duration": 19,
    "start_time": "2022-12-01T08:08:03.134Z"
   },
   {
    "duration": 2560,
    "start_time": "2022-12-01T08:08:04.811Z"
   },
   {
    "duration": 644,
    "start_time": "2022-12-01T08:08:10.561Z"
   },
   {
    "duration": 9,
    "start_time": "2022-12-01T08:09:12.426Z"
   },
   {
    "duration": 10,
    "start_time": "2022-12-01T08:09:16.906Z"
   },
   {
    "duration": 233,
    "start_time": "2022-12-01T08:09:29.689Z"
   },
   {
    "duration": 18,
    "start_time": "2022-12-01T08:09:32.331Z"
   },
   {
    "duration": 397,
    "start_time": "2022-12-01T08:09:33.953Z"
   },
   {
    "duration": 3,
    "start_time": "2022-12-01T08:12:01.558Z"
   },
   {
    "duration": 23,
    "start_time": "2022-12-01T08:12:02.958Z"
   },
   {
    "duration": 14,
    "start_time": "2022-12-01T08:12:03.856Z"
   },
   {
    "duration": 436,
    "start_time": "2022-12-01T08:12:05.357Z"
   },
   {
    "duration": 27,
    "start_time": "2022-12-01T08:12:14.375Z"
   },
   {
    "duration": 393,
    "start_time": "2022-12-01T08:12:16.031Z"
   },
   {
    "duration": 18,
    "start_time": "2022-12-01T08:13:07.387Z"
   },
   {
    "duration": 38,
    "start_time": "2022-12-01T08:13:08.280Z"
   },
   {
    "duration": 394,
    "start_time": "2022-12-01T08:13:10.861Z"
   },
   {
    "duration": 1184,
    "start_time": "2022-12-01T08:13:35.881Z"
   },
   {
    "duration": 354,
    "start_time": "2022-12-01T08:13:37.066Z"
   },
   {
    "duration": 14,
    "start_time": "2022-12-01T08:13:37.421Z"
   },
   {
    "duration": 700,
    "start_time": "2022-12-01T08:13:37.437Z"
   },
   {
    "duration": 137,
    "start_time": "2022-12-01T08:13:38.139Z"
   },
   {
    "duration": 44,
    "start_time": "2022-12-01T08:13:38.277Z"
   },
   {
    "duration": 13,
    "start_time": "2022-12-01T08:13:38.322Z"
   },
   {
    "duration": 47,
    "start_time": "2022-12-01T08:13:38.336Z"
   },
   {
    "duration": 22,
    "start_time": "2022-12-01T08:13:38.384Z"
   },
   {
    "duration": 17,
    "start_time": "2022-12-01T08:13:38.408Z"
   },
   {
    "duration": 11,
    "start_time": "2022-12-01T08:13:38.426Z"
   },
   {
    "duration": 28,
    "start_time": "2022-12-01T08:13:38.439Z"
   },
   {
    "duration": 1177,
    "start_time": "2022-12-01T08:13:38.469Z"
   },
   {
    "duration": 87,
    "start_time": "2022-12-01T08:13:39.648Z"
   },
   {
    "duration": 13,
    "start_time": "2022-12-01T08:13:39.737Z"
   },
   {
    "duration": 15,
    "start_time": "2022-12-01T08:13:39.751Z"
   },
   {
    "duration": 15,
    "start_time": "2022-12-01T08:13:39.822Z"
   },
   {
    "duration": 18,
    "start_time": "2022-12-01T08:13:39.839Z"
   },
   {
    "duration": 5,
    "start_time": "2022-12-01T08:13:39.859Z"
   },
   {
    "duration": 64,
    "start_time": "2022-12-01T08:13:39.866Z"
   },
   {
    "duration": 815,
    "start_time": "2022-12-01T08:13:39.932Z"
   },
   {
    "duration": 33,
    "start_time": "2022-12-01T08:13:40.749Z"
   },
   {
    "duration": 13,
    "start_time": "2022-12-01T08:13:40.783Z"
   },
   {
    "duration": 35,
    "start_time": "2022-12-01T08:13:40.798Z"
   },
   {
    "duration": 33,
    "start_time": "2022-12-01T08:13:40.834Z"
   },
   {
    "duration": 13,
    "start_time": "2022-12-01T08:13:40.868Z"
   },
   {
    "duration": 7,
    "start_time": "2022-12-01T08:13:40.882Z"
   },
   {
    "duration": 21,
    "start_time": "2022-12-01T08:13:40.894Z"
   },
   {
    "duration": 10,
    "start_time": "2022-12-01T08:13:40.917Z"
   },
   {
    "duration": 16,
    "start_time": "2022-12-01T08:13:40.928Z"
   },
   {
    "duration": 22,
    "start_time": "2022-12-01T08:13:40.945Z"
   },
   {
    "duration": 39,
    "start_time": "2022-12-01T08:13:40.969Z"
   },
   {
    "duration": 52,
    "start_time": "2022-12-01T08:13:41.010Z"
   },
   {
    "duration": 868,
    "start_time": "2022-12-01T08:13:41.064Z"
   },
   {
    "duration": 3,
    "start_time": "2022-12-01T08:13:41.933Z"
   },
   {
    "duration": 6,
    "start_time": "2022-12-01T08:13:41.937Z"
   },
   {
    "duration": 2978,
    "start_time": "2022-12-01T08:13:41.945Z"
   },
   {
    "duration": 102,
    "start_time": "2022-12-01T08:13:44.925Z"
   },
   {
    "duration": 95,
    "start_time": "2022-12-01T08:13:45.029Z"
   },
   {
    "duration": 96,
    "start_time": "2022-12-01T08:13:45.127Z"
   },
   {
    "duration": 112,
    "start_time": "2022-12-01T08:13:45.226Z"
   },
   {
    "duration": 13,
    "start_time": "2022-12-01T08:13:45.340Z"
   },
   {
    "duration": 5,
    "start_time": "2022-12-01T08:13:45.355Z"
   },
   {
    "duration": 15,
    "start_time": "2022-12-01T08:13:45.362Z"
   },
   {
    "duration": 42,
    "start_time": "2022-12-01T08:13:45.379Z"
   },
   {
    "duration": 10,
    "start_time": "2022-12-01T08:13:45.423Z"
   },
   {
    "duration": 11,
    "start_time": "2022-12-01T08:13:45.435Z"
   },
   {
    "duration": 16,
    "start_time": "2022-12-01T08:13:45.447Z"
   },
   {
    "duration": 9,
    "start_time": "2022-12-01T08:13:45.465Z"
   },
   {
    "duration": 46,
    "start_time": "2022-12-01T08:13:45.476Z"
   },
   {
    "duration": 54,
    "start_time": "2022-12-01T08:13:45.524Z"
   },
   {
    "duration": 3,
    "start_time": "2022-12-01T08:13:45.580Z"
   },
   {
    "duration": 43,
    "start_time": "2022-12-01T08:13:45.585Z"
   },
   {
    "duration": 94,
    "start_time": "2022-12-01T08:13:45.629Z"
   },
   {
    "duration": 114,
    "start_time": "2022-12-01T08:13:45.724Z"
   },
   {
    "duration": 182,
    "start_time": "2022-12-01T08:13:45.840Z"
   },
   {
    "duration": 11,
    "start_time": "2022-12-01T08:13:46.024Z"
   },
   {
    "duration": 9,
    "start_time": "2022-12-01T08:13:46.037Z"
   },
   {
    "duration": 7,
    "start_time": "2022-12-01T08:13:46.047Z"
   },
   {
    "duration": 18,
    "start_time": "2022-12-01T08:13:46.055Z"
   },
   {
    "duration": 26,
    "start_time": "2022-12-01T08:13:46.074Z"
   },
   {
    "duration": 8,
    "start_time": "2022-12-01T08:13:46.101Z"
   },
   {
    "duration": 20,
    "start_time": "2022-12-01T08:13:46.111Z"
   },
   {
    "duration": 29,
    "start_time": "2022-12-01T08:13:46.133Z"
   },
   {
    "duration": 2,
    "start_time": "2022-12-01T08:13:46.164Z"
   },
   {
    "duration": 14,
    "start_time": "2022-12-01T08:13:46.167Z"
   },
   {
    "duration": 9,
    "start_time": "2022-12-01T08:13:46.183Z"
   },
   {
    "duration": 9,
    "start_time": "2022-12-01T08:13:46.221Z"
   },
   {
    "duration": 199,
    "start_time": "2022-12-01T08:13:46.231Z"
   },
   {
    "duration": 6,
    "start_time": "2022-12-01T08:13:46.431Z"
   },
   {
    "duration": 14,
    "start_time": "2022-12-01T08:13:46.438Z"
   },
   {
    "duration": 7,
    "start_time": "2022-12-01T08:13:46.453Z"
   },
   {
    "duration": 72,
    "start_time": "2022-12-01T08:13:46.462Z"
   },
   {
    "duration": 186,
    "start_time": "2022-12-01T08:13:46.535Z"
   },
   {
    "duration": 19,
    "start_time": "2022-12-01T08:13:46.723Z"
   },
   {
    "duration": 19,
    "start_time": "2022-12-01T08:13:46.743Z"
   },
   {
    "duration": 11,
    "start_time": "2022-12-01T08:13:46.763Z"
   },
   {
    "duration": 10,
    "start_time": "2022-12-01T08:13:46.775Z"
   },
   {
    "duration": 12,
    "start_time": "2022-12-01T08:13:46.786Z"
   },
   {
    "duration": 17,
    "start_time": "2022-12-01T08:13:46.800Z"
   },
   {
    "duration": 2032,
    "start_time": "2022-12-01T08:13:46.818Z"
   },
   {
    "duration": 13,
    "start_time": "2022-12-01T08:13:48.856Z"
   },
   {
    "duration": 16002,
    "start_time": "2022-12-01T08:13:48.870Z"
   },
   {
    "duration": 2,
    "start_time": "2022-12-01T08:14:04.874Z"
   },
   {
    "duration": 17,
    "start_time": "2022-12-01T08:14:04.878Z"
   },
   {
    "duration": 9,
    "start_time": "2022-12-01T08:14:04.897Z"
   },
   {
    "duration": 7,
    "start_time": "2022-12-01T08:14:04.907Z"
   },
   {
    "duration": 7,
    "start_time": "2022-12-01T08:14:04.915Z"
   },
   {
    "duration": 11,
    "start_time": "2022-12-01T08:14:04.924Z"
   },
   {
    "duration": 7,
    "start_time": "2022-12-01T08:14:04.937Z"
   },
   {
    "duration": 11,
    "start_time": "2022-12-01T08:14:04.946Z"
   },
   {
    "duration": 7,
    "start_time": "2022-12-01T08:14:04.959Z"
   },
   {
    "duration": 6,
    "start_time": "2022-12-01T08:14:04.967Z"
   },
   {
    "duration": 9,
    "start_time": "2022-12-01T08:14:04.975Z"
   },
   {
    "duration": 16,
    "start_time": "2022-12-01T08:14:04.986Z"
   },
   {
    "duration": 17,
    "start_time": "2022-12-01T08:14:05.004Z"
   },
   {
    "duration": 1560,
    "start_time": "2022-12-01T08:14:05.023Z"
   },
   {
    "duration": 6,
    "start_time": "2022-12-01T08:14:06.585Z"
   },
   {
    "duration": 14,
    "start_time": "2022-12-01T08:14:06.592Z"
   },
   {
    "duration": 8,
    "start_time": "2022-12-01T08:14:06.608Z"
   },
   {
    "duration": 31,
    "start_time": "2022-12-01T08:14:06.621Z"
   },
   {
    "duration": 1535,
    "start_time": "2022-12-01T08:14:06.654Z"
   },
   {
    "duration": 6,
    "start_time": "2022-12-01T08:14:08.190Z"
   },
   {
    "duration": 36,
    "start_time": "2022-12-01T08:14:08.197Z"
   },
   {
    "duration": 12,
    "start_time": "2022-12-01T08:14:08.234Z"
   },
   {
    "duration": 27,
    "start_time": "2022-12-01T08:14:08.247Z"
   },
   {
    "duration": 1510,
    "start_time": "2022-12-01T08:14:08.276Z"
   },
   {
    "duration": 5,
    "start_time": "2022-12-01T08:14:09.788Z"
   },
   {
    "duration": 15,
    "start_time": "2022-12-01T08:14:09.794Z"
   },
   {
    "duration": 12,
    "start_time": "2022-12-01T08:14:09.810Z"
   },
   {
    "duration": 6,
    "start_time": "2022-12-01T08:14:09.823Z"
   },
   {
    "duration": 1267,
    "start_time": "2022-12-01T08:19:54.603Z"
   },
   {
    "duration": 357,
    "start_time": "2022-12-01T08:19:55.872Z"
   },
   {
    "duration": 15,
    "start_time": "2022-12-01T08:19:56.231Z"
   },
   {
    "duration": 668,
    "start_time": "2022-12-01T08:19:56.248Z"
   },
   {
    "duration": 127,
    "start_time": "2022-12-01T08:19:56.918Z"
   },
   {
    "duration": 35,
    "start_time": "2022-12-01T08:19:57.046Z"
   },
   {
    "duration": 13,
    "start_time": "2022-12-01T08:19:57.083Z"
   },
   {
    "duration": 31,
    "start_time": "2022-12-01T08:19:57.097Z"
   },
   {
    "duration": 31,
    "start_time": "2022-12-01T08:19:57.130Z"
   },
   {
    "duration": 21,
    "start_time": "2022-12-01T08:19:57.163Z"
   },
   {
    "duration": 51,
    "start_time": "2022-12-01T08:19:57.185Z"
   },
   {
    "duration": 66,
    "start_time": "2022-12-01T08:19:57.238Z"
   },
   {
    "duration": 711,
    "start_time": "2022-12-01T08:19:57.305Z"
   },
   {
    "duration": 33,
    "start_time": "2022-12-01T08:19:58.020Z"
   },
   {
    "duration": 13,
    "start_time": "2022-12-01T08:19:58.054Z"
   },
   {
    "duration": 33,
    "start_time": "2022-12-01T08:19:58.068Z"
   },
   {
    "duration": 31,
    "start_time": "2022-12-01T08:19:58.103Z"
   },
   {
    "duration": 36,
    "start_time": "2022-12-01T08:19:58.135Z"
   },
   {
    "duration": 11,
    "start_time": "2022-12-01T08:19:58.173Z"
   },
   {
    "duration": 21,
    "start_time": "2022-12-01T08:19:58.185Z"
   },
   {
    "duration": 665,
    "start_time": "2022-12-01T08:19:58.208Z"
   },
   {
    "duration": 32,
    "start_time": "2022-12-01T08:19:58.875Z"
   },
   {
    "duration": 18,
    "start_time": "2022-12-01T08:19:58.909Z"
   },
   {
    "duration": 36,
    "start_time": "2022-12-01T08:19:58.929Z"
   },
   {
    "duration": 21,
    "start_time": "2022-12-01T08:19:58.966Z"
   },
   {
    "duration": 26,
    "start_time": "2022-12-01T08:19:58.988Z"
   },
   {
    "duration": 6,
    "start_time": "2022-12-01T08:19:59.015Z"
   },
   {
    "duration": 25,
    "start_time": "2022-12-01T08:19:59.023Z"
   },
   {
    "duration": 11,
    "start_time": "2022-12-01T08:19:59.050Z"
   },
   {
    "duration": 13,
    "start_time": "2022-12-01T08:19:59.062Z"
   },
   {
    "duration": 26,
    "start_time": "2022-12-01T08:19:59.076Z"
   },
   {
    "duration": 34,
    "start_time": "2022-12-01T08:19:59.103Z"
   },
   {
    "duration": 72,
    "start_time": "2022-12-01T08:19:59.138Z"
   },
   {
    "duration": 471,
    "start_time": "2022-12-01T08:19:59.212Z"
   },
   {
    "duration": 3,
    "start_time": "2022-12-01T08:19:59.684Z"
   },
   {
    "duration": 10,
    "start_time": "2022-12-01T08:19:59.688Z"
   },
   {
    "duration": 2924,
    "start_time": "2022-12-01T08:19:59.699Z"
   },
   {
    "duration": 9,
    "start_time": "2022-12-01T08:20:02.626Z"
   },
   {
    "duration": 186,
    "start_time": "2022-12-01T08:20:02.636Z"
   },
   {
    "duration": 7,
    "start_time": "2022-12-01T08:20:02.826Z"
   },
   {
    "duration": 10,
    "start_time": "2022-12-01T08:20:02.920Z"
   },
   {
    "duration": 5,
    "start_time": "2022-12-01T08:20:02.932Z"
   },
   {
    "duration": 7,
    "start_time": "2022-12-01T08:20:02.939Z"
   },
   {
    "duration": 29,
    "start_time": "2022-12-01T08:20:02.948Z"
   },
   {
    "duration": 7,
    "start_time": "2022-12-01T08:20:02.979Z"
   },
   {
    "duration": 14,
    "start_time": "2022-12-01T08:20:02.988Z"
   },
   {
    "duration": 19,
    "start_time": "2022-12-01T08:20:03.003Z"
   },
   {
    "duration": 28,
    "start_time": "2022-12-01T08:20:03.023Z"
   },
   {
    "duration": 15,
    "start_time": "2022-12-01T08:20:03.053Z"
   },
   {
    "duration": 21,
    "start_time": "2022-12-01T08:20:03.069Z"
   },
   {
    "duration": 26,
    "start_time": "2022-12-01T08:20:03.092Z"
   },
   {
    "duration": 2,
    "start_time": "2022-12-01T08:20:03.120Z"
   },
   {
    "duration": 24,
    "start_time": "2022-12-01T08:20:03.124Z"
   },
   {
    "duration": 10,
    "start_time": "2022-12-01T08:20:03.150Z"
   },
   {
    "duration": 111,
    "start_time": "2022-12-01T08:20:03.223Z"
   },
   {
    "duration": 198,
    "start_time": "2022-12-01T08:20:03.336Z"
   },
   {
    "duration": 17,
    "start_time": "2022-12-01T08:20:03.536Z"
   },
   {
    "duration": 18,
    "start_time": "2022-12-01T08:20:03.555Z"
   },
   {
    "duration": 8,
    "start_time": "2022-12-01T08:20:03.575Z"
   },
   {
    "duration": 38,
    "start_time": "2022-12-01T08:20:03.584Z"
   },
   {
    "duration": 43,
    "start_time": "2022-12-01T08:20:03.623Z"
   },
   {
    "duration": 14,
    "start_time": "2022-12-01T08:20:03.667Z"
   },
   {
    "duration": 24,
    "start_time": "2022-12-01T08:20:03.682Z"
   },
   {
    "duration": 36,
    "start_time": "2022-12-01T08:20:03.707Z"
   },
   {
    "duration": 3,
    "start_time": "2022-12-01T08:20:03.745Z"
   },
   {
    "duration": 25,
    "start_time": "2022-12-01T08:20:03.749Z"
   },
   {
    "duration": 10,
    "start_time": "2022-12-01T08:20:03.775Z"
   },
   {
    "duration": 142,
    "start_time": "2022-12-01T08:20:03.787Z"
   },
   {
    "duration": 94,
    "start_time": "2022-12-01T08:20:03.932Z"
   },
   {
    "duration": 93,
    "start_time": "2022-12-01T08:20:04.028Z"
   },
   {
    "duration": 11,
    "start_time": "2022-12-01T08:20:04.123Z"
   },
   {
    "duration": 10,
    "start_time": "2022-12-01T08:20:04.135Z"
   },
   {
    "duration": 79,
    "start_time": "2022-12-01T08:20:04.147Z"
   },
   {
    "duration": 94,
    "start_time": "2022-12-01T08:20:04.228Z"
   },
   {
    "duration": 108,
    "start_time": "2022-12-01T08:20:04.327Z"
   },
   {
    "duration": 25,
    "start_time": "2022-12-01T08:20:04.436Z"
   },
   {
    "duration": 18,
    "start_time": "2022-12-01T08:20:04.462Z"
   },
   {
    "duration": 21,
    "start_time": "2022-12-01T08:20:04.481Z"
   },
   {
    "duration": 20,
    "start_time": "2022-12-01T08:20:04.503Z"
   },
   {
    "duration": 12,
    "start_time": "2022-12-01T08:20:04.525Z"
   },
   {
    "duration": 2826,
    "start_time": "2022-12-01T08:20:04.538Z"
   },
   {
    "duration": 12,
    "start_time": "2022-12-01T08:20:07.367Z"
   },
   {
    "duration": 16349,
    "start_time": "2022-12-01T08:20:07.380Z"
   },
   {
    "duration": 2,
    "start_time": "2022-12-01T08:20:23.731Z"
   },
   {
    "duration": 16,
    "start_time": "2022-12-01T08:20:23.735Z"
   },
   {
    "duration": 19,
    "start_time": "2022-12-01T08:20:23.752Z"
   },
   {
    "duration": 11,
    "start_time": "2022-12-01T08:20:23.772Z"
   },
   {
    "duration": 17,
    "start_time": "2022-12-01T08:20:23.784Z"
   },
   {
    "duration": 7,
    "start_time": "2022-12-01T08:20:23.803Z"
   },
   {
    "duration": 14,
    "start_time": "2022-12-01T08:20:23.812Z"
   },
   {
    "duration": 13,
    "start_time": "2022-12-01T08:20:23.828Z"
   },
   {
    "duration": 7,
    "start_time": "2022-12-01T08:20:23.842Z"
   },
   {
    "duration": 16,
    "start_time": "2022-12-01T08:20:23.850Z"
   },
   {
    "duration": 18,
    "start_time": "2022-12-01T08:20:23.868Z"
   },
   {
    "duration": 12,
    "start_time": "2022-12-01T08:20:23.888Z"
   },
   {
    "duration": 9,
    "start_time": "2022-12-01T08:20:23.901Z"
   },
   {
    "duration": 1252,
    "start_time": "2022-12-01T08:20:23.911Z"
   },
   {
    "duration": 6,
    "start_time": "2022-12-01T08:20:25.164Z"
   },
   {
    "duration": 20,
    "start_time": "2022-12-01T08:20:25.171Z"
   },
   {
    "duration": 20,
    "start_time": "2022-12-01T08:20:25.192Z"
   },
   {
    "duration": 14,
    "start_time": "2022-12-01T08:20:25.213Z"
   },
   {
    "duration": 1295,
    "start_time": "2022-12-01T08:20:25.229Z"
   },
   {
    "duration": 5,
    "start_time": "2022-12-01T08:20:26.526Z"
   },
   {
    "duration": 31,
    "start_time": "2022-12-01T08:20:26.532Z"
   },
   {
    "duration": 15,
    "start_time": "2022-12-01T08:20:26.565Z"
   },
   {
    "duration": 24,
    "start_time": "2022-12-01T08:20:26.581Z"
   },
   {
    "duration": 1208,
    "start_time": "2022-12-01T08:20:26.607Z"
   },
   {
    "duration": 17,
    "start_time": "2022-12-01T08:20:27.817Z"
   },
   {
    "duration": 12,
    "start_time": "2022-12-01T08:20:27.836Z"
   },
   {
    "duration": 17,
    "start_time": "2022-12-01T08:20:27.849Z"
   },
   {
    "duration": 18,
    "start_time": "2022-12-01T08:20:27.868Z"
   },
   {
    "duration": 1218,
    "start_time": "2022-12-01T08:21:36.362Z"
   },
   {
    "duration": 348,
    "start_time": "2022-12-01T08:21:37.582Z"
   },
   {
    "duration": 14,
    "start_time": "2022-12-01T08:21:37.932Z"
   },
   {
    "duration": 675,
    "start_time": "2022-12-01T08:21:37.948Z"
   },
   {
    "duration": 122,
    "start_time": "2022-12-01T08:21:38.626Z"
   },
   {
    "duration": 34,
    "start_time": "2022-12-01T08:21:38.749Z"
   },
   {
    "duration": 11,
    "start_time": "2022-12-01T08:21:38.785Z"
   },
   {
    "duration": 35,
    "start_time": "2022-12-01T08:21:38.798Z"
   },
   {
    "duration": 26,
    "start_time": "2022-12-01T08:21:38.835Z"
   },
   {
    "duration": 22,
    "start_time": "2022-12-01T08:21:38.863Z"
   },
   {
    "duration": 13,
    "start_time": "2022-12-01T08:21:38.886Z"
   },
   {
    "duration": 40,
    "start_time": "2022-12-01T08:21:38.900Z"
   },
   {
    "duration": 636,
    "start_time": "2022-12-01T08:21:38.942Z"
   },
   {
    "duration": 41,
    "start_time": "2022-12-01T08:21:39.581Z"
   },
   {
    "duration": 16,
    "start_time": "2022-12-01T08:21:39.623Z"
   },
   {
    "duration": 41,
    "start_time": "2022-12-01T08:21:39.640Z"
   },
   {
    "duration": 55,
    "start_time": "2022-12-01T08:21:39.683Z"
   },
   {
    "duration": 48,
    "start_time": "2022-12-01T08:21:39.740Z"
   },
   {
    "duration": 22,
    "start_time": "2022-12-01T08:21:39.790Z"
   },
   {
    "duration": 64,
    "start_time": "2022-12-01T08:21:39.814Z"
   },
   {
    "duration": 677,
    "start_time": "2022-12-01T08:21:39.879Z"
   },
   {
    "duration": 37,
    "start_time": "2022-12-01T08:21:40.558Z"
   },
   {
    "duration": 28,
    "start_time": "2022-12-01T08:21:40.596Z"
   },
   {
    "duration": 21,
    "start_time": "2022-12-01T08:21:40.625Z"
   },
   {
    "duration": 41,
    "start_time": "2022-12-01T08:21:40.647Z"
   },
   {
    "duration": 14,
    "start_time": "2022-12-01T08:21:40.689Z"
   },
   {
    "duration": 22,
    "start_time": "2022-12-01T08:21:40.704Z"
   },
   {
    "duration": 42,
    "start_time": "2022-12-01T08:21:40.728Z"
   },
   {
    "duration": 15,
    "start_time": "2022-12-01T08:21:40.772Z"
   },
   {
    "duration": 18,
    "start_time": "2022-12-01T08:21:40.789Z"
   },
   {
    "duration": 28,
    "start_time": "2022-12-01T08:21:40.809Z"
   },
   {
    "duration": 42,
    "start_time": "2022-12-01T08:21:40.838Z"
   },
   {
    "duration": 83,
    "start_time": "2022-12-01T08:21:40.882Z"
   },
   {
    "duration": 481,
    "start_time": "2022-12-01T08:21:40.967Z"
   },
   {
    "duration": 3,
    "start_time": "2022-12-01T08:21:41.449Z"
   },
   {
    "duration": 28,
    "start_time": "2022-12-01T08:21:41.453Z"
   },
   {
    "duration": 3145,
    "start_time": "2022-12-01T08:21:41.483Z"
   },
   {
    "duration": 8,
    "start_time": "2022-12-01T08:21:44.720Z"
   },
   {
    "duration": 194,
    "start_time": "2022-12-01T08:21:44.730Z"
   },
   {
    "duration": 195,
    "start_time": "2022-12-01T08:21:44.927Z"
   },
   {
    "duration": 11,
    "start_time": "2022-12-01T08:21:45.128Z"
   },
   {
    "duration": 7,
    "start_time": "2022-12-01T08:21:45.140Z"
   },
   {
    "duration": 10,
    "start_time": "2022-12-01T08:21:45.148Z"
   },
   {
    "duration": 14,
    "start_time": "2022-12-01T08:21:45.159Z"
   },
   {
    "duration": 19,
    "start_time": "2022-12-01T08:21:45.175Z"
   },
   {
    "duration": 4,
    "start_time": "2022-12-01T08:21:45.222Z"
   },
   {
    "duration": 23,
    "start_time": "2022-12-01T08:21:45.227Z"
   },
   {
    "duration": 21,
    "start_time": "2022-12-01T08:21:45.252Z"
   },
   {
    "duration": 6,
    "start_time": "2022-12-01T08:21:45.274Z"
   },
   {
    "duration": 42,
    "start_time": "2022-12-01T08:21:45.281Z"
   },
   {
    "duration": 28,
    "start_time": "2022-12-01T08:21:45.325Z"
   },
   {
    "duration": 173,
    "start_time": "2022-12-01T08:21:45.355Z"
   },
   {
    "duration": 3,
    "start_time": "2022-12-01T08:21:45.529Z"
   },
   {
    "duration": 28,
    "start_time": "2022-12-01T08:21:45.533Z"
   },
   {
    "duration": 65,
    "start_time": "2022-12-01T08:21:45.562Z"
   },
   {
    "duration": 194,
    "start_time": "2022-12-01T08:21:45.629Z"
   },
   {
    "duration": 109,
    "start_time": "2022-12-01T08:21:45.825Z"
   },
   {
    "duration": 18,
    "start_time": "2022-12-01T08:21:45.935Z"
   },
   {
    "duration": 67,
    "start_time": "2022-12-01T08:21:45.955Z"
   },
   {
    "duration": 17,
    "start_time": "2022-12-01T08:21:46.024Z"
   },
   {
    "duration": 12,
    "start_time": "2022-12-01T08:21:46.043Z"
   },
   {
    "duration": 30,
    "start_time": "2022-12-01T08:21:46.057Z"
   },
   {
    "duration": 37,
    "start_time": "2022-12-01T08:21:46.089Z"
   },
   {
    "duration": 15,
    "start_time": "2022-12-01T08:21:46.127Z"
   },
   {
    "duration": 78,
    "start_time": "2022-12-01T08:21:46.144Z"
   },
   {
    "duration": 131,
    "start_time": "2022-12-01T08:21:46.224Z"
   },
   {
    "duration": 3,
    "start_time": "2022-12-01T08:21:46.357Z"
   },
   {
    "duration": 68,
    "start_time": "2022-12-01T08:21:46.362Z"
   },
   {
    "duration": 13,
    "start_time": "2022-12-01T08:21:46.431Z"
   },
   {
    "duration": 100,
    "start_time": "2022-12-01T08:21:46.522Z"
   },
   {
    "duration": 98,
    "start_time": "2022-12-01T08:21:46.624Z"
   },
   {
    "duration": 10,
    "start_time": "2022-12-01T08:21:46.725Z"
   },
   {
    "duration": 20,
    "start_time": "2022-12-01T08:21:46.736Z"
   },
   {
    "duration": 68,
    "start_time": "2022-12-01T08:21:46.758Z"
   },
   {
    "duration": 97,
    "start_time": "2022-12-01T08:21:46.828Z"
   },
   {
    "duration": 91,
    "start_time": "2022-12-01T08:21:46.932Z"
   },
   {
    "duration": 114,
    "start_time": "2022-12-01T08:21:47.026Z"
   },
   {
    "duration": 13,
    "start_time": "2022-12-01T08:21:47.141Z"
   },
   {
    "duration": 13,
    "start_time": "2022-12-01T08:21:47.155Z"
   },
   {
    "duration": 23,
    "start_time": "2022-12-01T08:21:47.169Z"
   },
   {
    "duration": 27,
    "start_time": "2022-12-01T08:21:47.194Z"
   },
   {
    "duration": 7,
    "start_time": "2022-12-01T08:21:47.222Z"
   },
   {
    "duration": 2005,
    "start_time": "2022-12-01T08:21:47.231Z"
   },
   {
    "duration": 14,
    "start_time": "2022-12-01T08:21:49.238Z"
   },
   {
    "duration": 16095,
    "start_time": "2022-12-01T08:21:49.254Z"
   },
   {
    "duration": 3,
    "start_time": "2022-12-01T08:22:05.351Z"
   },
   {
    "duration": 9,
    "start_time": "2022-12-01T08:22:05.356Z"
   },
   {
    "duration": 24,
    "start_time": "2022-12-01T08:22:05.367Z"
   },
   {
    "duration": 17,
    "start_time": "2022-12-01T08:22:05.393Z"
   },
   {
    "duration": 15,
    "start_time": "2022-12-01T08:22:05.412Z"
   },
   {
    "duration": 20,
    "start_time": "2022-12-01T08:22:05.428Z"
   },
   {
    "duration": 21,
    "start_time": "2022-12-01T08:22:05.449Z"
   },
   {
    "duration": 9,
    "start_time": "2022-12-01T08:22:05.471Z"
   },
   {
    "duration": 20,
    "start_time": "2022-12-01T08:22:05.482Z"
   },
   {
    "duration": 16,
    "start_time": "2022-12-01T08:22:05.503Z"
   },
   {
    "duration": 11,
    "start_time": "2022-12-01T08:22:05.521Z"
   },
   {
    "duration": 21,
    "start_time": "2022-12-01T08:22:05.534Z"
   },
   {
    "duration": 24,
    "start_time": "2022-12-01T08:22:05.557Z"
   },
   {
    "duration": 1270,
    "start_time": "2022-12-01T08:22:05.583Z"
   },
   {
    "duration": 5,
    "start_time": "2022-12-01T08:22:06.855Z"
   },
   {
    "duration": 18,
    "start_time": "2022-12-01T08:22:06.862Z"
   },
   {
    "duration": 9,
    "start_time": "2022-12-01T08:22:06.881Z"
   },
   {
    "duration": 11,
    "start_time": "2022-12-01T08:22:06.891Z"
   },
   {
    "duration": 1236,
    "start_time": "2022-12-01T08:22:06.903Z"
   },
   {
    "duration": 5,
    "start_time": "2022-12-01T08:22:08.140Z"
   },
   {
    "duration": 16,
    "start_time": "2022-12-01T08:22:08.146Z"
   },
   {
    "duration": 20,
    "start_time": "2022-12-01T08:22:08.164Z"
   },
   {
    "duration": 20,
    "start_time": "2022-12-01T08:22:08.185Z"
   },
   {
    "duration": 1204,
    "start_time": "2022-12-01T08:22:08.207Z"
   },
   {
    "duration": 5,
    "start_time": "2022-12-01T08:22:09.413Z"
   },
   {
    "duration": 7,
    "start_time": "2022-12-01T08:22:09.421Z"
   },
   {
    "duration": 10,
    "start_time": "2022-12-01T08:22:09.429Z"
   },
   {
    "duration": 8,
    "start_time": "2022-12-01T08:22:09.440Z"
   },
   {
    "duration": 135,
    "start_time": "2022-12-01T08:23:41.478Z"
   },
   {
    "duration": 166,
    "start_time": "2022-12-01T08:23:46.674Z"
   },
   {
    "duration": 174,
    "start_time": "2022-12-01T08:23:54.023Z"
   },
   {
    "duration": 389,
    "start_time": "2022-12-01T08:24:04.007Z"
   },
   {
    "duration": 797,
    "start_time": "2022-12-01T08:25:36.918Z"
   },
   {
    "duration": 478,
    "start_time": "2022-12-01T08:25:53.484Z"
   },
   {
    "duration": 7,
    "start_time": "2022-12-01T08:43:25.700Z"
   },
   {
    "duration": 379,
    "start_time": "2022-12-01T08:43:25.709Z"
   },
   {
    "duration": 14,
    "start_time": "2022-12-01T08:43:26.089Z"
   },
   {
    "duration": 753,
    "start_time": "2022-12-01T08:43:26.104Z"
   },
   {
    "duration": 33,
    "start_time": "2022-12-01T08:43:26.859Z"
   },
   {
    "duration": 28,
    "start_time": "2022-12-01T08:43:26.893Z"
   },
   {
    "duration": 16,
    "start_time": "2022-12-01T08:43:26.922Z"
   },
   {
    "duration": 40,
    "start_time": "2022-12-01T08:43:26.939Z"
   },
   {
    "duration": 16,
    "start_time": "2022-12-01T08:43:26.980Z"
   },
   {
    "duration": 7,
    "start_time": "2022-12-01T08:43:26.997Z"
   },
   {
    "duration": 15,
    "start_time": "2022-12-01T08:43:27.006Z"
   },
   {
    "duration": 603,
    "start_time": "2022-12-01T08:43:27.022Z"
   },
   {
    "duration": 33,
    "start_time": "2022-12-01T08:43:27.627Z"
   },
   {
    "duration": 13,
    "start_time": "2022-12-01T08:43:27.662Z"
   },
   {
    "duration": 17,
    "start_time": "2022-12-01T08:43:27.677Z"
   },
   {
    "duration": 43,
    "start_time": "2022-12-01T08:43:27.696Z"
   },
   {
    "duration": 14,
    "start_time": "2022-12-01T08:43:27.748Z"
   },
   {
    "duration": 6,
    "start_time": "2022-12-01T08:43:27.764Z"
   },
   {
    "duration": 18,
    "start_time": "2022-12-01T08:43:27.771Z"
   },
   {
    "duration": 796,
    "start_time": "2022-12-01T08:43:27.790Z"
   },
   {
    "duration": 40,
    "start_time": "2022-12-01T08:43:28.588Z"
   },
   {
    "duration": 15,
    "start_time": "2022-12-01T08:43:28.630Z"
   },
   {
    "duration": 15,
    "start_time": "2022-12-01T08:43:28.647Z"
   },
   {
    "duration": 16,
    "start_time": "2022-12-01T08:43:28.663Z"
   },
   {
    "duration": 14,
    "start_time": "2022-12-01T08:43:28.680Z"
   },
   {
    "duration": 7,
    "start_time": "2022-12-01T08:43:28.721Z"
   },
   {
    "duration": 18,
    "start_time": "2022-12-01T08:43:28.730Z"
   },
   {
    "duration": 5,
    "start_time": "2022-12-01T08:43:28.750Z"
   },
   {
    "duration": 8,
    "start_time": "2022-12-01T08:43:28.756Z"
   },
   {
    "duration": 5,
    "start_time": "2022-12-01T08:43:28.766Z"
   },
   {
    "duration": 30,
    "start_time": "2022-12-01T08:43:28.773Z"
   },
   {
    "duration": 80,
    "start_time": "2022-12-01T08:43:28.805Z"
   },
   {
    "duration": 380,
    "start_time": "2022-12-01T08:43:28.886Z"
   },
   {
    "duration": 2,
    "start_time": "2022-12-01T08:43:29.268Z"
   },
   {
    "duration": 15,
    "start_time": "2022-12-01T08:43:29.272Z"
   },
   {
    "duration": 133,
    "start_time": "2022-12-01T08:43:29.288Z"
   },
   {
    "duration": 5,
    "start_time": "2022-12-01T08:43:29.423Z"
   },
   {
    "duration": 94,
    "start_time": "2022-12-01T08:43:29.429Z"
   },
   {
    "duration": 96,
    "start_time": "2022-12-01T08:43:29.526Z"
   },
   {
    "duration": 6,
    "start_time": "2022-12-01T08:43:29.624Z"
   },
   {
    "duration": 16,
    "start_time": "2022-12-01T08:43:29.631Z"
   },
   {
    "duration": 10,
    "start_time": "2022-12-01T08:43:29.648Z"
   },
   {
    "duration": 14,
    "start_time": "2022-12-01T08:43:29.660Z"
   },
   {
    "duration": 6,
    "start_time": "2022-12-01T08:43:29.675Z"
   },
   {
    "duration": 5,
    "start_time": "2022-12-01T08:43:29.682Z"
   },
   {
    "duration": 13,
    "start_time": "2022-12-01T08:43:29.688Z"
   },
   {
    "duration": 7,
    "start_time": "2022-12-01T08:43:29.702Z"
   },
   {
    "duration": 7,
    "start_time": "2022-12-01T08:43:29.711Z"
   },
   {
    "duration": 31,
    "start_time": "2022-12-01T08:43:29.719Z"
   },
   {
    "duration": 70,
    "start_time": "2022-12-01T08:43:29.751Z"
   },
   {
    "duration": 2,
    "start_time": "2022-12-01T08:43:29.822Z"
   },
   {
    "duration": 27,
    "start_time": "2022-12-01T08:43:29.826Z"
   },
   {
    "duration": 69,
    "start_time": "2022-12-01T08:43:29.854Z"
   },
   {
    "duration": 108,
    "start_time": "2022-12-01T08:43:29.924Z"
   },
   {
    "duration": 96,
    "start_time": "2022-12-01T08:43:30.034Z"
   },
   {
    "duration": 93,
    "start_time": "2022-12-01T08:43:30.132Z"
   },
   {
    "duration": 19,
    "start_time": "2022-12-01T08:43:30.227Z"
   },
   {
    "duration": 30,
    "start_time": "2022-12-01T08:43:30.247Z"
   },
   {
    "duration": 19,
    "start_time": "2022-12-01T08:43:30.279Z"
   },
   {
    "duration": 64,
    "start_time": "2022-12-01T08:43:30.300Z"
   },
   {
    "duration": 47,
    "start_time": "2022-12-01T08:43:30.365Z"
   },
   {
    "duration": 36,
    "start_time": "2022-12-01T08:43:30.413Z"
   },
   {
    "duration": 75,
    "start_time": "2022-12-01T08:43:30.451Z"
   },
   {
    "duration": 76,
    "start_time": "2022-12-01T08:43:30.528Z"
   },
   {
    "duration": 10,
    "start_time": "2022-12-01T08:43:30.606Z"
   },
   {
    "duration": 43,
    "start_time": "2022-12-01T08:43:30.617Z"
   },
   {
    "duration": 29,
    "start_time": "2022-12-01T08:43:30.662Z"
   },
   {
    "duration": 254,
    "start_time": "2022-12-01T08:43:30.693Z"
   },
   {
    "duration": 77,
    "start_time": "2022-12-01T08:43:30.949Z"
   },
   {
    "duration": 145,
    "start_time": "2022-12-01T08:43:31.028Z"
   },
   {
    "duration": 27,
    "start_time": "2022-12-01T08:43:31.175Z"
   },
   {
    "duration": 148,
    "start_time": "2022-12-01T08:43:31.204Z"
   },
   {
    "duration": 75,
    "start_time": "2022-12-01T08:43:31.356Z"
   },
   {
    "duration": 17,
    "start_time": "2022-12-01T08:43:31.521Z"
   },
   {
    "duration": 10,
    "start_time": "2022-12-01T08:43:31.539Z"
   },
   {
    "duration": 29,
    "start_time": "2022-12-01T08:43:31.551Z"
   },
   {
    "duration": 23,
    "start_time": "2022-12-01T08:43:31.582Z"
   },
   {
    "duration": 102,
    "start_time": "2022-12-01T08:43:31.607Z"
   },
   {
    "duration": 15,
    "start_time": "2022-12-01T08:43:31.711Z"
   },
   {
    "duration": 28,
    "start_time": "2022-12-01T08:43:31.727Z"
   },
   {
    "duration": 18,
    "start_time": "2022-12-01T08:43:31.757Z"
   },
   {
    "duration": 8,
    "start_time": "2022-12-01T08:43:31.777Z"
   },
   {
    "duration": 6,
    "start_time": "2022-12-01T08:43:31.787Z"
   },
   {
    "duration": 16,
    "start_time": "2022-12-01T08:43:31.794Z"
   },
   {
    "duration": 10,
    "start_time": "2022-12-01T08:43:31.811Z"
   },
   {
    "duration": 15,
    "start_time": "2022-12-01T08:43:31.822Z"
   },
   {
    "duration": 10,
    "start_time": "2022-12-01T08:43:31.839Z"
   },
   {
    "duration": 11,
    "start_time": "2022-12-01T08:43:31.851Z"
   },
   {
    "duration": 6,
    "start_time": "2022-12-01T08:43:31.864Z"
   },
   {
    "duration": 5,
    "start_time": "2022-12-01T08:43:31.871Z"
   },
   {
    "duration": 1245,
    "start_time": "2022-12-01T08:43:31.877Z"
   },
   {
    "duration": 5,
    "start_time": "2022-12-01T08:43:33.124Z"
   },
   {
    "duration": 9,
    "start_time": "2022-12-01T08:43:33.130Z"
   },
   {
    "duration": 15,
    "start_time": "2022-12-01T08:43:33.140Z"
   },
   {
    "duration": 8,
    "start_time": "2022-12-01T08:43:33.157Z"
   },
   {
    "duration": 1189,
    "start_time": "2022-12-01T08:43:33.166Z"
   },
   {
    "duration": 5,
    "start_time": "2022-12-01T08:43:34.357Z"
   },
   {
    "duration": 24,
    "start_time": "2022-12-01T08:43:34.363Z"
   },
   {
    "duration": 9,
    "start_time": "2022-12-01T08:43:34.388Z"
   },
   {
    "duration": 8,
    "start_time": "2022-12-01T08:43:34.398Z"
   },
   {
    "duration": 1203,
    "start_time": "2022-12-01T08:43:34.407Z"
   },
   {
    "duration": 9,
    "start_time": "2022-12-01T08:43:35.612Z"
   },
   {
    "duration": 4,
    "start_time": "2022-12-01T08:43:35.623Z"
   },
   {
    "duration": 32,
    "start_time": "2022-12-01T08:43:35.628Z"
   },
   {
    "duration": 17,
    "start_time": "2022-12-01T08:43:35.662Z"
   },
   {
    "duration": 98,
    "start_time": "2022-12-01T08:50:00.117Z"
   },
   {
    "duration": 1274,
    "start_time": "2022-12-01T08:51:42.389Z"
   },
   {
    "duration": 373,
    "start_time": "2022-12-01T08:51:43.664Z"
   },
   {
    "duration": 16,
    "start_time": "2022-12-01T08:51:44.038Z"
   },
   {
    "duration": 692,
    "start_time": "2022-12-01T08:51:44.056Z"
   },
   {
    "duration": 35,
    "start_time": "2022-12-01T08:51:44.750Z"
   },
   {
    "duration": 13,
    "start_time": "2022-12-01T08:51:44.786Z"
   },
   {
    "duration": 34,
    "start_time": "2022-12-01T08:51:44.801Z"
   },
   {
    "duration": 20,
    "start_time": "2022-12-01T08:51:44.836Z"
   },
   {
    "duration": 16,
    "start_time": "2022-12-01T08:51:44.858Z"
   },
   {
    "duration": 12,
    "start_time": "2022-12-01T08:51:44.877Z"
   },
   {
    "duration": 17,
    "start_time": "2022-12-01T08:51:44.891Z"
   },
   {
    "duration": 815,
    "start_time": "2022-12-01T08:51:44.909Z"
   },
   {
    "duration": 32,
    "start_time": "2022-12-01T08:51:45.726Z"
   },
   {
    "duration": 14,
    "start_time": "2022-12-01T08:51:45.759Z"
   },
   {
    "duration": 16,
    "start_time": "2022-12-01T08:51:45.775Z"
   },
   {
    "duration": 37,
    "start_time": "2022-12-01T08:51:45.793Z"
   },
   {
    "duration": 15,
    "start_time": "2022-12-01T08:51:45.832Z"
   },
   {
    "duration": 6,
    "start_time": "2022-12-01T08:51:45.848Z"
   },
   {
    "duration": 17,
    "start_time": "2022-12-01T08:51:45.855Z"
   },
   {
    "duration": 666,
    "start_time": "2022-12-01T08:51:45.873Z"
   },
   {
    "duration": 38,
    "start_time": "2022-12-01T08:51:46.541Z"
   },
   {
    "duration": 14,
    "start_time": "2022-12-01T08:51:46.581Z"
   },
   {
    "duration": 36,
    "start_time": "2022-12-01T08:51:46.597Z"
   },
   {
    "duration": 18,
    "start_time": "2022-12-01T08:51:46.634Z"
   },
   {
    "duration": 16,
    "start_time": "2022-12-01T08:51:46.653Z"
   },
   {
    "duration": 11,
    "start_time": "2022-12-01T08:51:46.670Z"
   },
   {
    "duration": 14,
    "start_time": "2022-12-01T08:51:46.682Z"
   },
   {
    "duration": 6,
    "start_time": "2022-12-01T08:51:46.700Z"
   },
   {
    "duration": 9,
    "start_time": "2022-12-01T08:51:46.721Z"
   },
   {
    "duration": 5,
    "start_time": "2022-12-01T08:51:46.731Z"
   },
   {
    "duration": 37,
    "start_time": "2022-12-01T08:51:46.737Z"
   },
   {
    "duration": 72,
    "start_time": "2022-12-01T08:51:46.776Z"
   },
   {
    "duration": 386,
    "start_time": "2022-12-01T08:51:46.850Z"
   },
   {
    "duration": 2,
    "start_time": "2022-12-01T08:51:47.238Z"
   },
   {
    "duration": 47,
    "start_time": "2022-12-01T08:51:47.242Z"
   },
   {
    "duration": 17,
    "start_time": "2022-12-01T08:51:47.290Z"
   },
   {
    "duration": 208,
    "start_time": "2022-12-01T08:51:47.320Z"
   },
   {
    "duration": 93,
    "start_time": "2022-12-01T08:51:47.530Z"
   },
   {
    "duration": 120,
    "start_time": "2022-12-01T08:51:47.626Z"
   },
   {
    "duration": 13,
    "start_time": "2022-12-01T08:51:47.748Z"
   },
   {
    "duration": 12,
    "start_time": "2022-12-01T08:51:47.762Z"
   },
   {
    "duration": 46,
    "start_time": "2022-12-01T08:51:47.776Z"
   },
   {
    "duration": 17,
    "start_time": "2022-12-01T08:51:47.824Z"
   },
   {
    "duration": 15,
    "start_time": "2022-12-01T08:51:47.843Z"
   },
   {
    "duration": 17,
    "start_time": "2022-12-01T08:51:47.860Z"
   },
   {
    "duration": 47,
    "start_time": "2022-12-01T08:51:47.878Z"
   },
   {
    "duration": 13,
    "start_time": "2022-12-01T08:51:47.927Z"
   },
   {
    "duration": 22,
    "start_time": "2022-12-01T08:51:47.942Z"
   },
   {
    "duration": 75,
    "start_time": "2022-12-01T08:51:47.965Z"
   },
   {
    "duration": 179,
    "start_time": "2022-12-01T08:51:48.042Z"
   },
   {
    "duration": 2,
    "start_time": "2022-12-01T08:51:48.223Z"
   },
   {
    "duration": 28,
    "start_time": "2022-12-01T08:51:48.227Z"
   },
   {
    "duration": 64,
    "start_time": "2022-12-01T08:51:48.257Z"
   },
   {
    "duration": 131,
    "start_time": "2022-12-01T08:51:48.323Z"
   },
   {
    "duration": 165,
    "start_time": "2022-12-01T08:51:48.456Z"
   },
   {
    "duration": 39,
    "start_time": "2022-12-01T08:51:48.623Z"
   },
   {
    "duration": 57,
    "start_time": "2022-12-01T08:51:48.664Z"
   },
   {
    "duration": 23,
    "start_time": "2022-12-01T08:51:48.723Z"
   },
   {
    "duration": 17,
    "start_time": "2022-12-01T08:51:48.748Z"
   },
   {
    "duration": 54,
    "start_time": "2022-12-01T08:51:48.767Z"
   },
   {
    "duration": 7,
    "start_time": "2022-12-01T08:51:48.823Z"
   },
   {
    "duration": 12,
    "start_time": "2022-12-01T08:51:48.832Z"
   },
   {
    "duration": 76,
    "start_time": "2022-12-01T08:51:48.846Z"
   },
   {
    "duration": 130,
    "start_time": "2022-12-01T08:51:48.923Z"
   },
   {
    "duration": 2,
    "start_time": "2022-12-01T08:51:49.055Z"
   },
   {
    "duration": 68,
    "start_time": "2022-12-01T08:51:49.058Z"
   },
   {
    "duration": 194,
    "start_time": "2022-12-01T08:51:49.128Z"
   },
   {
    "duration": 12,
    "start_time": "2022-12-01T08:51:49.324Z"
   },
   {
    "duration": 187,
    "start_time": "2022-12-01T08:51:49.338Z"
   },
   {
    "duration": 10,
    "start_time": "2022-12-01T08:51:49.527Z"
   },
   {
    "duration": 5,
    "start_time": "2022-12-01T08:51:49.538Z"
   },
   {
    "duration": 5,
    "start_time": "2022-12-01T08:51:49.545Z"
   },
   {
    "duration": 8,
    "start_time": "2022-12-01T08:51:49.551Z"
   },
   {
    "duration": 61,
    "start_time": "2022-12-01T08:51:49.560Z"
   },
   {
    "duration": 3,
    "start_time": "2022-12-01T08:51:49.623Z"
   },
   {
    "duration": 5,
    "start_time": "2022-12-01T08:51:49.627Z"
   },
   {
    "duration": 12,
    "start_time": "2022-12-01T08:51:49.633Z"
   },
   {
    "duration": 6,
    "start_time": "2022-12-01T08:51:49.646Z"
   },
   {
    "duration": 4,
    "start_time": "2022-12-01T08:51:49.653Z"
   },
   {
    "duration": 6,
    "start_time": "2022-12-01T08:51:49.659Z"
   },
   {
    "duration": 7,
    "start_time": "2022-12-01T08:51:49.667Z"
   },
   {
    "duration": 4,
    "start_time": "2022-12-01T08:51:49.721Z"
   },
   {
    "duration": 7,
    "start_time": "2022-12-01T08:51:49.726Z"
   },
   {
    "duration": 4,
    "start_time": "2022-12-01T08:51:49.734Z"
   },
   {
    "duration": 4,
    "start_time": "2022-12-01T08:51:49.740Z"
   },
   {
    "duration": 5,
    "start_time": "2022-12-01T08:51:49.746Z"
   },
   {
    "duration": 2041,
    "start_time": "2022-12-01T08:51:49.753Z"
   },
   {
    "duration": 5,
    "start_time": "2022-12-01T08:51:51.796Z"
   },
   {
    "duration": 9,
    "start_time": "2022-12-01T08:51:51.803Z"
   },
   {
    "duration": 5,
    "start_time": "2022-12-01T08:51:51.822Z"
   },
   {
    "duration": 14,
    "start_time": "2022-12-01T08:51:51.829Z"
   },
   {
    "duration": 1229,
    "start_time": "2022-12-01T08:51:51.845Z"
   },
   {
    "duration": 5,
    "start_time": "2022-12-01T08:51:53.076Z"
   },
   {
    "duration": 7,
    "start_time": "2022-12-01T08:51:53.082Z"
   },
   {
    "duration": 6,
    "start_time": "2022-12-01T08:51:53.091Z"
   },
   {
    "duration": 7,
    "start_time": "2022-12-01T08:51:53.098Z"
   },
   {
    "duration": 1235,
    "start_time": "2022-12-01T08:51:53.106Z"
   },
   {
    "duration": 5,
    "start_time": "2022-12-01T08:51:54.343Z"
   },
   {
    "duration": 14,
    "start_time": "2022-12-01T08:51:54.350Z"
   },
   {
    "duration": 13,
    "start_time": "2022-12-01T08:51:54.365Z"
   },
   {
    "duration": 25,
    "start_time": "2022-12-01T08:51:54.380Z"
   },
   {
    "duration": 1386,
    "start_time": "2022-12-01T08:55:19.880Z"
   },
   {
    "duration": 391,
    "start_time": "2022-12-01T08:55:21.269Z"
   },
   {
    "duration": 16,
    "start_time": "2022-12-01T08:55:21.662Z"
   },
   {
    "duration": 750,
    "start_time": "2022-12-01T08:55:21.680Z"
   },
   {
    "duration": 37,
    "start_time": "2022-12-01T08:55:22.432Z"
   },
   {
    "duration": 14,
    "start_time": "2022-12-01T08:55:22.470Z"
   },
   {
    "duration": 38,
    "start_time": "2022-12-01T08:55:22.485Z"
   },
   {
    "duration": 23,
    "start_time": "2022-12-01T08:55:22.524Z"
   },
   {
    "duration": 17,
    "start_time": "2022-12-01T08:55:22.549Z"
   },
   {
    "duration": 6,
    "start_time": "2022-12-01T08:55:22.569Z"
   },
   {
    "duration": 27,
    "start_time": "2022-12-01T08:55:22.576Z"
   },
   {
    "duration": 796,
    "start_time": "2022-12-01T08:55:22.604Z"
   },
   {
    "duration": 57,
    "start_time": "2022-12-01T08:55:23.403Z"
   },
   {
    "duration": 14,
    "start_time": "2022-12-01T08:55:23.462Z"
   },
   {
    "duration": 20,
    "start_time": "2022-12-01T08:55:23.478Z"
   },
   {
    "duration": 44,
    "start_time": "2022-12-01T08:55:23.500Z"
   },
   {
    "duration": 16,
    "start_time": "2022-12-01T08:55:23.546Z"
   },
   {
    "duration": 7,
    "start_time": "2022-12-01T08:55:23.564Z"
   },
   {
    "duration": 19,
    "start_time": "2022-12-01T08:55:23.573Z"
   },
   {
    "duration": 763,
    "start_time": "2022-12-01T08:55:23.594Z"
   },
   {
    "duration": 98,
    "start_time": "2022-12-01T08:55:24.359Z"
   },
   {
    "duration": 75,
    "start_time": "2022-12-01T08:55:24.459Z"
   },
   {
    "duration": 86,
    "start_time": "2022-12-01T08:55:24.536Z"
   },
   {
    "duration": 24,
    "start_time": "2022-12-01T08:55:24.624Z"
   },
   {
    "duration": 72,
    "start_time": "2022-12-01T08:55:24.650Z"
   },
   {
    "duration": 7,
    "start_time": "2022-12-01T08:55:24.725Z"
   },
   {
    "duration": 23,
    "start_time": "2022-12-01T08:55:24.734Z"
   },
   {
    "duration": 7,
    "start_time": "2022-12-01T08:55:24.763Z"
   },
   {
    "duration": 5,
    "start_time": "2022-12-01T08:55:24.821Z"
   },
   {
    "duration": 26,
    "start_time": "2022-12-01T08:55:24.827Z"
   },
   {
    "duration": 78,
    "start_time": "2022-12-01T08:55:24.854Z"
   },
   {
    "duration": 131,
    "start_time": "2022-12-01T08:55:24.934Z"
   },
   {
    "duration": 1165,
    "start_time": "2022-12-01T08:55:25.067Z"
   },
   {
    "duration": 3,
    "start_time": "2022-12-01T08:55:26.234Z"
   },
   {
    "duration": 20,
    "start_time": "2022-12-01T08:55:26.239Z"
   },
   {
    "duration": 63,
    "start_time": "2022-12-01T08:55:26.260Z"
   },
   {
    "duration": 102,
    "start_time": "2022-12-01T08:55:26.325Z"
   },
   {
    "duration": 195,
    "start_time": "2022-12-01T08:55:26.429Z"
   },
   {
    "duration": 10,
    "start_time": "2022-12-01T08:55:26.625Z"
   },
   {
    "duration": 12,
    "start_time": "2022-12-01T08:55:26.636Z"
   },
   {
    "duration": 6,
    "start_time": "2022-12-01T08:55:26.649Z"
   },
   {
    "duration": 8,
    "start_time": "2022-12-01T08:55:26.656Z"
   },
   {
    "duration": 10,
    "start_time": "2022-12-01T08:55:26.665Z"
   },
   {
    "duration": 8,
    "start_time": "2022-12-01T08:55:26.677Z"
   },
   {
    "duration": 6,
    "start_time": "2022-12-01T08:55:26.687Z"
   },
   {
    "duration": 10,
    "start_time": "2022-12-01T08:55:26.694Z"
   },
   {
    "duration": 9,
    "start_time": "2022-12-01T08:55:26.705Z"
   },
   {
    "duration": 8,
    "start_time": "2022-12-01T08:55:26.716Z"
   },
   {
    "duration": 25,
    "start_time": "2022-12-01T08:55:26.725Z"
   },
   {
    "duration": 82,
    "start_time": "2022-12-01T08:55:26.752Z"
   },
   {
    "duration": 2,
    "start_time": "2022-12-01T08:55:26.836Z"
   },
   {
    "duration": 18,
    "start_time": "2022-12-01T08:55:26.840Z"
   },
   {
    "duration": 7,
    "start_time": "2022-12-01T08:55:26.859Z"
   },
   {
    "duration": 104,
    "start_time": "2022-12-01T08:55:26.920Z"
   },
   {
    "duration": 94,
    "start_time": "2022-12-01T08:55:27.027Z"
   },
   {
    "duration": 96,
    "start_time": "2022-12-01T08:55:27.126Z"
   },
   {
    "duration": 4,
    "start_time": "2022-12-01T08:55:27.224Z"
   },
   {
    "duration": 11,
    "start_time": "2022-12-01T08:55:27.229Z"
   },
   {
    "duration": 12,
    "start_time": "2022-12-01T08:55:27.241Z"
   },
   {
    "duration": 21,
    "start_time": "2022-12-01T08:55:27.254Z"
   },
   {
    "duration": 9,
    "start_time": "2022-12-01T08:55:27.277Z"
   },
   {
    "duration": 9,
    "start_time": "2022-12-01T08:55:27.287Z"
   },
   {
    "duration": 28,
    "start_time": "2022-12-01T08:55:27.297Z"
   },
   {
    "duration": 73,
    "start_time": "2022-12-01T08:55:27.327Z"
   },
   {
    "duration": 2,
    "start_time": "2022-12-01T08:55:27.402Z"
   },
   {
    "duration": 26,
    "start_time": "2022-12-01T08:55:27.405Z"
   },
   {
    "duration": 8,
    "start_time": "2022-12-01T08:55:27.432Z"
   },
   {
    "duration": 181,
    "start_time": "2022-12-01T08:55:27.442Z"
   },
   {
    "duration": 197,
    "start_time": "2022-12-01T08:55:27.625Z"
   },
   {
    "duration": 8,
    "start_time": "2022-12-01T08:55:27.824Z"
   },
   {
    "duration": 6,
    "start_time": "2022-12-01T08:55:27.833Z"
   },
   {
    "duration": 4,
    "start_time": "2022-12-01T08:55:27.841Z"
   },
   {
    "duration": 7,
    "start_time": "2022-12-01T08:55:27.846Z"
   },
   {
    "duration": 6,
    "start_time": "2022-12-01T08:55:27.855Z"
   },
   {
    "duration": 21,
    "start_time": "2022-12-01T08:55:27.862Z"
   },
   {
    "duration": 11,
    "start_time": "2022-12-01T08:55:27.884Z"
   },
   {
    "duration": 6,
    "start_time": "2022-12-01T08:55:27.897Z"
   },
   {
    "duration": 9,
    "start_time": "2022-12-01T08:55:27.904Z"
   },
   {
    "duration": 21,
    "start_time": "2022-12-01T08:55:27.915Z"
   },
   {
    "duration": 6,
    "start_time": "2022-12-01T08:55:27.938Z"
   },
   {
    "duration": 6,
    "start_time": "2022-12-01T08:55:27.945Z"
   },
   {
    "duration": 6,
    "start_time": "2022-12-01T08:55:27.956Z"
   },
   {
    "duration": 6,
    "start_time": "2022-12-01T08:55:27.963Z"
   },
   {
    "duration": 11,
    "start_time": "2022-12-01T08:55:27.971Z"
   },
   {
    "duration": 63,
    "start_time": "2022-12-01T08:55:27.983Z"
   },
   {
    "duration": 6,
    "start_time": "2022-12-01T08:55:28.048Z"
   },
   {
    "duration": 1242,
    "start_time": "2022-12-01T08:55:28.055Z"
   },
   {
    "duration": 5,
    "start_time": "2022-12-01T08:55:29.299Z"
   },
   {
    "duration": 16,
    "start_time": "2022-12-01T08:55:29.305Z"
   },
   {
    "duration": 13,
    "start_time": "2022-12-01T08:55:29.323Z"
   },
   {
    "duration": 21,
    "start_time": "2022-12-01T08:55:29.337Z"
   },
   {
    "duration": 1276,
    "start_time": "2022-12-01T08:55:29.359Z"
   },
   {
    "duration": 6,
    "start_time": "2022-12-01T08:55:30.637Z"
   },
   {
    "duration": 36,
    "start_time": "2022-12-01T08:55:30.644Z"
   },
   {
    "duration": 32,
    "start_time": "2022-12-01T08:55:30.681Z"
   },
   {
    "duration": 60,
    "start_time": "2022-12-01T08:55:30.715Z"
   },
   {
    "duration": 1240,
    "start_time": "2022-12-01T08:55:30.776Z"
   },
   {
    "duration": 6,
    "start_time": "2022-12-01T08:55:32.020Z"
   },
   {
    "duration": 17,
    "start_time": "2022-12-01T08:55:32.027Z"
   },
   {
    "duration": 24,
    "start_time": "2022-12-01T08:55:32.045Z"
   },
   {
    "duration": 7,
    "start_time": "2022-12-01T08:55:32.070Z"
   },
   {
    "duration": 4,
    "start_time": "2022-12-01T08:58:31.924Z"
   },
   {
    "duration": 1247,
    "start_time": "2022-12-01T08:58:37.022Z"
   },
   {
    "duration": 356,
    "start_time": "2022-12-01T08:58:38.271Z"
   },
   {
    "duration": 15,
    "start_time": "2022-12-01T08:58:38.628Z"
   },
   {
    "duration": 699,
    "start_time": "2022-12-01T08:58:38.645Z"
   },
   {
    "duration": 35,
    "start_time": "2022-12-01T08:58:39.346Z"
   },
   {
    "duration": 13,
    "start_time": "2022-12-01T08:58:39.382Z"
   },
   {
    "duration": 35,
    "start_time": "2022-12-01T08:58:39.397Z"
   },
   {
    "duration": 23,
    "start_time": "2022-12-01T08:58:39.434Z"
   },
   {
    "duration": 16,
    "start_time": "2022-12-01T08:58:39.458Z"
   },
   {
    "duration": 8,
    "start_time": "2022-12-01T08:58:39.476Z"
   },
   {
    "duration": 22,
    "start_time": "2022-12-01T08:58:39.485Z"
   },
   {
    "duration": 708,
    "start_time": "2022-12-01T08:58:39.508Z"
   },
   {
    "duration": 32,
    "start_time": "2022-12-01T08:58:40.221Z"
   },
   {
    "duration": 13,
    "start_time": "2022-12-01T08:58:40.254Z"
   },
   {
    "duration": 16,
    "start_time": "2022-12-01T08:58:40.268Z"
   },
   {
    "duration": 40,
    "start_time": "2022-12-01T08:58:40.285Z"
   },
   {
    "duration": 17,
    "start_time": "2022-12-01T08:58:40.326Z"
   },
   {
    "duration": 6,
    "start_time": "2022-12-01T08:58:40.345Z"
   },
   {
    "duration": 17,
    "start_time": "2022-12-01T08:58:40.353Z"
   },
   {
    "duration": 708,
    "start_time": "2022-12-01T08:58:40.372Z"
   },
   {
    "duration": 40,
    "start_time": "2022-12-01T08:58:41.082Z"
   },
   {
    "duration": 14,
    "start_time": "2022-12-01T08:58:41.124Z"
   },
   {
    "duration": 18,
    "start_time": "2022-12-01T08:58:41.139Z"
   },
   {
    "duration": 28,
    "start_time": "2022-12-01T08:58:41.159Z"
   },
   {
    "duration": 46,
    "start_time": "2022-12-01T08:58:41.189Z"
   },
   {
    "duration": 18,
    "start_time": "2022-12-01T08:58:41.237Z"
   },
   {
    "duration": 18,
    "start_time": "2022-12-01T08:58:41.257Z"
   },
   {
    "duration": 7,
    "start_time": "2022-12-01T08:58:41.279Z"
   },
   {
    "duration": 6,
    "start_time": "2022-12-01T08:58:41.288Z"
   },
   {
    "duration": 6,
    "start_time": "2022-12-01T08:58:41.296Z"
   },
   {
    "duration": 34,
    "start_time": "2022-12-01T08:58:41.304Z"
   },
   {
    "duration": 101,
    "start_time": "2022-12-01T08:58:41.340Z"
   },
   {
    "duration": 420,
    "start_time": "2022-12-01T08:58:41.443Z"
   },
   {
    "duration": 3,
    "start_time": "2022-12-01T08:58:41.865Z"
   },
   {
    "duration": 17,
    "start_time": "2022-12-01T08:58:41.870Z"
   },
   {
    "duration": 35,
    "start_time": "2022-12-01T08:58:41.889Z"
   },
   {
    "duration": 10,
    "start_time": "2022-12-01T08:58:41.926Z"
   },
   {
    "duration": 100,
    "start_time": "2022-12-01T08:58:42.022Z"
   },
   {
    "duration": 10,
    "start_time": "2022-12-01T08:58:42.125Z"
   },
   {
    "duration": 6,
    "start_time": "2022-12-01T08:58:42.136Z"
   },
   {
    "duration": 5,
    "start_time": "2022-12-01T08:58:42.143Z"
   },
   {
    "duration": 10,
    "start_time": "2022-12-01T08:58:42.149Z"
   },
   {
    "duration": 7,
    "start_time": "2022-12-01T08:58:42.160Z"
   },
   {
    "duration": 6,
    "start_time": "2022-12-01T08:58:42.168Z"
   },
   {
    "duration": 10,
    "start_time": "2022-12-01T08:58:42.176Z"
   },
   {
    "duration": 10,
    "start_time": "2022-12-01T08:58:42.188Z"
   },
   {
    "duration": 7,
    "start_time": "2022-12-01T08:58:42.199Z"
   },
   {
    "duration": 16,
    "start_time": "2022-12-01T08:58:42.207Z"
   },
   {
    "duration": 27,
    "start_time": "2022-12-01T08:58:42.224Z"
   },
   {
    "duration": 81,
    "start_time": "2022-12-01T08:58:42.252Z"
   },
   {
    "duration": 2,
    "start_time": "2022-12-01T08:58:42.335Z"
   },
   {
    "duration": 16,
    "start_time": "2022-12-01T08:58:42.339Z"
   },
   {
    "duration": 68,
    "start_time": "2022-12-01T08:58:42.357Z"
   },
   {
    "duration": 8,
    "start_time": "2022-12-01T08:58:42.427Z"
   },
   {
    "duration": 4,
    "start_time": "2022-12-01T08:58:42.522Z"
   },
   {
    "duration": 96,
    "start_time": "2022-12-01T08:58:42.528Z"
   },
   {
    "duration": 6,
    "start_time": "2022-12-01T08:58:42.626Z"
   },
   {
    "duration": 4,
    "start_time": "2022-12-01T08:58:42.633Z"
   },
   {
    "duration": 9,
    "start_time": "2022-12-01T08:58:42.638Z"
   },
   {
    "duration": 24,
    "start_time": "2022-12-01T08:58:42.649Z"
   },
   {
    "duration": 47,
    "start_time": "2022-12-01T08:58:42.675Z"
   },
   {
    "duration": 8,
    "start_time": "2022-12-01T08:58:42.723Z"
   },
   {
    "duration": 26,
    "start_time": "2022-12-01T08:58:42.733Z"
   },
   {
    "duration": 175,
    "start_time": "2022-12-01T08:58:42.761Z"
   },
   {
    "duration": 3,
    "start_time": "2022-12-01T08:58:42.937Z"
   },
   {
    "duration": 16,
    "start_time": "2022-12-01T08:58:42.941Z"
   },
   {
    "duration": 73,
    "start_time": "2022-12-01T08:58:42.959Z"
   },
   {
    "duration": 95,
    "start_time": "2022-12-01T08:58:43.033Z"
   },
   {
    "duration": 101,
    "start_time": "2022-12-01T08:58:43.131Z"
   },
   {
    "duration": 87,
    "start_time": "2022-12-01T08:58:43.235Z"
   },
   {
    "duration": 8,
    "start_time": "2022-12-01T08:58:43.323Z"
   },
   {
    "duration": 4,
    "start_time": "2022-12-01T08:58:43.333Z"
   },
   {
    "duration": 6,
    "start_time": "2022-12-01T08:58:43.339Z"
   },
   {
    "duration": 3,
    "start_time": "2022-12-01T08:58:43.347Z"
   },
   {
    "duration": 6,
    "start_time": "2022-12-01T08:58:43.351Z"
   },
   {
    "duration": 6,
    "start_time": "2022-12-01T08:58:43.359Z"
   },
   {
    "duration": 54,
    "start_time": "2022-12-01T08:58:43.367Z"
   },
   {
    "duration": 3,
    "start_time": "2022-12-01T08:58:43.423Z"
   },
   {
    "duration": 7,
    "start_time": "2022-12-01T08:58:43.427Z"
   },
   {
    "duration": 7,
    "start_time": "2022-12-01T08:58:43.435Z"
   },
   {
    "duration": 5,
    "start_time": "2022-12-01T08:58:43.443Z"
   },
   {
    "duration": 3,
    "start_time": "2022-12-01T08:58:43.454Z"
   },
   {
    "duration": 7,
    "start_time": "2022-12-01T08:58:43.459Z"
   },
   {
    "duration": 53,
    "start_time": "2022-12-01T08:58:43.468Z"
   },
   {
    "duration": 7,
    "start_time": "2022-12-01T08:58:43.523Z"
   },
   {
    "duration": 13,
    "start_time": "2022-12-01T08:58:43.532Z"
   },
   {
    "duration": 1945,
    "start_time": "2022-12-01T08:58:43.547Z"
   },
   {
    "duration": 5,
    "start_time": "2022-12-01T08:58:45.494Z"
   },
   {
    "duration": 28,
    "start_time": "2022-12-01T08:58:45.501Z"
   },
   {
    "duration": 59,
    "start_time": "2022-12-01T08:58:45.530Z"
   },
   {
    "duration": 34,
    "start_time": "2022-12-01T08:58:45.590Z"
   },
   {
    "duration": 1257,
    "start_time": "2022-12-01T08:58:45.625Z"
   },
   {
    "duration": 5,
    "start_time": "2022-12-01T08:58:46.883Z"
   },
   {
    "duration": 24,
    "start_time": "2022-12-01T08:58:46.890Z"
   },
   {
    "duration": 26,
    "start_time": "2022-12-01T08:58:46.916Z"
   },
   {
    "duration": 19,
    "start_time": "2022-12-01T08:58:46.943Z"
   },
   {
    "duration": 2011,
    "start_time": "2022-12-01T08:58:46.963Z"
   },
   {
    "duration": 5,
    "start_time": "2022-12-01T08:58:48.976Z"
   },
   {
    "duration": 30,
    "start_time": "2022-12-01T08:58:48.983Z"
   },
   {
    "duration": 16,
    "start_time": "2022-12-01T08:58:49.015Z"
   },
   {
    "duration": 25,
    "start_time": "2022-12-01T08:58:49.033Z"
   },
   {
    "duration": 1257,
    "start_time": "2022-12-01T08:59:37.208Z"
   },
   {
    "duration": 351,
    "start_time": "2022-12-01T08:59:38.467Z"
   },
   {
    "duration": 14,
    "start_time": "2022-12-01T08:59:38.820Z"
   },
   {
    "duration": 651,
    "start_time": "2022-12-01T08:59:38.836Z"
   },
   {
    "duration": 41,
    "start_time": "2022-12-01T08:59:39.488Z"
   },
   {
    "duration": 13,
    "start_time": "2022-12-01T08:59:39.531Z"
   },
   {
    "duration": 15,
    "start_time": "2022-12-01T08:59:39.545Z"
   },
   {
    "duration": 15,
    "start_time": "2022-12-01T08:59:39.562Z"
   },
   {
    "duration": 15,
    "start_time": "2022-12-01T08:59:39.579Z"
   },
   {
    "duration": 5,
    "start_time": "2022-12-01T08:59:39.622Z"
   },
   {
    "duration": 16,
    "start_time": "2022-12-01T08:59:39.629Z"
   },
   {
    "duration": 710,
    "start_time": "2022-12-01T08:59:39.646Z"
   },
   {
    "duration": 35,
    "start_time": "2022-12-01T08:59:40.357Z"
   },
   {
    "duration": 29,
    "start_time": "2022-12-01T08:59:40.393Z"
   },
   {
    "duration": 16,
    "start_time": "2022-12-01T08:59:40.423Z"
   },
   {
    "duration": 22,
    "start_time": "2022-12-01T08:59:40.440Z"
   },
   {
    "duration": 16,
    "start_time": "2022-12-01T08:59:40.464Z"
   },
   {
    "duration": 24,
    "start_time": "2022-12-01T08:59:40.482Z"
   },
   {
    "duration": 20,
    "start_time": "2022-12-01T08:59:40.508Z"
   },
   {
    "duration": 658,
    "start_time": "2022-12-01T08:59:40.529Z"
   },
   {
    "duration": 40,
    "start_time": "2022-12-01T08:59:41.188Z"
   },
   {
    "duration": 12,
    "start_time": "2022-12-01T08:59:41.229Z"
   },
   {
    "duration": 15,
    "start_time": "2022-12-01T08:59:41.243Z"
   },
   {
    "duration": 27,
    "start_time": "2022-12-01T08:59:41.260Z"
   },
   {
    "duration": 14,
    "start_time": "2022-12-01T08:59:41.289Z"
   },
   {
    "duration": 18,
    "start_time": "2022-12-01T08:59:41.304Z"
   },
   {
    "duration": 13,
    "start_time": "2022-12-01T08:59:41.324Z"
   },
   {
    "duration": 6,
    "start_time": "2022-12-01T08:59:41.340Z"
   },
   {
    "duration": 14,
    "start_time": "2022-12-01T08:59:41.347Z"
   },
   {
    "duration": 16,
    "start_time": "2022-12-01T08:59:41.363Z"
   },
   {
    "duration": 30,
    "start_time": "2022-12-01T08:59:41.380Z"
   },
   {
    "duration": 72,
    "start_time": "2022-12-01T08:59:41.412Z"
   },
   {
    "duration": 401,
    "start_time": "2022-12-01T08:59:41.486Z"
   },
   {
    "duration": 3,
    "start_time": "2022-12-01T08:59:41.888Z"
   },
   {
    "duration": 15,
    "start_time": "2022-12-01T08:59:41.893Z"
   },
   {
    "duration": 12,
    "start_time": "2022-12-01T08:59:41.921Z"
   },
   {
    "duration": 189,
    "start_time": "2022-12-01T08:59:41.935Z"
   },
   {
    "duration": 96,
    "start_time": "2022-12-01T08:59:42.127Z"
   },
   {
    "duration": 107,
    "start_time": "2022-12-01T08:59:42.226Z"
   },
   {
    "duration": 6,
    "start_time": "2022-12-01T08:59:42.334Z"
   },
   {
    "duration": 12,
    "start_time": "2022-12-01T08:59:42.341Z"
   },
   {
    "duration": 8,
    "start_time": "2022-12-01T08:59:42.354Z"
   },
   {
    "duration": 5,
    "start_time": "2022-12-01T08:59:42.363Z"
   },
   {
    "duration": 10,
    "start_time": "2022-12-01T08:59:42.370Z"
   },
   {
    "duration": 13,
    "start_time": "2022-12-01T08:59:42.381Z"
   },
   {
    "duration": 13,
    "start_time": "2022-12-01T08:59:42.395Z"
   },
   {
    "duration": 13,
    "start_time": "2022-12-01T08:59:42.410Z"
   },
   {
    "duration": 14,
    "start_time": "2022-12-01T08:59:42.425Z"
   },
   {
    "duration": 31,
    "start_time": "2022-12-01T08:59:42.441Z"
   },
   {
    "duration": 72,
    "start_time": "2022-12-01T08:59:42.474Z"
   },
   {
    "duration": 2,
    "start_time": "2022-12-01T08:59:42.548Z"
   },
   {
    "duration": 17,
    "start_time": "2022-12-01T08:59:42.552Z"
   },
   {
    "duration": 14,
    "start_time": "2022-12-01T08:59:42.570Z"
   },
   {
    "duration": 117,
    "start_time": "2022-12-01T08:59:42.620Z"
   },
   {
    "duration": 83,
    "start_time": "2022-12-01T08:59:42.739Z"
   },
   {
    "duration": 6,
    "start_time": "2022-12-01T08:59:42.824Z"
   },
   {
    "duration": 98,
    "start_time": "2022-12-01T08:59:42.834Z"
   },
   {
    "duration": 24,
    "start_time": "2022-12-01T08:59:42.934Z"
   },
   {
    "duration": 39,
    "start_time": "2022-12-01T08:59:42.959Z"
   },
   {
    "duration": 17,
    "start_time": "2022-12-01T08:59:43.000Z"
   },
   {
    "duration": 12,
    "start_time": "2022-12-01T08:59:43.019Z"
   },
   {
    "duration": 15,
    "start_time": "2022-12-01T08:59:43.032Z"
   },
   {
    "duration": 33,
    "start_time": "2022-12-01T08:59:43.048Z"
   },
   {
    "duration": 71,
    "start_time": "2022-12-01T08:59:43.082Z"
   },
   {
    "duration": 2,
    "start_time": "2022-12-01T08:59:43.155Z"
   },
   {
    "duration": 27,
    "start_time": "2022-12-01T08:59:43.158Z"
   },
   {
    "duration": 39,
    "start_time": "2022-12-01T08:59:43.187Z"
   },
   {
    "duration": 99,
    "start_time": "2022-12-01T08:59:43.227Z"
   },
   {
    "duration": 197,
    "start_time": "2022-12-01T08:59:43.328Z"
   },
   {
    "duration": 18,
    "start_time": "2022-12-01T08:59:43.526Z"
   },
   {
    "duration": 6,
    "start_time": "2022-12-01T08:59:43.546Z"
   },
   {
    "duration": 5,
    "start_time": "2022-12-01T08:59:43.554Z"
   },
   {
    "duration": 13,
    "start_time": "2022-12-01T08:59:43.561Z"
   },
   {
    "duration": 10,
    "start_time": "2022-12-01T08:59:43.576Z"
   },
   {
    "duration": 10,
    "start_time": "2022-12-01T08:59:43.587Z"
   },
   {
    "duration": 10,
    "start_time": "2022-12-01T08:59:43.599Z"
   },
   {
    "duration": 7,
    "start_time": "2022-12-01T08:59:43.611Z"
   },
   {
    "duration": 5,
    "start_time": "2022-12-01T08:59:43.619Z"
   },
   {
    "duration": 5,
    "start_time": "2022-12-01T08:59:43.626Z"
   },
   {
    "duration": 21,
    "start_time": "2022-12-01T08:59:43.632Z"
   },
   {
    "duration": 7,
    "start_time": "2022-12-01T08:59:43.654Z"
   },
   {
    "duration": 16,
    "start_time": "2022-12-01T08:59:43.666Z"
   },
   {
    "duration": 8,
    "start_time": "2022-12-01T08:59:43.684Z"
   },
   {
    "duration": 17,
    "start_time": "2022-12-01T08:59:43.694Z"
   },
   {
    "duration": 101,
    "start_time": "2022-12-01T08:59:43.713Z"
   },
   {
    "duration": 21,
    "start_time": "2022-12-01T08:59:43.816Z"
   },
   {
    "duration": 1336,
    "start_time": "2022-12-01T08:59:43.838Z"
   },
   {
    "duration": 6,
    "start_time": "2022-12-01T08:59:45.175Z"
   },
   {
    "duration": 7,
    "start_time": "2022-12-01T08:59:45.184Z"
   },
   {
    "duration": 7,
    "start_time": "2022-12-01T08:59:45.193Z"
   },
   {
    "duration": 27,
    "start_time": "2022-12-01T08:59:45.202Z"
   },
   {
    "duration": 1302,
    "start_time": "2022-12-01T08:59:45.230Z"
   },
   {
    "duration": 5,
    "start_time": "2022-12-01T08:59:46.534Z"
   },
   {
    "duration": 8,
    "start_time": "2022-12-01T08:59:46.540Z"
   },
   {
    "duration": 12,
    "start_time": "2022-12-01T08:59:46.549Z"
   },
   {
    "duration": 8,
    "start_time": "2022-12-01T08:59:46.562Z"
   },
   {
    "duration": 1216,
    "start_time": "2022-12-01T08:59:46.571Z"
   },
   {
    "duration": 5,
    "start_time": "2022-12-01T08:59:47.789Z"
   },
   {
    "duration": 10,
    "start_time": "2022-12-01T08:59:47.796Z"
   },
   {
    "duration": 15,
    "start_time": "2022-12-01T08:59:47.807Z"
   },
   {
    "duration": 6,
    "start_time": "2022-12-01T08:59:47.823Z"
   },
   {
    "duration": 1734,
    "start_time": "2022-12-01T10:48:02.630Z"
   },
   {
    "duration": 803,
    "start_time": "2022-12-01T10:48:04.367Z"
   },
   {
    "duration": 19,
    "start_time": "2022-12-01T10:48:05.172Z"
   },
   {
    "duration": 898,
    "start_time": "2022-12-01T10:48:05.193Z"
   },
   {
    "duration": 44,
    "start_time": "2022-12-01T10:48:06.093Z"
   },
   {
    "duration": 16,
    "start_time": "2022-12-01T10:48:06.140Z"
   },
   {
    "duration": 26,
    "start_time": "2022-12-01T10:48:06.158Z"
   },
   {
    "duration": 41,
    "start_time": "2022-12-01T10:48:06.186Z"
   },
   {
    "duration": 41,
    "start_time": "2022-12-01T10:48:06.229Z"
   },
   {
    "duration": 35,
    "start_time": "2022-12-01T10:48:06.273Z"
   },
   {
    "duration": 29,
    "start_time": "2022-12-01T10:48:06.310Z"
   },
   {
    "duration": 1022,
    "start_time": "2022-12-01T10:48:06.342Z"
   },
   {
    "duration": 38,
    "start_time": "2022-12-01T10:48:07.366Z"
   },
   {
    "duration": 17,
    "start_time": "2022-12-01T10:48:07.413Z"
   },
   {
    "duration": 26,
    "start_time": "2022-12-01T10:48:07.432Z"
   },
   {
    "duration": 20,
    "start_time": "2022-12-01T10:48:07.459Z"
   },
   {
    "duration": 46,
    "start_time": "2022-12-01T10:48:07.481Z"
   },
   {
    "duration": 7,
    "start_time": "2022-12-01T10:48:07.530Z"
   },
   {
    "duration": 18,
    "start_time": "2022-12-01T10:48:07.539Z"
   },
   {
    "duration": 954,
    "start_time": "2022-12-01T10:48:07.559Z"
   },
   {
    "duration": 41,
    "start_time": "2022-12-01T10:48:08.515Z"
   },
   {
    "duration": 16,
    "start_time": "2022-12-01T10:48:08.559Z"
   },
   {
    "duration": 51,
    "start_time": "2022-12-01T10:48:08.577Z"
   },
   {
    "duration": 31,
    "start_time": "2022-12-01T10:48:08.630Z"
   },
   {
    "duration": 22,
    "start_time": "2022-12-01T10:48:08.663Z"
   },
   {
    "duration": 7,
    "start_time": "2022-12-01T10:48:08.687Z"
   },
   {
    "duration": 40,
    "start_time": "2022-12-01T10:48:08.696Z"
   },
   {
    "duration": 7,
    "start_time": "2022-12-01T10:48:08.742Z"
   },
   {
    "duration": 8,
    "start_time": "2022-12-01T10:48:08.750Z"
   },
   {
    "duration": 7,
    "start_time": "2022-12-01T10:48:08.760Z"
   },
   {
    "duration": 32,
    "start_time": "2022-12-01T10:48:08.768Z"
   },
   {
    "duration": 101,
    "start_time": "2022-12-01T10:48:08.801Z"
   },
   {
    "duration": 613,
    "start_time": "2022-12-01T10:48:08.912Z"
   },
   {
    "duration": 3,
    "start_time": "2022-12-01T10:48:09.527Z"
   },
   {
    "duration": 18,
    "start_time": "2022-12-01T10:48:09.532Z"
   },
   {
    "duration": 74,
    "start_time": "2022-12-01T10:48:09.551Z"
   },
   {
    "duration": 107,
    "start_time": "2022-12-01T10:48:09.627Z"
   },
   {
    "duration": 13,
    "start_time": "2022-12-01T10:48:09.813Z"
   },
   {
    "duration": 10,
    "start_time": "2022-12-01T10:48:09.913Z"
   },
   {
    "duration": 8,
    "start_time": "2022-12-01T10:48:09.925Z"
   },
   {
    "duration": 7,
    "start_time": "2022-12-01T10:48:09.936Z"
   },
   {
    "duration": 8,
    "start_time": "2022-12-01T10:48:09.946Z"
   },
   {
    "duration": 56,
    "start_time": "2022-12-01T10:48:09.956Z"
   },
   {
    "duration": 6,
    "start_time": "2022-12-01T10:48:10.015Z"
   },
   {
    "duration": 17,
    "start_time": "2022-12-01T10:48:10.023Z"
   },
   {
    "duration": 16,
    "start_time": "2022-12-01T10:48:10.042Z"
   },
   {
    "duration": 59,
    "start_time": "2022-12-01T10:48:10.060Z"
   },
   {
    "duration": 9,
    "start_time": "2022-12-01T10:48:10.122Z"
   },
   {
    "duration": 88,
    "start_time": "2022-12-01T10:48:10.134Z"
   },
   {
    "duration": 215,
    "start_time": "2022-12-01T10:48:10.224Z"
   },
   {
    "duration": 4,
    "start_time": "2022-12-01T10:48:10.441Z"
   },
   {
    "duration": 67,
    "start_time": "2022-12-01T10:48:10.447Z"
   },
   {
    "duration": 10,
    "start_time": "2022-12-01T10:48:10.516Z"
   },
   {
    "duration": 89,
    "start_time": "2022-12-01T10:48:10.527Z"
   },
   {
    "duration": 96,
    "start_time": "2022-12-01T10:48:10.618Z"
   },
   {
    "duration": 117,
    "start_time": "2022-12-01T10:48:10.716Z"
   },
   {
    "duration": 8,
    "start_time": "2022-12-01T10:48:10.835Z"
   },
   {
    "duration": 11,
    "start_time": "2022-12-01T10:48:10.845Z"
   },
   {
    "duration": 9,
    "start_time": "2022-12-01T10:48:10.858Z"
   },
   {
    "duration": 56,
    "start_time": "2022-12-01T10:48:10.869Z"
   },
   {
    "duration": 7,
    "start_time": "2022-12-01T10:48:10.928Z"
   },
   {
    "duration": 8,
    "start_time": "2022-12-01T10:48:10.937Z"
   },
   {
    "duration": 84,
    "start_time": "2022-12-01T10:48:10.948Z"
   },
   {
    "duration": 212,
    "start_time": "2022-12-01T10:48:11.034Z"
   },
   {
    "duration": 4,
    "start_time": "2022-12-01T10:48:11.248Z"
   },
   {
    "duration": 73,
    "start_time": "2022-12-01T10:48:11.254Z"
   },
   {
    "duration": 88,
    "start_time": "2022-12-01T10:48:11.329Z"
   },
   {
    "duration": 111,
    "start_time": "2022-12-01T10:48:11.419Z"
   },
   {
    "duration": 190,
    "start_time": "2022-12-01T10:48:11.532Z"
   },
   {
    "duration": 14,
    "start_time": "2022-12-01T10:48:11.724Z"
   },
   {
    "duration": 24,
    "start_time": "2022-12-01T10:48:11.740Z"
   },
   {
    "duration": 46,
    "start_time": "2022-12-01T10:48:11.767Z"
   },
   {
    "duration": 6,
    "start_time": "2022-12-01T10:48:11.816Z"
   },
   {
    "duration": 29,
    "start_time": "2022-12-01T10:48:11.824Z"
   },
   {
    "duration": 11,
    "start_time": "2022-12-01T10:48:11.855Z"
   },
   {
    "duration": 45,
    "start_time": "2022-12-01T10:48:11.869Z"
   },
   {
    "duration": 14,
    "start_time": "2022-12-01T10:48:11.917Z"
   },
   {
    "duration": 7,
    "start_time": "2022-12-01T10:48:11.933Z"
   },
   {
    "duration": 5,
    "start_time": "2022-12-01T10:48:11.942Z"
   },
   {
    "duration": 11,
    "start_time": "2022-12-01T10:48:11.949Z"
   },
   {
    "duration": 52,
    "start_time": "2022-12-01T10:48:11.962Z"
   },
   {
    "duration": 12,
    "start_time": "2022-12-01T10:48:12.023Z"
   },
   {
    "duration": 9,
    "start_time": "2022-12-01T10:48:12.037Z"
   },
   {
    "duration": 6,
    "start_time": "2022-12-01T10:48:12.048Z"
   },
   {
    "duration": 7,
    "start_time": "2022-12-01T10:48:12.056Z"
   },
   {
    "duration": 6,
    "start_time": "2022-12-01T10:48:12.113Z"
   },
   {
    "duration": 1785,
    "start_time": "2022-12-01T10:48:12.122Z"
   },
   {
    "duration": 6,
    "start_time": "2022-12-01T10:48:13.910Z"
   },
   {
    "duration": 11,
    "start_time": "2022-12-01T10:48:13.918Z"
   },
   {
    "duration": 15,
    "start_time": "2022-12-01T10:48:13.932Z"
   },
   {
    "duration": 11,
    "start_time": "2022-12-01T10:48:13.949Z"
   },
   {
    "duration": 1525,
    "start_time": "2022-12-01T10:48:13.962Z"
   },
   {
    "duration": 8,
    "start_time": "2022-12-01T10:48:15.489Z"
   },
   {
    "duration": 23,
    "start_time": "2022-12-01T10:48:15.499Z"
   },
   {
    "duration": 14,
    "start_time": "2022-12-01T10:48:15.523Z"
   },
   {
    "duration": 8,
    "start_time": "2022-12-01T10:48:15.539Z"
   },
   {
    "duration": 1531,
    "start_time": "2022-12-01T10:48:15.550Z"
   },
   {
    "duration": 7,
    "start_time": "2022-12-01T10:48:17.083Z"
   },
   {
    "duration": 21,
    "start_time": "2022-12-01T10:48:17.092Z"
   },
   {
    "duration": 6,
    "start_time": "2022-12-01T10:48:17.116Z"
   },
   {
    "duration": 12,
    "start_time": "2022-12-01T10:48:17.124Z"
   },
   {
    "duration": 6,
    "start_time": "2022-12-01T10:50:23.322Z"
   },
   {
    "duration": 1419,
    "start_time": "2022-12-01T10:52:34.871Z"
   },
   {
    "duration": 418,
    "start_time": "2022-12-01T10:52:36.292Z"
   },
   {
    "duration": 15,
    "start_time": "2022-12-01T10:52:36.712Z"
   },
   {
    "duration": 779,
    "start_time": "2022-12-01T10:52:36.729Z"
   },
   {
    "duration": 42,
    "start_time": "2022-12-01T10:52:37.511Z"
   },
   {
    "duration": 16,
    "start_time": "2022-12-01T10:52:37.555Z"
   },
   {
    "duration": 41,
    "start_time": "2022-12-01T10:52:37.573Z"
   },
   {
    "duration": 23,
    "start_time": "2022-12-01T10:52:37.616Z"
   },
   {
    "duration": 19,
    "start_time": "2022-12-01T10:52:37.641Z"
   },
   {
    "duration": 9,
    "start_time": "2022-12-01T10:52:37.662Z"
   },
   {
    "duration": 20,
    "start_time": "2022-12-01T10:52:37.673Z"
   },
   {
    "duration": 846,
    "start_time": "2022-12-01T10:52:37.712Z"
   },
   {
    "duration": 36,
    "start_time": "2022-12-01T10:52:38.560Z"
   },
   {
    "duration": 15,
    "start_time": "2022-12-01T10:52:38.612Z"
   },
   {
    "duration": 20,
    "start_time": "2022-12-01T10:52:38.629Z"
   },
   {
    "duration": 21,
    "start_time": "2022-12-01T10:52:38.651Z"
   },
   {
    "duration": 16,
    "start_time": "2022-12-01T10:52:38.673Z"
   },
   {
    "duration": 7,
    "start_time": "2022-12-01T10:52:38.713Z"
   },
   {
    "duration": 18,
    "start_time": "2022-12-01T10:52:38.722Z"
   },
   {
    "duration": 780,
    "start_time": "2022-12-01T10:52:38.742Z"
   },
   {
    "duration": 38,
    "start_time": "2022-12-01T10:52:39.524Z"
   },
   {
    "duration": 15,
    "start_time": "2022-12-01T10:52:39.564Z"
   },
   {
    "duration": 39,
    "start_time": "2022-12-01T10:52:39.581Z"
   },
   {
    "duration": 17,
    "start_time": "2022-12-01T10:52:39.622Z"
   },
   {
    "duration": 17,
    "start_time": "2022-12-01T10:52:39.641Z"
   },
   {
    "duration": 18,
    "start_time": "2022-12-01T10:52:39.659Z"
   },
   {
    "duration": 19,
    "start_time": "2022-12-01T10:52:39.678Z"
   },
   {
    "duration": 19,
    "start_time": "2022-12-01T10:52:39.698Z"
   },
   {
    "duration": 14,
    "start_time": "2022-12-01T10:52:39.719Z"
   },
   {
    "duration": 8,
    "start_time": "2022-12-01T10:52:39.734Z"
   },
   {
    "duration": 30,
    "start_time": "2022-12-01T10:52:39.743Z"
   },
   {
    "duration": 99,
    "start_time": "2022-12-01T10:52:39.774Z"
   },
   {
    "duration": 478,
    "start_time": "2022-12-01T10:52:39.875Z"
   },
   {
    "duration": 3,
    "start_time": "2022-12-01T10:52:40.356Z"
   },
   {
    "duration": 18,
    "start_time": "2022-12-01T10:52:40.360Z"
   },
   {
    "duration": 42,
    "start_time": "2022-12-01T10:52:40.380Z"
   },
   {
    "duration": 90,
    "start_time": "2022-12-01T10:52:40.424Z"
   },
   {
    "duration": 100,
    "start_time": "2022-12-01T10:52:40.516Z"
   },
   {
    "duration": 100,
    "start_time": "2022-12-01T10:52:40.618Z"
   },
   {
    "duration": 13,
    "start_time": "2022-12-01T10:52:40.720Z"
   },
   {
    "duration": 9,
    "start_time": "2022-12-01T10:52:40.738Z"
   },
   {
    "duration": 20,
    "start_time": "2022-12-01T10:52:40.748Z"
   },
   {
    "duration": 32,
    "start_time": "2022-12-01T10:52:40.770Z"
   },
   {
    "duration": 30,
    "start_time": "2022-12-01T10:52:40.804Z"
   },
   {
    "duration": 16,
    "start_time": "2022-12-01T10:52:40.836Z"
   },
   {
    "duration": 25,
    "start_time": "2022-12-01T10:52:40.854Z"
   },
   {
    "duration": 27,
    "start_time": "2022-12-01T10:52:40.881Z"
   },
   {
    "duration": 28,
    "start_time": "2022-12-01T10:52:40.910Z"
   },
   {
    "duration": 35,
    "start_time": "2022-12-01T10:52:40.940Z"
   },
   {
    "duration": 83,
    "start_time": "2022-12-01T10:52:40.977Z"
   },
   {
    "duration": 3,
    "start_time": "2022-12-01T10:52:41.062Z"
   },
   {
    "duration": 36,
    "start_time": "2022-12-01T10:52:41.066Z"
   },
   {
    "duration": 110,
    "start_time": "2022-12-01T10:52:41.103Z"
   },
   {
    "duration": 102,
    "start_time": "2022-12-01T10:52:41.216Z"
   },
   {
    "duration": 98,
    "start_time": "2022-12-01T10:52:41.320Z"
   },
   {
    "duration": 91,
    "start_time": "2022-12-01T10:52:41.426Z"
   },
   {
    "duration": 15,
    "start_time": "2022-12-01T10:52:41.519Z"
   },
   {
    "duration": 23,
    "start_time": "2022-12-01T10:52:41.536Z"
   },
   {
    "duration": 20,
    "start_time": "2022-12-01T10:52:41.561Z"
   },
   {
    "duration": 19,
    "start_time": "2022-12-01T10:52:41.583Z"
   },
   {
    "duration": 7,
    "start_time": "2022-12-01T10:52:41.604Z"
   },
   {
    "duration": 11,
    "start_time": "2022-12-01T10:52:41.613Z"
   },
   {
    "duration": 33,
    "start_time": "2022-12-01T10:52:41.626Z"
   },
   {
    "duration": 95,
    "start_time": "2022-12-01T10:52:41.661Z"
   },
   {
    "duration": 3,
    "start_time": "2022-12-01T10:52:41.758Z"
   },
   {
    "duration": 49,
    "start_time": "2022-12-01T10:52:41.763Z"
   },
   {
    "duration": 15,
    "start_time": "2022-12-01T10:52:41.814Z"
   },
   {
    "duration": 6,
    "start_time": "2022-12-01T10:52:41.913Z"
   },
   {
    "duration": 188,
    "start_time": "2022-12-01T10:52:41.926Z"
   },
   {
    "duration": 11,
    "start_time": "2022-12-01T10:52:42.116Z"
   },
   {
    "duration": 7,
    "start_time": "2022-12-01T10:52:42.128Z"
   },
   {
    "duration": 5,
    "start_time": "2022-12-01T10:52:42.136Z"
   },
   {
    "duration": 11,
    "start_time": "2022-12-01T10:52:42.143Z"
   },
   {
    "duration": 4,
    "start_time": "2022-12-01T10:52:42.156Z"
   },
   {
    "duration": 15,
    "start_time": "2022-12-01T10:52:42.161Z"
   },
   {
    "duration": 14,
    "start_time": "2022-12-01T10:52:42.178Z"
   },
   {
    "duration": 10,
    "start_time": "2022-12-01T10:52:42.194Z"
   },
   {
    "duration": 9,
    "start_time": "2022-12-01T10:52:42.205Z"
   },
   {
    "duration": 15,
    "start_time": "2022-12-01T10:52:42.216Z"
   },
   {
    "duration": 14,
    "start_time": "2022-12-01T10:52:42.232Z"
   },
   {
    "duration": 12,
    "start_time": "2022-12-01T10:52:42.247Z"
   },
   {
    "duration": 6,
    "start_time": "2022-12-01T10:52:42.260Z"
   },
   {
    "duration": 9,
    "start_time": "2022-12-01T10:52:42.267Z"
   },
   {
    "duration": 6,
    "start_time": "2022-12-01T10:52:42.278Z"
   },
   {
    "duration": 8,
    "start_time": "2022-12-01T10:52:42.286Z"
   },
   {
    "duration": 8,
    "start_time": "2022-12-01T10:52:42.296Z"
   },
   {
    "duration": 1794,
    "start_time": "2022-12-01T10:52:42.305Z"
   },
   {
    "duration": 12,
    "start_time": "2022-12-01T10:52:44.101Z"
   },
   {
    "duration": 32,
    "start_time": "2022-12-01T10:52:44.115Z"
   },
   {
    "duration": 20,
    "start_time": "2022-12-01T10:52:44.150Z"
   },
   {
    "duration": 12,
    "start_time": "2022-12-01T10:52:44.172Z"
   },
   {
    "duration": 1442,
    "start_time": "2022-12-01T10:52:44.185Z"
   },
   {
    "duration": 6,
    "start_time": "2022-12-01T10:52:45.629Z"
   },
   {
    "duration": 20,
    "start_time": "2022-12-01T10:52:45.636Z"
   },
   {
    "duration": 28,
    "start_time": "2022-12-01T10:52:45.657Z"
   },
   {
    "duration": 21,
    "start_time": "2022-12-01T10:52:45.687Z"
   },
   {
    "duration": 1455,
    "start_time": "2022-12-01T10:52:45.710Z"
   },
   {
    "duration": 6,
    "start_time": "2022-12-01T10:52:47.167Z"
   },
   {
    "duration": 8,
    "start_time": "2022-12-01T10:52:47.175Z"
   },
   {
    "duration": 9,
    "start_time": "2022-12-01T10:52:47.185Z"
   },
   {
    "duration": 21,
    "start_time": "2022-12-01T10:52:47.196Z"
   },
   {
    "duration": 1509,
    "start_time": "2022-12-01T10:55:53.988Z"
   },
   {
    "duration": 381,
    "start_time": "2022-12-01T10:55:55.499Z"
   },
   {
    "duration": 16,
    "start_time": "2022-12-01T10:55:55.882Z"
   },
   {
    "duration": 868,
    "start_time": "2022-12-01T10:55:55.900Z"
   },
   {
    "duration": 46,
    "start_time": "2022-12-01T10:55:56.769Z"
   },
   {
    "duration": 16,
    "start_time": "2022-12-01T10:55:56.817Z"
   },
   {
    "duration": 20,
    "start_time": "2022-12-01T10:55:56.835Z"
   },
   {
    "duration": 20,
    "start_time": "2022-12-01T10:55:56.857Z"
   },
   {
    "duration": 45,
    "start_time": "2022-12-01T10:55:56.879Z"
   },
   {
    "duration": 6,
    "start_time": "2022-12-01T10:55:56.927Z"
   },
   {
    "duration": 18,
    "start_time": "2022-12-01T10:55:56.935Z"
   },
   {
    "duration": 844,
    "start_time": "2022-12-01T10:55:56.955Z"
   },
   {
    "duration": 38,
    "start_time": "2022-12-01T10:55:57.801Z"
   },
   {
    "duration": 16,
    "start_time": "2022-12-01T10:55:57.841Z"
   },
   {
    "duration": 20,
    "start_time": "2022-12-01T10:55:57.859Z"
   },
   {
    "duration": 44,
    "start_time": "2022-12-01T10:55:57.881Z"
   },
   {
    "duration": 16,
    "start_time": "2022-12-01T10:55:57.927Z"
   },
   {
    "duration": 8,
    "start_time": "2022-12-01T10:55:57.945Z"
   },
   {
    "duration": 16,
    "start_time": "2022-12-01T10:55:57.955Z"
   },
   {
    "duration": 823,
    "start_time": "2022-12-01T10:55:57.973Z"
   },
   {
    "duration": 43,
    "start_time": "2022-12-01T10:55:58.798Z"
   },
   {
    "duration": 16,
    "start_time": "2022-12-01T10:55:58.843Z"
   },
   {
    "duration": 22,
    "start_time": "2022-12-01T10:55:58.861Z"
   },
   {
    "duration": 40,
    "start_time": "2022-12-01T10:55:58.885Z"
   },
   {
    "duration": 19,
    "start_time": "2022-12-01T10:55:58.927Z"
   },
   {
    "duration": 6,
    "start_time": "2022-12-01T10:55:58.948Z"
   },
   {
    "duration": 13,
    "start_time": "2022-12-01T10:55:58.956Z"
   },
   {
    "duration": 7,
    "start_time": "2022-12-01T10:55:58.974Z"
   },
   {
    "duration": 32,
    "start_time": "2022-12-01T10:55:58.983Z"
   },
   {
    "duration": 16,
    "start_time": "2022-12-01T10:55:59.018Z"
   },
   {
    "duration": 3,
    "start_time": "2022-12-01T10:55:59.036Z"
   },
   {
    "duration": 126,
    "start_time": "2022-12-01T10:55:59.041Z"
   },
   {
    "duration": 1,
    "start_time": "2022-12-01T10:55:59.170Z"
   },
   {
    "duration": 0,
    "start_time": "2022-12-01T10:55:59.172Z"
   },
   {
    "duration": 0,
    "start_time": "2022-12-01T10:55:59.174Z"
   },
   {
    "duration": 0,
    "start_time": "2022-12-01T10:55:59.175Z"
   },
   {
    "duration": 0,
    "start_time": "2022-12-01T10:55:59.177Z"
   },
   {
    "duration": 0,
    "start_time": "2022-12-01T10:55:59.178Z"
   },
   {
    "duration": 1,
    "start_time": "2022-12-01T10:55:59.179Z"
   },
   {
    "duration": 0,
    "start_time": "2022-12-01T10:55:59.181Z"
   },
   {
    "duration": 0,
    "start_time": "2022-12-01T10:55:59.182Z"
   },
   {
    "duration": 0,
    "start_time": "2022-12-01T10:55:59.184Z"
   },
   {
    "duration": 0,
    "start_time": "2022-12-01T10:55:59.213Z"
   },
   {
    "duration": 0,
    "start_time": "2022-12-01T10:55:59.215Z"
   },
   {
    "duration": 0,
    "start_time": "2022-12-01T10:55:59.216Z"
   },
   {
    "duration": 0,
    "start_time": "2022-12-01T10:55:59.218Z"
   },
   {
    "duration": 0,
    "start_time": "2022-12-01T10:55:59.219Z"
   },
   {
    "duration": 0,
    "start_time": "2022-12-01T10:55:59.221Z"
   },
   {
    "duration": 0,
    "start_time": "2022-12-01T10:55:59.222Z"
   },
   {
    "duration": 0,
    "start_time": "2022-12-01T10:55:59.224Z"
   },
   {
    "duration": 0,
    "start_time": "2022-12-01T10:55:59.226Z"
   },
   {
    "duration": 0,
    "start_time": "2022-12-01T10:55:59.228Z"
   },
   {
    "duration": 0,
    "start_time": "2022-12-01T10:55:59.229Z"
   },
   {
    "duration": 0,
    "start_time": "2022-12-01T10:55:59.231Z"
   },
   {
    "duration": 0,
    "start_time": "2022-12-01T10:55:59.232Z"
   },
   {
    "duration": 0,
    "start_time": "2022-12-01T10:55:59.233Z"
   },
   {
    "duration": 0,
    "start_time": "2022-12-01T10:55:59.234Z"
   },
   {
    "duration": 0,
    "start_time": "2022-12-01T10:55:59.236Z"
   },
   {
    "duration": 0,
    "start_time": "2022-12-01T10:55:59.237Z"
   },
   {
    "duration": 0,
    "start_time": "2022-12-01T10:55:59.239Z"
   },
   {
    "duration": 0,
    "start_time": "2022-12-01T10:55:59.240Z"
   },
   {
    "duration": 0,
    "start_time": "2022-12-01T10:55:59.242Z"
   },
   {
    "duration": 0,
    "start_time": "2022-12-01T10:55:59.243Z"
   },
   {
    "duration": 0,
    "start_time": "2022-12-01T10:55:59.244Z"
   },
   {
    "duration": 0,
    "start_time": "2022-12-01T10:55:59.245Z"
   },
   {
    "duration": 0,
    "start_time": "2022-12-01T10:55:59.246Z"
   },
   {
    "duration": 0,
    "start_time": "2022-12-01T10:55:59.248Z"
   },
   {
    "duration": 0,
    "start_time": "2022-12-01T10:55:59.248Z"
   },
   {
    "duration": 0,
    "start_time": "2022-12-01T10:55:59.249Z"
   },
   {
    "duration": 0,
    "start_time": "2022-12-01T10:55:59.313Z"
   },
   {
    "duration": 0,
    "start_time": "2022-12-01T10:55:59.315Z"
   },
   {
    "duration": 0,
    "start_time": "2022-12-01T10:55:59.316Z"
   },
   {
    "duration": 0,
    "start_time": "2022-12-01T10:55:59.318Z"
   },
   {
    "duration": 0,
    "start_time": "2022-12-01T10:55:59.319Z"
   },
   {
    "duration": 0,
    "start_time": "2022-12-01T10:55:59.320Z"
   },
   {
    "duration": 0,
    "start_time": "2022-12-01T10:55:59.322Z"
   },
   {
    "duration": 0,
    "start_time": "2022-12-01T10:55:59.324Z"
   },
   {
    "duration": 0,
    "start_time": "2022-12-01T10:55:59.326Z"
   },
   {
    "duration": 0,
    "start_time": "2022-12-01T10:55:59.327Z"
   },
   {
    "duration": 0,
    "start_time": "2022-12-01T10:55:59.328Z"
   },
   {
    "duration": 0,
    "start_time": "2022-12-01T10:55:59.329Z"
   },
   {
    "duration": 0,
    "start_time": "2022-12-01T10:55:59.331Z"
   },
   {
    "duration": 0,
    "start_time": "2022-12-01T10:55:59.332Z"
   },
   {
    "duration": 0,
    "start_time": "2022-12-01T10:55:59.333Z"
   },
   {
    "duration": 0,
    "start_time": "2022-12-01T10:55:59.335Z"
   },
   {
    "duration": 0,
    "start_time": "2022-12-01T10:55:59.337Z"
   },
   {
    "duration": 0,
    "start_time": "2022-12-01T10:55:59.338Z"
   },
   {
    "duration": 0,
    "start_time": "2022-12-01T10:55:59.340Z"
   },
   {
    "duration": 0,
    "start_time": "2022-12-01T10:55:59.342Z"
   },
   {
    "duration": 0,
    "start_time": "2022-12-01T10:55:59.343Z"
   },
   {
    "duration": 0,
    "start_time": "2022-12-01T10:55:59.345Z"
   },
   {
    "duration": 0,
    "start_time": "2022-12-01T10:55:59.347Z"
   },
   {
    "duration": 0,
    "start_time": "2022-12-01T10:55:59.348Z"
   },
   {
    "duration": 0,
    "start_time": "2022-12-01T10:55:59.349Z"
   },
   {
    "duration": 0,
    "start_time": "2022-12-01T10:55:59.350Z"
   },
   {
    "duration": 0,
    "start_time": "2022-12-01T10:55:59.412Z"
   },
   {
    "duration": 0,
    "start_time": "2022-12-01T10:55:59.413Z"
   },
   {
    "duration": 0,
    "start_time": "2022-12-01T10:55:59.415Z"
   },
   {
    "duration": 1469,
    "start_time": "2022-12-01T10:56:32.515Z"
   },
   {
    "duration": 392,
    "start_time": "2022-12-01T10:56:33.986Z"
   },
   {
    "duration": 16,
    "start_time": "2022-12-01T10:56:34.379Z"
   },
   {
    "duration": 826,
    "start_time": "2022-12-01T10:56:34.397Z"
   },
   {
    "duration": 41,
    "start_time": "2022-12-01T10:56:35.224Z"
   },
   {
    "duration": 16,
    "start_time": "2022-12-01T10:56:35.267Z"
   },
   {
    "duration": 41,
    "start_time": "2022-12-01T10:56:35.284Z"
   },
   {
    "duration": 22,
    "start_time": "2022-12-01T10:56:35.326Z"
   },
   {
    "duration": 20,
    "start_time": "2022-12-01T10:56:35.350Z"
   },
   {
    "duration": 11,
    "start_time": "2022-12-01T10:56:35.374Z"
   },
   {
    "duration": 42,
    "start_time": "2022-12-01T10:56:35.387Z"
   },
   {
    "duration": 846,
    "start_time": "2022-12-01T10:56:35.430Z"
   },
   {
    "duration": 43,
    "start_time": "2022-12-01T10:56:36.277Z"
   },
   {
    "duration": 31,
    "start_time": "2022-12-01T10:56:36.321Z"
   },
   {
    "duration": 26,
    "start_time": "2022-12-01T10:56:36.354Z"
   },
   {
    "duration": 41,
    "start_time": "2022-12-01T10:56:36.382Z"
   },
   {
    "duration": 25,
    "start_time": "2022-12-01T10:56:36.426Z"
   },
   {
    "duration": 8,
    "start_time": "2022-12-01T10:56:36.453Z"
   },
   {
    "duration": 21,
    "start_time": "2022-12-01T10:56:36.463Z"
   },
   {
    "duration": 832,
    "start_time": "2022-12-01T10:56:36.486Z"
   },
   {
    "duration": 38,
    "start_time": "2022-12-01T10:56:37.320Z"
   },
   {
    "duration": 16,
    "start_time": "2022-12-01T10:56:37.360Z"
   },
   {
    "duration": 38,
    "start_time": "2022-12-01T10:56:37.377Z"
   },
   {
    "duration": 20,
    "start_time": "2022-12-01T10:56:37.417Z"
   },
   {
    "duration": 17,
    "start_time": "2022-12-01T10:56:37.439Z"
   },
   {
    "duration": 6,
    "start_time": "2022-12-01T10:56:37.458Z"
   },
   {
    "duration": 12,
    "start_time": "2022-12-01T10:56:37.466Z"
   },
   {
    "duration": 6,
    "start_time": "2022-12-01T10:56:37.514Z"
   },
   {
    "duration": 9,
    "start_time": "2022-12-01T10:56:37.522Z"
   },
   {
    "duration": 18,
    "start_time": "2022-12-01T10:56:37.532Z"
   },
   {
    "duration": 3,
    "start_time": "2022-12-01T10:56:37.551Z"
   },
   {
    "duration": 11,
    "start_time": "2022-12-01T10:56:37.556Z"
   },
   {
    "duration": 19,
    "start_time": "2022-12-01T10:56:37.569Z"
   },
   {
    "duration": 28,
    "start_time": "2022-12-01T10:56:37.589Z"
   },
   {
    "duration": 101,
    "start_time": "2022-12-01T10:56:37.621Z"
   },
   {
    "duration": 6,
    "start_time": "2022-12-01T10:56:37.813Z"
   },
   {
    "duration": 99,
    "start_time": "2022-12-01T10:56:37.821Z"
   },
   {
    "duration": 5,
    "start_time": "2022-12-01T10:56:37.922Z"
   },
   {
    "duration": 5,
    "start_time": "2022-12-01T10:56:37.928Z"
   },
   {
    "duration": 6,
    "start_time": "2022-12-01T10:56:37.934Z"
   },
   {
    "duration": 5,
    "start_time": "2022-12-01T10:56:37.941Z"
   },
   {
    "duration": 6,
    "start_time": "2022-12-01T10:56:37.948Z"
   },
   {
    "duration": 9,
    "start_time": "2022-12-01T10:56:37.955Z"
   },
   {
    "duration": 12,
    "start_time": "2022-12-01T10:56:37.966Z"
   },
   {
    "duration": 37,
    "start_time": "2022-12-01T10:56:37.980Z"
   },
   {
    "duration": 6,
    "start_time": "2022-12-01T10:56:38.019Z"
   },
   {
    "duration": 18,
    "start_time": "2022-12-01T10:56:38.026Z"
   },
   {
    "duration": 5,
    "start_time": "2022-12-01T10:56:38.045Z"
   },
   {
    "duration": 14,
    "start_time": "2022-12-01T10:56:38.052Z"
   },
   {
    "duration": 49,
    "start_time": "2022-12-01T10:56:38.067Z"
   },
   {
    "duration": 106,
    "start_time": "2022-12-01T10:56:38.119Z"
   },
   {
    "duration": 88,
    "start_time": "2022-12-01T10:56:38.230Z"
   },
   {
    "duration": 94,
    "start_time": "2022-12-01T10:56:38.322Z"
   },
   {
    "duration": 15,
    "start_time": "2022-12-01T10:56:38.417Z"
   },
   {
    "duration": 13,
    "start_time": "2022-12-01T10:56:38.434Z"
   },
   {
    "duration": 6,
    "start_time": "2022-12-01T10:56:38.449Z"
   },
   {
    "duration": 16,
    "start_time": "2022-12-01T10:56:38.457Z"
   },
   {
    "duration": 7,
    "start_time": "2022-12-01T10:56:38.475Z"
   },
   {
    "duration": 9,
    "start_time": "2022-12-01T10:56:38.483Z"
   },
   {
    "duration": 29,
    "start_time": "2022-12-01T10:56:38.493Z"
   },
   {
    "duration": 2,
    "start_time": "2022-12-01T10:56:38.524Z"
   },
   {
    "duration": 15,
    "start_time": "2022-12-01T10:56:38.528Z"
   },
   {
    "duration": 8,
    "start_time": "2022-12-01T10:56:38.544Z"
   },
   {
    "duration": 66,
    "start_time": "2022-12-01T10:56:38.554Z"
   },
   {
    "duration": 97,
    "start_time": "2022-12-01T10:56:38.623Z"
   },
   {
    "duration": 99,
    "start_time": "2022-12-01T10:56:38.722Z"
   },
   {
    "duration": 10,
    "start_time": "2022-12-01T10:56:38.823Z"
   },
   {
    "duration": 12,
    "start_time": "2022-12-01T10:56:38.834Z"
   },
   {
    "duration": 7,
    "start_time": "2022-12-01T10:56:38.847Z"
   },
   {
    "duration": 22,
    "start_time": "2022-12-01T10:56:38.856Z"
   },
   {
    "duration": 6,
    "start_time": "2022-12-01T10:56:38.880Z"
   },
   {
    "duration": 11,
    "start_time": "2022-12-01T10:56:38.888Z"
   },
   {
    "duration": 19,
    "start_time": "2022-12-01T10:56:38.901Z"
   },
   {
    "duration": 10,
    "start_time": "2022-12-01T10:56:38.922Z"
   },
   {
    "duration": 5,
    "start_time": "2022-12-01T10:56:38.934Z"
   },
   {
    "duration": 8,
    "start_time": "2022-12-01T10:56:38.940Z"
   },
   {
    "duration": 8,
    "start_time": "2022-12-01T10:56:38.951Z"
   },
   {
    "duration": 7,
    "start_time": "2022-12-01T10:56:38.961Z"
   },
   {
    "duration": 15,
    "start_time": "2022-12-01T10:56:38.970Z"
   },
   {
    "duration": 4,
    "start_time": "2022-12-01T10:56:38.987Z"
   },
   {
    "duration": 7,
    "start_time": "2022-12-01T10:56:38.993Z"
   },
   {
    "duration": 5,
    "start_time": "2022-12-01T10:56:39.011Z"
   },
   {
    "duration": 1447,
    "start_time": "2022-12-01T10:56:39.017Z"
   },
   {
    "duration": 6,
    "start_time": "2022-12-01T10:56:40.466Z"
   },
   {
    "duration": 25,
    "start_time": "2022-12-01T10:56:40.474Z"
   },
   {
    "duration": 11,
    "start_time": "2022-12-01T10:56:40.501Z"
   },
   {
    "duration": 30,
    "start_time": "2022-12-01T10:56:40.514Z"
   },
   {
    "duration": 1466,
    "start_time": "2022-12-01T10:56:40.546Z"
   },
   {
    "duration": 6,
    "start_time": "2022-12-01T10:56:42.014Z"
   },
   {
    "duration": 12,
    "start_time": "2022-12-01T10:56:42.021Z"
   },
   {
    "duration": 7,
    "start_time": "2022-12-01T10:56:42.036Z"
   },
   {
    "duration": 11,
    "start_time": "2022-12-01T10:56:42.044Z"
   },
   {
    "duration": 2461,
    "start_time": "2022-12-01T10:56:42.056Z"
   },
   {
    "duration": 5,
    "start_time": "2022-12-01T10:56:44.519Z"
   },
   {
    "duration": 32,
    "start_time": "2022-12-01T10:56:44.526Z"
   },
   {
    "duration": 8,
    "start_time": "2022-12-01T10:56:44.559Z"
   },
   {
    "duration": 9,
    "start_time": "2022-12-01T10:56:44.568Z"
   },
   {
    "duration": 1425,
    "start_time": "2022-12-01T11:01:30.428Z"
   },
   {
    "duration": 399,
    "start_time": "2022-12-01T11:01:31.855Z"
   },
   {
    "duration": 16,
    "start_time": "2022-12-01T11:01:32.256Z"
   },
   {
    "duration": 786,
    "start_time": "2022-12-01T11:01:32.274Z"
   },
   {
    "duration": 38,
    "start_time": "2022-12-01T11:01:33.062Z"
   },
   {
    "duration": 16,
    "start_time": "2022-12-01T11:01:33.112Z"
   },
   {
    "duration": 19,
    "start_time": "2022-12-01T11:01:33.130Z"
   },
   {
    "duration": 22,
    "start_time": "2022-12-01T11:01:33.151Z"
   },
   {
    "duration": 42,
    "start_time": "2022-12-01T11:01:33.174Z"
   },
   {
    "duration": 7,
    "start_time": "2022-12-01T11:01:33.219Z"
   },
   {
    "duration": 17,
    "start_time": "2022-12-01T11:01:33.228Z"
   },
   {
    "duration": 852,
    "start_time": "2022-12-01T11:01:33.247Z"
   },
   {
    "duration": 44,
    "start_time": "2022-12-01T11:01:34.102Z"
   },
   {
    "duration": 16,
    "start_time": "2022-12-01T11:01:34.148Z"
   },
   {
    "duration": 52,
    "start_time": "2022-12-01T11:01:34.166Z"
   },
   {
    "duration": 25,
    "start_time": "2022-12-01T11:01:34.220Z"
   },
   {
    "duration": 18,
    "start_time": "2022-12-01T11:01:34.247Z"
   },
   {
    "duration": 7,
    "start_time": "2022-12-01T11:01:34.267Z"
   },
   {
    "duration": 39,
    "start_time": "2022-12-01T11:01:34.276Z"
   },
   {
    "duration": 799,
    "start_time": "2022-12-01T11:01:34.317Z"
   },
   {
    "duration": 38,
    "start_time": "2022-12-01T11:01:35.118Z"
   },
   {
    "duration": 16,
    "start_time": "2022-12-01T11:01:35.158Z"
   },
   {
    "duration": 40,
    "start_time": "2022-12-01T11:01:35.175Z"
   },
   {
    "duration": 26,
    "start_time": "2022-12-01T11:01:35.217Z"
   },
   {
    "duration": 17,
    "start_time": "2022-12-01T11:01:35.244Z"
   },
   {
    "duration": 6,
    "start_time": "2022-12-01T11:01:35.263Z"
   },
   {
    "duration": 21,
    "start_time": "2022-12-01T11:01:35.271Z"
   },
   {
    "duration": 8,
    "start_time": "2022-12-01T11:01:35.311Z"
   },
   {
    "duration": 15,
    "start_time": "2022-12-01T11:01:35.321Z"
   },
   {
    "duration": 6,
    "start_time": "2022-12-01T11:01:35.338Z"
   },
   {
    "duration": 7,
    "start_time": "2022-12-01T11:01:35.346Z"
   },
   {
    "duration": 19,
    "start_time": "2022-12-01T11:01:35.355Z"
   },
   {
    "duration": 40,
    "start_time": "2022-12-01T11:01:35.376Z"
   },
   {
    "duration": 98,
    "start_time": "2022-12-01T11:01:35.418Z"
   },
   {
    "duration": 96,
    "start_time": "2022-12-01T11:01:35.518Z"
   },
   {
    "duration": 100,
    "start_time": "2022-12-01T11:01:35.620Z"
   },
   {
    "duration": 5,
    "start_time": "2022-12-01T11:01:35.722Z"
   },
   {
    "duration": 8,
    "start_time": "2022-12-01T11:01:35.728Z"
   },
   {
    "duration": 11,
    "start_time": "2022-12-01T11:01:35.737Z"
   },
   {
    "duration": 11,
    "start_time": "2022-12-01T11:01:35.750Z"
   },
   {
    "duration": 8,
    "start_time": "2022-12-01T11:01:35.763Z"
   },
   {
    "duration": 18,
    "start_time": "2022-12-01T11:01:35.773Z"
   },
   {
    "duration": 19,
    "start_time": "2022-12-01T11:01:35.793Z"
   },
   {
    "duration": 17,
    "start_time": "2022-12-01T11:01:35.814Z"
   },
   {
    "duration": 27,
    "start_time": "2022-12-01T11:01:35.833Z"
   },
   {
    "duration": 18,
    "start_time": "2022-12-01T11:01:35.862Z"
   },
   {
    "duration": 17,
    "start_time": "2022-12-01T11:01:35.882Z"
   },
   {
    "duration": 17,
    "start_time": "2022-12-01T11:01:35.900Z"
   },
   {
    "duration": 197,
    "start_time": "2022-12-01T11:01:35.918Z"
   },
   {
    "duration": 195,
    "start_time": "2022-12-01T11:01:36.119Z"
   },
   {
    "duration": 19,
    "start_time": "2022-12-01T11:01:36.316Z"
   },
   {
    "duration": 28,
    "start_time": "2022-12-01T11:01:36.338Z"
   },
   {
    "duration": 37,
    "start_time": "2022-12-01T11:01:36.368Z"
   },
   {
    "duration": 16,
    "start_time": "2022-12-01T11:01:36.408Z"
   },
   {
    "duration": 21,
    "start_time": "2022-12-01T11:01:36.427Z"
   },
   {
    "duration": 22,
    "start_time": "2022-12-01T11:01:36.451Z"
   },
   {
    "duration": 15,
    "start_time": "2022-12-01T11:01:36.476Z"
   },
   {
    "duration": 25,
    "start_time": "2022-12-01T11:01:36.493Z"
   },
   {
    "duration": 30,
    "start_time": "2022-12-01T11:01:36.520Z"
   },
   {
    "duration": 17,
    "start_time": "2022-12-01T11:01:36.553Z"
   },
   {
    "duration": 132,
    "start_time": "2022-12-01T11:01:36.613Z"
   },
   {
    "duration": 66,
    "start_time": "2022-12-01T11:01:36.748Z"
   },
   {
    "duration": 102,
    "start_time": "2022-12-01T11:01:36.817Z"
   },
   {
    "duration": 10,
    "start_time": "2022-12-01T11:01:36.921Z"
   },
   {
    "duration": 6,
    "start_time": "2022-12-01T11:01:36.934Z"
   },
   {
    "duration": 15,
    "start_time": "2022-12-01T11:01:36.942Z"
   },
   {
    "duration": 18,
    "start_time": "2022-12-01T11:01:36.959Z"
   },
   {
    "duration": 12,
    "start_time": "2022-12-01T11:01:36.979Z"
   },
   {
    "duration": 7,
    "start_time": "2022-12-01T11:01:36.993Z"
   },
   {
    "duration": 9,
    "start_time": "2022-12-01T11:01:37.002Z"
   },
   {
    "duration": 10,
    "start_time": "2022-12-01T11:01:37.013Z"
   },
   {
    "duration": 13,
    "start_time": "2022-12-01T11:01:37.025Z"
   },
   {
    "duration": 14,
    "start_time": "2022-12-01T11:01:37.040Z"
   },
   {
    "duration": 14,
    "start_time": "2022-12-01T11:01:37.056Z"
   },
   {
    "duration": 16,
    "start_time": "2022-12-01T11:01:37.072Z"
   },
   {
    "duration": 14,
    "start_time": "2022-12-01T11:01:37.090Z"
   },
   {
    "duration": 13,
    "start_time": "2022-12-01T11:01:37.106Z"
   },
   {
    "duration": 9,
    "start_time": "2022-12-01T11:01:37.121Z"
   },
   {
    "duration": 7,
    "start_time": "2022-12-01T11:01:37.132Z"
   },
   {
    "duration": 2286,
    "start_time": "2022-12-01T11:01:37.141Z"
   },
   {
    "duration": 6,
    "start_time": "2022-12-01T11:01:39.429Z"
   },
   {
    "duration": 8,
    "start_time": "2022-12-01T11:01:39.441Z"
   },
   {
    "duration": 63,
    "start_time": "2022-12-01T11:01:39.451Z"
   },
   {
    "duration": 29,
    "start_time": "2022-12-01T11:01:39.516Z"
   },
   {
    "duration": 1779,
    "start_time": "2022-12-01T11:01:39.547Z"
   },
   {
    "duration": 6,
    "start_time": "2022-12-01T11:01:41.328Z"
   },
   {
    "duration": 30,
    "start_time": "2022-12-01T11:01:41.335Z"
   },
   {
    "duration": 24,
    "start_time": "2022-12-01T11:01:41.367Z"
   },
   {
    "duration": 22,
    "start_time": "2022-12-01T11:01:41.393Z"
   },
   {
    "duration": 1450,
    "start_time": "2022-12-01T11:01:41.417Z"
   },
   {
    "duration": 7,
    "start_time": "2022-12-01T11:01:42.870Z"
   },
   {
    "duration": 17,
    "start_time": "2022-12-01T11:01:42.880Z"
   },
   {
    "duration": 26,
    "start_time": "2022-12-01T11:01:42.899Z"
   },
   {
    "duration": 21,
    "start_time": "2022-12-01T11:01:42.927Z"
   },
   {
    "duration": 6,
    "start_time": "2022-12-01T11:05:36.847Z"
   },
   {
    "duration": 5,
    "start_time": "2022-12-01T11:05:41.951Z"
   },
   {
    "duration": 3,
    "start_time": "2022-12-01T11:08:15.066Z"
   },
   {
    "duration": 5,
    "start_time": "2022-12-01T11:08:15.701Z"
   },
   {
    "duration": 4,
    "start_time": "2022-12-01T11:10:18.414Z"
   },
   {
    "duration": 4,
    "start_time": "2022-12-01T11:10:23.247Z"
   },
   {
    "duration": 5,
    "start_time": "2022-12-01T11:10:26.613Z"
   },
   {
    "duration": 3,
    "start_time": "2022-12-01T11:10:55.722Z"
   },
   {
    "duration": 4,
    "start_time": "2022-12-01T11:11:02.714Z"
   },
   {
    "duration": 4,
    "start_time": "2022-12-01T11:11:05.881Z"
   },
   {
    "duration": 4,
    "start_time": "2022-12-01T11:11:31.502Z"
   },
   {
    "duration": 4,
    "start_time": "2022-12-01T11:11:59.985Z"
   },
   {
    "duration": 4,
    "start_time": "2022-12-01T11:12:05.865Z"
   },
   {
    "duration": 4,
    "start_time": "2022-12-01T11:12:17.415Z"
   },
   {
    "duration": 5,
    "start_time": "2022-12-01T11:12:34.677Z"
   },
   {
    "duration": 4,
    "start_time": "2022-12-01T11:12:53.772Z"
   },
   {
    "duration": 4,
    "start_time": "2022-12-01T11:13:01.469Z"
   },
   {
    "duration": 5,
    "start_time": "2022-12-01T11:19:21.699Z"
   },
   {
    "duration": 4,
    "start_time": "2022-12-01T11:19:26.021Z"
   },
   {
    "duration": 6,
    "start_time": "2022-12-01T11:25:54.686Z"
   },
   {
    "duration": 53,
    "start_time": "2022-12-01T11:27:19.921Z"
   },
   {
    "duration": 113,
    "start_time": "2022-12-01T11:27:24.409Z"
   },
   {
    "duration": 5,
    "start_time": "2022-12-01T11:27:35.921Z"
   },
   {
    "duration": 9,
    "start_time": "2022-12-01T11:28:02.730Z"
   },
   {
    "duration": 5,
    "start_time": "2022-12-01T11:28:24.764Z"
   },
   {
    "duration": 4,
    "start_time": "2022-12-01T11:28:31.718Z"
   },
   {
    "duration": 4,
    "start_time": "2022-12-01T11:28:42.103Z"
   },
   {
    "duration": 5,
    "start_time": "2022-12-01T11:28:45.395Z"
   },
   {
    "duration": 4,
    "start_time": "2022-12-01T11:28:57.864Z"
   },
   {
    "duration": 5,
    "start_time": "2022-12-01T11:29:27.337Z"
   },
   {
    "duration": 4,
    "start_time": "2022-12-01T11:29:43.914Z"
   },
   {
    "duration": 5,
    "start_time": "2022-12-01T11:30:02.619Z"
   },
   {
    "duration": 5,
    "start_time": "2022-12-01T11:30:13.938Z"
   },
   {
    "duration": 4,
    "start_time": "2022-12-01T11:45:32.496Z"
   },
   {
    "duration": 4,
    "start_time": "2022-12-01T12:27:54.997Z"
   },
   {
    "duration": 4,
    "start_time": "2022-12-01T12:28:03.427Z"
   },
   {
    "duration": 4,
    "start_time": "2022-12-01T12:28:11.112Z"
   },
   {
    "duration": 65,
    "start_time": "2022-12-01T12:32:00.186Z"
   },
   {
    "duration": 6,
    "start_time": "2022-12-01T12:32:59.290Z"
   },
   {
    "duration": 4,
    "start_time": "2022-12-01T12:34:07.329Z"
   },
   {
    "duration": 5,
    "start_time": "2022-12-01T12:34:23.012Z"
   },
   {
    "duration": 5,
    "start_time": "2022-12-01T12:34:41.761Z"
   },
   {
    "duration": 3,
    "start_time": "2022-12-01T12:36:13.807Z"
   },
   {
    "duration": 4,
    "start_time": "2022-12-01T12:36:32.723Z"
   },
   {
    "duration": 10,
    "start_time": "2022-12-01T13:07:55.762Z"
   },
   {
    "duration": 1558,
    "start_time": "2022-12-01T13:08:03.331Z"
   },
   {
    "duration": 394,
    "start_time": "2022-12-01T13:08:04.892Z"
   },
   {
    "duration": 25,
    "start_time": "2022-12-01T13:08:05.288Z"
   },
   {
    "duration": 856,
    "start_time": "2022-12-01T13:08:05.316Z"
   },
   {
    "duration": 51,
    "start_time": "2022-12-01T13:08:06.174Z"
   },
   {
    "duration": 17,
    "start_time": "2022-12-01T13:08:06.227Z"
   },
   {
    "duration": 21,
    "start_time": "2022-12-01T13:08:06.246Z"
   },
   {
    "duration": 47,
    "start_time": "2022-12-01T13:08:06.269Z"
   },
   {
    "duration": 20,
    "start_time": "2022-12-01T13:08:06.318Z"
   },
   {
    "duration": 7,
    "start_time": "2022-12-01T13:08:06.340Z"
   },
   {
    "duration": 19,
    "start_time": "2022-12-01T13:08:06.349Z"
   },
   {
    "duration": 942,
    "start_time": "2022-12-01T13:08:06.370Z"
   },
   {
    "duration": 37,
    "start_time": "2022-12-01T13:08:07.314Z"
   },
   {
    "duration": 15,
    "start_time": "2022-12-01T13:08:07.353Z"
   },
   {
    "duration": 25,
    "start_time": "2022-12-01T13:08:07.369Z"
   },
   {
    "duration": 19,
    "start_time": "2022-12-01T13:08:07.413Z"
   },
   {
    "duration": 19,
    "start_time": "2022-12-01T13:08:07.433Z"
   },
   {
    "duration": 8,
    "start_time": "2022-12-01T13:08:07.454Z"
   },
   {
    "duration": 19,
    "start_time": "2022-12-01T13:08:07.464Z"
   },
   {
    "duration": 823,
    "start_time": "2022-12-01T13:08:07.485Z"
   },
   {
    "duration": 38,
    "start_time": "2022-12-01T13:08:08.309Z"
   },
   {
    "duration": 16,
    "start_time": "2022-12-01T13:08:08.348Z"
   },
   {
    "duration": 59,
    "start_time": "2022-12-01T13:08:08.365Z"
   },
   {
    "duration": 23,
    "start_time": "2022-12-01T13:08:08.426Z"
   },
   {
    "duration": 69,
    "start_time": "2022-12-01T13:08:08.451Z"
   },
   {
    "duration": 10,
    "start_time": "2022-12-01T13:08:08.521Z"
   },
   {
    "duration": 12,
    "start_time": "2022-12-01T13:08:08.532Z"
   },
   {
    "duration": 6,
    "start_time": "2022-12-01T13:08:08.549Z"
   },
   {
    "duration": 57,
    "start_time": "2022-12-01T13:08:08.558Z"
   },
   {
    "duration": 15,
    "start_time": "2022-12-01T13:08:08.617Z"
   },
   {
    "duration": 212,
    "start_time": "2022-12-01T13:08:08.635Z"
   },
   {
    "duration": 0,
    "start_time": "2022-12-01T13:08:08.849Z"
   },
   {
    "duration": 0,
    "start_time": "2022-12-01T13:08:08.851Z"
   },
   {
    "duration": 0,
    "start_time": "2022-12-01T13:08:08.851Z"
   },
   {
    "duration": 0,
    "start_time": "2022-12-01T13:08:08.852Z"
   },
   {
    "duration": 0,
    "start_time": "2022-12-01T13:08:08.854Z"
   },
   {
    "duration": 0,
    "start_time": "2022-12-01T13:08:08.854Z"
   },
   {
    "duration": 0,
    "start_time": "2022-12-01T13:08:08.912Z"
   },
   {
    "duration": 0,
    "start_time": "2022-12-01T13:08:08.914Z"
   },
   {
    "duration": 0,
    "start_time": "2022-12-01T13:08:08.915Z"
   },
   {
    "duration": 0,
    "start_time": "2022-12-01T13:08:08.916Z"
   },
   {
    "duration": 0,
    "start_time": "2022-12-01T13:08:08.917Z"
   },
   {
    "duration": 0,
    "start_time": "2022-12-01T13:08:08.918Z"
   },
   {
    "duration": 0,
    "start_time": "2022-12-01T13:08:08.919Z"
   },
   {
    "duration": 0,
    "start_time": "2022-12-01T13:08:08.920Z"
   },
   {
    "duration": 0,
    "start_time": "2022-12-01T13:08:08.921Z"
   },
   {
    "duration": 0,
    "start_time": "2022-12-01T13:08:08.922Z"
   },
   {
    "duration": 0,
    "start_time": "2022-12-01T13:08:08.923Z"
   },
   {
    "duration": 0,
    "start_time": "2022-12-01T13:08:08.924Z"
   },
   {
    "duration": 0,
    "start_time": "2022-12-01T13:08:08.925Z"
   },
   {
    "duration": 0,
    "start_time": "2022-12-01T13:08:08.926Z"
   },
   {
    "duration": 0,
    "start_time": "2022-12-01T13:08:08.927Z"
   },
   {
    "duration": 0,
    "start_time": "2022-12-01T13:08:08.929Z"
   },
   {
    "duration": 0,
    "start_time": "2022-12-01T13:08:08.930Z"
   },
   {
    "duration": 0,
    "start_time": "2022-12-01T13:08:08.931Z"
   },
   {
    "duration": 0,
    "start_time": "2022-12-01T13:08:08.933Z"
   },
   {
    "duration": 0,
    "start_time": "2022-12-01T13:08:08.933Z"
   },
   {
    "duration": 0,
    "start_time": "2022-12-01T13:08:08.935Z"
   },
   {
    "duration": 0,
    "start_time": "2022-12-01T13:08:08.936Z"
   },
   {
    "duration": 0,
    "start_time": "2022-12-01T13:08:08.937Z"
   },
   {
    "duration": 0,
    "start_time": "2022-12-01T13:08:08.938Z"
   },
   {
    "duration": 0,
    "start_time": "2022-12-01T13:08:08.939Z"
   },
   {
    "duration": 0,
    "start_time": "2022-12-01T13:08:08.940Z"
   },
   {
    "duration": 0,
    "start_time": "2022-12-01T13:08:08.941Z"
   },
   {
    "duration": 0,
    "start_time": "2022-12-01T13:08:08.942Z"
   },
   {
    "duration": 0,
    "start_time": "2022-12-01T13:08:08.943Z"
   },
   {
    "duration": 0,
    "start_time": "2022-12-01T13:08:08.944Z"
   },
   {
    "duration": 0,
    "start_time": "2022-12-01T13:08:08.945Z"
   },
   {
    "duration": 0,
    "start_time": "2022-12-01T13:08:08.947Z"
   },
   {
    "duration": 0,
    "start_time": "2022-12-01T13:08:09.012Z"
   },
   {
    "duration": 0,
    "start_time": "2022-12-01T13:08:09.014Z"
   },
   {
    "duration": 0,
    "start_time": "2022-12-01T13:08:09.015Z"
   },
   {
    "duration": 0,
    "start_time": "2022-12-01T13:08:09.016Z"
   },
   {
    "duration": 0,
    "start_time": "2022-12-01T13:08:09.017Z"
   },
   {
    "duration": 0,
    "start_time": "2022-12-01T13:08:09.018Z"
   },
   {
    "duration": 0,
    "start_time": "2022-12-01T13:08:09.019Z"
   },
   {
    "duration": 0,
    "start_time": "2022-12-01T13:08:09.020Z"
   },
   {
    "duration": 0,
    "start_time": "2022-12-01T13:08:09.021Z"
   },
   {
    "duration": 0,
    "start_time": "2022-12-01T13:08:09.022Z"
   },
   {
    "duration": 0,
    "start_time": "2022-12-01T13:08:09.023Z"
   },
   {
    "duration": 0,
    "start_time": "2022-12-01T13:08:09.024Z"
   },
   {
    "duration": 0,
    "start_time": "2022-12-01T13:08:09.025Z"
   },
   {
    "duration": 0,
    "start_time": "2022-12-01T13:08:09.026Z"
   },
   {
    "duration": 0,
    "start_time": "2022-12-01T13:08:09.027Z"
   },
   {
    "duration": 0,
    "start_time": "2022-12-01T13:08:09.028Z"
   },
   {
    "duration": 0,
    "start_time": "2022-12-01T13:08:09.029Z"
   },
   {
    "duration": 1,
    "start_time": "2022-12-01T13:08:09.030Z"
   },
   {
    "duration": 0,
    "start_time": "2022-12-01T13:08:09.032Z"
   },
   {
    "duration": 0,
    "start_time": "2022-12-01T13:08:09.033Z"
   },
   {
    "duration": 0,
    "start_time": "2022-12-01T13:08:09.034Z"
   },
   {
    "duration": 0,
    "start_time": "2022-12-01T13:08:09.035Z"
   },
   {
    "duration": 312,
    "start_time": "2022-12-01T13:08:17.744Z"
   },
   {
    "duration": 660,
    "start_time": "2022-12-01T13:08:33.399Z"
   },
   {
    "duration": 1429,
    "start_time": "2022-12-01T13:08:55.906Z"
   },
   {
    "duration": 388,
    "start_time": "2022-12-01T13:08:57.337Z"
   },
   {
    "duration": 16,
    "start_time": "2022-12-01T13:08:57.727Z"
   },
   {
    "duration": 791,
    "start_time": "2022-12-01T13:08:57.745Z"
   },
   {
    "duration": 40,
    "start_time": "2022-12-01T13:08:58.539Z"
   },
   {
    "duration": 33,
    "start_time": "2022-12-01T13:08:58.581Z"
   },
   {
    "duration": 21,
    "start_time": "2022-12-01T13:08:58.615Z"
   },
   {
    "duration": 28,
    "start_time": "2022-12-01T13:08:58.638Z"
   },
   {
    "duration": 19,
    "start_time": "2022-12-01T13:08:58.667Z"
   },
   {
    "duration": 29,
    "start_time": "2022-12-01T13:08:58.688Z"
   },
   {
    "duration": 21,
    "start_time": "2022-12-01T13:08:58.719Z"
   },
   {
    "duration": 883,
    "start_time": "2022-12-01T13:08:58.742Z"
   },
   {
    "duration": 36,
    "start_time": "2022-12-01T13:08:59.627Z"
   },
   {
    "duration": 15,
    "start_time": "2022-12-01T13:08:59.666Z"
   },
   {
    "duration": 39,
    "start_time": "2022-12-01T13:08:59.683Z"
   },
   {
    "duration": 23,
    "start_time": "2022-12-01T13:08:59.724Z"
   },
   {
    "duration": 16,
    "start_time": "2022-12-01T13:08:59.749Z"
   },
   {
    "duration": 6,
    "start_time": "2022-12-01T13:08:59.766Z"
   },
   {
    "duration": 39,
    "start_time": "2022-12-01T13:08:59.774Z"
   },
   {
    "duration": 771,
    "start_time": "2022-12-01T13:08:59.815Z"
   },
   {
    "duration": 47,
    "start_time": "2022-12-01T13:09:00.589Z"
   },
   {
    "duration": 18,
    "start_time": "2022-12-01T13:09:00.638Z"
   },
   {
    "duration": 21,
    "start_time": "2022-12-01T13:09:00.658Z"
   },
   {
    "duration": 43,
    "start_time": "2022-12-01T13:09:00.680Z"
   },
   {
    "duration": 24,
    "start_time": "2022-12-01T13:09:00.724Z"
   },
   {
    "duration": 22,
    "start_time": "2022-12-01T13:09:00.750Z"
   },
   {
    "duration": 24,
    "start_time": "2022-12-01T13:09:00.774Z"
   },
   {
    "duration": 32,
    "start_time": "2022-12-01T13:09:00.800Z"
   },
   {
    "duration": 28,
    "start_time": "2022-12-01T13:09:00.835Z"
   },
   {
    "duration": 38,
    "start_time": "2022-12-01T13:09:00.865Z"
   },
   {
    "duration": 16,
    "start_time": "2022-12-01T13:09:00.904Z"
   },
   {
    "duration": 47,
    "start_time": "2022-12-01T13:09:00.922Z"
   },
   {
    "duration": 44,
    "start_time": "2022-12-01T13:09:00.971Z"
   },
   {
    "duration": 123,
    "start_time": "2022-12-01T13:09:01.018Z"
   },
   {
    "duration": 41,
    "start_time": "2022-12-01T13:09:01.143Z"
   },
   {
    "duration": 56,
    "start_time": "2022-12-01T13:09:01.186Z"
   },
   {
    "duration": 83,
    "start_time": "2022-12-01T13:09:01.244Z"
   },
   {
    "duration": 35,
    "start_time": "2022-12-01T13:09:01.329Z"
   },
   {
    "duration": 35,
    "start_time": "2022-12-01T13:09:01.366Z"
   },
   {
    "duration": 7,
    "start_time": "2022-12-01T13:09:01.403Z"
   },
   {
    "duration": 11,
    "start_time": "2022-12-01T13:09:01.417Z"
   },
   {
    "duration": 31,
    "start_time": "2022-12-01T13:09:01.430Z"
   },
   {
    "duration": 3,
    "start_time": "2022-12-01T13:09:01.463Z"
   },
   {
    "duration": 18,
    "start_time": "2022-12-01T13:09:01.467Z"
   },
   {
    "duration": 29,
    "start_time": "2022-12-01T13:09:01.486Z"
   },
   {
    "duration": 99,
    "start_time": "2022-12-01T13:09:01.518Z"
   },
   {
    "duration": 97,
    "start_time": "2022-12-01T13:09:01.619Z"
   },
   {
    "duration": 11,
    "start_time": "2022-12-01T13:09:01.718Z"
   },
   {
    "duration": 6,
    "start_time": "2022-12-01T13:09:01.732Z"
   },
   {
    "duration": 12,
    "start_time": "2022-12-01T13:09:01.739Z"
   },
   {
    "duration": 59,
    "start_time": "2022-12-01T13:09:01.753Z"
   },
   {
    "duration": 10,
    "start_time": "2022-12-01T13:09:01.814Z"
   },
   {
    "duration": 19,
    "start_time": "2022-12-01T13:09:01.825Z"
   },
   {
    "duration": 67,
    "start_time": "2022-12-01T13:09:01.846Z"
   },
   {
    "duration": 3,
    "start_time": "2022-12-01T13:09:01.914Z"
   },
   {
    "duration": 22,
    "start_time": "2022-12-01T13:09:01.919Z"
   },
   {
    "duration": 70,
    "start_time": "2022-12-01T13:09:01.942Z"
   },
   {
    "duration": 111,
    "start_time": "2022-12-01T13:09:02.014Z"
   },
   {
    "duration": 27,
    "start_time": "2022-12-01T13:09:02.127Z"
   },
   {
    "duration": 10,
    "start_time": "2022-12-01T13:09:02.155Z"
   },
   {
    "duration": 46,
    "start_time": "2022-12-01T13:09:02.167Z"
   },
   {
    "duration": 7,
    "start_time": "2022-12-01T13:09:02.215Z"
   },
   {
    "duration": 4,
    "start_time": "2022-12-01T13:09:02.224Z"
   },
   {
    "duration": 5,
    "start_time": "2022-12-01T13:09:02.230Z"
   },
   {
    "duration": 9,
    "start_time": "2022-12-01T13:09:02.237Z"
   },
   {
    "duration": 6,
    "start_time": "2022-12-01T13:09:02.248Z"
   },
   {
    "duration": 6,
    "start_time": "2022-12-01T13:09:02.255Z"
   },
   {
    "duration": 51,
    "start_time": "2022-12-01T13:09:02.262Z"
   },
   {
    "duration": 6,
    "start_time": "2022-12-01T13:09:02.315Z"
   },
   {
    "duration": 7,
    "start_time": "2022-12-01T13:09:02.322Z"
   },
   {
    "duration": 6,
    "start_time": "2022-12-01T13:09:02.330Z"
   },
   {
    "duration": 7,
    "start_time": "2022-12-01T13:09:02.337Z"
   },
   {
    "duration": 6,
    "start_time": "2022-12-01T13:09:02.346Z"
   },
   {
    "duration": 6,
    "start_time": "2022-12-01T13:09:02.354Z"
   },
   {
    "duration": 51,
    "start_time": "2022-12-01T13:09:02.362Z"
   },
   {
    "duration": 2154,
    "start_time": "2022-12-01T13:09:02.415Z"
   },
   {
    "duration": 4,
    "start_time": "2022-12-01T13:09:04.571Z"
   },
   {
    "duration": 7,
    "start_time": "2022-12-01T13:09:04.577Z"
   },
   {
    "duration": 6,
    "start_time": "2022-12-01T13:09:04.587Z"
   },
   {
    "duration": 117,
    "start_time": "2022-12-01T13:09:04.613Z"
   },
   {
    "duration": 0,
    "start_time": "2022-12-01T13:09:04.732Z"
   },
   {
    "duration": 0,
    "start_time": "2022-12-01T13:09:04.733Z"
   },
   {
    "duration": 0,
    "start_time": "2022-12-01T13:09:04.735Z"
   },
   {
    "duration": 0,
    "start_time": "2022-12-01T13:09:04.736Z"
   },
   {
    "duration": 0,
    "start_time": "2022-12-01T13:09:04.738Z"
   },
   {
    "duration": 1,
    "start_time": "2022-12-01T13:09:04.739Z"
   },
   {
    "duration": 0,
    "start_time": "2022-12-01T13:09:04.741Z"
   },
   {
    "duration": 0,
    "start_time": "2022-12-01T13:09:04.743Z"
   },
   {
    "duration": 0,
    "start_time": "2022-12-01T13:09:04.744Z"
   },
   {
    "duration": 0,
    "start_time": "2022-12-01T13:09:04.746Z"
   },
   {
    "duration": 4,
    "start_time": "2022-12-01T13:09:42.257Z"
   },
   {
    "duration": 1424,
    "start_time": "2022-12-01T13:09:48.133Z"
   },
   {
    "duration": 380,
    "start_time": "2022-12-01T13:09:49.559Z"
   },
   {
    "duration": 18,
    "start_time": "2022-12-01T13:09:49.941Z"
   },
   {
    "duration": 803,
    "start_time": "2022-12-01T13:09:49.960Z"
   },
   {
    "duration": 49,
    "start_time": "2022-12-01T13:09:50.765Z"
   },
   {
    "duration": 17,
    "start_time": "2022-12-01T13:09:50.815Z"
   },
   {
    "duration": 19,
    "start_time": "2022-12-01T13:09:50.834Z"
   },
   {
    "duration": 23,
    "start_time": "2022-12-01T13:09:50.855Z"
   },
   {
    "duration": 40,
    "start_time": "2022-12-01T13:09:50.879Z"
   },
   {
    "duration": 7,
    "start_time": "2022-12-01T13:09:50.921Z"
   },
   {
    "duration": 19,
    "start_time": "2022-12-01T13:09:50.929Z"
   },
   {
    "duration": 992,
    "start_time": "2022-12-01T13:09:50.950Z"
   },
   {
    "duration": 96,
    "start_time": "2022-12-01T13:09:51.944Z"
   },
   {
    "duration": 69,
    "start_time": "2022-12-01T13:09:52.043Z"
   },
   {
    "duration": 21,
    "start_time": "2022-12-01T13:09:52.114Z"
   },
   {
    "duration": 76,
    "start_time": "2022-12-01T13:09:52.137Z"
   },
   {
    "duration": 21,
    "start_time": "2022-12-01T13:09:52.215Z"
   },
   {
    "duration": 10,
    "start_time": "2022-12-01T13:09:52.238Z"
   },
   {
    "duration": 71,
    "start_time": "2022-12-01T13:09:52.250Z"
   },
   {
    "duration": 1420,
    "start_time": "2022-12-01T13:09:52.323Z"
   },
   {
    "duration": 37,
    "start_time": "2022-12-01T13:09:53.744Z"
   },
   {
    "duration": 33,
    "start_time": "2022-12-01T13:09:53.783Z"
   },
   {
    "duration": 20,
    "start_time": "2022-12-01T13:09:53.818Z"
   },
   {
    "duration": 22,
    "start_time": "2022-12-01T13:09:53.840Z"
   },
   {
    "duration": 22,
    "start_time": "2022-12-01T13:09:53.864Z"
   },
   {
    "duration": 7,
    "start_time": "2022-12-01T13:09:53.888Z"
   },
   {
    "duration": 10,
    "start_time": "2022-12-01T13:09:53.912Z"
   },
   {
    "duration": 9,
    "start_time": "2022-12-01T13:09:53.924Z"
   },
   {
    "duration": 11,
    "start_time": "2022-12-01T13:09:53.934Z"
   },
   {
    "duration": 19,
    "start_time": "2022-12-01T13:09:53.947Z"
   },
   {
    "duration": 3,
    "start_time": "2022-12-01T13:09:53.968Z"
   },
   {
    "duration": 40,
    "start_time": "2022-12-01T13:09:53.972Z"
   },
   {
    "duration": 13,
    "start_time": "2022-12-01T13:09:54.014Z"
   },
   {
    "duration": 186,
    "start_time": "2022-12-01T13:09:54.029Z"
   },
   {
    "duration": 10,
    "start_time": "2022-12-01T13:09:54.217Z"
   },
   {
    "duration": 6,
    "start_time": "2022-12-01T13:09:54.229Z"
   },
   {
    "duration": 9,
    "start_time": "2022-12-01T13:09:54.237Z"
   },
   {
    "duration": 6,
    "start_time": "2022-12-01T13:09:54.248Z"
   },
   {
    "duration": 12,
    "start_time": "2022-12-01T13:09:54.256Z"
   },
   {
    "duration": 9,
    "start_time": "2022-12-01T13:09:54.270Z"
   },
   {
    "duration": 33,
    "start_time": "2022-12-01T13:09:54.284Z"
   },
   {
    "duration": 23,
    "start_time": "2022-12-01T13:09:54.319Z"
   },
   {
    "duration": 3,
    "start_time": "2022-12-01T13:09:54.344Z"
   },
   {
    "duration": 15,
    "start_time": "2022-12-01T13:09:54.348Z"
   },
   {
    "duration": 48,
    "start_time": "2022-12-01T13:09:54.365Z"
   },
   {
    "duration": 106,
    "start_time": "2022-12-01T13:09:54.416Z"
   },
   {
    "duration": 14,
    "start_time": "2022-12-01T13:09:54.524Z"
   },
   {
    "duration": 5,
    "start_time": "2022-12-01T13:09:54.541Z"
   },
   {
    "duration": 9,
    "start_time": "2022-12-01T13:09:54.548Z"
   },
   {
    "duration": 12,
    "start_time": "2022-12-01T13:09:54.558Z"
   },
   {
    "duration": 18,
    "start_time": "2022-12-01T13:09:54.571Z"
   },
   {
    "duration": 8,
    "start_time": "2022-12-01T13:09:54.591Z"
   },
   {
    "duration": 12,
    "start_time": "2022-12-01T13:09:54.601Z"
   },
   {
    "duration": 16,
    "start_time": "2022-12-01T13:09:54.615Z"
   },
   {
    "duration": 3,
    "start_time": "2022-12-01T13:09:54.632Z"
   },
   {
    "duration": 19,
    "start_time": "2022-12-01T13:09:54.637Z"
   },
   {
    "duration": 5,
    "start_time": "2022-12-01T13:09:54.657Z"
   },
   {
    "duration": 56,
    "start_time": "2022-12-01T13:09:54.666Z"
   },
   {
    "duration": 93,
    "start_time": "2022-12-01T13:09:54.724Z"
   },
   {
    "duration": 7,
    "start_time": "2022-12-01T13:09:54.819Z"
   },
   {
    "duration": 11,
    "start_time": "2022-12-01T13:09:54.828Z"
   },
   {
    "duration": 11,
    "start_time": "2022-12-01T13:09:54.841Z"
   },
   {
    "duration": 7,
    "start_time": "2022-12-01T13:09:54.854Z"
   },
   {
    "duration": 9,
    "start_time": "2022-12-01T13:09:54.863Z"
   },
   {
    "duration": 11,
    "start_time": "2022-12-01T13:09:54.874Z"
   },
   {
    "duration": 14,
    "start_time": "2022-12-01T13:09:54.887Z"
   },
   {
    "duration": 8,
    "start_time": "2022-12-01T13:09:54.904Z"
   },
   {
    "duration": 7,
    "start_time": "2022-12-01T13:09:54.913Z"
   },
   {
    "duration": 8,
    "start_time": "2022-12-01T13:09:54.921Z"
   },
   {
    "duration": 14,
    "start_time": "2022-12-01T13:09:54.931Z"
   },
   {
    "duration": 8,
    "start_time": "2022-12-01T13:09:54.947Z"
   },
   {
    "duration": 8,
    "start_time": "2022-12-01T13:09:54.956Z"
   },
   {
    "duration": 6,
    "start_time": "2022-12-01T13:09:54.966Z"
   },
   {
    "duration": 9,
    "start_time": "2022-12-01T13:09:54.974Z"
   },
   {
    "duration": 6,
    "start_time": "2022-12-01T13:09:54.985Z"
   },
   {
    "duration": 2670,
    "start_time": "2022-12-01T13:09:54.993Z"
   },
   {
    "duration": 5,
    "start_time": "2022-12-01T13:09:57.664Z"
   },
   {
    "duration": 27,
    "start_time": "2022-12-01T13:09:57.671Z"
   },
   {
    "duration": 32,
    "start_time": "2022-12-01T13:09:57.700Z"
   },
   {
    "duration": 10,
    "start_time": "2022-12-01T13:09:57.734Z"
   },
   {
    "duration": 1458,
    "start_time": "2022-12-01T13:09:57.745Z"
   },
   {
    "duration": 11,
    "start_time": "2022-12-01T13:09:59.204Z"
   },
   {
    "duration": 37,
    "start_time": "2022-12-01T13:09:59.216Z"
   },
   {
    "duration": 42,
    "start_time": "2022-12-01T13:09:59.254Z"
   },
   {
    "duration": 26,
    "start_time": "2022-12-01T13:09:59.297Z"
   },
   {
    "duration": 1495,
    "start_time": "2022-12-01T13:09:59.325Z"
   },
   {
    "duration": 4,
    "start_time": "2022-12-01T13:10:00.822Z"
   },
   {
    "duration": 26,
    "start_time": "2022-12-01T13:10:00.827Z"
   },
   {
    "duration": 20,
    "start_time": "2022-12-01T13:10:00.855Z"
   },
   {
    "duration": 38,
    "start_time": "2022-12-01T13:10:00.877Z"
   },
   {
    "duration": 50,
    "start_time": "2022-12-01T13:13:30.082Z"
   },
   {
    "duration": 5,
    "start_time": "2022-12-01T13:13:37.008Z"
   },
   {
    "duration": 4,
    "start_time": "2022-12-01T13:14:13.640Z"
   },
   {
    "duration": 5,
    "start_time": "2022-12-01T13:14:27.458Z"
   },
   {
    "duration": 49,
    "start_time": "2022-12-01T13:18:38.691Z"
   },
   {
    "duration": 5,
    "start_time": "2022-12-01T13:18:50.597Z"
   },
   {
    "duration": 5,
    "start_time": "2022-12-01T13:18:55.393Z"
   },
   {
    "duration": 3,
    "start_time": "2022-12-01T13:20:04.484Z"
   },
   {
    "duration": 4,
    "start_time": "2022-12-01T13:20:12.975Z"
   },
   {
    "duration": 4,
    "start_time": "2022-12-01T13:20:45.191Z"
   },
   {
    "duration": 4,
    "start_time": "2022-12-01T13:20:49.957Z"
   },
   {
    "duration": 4,
    "start_time": "2022-12-01T13:21:27.210Z"
   },
   {
    "duration": 5,
    "start_time": "2022-12-01T13:24:02.864Z"
   },
   {
    "duration": 6,
    "start_time": "2022-12-01T13:25:13.226Z"
   },
   {
    "duration": 5,
    "start_time": "2022-12-01T13:26:06.436Z"
   },
   {
    "duration": 4,
    "start_time": "2022-12-01T13:26:11.184Z"
   },
   {
    "duration": 4,
    "start_time": "2022-12-01T13:26:18.268Z"
   },
   {
    "duration": 4,
    "start_time": "2022-12-01T13:26:22.557Z"
   },
   {
    "duration": 6,
    "start_time": "2022-12-01T13:26:52.832Z"
   },
   {
    "duration": 12,
    "start_time": "2022-12-01T13:27:33.993Z"
   },
   {
    "duration": 6,
    "start_time": "2022-12-01T13:27:40.971Z"
   },
   {
    "duration": 4,
    "start_time": "2022-12-01T13:27:52.343Z"
   },
   {
    "duration": 7,
    "start_time": "2022-12-01T13:27:59.692Z"
   },
   {
    "duration": 4,
    "start_time": "2022-12-01T13:28:07.580Z"
   },
   {
    "duration": 4,
    "start_time": "2022-12-01T13:28:11.912Z"
   },
   {
    "duration": 3,
    "start_time": "2022-12-01T13:28:17.620Z"
   },
   {
    "duration": 5,
    "start_time": "2022-12-01T13:28:23.511Z"
   },
   {
    "duration": 112,
    "start_time": "2022-12-01T13:29:31.810Z"
   },
   {
    "duration": 160,
    "start_time": "2022-12-01T13:29:42.837Z"
   },
   {
    "duration": 156,
    "start_time": "2022-12-01T13:29:48.600Z"
   },
   {
    "duration": 4,
    "start_time": "2022-12-01T13:36:53.356Z"
   },
   {
    "duration": 5,
    "start_time": "2022-12-01T13:37:04.605Z"
   },
   {
    "duration": 5,
    "start_time": "2022-12-01T13:38:00.784Z"
   },
   {
    "duration": 5,
    "start_time": "2022-12-01T13:40:59.349Z"
   },
   {
    "duration": 4,
    "start_time": "2022-12-01T13:41:13.300Z"
   },
   {
    "duration": 1396,
    "start_time": "2022-12-02T01:57:23.543Z"
   },
   {
    "duration": 605,
    "start_time": "2022-12-02T01:57:24.941Z"
   },
   {
    "duration": 17,
    "start_time": "2022-12-02T01:57:25.547Z"
   },
   {
    "duration": 678,
    "start_time": "2022-12-02T01:57:25.566Z"
   },
   {
    "duration": 42,
    "start_time": "2022-12-02T01:57:26.246Z"
   },
   {
    "duration": 29,
    "start_time": "2022-12-02T01:57:26.290Z"
   },
   {
    "duration": 21,
    "start_time": "2022-12-02T01:57:26.321Z"
   },
   {
    "duration": 22,
    "start_time": "2022-12-02T01:57:26.344Z"
   },
   {
    "duration": 16,
    "start_time": "2022-12-02T01:57:26.367Z"
   },
   {
    "duration": 6,
    "start_time": "2022-12-02T01:57:26.385Z"
   },
   {
    "duration": 33,
    "start_time": "2022-12-02T01:57:26.392Z"
   },
   {
    "duration": 721,
    "start_time": "2022-12-02T01:57:26.427Z"
   },
   {
    "duration": 33,
    "start_time": "2022-12-02T01:57:27.149Z"
   },
   {
    "duration": 13,
    "start_time": "2022-12-02T01:57:27.184Z"
   },
   {
    "duration": 30,
    "start_time": "2022-12-02T01:57:27.199Z"
   },
   {
    "duration": 17,
    "start_time": "2022-12-02T01:57:27.230Z"
   },
   {
    "duration": 24,
    "start_time": "2022-12-02T01:57:27.249Z"
   },
   {
    "duration": 6,
    "start_time": "2022-12-02T01:57:27.275Z"
   },
   {
    "duration": 16,
    "start_time": "2022-12-02T01:57:27.282Z"
   },
   {
    "duration": 661,
    "start_time": "2022-12-02T01:57:27.300Z"
   },
   {
    "duration": 34,
    "start_time": "2022-12-02T01:57:27.962Z"
   },
   {
    "duration": 21,
    "start_time": "2022-12-02T01:57:27.997Z"
   },
   {
    "duration": 15,
    "start_time": "2022-12-02T01:57:28.020Z"
   },
   {
    "duration": 18,
    "start_time": "2022-12-02T01:57:28.037Z"
   },
   {
    "duration": 18,
    "start_time": "2022-12-02T01:57:28.056Z"
   },
   {
    "duration": 6,
    "start_time": "2022-12-02T01:57:28.075Z"
   },
   {
    "duration": 33,
    "start_time": "2022-12-02T01:57:28.082Z"
   },
   {
    "duration": 6,
    "start_time": "2022-12-02T01:57:28.119Z"
   },
   {
    "duration": 8,
    "start_time": "2022-12-02T01:57:28.127Z"
   },
   {
    "duration": 17,
    "start_time": "2022-12-02T01:57:28.136Z"
   },
   {
    "duration": 2,
    "start_time": "2022-12-02T01:57:28.155Z"
   },
   {
    "duration": 15,
    "start_time": "2022-12-02T01:57:28.159Z"
   },
   {
    "duration": 105,
    "start_time": "2022-12-02T01:57:28.218Z"
   },
   {
    "duration": 197,
    "start_time": "2022-12-02T01:57:28.325Z"
   },
   {
    "duration": 36,
    "start_time": "2022-12-02T01:57:28.523Z"
   },
   {
    "duration": 20,
    "start_time": "2022-12-02T01:57:28.560Z"
   },
   {
    "duration": 44,
    "start_time": "2022-12-02T01:57:28.582Z"
   },
   {
    "duration": 23,
    "start_time": "2022-12-02T01:57:28.628Z"
   },
   {
    "duration": 45,
    "start_time": "2022-12-02T01:57:28.652Z"
   },
   {
    "duration": 30,
    "start_time": "2022-12-02T01:57:28.699Z"
   },
   {
    "duration": 18,
    "start_time": "2022-12-02T01:57:28.730Z"
   },
   {
    "duration": 25,
    "start_time": "2022-12-02T01:57:28.749Z"
   },
   {
    "duration": 38,
    "start_time": "2022-12-02T01:57:28.775Z"
   },
   {
    "duration": 17,
    "start_time": "2022-12-02T01:57:28.815Z"
   },
   {
    "duration": 38,
    "start_time": "2022-12-02T01:57:28.834Z"
   },
   {
    "duration": 16,
    "start_time": "2022-12-02T01:57:28.873Z"
   },
   {
    "duration": 30,
    "start_time": "2022-12-02T01:57:28.891Z"
   },
   {
    "duration": 105,
    "start_time": "2022-12-02T01:57:28.923Z"
   },
   {
    "duration": 9,
    "start_time": "2022-12-02T01:57:29.030Z"
   },
   {
    "duration": 8,
    "start_time": "2022-12-02T01:57:29.040Z"
   },
   {
    "duration": 7,
    "start_time": "2022-12-02T01:57:29.049Z"
   },
   {
    "duration": 12,
    "start_time": "2022-12-02T01:57:29.057Z"
   },
   {
    "duration": 18,
    "start_time": "2022-12-02T01:57:29.070Z"
   },
   {
    "duration": 10,
    "start_time": "2022-12-02T01:57:29.089Z"
   },
   {
    "duration": 13,
    "start_time": "2022-12-02T01:57:29.100Z"
   },
   {
    "duration": 18,
    "start_time": "2022-12-02T01:57:29.114Z"
   },
   {
    "duration": 4,
    "start_time": "2022-12-02T01:57:29.133Z"
   },
   {
    "duration": 15,
    "start_time": "2022-12-02T01:57:29.139Z"
   },
   {
    "duration": 7,
    "start_time": "2022-12-02T01:57:29.156Z"
   },
   {
    "duration": 152,
    "start_time": "2022-12-02T01:57:29.164Z"
   },
   {
    "duration": 5,
    "start_time": "2022-12-02T01:57:29.317Z"
   },
   {
    "duration": 11,
    "start_time": "2022-12-02T01:57:29.323Z"
   },
   {
    "duration": 8,
    "start_time": "2022-12-02T01:57:29.336Z"
   },
   {
    "duration": 12,
    "start_time": "2022-12-02T01:57:29.345Z"
   },
   {
    "duration": 7,
    "start_time": "2022-12-02T01:57:29.359Z"
   },
   {
    "duration": 21,
    "start_time": "2022-12-02T01:57:29.368Z"
   },
   {
    "duration": 11,
    "start_time": "2022-12-02T01:57:29.390Z"
   },
   {
    "duration": 5,
    "start_time": "2022-12-02T01:57:29.403Z"
   },
   {
    "duration": 4,
    "start_time": "2022-12-02T01:57:29.409Z"
   },
   {
    "duration": 5,
    "start_time": "2022-12-02T01:57:29.415Z"
   },
   {
    "duration": 6,
    "start_time": "2022-12-02T01:57:29.421Z"
   },
   {
    "duration": 7,
    "start_time": "2022-12-02T01:57:29.428Z"
   },
   {
    "duration": 6,
    "start_time": "2022-12-02T01:57:29.436Z"
   },
   {
    "duration": 8,
    "start_time": "2022-12-02T01:57:29.443Z"
   },
   {
    "duration": 8,
    "start_time": "2022-12-02T01:57:29.452Z"
   },
   {
    "duration": 15,
    "start_time": "2022-12-02T01:57:29.462Z"
   },
   {
    "duration": 22,
    "start_time": "2022-12-02T01:57:29.478Z"
   },
   {
    "duration": 15,
    "start_time": "2022-12-02T01:57:29.502Z"
   },
   {
    "duration": 1275,
    "start_time": "2022-12-02T01:57:29.519Z"
   },
   {
    "duration": 4,
    "start_time": "2022-12-02T01:57:30.795Z"
   },
   {
    "duration": 18,
    "start_time": "2022-12-02T01:57:30.801Z"
   },
   {
    "duration": 22,
    "start_time": "2022-12-02T01:57:30.824Z"
   },
   {
    "duration": 24,
    "start_time": "2022-12-02T01:57:30.847Z"
   },
   {
    "duration": 1206,
    "start_time": "2022-12-02T01:57:30.873Z"
   },
   {
    "duration": 4,
    "start_time": "2022-12-02T01:57:32.081Z"
   },
   {
    "duration": 15,
    "start_time": "2022-12-02T01:57:32.087Z"
   },
   {
    "duration": 5,
    "start_time": "2022-12-02T01:57:32.104Z"
   },
   {
    "duration": 8,
    "start_time": "2022-12-02T01:57:32.116Z"
   },
   {
    "duration": 1201,
    "start_time": "2022-12-02T01:57:32.126Z"
   },
   {
    "duration": 4,
    "start_time": "2022-12-02T01:57:33.329Z"
   },
   {
    "duration": 7,
    "start_time": "2022-12-02T01:57:33.334Z"
   },
   {
    "duration": 5,
    "start_time": "2022-12-02T01:57:33.343Z"
   },
   {
    "duration": 5,
    "start_time": "2022-12-02T01:57:33.350Z"
   },
   {
    "duration": 3,
    "start_time": "2022-12-02T02:07:19.527Z"
   },
   {
    "duration": 5,
    "start_time": "2022-12-02T02:07:36.344Z"
   },
   {
    "duration": 3,
    "start_time": "2022-12-02T02:07:44.893Z"
   },
   {
    "duration": 4,
    "start_time": "2022-12-02T02:08:44.264Z"
   },
   {
    "duration": 4,
    "start_time": "2022-12-02T02:08:54.241Z"
   },
   {
    "duration": 3,
    "start_time": "2022-12-02T02:10:52.721Z"
   },
   {
    "duration": 4,
    "start_time": "2022-12-02T02:11:24.937Z"
   },
   {
    "duration": 3,
    "start_time": "2022-12-02T02:15:53.163Z"
   },
   {
    "duration": 5,
    "start_time": "2022-12-02T02:15:56.915Z"
   },
   {
    "duration": 6,
    "start_time": "2022-12-02T02:16:52.234Z"
   },
   {
    "duration": 4,
    "start_time": "2022-12-02T02:17:03.975Z"
   },
   {
    "duration": 4,
    "start_time": "2022-12-02T02:17:10.204Z"
   },
   {
    "duration": 5,
    "start_time": "2022-12-02T02:18:19.386Z"
   },
   {
    "duration": 3,
    "start_time": "2022-12-02T02:18:28.610Z"
   },
   {
    "duration": 4,
    "start_time": "2022-12-02T02:18:34.404Z"
   },
   {
    "duration": 5,
    "start_time": "2022-12-02T02:18:41.558Z"
   },
   {
    "duration": 4,
    "start_time": "2022-12-02T02:18:45.024Z"
   },
   {
    "duration": 4,
    "start_time": "2022-12-02T02:18:49.711Z"
   },
   {
    "duration": 4,
    "start_time": "2022-12-02T02:29:30.336Z"
   },
   {
    "duration": 4,
    "start_time": "2022-12-02T02:30:26.894Z"
   },
   {
    "duration": 4,
    "start_time": "2022-12-02T02:30:37.378Z"
   },
   {
    "duration": 4,
    "start_time": "2022-12-02T02:30:47.967Z"
   },
   {
    "duration": 4,
    "start_time": "2022-12-02T02:38:19.406Z"
   },
   {
    "duration": 1276,
    "start_time": "2022-12-02T02:38:27.363Z"
   },
   {
    "duration": 4,
    "start_time": "2022-12-02T02:38:30.112Z"
   },
   {
    "duration": 1249,
    "start_time": "2022-12-02T02:38:39.614Z"
   },
   {
    "duration": 5,
    "start_time": "2022-12-02T02:38:41.743Z"
   },
   {
    "duration": 1293,
    "start_time": "2022-12-02T02:38:45.447Z"
   },
   {
    "duration": 4,
    "start_time": "2022-12-02T02:38:46.742Z"
   },
   {
    "duration": 1199,
    "start_time": "2022-12-02T02:38:48.514Z"
   },
   {
    "duration": 4,
    "start_time": "2022-12-02T02:38:49.715Z"
   },
   {
    "duration": 4,
    "start_time": "2022-12-02T02:39:15.860Z"
   },
   {
    "duration": 1210,
    "start_time": "2022-12-02T02:39:22.768Z"
   },
   {
    "duration": 4,
    "start_time": "2022-12-02T02:39:24.746Z"
   },
   {
    "duration": 5,
    "start_time": "2022-12-02T02:39:25.223Z"
   },
   {
    "duration": 1293,
    "start_time": "2022-12-02T02:39:31.298Z"
   },
   {
    "duration": 4,
    "start_time": "2022-12-02T02:39:32.593Z"
   },
   {
    "duration": 39,
    "start_time": "2022-12-02T02:39:32.600Z"
   },
   {
    "duration": 6,
    "start_time": "2022-12-02T02:39:35.375Z"
   },
   {
    "duration": 4,
    "start_time": "2022-12-02T02:39:38.091Z"
   },
   {
    "duration": 3,
    "start_time": "2022-12-02T02:42:16.634Z"
   },
   {
    "duration": 4,
    "start_time": "2022-12-02T02:42:20.356Z"
   },
   {
    "duration": 117,
    "start_time": "2022-12-02T02:42:26.160Z"
   },
   {
    "duration": 1267,
    "start_time": "2022-12-02T02:42:36.144Z"
   },
   {
    "duration": 4,
    "start_time": "2022-12-02T02:42:38.317Z"
   },
   {
    "duration": 4,
    "start_time": "2022-12-02T02:42:53.861Z"
   },
   {
    "duration": 3,
    "start_time": "2022-12-02T02:42:55.748Z"
   },
   {
    "duration": 3,
    "start_time": "2022-12-02T02:42:56.682Z"
   },
   {
    "duration": 1214,
    "start_time": "2022-12-02T02:42:59.272Z"
   },
   {
    "duration": 5,
    "start_time": "2022-12-02T02:43:00.517Z"
   },
   {
    "duration": 5,
    "start_time": "2022-12-02T02:43:19.201Z"
   },
   {
    "duration": 1218,
    "start_time": "2022-12-02T02:43:23.912Z"
   },
   {
    "duration": 3,
    "start_time": "2022-12-02T02:43:25.132Z"
   },
   {
    "duration": 12,
    "start_time": "2022-12-02T02:43:25.137Z"
   },
   {
    "duration": 1211,
    "start_time": "2022-12-02T02:43:28.174Z"
   },
   {
    "duration": 4,
    "start_time": "2022-12-02T02:43:29.387Z"
   },
   {
    "duration": 7,
    "start_time": "2022-12-02T02:43:29.392Z"
   },
   {
    "duration": 6,
    "start_time": "2022-12-02T02:43:56.253Z"
   },
   {
    "duration": 5,
    "start_time": "2022-12-02T02:44:04.507Z"
   },
   {
    "duration": 5,
    "start_time": "2022-12-02T03:10:22.277Z"
   },
   {
    "duration": 6,
    "start_time": "2022-12-02T03:11:47.774Z"
   },
   {
    "duration": 4,
    "start_time": "2022-12-02T03:12:12.581Z"
   },
   {
    "duration": 4,
    "start_time": "2022-12-02T03:12:44.585Z"
   },
   {
    "duration": 4,
    "start_time": "2022-12-02T03:12:58.030Z"
   },
   {
    "duration": 3,
    "start_time": "2022-12-02T03:13:07.521Z"
   },
   {
    "duration": 4,
    "start_time": "2022-12-02T03:13:12.966Z"
   },
   {
    "duration": 5,
    "start_time": "2022-12-02T03:13:25.126Z"
   },
   {
    "duration": 5,
    "start_time": "2022-12-02T03:13:29.013Z"
   },
   {
    "duration": 3,
    "start_time": "2022-12-02T03:14:07.325Z"
   },
   {
    "duration": 4,
    "start_time": "2022-12-02T03:14:21.037Z"
   },
   {
    "duration": 5,
    "start_time": "2022-12-02T03:14:56.486Z"
   },
   {
    "duration": 4,
    "start_time": "2022-12-02T03:15:01.472Z"
   },
   {
    "duration": 5,
    "start_time": "2022-12-02T03:17:51.308Z"
   },
   {
    "duration": 5,
    "start_time": "2022-12-02T03:18:35.265Z"
   },
   {
    "duration": 5,
    "start_time": "2022-12-02T03:18:42.494Z"
   },
   {
    "duration": 4,
    "start_time": "2022-12-02T03:19:14.061Z"
   },
   {
    "duration": 5,
    "start_time": "2022-12-02T03:19:19.733Z"
   },
   {
    "duration": 9,
    "start_time": "2022-12-02T03:19:58.550Z"
   },
   {
    "duration": 1326,
    "start_time": "2022-12-02T03:20:11.584Z"
   },
   {
    "duration": 4,
    "start_time": "2022-12-02T03:20:12.912Z"
   },
   {
    "duration": 5,
    "start_time": "2022-12-02T03:20:13.994Z"
   },
   {
    "duration": 6,
    "start_time": "2022-12-02T03:20:16.756Z"
   },
   {
    "duration": 1311,
    "start_time": "2022-12-02T03:20:22.181Z"
   },
   {
    "duration": 4,
    "start_time": "2022-12-02T03:20:23.494Z"
   },
   {
    "duration": 5,
    "start_time": "2022-12-02T03:20:24.123Z"
   },
   {
    "duration": 1277,
    "start_time": "2022-12-02T03:20:29.305Z"
   },
   {
    "duration": 5,
    "start_time": "2022-12-02T03:20:31.379Z"
   },
   {
    "duration": 4,
    "start_time": "2022-12-02T03:20:31.723Z"
   },
   {
    "duration": 5,
    "start_time": "2022-12-02T03:21:05.151Z"
   },
   {
    "duration": 4,
    "start_time": "2022-12-02T03:21:11.412Z"
   },
   {
    "duration": 5,
    "start_time": "2022-12-02T03:21:19.166Z"
   },
   {
    "duration": 5,
    "start_time": "2022-12-02T03:21:32.146Z"
   },
   {
    "duration": 5,
    "start_time": "2022-12-02T03:21:43.418Z"
   },
   {
    "duration": 5,
    "start_time": "2022-12-02T03:21:50.806Z"
   },
   {
    "duration": 6,
    "start_time": "2022-12-02T03:22:00.549Z"
   },
   {
    "duration": 5,
    "start_time": "2022-12-02T03:22:09.304Z"
   },
   {
    "duration": 4,
    "start_time": "2022-12-02T03:22:11.928Z"
   },
   {
    "duration": 1253,
    "start_time": "2022-12-02T03:22:35.623Z"
   },
   {
    "duration": 4,
    "start_time": "2022-12-02T03:23:08.944Z"
   },
   {
    "duration": 4,
    "start_time": "2022-12-02T03:23:22.184Z"
   },
   {
    "duration": 4,
    "start_time": "2022-12-02T03:23:23.788Z"
   },
   {
    "duration": 5,
    "start_time": "2022-12-02T03:23:26.420Z"
   },
   {
    "duration": 4,
    "start_time": "2022-12-02T03:23:29.730Z"
   },
   {
    "duration": 4,
    "start_time": "2022-12-02T03:23:32.644Z"
   },
   {
    "duration": 4,
    "start_time": "2022-12-02T03:25:07.580Z"
   },
   {
    "duration": 4,
    "start_time": "2022-12-02T03:25:29.037Z"
   },
   {
    "duration": 1282,
    "start_time": "2022-12-02T03:29:36.398Z"
   },
   {
    "duration": 374,
    "start_time": "2022-12-02T03:29:37.682Z"
   },
   {
    "duration": 17,
    "start_time": "2022-12-02T03:29:38.058Z"
   },
   {
    "duration": 687,
    "start_time": "2022-12-02T03:29:38.077Z"
   },
   {
    "duration": 36,
    "start_time": "2022-12-02T03:29:38.766Z"
   },
   {
    "duration": 22,
    "start_time": "2022-12-02T03:29:38.804Z"
   },
   {
    "duration": 14,
    "start_time": "2022-12-02T03:29:38.828Z"
   },
   {
    "duration": 20,
    "start_time": "2022-12-02T03:29:38.844Z"
   },
   {
    "duration": 17,
    "start_time": "2022-12-02T03:29:38.865Z"
   },
   {
    "duration": 31,
    "start_time": "2022-12-02T03:29:38.884Z"
   },
   {
    "duration": 14,
    "start_time": "2022-12-02T03:29:38.917Z"
   },
   {
    "duration": 716,
    "start_time": "2022-12-02T03:29:38.932Z"
   },
   {
    "duration": 33,
    "start_time": "2022-12-02T03:29:39.649Z"
   },
   {
    "duration": 13,
    "start_time": "2022-12-02T03:29:39.684Z"
   },
   {
    "duration": 17,
    "start_time": "2022-12-02T03:29:39.716Z"
   },
   {
    "duration": 18,
    "start_time": "2022-12-02T03:29:39.735Z"
   },
   {
    "duration": 16,
    "start_time": "2022-12-02T03:29:39.755Z"
   },
   {
    "duration": 5,
    "start_time": "2022-12-02T03:29:39.773Z"
   },
   {
    "duration": 38,
    "start_time": "2022-12-02T03:29:39.780Z"
   },
   {
    "duration": 674,
    "start_time": "2022-12-02T03:29:39.820Z"
   },
   {
    "duration": 41,
    "start_time": "2022-12-02T03:29:40.496Z"
   },
   {
    "duration": 14,
    "start_time": "2022-12-02T03:29:40.539Z"
   },
   {
    "duration": 17,
    "start_time": "2022-12-02T03:29:40.555Z"
   },
   {
    "duration": 20,
    "start_time": "2022-12-02T03:29:40.574Z"
   },
   {
    "duration": 32,
    "start_time": "2022-12-02T03:29:40.596Z"
   },
   {
    "duration": 6,
    "start_time": "2022-12-02T03:29:40.629Z"
   },
   {
    "duration": 13,
    "start_time": "2022-12-02T03:29:40.636Z"
   },
   {
    "duration": 6,
    "start_time": "2022-12-02T03:29:40.652Z"
   },
   {
    "duration": 6,
    "start_time": "2022-12-02T03:29:40.659Z"
   },
   {
    "duration": 15,
    "start_time": "2022-12-02T03:29:40.667Z"
   },
   {
    "duration": 2,
    "start_time": "2022-12-02T03:29:40.683Z"
   },
   {
    "duration": 32,
    "start_time": "2022-12-02T03:29:40.687Z"
   },
   {
    "duration": 7,
    "start_time": "2022-12-02T03:29:40.721Z"
   },
   {
    "duration": 95,
    "start_time": "2022-12-02T03:29:40.729Z"
   },
   {
    "duration": 7,
    "start_time": "2022-12-02T03:29:40.915Z"
   },
   {
    "duration": 4,
    "start_time": "2022-12-02T03:29:40.924Z"
   },
   {
    "duration": 7,
    "start_time": "2022-12-02T03:29:40.929Z"
   },
   {
    "duration": 8,
    "start_time": "2022-12-02T03:29:40.938Z"
   },
   {
    "duration": 10,
    "start_time": "2022-12-02T03:29:40.947Z"
   },
   {
    "duration": 118,
    "start_time": "2022-12-02T03:29:40.959Z"
   },
   {
    "duration": 0,
    "start_time": "2022-12-02T03:29:41.079Z"
   },
   {
    "duration": 0,
    "start_time": "2022-12-02T03:29:41.080Z"
   },
   {
    "duration": 0,
    "start_time": "2022-12-02T03:29:41.081Z"
   },
   {
    "duration": 0,
    "start_time": "2022-12-02T03:29:41.082Z"
   },
   {
    "duration": 0,
    "start_time": "2022-12-02T03:29:41.083Z"
   },
   {
    "duration": 0,
    "start_time": "2022-12-02T03:29:41.088Z"
   },
   {
    "duration": 0,
    "start_time": "2022-12-02T03:29:41.089Z"
   },
   {
    "duration": 0,
    "start_time": "2022-12-02T03:29:41.091Z"
   },
   {
    "duration": 0,
    "start_time": "2022-12-02T03:29:41.092Z"
   },
   {
    "duration": 0,
    "start_time": "2022-12-02T03:29:41.093Z"
   },
   {
    "duration": 0,
    "start_time": "2022-12-02T03:29:41.094Z"
   },
   {
    "duration": 0,
    "start_time": "2022-12-02T03:29:41.115Z"
   },
   {
    "duration": 0,
    "start_time": "2022-12-02T03:29:41.116Z"
   },
   {
    "duration": 0,
    "start_time": "2022-12-02T03:29:41.117Z"
   },
   {
    "duration": 0,
    "start_time": "2022-12-02T03:29:41.118Z"
   },
   {
    "duration": 0,
    "start_time": "2022-12-02T03:29:41.119Z"
   },
   {
    "duration": 0,
    "start_time": "2022-12-02T03:29:41.120Z"
   },
   {
    "duration": 0,
    "start_time": "2022-12-02T03:29:41.121Z"
   },
   {
    "duration": 0,
    "start_time": "2022-12-02T03:29:41.122Z"
   },
   {
    "duration": 0,
    "start_time": "2022-12-02T03:29:41.123Z"
   },
   {
    "duration": 0,
    "start_time": "2022-12-02T03:29:41.124Z"
   },
   {
    "duration": 0,
    "start_time": "2022-12-02T03:29:41.125Z"
   },
   {
    "duration": 0,
    "start_time": "2022-12-02T03:29:41.126Z"
   },
   {
    "duration": 0,
    "start_time": "2022-12-02T03:29:41.127Z"
   },
   {
    "duration": 0,
    "start_time": "2022-12-02T03:29:41.129Z"
   },
   {
    "duration": 0,
    "start_time": "2022-12-02T03:29:41.130Z"
   },
   {
    "duration": 0,
    "start_time": "2022-12-02T03:29:41.130Z"
   },
   {
    "duration": 0,
    "start_time": "2022-12-02T03:29:41.131Z"
   },
   {
    "duration": 0,
    "start_time": "2022-12-02T03:29:41.132Z"
   },
   {
    "duration": 0,
    "start_time": "2022-12-02T03:29:41.133Z"
   },
   {
    "duration": 0,
    "start_time": "2022-12-02T03:29:41.134Z"
   },
   {
    "duration": 0,
    "start_time": "2022-12-02T03:29:41.135Z"
   },
   {
    "duration": 0,
    "start_time": "2022-12-02T03:29:41.136Z"
   },
   {
    "duration": 0,
    "start_time": "2022-12-02T03:29:41.137Z"
   },
   {
    "duration": 0,
    "start_time": "2022-12-02T03:29:41.138Z"
   },
   {
    "duration": 0,
    "start_time": "2022-12-02T03:29:41.139Z"
   },
   {
    "duration": 0,
    "start_time": "2022-12-02T03:29:41.140Z"
   },
   {
    "duration": 0,
    "start_time": "2022-12-02T03:29:41.141Z"
   },
   {
    "duration": 0,
    "start_time": "2022-12-02T03:29:41.142Z"
   },
   {
    "duration": 0,
    "start_time": "2022-12-02T03:29:41.143Z"
   },
   {
    "duration": 0,
    "start_time": "2022-12-02T03:29:41.144Z"
   },
   {
    "duration": 0,
    "start_time": "2022-12-02T03:29:41.145Z"
   },
   {
    "duration": 0,
    "start_time": "2022-12-02T03:29:41.146Z"
   },
   {
    "duration": 0,
    "start_time": "2022-12-02T03:29:41.147Z"
   },
   {
    "duration": 0,
    "start_time": "2022-12-02T03:29:41.148Z"
   },
   {
    "duration": 0,
    "start_time": "2022-12-02T03:29:41.149Z"
   },
   {
    "duration": 0,
    "start_time": "2022-12-02T03:29:41.150Z"
   },
   {
    "duration": 0,
    "start_time": "2022-12-02T03:29:41.150Z"
   },
   {
    "duration": 0,
    "start_time": "2022-12-02T03:29:41.151Z"
   },
   {
    "duration": 0,
    "start_time": "2022-12-02T03:29:41.153Z"
   },
   {
    "duration": 0,
    "start_time": "2022-12-02T03:29:41.154Z"
   },
   {
    "duration": 0,
    "start_time": "2022-12-02T03:29:41.215Z"
   },
   {
    "duration": 0,
    "start_time": "2022-12-02T03:29:41.216Z"
   },
   {
    "duration": 0,
    "start_time": "2022-12-02T03:29:41.217Z"
   },
   {
    "duration": 0,
    "start_time": "2022-12-02T03:29:41.218Z"
   },
   {
    "duration": 0,
    "start_time": "2022-12-02T03:29:41.219Z"
   },
   {
    "duration": 0,
    "start_time": "2022-12-02T03:29:41.220Z"
   },
   {
    "duration": 0,
    "start_time": "2022-12-02T03:29:41.221Z"
   },
   {
    "duration": 0,
    "start_time": "2022-12-02T03:29:41.222Z"
   },
   {
    "duration": 4,
    "start_time": "2022-12-02T03:30:21.746Z"
   },
   {
    "duration": 1258,
    "start_time": "2022-12-02T03:30:38.417Z"
   },
   {
    "duration": 354,
    "start_time": "2022-12-02T03:30:39.677Z"
   },
   {
    "duration": 17,
    "start_time": "2022-12-02T03:30:40.033Z"
   },
   {
    "duration": 684,
    "start_time": "2022-12-02T03:30:40.052Z"
   },
   {
    "duration": 33,
    "start_time": "2022-12-02T03:30:40.738Z"
   },
   {
    "duration": 13,
    "start_time": "2022-12-02T03:30:40.772Z"
   },
   {
    "duration": 32,
    "start_time": "2022-12-02T03:30:40.787Z"
   },
   {
    "duration": 19,
    "start_time": "2022-12-02T03:30:40.821Z"
   },
   {
    "duration": 17,
    "start_time": "2022-12-02T03:30:40.841Z"
   },
   {
    "duration": 9,
    "start_time": "2022-12-02T03:30:40.859Z"
   },
   {
    "duration": 17,
    "start_time": "2022-12-02T03:30:40.869Z"
   },
   {
    "duration": 755,
    "start_time": "2022-12-02T03:30:40.887Z"
   },
   {
    "duration": 35,
    "start_time": "2022-12-02T03:30:41.643Z"
   },
   {
    "duration": 14,
    "start_time": "2022-12-02T03:30:41.681Z"
   },
   {
    "duration": 33,
    "start_time": "2022-12-02T03:30:41.697Z"
   },
   {
    "duration": 16,
    "start_time": "2022-12-02T03:30:41.732Z"
   },
   {
    "duration": 14,
    "start_time": "2022-12-02T03:30:41.750Z"
   },
   {
    "duration": 9,
    "start_time": "2022-12-02T03:30:41.765Z"
   },
   {
    "duration": 17,
    "start_time": "2022-12-02T03:30:41.775Z"
   },
   {
    "duration": 695,
    "start_time": "2022-12-02T03:30:41.793Z"
   },
   {
    "duration": 42,
    "start_time": "2022-12-02T03:30:42.490Z"
   },
   {
    "duration": 14,
    "start_time": "2022-12-02T03:30:42.534Z"
   },
   {
    "duration": 18,
    "start_time": "2022-12-02T03:30:42.550Z"
   },
   {
    "duration": 20,
    "start_time": "2022-12-02T03:30:42.570Z"
   },
   {
    "duration": 39,
    "start_time": "2022-12-02T03:30:42.592Z"
   },
   {
    "duration": 6,
    "start_time": "2022-12-02T03:30:42.633Z"
   },
   {
    "duration": 24,
    "start_time": "2022-12-02T03:30:42.640Z"
   },
   {
    "duration": 7,
    "start_time": "2022-12-02T03:30:42.665Z"
   },
   {
    "duration": 10,
    "start_time": "2022-12-02T03:30:42.673Z"
   },
   {
    "duration": 18,
    "start_time": "2022-12-02T03:30:42.685Z"
   },
   {
    "duration": 2,
    "start_time": "2022-12-02T03:30:42.704Z"
   },
   {
    "duration": 21,
    "start_time": "2022-12-02T03:30:42.708Z"
   },
   {
    "duration": 5,
    "start_time": "2022-12-02T03:30:42.731Z"
   },
   {
    "duration": 82,
    "start_time": "2022-12-02T03:30:42.738Z"
   },
   {
    "duration": 96,
    "start_time": "2022-12-02T03:30:42.823Z"
   },
   {
    "duration": 8,
    "start_time": "2022-12-02T03:30:42.920Z"
   },
   {
    "duration": 7,
    "start_time": "2022-12-02T03:30:42.929Z"
   },
   {
    "duration": 7,
    "start_time": "2022-12-02T03:30:42.937Z"
   },
   {
    "duration": 10,
    "start_time": "2022-12-02T03:30:42.945Z"
   },
   {
    "duration": 6,
    "start_time": "2022-12-02T03:30:42.956Z"
   },
   {
    "duration": 12,
    "start_time": "2022-12-02T03:30:42.966Z"
   },
   {
    "duration": 8,
    "start_time": "2022-12-02T03:30:42.980Z"
   },
   {
    "duration": 17,
    "start_time": "2022-12-02T03:30:42.990Z"
   },
   {
    "duration": 16,
    "start_time": "2022-12-02T03:30:43.015Z"
   },
   {
    "duration": 3,
    "start_time": "2022-12-02T03:30:43.033Z"
   },
   {
    "duration": 17,
    "start_time": "2022-12-02T03:30:43.037Z"
   },
   {
    "duration": 8,
    "start_time": "2022-12-02T03:30:43.055Z"
   },
   {
    "duration": 105,
    "start_time": "2022-12-02T03:30:43.115Z"
   },
   {
    "duration": 10,
    "start_time": "2022-12-02T03:30:43.222Z"
   },
   {
    "duration": 7,
    "start_time": "2022-12-02T03:30:43.233Z"
   },
   {
    "duration": 9,
    "start_time": "2022-12-02T03:30:43.241Z"
   },
   {
    "duration": 5,
    "start_time": "2022-12-02T03:30:43.251Z"
   },
   {
    "duration": 10,
    "start_time": "2022-12-02T03:30:43.258Z"
   },
   {
    "duration": 7,
    "start_time": "2022-12-02T03:30:43.269Z"
   },
   {
    "duration": 10,
    "start_time": "2022-12-02T03:30:43.277Z"
   },
   {
    "duration": 8,
    "start_time": "2022-12-02T03:30:43.289Z"
   },
   {
    "duration": 7,
    "start_time": "2022-12-02T03:30:43.299Z"
   },
   {
    "duration": 25,
    "start_time": "2022-12-02T03:30:43.307Z"
   },
   {
    "duration": 2,
    "start_time": "2022-12-02T03:30:43.333Z"
   },
   {
    "duration": 13,
    "start_time": "2022-12-02T03:30:43.337Z"
   },
   {
    "duration": 12,
    "start_time": "2022-12-02T03:30:43.352Z"
   },
   {
    "duration": 54,
    "start_time": "2022-12-02T03:30:43.365Z"
   },
   {
    "duration": 100,
    "start_time": "2022-12-02T03:30:43.422Z"
   },
   {
    "duration": 8,
    "start_time": "2022-12-02T03:30:43.524Z"
   },
   {
    "duration": 11,
    "start_time": "2022-12-02T03:30:43.534Z"
   },
   {
    "duration": 4,
    "start_time": "2022-12-02T03:30:43.547Z"
   },
   {
    "duration": 5,
    "start_time": "2022-12-02T03:30:43.553Z"
   },
   {
    "duration": 7,
    "start_time": "2022-12-02T03:30:43.560Z"
   },
   {
    "duration": 5,
    "start_time": "2022-12-02T03:30:43.569Z"
   },
   {
    "duration": 6,
    "start_time": "2022-12-02T03:30:43.575Z"
   },
   {
    "duration": 4,
    "start_time": "2022-12-02T03:30:43.583Z"
   },
   {
    "duration": 5,
    "start_time": "2022-12-02T03:30:43.589Z"
   },
   {
    "duration": 9,
    "start_time": "2022-12-02T03:30:43.595Z"
   },
   {
    "duration": 17,
    "start_time": "2022-12-02T03:30:43.605Z"
   },
   {
    "duration": 9,
    "start_time": "2022-12-02T03:30:43.623Z"
   },
   {
    "duration": 5,
    "start_time": "2022-12-02T03:30:43.634Z"
   },
   {
    "duration": 4,
    "start_time": "2022-12-02T03:30:43.641Z"
   },
   {
    "duration": 7,
    "start_time": "2022-12-02T03:30:43.647Z"
   },
   {
    "duration": 7,
    "start_time": "2022-12-02T03:30:43.655Z"
   },
   {
    "duration": 5,
    "start_time": "2022-12-02T03:30:43.663Z"
   },
   {
    "duration": 6,
    "start_time": "2022-12-02T03:30:43.669Z"
   },
   {
    "duration": 1253,
    "start_time": "2022-12-02T03:30:43.676Z"
   },
   {
    "duration": 5,
    "start_time": "2022-12-02T03:30:44.930Z"
   },
   {
    "duration": 6,
    "start_time": "2022-12-02T03:30:44.937Z"
   },
   {
    "duration": 6,
    "start_time": "2022-12-02T03:30:44.945Z"
   },
   {
    "duration": 9,
    "start_time": "2022-12-02T03:30:44.952Z"
   },
   {
    "duration": 9,
    "start_time": "2022-12-02T03:30:44.962Z"
   },
   {
    "duration": 1250,
    "start_time": "2022-12-02T03:30:44.973Z"
   },
   {
    "duration": 5,
    "start_time": "2022-12-02T03:30:46.225Z"
   },
   {
    "duration": 11,
    "start_time": "2022-12-02T03:30:46.232Z"
   },
   {
    "duration": 12,
    "start_time": "2022-12-02T03:30:46.245Z"
   },
   {
    "duration": 9,
    "start_time": "2022-12-02T03:30:46.258Z"
   },
   {
    "duration": 9,
    "start_time": "2022-12-02T03:30:46.269Z"
   },
   {
    "duration": 1271,
    "start_time": "2022-12-02T03:30:46.279Z"
   },
   {
    "duration": 5,
    "start_time": "2022-12-02T03:30:47.551Z"
   },
   {
    "duration": 21,
    "start_time": "2022-12-02T03:30:47.558Z"
   },
   {
    "duration": 9,
    "start_time": "2022-12-02T03:30:47.581Z"
   },
   {
    "duration": 13,
    "start_time": "2022-12-02T03:30:47.592Z"
   },
   {
    "duration": 9,
    "start_time": "2022-12-02T03:30:47.607Z"
   },
   {
    "duration": 1599,
    "start_time": "2022-12-02T03:31:14.837Z"
   },
   {
    "duration": 359,
    "start_time": "2022-12-02T03:31:16.438Z"
   },
   {
    "duration": 16,
    "start_time": "2022-12-02T03:31:16.799Z"
   },
   {
    "duration": 651,
    "start_time": "2022-12-02T03:31:16.816Z"
   },
   {
    "duration": 35,
    "start_time": "2022-12-02T03:31:17.469Z"
   },
   {
    "duration": 22,
    "start_time": "2022-12-02T03:31:17.505Z"
   },
   {
    "duration": 15,
    "start_time": "2022-12-02T03:31:17.528Z"
   },
   {
    "duration": 20,
    "start_time": "2022-12-02T03:31:17.545Z"
   },
   {
    "duration": 17,
    "start_time": "2022-12-02T03:31:17.567Z"
   },
   {
    "duration": 32,
    "start_time": "2022-12-02T03:31:17.586Z"
   },
   {
    "duration": 19,
    "start_time": "2022-12-02T03:31:17.620Z"
   },
   {
    "duration": 728,
    "start_time": "2022-12-02T03:31:17.641Z"
   },
   {
    "duration": 33,
    "start_time": "2022-12-02T03:31:18.371Z"
   },
   {
    "duration": 13,
    "start_time": "2022-12-02T03:31:18.415Z"
   },
   {
    "duration": 16,
    "start_time": "2022-12-02T03:31:18.429Z"
   },
   {
    "duration": 16,
    "start_time": "2022-12-02T03:31:18.447Z"
   },
   {
    "duration": 14,
    "start_time": "2022-12-02T03:31:18.464Z"
   },
   {
    "duration": 8,
    "start_time": "2022-12-02T03:31:18.479Z"
   },
   {
    "duration": 38,
    "start_time": "2022-12-02T03:31:18.489Z"
   },
   {
    "duration": 656,
    "start_time": "2022-12-02T03:31:18.529Z"
   },
   {
    "duration": 42,
    "start_time": "2022-12-02T03:31:19.187Z"
   },
   {
    "duration": 17,
    "start_time": "2022-12-02T03:31:19.231Z"
   },
   {
    "duration": 19,
    "start_time": "2022-12-02T03:31:19.250Z"
   },
   {
    "duration": 24,
    "start_time": "2022-12-02T03:31:19.271Z"
   },
   {
    "duration": 29,
    "start_time": "2022-12-02T03:31:19.296Z"
   },
   {
    "duration": 6,
    "start_time": "2022-12-02T03:31:19.326Z"
   },
   {
    "duration": 13,
    "start_time": "2022-12-02T03:31:19.333Z"
   },
   {
    "duration": 7,
    "start_time": "2022-12-02T03:31:19.347Z"
   },
   {
    "duration": 12,
    "start_time": "2022-12-02T03:31:19.356Z"
   },
   {
    "duration": 17,
    "start_time": "2022-12-02T03:31:19.370Z"
   },
   {
    "duration": 2,
    "start_time": "2022-12-02T03:31:19.389Z"
   },
   {
    "duration": 33,
    "start_time": "2022-12-02T03:31:19.393Z"
   },
   {
    "duration": 7,
    "start_time": "2022-12-02T03:31:19.427Z"
   },
   {
    "duration": 81,
    "start_time": "2022-12-02T03:31:19.435Z"
   },
   {
    "duration": 6,
    "start_time": "2022-12-02T03:31:19.517Z"
   },
   {
    "duration": 98,
    "start_time": "2022-12-02T03:31:19.525Z"
   },
   {
    "duration": 7,
    "start_time": "2022-12-02T03:31:19.624Z"
   },
   {
    "duration": 5,
    "start_time": "2022-12-02T03:31:19.633Z"
   },
   {
    "duration": 6,
    "start_time": "2022-12-02T03:31:19.639Z"
   },
   {
    "duration": 8,
    "start_time": "2022-12-02T03:31:19.647Z"
   },
   {
    "duration": 8,
    "start_time": "2022-12-02T03:31:19.660Z"
   },
   {
    "duration": 5,
    "start_time": "2022-12-02T03:31:19.670Z"
   },
   {
    "duration": 6,
    "start_time": "2022-12-02T03:31:19.677Z"
   },
   {
    "duration": 31,
    "start_time": "2022-12-02T03:31:19.685Z"
   },
   {
    "duration": 2,
    "start_time": "2022-12-02T03:31:19.717Z"
   },
   {
    "duration": 12,
    "start_time": "2022-12-02T03:31:19.721Z"
   },
   {
    "duration": 4,
    "start_time": "2022-12-02T03:31:19.735Z"
   },
   {
    "duration": 77,
    "start_time": "2022-12-02T03:31:19.741Z"
   },
   {
    "duration": 97,
    "start_time": "2022-12-02T03:31:19.820Z"
   },
   {
    "duration": 3,
    "start_time": "2022-12-02T03:31:19.919Z"
   },
   {
    "duration": 7,
    "start_time": "2022-12-02T03:31:19.923Z"
   },
   {
    "duration": 5,
    "start_time": "2022-12-02T03:31:19.932Z"
   },
   {
    "duration": 8,
    "start_time": "2022-12-02T03:31:19.938Z"
   },
   {
    "duration": 18,
    "start_time": "2022-12-02T03:31:19.947Z"
   },
   {
    "duration": 13,
    "start_time": "2022-12-02T03:31:19.966Z"
   },
   {
    "duration": 6,
    "start_time": "2022-12-02T03:31:19.980Z"
   },
   {
    "duration": 6,
    "start_time": "2022-12-02T03:31:19.987Z"
   },
   {
    "duration": 29,
    "start_time": "2022-12-02T03:31:19.994Z"
   },
   {
    "duration": 2,
    "start_time": "2022-12-02T03:31:20.024Z"
   },
   {
    "duration": 15,
    "start_time": "2022-12-02T03:31:20.028Z"
   },
   {
    "duration": 8,
    "start_time": "2022-12-02T03:31:20.045Z"
   },
   {
    "duration": 69,
    "start_time": "2022-12-02T03:31:20.055Z"
   },
   {
    "duration": 92,
    "start_time": "2022-12-02T03:31:20.126Z"
   },
   {
    "duration": 3,
    "start_time": "2022-12-02T03:31:20.219Z"
   },
   {
    "duration": 12,
    "start_time": "2022-12-02T03:31:20.224Z"
   },
   {
    "duration": 17,
    "start_time": "2022-12-02T03:31:20.237Z"
   },
   {
    "duration": 17,
    "start_time": "2022-12-02T03:31:20.256Z"
   },
   {
    "duration": 14,
    "start_time": "2022-12-02T03:31:20.275Z"
   },
   {
    "duration": 4,
    "start_time": "2022-12-02T03:31:20.290Z"
   },
   {
    "duration": 9,
    "start_time": "2022-12-02T03:31:20.296Z"
   },
   {
    "duration": 5,
    "start_time": "2022-12-02T03:31:20.307Z"
   },
   {
    "duration": 18,
    "start_time": "2022-12-02T03:31:20.314Z"
   },
   {
    "duration": 6,
    "start_time": "2022-12-02T03:31:20.333Z"
   },
   {
    "duration": 14,
    "start_time": "2022-12-02T03:31:20.340Z"
   },
   {
    "duration": 7,
    "start_time": "2022-12-02T03:31:20.355Z"
   },
   {
    "duration": 9,
    "start_time": "2022-12-02T03:31:20.363Z"
   },
   {
    "duration": 9,
    "start_time": "2022-12-02T03:31:20.373Z"
   },
   {
    "duration": 14,
    "start_time": "2022-12-02T03:31:20.383Z"
   },
   {
    "duration": 9,
    "start_time": "2022-12-02T03:31:20.399Z"
   },
   {
    "duration": 17,
    "start_time": "2022-12-02T03:31:20.409Z"
   },
   {
    "duration": 6,
    "start_time": "2022-12-02T03:31:20.427Z"
   },
   {
    "duration": 1206,
    "start_time": "2022-12-02T03:31:20.434Z"
   },
   {
    "duration": 4,
    "start_time": "2022-12-02T03:31:21.641Z"
   },
   {
    "duration": 8,
    "start_time": "2022-12-02T03:31:21.646Z"
   },
   {
    "duration": 5,
    "start_time": "2022-12-02T03:31:21.655Z"
   },
   {
    "duration": 7,
    "start_time": "2022-12-02T03:31:21.662Z"
   },
   {
    "duration": 16,
    "start_time": "2022-12-02T03:31:21.670Z"
   },
   {
    "duration": 1271,
    "start_time": "2022-12-02T03:31:21.687Z"
   },
   {
    "duration": 4,
    "start_time": "2022-12-02T03:31:22.960Z"
   },
   {
    "duration": 7,
    "start_time": "2022-12-02T03:31:22.966Z"
   },
   {
    "duration": 5,
    "start_time": "2022-12-02T03:31:22.975Z"
   },
   {
    "duration": 8,
    "start_time": "2022-12-02T03:31:22.981Z"
   },
   {
    "duration": 8,
    "start_time": "2022-12-02T03:31:22.990Z"
   },
   {
    "duration": 1255,
    "start_time": "2022-12-02T03:31:22.999Z"
   },
   {
    "duration": 4,
    "start_time": "2022-12-02T03:31:24.255Z"
   },
   {
    "duration": 16,
    "start_time": "2022-12-02T03:31:24.261Z"
   },
   {
    "duration": 21,
    "start_time": "2022-12-02T03:31:24.278Z"
   },
   {
    "duration": 10,
    "start_time": "2022-12-02T03:31:24.300Z"
   },
   {
    "duration": 18,
    "start_time": "2022-12-02T03:31:24.311Z"
   },
   {
    "duration": 1225,
    "start_time": "2022-12-02T03:49:08.548Z"
   },
   {
    "duration": 367,
    "start_time": "2022-12-02T03:49:09.775Z"
   },
   {
    "duration": 16,
    "start_time": "2022-12-02T03:49:10.143Z"
   },
   {
    "duration": 652,
    "start_time": "2022-12-02T03:49:10.160Z"
   },
   {
    "duration": 37,
    "start_time": "2022-12-02T03:49:10.815Z"
   },
   {
    "duration": 14,
    "start_time": "2022-12-02T03:49:10.853Z"
   },
   {
    "duration": 16,
    "start_time": "2022-12-02T03:49:10.868Z"
   },
   {
    "duration": 40,
    "start_time": "2022-12-02T03:49:10.885Z"
   },
   {
    "duration": 19,
    "start_time": "2022-12-02T03:49:10.926Z"
   },
   {
    "duration": 6,
    "start_time": "2022-12-02T03:49:10.946Z"
   },
   {
    "duration": 37,
    "start_time": "2022-12-02T03:49:10.954Z"
   },
   {
    "duration": 696,
    "start_time": "2022-12-02T03:49:10.993Z"
   },
   {
    "duration": 41,
    "start_time": "2022-12-02T03:49:11.690Z"
   },
   {
    "duration": 12,
    "start_time": "2022-12-02T03:49:11.734Z"
   },
   {
    "duration": 46,
    "start_time": "2022-12-02T03:49:11.747Z"
   },
   {
    "duration": 42,
    "start_time": "2022-12-02T03:49:11.795Z"
   },
   {
    "duration": 22,
    "start_time": "2022-12-02T03:49:11.839Z"
   },
   {
    "duration": 12,
    "start_time": "2022-12-02T03:49:11.862Z"
   },
   {
    "duration": 20,
    "start_time": "2022-12-02T03:49:11.875Z"
   },
   {
    "duration": 676,
    "start_time": "2022-12-02T03:49:11.897Z"
   },
   {
    "duration": 44,
    "start_time": "2022-12-02T03:49:12.575Z"
   },
   {
    "duration": 13,
    "start_time": "2022-12-02T03:49:12.621Z"
   },
   {
    "duration": 17,
    "start_time": "2022-12-02T03:49:12.635Z"
   },
   {
    "duration": 18,
    "start_time": "2022-12-02T03:49:12.654Z"
   },
   {
    "duration": 15,
    "start_time": "2022-12-02T03:49:12.673Z"
   },
   {
    "duration": 31,
    "start_time": "2022-12-02T03:49:12.689Z"
   },
   {
    "duration": 16,
    "start_time": "2022-12-02T03:49:12.722Z"
   },
   {
    "duration": 6,
    "start_time": "2022-12-02T03:49:12.739Z"
   },
   {
    "duration": 6,
    "start_time": "2022-12-02T03:49:12.747Z"
   },
   {
    "duration": 19,
    "start_time": "2022-12-02T03:49:12.755Z"
   },
   {
    "duration": 2,
    "start_time": "2022-12-02T03:49:12.776Z"
   },
   {
    "duration": 13,
    "start_time": "2022-12-02T03:49:12.779Z"
   },
   {
    "duration": 5,
    "start_time": "2022-12-02T03:49:12.793Z"
   },
   {
    "duration": 110,
    "start_time": "2022-12-02T03:49:12.817Z"
   },
   {
    "duration": 13,
    "start_time": "2022-12-02T03:49:12.929Z"
   },
   {
    "duration": 8,
    "start_time": "2022-12-02T03:49:12.943Z"
   },
   {
    "duration": 5,
    "start_time": "2022-12-02T03:49:13.016Z"
   },
   {
    "duration": 10,
    "start_time": "2022-12-02T03:49:13.023Z"
   },
   {
    "duration": 7,
    "start_time": "2022-12-02T03:49:13.035Z"
   },
   {
    "duration": 6,
    "start_time": "2022-12-02T03:49:13.043Z"
   },
   {
    "duration": 9,
    "start_time": "2022-12-02T03:49:13.055Z"
   },
   {
    "duration": 6,
    "start_time": "2022-12-02T03:49:13.066Z"
   },
   {
    "duration": 9,
    "start_time": "2022-12-02T03:49:13.074Z"
   },
   {
    "duration": 38,
    "start_time": "2022-12-02T03:49:13.085Z"
   },
   {
    "duration": 2,
    "start_time": "2022-12-02T03:49:13.124Z"
   },
   {
    "duration": 13,
    "start_time": "2022-12-02T03:49:13.128Z"
   },
   {
    "duration": 5,
    "start_time": "2022-12-02T03:49:13.143Z"
   },
   {
    "duration": 174,
    "start_time": "2022-12-02T03:49:13.150Z"
   },
   {
    "duration": 21,
    "start_time": "2022-12-02T03:49:13.325Z"
   },
   {
    "duration": 7,
    "start_time": "2022-12-02T03:49:13.347Z"
   },
   {
    "duration": 6,
    "start_time": "2022-12-02T03:49:13.355Z"
   },
   {
    "duration": 7,
    "start_time": "2022-12-02T03:49:13.362Z"
   },
   {
    "duration": 6,
    "start_time": "2022-12-02T03:49:13.371Z"
   },
   {
    "duration": 12,
    "start_time": "2022-12-02T03:49:13.378Z"
   },
   {
    "duration": 10,
    "start_time": "2022-12-02T03:49:13.392Z"
   },
   {
    "duration": 28,
    "start_time": "2022-12-02T03:49:13.403Z"
   },
   {
    "duration": 13,
    "start_time": "2022-12-02T03:49:13.432Z"
   },
   {
    "duration": 27,
    "start_time": "2022-12-02T03:49:13.446Z"
   },
   {
    "duration": 9,
    "start_time": "2022-12-02T03:49:13.475Z"
   },
   {
    "duration": 25,
    "start_time": "2022-12-02T03:49:13.485Z"
   },
   {
    "duration": 11,
    "start_time": "2022-12-02T03:49:13.512Z"
   },
   {
    "duration": 192,
    "start_time": "2022-12-02T03:49:13.525Z"
   },
   {
    "duration": 16,
    "start_time": "2022-12-02T03:49:13.718Z"
   },
   {
    "duration": 14,
    "start_time": "2022-12-02T03:49:13.735Z"
   },
   {
    "duration": 30,
    "start_time": "2022-12-02T03:49:13.751Z"
   },
   {
    "duration": 14,
    "start_time": "2022-12-02T03:49:13.783Z"
   },
   {
    "duration": 21,
    "start_time": "2022-12-02T03:49:13.798Z"
   },
   {
    "duration": 27,
    "start_time": "2022-12-02T03:49:13.820Z"
   },
   {
    "duration": 38,
    "start_time": "2022-12-02T03:49:13.848Z"
   },
   {
    "duration": 48,
    "start_time": "2022-12-02T03:49:13.887Z"
   },
   {
    "duration": 21,
    "start_time": "2022-12-02T03:49:13.937Z"
   },
   {
    "duration": 5,
    "start_time": "2022-12-02T03:49:13.960Z"
   },
   {
    "duration": 6,
    "start_time": "2022-12-02T03:49:13.967Z"
   },
   {
    "duration": 6,
    "start_time": "2022-12-02T03:49:13.974Z"
   },
   {
    "duration": 9,
    "start_time": "2022-12-02T03:49:13.981Z"
   },
   {
    "duration": 22,
    "start_time": "2022-12-02T03:49:13.991Z"
   },
   {
    "duration": 14,
    "start_time": "2022-12-02T03:49:14.015Z"
   },
   {
    "duration": 6,
    "start_time": "2022-12-02T03:49:14.031Z"
   },
   {
    "duration": 17,
    "start_time": "2022-12-02T03:49:14.039Z"
   },
   {
    "duration": 12,
    "start_time": "2022-12-02T03:49:14.057Z"
   },
   {
    "duration": 17,
    "start_time": "2022-12-02T03:49:14.071Z"
   },
   {
    "duration": 1257,
    "start_time": "2022-12-02T03:49:14.089Z"
   },
   {
    "duration": 4,
    "start_time": "2022-12-02T03:49:15.348Z"
   },
   {
    "duration": 7,
    "start_time": "2022-12-02T03:49:15.353Z"
   },
   {
    "duration": 5,
    "start_time": "2022-12-02T03:49:15.361Z"
   },
   {
    "duration": 6,
    "start_time": "2022-12-02T03:49:15.367Z"
   },
   {
    "duration": 10,
    "start_time": "2022-12-02T03:49:15.375Z"
   },
   {
    "duration": 1306,
    "start_time": "2022-12-02T03:49:15.387Z"
   },
   {
    "duration": 4,
    "start_time": "2022-12-02T03:49:16.695Z"
   },
   {
    "duration": 16,
    "start_time": "2022-12-02T03:49:16.700Z"
   },
   {
    "duration": 4,
    "start_time": "2022-12-02T03:49:16.718Z"
   },
   {
    "duration": 9,
    "start_time": "2022-12-02T03:49:16.723Z"
   },
   {
    "duration": 6,
    "start_time": "2022-12-02T03:49:16.734Z"
   },
   {
    "duration": 1239,
    "start_time": "2022-12-02T03:49:16.741Z"
   },
   {
    "duration": 4,
    "start_time": "2022-12-02T03:49:17.981Z"
   },
   {
    "duration": 10,
    "start_time": "2022-12-02T03:49:17.986Z"
   },
   {
    "duration": 11,
    "start_time": "2022-12-02T03:49:17.998Z"
   },
   {
    "duration": 8,
    "start_time": "2022-12-02T03:49:18.011Z"
   },
   {
    "duration": 6,
    "start_time": "2022-12-02T03:49:18.021Z"
   },
   {
    "duration": 43,
    "start_time": "2022-12-02T06:56:59.201Z"
   },
   {
    "duration": 8,
    "start_time": "2022-12-02T06:57:13.573Z"
   },
   {
    "duration": 8,
    "start_time": "2022-12-02T06:57:15.611Z"
   },
   {
    "duration": 1038,
    "start_time": "2022-12-02T06:57:53.958Z"
   },
   {
    "duration": 1663,
    "start_time": "2022-12-02T06:57:54.998Z"
   },
   {
    "duration": 15,
    "start_time": "2022-12-02T06:57:56.663Z"
   },
   {
    "duration": 1193,
    "start_time": "2022-12-02T06:57:56.679Z"
   },
   {
    "duration": 51,
    "start_time": "2022-12-02T06:57:57.875Z"
   },
   {
    "duration": 14,
    "start_time": "2022-12-02T06:57:57.927Z"
   },
   {
    "duration": 47,
    "start_time": "2022-12-02T06:57:57.942Z"
   },
   {
    "duration": 47,
    "start_time": "2022-12-02T06:57:57.991Z"
   },
   {
    "duration": 60,
    "start_time": "2022-12-02T06:57:58.039Z"
   },
   {
    "duration": 32,
    "start_time": "2022-12-02T06:57:58.101Z"
   },
   {
    "duration": 54,
    "start_time": "2022-12-02T06:57:58.135Z"
   },
   {
    "duration": 865,
    "start_time": "2022-12-02T06:57:58.190Z"
   },
   {
    "duration": 50,
    "start_time": "2022-12-02T06:57:59.057Z"
   },
   {
    "duration": 26,
    "start_time": "2022-12-02T06:57:59.111Z"
   },
   {
    "duration": 51,
    "start_time": "2022-12-02T06:57:59.138Z"
   },
   {
    "duration": 42,
    "start_time": "2022-12-02T06:57:59.191Z"
   },
   {
    "duration": 38,
    "start_time": "2022-12-02T06:57:59.237Z"
   },
   {
    "duration": 42,
    "start_time": "2022-12-02T06:57:59.276Z"
   },
   {
    "duration": 65,
    "start_time": "2022-12-02T06:57:59.320Z"
   },
   {
    "duration": 860,
    "start_time": "2022-12-02T06:57:59.387Z"
   },
   {
    "duration": 157,
    "start_time": "2022-12-02T06:58:00.249Z"
   },
   {
    "duration": 21,
    "start_time": "2022-12-02T06:58:00.409Z"
   },
   {
    "duration": 92,
    "start_time": "2022-12-02T06:58:00.432Z"
   },
   {
    "duration": 103,
    "start_time": "2022-12-02T06:58:00.526Z"
   },
   {
    "duration": 77,
    "start_time": "2022-12-02T06:58:00.632Z"
   },
   {
    "duration": 7,
    "start_time": "2022-12-02T06:58:00.711Z"
   },
   {
    "duration": 91,
    "start_time": "2022-12-02T06:58:00.720Z"
   },
   {
    "duration": 9,
    "start_time": "2022-12-02T06:58:00.813Z"
   },
   {
    "duration": 31,
    "start_time": "2022-12-02T06:58:00.824Z"
   },
   {
    "duration": 63,
    "start_time": "2022-12-02T06:58:00.858Z"
   },
   {
    "duration": 7,
    "start_time": "2022-12-02T06:58:00.923Z"
   },
   {
    "duration": 82,
    "start_time": "2022-12-02T06:58:00.932Z"
   },
   {
    "duration": 7,
    "start_time": "2022-12-02T06:58:01.018Z"
   },
   {
    "duration": 100,
    "start_time": "2022-12-02T06:58:01.107Z"
   },
   {
    "duration": 66,
    "start_time": "2022-12-02T06:58:01.210Z"
   },
   {
    "duration": 49,
    "start_time": "2022-12-02T06:58:01.278Z"
   },
   {
    "duration": 77,
    "start_time": "2022-12-02T06:58:01.329Z"
   },
   {
    "duration": 40,
    "start_time": "2022-12-02T06:58:01.409Z"
   },
   {
    "duration": 65,
    "start_time": "2022-12-02T06:58:01.452Z"
   },
   {
    "duration": 53,
    "start_time": "2022-12-02T06:58:01.519Z"
   },
   {
    "duration": 42,
    "start_time": "2022-12-02T06:58:01.581Z"
   },
   {
    "duration": 49,
    "start_time": "2022-12-02T06:58:01.625Z"
   },
   {
    "duration": 32,
    "start_time": "2022-12-02T06:58:01.676Z"
   },
   {
    "duration": 55,
    "start_time": "2022-12-02T06:58:01.710Z"
   },
   {
    "duration": 6,
    "start_time": "2022-12-02T06:58:01.768Z"
   },
   {
    "duration": 64,
    "start_time": "2022-12-02T06:58:01.777Z"
   },
   {
    "duration": 170,
    "start_time": "2022-12-02T06:58:01.844Z"
   },
   {
    "duration": 88,
    "start_time": "2022-12-02T06:58:02.017Z"
   },
   {
    "duration": 62,
    "start_time": "2022-12-02T06:58:02.107Z"
   },
   {
    "duration": 32,
    "start_time": "2022-12-02T06:58:02.171Z"
   },
   {
    "duration": 45,
    "start_time": "2022-12-02T06:58:02.204Z"
   },
   {
    "duration": 44,
    "start_time": "2022-12-02T06:58:02.251Z"
   },
   {
    "duration": 51,
    "start_time": "2022-12-02T06:58:02.297Z"
   },
   {
    "duration": 54,
    "start_time": "2022-12-02T06:58:02.350Z"
   },
   {
    "duration": 55,
    "start_time": "2022-12-02T06:58:02.405Z"
   },
   {
    "duration": 53,
    "start_time": "2022-12-02T06:58:02.462Z"
   },
   {
    "duration": 23,
    "start_time": "2022-12-02T06:58:02.517Z"
   },
   {
    "duration": 38,
    "start_time": "2022-12-02T06:58:02.542Z"
   },
   {
    "duration": 27,
    "start_time": "2022-12-02T06:58:02.583Z"
   },
   {
    "duration": 61,
    "start_time": "2022-12-02T06:58:02.613Z"
   },
   {
    "duration": 128,
    "start_time": "2022-12-02T06:58:02.677Z"
   },
   {
    "duration": 118,
    "start_time": "2022-12-02T06:58:02.806Z"
   },
   {
    "duration": 26,
    "start_time": "2022-12-02T06:58:02.925Z"
   },
   {
    "duration": 26,
    "start_time": "2022-12-02T06:58:02.954Z"
   },
   {
    "duration": 24,
    "start_time": "2022-12-02T06:58:02.982Z"
   },
   {
    "duration": 28,
    "start_time": "2022-12-02T06:58:03.008Z"
   },
   {
    "duration": 30,
    "start_time": "2022-12-02T06:58:03.038Z"
   },
   {
    "duration": 23,
    "start_time": "2022-12-02T06:58:03.070Z"
   },
   {
    "duration": 28,
    "start_time": "2022-12-02T06:58:03.095Z"
   },
   {
    "duration": 68,
    "start_time": "2022-12-02T06:58:03.125Z"
   },
   {
    "duration": 24,
    "start_time": "2022-12-02T06:58:03.195Z"
   },
   {
    "duration": 50,
    "start_time": "2022-12-02T06:58:03.221Z"
   },
   {
    "duration": 82,
    "start_time": "2022-12-02T06:58:03.273Z"
   },
   {
    "duration": 76,
    "start_time": "2022-12-02T06:58:03.357Z"
   },
   {
    "duration": 49,
    "start_time": "2022-12-02T06:58:03.435Z"
   },
   {
    "duration": 39,
    "start_time": "2022-12-02T06:58:03.486Z"
   },
   {
    "duration": 55,
    "start_time": "2022-12-02T06:58:03.527Z"
   },
   {
    "duration": 36,
    "start_time": "2022-12-02T06:58:03.585Z"
   },
   {
    "duration": 36,
    "start_time": "2022-12-02T06:58:03.623Z"
   },
   {
    "duration": 29,
    "start_time": "2022-12-02T06:58:03.661Z"
   },
   {
    "duration": 44,
    "start_time": "2022-12-02T06:58:03.691Z"
   },
   {
    "duration": 1365,
    "start_time": "2022-12-02T06:58:03.736Z"
   },
   {
    "duration": 6,
    "start_time": "2022-12-02T06:58:05.102Z"
   },
   {
    "duration": 34,
    "start_time": "2022-12-02T06:58:05.109Z"
   },
   {
    "duration": 29,
    "start_time": "2022-12-02T06:58:05.146Z"
   },
   {
    "duration": 30,
    "start_time": "2022-12-02T06:58:05.177Z"
   },
   {
    "duration": 38,
    "start_time": "2022-12-02T06:58:05.209Z"
   },
   {
    "duration": 1390,
    "start_time": "2022-12-02T06:58:05.249Z"
   },
   {
    "duration": 4,
    "start_time": "2022-12-02T06:58:06.641Z"
   },
   {
    "duration": 24,
    "start_time": "2022-12-02T06:58:06.647Z"
   },
   {
    "duration": 8,
    "start_time": "2022-12-02T06:58:06.674Z"
   },
   {
    "duration": 8,
    "start_time": "2022-12-02T06:58:06.684Z"
   },
   {
    "duration": 10,
    "start_time": "2022-12-02T06:58:06.694Z"
   },
   {
    "duration": 1378,
    "start_time": "2022-12-02T06:58:06.706Z"
   },
   {
    "duration": 5,
    "start_time": "2022-12-02T06:58:08.086Z"
   },
   {
    "duration": 16,
    "start_time": "2022-12-02T06:58:08.093Z"
   },
   {
    "duration": 5,
    "start_time": "2022-12-02T06:58:08.111Z"
   },
   {
    "duration": 6,
    "start_time": "2022-12-02T06:58:08.118Z"
   },
   {
    "duration": 9,
    "start_time": "2022-12-02T06:58:08.126Z"
   },
   {
    "duration": 54,
    "start_time": "2022-12-02T07:03:03.322Z"
   },
   {
    "duration": 114,
    "start_time": "2022-12-02T07:03:15.274Z"
   },
   {
    "duration": 5,
    "start_time": "2022-12-02T07:03:46.855Z"
   },
   {
    "duration": 426,
    "start_time": "2022-12-02T07:03:48.206Z"
   },
   {
    "duration": 15,
    "start_time": "2022-12-02T07:03:50.123Z"
   },
   {
    "duration": 770,
    "start_time": "2022-12-02T07:03:50.761Z"
   },
   {
    "duration": 41,
    "start_time": "2022-12-02T07:03:52.127Z"
   },
   {
    "duration": 15,
    "start_time": "2022-12-02T07:03:53.180Z"
   },
   {
    "duration": 2,
    "start_time": "2022-12-02T07:03:55.015Z"
   },
   {
    "duration": 19,
    "start_time": "2022-12-02T07:03:56.377Z"
   },
   {
    "duration": 169,
    "start_time": "2022-12-02T07:04:12.113Z"
   },
   {
    "duration": 105,
    "start_time": "2022-12-02T07:04:30.312Z"
   },
   {
    "duration": 82,
    "start_time": "2022-12-02T07:04:39.135Z"
   },
   {
    "duration": 98,
    "start_time": "2022-12-02T07:04:46.119Z"
   },
   {
    "duration": 94,
    "start_time": "2022-12-02T07:05:06.366Z"
   },
   {
    "duration": 90,
    "start_time": "2022-12-02T07:05:14.450Z"
   },
   {
    "duration": 91,
    "start_time": "2022-12-02T07:05:18.552Z"
   },
   {
    "duration": 97,
    "start_time": "2022-12-02T07:05:26.527Z"
   },
   {
    "duration": 102,
    "start_time": "2022-12-02T07:05:32.609Z"
   },
   {
    "duration": 108,
    "start_time": "2022-12-02T07:05:39.779Z"
   },
   {
    "duration": 113,
    "start_time": "2022-12-02T07:05:46.799Z"
   },
   {
    "duration": 100,
    "start_time": "2022-12-02T07:05:50.923Z"
   },
   {
    "duration": 86,
    "start_time": "2022-12-02T07:05:54.507Z"
   },
   {
    "duration": 9,
    "start_time": "2022-12-02T07:07:51.787Z"
   },
   {
    "duration": 8,
    "start_time": "2022-12-02T07:07:59.930Z"
   },
   {
    "duration": 1835,
    "start_time": "2022-12-02T07:08:08.992Z"
   },
   {
    "duration": 5,
    "start_time": "2022-12-02T07:08:41.770Z"
   },
   {
    "duration": 24,
    "start_time": "2022-12-02T07:08:43.297Z"
   },
   {
    "duration": 7,
    "start_time": "2022-12-02T07:08:46.311Z"
   },
   {
    "duration": 4,
    "start_time": "2022-12-02T07:08:48.601Z"
   },
   {
    "duration": 1090,
    "start_time": "2022-12-02T07:10:42.733Z"
   },
   {
    "duration": 411,
    "start_time": "2022-12-02T07:10:43.825Z"
   },
   {
    "duration": 15,
    "start_time": "2022-12-02T07:10:44.238Z"
   },
   {
    "duration": 971,
    "start_time": "2022-12-02T07:10:44.254Z"
   },
   {
    "duration": 39,
    "start_time": "2022-12-02T07:10:45.227Z"
   },
   {
    "duration": 14,
    "start_time": "2022-12-02T07:10:45.268Z"
   },
   {
    "duration": 158,
    "start_time": "2022-12-02T07:10:45.283Z"
   },
   {
    "duration": 98,
    "start_time": "2022-12-02T07:10:45.443Z"
   },
   {
    "duration": 19,
    "start_time": "2022-12-02T07:10:45.543Z"
   },
   {
    "duration": 24,
    "start_time": "2022-12-02T07:10:45.564Z"
   },
   {
    "duration": 40,
    "start_time": "2022-12-02T07:10:45.589Z"
   },
   {
    "duration": 6,
    "start_time": "2022-12-02T07:10:45.631Z"
   },
   {
    "duration": 16,
    "start_time": "2022-12-02T07:10:45.639Z"
   },
   {
    "duration": 732,
    "start_time": "2022-12-02T07:10:45.658Z"
   },
   {
    "duration": 54,
    "start_time": "2022-12-02T07:10:46.392Z"
   },
   {
    "duration": 14,
    "start_time": "2022-12-02T07:10:46.448Z"
   },
   {
    "duration": 18,
    "start_time": "2022-12-02T07:10:46.463Z"
   },
   {
    "duration": 42,
    "start_time": "2022-12-02T07:10:46.482Z"
   },
   {
    "duration": 15,
    "start_time": "2022-12-02T07:10:46.525Z"
   },
   {
    "duration": 8,
    "start_time": "2022-12-02T07:10:46.542Z"
   },
   {
    "duration": 18,
    "start_time": "2022-12-02T07:10:46.551Z"
   },
   {
    "duration": 738,
    "start_time": "2022-12-02T07:10:46.571Z"
   },
   {
    "duration": 38,
    "start_time": "2022-12-02T07:10:47.317Z"
   },
   {
    "duration": 14,
    "start_time": "2022-12-02T07:10:47.357Z"
   },
   {
    "duration": 18,
    "start_time": "2022-12-02T07:10:47.373Z"
   },
   {
    "duration": 32,
    "start_time": "2022-12-02T07:10:47.408Z"
   },
   {
    "duration": 16,
    "start_time": "2022-12-02T07:10:47.441Z"
   },
   {
    "duration": 7,
    "start_time": "2022-12-02T07:10:47.459Z"
   },
   {
    "duration": 23,
    "start_time": "2022-12-02T07:10:47.467Z"
   },
   {
    "duration": 20,
    "start_time": "2022-12-02T07:10:47.492Z"
   },
   {
    "duration": 8,
    "start_time": "2022-12-02T07:10:47.514Z"
   },
   {
    "duration": 30,
    "start_time": "2022-12-02T07:10:47.523Z"
   },
   {
    "duration": 9,
    "start_time": "2022-12-02T07:10:47.555Z"
   },
   {
    "duration": 7,
    "start_time": "2022-12-02T07:10:47.566Z"
   },
   {
    "duration": 34,
    "start_time": "2022-12-02T07:10:47.575Z"
   },
   {
    "duration": 17,
    "start_time": "2022-12-02T07:10:47.611Z"
   },
   {
    "duration": 16,
    "start_time": "2022-12-02T07:10:47.630Z"
   },
   {
    "duration": 23,
    "start_time": "2022-12-02T07:10:47.648Z"
   },
   {
    "duration": 12,
    "start_time": "2022-12-02T07:10:47.673Z"
   },
   {
    "duration": 8,
    "start_time": "2022-12-02T07:10:47.687Z"
   },
   {
    "duration": 23,
    "start_time": "2022-12-02T07:10:47.701Z"
   },
   {
    "duration": 9,
    "start_time": "2022-12-02T07:10:47.726Z"
   },
   {
    "duration": 15,
    "start_time": "2022-12-02T07:10:47.737Z"
   },
   {
    "duration": 13,
    "start_time": "2022-12-02T07:10:47.755Z"
   },
   {
    "duration": 147,
    "start_time": "2022-12-02T07:10:47.770Z"
   },
   {
    "duration": 8,
    "start_time": "2022-12-02T07:10:47.919Z"
   },
   {
    "duration": 3,
    "start_time": "2022-12-02T07:10:47.928Z"
   },
   {
    "duration": 8,
    "start_time": "2022-12-02T07:10:47.933Z"
   },
   {
    "duration": 5,
    "start_time": "2022-12-02T07:10:47.942Z"
   },
   {
    "duration": 5,
    "start_time": "2022-12-02T07:10:47.949Z"
   },
   {
    "duration": 5,
    "start_time": "2022-12-02T07:10:47.956Z"
   },
   {
    "duration": 11,
    "start_time": "2022-12-02T07:10:47.962Z"
   },
   {
    "duration": 6,
    "start_time": "2022-12-02T07:10:47.975Z"
   },
   {
    "duration": 38,
    "start_time": "2022-12-02T07:10:47.982Z"
   },
   {
    "duration": 16,
    "start_time": "2022-12-02T07:10:48.022Z"
   },
   {
    "duration": 2,
    "start_time": "2022-12-02T07:10:48.040Z"
   },
   {
    "duration": 13,
    "start_time": "2022-12-02T07:10:48.044Z"
   },
   {
    "duration": 7,
    "start_time": "2022-12-02T07:10:48.059Z"
   },
   {
    "duration": 53,
    "start_time": "2022-12-02T07:10:48.067Z"
   },
   {
    "duration": 13,
    "start_time": "2022-12-02T07:10:48.209Z"
   },
   {
    "duration": 7,
    "start_time": "2022-12-02T07:10:48.223Z"
   },
   {
    "duration": 5,
    "start_time": "2022-12-02T07:10:48.232Z"
   },
   {
    "duration": 6,
    "start_time": "2022-12-02T07:10:48.239Z"
   },
   {
    "duration": 6,
    "start_time": "2022-12-02T07:10:48.247Z"
   },
   {
    "duration": 5,
    "start_time": "2022-12-02T07:10:48.255Z"
   },
   {
    "duration": 14,
    "start_time": "2022-12-02T07:10:48.263Z"
   },
   {
    "duration": 26,
    "start_time": "2022-12-02T07:10:48.279Z"
   },
   {
    "duration": 11,
    "start_time": "2022-12-02T07:10:48.306Z"
   },
   {
    "duration": 18,
    "start_time": "2022-12-02T07:10:48.323Z"
   },
   {
    "duration": 2,
    "start_time": "2022-12-02T07:10:48.343Z"
   },
   {
    "duration": 13,
    "start_time": "2022-12-02T07:10:48.346Z"
   },
   {
    "duration": 8,
    "start_time": "2022-12-02T07:10:48.360Z"
   },
   {
    "duration": 109,
    "start_time": "2022-12-02T07:10:48.413Z"
   },
   {
    "duration": 8,
    "start_time": "2022-12-02T07:10:48.524Z"
   },
   {
    "duration": 4,
    "start_time": "2022-12-02T07:10:48.534Z"
   },
   {
    "duration": 7,
    "start_time": "2022-12-02T07:10:48.539Z"
   },
   {
    "duration": 4,
    "start_time": "2022-12-02T07:10:48.548Z"
   },
   {
    "duration": 6,
    "start_time": "2022-12-02T07:10:48.553Z"
   },
   {
    "duration": 5,
    "start_time": "2022-12-02T07:10:48.560Z"
   },
   {
    "duration": 4,
    "start_time": "2022-12-02T07:10:48.567Z"
   },
   {
    "duration": 4,
    "start_time": "2022-12-02T07:10:48.573Z"
   },
   {
    "duration": 4,
    "start_time": "2022-12-02T07:10:48.579Z"
   },
   {
    "duration": 6,
    "start_time": "2022-12-02T07:10:48.584Z"
   },
   {
    "duration": 21,
    "start_time": "2022-12-02T07:10:48.592Z"
   },
   {
    "duration": 11,
    "start_time": "2022-12-02T07:10:48.614Z"
   },
   {
    "duration": 5,
    "start_time": "2022-12-02T07:10:48.627Z"
   },
   {
    "duration": 5,
    "start_time": "2022-12-02T07:10:48.634Z"
   },
   {
    "duration": 7,
    "start_time": "2022-12-02T07:10:48.640Z"
   },
   {
    "duration": 7,
    "start_time": "2022-12-02T07:10:48.648Z"
   },
   {
    "duration": 11,
    "start_time": "2022-12-02T07:10:48.656Z"
   },
   {
    "duration": 8,
    "start_time": "2022-12-02T07:10:48.668Z"
   },
   {
    "duration": 8,
    "start_time": "2022-12-02T07:10:48.677Z"
   },
   {
    "duration": 1257,
    "start_time": "2022-12-02T07:10:48.686Z"
   },
   {
    "duration": 5,
    "start_time": "2022-12-02T07:10:49.944Z"
   },
   {
    "duration": 23,
    "start_time": "2022-12-02T07:10:49.950Z"
   },
   {
    "duration": 10,
    "start_time": "2022-12-02T07:10:49.974Z"
   },
   {
    "duration": 41,
    "start_time": "2022-12-02T07:10:49.985Z"
   },
   {
    "duration": 40,
    "start_time": "2022-12-02T07:10:50.027Z"
   },
   {
    "duration": 1252,
    "start_time": "2022-12-02T07:10:50.069Z"
   },
   {
    "duration": 4,
    "start_time": "2022-12-02T07:10:51.323Z"
   },
   {
    "duration": 33,
    "start_time": "2022-12-02T07:10:51.328Z"
   },
   {
    "duration": 19,
    "start_time": "2022-12-02T07:10:51.363Z"
   },
   {
    "duration": 42,
    "start_time": "2022-12-02T07:10:51.383Z"
   },
   {
    "duration": 12,
    "start_time": "2022-12-02T07:10:51.426Z"
   },
   {
    "duration": 1670,
    "start_time": "2022-12-02T07:10:51.440Z"
   },
   {
    "duration": 4,
    "start_time": "2022-12-02T07:10:53.117Z"
   },
   {
    "duration": 7,
    "start_time": "2022-12-02T07:10:53.122Z"
   },
   {
    "duration": 6,
    "start_time": "2022-12-02T07:10:53.130Z"
   },
   {
    "duration": 9,
    "start_time": "2022-12-02T07:10:53.137Z"
   },
   {
    "duration": 5,
    "start_time": "2022-12-02T07:10:53.148Z"
   },
   {
    "duration": 1136,
    "start_time": "2022-12-02T07:12:23.896Z"
   },
   {
    "duration": 413,
    "start_time": "2022-12-02T07:12:25.034Z"
   },
   {
    "duration": 16,
    "start_time": "2022-12-02T07:12:25.449Z"
   },
   {
    "duration": 1023,
    "start_time": "2022-12-02T07:12:25.467Z"
   },
   {
    "duration": 45,
    "start_time": "2022-12-02T07:12:26.492Z"
   },
   {
    "duration": 39,
    "start_time": "2022-12-02T07:12:26.540Z"
   },
   {
    "duration": 172,
    "start_time": "2022-12-02T07:12:26.581Z"
   },
   {
    "duration": 103,
    "start_time": "2022-12-02T07:12:26.755Z"
   },
   {
    "duration": 18,
    "start_time": "2022-12-02T07:12:26.859Z"
   },
   {
    "duration": 65,
    "start_time": "2022-12-02T07:12:26.879Z"
   },
   {
    "duration": 45,
    "start_time": "2022-12-02T07:12:26.945Z"
   },
   {
    "duration": 6,
    "start_time": "2022-12-02T07:12:26.992Z"
   },
   {
    "duration": 55,
    "start_time": "2022-12-02T07:12:26.999Z"
   },
   {
    "duration": 814,
    "start_time": "2022-12-02T07:12:27.057Z"
   },
   {
    "duration": 49,
    "start_time": "2022-12-02T07:12:27.873Z"
   },
   {
    "duration": 17,
    "start_time": "2022-12-02T07:12:27.924Z"
   },
   {
    "duration": 55,
    "start_time": "2022-12-02T07:12:27.943Z"
   },
   {
    "duration": 54,
    "start_time": "2022-12-02T07:12:28.000Z"
   },
   {
    "duration": 19,
    "start_time": "2022-12-02T07:12:28.056Z"
   },
   {
    "duration": 22,
    "start_time": "2022-12-02T07:12:28.076Z"
   },
   {
    "duration": 50,
    "start_time": "2022-12-02T07:12:28.100Z"
   },
   {
    "duration": 830,
    "start_time": "2022-12-02T07:12:28.152Z"
   },
   {
    "duration": 61,
    "start_time": "2022-12-02T07:12:28.984Z"
   },
   {
    "duration": 15,
    "start_time": "2022-12-02T07:12:29.047Z"
   },
   {
    "duration": 19,
    "start_time": "2022-12-02T07:12:29.064Z"
   },
   {
    "duration": 63,
    "start_time": "2022-12-02T07:12:29.085Z"
   },
   {
    "duration": 26,
    "start_time": "2022-12-02T07:12:29.149Z"
   },
   {
    "duration": 16,
    "start_time": "2022-12-02T07:12:29.176Z"
   },
   {
    "duration": 56,
    "start_time": "2022-12-02T07:12:29.194Z"
   },
   {
    "duration": 7,
    "start_time": "2022-12-02T07:12:29.252Z"
   },
   {
    "duration": 33,
    "start_time": "2022-12-02T07:12:29.261Z"
   },
   {
    "duration": 15,
    "start_time": "2022-12-02T07:12:29.295Z"
   },
   {
    "duration": 54,
    "start_time": "2022-12-02T07:12:29.311Z"
   },
   {
    "duration": 6,
    "start_time": "2022-12-02T07:12:29.367Z"
   },
   {
    "duration": 22,
    "start_time": "2022-12-02T07:12:29.375Z"
   },
   {
    "duration": 49,
    "start_time": "2022-12-02T07:12:29.398Z"
   },
   {
    "duration": 15,
    "start_time": "2022-12-02T07:12:29.448Z"
   },
   {
    "duration": 29,
    "start_time": "2022-12-02T07:12:29.464Z"
   },
   {
    "duration": 11,
    "start_time": "2022-12-02T07:12:29.495Z"
   },
   {
    "duration": 49,
    "start_time": "2022-12-02T07:12:29.511Z"
   },
   {
    "duration": 51,
    "start_time": "2022-12-02T07:12:29.570Z"
   },
   {
    "duration": 121,
    "start_time": "2022-12-02T07:12:29.625Z"
   },
   {
    "duration": 10,
    "start_time": "2022-12-02T07:12:29.749Z"
   },
   {
    "duration": 20,
    "start_time": "2022-12-02T07:12:29.760Z"
   },
   {
    "duration": 21,
    "start_time": "2022-12-02T07:12:29.781Z"
   },
   {
    "duration": 46,
    "start_time": "2022-12-02T07:12:29.804Z"
   },
   {
    "duration": 15,
    "start_time": "2022-12-02T07:12:29.852Z"
   },
   {
    "duration": 14,
    "start_time": "2022-12-02T07:12:29.869Z"
   },
   {
    "duration": 55,
    "start_time": "2022-12-02T07:12:29.885Z"
   },
   {
    "duration": 9,
    "start_time": "2022-12-02T07:12:29.942Z"
   },
   {
    "duration": 26,
    "start_time": "2022-12-02T07:12:29.952Z"
   },
   {
    "duration": 63,
    "start_time": "2022-12-02T07:12:29.980Z"
   },
   {
    "duration": 31,
    "start_time": "2022-12-02T07:12:30.045Z"
   },
   {
    "duration": 43,
    "start_time": "2022-12-02T07:12:30.077Z"
   },
   {
    "duration": 58,
    "start_time": "2022-12-02T07:12:30.122Z"
   },
   {
    "duration": 153,
    "start_time": "2022-12-02T07:12:30.183Z"
   },
   {
    "duration": 59,
    "start_time": "2022-12-02T07:12:30.338Z"
   },
   {
    "duration": 44,
    "start_time": "2022-12-02T07:12:30.398Z"
   },
   {
    "duration": 25,
    "start_time": "2022-12-02T07:12:30.444Z"
   },
   {
    "duration": 32,
    "start_time": "2022-12-02T07:12:30.471Z"
   },
   {
    "duration": 54,
    "start_time": "2022-12-02T07:12:30.505Z"
   },
   {
    "duration": 19,
    "start_time": "2022-12-02T07:12:30.561Z"
   },
   {
    "duration": 36,
    "start_time": "2022-12-02T07:12:30.581Z"
   },
   {
    "duration": 54,
    "start_time": "2022-12-02T07:12:30.619Z"
   },
   {
    "duration": 74,
    "start_time": "2022-12-02T07:12:30.675Z"
   },
   {
    "duration": 92,
    "start_time": "2022-12-02T07:12:30.750Z"
   },
   {
    "duration": 90,
    "start_time": "2022-12-02T07:12:30.844Z"
   },
   {
    "duration": 35,
    "start_time": "2022-12-02T07:12:30.936Z"
   },
   {
    "duration": 89,
    "start_time": "2022-12-02T07:12:30.972Z"
   },
   {
    "duration": 146,
    "start_time": "2022-12-02T07:12:31.063Z"
   },
   {
    "duration": 59,
    "start_time": "2022-12-02T07:12:31.211Z"
   },
   {
    "duration": 21,
    "start_time": "2022-12-02T07:12:31.272Z"
   },
   {
    "duration": 45,
    "start_time": "2022-12-02T07:12:31.295Z"
   },
   {
    "duration": 24,
    "start_time": "2022-12-02T07:12:31.342Z"
   },
   {
    "duration": 31,
    "start_time": "2022-12-02T07:12:31.368Z"
   },
   {
    "duration": 55,
    "start_time": "2022-12-02T07:12:31.401Z"
   },
   {
    "duration": 23,
    "start_time": "2022-12-02T07:12:31.458Z"
   },
   {
    "duration": 42,
    "start_time": "2022-12-02T07:12:31.482Z"
   },
   {
    "duration": 25,
    "start_time": "2022-12-02T07:12:31.525Z"
   },
   {
    "duration": 24,
    "start_time": "2022-12-02T07:12:31.552Z"
   },
   {
    "duration": 21,
    "start_time": "2022-12-02T07:12:31.578Z"
   },
   {
    "duration": 51,
    "start_time": "2022-12-02T07:12:31.601Z"
   },
   {
    "duration": 12,
    "start_time": "2022-12-02T07:12:31.653Z"
   },
   {
    "duration": 7,
    "start_time": "2022-12-02T07:12:31.667Z"
   },
   {
    "duration": 6,
    "start_time": "2022-12-02T07:12:31.676Z"
   },
   {
    "duration": 5,
    "start_time": "2022-12-02T07:12:31.683Z"
   },
   {
    "duration": 5,
    "start_time": "2022-12-02T07:12:31.689Z"
   },
   {
    "duration": 37,
    "start_time": "2022-12-02T07:12:31.695Z"
   },
   {
    "duration": 6,
    "start_time": "2022-12-02T07:12:31.734Z"
   },
   {
    "duration": 1366,
    "start_time": "2022-12-02T07:12:31.742Z"
   },
   {
    "duration": 16,
    "start_time": "2022-12-02T07:12:33.115Z"
   },
   {
    "duration": 25,
    "start_time": "2022-12-02T07:12:33.133Z"
   },
   {
    "duration": 10,
    "start_time": "2022-12-02T07:12:33.159Z"
   },
   {
    "duration": 12,
    "start_time": "2022-12-02T07:12:33.170Z"
   },
   {
    "duration": 9,
    "start_time": "2022-12-02T07:12:33.183Z"
   },
   {
    "duration": 2415,
    "start_time": "2022-12-02T07:12:33.194Z"
   },
   {
    "duration": 10,
    "start_time": "2022-12-02T07:12:35.613Z"
   },
   {
    "duration": 18,
    "start_time": "2022-12-02T07:12:35.624Z"
   },
   {
    "duration": 6,
    "start_time": "2022-12-02T07:12:35.643Z"
   },
   {
    "duration": 9,
    "start_time": "2022-12-02T07:12:35.650Z"
   },
   {
    "duration": 6,
    "start_time": "2022-12-02T07:12:35.660Z"
   },
   {
    "duration": 1314,
    "start_time": "2022-12-02T07:12:35.668Z"
   },
   {
    "duration": 4,
    "start_time": "2022-12-02T07:12:36.984Z"
   },
   {
    "duration": 23,
    "start_time": "2022-12-02T07:12:36.990Z"
   },
   {
    "duration": 21,
    "start_time": "2022-12-02T07:12:37.016Z"
   },
   {
    "duration": 6,
    "start_time": "2022-12-02T07:12:37.038Z"
   },
   {
    "duration": 7,
    "start_time": "2022-12-02T07:12:37.046Z"
   },
   {
    "duration": 156,
    "start_time": "2022-12-02T07:14:39.222Z"
   },
   {
    "duration": 3,
    "start_time": "2022-12-02T07:16:17.239Z"
   },
   {
    "duration": 291,
    "start_time": "2022-12-02T07:16:18.229Z"
   },
   {
    "duration": 6,
    "start_time": "2022-12-02T07:16:29.019Z"
   },
   {
    "duration": 3,
    "start_time": "2022-12-02T07:16:33.228Z"
   },
   {
    "duration": 189,
    "start_time": "2022-12-02T07:16:33.729Z"
   },
   {
    "duration": 198,
    "start_time": "2022-12-02T07:25:45.973Z"
   },
   {
    "duration": 165,
    "start_time": "2022-12-02T07:26:03.625Z"
   },
   {
    "duration": 190,
    "start_time": "2022-12-02T07:26:15.586Z"
   },
   {
    "duration": 127,
    "start_time": "2022-12-02T07:26:40.033Z"
   },
   {
    "duration": 138,
    "start_time": "2022-12-02T07:26:45.234Z"
   },
   {
    "duration": 177,
    "start_time": "2022-12-02T07:27:03.343Z"
   },
   {
    "duration": 1146,
    "start_time": "2022-12-02T07:42:28.242Z"
   },
   {
    "duration": 393,
    "start_time": "2022-12-02T07:42:29.390Z"
   },
   {
    "duration": 16,
    "start_time": "2022-12-02T07:42:29.784Z"
   },
   {
    "duration": 1024,
    "start_time": "2022-12-02T07:42:29.804Z"
   },
   {
    "duration": 40,
    "start_time": "2022-12-02T07:42:30.830Z"
   },
   {
    "duration": 47,
    "start_time": "2022-12-02T07:42:30.872Z"
   },
   {
    "duration": 21,
    "start_time": "2022-12-02T07:42:30.921Z"
   },
   {
    "duration": 34,
    "start_time": "2022-12-02T07:42:30.943Z"
   },
   {
    "duration": 21,
    "start_time": "2022-12-02T07:42:30.979Z"
   },
   {
    "duration": 30,
    "start_time": "2022-12-02T07:42:31.002Z"
   },
   {
    "duration": 43,
    "start_time": "2022-12-02T07:42:31.034Z"
   },
   {
    "duration": 883,
    "start_time": "2022-12-02T07:42:31.079Z"
   },
   {
    "duration": 46,
    "start_time": "2022-12-02T07:42:31.964Z"
   },
   {
    "duration": 16,
    "start_time": "2022-12-02T07:42:32.015Z"
   },
   {
    "duration": 17,
    "start_time": "2022-12-02T07:42:32.033Z"
   },
   {
    "duration": 17,
    "start_time": "2022-12-02T07:42:32.052Z"
   },
   {
    "duration": 37,
    "start_time": "2022-12-02T07:42:32.071Z"
   },
   {
    "duration": 13,
    "start_time": "2022-12-02T07:42:32.109Z"
   },
   {
    "duration": 18,
    "start_time": "2022-12-02T07:42:32.124Z"
   },
   {
    "duration": 750,
    "start_time": "2022-12-02T07:42:32.144Z"
   },
   {
    "duration": 42,
    "start_time": "2022-12-02T07:42:32.896Z"
   },
   {
    "duration": 16,
    "start_time": "2022-12-02T07:42:32.939Z"
   },
   {
    "duration": 22,
    "start_time": "2022-12-02T07:42:32.957Z"
   },
   {
    "duration": 57,
    "start_time": "2022-12-02T07:42:32.981Z"
   },
   {
    "duration": 16,
    "start_time": "2022-12-02T07:42:33.040Z"
   },
   {
    "duration": 8,
    "start_time": "2022-12-02T07:42:33.058Z"
   },
   {
    "duration": 14,
    "start_time": "2022-12-02T07:42:33.067Z"
   },
   {
    "duration": 7,
    "start_time": "2022-12-02T07:42:33.083Z"
   },
   {
    "duration": 8,
    "start_time": "2022-12-02T07:42:33.106Z"
   },
   {
    "duration": 21,
    "start_time": "2022-12-02T07:42:33.115Z"
   },
   {
    "duration": 3,
    "start_time": "2022-12-02T07:42:33.138Z"
   },
   {
    "duration": 17,
    "start_time": "2022-12-02T07:42:33.142Z"
   },
   {
    "duration": 54,
    "start_time": "2022-12-02T07:42:33.160Z"
   },
   {
    "duration": 106,
    "start_time": "2022-12-02T07:42:33.220Z"
   },
   {
    "duration": 7,
    "start_time": "2022-12-02T07:42:33.328Z"
   },
   {
    "duration": 6,
    "start_time": "2022-12-02T07:42:33.337Z"
   },
   {
    "duration": 6,
    "start_time": "2022-12-02T07:42:33.345Z"
   },
   {
    "duration": 8,
    "start_time": "2022-12-02T07:42:33.353Z"
   },
   {
    "duration": 3,
    "start_time": "2022-12-02T07:42:33.363Z"
   },
   {
    "duration": 8,
    "start_time": "2022-12-02T07:42:33.368Z"
   },
   {
    "duration": 12,
    "start_time": "2022-12-02T07:42:33.380Z"
   },
   {
    "duration": 18,
    "start_time": "2022-12-02T07:42:33.394Z"
   },
   {
    "duration": 17,
    "start_time": "2022-12-02T07:42:33.414Z"
   },
   {
    "duration": 18,
    "start_time": "2022-12-02T07:42:33.433Z"
   },
   {
    "duration": 2,
    "start_time": "2022-12-02T07:42:33.453Z"
   },
   {
    "duration": 14,
    "start_time": "2022-12-02T07:42:33.457Z"
   },
   {
    "duration": 43,
    "start_time": "2022-12-02T07:42:33.472Z"
   },
   {
    "duration": 91,
    "start_time": "2022-12-02T07:42:33.517Z"
   },
   {
    "duration": 105,
    "start_time": "2022-12-02T07:42:33.617Z"
   },
   {
    "duration": 4,
    "start_time": "2022-12-02T07:42:33.724Z"
   },
   {
    "duration": 11,
    "start_time": "2022-12-02T07:42:33.729Z"
   },
   {
    "duration": 5,
    "start_time": "2022-12-02T07:42:33.741Z"
   },
   {
    "duration": 9,
    "start_time": "2022-12-02T07:42:33.747Z"
   },
   {
    "duration": 5,
    "start_time": "2022-12-02T07:42:33.758Z"
   },
   {
    "duration": 16,
    "start_time": "2022-12-02T07:42:33.765Z"
   },
   {
    "duration": 8,
    "start_time": "2022-12-02T07:42:33.783Z"
   },
   {
    "duration": 28,
    "start_time": "2022-12-02T07:42:33.793Z"
   },
   {
    "duration": 18,
    "start_time": "2022-12-02T07:42:33.824Z"
   },
   {
    "duration": 3,
    "start_time": "2022-12-02T07:42:33.844Z"
   },
   {
    "duration": 14,
    "start_time": "2022-12-02T07:42:33.849Z"
   },
   {
    "duration": 5,
    "start_time": "2022-12-02T07:42:33.864Z"
   },
   {
    "duration": 151,
    "start_time": "2022-12-02T07:42:33.871Z"
   },
   {
    "duration": 7,
    "start_time": "2022-12-02T07:42:34.024Z"
   },
   {
    "duration": 6,
    "start_time": "2022-12-02T07:42:34.033Z"
   },
   {
    "duration": 9,
    "start_time": "2022-12-02T07:42:34.041Z"
   },
   {
    "duration": 8,
    "start_time": "2022-12-02T07:42:34.051Z"
   },
   {
    "duration": 5,
    "start_time": "2022-12-02T07:42:34.061Z"
   },
   {
    "duration": 9,
    "start_time": "2022-12-02T07:42:34.068Z"
   },
   {
    "duration": 4,
    "start_time": "2022-12-02T07:42:34.078Z"
   },
   {
    "duration": 5,
    "start_time": "2022-12-02T07:42:34.083Z"
   },
   {
    "duration": 8,
    "start_time": "2022-12-02T07:42:34.090Z"
   },
   {
    "duration": 19,
    "start_time": "2022-12-02T07:42:34.100Z"
   },
   {
    "duration": 4,
    "start_time": "2022-12-02T07:42:34.121Z"
   },
   {
    "duration": 10,
    "start_time": "2022-12-02T07:42:34.127Z"
   },
   {
    "duration": 8,
    "start_time": "2022-12-02T07:42:34.139Z"
   },
   {
    "duration": 7,
    "start_time": "2022-12-02T07:42:34.149Z"
   },
   {
    "duration": 10,
    "start_time": "2022-12-02T07:42:34.161Z"
   },
   {
    "duration": 5,
    "start_time": "2022-12-02T07:42:34.173Z"
   },
   {
    "duration": 20,
    "start_time": "2022-12-02T07:42:34.179Z"
   },
   {
    "duration": 17,
    "start_time": "2022-12-02T07:42:34.201Z"
   },
   {
    "duration": 11,
    "start_time": "2022-12-02T07:42:34.220Z"
   },
   {
    "duration": 1339,
    "start_time": "2022-12-02T07:42:34.233Z"
   },
   {
    "duration": 4,
    "start_time": "2022-12-02T07:42:35.574Z"
   },
   {
    "duration": 39,
    "start_time": "2022-12-02T07:42:35.580Z"
   },
   {
    "duration": 16,
    "start_time": "2022-12-02T07:42:35.621Z"
   },
   {
    "duration": 46,
    "start_time": "2022-12-02T07:42:35.639Z"
   },
   {
    "duration": 12,
    "start_time": "2022-12-02T07:42:35.687Z"
   },
   {
    "duration": 1351,
    "start_time": "2022-12-02T07:42:35.701Z"
   },
   {
    "duration": 5,
    "start_time": "2022-12-02T07:42:37.053Z"
   },
   {
    "duration": 9,
    "start_time": "2022-12-02T07:42:37.060Z"
   },
   {
    "duration": 6,
    "start_time": "2022-12-02T07:42:37.071Z"
   },
   {
    "duration": 8,
    "start_time": "2022-12-02T07:42:37.078Z"
   },
   {
    "duration": 22,
    "start_time": "2022-12-02T07:42:37.087Z"
   },
   {
    "duration": 1458,
    "start_time": "2022-12-02T07:42:37.112Z"
   },
   {
    "duration": 4,
    "start_time": "2022-12-02T07:42:38.572Z"
   },
   {
    "duration": 32,
    "start_time": "2022-12-02T07:42:38.578Z"
   },
   {
    "duration": 39,
    "start_time": "2022-12-02T07:42:38.611Z"
   },
   {
    "duration": 27,
    "start_time": "2022-12-02T07:42:38.652Z"
   },
   {
    "duration": 28,
    "start_time": "2022-12-02T07:42:38.680Z"
   },
   {
    "duration": 1235,
    "start_time": "2022-12-02T07:43:41.673Z"
   },
   {
    "duration": 421,
    "start_time": "2022-12-02T07:43:42.912Z"
   },
   {
    "duration": 15,
    "start_time": "2022-12-02T07:43:43.334Z"
   },
   {
    "duration": 1038,
    "start_time": "2022-12-02T07:43:43.351Z"
   },
   {
    "duration": 53,
    "start_time": "2022-12-02T07:43:44.391Z"
   },
   {
    "duration": 48,
    "start_time": "2022-12-02T07:43:44.446Z"
   },
   {
    "duration": 89,
    "start_time": "2022-12-02T07:43:44.496Z"
   },
   {
    "duration": 78,
    "start_time": "2022-12-02T07:43:44.586Z"
   },
   {
    "duration": 76,
    "start_time": "2022-12-02T07:43:44.666Z"
   },
   {
    "duration": 26,
    "start_time": "2022-12-02T07:43:44.746Z"
   },
   {
    "duration": 35,
    "start_time": "2022-12-02T07:43:44.774Z"
   },
   {
    "duration": 855,
    "start_time": "2022-12-02T07:43:44.816Z"
   },
   {
    "duration": 52,
    "start_time": "2022-12-02T07:43:45.673Z"
   },
   {
    "duration": 15,
    "start_time": "2022-12-02T07:43:45.727Z"
   },
   {
    "duration": 20,
    "start_time": "2022-12-02T07:43:45.744Z"
   },
   {
    "duration": 20,
    "start_time": "2022-12-02T07:43:45.766Z"
   },
   {
    "duration": 37,
    "start_time": "2022-12-02T07:43:45.787Z"
   },
   {
    "duration": 9,
    "start_time": "2022-12-02T07:43:45.826Z"
   },
   {
    "duration": 24,
    "start_time": "2022-12-02T07:43:45.837Z"
   },
   {
    "duration": 750,
    "start_time": "2022-12-02T07:43:45.863Z"
   },
   {
    "duration": 37,
    "start_time": "2022-12-02T07:43:46.616Z"
   },
   {
    "duration": 21,
    "start_time": "2022-12-02T07:43:46.655Z"
   },
   {
    "duration": 31,
    "start_time": "2022-12-02T07:43:46.678Z"
   },
   {
    "duration": 28,
    "start_time": "2022-12-02T07:43:46.713Z"
   },
   {
    "duration": 22,
    "start_time": "2022-12-02T07:43:46.742Z"
   },
   {
    "duration": 14,
    "start_time": "2022-12-02T07:43:46.766Z"
   },
   {
    "duration": 19,
    "start_time": "2022-12-02T07:43:46.782Z"
   },
   {
    "duration": 25,
    "start_time": "2022-12-02T07:43:46.804Z"
   },
   {
    "duration": 11,
    "start_time": "2022-12-02T07:43:46.832Z"
   },
   {
    "duration": 27,
    "start_time": "2022-12-02T07:43:46.845Z"
   },
   {
    "duration": 4,
    "start_time": "2022-12-02T07:43:46.873Z"
   },
   {
    "duration": 21,
    "start_time": "2022-12-02T07:43:46.878Z"
   },
   {
    "duration": 35,
    "start_time": "2022-12-02T07:43:46.901Z"
   },
   {
    "duration": 115,
    "start_time": "2022-12-02T07:43:47.006Z"
   },
   {
    "duration": 22,
    "start_time": "2022-12-02T07:43:47.123Z"
   },
   {
    "duration": 22,
    "start_time": "2022-12-02T07:43:47.147Z"
   },
   {
    "duration": 18,
    "start_time": "2022-12-02T07:43:47.170Z"
   },
   {
    "duration": 22,
    "start_time": "2022-12-02T07:43:47.189Z"
   },
   {
    "duration": 26,
    "start_time": "2022-12-02T07:43:47.212Z"
   },
   {
    "duration": 23,
    "start_time": "2022-12-02T07:43:47.240Z"
   },
   {
    "duration": 30,
    "start_time": "2022-12-02T07:43:47.265Z"
   },
   {
    "duration": 9,
    "start_time": "2022-12-02T07:43:47.297Z"
   },
   {
    "duration": 30,
    "start_time": "2022-12-02T07:43:47.307Z"
   },
   {
    "duration": 34,
    "start_time": "2022-12-02T07:43:47.339Z"
   },
   {
    "duration": 13,
    "start_time": "2022-12-02T07:43:47.376Z"
   },
   {
    "duration": 35,
    "start_time": "2022-12-02T07:43:47.391Z"
   },
   {
    "duration": 25,
    "start_time": "2022-12-02T07:43:47.429Z"
   },
   {
    "duration": 141,
    "start_time": "2022-12-02T07:43:47.506Z"
   },
   {
    "duration": 15,
    "start_time": "2022-12-02T07:43:47.650Z"
   },
   {
    "duration": 8,
    "start_time": "2022-12-02T07:43:47.666Z"
   },
   {
    "duration": 8,
    "start_time": "2022-12-02T07:43:47.678Z"
   },
   {
    "duration": 11,
    "start_time": "2022-12-02T07:43:47.688Z"
   },
   {
    "duration": 19,
    "start_time": "2022-12-02T07:43:47.701Z"
   },
   {
    "duration": 7,
    "start_time": "2022-12-02T07:43:47.722Z"
   },
   {
    "duration": 11,
    "start_time": "2022-12-02T07:43:47.731Z"
   },
   {
    "duration": 6,
    "start_time": "2022-12-02T07:43:47.743Z"
   },
   {
    "duration": 7,
    "start_time": "2022-12-02T07:43:47.750Z"
   },
   {
    "duration": 20,
    "start_time": "2022-12-02T07:43:47.758Z"
   },
   {
    "duration": 2,
    "start_time": "2022-12-02T07:43:47.780Z"
   },
   {
    "duration": 14,
    "start_time": "2022-12-02T07:43:47.784Z"
   },
   {
    "duration": 26,
    "start_time": "2022-12-02T07:43:47.799Z"
   },
   {
    "duration": 196,
    "start_time": "2022-12-02T07:43:47.827Z"
   },
   {
    "duration": 7,
    "start_time": "2022-12-02T07:43:48.025Z"
   },
   {
    "duration": 10,
    "start_time": "2022-12-02T07:43:48.033Z"
   },
   {
    "duration": 9,
    "start_time": "2022-12-02T07:43:48.045Z"
   },
   {
    "duration": 5,
    "start_time": "2022-12-02T07:43:48.056Z"
   },
   {
    "duration": 6,
    "start_time": "2022-12-02T07:43:48.063Z"
   },
   {
    "duration": 7,
    "start_time": "2022-12-02T07:43:48.070Z"
   },
   {
    "duration": 7,
    "start_time": "2022-12-02T07:43:48.079Z"
   },
   {
    "duration": 5,
    "start_time": "2022-12-02T07:43:48.087Z"
   },
   {
    "duration": 5,
    "start_time": "2022-12-02T07:43:48.094Z"
   },
   {
    "duration": 19,
    "start_time": "2022-12-02T07:43:48.101Z"
   },
   {
    "duration": 7,
    "start_time": "2022-12-02T07:43:48.123Z"
   },
   {
    "duration": 9,
    "start_time": "2022-12-02T07:43:48.132Z"
   },
   {
    "duration": 9,
    "start_time": "2022-12-02T07:43:48.143Z"
   },
   {
    "duration": 18,
    "start_time": "2022-12-02T07:43:48.153Z"
   },
   {
    "duration": 6,
    "start_time": "2022-12-02T07:43:48.173Z"
   },
   {
    "duration": 7,
    "start_time": "2022-12-02T07:43:48.181Z"
   },
   {
    "duration": 12,
    "start_time": "2022-12-02T07:43:48.189Z"
   },
   {
    "duration": 25,
    "start_time": "2022-12-02T07:43:48.203Z"
   },
   {
    "duration": 9,
    "start_time": "2022-12-02T07:43:48.230Z"
   },
   {
    "duration": 1365,
    "start_time": "2022-12-02T07:43:48.244Z"
   },
   {
    "duration": 4,
    "start_time": "2022-12-02T07:43:49.618Z"
   },
   {
    "duration": 7,
    "start_time": "2022-12-02T07:43:49.624Z"
   },
   {
    "duration": 6,
    "start_time": "2022-12-02T07:43:49.633Z"
   },
   {
    "duration": 5,
    "start_time": "2022-12-02T07:43:49.641Z"
   },
   {
    "duration": 12,
    "start_time": "2022-12-02T07:43:49.647Z"
   },
   {
    "duration": 1334,
    "start_time": "2022-12-02T07:43:49.660Z"
   },
   {
    "duration": 15,
    "start_time": "2022-12-02T07:43:50.996Z"
   },
   {
    "duration": 15,
    "start_time": "2022-12-02T07:43:51.013Z"
   },
   {
    "duration": 12,
    "start_time": "2022-12-02T07:43:51.030Z"
   },
   {
    "duration": 17,
    "start_time": "2022-12-02T07:43:51.044Z"
   },
   {
    "duration": 27,
    "start_time": "2022-12-02T07:43:51.063Z"
   },
   {
    "duration": 1416,
    "start_time": "2022-12-02T07:43:51.092Z"
   },
   {
    "duration": 9,
    "start_time": "2022-12-02T07:43:52.509Z"
   },
   {
    "duration": 8,
    "start_time": "2022-12-02T07:43:52.521Z"
   },
   {
    "duration": 6,
    "start_time": "2022-12-02T07:43:52.532Z"
   },
   {
    "duration": 6,
    "start_time": "2022-12-02T07:43:52.539Z"
   },
   {
    "duration": 9,
    "start_time": "2022-12-02T07:43:52.546Z"
   },
   {
    "duration": 3028,
    "start_time": "2022-12-02T15:31:50.029Z"
   },
   {
    "duration": 2549,
    "start_time": "2022-12-02T15:31:53.059Z"
   },
   {
    "duration": 18,
    "start_time": "2022-12-02T15:31:55.613Z"
   },
   {
    "duration": 1580,
    "start_time": "2022-12-02T15:31:55.634Z"
   },
   {
    "duration": 55,
    "start_time": "2022-12-02T15:31:57.216Z"
   },
   {
    "duration": 27,
    "start_time": "2022-12-02T15:31:57.273Z"
   },
   {
    "duration": 36,
    "start_time": "2022-12-02T15:31:57.302Z"
   },
   {
    "duration": 38,
    "start_time": "2022-12-02T15:31:57.341Z"
   },
   {
    "duration": 27,
    "start_time": "2022-12-02T15:31:57.383Z"
   },
   {
    "duration": 8,
    "start_time": "2022-12-02T15:31:57.414Z"
   },
   {
    "duration": 28,
    "start_time": "2022-12-02T15:31:57.424Z"
   },
   {
    "duration": 1053,
    "start_time": "2022-12-02T15:31:57.458Z"
   },
   {
    "duration": 54,
    "start_time": "2022-12-02T15:31:58.513Z"
   },
   {
    "duration": 21,
    "start_time": "2022-12-02T15:31:58.569Z"
   },
   {
    "duration": 58,
    "start_time": "2022-12-02T15:31:58.591Z"
   },
   {
    "duration": 78,
    "start_time": "2022-12-02T15:31:58.653Z"
   },
   {
    "duration": 25,
    "start_time": "2022-12-02T15:31:58.733Z"
   },
   {
    "duration": 55,
    "start_time": "2022-12-02T15:31:58.760Z"
   },
   {
    "duration": 27,
    "start_time": "2022-12-02T15:31:58.817Z"
   },
   {
    "duration": 1302,
    "start_time": "2022-12-02T15:31:58.847Z"
   },
   {
    "duration": 56,
    "start_time": "2022-12-02T15:32:00.160Z"
   },
   {
    "duration": 123,
    "start_time": "2022-12-02T15:32:00.218Z"
   },
   {
    "duration": 132,
    "start_time": "2022-12-02T15:32:00.344Z"
   },
   {
    "duration": 141,
    "start_time": "2022-12-02T15:32:00.484Z"
   },
   {
    "duration": 107,
    "start_time": "2022-12-02T15:32:00.628Z"
   },
   {
    "duration": 10,
    "start_time": "2022-12-02T15:32:00.737Z"
   },
   {
    "duration": 98,
    "start_time": "2022-12-02T15:32:00.749Z"
   },
   {
    "duration": 73,
    "start_time": "2022-12-02T15:32:00.853Z"
   },
   {
    "duration": 17,
    "start_time": "2022-12-02T15:32:00.928Z"
   },
   {
    "duration": 97,
    "start_time": "2022-12-02T15:32:00.947Z"
   },
   {
    "duration": 83,
    "start_time": "2022-12-02T15:32:01.046Z"
   },
   {
    "duration": 49,
    "start_time": "2022-12-02T15:32:01.131Z"
   },
   {
    "duration": 113,
    "start_time": "2022-12-02T15:32:01.182Z"
   },
   {
    "duration": 121,
    "start_time": "2022-12-02T15:32:01.303Z"
   },
   {
    "duration": 29,
    "start_time": "2022-12-02T15:32:01.426Z"
   },
   {
    "duration": 70,
    "start_time": "2022-12-02T15:32:01.456Z"
   },
   {
    "duration": 18,
    "start_time": "2022-12-02T15:32:01.528Z"
   },
   {
    "duration": 75,
    "start_time": "2022-12-02T15:32:01.548Z"
   },
   {
    "duration": 19,
    "start_time": "2022-12-02T15:32:01.625Z"
   },
   {
    "duration": 80,
    "start_time": "2022-12-02T15:32:01.646Z"
   },
   {
    "duration": 41,
    "start_time": "2022-12-02T15:32:01.728Z"
   },
   {
    "duration": 57,
    "start_time": "2022-12-02T15:32:01.774Z"
   },
   {
    "duration": 64,
    "start_time": "2022-12-02T15:32:01.834Z"
   },
   {
    "duration": 35,
    "start_time": "2022-12-02T15:32:01.900Z"
   },
   {
    "duration": 51,
    "start_time": "2022-12-02T15:32:01.937Z"
   },
   {
    "duration": 42,
    "start_time": "2022-12-02T15:32:01.989Z"
   },
   {
    "duration": 8,
    "start_time": "2022-12-02T15:32:02.034Z"
   },
   {
    "duration": 154,
    "start_time": "2022-12-02T15:32:02.049Z"
   },
   {
    "duration": 45,
    "start_time": "2022-12-02T15:32:02.205Z"
   },
   {
    "duration": 48,
    "start_time": "2022-12-02T15:32:02.252Z"
   },
   {
    "duration": 27,
    "start_time": "2022-12-02T15:32:02.310Z"
   },
   {
    "duration": 82,
    "start_time": "2022-12-02T15:32:02.340Z"
   },
   {
    "duration": 24,
    "start_time": "2022-12-02T15:32:02.424Z"
   },
   {
    "duration": 80,
    "start_time": "2022-12-02T15:32:02.450Z"
   },
   {
    "duration": 31,
    "start_time": "2022-12-02T15:32:02.533Z"
   },
   {
    "duration": 53,
    "start_time": "2022-12-02T15:32:02.566Z"
   },
   {
    "duration": 8,
    "start_time": "2022-12-02T15:32:02.621Z"
   },
   {
    "duration": 36,
    "start_time": "2022-12-02T15:32:02.631Z"
   },
   {
    "duration": 44,
    "start_time": "2022-12-02T15:32:02.669Z"
   },
   {
    "duration": 19,
    "start_time": "2022-12-02T15:32:02.715Z"
   },
   {
    "duration": 7,
    "start_time": "2022-12-02T15:32:02.737Z"
   },
   {
    "duration": 163,
    "start_time": "2022-12-02T15:32:02.747Z"
   },
   {
    "duration": 12,
    "start_time": "2022-12-02T15:32:02.913Z"
   },
   {
    "duration": 3,
    "start_time": "2022-12-02T15:32:02.928Z"
   },
   {
    "duration": 9,
    "start_time": "2022-12-02T15:32:02.933Z"
   },
   {
    "duration": 65,
    "start_time": "2022-12-02T15:32:02.945Z"
   },
   {
    "duration": 11,
    "start_time": "2022-12-02T15:32:03.012Z"
   },
   {
    "duration": 9,
    "start_time": "2022-12-02T15:32:03.026Z"
   },
   {
    "duration": 7,
    "start_time": "2022-12-02T15:32:03.037Z"
   },
   {
    "duration": 53,
    "start_time": "2022-12-02T15:32:03.046Z"
   },
   {
    "duration": 5,
    "start_time": "2022-12-02T15:32:03.100Z"
   },
   {
    "duration": 6,
    "start_time": "2022-12-02T15:32:03.108Z"
   },
   {
    "duration": 6,
    "start_time": "2022-12-02T15:32:03.116Z"
   },
   {
    "duration": 13,
    "start_time": "2022-12-02T15:32:03.125Z"
   },
   {
    "duration": 37,
    "start_time": "2022-12-02T15:32:03.140Z"
   },
   {
    "duration": 42,
    "start_time": "2022-12-02T15:32:03.179Z"
   },
   {
    "duration": 14,
    "start_time": "2022-12-02T15:32:03.223Z"
   },
   {
    "duration": 17,
    "start_time": "2022-12-02T15:32:03.239Z"
   },
   {
    "duration": 68,
    "start_time": "2022-12-02T15:32:03.258Z"
   },
   {
    "duration": 12,
    "start_time": "2022-12-02T15:32:03.328Z"
   },
   {
    "duration": 62,
    "start_time": "2022-12-02T15:32:03.342Z"
   },
   {
    "duration": 1719,
    "start_time": "2022-12-02T15:32:03.413Z"
   },
   {
    "duration": 6,
    "start_time": "2022-12-02T15:32:05.134Z"
   },
   {
    "duration": 23,
    "start_time": "2022-12-02T15:32:05.142Z"
   },
   {
    "duration": 68,
    "start_time": "2022-12-02T15:32:05.168Z"
   },
   {
    "duration": 17,
    "start_time": "2022-12-02T15:32:05.239Z"
   },
   {
    "duration": 64,
    "start_time": "2022-12-02T15:32:05.259Z"
   },
   {
    "duration": 1745,
    "start_time": "2022-12-02T15:32:05.325Z"
   },
   {
    "duration": 6,
    "start_time": "2022-12-02T15:32:07.072Z"
   },
   {
    "duration": 7,
    "start_time": "2022-12-02T15:32:07.079Z"
   },
   {
    "duration": 32,
    "start_time": "2022-12-02T15:32:07.087Z"
   },
   {
    "duration": 7,
    "start_time": "2022-12-02T15:32:07.121Z"
   },
   {
    "duration": 7,
    "start_time": "2022-12-02T15:32:07.130Z"
   },
   {
    "duration": 1724,
    "start_time": "2022-12-02T15:32:07.139Z"
   },
   {
    "duration": 7,
    "start_time": "2022-12-02T15:32:08.865Z"
   },
   {
    "duration": 57,
    "start_time": "2022-12-02T15:32:08.874Z"
   },
   {
    "duration": 59,
    "start_time": "2022-12-02T15:32:08.933Z"
   },
   {
    "duration": 34,
    "start_time": "2022-12-02T15:32:08.994Z"
   },
   {
    "duration": 17,
    "start_time": "2022-12-02T15:32:09.032Z"
   },
   {
    "duration": 6,
    "start_time": "2022-12-02T15:39:21.641Z"
   },
   {
    "duration": 15,
    "start_time": "2022-12-02T15:45:46.302Z"
   },
   {
    "duration": 6,
    "start_time": "2022-12-02T15:46:02.525Z"
   },
   {
    "duration": 49,
    "start_time": "2022-12-03T12:25:46.178Z"
   },
   {
    "duration": 1061,
    "start_time": "2022-12-03T12:26:05.283Z"
   },
   {
    "duration": 632,
    "start_time": "2022-12-03T12:26:06.346Z"
   },
   {
    "duration": 14,
    "start_time": "2022-12-03T12:26:06.980Z"
   },
   {
    "duration": 1983,
    "start_time": "2022-12-03T12:26:06.996Z"
   },
   {
    "duration": 36,
    "start_time": "2022-12-03T12:26:08.981Z"
   },
   {
    "duration": 15,
    "start_time": "2022-12-03T12:26:09.018Z"
   },
   {
    "duration": 17,
    "start_time": "2022-12-03T12:26:09.035Z"
   },
   {
    "duration": 14,
    "start_time": "2022-12-03T12:26:09.077Z"
   },
   {
    "duration": 15,
    "start_time": "2022-12-03T12:26:09.093Z"
   },
   {
    "duration": 11,
    "start_time": "2022-12-03T12:26:09.111Z"
   },
   {
    "duration": 21,
    "start_time": "2022-12-03T12:26:09.124Z"
   },
   {
    "duration": 767,
    "start_time": "2022-12-03T12:26:09.147Z"
   },
   {
    "duration": 34,
    "start_time": "2022-12-03T12:26:09.916Z"
   },
   {
    "duration": 25,
    "start_time": "2022-12-03T12:26:09.952Z"
   },
   {
    "duration": 16,
    "start_time": "2022-12-03T12:26:09.979Z"
   },
   {
    "duration": 32,
    "start_time": "2022-12-03T12:26:09.997Z"
   },
   {
    "duration": 15,
    "start_time": "2022-12-03T12:26:10.030Z"
   },
   {
    "duration": 18,
    "start_time": "2022-12-03T12:26:10.046Z"
   },
   {
    "duration": 28,
    "start_time": "2022-12-03T12:26:10.065Z"
   },
   {
    "duration": 699,
    "start_time": "2022-12-03T12:26:10.095Z"
   },
   {
    "duration": 33,
    "start_time": "2022-12-03T12:26:10.796Z"
   },
   {
    "duration": 105,
    "start_time": "2022-12-03T12:26:10.830Z"
   },
   {
    "duration": 16,
    "start_time": "2022-12-03T12:26:10.936Z"
   },
   {
    "duration": 25,
    "start_time": "2022-12-03T12:26:10.954Z"
   },
   {
    "duration": 14,
    "start_time": "2022-12-03T12:26:10.981Z"
   },
   {
    "duration": 5,
    "start_time": "2022-12-03T12:26:10.997Z"
   },
   {
    "duration": 17,
    "start_time": "2022-12-03T12:26:11.003Z"
   },
   {
    "duration": 5,
    "start_time": "2022-12-03T12:26:11.024Z"
   },
   {
    "duration": 13,
    "start_time": "2022-12-03T12:26:11.030Z"
   },
   {
    "duration": 19,
    "start_time": "2022-12-03T12:26:11.044Z"
   },
   {
    "duration": 2,
    "start_time": "2022-12-03T12:26:11.065Z"
   },
   {
    "duration": 19,
    "start_time": "2022-12-03T12:26:11.068Z"
   },
   {
    "duration": 188,
    "start_time": "2022-12-03T12:26:11.089Z"
   },
   {
    "duration": 105,
    "start_time": "2022-12-03T12:26:11.279Z"
   },
   {
    "duration": 98,
    "start_time": "2022-12-03T12:26:11.387Z"
   },
   {
    "duration": 14,
    "start_time": "2022-12-03T12:26:11.486Z"
   },
   {
    "duration": 21,
    "start_time": "2022-12-03T12:26:11.501Z"
   },
   {
    "duration": 19,
    "start_time": "2022-12-03T12:26:11.525Z"
   },
   {
    "duration": 15,
    "start_time": "2022-12-03T12:26:11.545Z"
   },
   {
    "duration": 13,
    "start_time": "2022-12-03T12:26:11.561Z"
   },
   {
    "duration": 12,
    "start_time": "2022-12-03T12:26:11.576Z"
   },
   {
    "duration": 11,
    "start_time": "2022-12-03T12:26:11.589Z"
   },
   {
    "duration": 9,
    "start_time": "2022-12-03T12:26:11.602Z"
   },
   {
    "duration": 16,
    "start_time": "2022-12-03T12:26:11.613Z"
   },
   {
    "duration": 11,
    "start_time": "2022-12-03T12:26:11.630Z"
   },
   {
    "duration": 20,
    "start_time": "2022-12-03T12:26:11.642Z"
   },
   {
    "duration": 13,
    "start_time": "2022-12-03T12:26:11.663Z"
   },
   {
    "duration": 200,
    "start_time": "2022-12-03T12:26:11.678Z"
   },
   {
    "duration": 11,
    "start_time": "2022-12-03T12:26:11.879Z"
   },
   {
    "duration": 10,
    "start_time": "2022-12-03T12:26:11.891Z"
   },
   {
    "duration": 14,
    "start_time": "2022-12-03T12:26:11.902Z"
   },
   {
    "duration": 9,
    "start_time": "2022-12-03T12:26:11.917Z"
   },
   {
    "duration": 7,
    "start_time": "2022-12-03T12:26:11.927Z"
   },
   {
    "duration": 6,
    "start_time": "2022-12-03T12:26:11.936Z"
   },
   {
    "duration": 10,
    "start_time": "2022-12-03T12:26:11.944Z"
   },
   {
    "duration": 6,
    "start_time": "2022-12-03T12:26:11.955Z"
   },
   {
    "duration": 8,
    "start_time": "2022-12-03T12:26:11.962Z"
   },
   {
    "duration": 23,
    "start_time": "2022-12-03T12:26:11.971Z"
   },
   {
    "duration": 3,
    "start_time": "2022-12-03T12:26:11.996Z"
   },
   {
    "duration": 20,
    "start_time": "2022-12-03T12:26:12.000Z"
   },
   {
    "duration": 7,
    "start_time": "2022-12-03T12:26:12.022Z"
   },
   {
    "duration": 150,
    "start_time": "2022-12-03T12:26:12.030Z"
   },
   {
    "duration": 9,
    "start_time": "2022-12-03T12:26:12.182Z"
   },
   {
    "duration": 3,
    "start_time": "2022-12-03T12:26:12.193Z"
   },
   {
    "duration": 9,
    "start_time": "2022-12-03T12:26:12.198Z"
   },
   {
    "duration": 6,
    "start_time": "2022-12-03T12:26:12.208Z"
   },
   {
    "duration": 8,
    "start_time": "2022-12-03T12:26:12.215Z"
   },
   {
    "duration": 5,
    "start_time": "2022-12-03T12:26:12.225Z"
   },
   {
    "duration": 3,
    "start_time": "2022-12-03T12:26:12.232Z"
   },
   {
    "duration": 4,
    "start_time": "2022-12-03T12:26:12.237Z"
   },
   {
    "duration": 5,
    "start_time": "2022-12-03T12:26:12.242Z"
   },
   {
    "duration": 6,
    "start_time": "2022-12-03T12:26:12.248Z"
   },
   {
    "duration": 6,
    "start_time": "2022-12-03T12:26:12.255Z"
   },
   {
    "duration": 15,
    "start_time": "2022-12-03T12:26:12.262Z"
   },
   {
    "duration": 14,
    "start_time": "2022-12-03T12:26:12.278Z"
   },
   {
    "duration": 18,
    "start_time": "2022-12-03T12:26:12.293Z"
   },
   {
    "duration": 10,
    "start_time": "2022-12-03T12:26:12.312Z"
   },
   {
    "duration": 13,
    "start_time": "2022-12-03T12:26:12.323Z"
   },
   {
    "duration": 11,
    "start_time": "2022-12-03T12:26:12.337Z"
   },
   {
    "duration": 23,
    "start_time": "2022-12-03T12:26:12.350Z"
   },
   {
    "duration": 14,
    "start_time": "2022-12-03T12:26:12.375Z"
   },
   {
    "duration": 1285,
    "start_time": "2022-12-03T12:26:12.394Z"
   },
   {
    "duration": 4,
    "start_time": "2022-12-03T12:26:13.681Z"
   },
   {
    "duration": 16,
    "start_time": "2022-12-03T12:26:13.686Z"
   },
   {
    "duration": 11,
    "start_time": "2022-12-03T12:26:13.703Z"
   },
   {
    "duration": 13,
    "start_time": "2022-12-03T12:26:13.715Z"
   },
   {
    "duration": 11,
    "start_time": "2022-12-03T12:26:13.730Z"
   },
   {
    "duration": 1310,
    "start_time": "2022-12-03T12:26:13.742Z"
   },
   {
    "duration": 4,
    "start_time": "2022-12-03T12:26:15.054Z"
   },
   {
    "duration": 10,
    "start_time": "2022-12-03T12:26:15.059Z"
   },
   {
    "duration": 4,
    "start_time": "2022-12-03T12:26:15.076Z"
   },
   {
    "duration": 11,
    "start_time": "2022-12-03T12:26:15.081Z"
   },
   {
    "duration": 9,
    "start_time": "2022-12-03T12:26:15.093Z"
   },
   {
    "duration": 1264,
    "start_time": "2022-12-03T12:26:15.103Z"
   },
   {
    "duration": 9,
    "start_time": "2022-12-03T12:26:16.368Z"
   },
   {
    "duration": 7,
    "start_time": "2022-12-03T12:26:16.378Z"
   },
   {
    "duration": 7,
    "start_time": "2022-12-03T12:26:16.386Z"
   },
   {
    "duration": 6,
    "start_time": "2022-12-03T12:26:16.394Z"
   },
   {
    "duration": 6,
    "start_time": "2022-12-03T12:26:16.401Z"
   },
   {
    "duration": 5,
    "start_time": "2022-12-03T12:26:41.407Z"
   },
   {
    "duration": 7,
    "start_time": "2022-12-03T12:26:57.080Z"
   },
   {
    "duration": 40,
    "start_time": "2022-12-03T12:29:47.461Z"
   },
   {
    "duration": 45,
    "start_time": "2022-12-03T12:30:04.615Z"
   },
   {
    "duration": 3,
    "start_time": "2022-12-03T12:32:26.980Z"
   },
   {
    "duration": 5,
    "start_time": "2022-12-03T12:32:40.405Z"
   },
   {
    "duration": 3,
    "start_time": "2022-12-03T12:33:17.413Z"
   },
   {
    "duration": 106,
    "start_time": "2022-12-03T12:33:39.350Z"
   },
   {
    "duration": 9,
    "start_time": "2022-12-03T12:33:47.077Z"
   },
   {
    "duration": 2,
    "start_time": "2022-12-03T12:34:01.560Z"
   },
   {
    "duration": 5,
    "start_time": "2022-12-03T12:34:02.739Z"
   },
   {
    "duration": 3,
    "start_time": "2022-12-03T12:34:11.078Z"
   },
   {
    "duration": 5,
    "start_time": "2022-12-03T12:34:11.826Z"
   },
   {
    "duration": 45,
    "start_time": "2022-12-03T12:34:20.856Z"
   },
   {
    "duration": 47,
    "start_time": "2022-12-03T12:34:30.171Z"
   },
   {
    "duration": 2,
    "start_time": "2022-12-03T12:34:49.905Z"
   },
   {
    "duration": 4,
    "start_time": "2022-12-03T12:34:51.007Z"
   },
   {
    "duration": 47,
    "start_time": "2022-12-03T12:35:56.946Z"
   },
   {
    "duration": 50,
    "start_time": "2022-12-03T12:36:07.894Z"
   },
   {
    "duration": 4,
    "start_time": "2022-12-03T12:36:18.154Z"
   },
   {
    "duration": 6,
    "start_time": "2022-12-03T12:36:26.917Z"
   },
   {
    "duration": 4,
    "start_time": "2022-12-03T12:36:32.082Z"
   },
   {
    "duration": 6,
    "start_time": "2022-12-03T12:36:32.707Z"
   },
   {
    "duration": 3,
    "start_time": "2022-12-03T12:37:27.830Z"
   },
   {
    "duration": 8,
    "start_time": "2022-12-03T12:37:28.647Z"
   },
   {
    "duration": 5,
    "start_time": "2022-12-03T12:37:34.113Z"
   },
   {
    "duration": 3,
    "start_time": "2022-12-03T12:38:34.390Z"
   },
   {
    "duration": 8,
    "start_time": "2022-12-03T12:38:35.114Z"
   },
   {
    "duration": 3,
    "start_time": "2022-12-03T12:40:21.328Z"
   },
   {
    "duration": 7,
    "start_time": "2022-12-03T12:40:21.938Z"
   },
   {
    "duration": 3,
    "start_time": "2022-12-03T12:43:29.392Z"
   },
   {
    "duration": 7,
    "start_time": "2022-12-03T12:43:30.254Z"
   },
   {
    "duration": 5,
    "start_time": "2022-12-03T12:45:51.696Z"
   },
   {
    "duration": 1106,
    "start_time": "2022-12-04T03:36:54.426Z"
   },
   {
    "duration": 1781,
    "start_time": "2022-12-04T03:36:55.533Z"
   },
   {
    "duration": 15,
    "start_time": "2022-12-04T03:36:57.315Z"
   },
   {
    "duration": 1236,
    "start_time": "2022-12-04T03:36:57.332Z"
   },
   {
    "duration": 52,
    "start_time": "2022-12-04T03:36:58.570Z"
   },
   {
    "duration": 16,
    "start_time": "2022-12-04T03:36:58.624Z"
   },
   {
    "duration": 49,
    "start_time": "2022-12-04T03:36:58.642Z"
   },
   {
    "duration": 30,
    "start_time": "2022-12-04T03:36:58.694Z"
   },
   {
    "duration": 18,
    "start_time": "2022-12-04T03:36:58.726Z"
   },
   {
    "duration": 37,
    "start_time": "2022-12-04T03:36:58.748Z"
   },
   {
    "duration": 30,
    "start_time": "2022-12-04T03:36:58.788Z"
   },
   {
    "duration": 884,
    "start_time": "2022-12-04T03:36:58.820Z"
   },
   {
    "duration": 35,
    "start_time": "2022-12-04T03:36:59.706Z"
   },
   {
    "duration": 37,
    "start_time": "2022-12-04T03:36:59.743Z"
   },
   {
    "duration": 25,
    "start_time": "2022-12-04T03:36:59.785Z"
   },
   {
    "duration": 30,
    "start_time": "2022-12-04T03:36:59.812Z"
   },
   {
    "duration": 34,
    "start_time": "2022-12-04T03:36:59.844Z"
   },
   {
    "duration": 6,
    "start_time": "2022-12-04T03:36:59.880Z"
   },
   {
    "duration": 25,
    "start_time": "2022-12-04T03:36:59.888Z"
   },
   {
    "duration": 802,
    "start_time": "2022-12-04T03:36:59.915Z"
   },
   {
    "duration": 35,
    "start_time": "2022-12-04T03:37:00.719Z"
   },
   {
    "duration": 14,
    "start_time": "2022-12-04T03:37:00.756Z"
   },
   {
    "duration": 32,
    "start_time": "2022-12-04T03:37:00.779Z"
   },
   {
    "duration": 38,
    "start_time": "2022-12-04T03:37:00.812Z"
   },
   {
    "duration": 14,
    "start_time": "2022-12-04T03:37:00.852Z"
   },
   {
    "duration": 6,
    "start_time": "2022-12-04T03:37:00.867Z"
   },
   {
    "duration": 25,
    "start_time": "2022-12-04T03:37:00.875Z"
   },
   {
    "duration": 11,
    "start_time": "2022-12-04T03:37:00.905Z"
   },
   {
    "duration": 8,
    "start_time": "2022-12-04T03:37:00.919Z"
   },
   {
    "duration": 53,
    "start_time": "2022-12-04T03:37:00.928Z"
   },
   {
    "duration": 4,
    "start_time": "2022-12-04T03:37:00.982Z"
   },
   {
    "duration": 25,
    "start_time": "2022-12-04T03:37:00.988Z"
   },
   {
    "duration": 178,
    "start_time": "2022-12-04T03:37:01.014Z"
   },
   {
    "duration": 187,
    "start_time": "2022-12-04T03:37:01.194Z"
   },
   {
    "duration": 21,
    "start_time": "2022-12-04T03:37:01.384Z"
   },
   {
    "duration": 6,
    "start_time": "2022-12-04T03:37:01.408Z"
   },
   {
    "duration": 6,
    "start_time": "2022-12-04T03:37:01.416Z"
   },
   {
    "duration": 15,
    "start_time": "2022-12-04T03:37:01.425Z"
   },
   {
    "duration": 5,
    "start_time": "2022-12-04T03:37:01.442Z"
   },
   {
    "duration": 9,
    "start_time": "2022-12-04T03:37:01.448Z"
   },
   {
    "duration": 14,
    "start_time": "2022-12-04T03:37:01.481Z"
   },
   {
    "duration": 17,
    "start_time": "2022-12-04T03:37:01.497Z"
   },
   {
    "duration": 7,
    "start_time": "2022-12-04T03:37:01.515Z"
   },
   {
    "duration": 16,
    "start_time": "2022-12-04T03:37:01.524Z"
   },
   {
    "duration": 35,
    "start_time": "2022-12-04T03:37:01.542Z"
   },
   {
    "duration": 15,
    "start_time": "2022-12-04T03:37:01.581Z"
   },
   {
    "duration": 17,
    "start_time": "2022-12-04T03:37:01.598Z"
   },
   {
    "duration": 75,
    "start_time": "2022-12-04T03:37:01.617Z"
   },
   {
    "duration": 87,
    "start_time": "2022-12-04T03:37:01.694Z"
   },
   {
    "duration": 14,
    "start_time": "2022-12-04T03:37:01.783Z"
   },
   {
    "duration": 10,
    "start_time": "2022-12-04T03:37:01.799Z"
   },
   {
    "duration": 7,
    "start_time": "2022-12-04T03:37:01.811Z"
   },
   {
    "duration": 7,
    "start_time": "2022-12-04T03:37:01.820Z"
   },
   {
    "duration": 50,
    "start_time": "2022-12-04T03:37:01.829Z"
   },
   {
    "duration": 13,
    "start_time": "2022-12-04T03:37:01.880Z"
   },
   {
    "duration": 9,
    "start_time": "2022-12-04T03:37:01.895Z"
   },
   {
    "duration": 9,
    "start_time": "2022-12-04T03:37:01.906Z"
   },
   {
    "duration": 15,
    "start_time": "2022-12-04T03:37:01.917Z"
   },
   {
    "duration": 3,
    "start_time": "2022-12-04T03:37:01.934Z"
   },
   {
    "duration": 50,
    "start_time": "2022-12-04T03:37:01.939Z"
   },
   {
    "duration": 7,
    "start_time": "2022-12-04T03:37:01.995Z"
   },
   {
    "duration": 22,
    "start_time": "2022-12-04T03:37:02.004Z"
   },
   {
    "duration": 100,
    "start_time": "2022-12-04T03:37:02.077Z"
   },
   {
    "duration": 11,
    "start_time": "2022-12-04T03:37:02.180Z"
   },
   {
    "duration": 17,
    "start_time": "2022-12-04T03:37:02.193Z"
   },
   {
    "duration": 9,
    "start_time": "2022-12-04T03:37:02.212Z"
   },
   {
    "duration": 11,
    "start_time": "2022-12-04T03:37:02.223Z"
   },
   {
    "duration": 10,
    "start_time": "2022-12-04T03:37:02.236Z"
   },
   {
    "duration": 5,
    "start_time": "2022-12-04T03:37:02.247Z"
   },
   {
    "duration": 6,
    "start_time": "2022-12-04T03:37:02.254Z"
   },
   {
    "duration": 15,
    "start_time": "2022-12-04T03:37:02.261Z"
   },
   {
    "duration": 25,
    "start_time": "2022-12-04T03:37:02.278Z"
   },
   {
    "duration": 8,
    "start_time": "2022-12-04T03:37:02.305Z"
   },
   {
    "duration": 8,
    "start_time": "2022-12-04T03:37:02.315Z"
   },
   {
    "duration": 9,
    "start_time": "2022-12-04T03:37:02.324Z"
   },
   {
    "duration": 6,
    "start_time": "2022-12-04T03:37:02.335Z"
   },
   {
    "duration": 6,
    "start_time": "2022-12-04T03:37:02.343Z"
   },
   {
    "duration": 7,
    "start_time": "2022-12-04T03:37:02.351Z"
   },
   {
    "duration": 27,
    "start_time": "2022-12-04T03:37:02.360Z"
   },
   {
    "duration": 9,
    "start_time": "2022-12-04T03:37:02.388Z"
   },
   {
    "duration": 11,
    "start_time": "2022-12-04T03:37:02.399Z"
   },
   {
    "duration": 10,
    "start_time": "2022-12-04T03:37:02.422Z"
   },
   {
    "duration": 1516,
    "start_time": "2022-12-04T03:37:02.434Z"
   },
   {
    "duration": 9,
    "start_time": "2022-12-04T03:37:03.953Z"
   },
   {
    "duration": 47,
    "start_time": "2022-12-04T03:37:03.964Z"
   },
   {
    "duration": 36,
    "start_time": "2022-12-04T03:37:04.013Z"
   },
   {
    "duration": 12,
    "start_time": "2022-12-04T03:37:04.051Z"
   },
   {
    "duration": 28,
    "start_time": "2022-12-04T03:37:04.066Z"
   },
   {
    "duration": 20,
    "start_time": "2022-12-04T03:37:04.096Z"
   },
   {
    "duration": 1453,
    "start_time": "2022-12-04T03:37:04.118Z"
   },
   {
    "duration": 9,
    "start_time": "2022-12-04T03:37:05.572Z"
   },
   {
    "duration": 38,
    "start_time": "2022-12-04T03:37:05.584Z"
   },
   {
    "duration": 28,
    "start_time": "2022-12-04T03:37:05.624Z"
   },
   {
    "duration": 37,
    "start_time": "2022-12-04T03:37:05.654Z"
   },
   {
    "duration": 22,
    "start_time": "2022-12-04T03:37:05.693Z"
   },
   {
    "duration": 1422,
    "start_time": "2022-12-04T03:37:05.717Z"
   },
   {
    "duration": 4,
    "start_time": "2022-12-04T03:37:07.142Z"
   },
   {
    "duration": 23,
    "start_time": "2022-12-04T03:37:07.149Z"
   },
   {
    "duration": 37,
    "start_time": "2022-12-04T03:37:07.174Z"
   },
   {
    "duration": 33,
    "start_time": "2022-12-04T03:37:07.212Z"
   },
   {
    "duration": 19,
    "start_time": "2022-12-04T03:37:07.247Z"
   },
   {
    "duration": 9,
    "start_time": "2022-12-04T03:38:47.991Z"
   },
   {
    "duration": 6,
    "start_time": "2022-12-04T03:39:07.934Z"
   },
   {
    "duration": 4,
    "start_time": "2022-12-04T03:41:25.640Z"
   },
   {
    "duration": 1272,
    "start_time": "2022-12-04T03:41:32.333Z"
   },
   {
    "duration": 6,
    "start_time": "2022-12-04T03:41:34.709Z"
   },
   {
    "duration": 1036,
    "start_time": "2022-12-04T03:42:27.569Z"
   },
   {
    "duration": 6,
    "start_time": "2022-12-04T03:42:29.512Z"
   },
   {
    "duration": 1002,
    "start_time": "2022-12-04T03:42:40.588Z"
   },
   {
    "duration": 6,
    "start_time": "2022-12-04T03:42:41.736Z"
   },
   {
    "duration": 3,
    "start_time": "2022-12-04T04:11:26.288Z"
   },
   {
    "duration": 12,
    "start_time": "2022-12-04T04:12:45.926Z"
   },
   {
    "duration": 6,
    "start_time": "2022-12-04T04:12:53.515Z"
   },
   {
    "duration": 4,
    "start_time": "2022-12-04T04:13:00.592Z"
   },
   {
    "duration": 4,
    "start_time": "2022-12-04T04:14:30.640Z"
   },
   {
    "duration": 4,
    "start_time": "2022-12-04T04:14:32.418Z"
   },
   {
    "duration": 2,
    "start_time": "2022-12-04T04:20:54.455Z"
   },
   {
    "duration": 5,
    "start_time": "2022-12-04T04:20:55.733Z"
   },
   {
    "duration": 4,
    "start_time": "2022-12-04T04:47:33.647Z"
   },
   {
    "duration": 144,
    "start_time": "2022-12-04T04:48:34.078Z"
   },
   {
    "duration": 4,
    "start_time": "2022-12-04T04:49:33.268Z"
   },
   {
    "duration": 6,
    "start_time": "2022-12-04T04:49:35.427Z"
   },
   {
    "duration": 4,
    "start_time": "2022-12-04T04:49:47.907Z"
   },
   {
    "duration": 6,
    "start_time": "2022-12-04T04:49:49.825Z"
   },
   {
    "duration": 4,
    "start_time": "2022-12-04T04:50:33.266Z"
   },
   {
    "duration": 6,
    "start_time": "2022-12-04T04:50:38.221Z"
   },
   {
    "duration": 4,
    "start_time": "2022-12-04T04:51:00.717Z"
   },
   {
    "duration": 5,
    "start_time": "2022-12-04T04:51:03.453Z"
   },
   {
    "duration": 20,
    "start_time": "2022-12-04T04:58:02.756Z"
   },
   {
    "duration": 6,
    "start_time": "2022-12-04T04:58:04.141Z"
   },
   {
    "duration": 12,
    "start_time": "2022-12-04T05:00:50.157Z"
   },
   {
    "duration": 5,
    "start_time": "2022-12-04T05:00:52.153Z"
   },
   {
    "duration": 5,
    "start_time": "2022-12-04T05:02:15.523Z"
   },
   {
    "duration": 7,
    "start_time": "2022-12-04T05:02:19.295Z"
   },
   {
    "duration": 7,
    "start_time": "2022-12-04T05:02:32.925Z"
   },
   {
    "duration": 5,
    "start_time": "2022-12-04T05:02:35.887Z"
   },
   {
    "duration": 5,
    "start_time": "2022-12-04T05:02:45.079Z"
   },
   {
    "duration": 5,
    "start_time": "2022-12-04T05:03:02.614Z"
   },
   {
    "duration": 7,
    "start_time": "2022-12-04T05:06:30.395Z"
   },
   {
    "duration": 89,
    "start_time": "2022-12-04T05:06:42.345Z"
   },
   {
    "duration": 5,
    "start_time": "2022-12-04T05:06:52.172Z"
   },
   {
    "duration": 5,
    "start_time": "2022-12-04T05:07:13.857Z"
   },
   {
    "duration": 5,
    "start_time": "2022-12-04T05:07:38.509Z"
   },
   {
    "duration": 5,
    "start_time": "2022-12-04T05:07:41.741Z"
   },
   {
    "duration": 1079,
    "start_time": "2022-12-04T05:10:28.323Z"
   },
   {
    "duration": 362,
    "start_time": "2022-12-04T05:10:29.404Z"
   },
   {
    "duration": 14,
    "start_time": "2022-12-04T05:10:29.768Z"
   },
   {
    "duration": 941,
    "start_time": "2022-12-04T05:10:29.783Z"
   },
   {
    "duration": 38,
    "start_time": "2022-12-04T05:10:30.727Z"
   },
   {
    "duration": 25,
    "start_time": "2022-12-04T05:10:30.766Z"
   },
   {
    "duration": 19,
    "start_time": "2022-12-04T05:10:30.793Z"
   },
   {
    "duration": 23,
    "start_time": "2022-12-04T05:10:30.813Z"
   },
   {
    "duration": 17,
    "start_time": "2022-12-04T05:10:30.837Z"
   },
   {
    "duration": 7,
    "start_time": "2022-12-04T05:10:30.878Z"
   },
   {
    "duration": 22,
    "start_time": "2022-12-04T05:10:30.886Z"
   },
   {
    "duration": 772,
    "start_time": "2022-12-04T05:10:30.910Z"
   },
   {
    "duration": 35,
    "start_time": "2022-12-04T05:10:31.684Z"
   },
   {
    "duration": 15,
    "start_time": "2022-12-04T05:10:31.721Z"
   },
   {
    "duration": 18,
    "start_time": "2022-12-04T05:10:31.737Z"
   },
   {
    "duration": 36,
    "start_time": "2022-12-04T05:10:31.757Z"
   },
   {
    "duration": 16,
    "start_time": "2022-12-04T05:10:31.795Z"
   },
   {
    "duration": 6,
    "start_time": "2022-12-04T05:10:31.813Z"
   },
   {
    "duration": 24,
    "start_time": "2022-12-04T05:10:31.821Z"
   },
   {
    "duration": 729,
    "start_time": "2022-12-04T05:10:31.847Z"
   },
   {
    "duration": 40,
    "start_time": "2022-12-04T05:10:32.578Z"
   },
   {
    "duration": 17,
    "start_time": "2022-12-04T05:10:32.620Z"
   },
   {
    "duration": 44,
    "start_time": "2022-12-04T05:10:32.639Z"
   },
   {
    "duration": 29,
    "start_time": "2022-12-04T05:10:32.685Z"
   },
   {
    "duration": 20,
    "start_time": "2022-12-04T05:10:32.716Z"
   },
   {
    "duration": 8,
    "start_time": "2022-12-04T05:10:32.738Z"
   },
   {
    "duration": 44,
    "start_time": "2022-12-04T05:10:32.748Z"
   },
   {
    "duration": 7,
    "start_time": "2022-12-04T05:10:32.794Z"
   },
   {
    "duration": 7,
    "start_time": "2022-12-04T05:10:32.802Z"
   },
   {
    "duration": 19,
    "start_time": "2022-12-04T05:10:32.810Z"
   },
   {
    "duration": 4,
    "start_time": "2022-12-04T05:10:32.830Z"
   },
   {
    "duration": 7,
    "start_time": "2022-12-04T05:10:32.836Z"
   },
   {
    "duration": 133,
    "start_time": "2022-12-04T05:10:32.844Z"
   },
   {
    "duration": 99,
    "start_time": "2022-12-04T05:10:32.980Z"
   },
   {
    "duration": 10,
    "start_time": "2022-12-04T05:10:33.081Z"
   },
   {
    "duration": 6,
    "start_time": "2022-12-04T05:10:33.093Z"
   },
   {
    "duration": 6,
    "start_time": "2022-12-04T05:10:33.101Z"
   },
   {
    "duration": 20,
    "start_time": "2022-12-04T05:10:33.109Z"
   },
   {
    "duration": 47,
    "start_time": "2022-12-04T05:10:33.131Z"
   },
   {
    "duration": 7,
    "start_time": "2022-12-04T05:10:33.180Z"
   },
   {
    "duration": 98,
    "start_time": "2022-12-04T05:10:33.192Z"
   },
   {
    "duration": 7,
    "start_time": "2022-12-04T05:10:33.292Z"
   },
   {
    "duration": 9,
    "start_time": "2022-12-04T05:10:33.301Z"
   },
   {
    "duration": 20,
    "start_time": "2022-12-04T05:10:33.312Z"
   },
   {
    "duration": 44,
    "start_time": "2022-12-04T05:10:33.334Z"
   },
   {
    "duration": 5,
    "start_time": "2022-12-04T05:10:33.381Z"
   },
   {
    "duration": 96,
    "start_time": "2022-12-04T05:10:33.388Z"
   },
   {
    "duration": 6,
    "start_time": "2022-12-04T05:10:33.486Z"
   },
   {
    "duration": 6,
    "start_time": "2022-12-04T05:10:33.493Z"
   },
   {
    "duration": 5,
    "start_time": "2022-12-04T05:10:33.501Z"
   },
   {
    "duration": 7,
    "start_time": "2022-12-04T05:10:33.508Z"
   },
   {
    "duration": 4,
    "start_time": "2022-12-04T05:10:33.517Z"
   },
   {
    "duration": 10,
    "start_time": "2022-12-04T05:10:33.523Z"
   },
   {
    "duration": 9,
    "start_time": "2022-12-04T05:10:33.535Z"
   },
   {
    "duration": 33,
    "start_time": "2022-12-04T05:10:33.546Z"
   },
   {
    "duration": 5,
    "start_time": "2022-12-04T05:10:33.581Z"
   },
   {
    "duration": 4,
    "start_time": "2022-12-04T05:10:33.588Z"
   },
   {
    "duration": 10,
    "start_time": "2022-12-04T05:10:33.594Z"
   },
   {
    "duration": 5,
    "start_time": "2022-12-04T05:10:33.606Z"
   },
   {
    "duration": 13,
    "start_time": "2022-12-04T05:10:33.613Z"
   },
   {
    "duration": 1301,
    "start_time": "2022-12-04T05:10:33.628Z"
   },
   {
    "duration": 9,
    "start_time": "2022-12-04T05:10:34.931Z"
   },
   {
    "duration": 1141,
    "start_time": "2022-12-04T05:10:34.942Z"
   },
   {
    "duration": 7,
    "start_time": "2022-12-04T05:10:36.084Z"
   },
   {
    "duration": 1064,
    "start_time": "2022-12-04T05:10:36.092Z"
   },
   {
    "duration": 6,
    "start_time": "2022-12-04T05:10:37.157Z"
   },
   {
    "duration": 1013,
    "start_time": "2022-12-04T05:21:39.305Z"
   },
   {
    "duration": 354,
    "start_time": "2022-12-04T05:21:40.319Z"
   },
   {
    "duration": 14,
    "start_time": "2022-12-04T05:21:40.675Z"
   },
   {
    "duration": 916,
    "start_time": "2022-12-04T05:21:40.692Z"
   },
   {
    "duration": 41,
    "start_time": "2022-12-04T05:21:41.610Z"
   },
   {
    "duration": 29,
    "start_time": "2022-12-04T05:21:41.653Z"
   },
   {
    "duration": 18,
    "start_time": "2022-12-04T05:21:41.683Z"
   },
   {
    "duration": 19,
    "start_time": "2022-12-04T05:21:41.702Z"
   },
   {
    "duration": 17,
    "start_time": "2022-12-04T05:21:41.723Z"
   },
   {
    "duration": 5,
    "start_time": "2022-12-04T05:21:41.742Z"
   },
   {
    "duration": 34,
    "start_time": "2022-12-04T05:21:41.749Z"
   },
   {
    "duration": 713,
    "start_time": "2022-12-04T05:21:41.785Z"
   },
   {
    "duration": 34,
    "start_time": "2022-12-04T05:21:42.499Z"
   },
   {
    "duration": 13,
    "start_time": "2022-12-04T05:21:42.535Z"
   },
   {
    "duration": 33,
    "start_time": "2022-12-04T05:21:42.550Z"
   },
   {
    "duration": 21,
    "start_time": "2022-12-04T05:21:42.585Z"
   },
   {
    "duration": 16,
    "start_time": "2022-12-04T05:21:42.608Z"
   },
   {
    "duration": 17,
    "start_time": "2022-12-04T05:21:42.625Z"
   },
   {
    "duration": 33,
    "start_time": "2022-12-04T05:21:42.643Z"
   },
   {
    "duration": 647,
    "start_time": "2022-12-04T05:21:42.677Z"
   },
   {
    "duration": 32,
    "start_time": "2022-12-04T05:21:43.326Z"
   },
   {
    "duration": 28,
    "start_time": "2022-12-04T05:21:43.359Z"
   },
   {
    "duration": 18,
    "start_time": "2022-12-04T05:21:43.388Z"
   },
   {
    "duration": 24,
    "start_time": "2022-12-04T05:21:43.408Z"
   },
   {
    "duration": 19,
    "start_time": "2022-12-04T05:21:43.434Z"
   },
   {
    "duration": 14,
    "start_time": "2022-12-04T05:21:43.455Z"
   },
   {
    "duration": 31,
    "start_time": "2022-12-04T05:21:43.471Z"
   },
   {
    "duration": 14,
    "start_time": "2022-12-04T05:21:43.506Z"
   },
   {
    "duration": 18,
    "start_time": "2022-12-04T05:21:43.522Z"
   },
   {
    "duration": 27,
    "start_time": "2022-12-04T05:21:43.541Z"
   },
   {
    "duration": 4,
    "start_time": "2022-12-04T05:21:43.569Z"
   },
   {
    "duration": 24,
    "start_time": "2022-12-04T05:21:43.575Z"
   },
   {
    "duration": 16,
    "start_time": "2022-12-04T05:21:43.601Z"
   },
   {
    "duration": 62,
    "start_time": "2022-12-04T05:21:43.619Z"
   },
   {
    "duration": 94,
    "start_time": "2022-12-04T05:21:43.684Z"
   },
   {
    "duration": 7,
    "start_time": "2022-12-04T05:21:43.780Z"
   },
   {
    "duration": 9,
    "start_time": "2022-12-04T05:21:43.789Z"
   },
   {
    "duration": 18,
    "start_time": "2022-12-04T05:21:43.800Z"
   },
   {
    "duration": 13,
    "start_time": "2022-12-04T05:21:43.820Z"
   },
   {
    "duration": 8,
    "start_time": "2022-12-04T05:21:43.879Z"
   },
   {
    "duration": 104,
    "start_time": "2022-12-04T05:21:43.889Z"
   },
   {
    "duration": 7,
    "start_time": "2022-12-04T05:21:43.995Z"
   },
   {
    "duration": 13,
    "start_time": "2022-12-04T05:21:44.004Z"
   },
   {
    "duration": 24,
    "start_time": "2022-12-04T05:21:44.019Z"
   },
   {
    "duration": 33,
    "start_time": "2022-12-04T05:21:44.045Z"
   },
   {
    "duration": 6,
    "start_time": "2022-12-04T05:21:44.080Z"
   },
   {
    "duration": 101,
    "start_time": "2022-12-04T05:21:44.087Z"
   },
   {
    "duration": 4,
    "start_time": "2022-12-04T05:21:44.190Z"
   },
   {
    "duration": 4,
    "start_time": "2022-12-04T05:21:44.196Z"
   },
   {
    "duration": 6,
    "start_time": "2022-12-04T05:21:44.202Z"
   },
   {
    "duration": 6,
    "start_time": "2022-12-04T05:21:44.209Z"
   },
   {
    "duration": 4,
    "start_time": "2022-12-04T05:21:44.216Z"
   },
   {
    "duration": 8,
    "start_time": "2022-12-04T05:21:44.279Z"
   },
   {
    "duration": 7,
    "start_time": "2022-12-04T05:21:44.289Z"
   },
   {
    "duration": 5,
    "start_time": "2022-12-04T05:21:44.297Z"
   },
   {
    "duration": 5,
    "start_time": "2022-12-04T05:21:44.303Z"
   },
   {
    "duration": 4,
    "start_time": "2022-12-04T05:21:44.309Z"
   },
   {
    "duration": 7,
    "start_time": "2022-12-04T05:21:44.315Z"
   },
   {
    "duration": 7,
    "start_time": "2022-12-04T05:21:44.324Z"
   },
   {
    "duration": 8,
    "start_time": "2022-12-04T05:21:44.332Z"
   },
   {
    "duration": 1092,
    "start_time": "2022-12-04T05:21:44.341Z"
   },
   {
    "duration": 7,
    "start_time": "2022-12-04T05:21:45.435Z"
   },
   {
    "duration": 1077,
    "start_time": "2022-12-04T05:21:45.443Z"
   },
   {
    "duration": 6,
    "start_time": "2022-12-04T05:21:46.522Z"
   },
   {
    "duration": 1064,
    "start_time": "2022-12-04T05:21:46.530Z"
   },
   {
    "duration": 6,
    "start_time": "2022-12-04T05:21:47.596Z"
   },
   {
    "duration": 1052,
    "start_time": "2022-12-04T05:30:54.268Z"
   },
   {
    "duration": 2,
    "start_time": "2022-12-04T05:30:55.322Z"
   },
   {
    "duration": 5,
    "start_time": "2022-12-04T05:30:55.326Z"
   },
   {
    "duration": 4,
    "start_time": "2022-12-04T05:30:55.333Z"
   },
   {
    "duration": 6,
    "start_time": "2022-12-04T05:30:55.339Z"
   },
   {
    "duration": 8,
    "start_time": "2022-12-04T05:30:55.346Z"
   },
   {
    "duration": 376,
    "start_time": "2022-12-04T05:30:55.355Z"
   },
   {
    "duration": 19,
    "start_time": "2022-12-04T05:30:55.733Z"
   },
   {
    "duration": 952,
    "start_time": "2022-12-04T05:30:55.754Z"
   },
   {
    "duration": 40,
    "start_time": "2022-12-04T05:30:56.710Z"
   },
   {
    "duration": 29,
    "start_time": "2022-12-04T05:30:56.752Z"
   },
   {
    "duration": 19,
    "start_time": "2022-12-04T05:30:56.783Z"
   },
   {
    "duration": 19,
    "start_time": "2022-12-04T05:30:56.804Z"
   },
   {
    "duration": 16,
    "start_time": "2022-12-04T05:30:56.825Z"
   },
   {
    "duration": 6,
    "start_time": "2022-12-04T05:30:56.843Z"
   },
   {
    "duration": 40,
    "start_time": "2022-12-04T05:30:56.850Z"
   },
   {
    "duration": 819,
    "start_time": "2022-12-04T05:30:56.892Z"
   },
   {
    "duration": 87,
    "start_time": "2022-12-04T05:30:57.713Z"
   },
   {
    "duration": 14,
    "start_time": "2022-12-04T05:30:57.802Z"
   },
   {
    "duration": 76,
    "start_time": "2022-12-04T05:30:57.817Z"
   },
   {
    "duration": 25,
    "start_time": "2022-12-04T05:30:57.895Z"
   },
   {
    "duration": 71,
    "start_time": "2022-12-04T05:30:57.922Z"
   },
   {
    "duration": 7,
    "start_time": "2022-12-04T05:30:57.995Z"
   },
   {
    "duration": 21,
    "start_time": "2022-12-04T05:30:58.004Z"
   },
   {
    "duration": 1433,
    "start_time": "2022-12-04T05:30:58.079Z"
   },
   {
    "duration": 69,
    "start_time": "2022-12-04T05:30:59.513Z"
   },
   {
    "duration": 19,
    "start_time": "2022-12-04T05:30:59.583Z"
   },
   {
    "duration": 46,
    "start_time": "2022-12-04T05:30:59.607Z"
   },
   {
    "duration": 36,
    "start_time": "2022-12-04T05:30:59.654Z"
   },
   {
    "duration": 23,
    "start_time": "2022-12-04T05:30:59.692Z"
   },
   {
    "duration": 6,
    "start_time": "2022-12-04T05:30:59.717Z"
   },
   {
    "duration": 14,
    "start_time": "2022-12-04T05:30:59.725Z"
   },
   {
    "duration": 7,
    "start_time": "2022-12-04T05:30:59.741Z"
   },
   {
    "duration": 7,
    "start_time": "2022-12-04T05:30:59.750Z"
   },
   {
    "duration": 17,
    "start_time": "2022-12-04T05:30:59.778Z"
   },
   {
    "duration": 4,
    "start_time": "2022-12-04T05:30:59.796Z"
   },
   {
    "duration": 23,
    "start_time": "2022-12-04T05:30:59.802Z"
   },
   {
    "duration": 25,
    "start_time": "2022-12-04T05:30:59.826Z"
   },
   {
    "duration": 37,
    "start_time": "2022-12-04T05:30:59.856Z"
   },
   {
    "duration": 9,
    "start_time": "2022-12-04T05:30:59.979Z"
   },
   {
    "duration": 6,
    "start_time": "2022-12-04T05:30:59.990Z"
   },
   {
    "duration": 12,
    "start_time": "2022-12-04T05:30:59.998Z"
   },
   {
    "duration": 22,
    "start_time": "2022-12-04T05:31:00.012Z"
   },
   {
    "duration": 43,
    "start_time": "2022-12-04T05:31:00.035Z"
   },
   {
    "duration": 7,
    "start_time": "2022-12-04T05:31:00.080Z"
   },
   {
    "duration": 116,
    "start_time": "2022-12-04T05:31:00.088Z"
   },
   {
    "duration": 24,
    "start_time": "2022-12-04T05:31:00.206Z"
   },
   {
    "duration": 42,
    "start_time": "2022-12-04T05:31:00.232Z"
   },
   {
    "duration": 37,
    "start_time": "2022-12-04T05:31:00.275Z"
   },
   {
    "duration": 64,
    "start_time": "2022-12-04T05:31:00.314Z"
   },
   {
    "duration": 110,
    "start_time": "2022-12-04T05:31:00.380Z"
   },
   {
    "duration": 29,
    "start_time": "2022-12-04T05:31:00.492Z"
   },
   {
    "duration": 32,
    "start_time": "2022-12-04T05:31:00.523Z"
   },
   {
    "duration": 50,
    "start_time": "2022-12-04T05:31:00.556Z"
   },
   {
    "duration": 17,
    "start_time": "2022-12-04T05:31:00.608Z"
   },
   {
    "duration": 27,
    "start_time": "2022-12-04T05:31:00.626Z"
   },
   {
    "duration": 16,
    "start_time": "2022-12-04T05:31:00.655Z"
   },
   {
    "duration": 30,
    "start_time": "2022-12-04T05:31:00.673Z"
   },
   {
    "duration": 14,
    "start_time": "2022-12-04T05:31:00.705Z"
   },
   {
    "duration": 22,
    "start_time": "2022-12-04T05:31:00.721Z"
   },
   {
    "duration": 1113,
    "start_time": "2022-12-04T05:31:00.745Z"
   },
   {
    "duration": 8,
    "start_time": "2022-12-04T05:31:01.860Z"
   },
   {
    "duration": 1085,
    "start_time": "2022-12-04T05:31:01.878Z"
   },
   {
    "duration": 15,
    "start_time": "2022-12-04T05:31:02.964Z"
   },
   {
    "duration": 1148,
    "start_time": "2022-12-04T05:31:02.981Z"
   },
   {
    "duration": 7,
    "start_time": "2022-12-04T05:31:04.131Z"
   },
   {
    "duration": 53,
    "start_time": "2022-12-04T05:32:42.040Z"
   },
   {
    "duration": 265,
    "start_time": "2022-12-04T05:33:38.166Z"
   },
   {
    "duration": 115,
    "start_time": "2022-12-04T05:34:05.054Z"
   },
   {
    "duration": 422,
    "start_time": "2022-12-04T05:34:11.473Z"
   },
   {
    "duration": 354,
    "start_time": "2022-12-04T05:34:46.440Z"
   },
   {
    "duration": 300,
    "start_time": "2022-12-04T05:34:53.169Z"
   },
   {
    "duration": 354,
    "start_time": "2022-12-04T05:35:40.798Z"
   },
   {
    "duration": 302,
    "start_time": "2022-12-04T05:37:46.304Z"
   },
   {
    "duration": 406,
    "start_time": "2022-12-04T05:38:03.642Z"
   },
   {
    "duration": 307,
    "start_time": "2022-12-04T05:38:29.898Z"
   },
   {
    "duration": 1359,
    "start_time": "2022-12-04T05:43:07.308Z"
   },
   {
    "duration": 2,
    "start_time": "2022-12-04T05:43:08.669Z"
   },
   {
    "duration": 7,
    "start_time": "2022-12-04T05:43:08.672Z"
   },
   {
    "duration": 6,
    "start_time": "2022-12-04T05:43:08.682Z"
   },
   {
    "duration": 5,
    "start_time": "2022-12-04T05:43:08.690Z"
   },
   {
    "duration": 16,
    "start_time": "2022-12-04T05:43:08.697Z"
   },
   {
    "duration": 385,
    "start_time": "2022-12-04T05:43:08.715Z"
   },
   {
    "duration": 14,
    "start_time": "2022-12-04T05:43:09.102Z"
   },
   {
    "duration": 740,
    "start_time": "2022-12-04T05:43:09.118Z"
   },
   {
    "duration": 43,
    "start_time": "2022-12-04T05:43:09.860Z"
   },
   {
    "duration": 316,
    "start_time": "2022-12-04T05:43:09.904Z"
   },
   {
    "duration": 19,
    "start_time": "2022-12-04T05:43:10.221Z"
   },
   {
    "duration": 19,
    "start_time": "2022-12-04T05:43:10.241Z"
   },
   {
    "duration": 39,
    "start_time": "2022-12-04T05:43:10.262Z"
   },
   {
    "duration": 14,
    "start_time": "2022-12-04T05:43:10.303Z"
   },
   {
    "duration": 26,
    "start_time": "2022-12-04T05:43:10.319Z"
   },
   {
    "duration": 779,
    "start_time": "2022-12-04T05:43:10.347Z"
   },
   {
    "duration": 36,
    "start_time": "2022-12-04T05:43:11.128Z"
   },
   {
    "duration": 334,
    "start_time": "2022-12-04T05:43:11.166Z"
   },
   {
    "duration": 19,
    "start_time": "2022-12-04T05:43:11.502Z"
   },
   {
    "duration": 20,
    "start_time": "2022-12-04T05:43:11.522Z"
   },
   {
    "duration": 14,
    "start_time": "2022-12-04T05:43:11.544Z"
   },
   {
    "duration": 23,
    "start_time": "2022-12-04T05:43:11.559Z"
   },
   {
    "duration": 16,
    "start_time": "2022-12-04T05:43:11.584Z"
   },
   {
    "duration": 766,
    "start_time": "2022-12-04T05:43:11.602Z"
   },
   {
    "duration": 47,
    "start_time": "2022-12-04T05:43:12.370Z"
   },
   {
    "duration": 374,
    "start_time": "2022-12-04T05:43:12.418Z"
   },
   {
    "duration": 21,
    "start_time": "2022-12-04T05:43:12.796Z"
   },
   {
    "duration": 52,
    "start_time": "2022-12-04T05:43:12.819Z"
   },
   {
    "duration": 18,
    "start_time": "2022-12-04T05:43:12.874Z"
   },
   {
    "duration": 30,
    "start_time": "2022-12-04T05:43:12.893Z"
   },
   {
    "duration": 34,
    "start_time": "2022-12-04T05:43:12.925Z"
   },
   {
    "duration": 9,
    "start_time": "2022-12-04T05:43:12.961Z"
   },
   {
    "duration": 17,
    "start_time": "2022-12-04T05:43:12.972Z"
   },
   {
    "duration": 15,
    "start_time": "2022-12-04T05:43:12.991Z"
   },
   {
    "duration": 4,
    "start_time": "2022-12-04T05:43:13.008Z"
   },
   {
    "duration": 8,
    "start_time": "2022-12-04T05:43:13.013Z"
   },
   {
    "duration": 25,
    "start_time": "2022-12-04T05:43:13.022Z"
   },
   {
    "duration": 137,
    "start_time": "2022-12-04T05:43:13.048Z"
   },
   {
    "duration": 13,
    "start_time": "2022-12-04T05:43:13.187Z"
   },
   {
    "duration": 9,
    "start_time": "2022-12-04T05:43:13.202Z"
   },
   {
    "duration": 14,
    "start_time": "2022-12-04T05:43:13.213Z"
   },
   {
    "duration": 20,
    "start_time": "2022-12-04T05:43:13.229Z"
   },
   {
    "duration": 28,
    "start_time": "2022-12-04T05:43:13.251Z"
   },
   {
    "duration": 97,
    "start_time": "2022-12-04T05:43:13.281Z"
   },
   {
    "duration": 21,
    "start_time": "2022-12-04T05:43:13.380Z"
   },
   {
    "duration": 6,
    "start_time": "2022-12-04T05:43:13.404Z"
   },
   {
    "duration": 69,
    "start_time": "2022-12-04T05:43:13.412Z"
   },
   {
    "duration": 20,
    "start_time": "2022-12-04T05:43:13.483Z"
   },
   {
    "duration": 14,
    "start_time": "2022-12-04T05:43:13.505Z"
   },
   {
    "duration": 68,
    "start_time": "2022-12-04T05:43:13.521Z"
   },
   {
    "duration": 93,
    "start_time": "2022-12-04T05:43:13.591Z"
   },
   {
    "duration": 10,
    "start_time": "2022-12-04T05:43:13.686Z"
   },
   {
    "duration": 9,
    "start_time": "2022-12-04T05:43:13.697Z"
   },
   {
    "duration": 5,
    "start_time": "2022-12-04T05:43:13.708Z"
   },
   {
    "duration": 10,
    "start_time": "2022-12-04T05:43:13.715Z"
   },
   {
    "duration": 5,
    "start_time": "2022-12-04T05:43:13.727Z"
   },
   {
    "duration": 6,
    "start_time": "2022-12-04T05:43:13.734Z"
   },
   {
    "duration": 36,
    "start_time": "2022-12-04T05:43:13.742Z"
   },
   {
    "duration": 4,
    "start_time": "2022-12-04T05:43:13.780Z"
   },
   {
    "duration": 1268,
    "start_time": "2022-12-04T05:43:13.786Z"
   },
   {
    "duration": 8,
    "start_time": "2022-12-04T05:43:15.056Z"
   },
   {
    "duration": 1264,
    "start_time": "2022-12-04T05:43:15.066Z"
   },
   {
    "duration": 6,
    "start_time": "2022-12-04T05:43:16.332Z"
   },
   {
    "duration": 1024,
    "start_time": "2022-12-04T05:43:16.340Z"
   },
   {
    "duration": 12,
    "start_time": "2022-12-04T05:43:17.366Z"
   },
   {
    "duration": 1852,
    "start_time": "2022-12-04T08:49:32.547Z"
   },
   {
    "duration": 2,
    "start_time": "2022-12-04T08:49:34.401Z"
   },
   {
    "duration": 7,
    "start_time": "2022-12-04T08:49:34.405Z"
   },
   {
    "duration": 4,
    "start_time": "2022-12-04T08:49:34.414Z"
   },
   {
    "duration": 7,
    "start_time": "2022-12-04T08:49:34.419Z"
   },
   {
    "duration": 8,
    "start_time": "2022-12-04T08:49:34.428Z"
   },
   {
    "duration": 597,
    "start_time": "2022-12-04T08:49:34.437Z"
   },
   {
    "duration": 15,
    "start_time": "2022-12-04T08:49:35.036Z"
   },
   {
    "duration": 728,
    "start_time": "2022-12-04T08:49:35.053Z"
   },
   {
    "duration": 51,
    "start_time": "2022-12-04T08:49:35.783Z"
   },
   {
    "duration": 441,
    "start_time": "2022-12-04T08:49:35.835Z"
   },
   {
    "duration": 22,
    "start_time": "2022-12-04T08:49:36.278Z"
   },
   {
    "duration": 20,
    "start_time": "2022-12-04T08:49:36.302Z"
   },
   {
    "duration": 19,
    "start_time": "2022-12-04T08:49:36.324Z"
   },
   {
    "duration": 10,
    "start_time": "2022-12-04T08:49:36.345Z"
   },
   {
    "duration": 16,
    "start_time": "2022-12-04T08:49:36.357Z"
   },
   {
    "duration": 779,
    "start_time": "2022-12-04T08:49:36.396Z"
   },
   {
    "duration": 50,
    "start_time": "2022-12-04T08:49:37.177Z"
   },
   {
    "duration": 337,
    "start_time": "2022-12-04T08:49:37.228Z"
   },
   {
    "duration": 29,
    "start_time": "2022-12-04T08:49:37.567Z"
   },
   {
    "duration": 15,
    "start_time": "2022-12-04T08:49:37.598Z"
   },
   {
    "duration": 16,
    "start_time": "2022-12-04T08:49:37.614Z"
   },
   {
    "duration": 6,
    "start_time": "2022-12-04T08:49:37.631Z"
   },
   {
    "duration": 22,
    "start_time": "2022-12-04T08:49:37.638Z"
   },
   {
    "duration": 728,
    "start_time": "2022-12-04T08:49:37.661Z"
   },
   {
    "duration": 35,
    "start_time": "2022-12-04T08:49:38.396Z"
   },
   {
    "duration": 310,
    "start_time": "2022-12-04T08:49:38.433Z"
   },
   {
    "duration": 18,
    "start_time": "2022-12-04T08:49:38.747Z"
   },
   {
    "duration": 28,
    "start_time": "2022-12-04T08:49:38.767Z"
   },
   {
    "duration": 15,
    "start_time": "2022-12-04T08:49:38.797Z"
   },
   {
    "duration": 8,
    "start_time": "2022-12-04T08:49:38.814Z"
   },
   {
    "duration": 13,
    "start_time": "2022-12-04T08:49:38.823Z"
   },
   {
    "duration": 6,
    "start_time": "2022-12-04T08:49:38.838Z"
   },
   {
    "duration": 10,
    "start_time": "2022-12-04T08:49:38.845Z"
   },
   {
    "duration": 18,
    "start_time": "2022-12-04T08:49:38.856Z"
   },
   {
    "duration": 3,
    "start_time": "2022-12-04T08:49:38.876Z"
   },
   {
    "duration": 17,
    "start_time": "2022-12-04T08:49:38.880Z"
   },
   {
    "duration": 103,
    "start_time": "2022-12-04T08:49:38.899Z"
   },
   {
    "duration": 99,
    "start_time": "2022-12-04T08:49:39.005Z"
   },
   {
    "duration": 10,
    "start_time": "2022-12-04T08:49:39.106Z"
   },
   {
    "duration": 7,
    "start_time": "2022-12-04T08:49:39.117Z"
   },
   {
    "duration": 18,
    "start_time": "2022-12-04T08:49:39.126Z"
   },
   {
    "duration": 53,
    "start_time": "2022-12-04T08:49:39.145Z"
   },
   {
    "duration": 13,
    "start_time": "2022-12-04T08:49:39.200Z"
   },
   {
    "duration": 82,
    "start_time": "2022-12-04T08:49:39.215Z"
   },
   {
    "duration": 107,
    "start_time": "2022-12-04T08:49:39.303Z"
   },
   {
    "duration": 9,
    "start_time": "2022-12-04T08:49:39.412Z"
   },
   {
    "duration": 8,
    "start_time": "2022-12-04T08:49:39.422Z"
   },
   {
    "duration": 18,
    "start_time": "2022-12-04T08:49:39.431Z"
   },
   {
    "duration": 45,
    "start_time": "2022-12-04T08:49:39.451Z"
   },
   {
    "duration": 99,
    "start_time": "2022-12-04T08:49:39.498Z"
   },
   {
    "duration": 4,
    "start_time": "2022-12-04T08:49:39.599Z"
   },
   {
    "duration": 6,
    "start_time": "2022-12-04T08:49:39.604Z"
   },
   {
    "duration": 7,
    "start_time": "2022-12-04T08:49:39.612Z"
   },
   {
    "duration": 4,
    "start_time": "2022-12-04T08:49:39.621Z"
   },
   {
    "duration": 8,
    "start_time": "2022-12-04T08:49:39.626Z"
   },
   {
    "duration": 4,
    "start_time": "2022-12-04T08:49:39.636Z"
   },
   {
    "duration": 5,
    "start_time": "2022-12-04T08:49:39.642Z"
   },
   {
    "duration": 5,
    "start_time": "2022-12-04T08:49:39.649Z"
   },
   {
    "duration": 7,
    "start_time": "2022-12-04T08:49:39.655Z"
   },
   {
    "duration": 1174,
    "start_time": "2022-12-04T08:49:39.663Z"
   },
   {
    "duration": 6,
    "start_time": "2022-12-04T08:49:40.839Z"
   },
   {
    "duration": 1111,
    "start_time": "2022-12-04T08:49:40.847Z"
   },
   {
    "duration": 6,
    "start_time": "2022-12-04T08:49:41.959Z"
   },
   {
    "duration": 1107,
    "start_time": "2022-12-04T08:49:41.966Z"
   },
   {
    "duration": 6,
    "start_time": "2022-12-04T08:49:43.075Z"
   },
   {
    "duration": 48,
    "start_time": "2022-12-04T14:02:08.619Z"
   }
  ],
  "kernelspec": {
   "display_name": "Python 3 (ipykernel)",
   "language": "python",
   "name": "python3"
  },
  "language_info": {
   "codemirror_mode": {
    "name": "ipython",
    "version": 3
   },
   "file_extension": ".py",
   "mimetype": "text/x-python",
   "name": "python",
   "nbconvert_exporter": "python",
   "pygments_lexer": "ipython3",
   "version": "3.9.12"
  },
  "toc": {
   "base_numbering": 1,
   "nav_menu": {},
   "number_sections": true,
   "sideBar": true,
   "skip_h1_title": true,
   "title_cell": "Table of Contents",
   "title_sidebar": "Contents",
   "toc_cell": false,
   "toc_position": {
    "height": "calc(100% - 180px)",
    "left": "10px",
    "top": "150px",
    "width": "249.075px"
   },
   "toc_section_display": true,
   "toc_window_display": true
  }
 },
 "nbformat": 4,
 "nbformat_minor": 2
}
